{
 "cells": [
  {
   "cell_type": "markdown",
   "metadata": {},
   "source": [
    "<div style=\"border:solid Chocolate 2px; padding: 40px\">\n",
    " \n",
    "<b> Андрей, привет!👋</b>  \n",
    "\n",
    "Меня зовут Кирилл Васильев, я буду ревьюером твоего проекта. Я предлагаю общаться на «ты», но если привычнее на «вы», просто скажи об этом! \n",
    "\n",
    "Я буду оставлять комментарии в твоем проекте. Пожалуйста, не удаляй их, они могут быть полезны в случае повторной проверки.\n",
    "\n",
    "Свои комментарии я буду обозначать <font color='green'>зеленым</font>, <font color='gold'>желтым</font> и <font color='red'>красным</font> цветами, например:\n",
    "  \n",
    "<br/>\n",
    "\n",
    "<div class=\"alert alert-success\">\n",
    "<h2> Комментарий ревьюера <a class=\"tocSkip\"> </h2>\n",
    "\n",
    "<b>Все отлично!👍:</b> В случае, если решение на отдельном шаге является полностью правильным. Здесь же я могу давать советы и предложения.\n",
    "</div>\n",
    "\n",
    "<br/>\n",
    "\n",
    "<div class=\"alert alert-warning\">\n",
    "    <h2> Комментарий ревьюера <a class=\"tocSkip\"> </h2>\n",
    "    \n",
    "<b>Некоторые замечания и рекомендации💡:</b> В случае, когда решение на отдельном шаге станет еще лучше, если внести небольшие коррективы.\n",
    "</div>\n",
    "\n",
    "\n",
    "<br/>\n",
    "<div class=\"alert alert-block alert-danger\">\n",
    "<h2> Комментарий ревьюера <a class=\"tocSkip\"></h2>\n",
    "\n",
    "    \n",
    "<b>На доработку🤔:</b>\n",
    " В случае, когда решение на отдельном шаге требует существенной переработки и внесения правок. Напоминаю, что проект не может быть принят с первого раза, если ревью содержит комментарии, рекомендующие доработать шаги.\n",
    "</div>\n",
    "\n",
    "\n",
    "    <br/>\n",
    "<div class=\"alert alert-info\">\n",
    "Рекомендую для твоих комментариев использовать синий или любой другой цветной фон. Я постараюсь ничего не пропустить, но если комментарии будут выделены, то это мне очень поможет!\n",
    "</div>\n",
    "Увидев у тебя неточность, в первый раз я лишь укажу на ее наличие и дам тебе возможность самостоятельно найти и исправить ее. На реальной работе твой руководитель будет поступать также. Но если ты пока не справишься с такой задачей - при следующей проверке я дам более точную подсказку."
   ]
  },
  {
   "cell_type": "markdown",
   "metadata": {
    "toc": true
   },
   "source": [
    "<h1>Содержание<span class=\"tocSkip\"></span></h1>\n",
    "<div class=\"toc\"><ul class=\"toc-item\"><li><span><a href=\"#Подготовка-данных\" data-toc-modified-id=\"Подготовка-данных-1\"><span class=\"toc-item-num\">1&nbsp;&nbsp;</span>Подготовка данных</a></span></li><li><span><a href=\"#Исследование-задачи\" data-toc-modified-id=\"Исследование-задачи-2\"><span class=\"toc-item-num\">2&nbsp;&nbsp;</span>Исследование задачи</a></span></li><li><span><a href=\"#Борьба-с-дисбалансом\" data-toc-modified-id=\"Борьба-с-дисбалансом-3\"><span class=\"toc-item-num\">3&nbsp;&nbsp;</span>Борьба с дисбалансом</a></span></li><li><span><a href=\"#Тестирование-модели\" data-toc-modified-id=\"Тестирование-модели-4\"><span class=\"toc-item-num\">4&nbsp;&nbsp;</span>Тестирование модели</a></span></li><li><span><a href=\"#Чек-лист-готовности-проекта\" data-toc-modified-id=\"Чек-лист-готовности-проекта-5\"><span class=\"toc-item-num\">5&nbsp;&nbsp;</span>Чек-лист готовности проекта</a></span></li></ul></div>"
   ]
  },
  {
   "cell_type": "markdown",
   "metadata": {},
   "source": [
    "# Отток клиентов"
   ]
  },
  {
   "cell_type": "markdown",
   "metadata": {},
   "source": [
    "Из «Бета-Банка» стали уходить клиенты. Каждый месяц. Немного, но заметно. Банковские маркетологи посчитали: сохранять текущих клиентов дешевле, чем привлекать новых.\n",
    "\n",
    "Нужно спрогнозировать, уйдёт клиент из банка в ближайшее время или нет. Вам предоставлены исторические данные о поведении клиентов и расторжении договоров с банком. \n",
    "\n",
    "Постройте модель с предельно большим значением *F1*-меры. Чтобы сдать проект успешно, нужно довести метрику до 0.59. Проверьте *F1*-меру на тестовой выборке самостоятельно.\n",
    "\n",
    "Дополнительно измеряйте *AUC-ROC*, сравнивайте её значение с *F1*-мерой.\n",
    "\n",
    "Источник данных: [https://www.kaggle.com/barelydedicated/bank-customer-churn-modeling](https://www.kaggle.com/barelydedicated/bank-customer-churn-modeling)"
   ]
  },
  {
   "cell_type": "markdown",
   "metadata": {},
   "source": [
    "## Подготовка данных"
   ]
  },
  {
   "cell_type": "code",
   "execution_count": 1,
   "metadata": {},
   "outputs": [],
   "source": [
    "import pandas as pd\n",
    "import numpy as np\n",
    "import matplotlib.pyplot as plt\n",
    "from sklearn.model_selection import train_test_split, GridSearchCV\n",
    "from sklearn.tree import DecisionTreeClassifier\n",
    "from sklearn.ensemble import RandomForestClassifier\n",
    "from sklearn.linear_model import LogisticRegression\n",
    "from sklearn.preprocessing import StandardScaler\n",
    "from sklearn.metrics import f1_score, roc_auc_score \n",
    "from sklearn.utils import shuffle"
   ]
  },
  {
   "cell_type": "code",
   "execution_count": 2,
   "metadata": {},
   "outputs": [],
   "source": [
    "df = pd.read_csv('/datasets/Churn.csv')"
   ]
  },
  {
   "cell_type": "code",
   "execution_count": 3,
   "metadata": {},
   "outputs": [
    {
     "data": {
      "text/html": [
       "<div>\n",
       "<style scoped>\n",
       "    .dataframe tbody tr th:only-of-type {\n",
       "        vertical-align: middle;\n",
       "    }\n",
       "\n",
       "    .dataframe tbody tr th {\n",
       "        vertical-align: top;\n",
       "    }\n",
       "\n",
       "    .dataframe thead th {\n",
       "        text-align: right;\n",
       "    }\n",
       "</style>\n",
       "<table border=\"1\" class=\"dataframe\">\n",
       "  <thead>\n",
       "    <tr style=\"text-align: right;\">\n",
       "      <th></th>\n",
       "      <th>RowNumber</th>\n",
       "      <th>CustomerId</th>\n",
       "      <th>Surname</th>\n",
       "      <th>CreditScore</th>\n",
       "      <th>Geography</th>\n",
       "      <th>Gender</th>\n",
       "      <th>Age</th>\n",
       "      <th>Tenure</th>\n",
       "      <th>Balance</th>\n",
       "      <th>NumOfProducts</th>\n",
       "      <th>HasCrCard</th>\n",
       "      <th>IsActiveMember</th>\n",
       "      <th>EstimatedSalary</th>\n",
       "      <th>Exited</th>\n",
       "    </tr>\n",
       "  </thead>\n",
       "  <tbody>\n",
       "    <tr>\n",
       "      <th>0</th>\n",
       "      <td>1</td>\n",
       "      <td>15634602</td>\n",
       "      <td>Hargrave</td>\n",
       "      <td>619</td>\n",
       "      <td>France</td>\n",
       "      <td>Female</td>\n",
       "      <td>42</td>\n",
       "      <td>2.0</td>\n",
       "      <td>0.00</td>\n",
       "      <td>1</td>\n",
       "      <td>1</td>\n",
       "      <td>1</td>\n",
       "      <td>101348.88</td>\n",
       "      <td>1</td>\n",
       "    </tr>\n",
       "    <tr>\n",
       "      <th>1</th>\n",
       "      <td>2</td>\n",
       "      <td>15647311</td>\n",
       "      <td>Hill</td>\n",
       "      <td>608</td>\n",
       "      <td>Spain</td>\n",
       "      <td>Female</td>\n",
       "      <td>41</td>\n",
       "      <td>1.0</td>\n",
       "      <td>83807.86</td>\n",
       "      <td>1</td>\n",
       "      <td>0</td>\n",
       "      <td>1</td>\n",
       "      <td>112542.58</td>\n",
       "      <td>0</td>\n",
       "    </tr>\n",
       "    <tr>\n",
       "      <th>2</th>\n",
       "      <td>3</td>\n",
       "      <td>15619304</td>\n",
       "      <td>Onio</td>\n",
       "      <td>502</td>\n",
       "      <td>France</td>\n",
       "      <td>Female</td>\n",
       "      <td>42</td>\n",
       "      <td>8.0</td>\n",
       "      <td>159660.80</td>\n",
       "      <td>3</td>\n",
       "      <td>1</td>\n",
       "      <td>0</td>\n",
       "      <td>113931.57</td>\n",
       "      <td>1</td>\n",
       "    </tr>\n",
       "    <tr>\n",
       "      <th>3</th>\n",
       "      <td>4</td>\n",
       "      <td>15701354</td>\n",
       "      <td>Boni</td>\n",
       "      <td>699</td>\n",
       "      <td>France</td>\n",
       "      <td>Female</td>\n",
       "      <td>39</td>\n",
       "      <td>1.0</td>\n",
       "      <td>0.00</td>\n",
       "      <td>2</td>\n",
       "      <td>0</td>\n",
       "      <td>0</td>\n",
       "      <td>93826.63</td>\n",
       "      <td>0</td>\n",
       "    </tr>\n",
       "    <tr>\n",
       "      <th>4</th>\n",
       "      <td>5</td>\n",
       "      <td>15737888</td>\n",
       "      <td>Mitchell</td>\n",
       "      <td>850</td>\n",
       "      <td>Spain</td>\n",
       "      <td>Female</td>\n",
       "      <td>43</td>\n",
       "      <td>2.0</td>\n",
       "      <td>125510.82</td>\n",
       "      <td>1</td>\n",
       "      <td>1</td>\n",
       "      <td>1</td>\n",
       "      <td>79084.10</td>\n",
       "      <td>0</td>\n",
       "    </tr>\n",
       "  </tbody>\n",
       "</table>\n",
       "</div>"
      ],
      "text/plain": [
       "   RowNumber  CustomerId   Surname  CreditScore Geography  Gender  Age  \\\n",
       "0          1    15634602  Hargrave          619    France  Female   42   \n",
       "1          2    15647311      Hill          608     Spain  Female   41   \n",
       "2          3    15619304      Onio          502    France  Female   42   \n",
       "3          4    15701354      Boni          699    France  Female   39   \n",
       "4          5    15737888  Mitchell          850     Spain  Female   43   \n",
       "\n",
       "   Tenure    Balance  NumOfProducts  HasCrCard  IsActiveMember  \\\n",
       "0     2.0       0.00              1          1               1   \n",
       "1     1.0   83807.86              1          0               1   \n",
       "2     8.0  159660.80              3          1               0   \n",
       "3     1.0       0.00              2          0               0   \n",
       "4     2.0  125510.82              1          1               1   \n",
       "\n",
       "   EstimatedSalary  Exited  \n",
       "0        101348.88       1  \n",
       "1        112542.58       0  \n",
       "2        113931.57       1  \n",
       "3         93826.63       0  \n",
       "4         79084.10       0  "
      ]
     },
     "execution_count": 3,
     "metadata": {},
     "output_type": "execute_result"
    }
   ],
   "source": [
    "df.head()"
   ]
  },
  {
   "cell_type": "code",
   "execution_count": 4,
   "metadata": {},
   "outputs": [
    {
     "name": "stdout",
     "output_type": "stream",
     "text": [
      "<class 'pandas.core.frame.DataFrame'>\n",
      "RangeIndex: 10000 entries, 0 to 9999\n",
      "Data columns (total 14 columns):\n",
      " #   Column           Non-Null Count  Dtype  \n",
      "---  ------           --------------  -----  \n",
      " 0   RowNumber        10000 non-null  int64  \n",
      " 1   CustomerId       10000 non-null  int64  \n",
      " 2   Surname          10000 non-null  object \n",
      " 3   CreditScore      10000 non-null  int64  \n",
      " 4   Geography        10000 non-null  object \n",
      " 5   Gender           10000 non-null  object \n",
      " 6   Age              10000 non-null  int64  \n",
      " 7   Tenure           9091 non-null   float64\n",
      " 8   Balance          10000 non-null  float64\n",
      " 9   NumOfProducts    10000 non-null  int64  \n",
      " 10  HasCrCard        10000 non-null  int64  \n",
      " 11  IsActiveMember   10000 non-null  int64  \n",
      " 12  EstimatedSalary  10000 non-null  float64\n",
      " 13  Exited           10000 non-null  int64  \n",
      "dtypes: float64(3), int64(8), object(3)\n",
      "memory usage: 1.1+ MB\n"
     ]
    }
   ],
   "source": [
    "df.info()"
   ]
  },
  {
   "cell_type": "code",
   "execution_count": 5,
   "metadata": {},
   "outputs": [
    {
     "data": {
      "image/png": "[encoded data removed]",
      "text/plain": [
       "<Figure size 720x720 with 12 Axes>"
      ]
     },
     "metadata": {
      "needs_background": "light"
     },
     "output_type": "display_data"
    }
   ],
   "source": [
    "df.hist(figsize=(10, 10));"
   ]
  },
  {
   "cell_type": "code",
   "execution_count": 6,
   "metadata": {},
   "outputs": [
    {
     "data": {
      "text/plain": [
       "RowNumber            0\n",
       "CustomerId           0\n",
       "Surname              0\n",
       "CreditScore          0\n",
       "Geography            0\n",
       "Gender               0\n",
       "Age                  0\n",
       "Tenure             909\n",
       "Balance              0\n",
       "NumOfProducts        0\n",
       "HasCrCard            0\n",
       "IsActiveMember       0\n",
       "EstimatedSalary      0\n",
       "Exited               0\n",
       "dtype: int64"
      ]
     },
     "execution_count": 6,
     "metadata": {},
     "output_type": "execute_result"
    }
   ],
   "source": [
    "df.isna().sum()"
   ]
  },
  {
   "cell_type": "markdown",
   "metadata": {},
   "source": [
    "<div class=\"alert alert-success\">\n",
    "<h2> Комментарий ревьюера <a class=\"tocSkip\"> </h2>\n",
    " \n",
    "👍 По импортам и загрузке все отлично.\n",
    "</div>  \n"
   ]
  },
  {
   "cell_type": "code",
   "execution_count": 7,
   "metadata": {},
   "outputs": [],
   "source": [
    "# Заполняем пропуски медианным значением.\n",
    "df['Tenure'] = df['Tenure'].fillna(df['Tenure'].median())"
   ]
  },
  {
   "cell_type": "markdown",
   "metadata": {},
   "source": [
    "<div class=\"alert alert-success\">\n",
    "<h2> Комментарий ревьюера <a class=\"tocSkip\"> </h2>\n",
    "\n",
    "👍 Отлично. \n",
    "</div>\n",
    "  \n"
   ]
  },
  {
   "cell_type": "code",
   "execution_count": 8,
   "metadata": {},
   "outputs": [
    {
     "data": {
      "text/plain": [
       "0"
      ]
     },
     "execution_count": 8,
     "metadata": {},
     "output_type": "execute_result"
    }
   ],
   "source": [
    "# Проверяем на явные дубликаты.\n",
    "df.duplicated().sum()"
   ]
  },
  {
   "cell_type": "code",
   "execution_count": 9,
   "metadata": {},
   "outputs": [],
   "source": [
    "# Изменим тип данных на нужный. \n",
    "df['Tenure'] = df['Tenure'].astype('Int64', errors='ignore')"
   ]
  },
  {
   "cell_type": "markdown",
   "metadata": {},
   "source": [
    "## Исследование задачи"
   ]
  },
  {
   "cell_type": "code",
   "execution_count": 10,
   "metadata": {},
   "outputs": [
    {
     "name": "stdout",
     "output_type": "stream",
     "text": [
      "0    0.7963\n",
      "1    0.2037\n",
      "Name: Exited, dtype: float64\n"
     ]
    },
    {
     "data": {
      "text/plain": [
       "Text(0.5, 1.0, 'Баланс классов')"
      ]
     },
     "execution_count": 10,
     "metadata": {},
     "output_type": "execute_result"
    },
    {
     "data": {
      "image/png": "[encoded data removed]",
      "text/plain": [
       "<Figure size 432x288 with 1 Axes>"
      ]
     },
     "metadata": {
      "needs_background": "light"
     },
     "output_type": "display_data"
    }
   ],
   "source": [
    "# Исследуем баланс классов.\n",
    "class_frequency = df['Exited'].value_counts(normalize=True) \n",
    "print(class_frequency)\n",
    "class_frequency.plot(kind='bar');\n",
    "plt.title('Баланс классов')"
   ]
  },
  {
   "cell_type": "markdown",
   "metadata": {},
   "source": [
    "<div class=\"alert alert-warning\">\n",
    "<h2><s> Комментарий ревьюера <a class=\"tocSkip\"> </h2>\n",
    "    \n",
    "<b>Некоторые замечания и рекомендации💡:</b> \n",
    "\n",
    "Графики в проекте нужно подписать.\n",
    "       \n",
    "</div> "
   ]
  },
  {
   "cell_type": "markdown",
   "metadata": {},
   "source": [
    "Можно наблюдать дисбаланс классов. Классы несбалансированны, когда их соотношение далеко от 1:1. Баланс классов (англ. class balance) наблюдается, если их количество примерно равно. Обучим модель без учёта дисбаланса. "
   ]
  },
  {
   "cell_type": "markdown",
   "metadata": {},
   "source": [
    "<div class=\"alert alert-success\">\n",
    "<h2> Комментарий ревьюера <a class=\"tocSkip\"> </h2>\n",
    "\n",
    "👍 Можем более конкретно зафиксировать, что дисбаланс 1:4.\n",
    "</div>\n",
    "  "
   ]
  },
  {
   "cell_type": "code",
   "execution_count": 11,
   "metadata": {},
   "outputs": [
    {
     "data": {
      "text/plain": [
       "CreditScore            int64\n",
       "Age                    int64\n",
       "Tenure                 Int64\n",
       "Balance              float64\n",
       "NumOfProducts          int64\n",
       "HasCrCard              int64\n",
       "IsActiveMember         int64\n",
       "EstimatedSalary      float64\n",
       "Exited                 int64\n",
       "Geography_Germany      uint8\n",
       "Geography_Spain        uint8\n",
       "Gender_Male            uint8\n",
       "dtype: object"
      ]
     },
     "execution_count": 11,
     "metadata": {},
     "output_type": "execute_result"
    }
   ],
   "source": [
    "data_ohe = pd.get_dummies(df.drop(['RowNumber', 'CustomerId', 'Surname'], axis=1), drop_first=True)\n",
    "data_ohe.dtypes"
   ]
  },
  {
   "cell_type": "markdown",
   "metadata": {},
   "source": [
    "<div class=\"alert alert-success\">\n",
    "<h2> Комментарий ревьюера <a class=\"tocSkip\"> </h2>\n",
    "\n",
    "👍 Согласен. В дамми-ловушку не попались. Здесь все-таки по коду чуть правильнее сначала удалить ненужные колонки, а потом сделать энкодинг. «Матрешки» не считаются бест-практикой.\n",
    "</div>"
   ]
  },
  {
   "cell_type": "markdown",
   "metadata": {},
   "source": [
    "<div class=\"alert alert-warning\">\n",
    "<h2> Комментарий ревьюера <a class=\"tocSkip\"> </h2>\n",
    "    \n",
    "<b>Некоторые замечания и рекомендации💡:</b> \n",
    "\n",
    "В тренажере давался пример использования прямого кодирования с помощью get_dummies, однако это далеко не самый оптимальный вариант. Он подходит для анализа данных, но в машинном обучении может служить причиной ошибок при обучении моделей.\n",
    "    \n",
    "Можно использовать класс <a href=\"https://scikit-learn.org/stable/modules/generated/sklearn.preprocessing.OneHotEncoder.html\">OHE из sklearn</a>. Он точно понадобится в будущих проектах, можно потренироваться сейчас. \n",
    "\n",
    "Практикум подготовил инструкцию, как использовать OHE: https://colab.research.google.com/drive/1_gAMXcQKoCShB_l8FNtYEejMnosm9mvt?usp=sharing \n",
    "\n",
    "А теперь замечания «под звездочкой»:\n",
    "\n",
    "Есть загвоздка, что нам нужно будет одновременно использовать параметры drop='first' и handle_unknown='ignore’.  в OHE, а на платформе такое сочетание может выдавать ошибку (в части случаев). Если ошибка появляется, необходимо загрузить нужную версию сайкит-лерна. Для этого:\n",
    "\n",
    "1. В отдельной строке в самом начале проекта запускаем такую команду:\n",
    " `!pip install scikit-learn==1.1.3`\n",
    "     \n",
    "2. Находим в меню юпитера кнопку `Kernel`, нажимаем и выбираем Restart&Run all \n",
    "\n",
    "\n",
    "И сразу уточню, что OHE мы используем уже после разделения выборок на обучающую, валидационную и тестовую. Обучаем на трейне, применяем ко всем. Кодируем после разбиения по аналогии с масштабированием. Посмотреть поподробнее также <a href=\"https://stackoverflow.com/questions/55525195/do-i-have-to-do-one-hot-encoding-separately-for-train-and-test-dataset\">можно здесь</a> .\n",
    "      \n",
    "</div> \n"
   ]
  },
  {
   "cell_type": "code",
   "execution_count": 12,
   "metadata": {},
   "outputs": [
    {
     "data": {
      "text/plain": [
       "(6000, 11)"
      ]
     },
     "metadata": {},
     "output_type": "display_data"
    },
    {
     "data": {
      "text/plain": [
       "(2000, 11)"
      ]
     },
     "metadata": {},
     "output_type": "display_data"
    },
    {
     "data": {
      "text/plain": [
       "(2000, 11)"
      ]
     },
     "metadata": {},
     "output_type": "display_data"
    },
    {
     "data": {
      "text/plain": [
       "(6000,)"
      ]
     },
     "metadata": {},
     "output_type": "display_data"
    },
    {
     "data": {
      "text/plain": [
       "(2000,)"
      ]
     },
     "metadata": {},
     "output_type": "display_data"
    },
    {
     "data": {
      "text/plain": [
       "(2000,)"
      ]
     },
     "execution_count": 12,
     "metadata": {},
     "output_type": "execute_result"
    }
   ],
   "source": [
    "# Разбиваем данные на тренировочную, валидационную и тестовую выбоку в пропорции 3:1:1 и проверяем результат.\n",
    "features = data_ohe.drop(['Exited'], axis=1)\n",
    "target = data_ohe['Exited']\n",
    "features_train, features_test, target_train, target_test = train_test_split(features, target, test_size=0.20, \\\n",
    "                                                                            random_state=12345)\n",
    "features_train, features_valid, target_train, target_valid = train_test_split(features_train, target_train, test_size=0.25, \\\n",
    "                                                                            random_state=12345)\n",
    "display(features_train.shape)\n",
    "display(features_valid.shape)\n",
    "display(features_test.shape)\n",
    "display(target_train.shape)\n",
    "display(target_valid.shape)\n",
    "target_test.shape"
   ]
  },
  {
   "cell_type": "markdown",
   "metadata": {},
   "source": [
    "<div class=\"alert alert-success\">\n",
    "<h2> Комментарий ревьюера <a class=\"tocSkip\"> </h2>\n",
    "\n",
    "👍 С разбиением на выборки согласен. \n",
    "</div>\n"
   ]
  },
  {
   "cell_type": "code",
   "execution_count": 48,
   "metadata": {},
   "outputs": [
    {
     "data": {
      "text/html": [
       "<div>\n",
       "<style scoped>\n",
       "    .dataframe tbody tr th:only-of-type {\n",
       "        vertical-align: middle;\n",
       "    }\n",
       "\n",
       "    .dataframe tbody tr th {\n",
       "        vertical-align: top;\n",
       "    }\n",
       "\n",
       "    .dataframe thead th {\n",
       "        text-align: right;\n",
       "    }\n",
       "</style>\n",
       "<table border=\"1\" class=\"dataframe\">\n",
       "  <thead>\n",
       "    <tr style=\"text-align: right;\">\n",
       "      <th></th>\n",
       "      <th>CreditScore</th>\n",
       "      <th>Age</th>\n",
       "      <th>Tenure</th>\n",
       "      <th>Balance</th>\n",
       "      <th>NumOfProducts</th>\n",
       "      <th>HasCrCard</th>\n",
       "      <th>IsActiveMember</th>\n",
       "      <th>EstimatedSalary</th>\n",
       "      <th>Geography_Germany</th>\n",
       "      <th>Geography_Spain</th>\n",
       "      <th>Gender_Male</th>\n",
       "    </tr>\n",
       "  </thead>\n",
       "  <tbody>\n",
       "    <tr>\n",
       "      <th>492</th>\n",
       "      <td>-0.134048</td>\n",
       "      <td>-0.078068</td>\n",
       "      <td>-0.369113</td>\n",
       "      <td>0.076163</td>\n",
       "      <td>0.816929</td>\n",
       "      <td>-1.550255</td>\n",
       "      <td>0.968496</td>\n",
       "      <td>0.331571</td>\n",
       "      <td>-0.579146</td>\n",
       "      <td>-0.576837</td>\n",
       "      <td>-1.103311</td>\n",
       "    </tr>\n",
       "    <tr>\n",
       "      <th>6655</th>\n",
       "      <td>-1.010798</td>\n",
       "      <td>0.494555</td>\n",
       "      <td>-0.007415</td>\n",
       "      <td>0.136391</td>\n",
       "      <td>-0.896909</td>\n",
       "      <td>0.645055</td>\n",
       "      <td>0.968496</td>\n",
       "      <td>-0.727858</td>\n",
       "      <td>-0.579146</td>\n",
       "      <td>-0.576837</td>\n",
       "      <td>0.906363</td>\n",
       "    </tr>\n",
       "    <tr>\n",
       "      <th>4287</th>\n",
       "      <td>0.639554</td>\n",
       "      <td>1.353490</td>\n",
       "      <td>-1.454209</td>\n",
       "      <td>0.358435</td>\n",
       "      <td>-0.896909</td>\n",
       "      <td>0.645055</td>\n",
       "      <td>0.968496</td>\n",
       "      <td>-0.477006</td>\n",
       "      <td>1.726679</td>\n",
       "      <td>-0.576837</td>\n",
       "      <td>0.906363</td>\n",
       "    </tr>\n",
       "    <tr>\n",
       "      <th>42</th>\n",
       "      <td>-0.990168</td>\n",
       "      <td>2.116987</td>\n",
       "      <td>-1.092511</td>\n",
       "      <td>0.651725</td>\n",
       "      <td>-0.896909</td>\n",
       "      <td>0.645055</td>\n",
       "      <td>0.968496</td>\n",
       "      <td>-0.100232</td>\n",
       "      <td>-0.579146</td>\n",
       "      <td>-0.576837</td>\n",
       "      <td>-1.103311</td>\n",
       "    </tr>\n",
       "    <tr>\n",
       "      <th>8178</th>\n",
       "      <td>0.567351</td>\n",
       "      <td>0.685430</td>\n",
       "      <td>0.715982</td>\n",
       "      <td>0.813110</td>\n",
       "      <td>0.816929</td>\n",
       "      <td>0.645055</td>\n",
       "      <td>0.968496</td>\n",
       "      <td>0.801922</td>\n",
       "      <td>-0.579146</td>\n",
       "      <td>-0.576837</td>\n",
       "      <td>-1.103311</td>\n",
       "    </tr>\n",
       "  </tbody>\n",
       "</table>\n",
       "</div>"
      ],
      "text/plain": [
       "      CreditScore       Age    Tenure   Balance  NumOfProducts  HasCrCard  \\\n",
       "492     -0.134048 -0.078068 -0.369113  0.076163       0.816929  -1.550255   \n",
       "6655    -1.010798  0.494555 -0.007415  0.136391      -0.896909   0.645055   \n",
       "4287     0.639554  1.353490 -1.454209  0.358435      -0.896909   0.645055   \n",
       "42      -0.990168  2.116987 -1.092511  0.651725      -0.896909   0.645055   \n",
       "8178     0.567351  0.685430  0.715982  0.813110       0.816929   0.645055   \n",
       "\n",
       "      IsActiveMember  EstimatedSalary  Geography_Germany  Geography_Spain  \\\n",
       "492         0.968496         0.331571          -0.579146        -0.576837   \n",
       "6655        0.968496        -0.727858          -0.579146        -0.576837   \n",
       "4287        0.968496        -0.477006           1.726679        -0.576837   \n",
       "42          0.968496        -0.100232          -0.579146        -0.576837   \n",
       "8178        0.968496         0.801922          -0.579146        -0.576837   \n",
       "\n",
       "      Gender_Male  \n",
       "492     -1.103311  \n",
       "6655     0.906363  \n",
       "4287     0.906363  \n",
       "42      -1.103311  \n",
       "8178    -1.103311  "
      ]
     },
     "metadata": {},
     "output_type": "display_data"
    }
   ],
   "source": [
    "scaler = StandardScaler()\n",
    "\n",
    "numeric = ['CreditScore', 'Age', 'Tenure', 'Balance', 'NumOfProducts', 'HasCrCard', 'IsActiveMember', 'EstimatedSalary',\n",
    "           'Geography_Germany', 'Geography_Spain', 'Gender_Male']\n",
    "\n",
    "scaler.fit(features_train[numeric]) \n",
    "features_train[numeric] = scaler.transform(features_train[numeric]) \n",
    "features_valid[numeric] = scaler.transform(features_valid[numeric])\n",
    "features_test[numeric] = scaler.transform(features_test[numeric])\n",
    "pd.options.mode.chained_assignment = None\n",
    "display(features_train.head())"
   ]
  },
  {
   "cell_type": "markdown",
   "metadata": {},
   "source": [
    "<div class=\"alert alert-success\">\n",
    "<h2> Комментарий ревьюера <a class=\"tocSkip\"> </h2>\n",
    "\n",
    "👍 Отлично. Я бы убрал предупреждения. `warnings.filterwarnings('ignore')` после `import warnings`. \n",
    "    \n",
    "`pd.options.mode.chained_assignment = None` - тоже подойдет, но нужно сделать до кода.\n",
    "    \n",
    "Если выводить таблицу не через print(), а через display(), будет удобнее все воспринимать.\n",
    "</div>\n"
   ]
  },
  {
   "cell_type": "code",
   "execution_count": 14,
   "metadata": {},
   "outputs": [],
   "source": [
    "# # Подберем гиперпараметры для модели дерева решений.\n",
    "# model = DecisionTreeClassifier()\n",
    "# parametrs = { 'max_depth': range (1,13, 2),\n",
    "#               'min_samples_leaf': range (1,8),\n",
    "#               'min_samples_split': range (2,10,2) }\n",
    "\n",
    "# grid = GridSearchCV(model, parametrs, cv=5)\n",
    "# grid.fit(features_train, target_train)\n",
    "# # Выводим результат:\n",
    "# grid.best_params_"
   ]
  },
  {
   "cell_type": "code",
   "execution_count": 15,
   "metadata": {},
   "outputs": [
    {
     "name": "stdout",
     "output_type": "stream",
     "text": [
      "max_depth = 1 : 0.0\n",
      "max_depth = 3 : 0.39382239382239387\n",
      "max_depth = 5 : 0.5488372093023256\n",
      "max_depth = 7 : 0.5583596214511041\n",
      "max_depth = 9 : 0.5357142857142857\n",
      "max_depth = 11 : 0.5131964809384164\n",
      "min_samples_leaf = 1 : 0.48387096774193544\n",
      "min_samples_leaf = 2 : 0.5067024128686327\n",
      "min_samples_leaf = 3 : 0.5117493472584856\n",
      "min_samples_leaf = 4 : 0.5434173669467787\n",
      "min_samples_leaf = 5 : 0.5362517099863201\n",
      "min_samples_leaf = 6 : 0.5397727272727272\n",
      "min_samples_leaf = 7 : 0.5335195530726258\n",
      "min_samples_split = 2 : 0.48387096774193544\n",
      "min_samples_split = 4 : 0.4846153846153846\n",
      "min_samples_split = 6 : 0.5045045045045045\n",
      "min_samples_split = 8 : 0.5116279069767442\n"
     ]
    }
   ],
   "source": [
    "# Подберем гиперпараметры с помощью циклов.\n",
    "for depth in range(1,13, 2):\n",
    "    model = DecisionTreeClassifier(random_state=12345, max_depth=depth)\n",
    "    model.fit(features_train, target_train)\n",
    "    predictions_valid = model.predict(features_valid)\n",
    "    print('max_depth =', depth, ': ', end='')\n",
    "    print(f1_score(target_valid, predictions_valid))\n",
    "for leaf in range(1, 8):\n",
    "    model = DecisionTreeClassifier(random_state=12345, min_samples_leaf=leaf)\n",
    "    model.fit(features_train, target_train)\n",
    "    predictions_valid = model.predict(features_valid)\n",
    "    print('min_samples_leaf =', leaf, ': ', end='')\n",
    "    print(f1_score(target_valid, predictions_valid))\n",
    "for split in range(2,10,2):\n",
    "    model = DecisionTreeClassifier(random_state=12345, min_samples_split=split)\n",
    "    model.fit(features_train, target_train)\n",
    "    predictions_valid = model.predict(features_valid)\n",
    "    print('min_samples_split =', split, ': ', end='')\n",
    "    print(f1_score(target_valid, predictions_valid))"
   ]
  },
  {
   "cell_type": "markdown",
   "metadata": {},
   "source": [
    "<br/>\n",
    "<div class=\"alert alert-info\">\n",
    "Наши гиперпараметры: max_depth = 7, min_samples_leaf = 4, min_samples_split = 8\n",
    "</div>\n"
   ]
  },
  {
   "cell_type": "markdown",
   "metadata": {},
   "source": [
    "\n",
    "<div class=\"alert alert-warning\">\n",
    "<h2> Комментарий ревьюера  #2 <a class=\"tocSkip\"> </h2>\n",
    "    \n",
    "<b>Некоторые замечания и рекомендации💡:</b> \n",
    "\n",
    "Tут есть нюанс, что хорошо бы перебирать с вложенными циклами, тогда мы перебирем все комбинации и найдем лучшую. Сейчас же ты просто перебираешь сначала один параметр, потом следующий итд. При этом оптимальный один параметр может в сочетании вместе с оптимальным другим работать плохо.\n",
    "    \n",
    "`for est in range(10, 151, 10):\n",
    "    for depth in range(1, 16):\n",
    "        model = RandomForestClassifier(random_state=12345, n_estimators=est, max_depth=depth)`\n",
    "   \n",
    "Такой вариант предпочтетельнее.\n",
    "       \n",
    "</div>\n"
   ]
  },
  {
   "cell_type": "markdown",
   "metadata": {},
   "source": [
    "<div class=\"alert alert-block alert-danger\">\n",
    "<h2><s> Комментарий ревьюера <a class=\"tocSkip\"></h2>\n",
    "  \n",
    "<b>На доработку🤔:</b>\n",
    "\n",
    "В этом проекте, к сожалению, использование GridSearchCV будет не везде хорошим решением. Например, его нельзя использовать с апсемплингом, так как у нас утекут признаки из одной выборки в другую (фактически обучаться и валидироваться будем на одних данных).\n",
    "    \n",
    "Также при использовании кросс-валидации нам не стоит отдельно выделять валидационную выборку - она уже заложена в самом алгоритме кросс-валидации. Подробнее можно почитать здесь: https://habr.com/ru/company/ods/blog/322534/ \n",
    "    \n",
    "Ну и при апсемплинге и кросс-валидации мы неминуемо апсемплируем и тренировочную, и валидацинную выборки. То же самое и с даунсемплингом. Остается только применять взвешенные классы. А по заданию нам важно посмотреть минимум две методики. Поэтому как не крути − придется заменить кросс-валидацию подбором гиперпараметров в цикле.\n",
    "    \n",
    "Кросс-валидация будет часто встречаться в последующих проектах, где она будет смотреться отлично. \n",
    "    \n",
    "***\n",
    "    \n",
    "Кроме того, если делаем кросс-валидацию, нужно определить скорер - метрику, по которой оптимизируемся. По умолчанию там accuracy, нам она не подходит.\n",
    "       \n",
    "</div>"
   ]
  },
  {
   "cell_type": "markdown",
   "metadata": {},
   "source": [
    "Оптимальные параметры: {'max_depth': 5, 'min_samples_leaf': 2, 'min_samples_split': 8}"
   ]
  },
  {
   "cell_type": "code",
   "execution_count": 16,
   "metadata": {},
   "outputs": [
    {
     "data": {
      "text/plain": [
       "0.5583596214511041"
      ]
     },
     "execution_count": 16,
     "metadata": {},
     "output_type": "execute_result"
    }
   ],
   "source": [
    "# Cоздание и обучение модели дерева решений для задачи классификации.\n",
    "model = DecisionTreeClassifier(max_depth=7, min_samples_leaf=4, min_samples_split=8, random_state=12345) \n",
    "model.fit(features_train, target_train) \n",
    "# Проверим F1-меру на валидационной выборке\n",
    "predictions = model.predict(features_valid)\n",
    "f1 = f1_score(target_valid, predictions)\n",
    "f1"
   ]
  },
  {
   "cell_type": "code",
   "execution_count": 17,
   "metadata": {},
   "outputs": [],
   "source": [
    "# Подберем гиперпараметры для модели случайного леса.\n",
    "# model_2 = RandomForestClassifier()\n",
    "# parametrs = { 'n_estimators': range (10, 51, 10),\n",
    "#               'max_depth': range (1,13, 2),\n",
    "#               'min_samples_leaf': range (1,8),\n",
    "#               'min_samples_split': range (2,10,2) }\n",
    "\n",
    "# grid = GridSearchCV(model_2, parametrs, cv=5)\n",
    "# grid.fit(features_train, target_train)\n",
    "# # Выводим результат:\n",
    "# grid.best_params_"
   ]
  },
  {
   "cell_type": "code",
   "execution_count": 18,
   "metadata": {},
   "outputs": [
    {
     "name": "stdout",
     "output_type": "stream",
     "text": [
      "max_depth = 1 : 0.0\n",
      "max_depth = 3 : 0.25165562913907286\n",
      "max_depth = 5 : 0.45283018867924535\n",
      "max_depth = 7 : 0.5223367697594501\n",
      "max_depth = 9 : 0.5433333333333333\n",
      "max_depth = 11 : 0.5451559934318554\n",
      "min_samples_leaf = 1 : 0.5596184419713831\n",
      "min_samples_leaf = 2 : 0.5436893203883495\n",
      "min_samples_leaf = 3 : 0.5528455284552846\n",
      "min_samples_leaf = 4 : 0.5526315789473684\n",
      "min_samples_leaf = 5 : 0.549342105263158\n",
      "min_samples_leaf = 6 : 0.5531914893617021\n",
      "min_samples_leaf = 7 : 0.5478547854785478\n",
      "min_samples_split = 2 : 0.5596184419713831\n",
      "min_samples_split = 4 : 0.5457463884430176\n",
      "min_samples_split = 6 : 0.5457463884430176\n",
      "min_samples_split = 8 : 0.5509554140127388\n",
      "n_estimators = 10 : 0.5197368421052632\n",
      "n_estimators = 20 : 0.5369774919614148\n",
      "n_estimators = 30 : 0.5451612903225806\n",
      "n_estimators = 40 : 0.5564387917329093\n",
      "n_estimators = 50 : 0.554140127388535\n",
      "n_estimators = 60 : 0.5530546623794211\n",
      "n_estimators = 70 : 0.5559105431309904\n",
      "n_estimators = 80 : 0.5550239234449761\n",
      "n_estimators = 90 : 0.5573248407643312\n",
      "n_estimators = 100 : 0.5596184419713831\n"
     ]
    }
   ],
   "source": [
    "# Подберем гиперпараметры с помощью циклов.\n",
    "for depth in range(1,13, 2):\n",
    "    model = RandomForestClassifier(random_state=12345, max_depth=depth)\n",
    "    model.fit(features_train, target_train)\n",
    "    predictions_valid = model.predict(features_valid)\n",
    "    print('max_depth =', depth, ': ', end='')\n",
    "    print(f1_score(target_valid, predictions_valid))\n",
    "for leaf in range(1, 8):\n",
    "    model = RandomForestClassifier(random_state=12345, min_samples_leaf=leaf)\n",
    "    model.fit(features_train, target_train)\n",
    "    predictions_valid = model.predict(features_valid)\n",
    "    print('min_samples_leaf =', leaf, ': ', end='')\n",
    "    print(f1_score(target_valid, predictions_valid))\n",
    "for split in range(2,10,2):\n",
    "    model = RandomForestClassifier(random_state=12345, min_samples_split=split)\n",
    "    model.fit(features_train, target_train)\n",
    "    predictions_valid = model.predict(features_valid)\n",
    "    print('min_samples_split =', split, ': ', end='')\n",
    "    print(f1_score(target_valid, predictions_valid))\n",
    "for estim in range(10,101,10):\n",
    "    model = RandomForestClassifier(random_state=12345, n_estimators=estim)\n",
    "    model.fit(features_train, target_train)\n",
    "    predictions_valid = model.predict(features_valid)\n",
    "    print('n_estimators =', estim, ': ', end='')\n",
    "    print(f1_score(target_valid, predictions_valid))"
   ]
  },
  {
   "cell_type": "markdown",
   "metadata": {},
   "source": [
    "<br/>\n",
    "<div class=\"alert alert-info\">\n",
    "Оптимальные параметры: {'max_depth': 11,\n",
    " 'min_samples_leaf': 3,\n",
    " 'min_samples_split': 8,\n",
    " 'n_estimators': 50}\n",
    "</div>"
   ]
  },
  {
   "cell_type": "code",
   "execution_count": 19,
   "metadata": {},
   "outputs": [
    {
     "data": {
      "text/plain": [
       "0.5544554455445545"
      ]
     },
     "execution_count": 19,
     "metadata": {},
     "output_type": "execute_result"
    }
   ],
   "source": [
    "# Создание и обучение модели случайного леса. .\n",
    "model_2 = RandomForestClassifier(max_depth=11, min_samples_leaf=3, min_samples_split=8, n_estimators=50, random_state=12345)\n",
    "model_2.fit(features_train, target_train)\n",
    "# Проверим F1-меру на валидационной выборке\n",
    "predictions_2 = model_2.predict(features_valid)\n",
    "f1 = f1_score(target_valid, predictions_2)\n",
    "f1"
   ]
  },
  {
   "cell_type": "code",
   "execution_count": 20,
   "metadata": {},
   "outputs": [],
   "source": [
    "# Подберем гиперпараметры для модели логистической регрессии.\n",
    "# model_3 = LogisticRegression()\n",
    "# parametrs = {'C': [0.001, 0.01, 0.1, 1, 10, 100, 1000] }\n",
    "\n",
    "# grid = GridSearchCV(model_3, parametrs, cv=10)\n",
    "# grid.fit(features_train, target_train)\n",
    "# # Выводим результат:\n",
    "# grid.best_params_"
   ]
  },
  {
   "cell_type": "code",
   "execution_count": 21,
   "metadata": {},
   "outputs": [
    {
     "name": "stdout",
     "output_type": "stream",
     "text": [
      "C = 0.001 : 0.015189873417721518\n",
      "C = 0.01 : 0.24242424242424243\n",
      "C = 0.1 : 0.30131826741996237\n",
      "C = 1 : 0.30131826741996237\n",
      "C = 10 : 0.30451127819548873\n",
      "C = 100 : 0.30451127819548873\n",
      "C = 1000 : 0.30451127819548873\n"
     ]
    }
   ],
   "source": [
    "# Подберем гиперпараметры с помощью циклов.\n",
    "for c in [0.001, 0.01, 0.1, 1, 10, 100, 1000]:\n",
    "    model = LogisticRegression(random_state=12345, C=c)\n",
    "    model.fit(features_train, target_train)\n",
    "    predictions_valid = model.predict(features_valid)\n",
    "    print('C =', c, ': ', end='')\n",
    "    print(f1_score(target_valid, predictions_valid))"
   ]
  },
  {
   "cell_type": "markdown",
   "metadata": {},
   "source": [
    "Оптимальные параметры: {'C': 10}"
   ]
  },
  {
   "cell_type": "code",
   "execution_count": 22,
   "metadata": {},
   "outputs": [
    {
     "data": {
      "text/plain": [
       "0.30451127819548873"
      ]
     },
     "execution_count": 22,
     "metadata": {},
     "output_type": "execute_result"
    }
   ],
   "source": [
    "# Создание и обучение модели логической регрессии.\n",
    "model_3 = LogisticRegression(C=10, solver='liblinear', random_state=12345)\n",
    "model_3.fit(features_train, target_train)\n",
    "# Проверим F1-меру на валидационной выборке\n",
    "predictions_3 = model_3.predict(features_valid)\n",
    "f1 = f1_score(target_valid, predictions_3)\n",
    "f1"
   ]
  },
  {
   "cell_type": "markdown",
   "metadata": {},
   "source": [
    "С дисбалансом классов предсказуемо не получилось достичь F1-меры в 0.59. Улучшим качество модели, учитывая дисбаланс классов. "
   ]
  },
  {
   "cell_type": "markdown",
   "metadata": {},
   "source": [
    "<br/><div class=\"alert alert-info\">\n",
    "Подбор гиперпараметров цикле почти идентичный с GreedSearch, с дисбалансом классов нужного результата не достигнуть.\n",
    "</div>"
   ]
  },
  {
   "cell_type": "markdown",
   "metadata": {},
   "source": [
    "<div class=\"alert alert-warning\">\n",
    "<h2> Комментарий ревьюера <a class=\"tocSkip\"> </h2>\n",
    "    \n",
    "<b>Некоторые замечания и рекомендации💡:</b> \n",
    "\n",
    "Нужно будет все переписать в циклах. Конкретно здесь ошибка в том, что ранее выделили валидационную выборку, которая не пригодилась, хотя это большая и важная часть данных, а датасет у нас маленький.\n",
    "       \n",
    "</div> "
   ]
  },
  {
   "cell_type": "markdown",
   "metadata": {},
   "source": [
    "## Борьба с дисбалансом"
   ]
  },
  {
   "cell_type": "markdown",
   "metadata": {},
   "source": [
    "Добавим взвешивание классов (параметр class_weight='balanced') в наши модели.\n",
    "<br/><div class=\"alert alert-info\">\n",
    "И подберем заново гиперпараметры.\n",
    "</div>"
   ]
  },
  {
   "cell_type": "code",
   "execution_count": 23,
   "metadata": {},
   "outputs": [
    {
     "name": "stdout",
     "output_type": "stream",
     "text": [
      "max_depth = 1 : 0.4750733137829912\n",
      "max_depth = 3 : 0.49761677788369874\n",
      "max_depth = 5 : 0.5489078822412156\n",
      "max_depth = 7 : 0.5535353535353534\n",
      "max_depth = 9 : 0.5145631067961165\n",
      "max_depth = 11 : 0.48846960167714887\n",
      "min_samples_leaf = 1 : 0.4708926261319535\n",
      "min_samples_leaf = 2 : 0.47640966628308407\n",
      "min_samples_leaf = 3 : 0.5032258064516129\n",
      "min_samples_leaf = 4 : 0.4984924623115577\n",
      "min_samples_leaf = 5 : 0.49466950959488265\n",
      "min_samples_leaf = 6 : 0.494240837696335\n",
      "min_samples_leaf = 7 : 0.49345417925478346\n",
      "min_samples_split = 2 : 0.4708926261319535\n",
      "min_samples_split = 4 : 0.4818401937046005\n",
      "min_samples_split = 6 : 0.47816091954022993\n",
      "min_samples_split = 8 : 0.4910313901345291\n"
     ]
    }
   ],
   "source": [
    "# Подберем гиперпараметры для модели со взвешеными классами с помощью циклов.\n",
    "for depth in range(1,13, 2):\n",
    "    model = DecisionTreeClassifier(random_state=12345, class_weight='balanced', max_depth=depth)\n",
    "    model.fit(features_train, target_train)\n",
    "    predictions_valid = model.predict(features_valid)\n",
    "    print('max_depth =', depth, ': ', end='')\n",
    "    print(f1_score(target_valid, predictions_valid))\n",
    "for leaf in range(1, 8):\n",
    "    model = DecisionTreeClassifier(random_state=12345, class_weight='balanced', min_samples_leaf=leaf)\n",
    "    model.fit(features_train, target_train)\n",
    "    predictions_valid = model.predict(features_valid)\n",
    "    print('min_samples_leaf =', leaf, ': ', end='')\n",
    "    print(f1_score(target_valid, predictions_valid))\n",
    "for split in range(2,10,2):\n",
    "    model = DecisionTreeClassifier(random_state=12345, class_weight='balanced', min_samples_split=split)\n",
    "    model.fit(features_train, target_train)\n",
    "    predictions_valid = model.predict(features_valid)\n",
    "    print('min_samples_split =', split, ': ', end='')\n",
    "    print(f1_score(target_valid, predictions_valid))"
   ]
  },
  {
   "cell_type": "markdown",
   "metadata": {},
   "source": [
    "<br/><div class=\"alert alert-info\">\n",
    "Оптимальные параметры: {'max_depth': 7,\n",
    " 'min_samples_leaf': 3,\n",
    " 'min_samples_split': 8,}\n",
    "</div>"
   ]
  },
  {
   "cell_type": "code",
   "execution_count": 24,
   "metadata": {},
   "outputs": [
    {
     "data": {
      "text/plain": [
       "0.561122244488978"
      ]
     },
     "execution_count": 24,
     "metadata": {},
     "output_type": "execute_result"
    }
   ],
   "source": [
    "# Cоздание и обучение модели дерева решений для задачи классификации.\n",
    "model = DecisionTreeClassifier(max_depth=7, min_samples_leaf=3, min_samples_split=8, class_weight='balanced', \n",
    "                               random_state=12345) \n",
    "model.fit(features_train, target_train) \n",
    "# Проверим F1-меру на валидационной выборке\n",
    "predictions = model.predict(features_valid)\n",
    "f1 = f1_score(target_valid, predictions)\n",
    "f1"
   ]
  },
  {
   "cell_type": "markdown",
   "metadata": {},
   "source": [
    "<br/>\n",
    "<div class=\"alert alert-info\">\n",
    "Неплохой результат, немного лучше, чем если не подбирать гиперпараметры заново.\n",
    "</div>"
   ]
  },
  {
   "cell_type": "markdown",
   "metadata": {},
   "source": [
    "<div class=\"alert alert-block alert-danger\">\n",
    "<h2><s> Комментарий ревьюера <a class=\"tocSkip\"></h2>\n",
    "  \n",
    "<b>На доработку🤔:</b>\n",
    " \n",
    "Здесь изменились вводные  - теперь используем class_weight='balanced'. Необходимо заново обучать модели и заново находить лучшие гиперпараметры.\n",
    "\n",
    "</div>\n"
   ]
  },
  {
   "cell_type": "code",
   "execution_count": 25,
   "metadata": {},
   "outputs": [
    {
     "name": "stdout",
     "output_type": "stream",
     "text": [
      "max_depth = 1 : 0.5014191106906338\n",
      "max_depth = 3 : 0.5385365853658536\n",
      "max_depth = 5 : 0.5529767911200807\n",
      "max_depth = 7 : 0.5812154696132596\n",
      "max_depth = 9 : 0.5821256038647343\n",
      "max_depth = 11 : 0.5880794701986756\n",
      "min_samples_leaf = 1 : 0.5469255663430421\n",
      "min_samples_leaf = 2 : 0.5743440233236151\n",
      "min_samples_leaf = 3 : 0.6084583901773534\n",
      "min_samples_leaf = 4 : 0.6098191214470284\n",
      "min_samples_leaf = 5 : 0.6148055207026349\n",
      "min_samples_leaf = 6 : 0.6076260762607626\n",
      "min_samples_leaf = 7 : 0.6004901960784313\n",
      "min_samples_split = 2 : 0.5469255663430421\n",
      "min_samples_split = 4 : 0.5722983257229832\n",
      "min_samples_split = 6 : 0.5973645680819912\n",
      "min_samples_split = 8 : 0.5929078014184397\n",
      "n_estimators = 10 : 0.5254515599343186\n",
      "n_estimators = 20 : 0.5451559934318554\n",
      "n_estimators = 30 : 0.5575364667747165\n",
      "n_estimators = 40 : 0.551948051948052\n",
      "n_estimators = 50 : 0.542763157894737\n",
      "n_estimators = 60 : 0.5326797385620915\n",
      "n_estimators = 70 : 0.5365853658536586\n",
      "n_estimators = 80 : 0.5413290113452188\n",
      "n_estimators = 90 : 0.5436893203883495\n",
      "n_estimators = 100 : 0.5469255663430421\n"
     ]
    }
   ],
   "source": [
    "# Подберем гиперпараметры с помощью циклов.\n",
    "for depth in range(1,13, 2):\n",
    "    model = RandomForestClassifier(random_state=12345, class_weight='balanced', max_depth=depth)\n",
    "    model.fit(features_train, target_train)\n",
    "    predictions_valid = model.predict(features_valid)\n",
    "    print('max_depth =', depth, ': ', end='')\n",
    "    print(f1_score(target_valid, predictions_valid))\n",
    "for leaf in range(1, 8):\n",
    "    model = RandomForestClassifier(random_state=12345, class_weight='balanced', min_samples_leaf=leaf)\n",
    "    model.fit(features_train, target_train)\n",
    "    predictions_valid = model.predict(features_valid)\n",
    "    print('min_samples_leaf =', leaf, ': ', end='')\n",
    "    print(f1_score(target_valid, predictions_valid))\n",
    "for split in range(2,10,2):\n",
    "    model = RandomForestClassifier(random_state=12345, class_weight='balanced', min_samples_split=split)\n",
    "    model.fit(features_train, target_train)\n",
    "    predictions_valid = model.predict(features_valid)\n",
    "    print('min_samples_split =', split, ': ', end='')\n",
    "    print(f1_score(target_valid, predictions_valid))\n",
    "for estim in range(10,101,10):\n",
    "    model = RandomForestClassifier(random_state=12345, class_weight='balanced', n_estimators=estim)\n",
    "    model.fit(features_train, target_train)\n",
    "    predictions_valid = model.predict(features_valid)\n",
    "    print('n_estimators =', estim, ': ', end='')\n",
    "    print(f1_score(target_valid, predictions_valid))"
   ]
  },
  {
   "cell_type": "markdown",
   "metadata": {},
   "source": [
    "<br/><div class=\"alert alert-info\">\n",
    "Оптимальные параметры: {'max_depth': 11,\n",
    " 'min_samples_leaf': 5,\n",
    " 'min_samples_split': 8,\n",
    "  n_estimators = 50}\n",
    "</div>"
   ]
  },
  {
   "cell_type": "code",
   "execution_count": 26,
   "metadata": {},
   "outputs": [
    {
     "name": "stdout",
     "output_type": "stream",
     "text": [
      "f1: 0.6051660516605165\n",
      "auc-roc: 0.8434382048547253\n"
     ]
    }
   ],
   "source": [
    "# Создание и обучение модели случайного леса. .\n",
    "model_2 = RandomForestClassifier(max_depth=11, min_samples_leaf=5, min_samples_split=8, n_estimators=50, \n",
    "                                 class_weight='balanced', \n",
    "                                 random_state=12345)\n",
    "model_2.fit(features_train, target_train)\n",
    "# Проверим F1-меру на валидационной выборке\n",
    "predictions_2 = model_2.predict(features_valid)\n",
    "f1 = f1_score(target_valid, predictions_2)\n",
    "print('f1:', f1)\n",
    "probabilities_valid = model.predict_proba(features_valid)\n",
    "probabilities_one_valid = probabilities_valid[:, 1]\n",
    "\n",
    "auc_roc = roc_auc_score(target_valid, probabilities_one_valid) \n",
    "\n",
    "print('auc-roc:', auc_roc)"
   ]
  },
  {
   "cell_type": "markdown",
   "metadata": {},
   "source": [
    "Отлично! Удалось достичь нужного показателя!"
   ]
  },
  {
   "cell_type": "code",
   "execution_count": 27,
   "metadata": {},
   "outputs": [
    {
     "name": "stdout",
     "output_type": "stream",
     "text": [
      "C = 0.001 : 0.478494623655914\n",
      "C = 0.01 : 0.47457627118644063\n",
      "C = 0.1 : 0.4741532976827095\n",
      "C = 1 : 0.47542448614834676\n",
      "C = 10 : 0.47542448614834676\n",
      "C = 100 : 0.47542448614834676\n",
      "C = 1000 : 0.47542448614834676\n"
     ]
    }
   ],
   "source": [
    "# Подберем гиперпараметры с помощью циклов.\n",
    "for c in [0.001, 0.01, 0.1, 1, 10, 100, 1000]:\n",
    "    model = LogisticRegression(random_state=12345, class_weight='balanced', C=c)\n",
    "    model.fit(features_train, target_train)\n",
    "    predictions_valid = model.predict(features_valid)\n",
    "    print('C =', c, ': ', end='')\n",
    "    print(f1_score(target_valid, predictions_valid))"
   ]
  },
  {
   "cell_type": "code",
   "execution_count": 28,
   "metadata": {},
   "outputs": [
    {
     "data": {
      "text/plain": [
       "0.47429519071310106"
      ]
     },
     "execution_count": 28,
     "metadata": {},
     "output_type": "execute_result"
    }
   ],
   "source": [
    "# Создание и обучение модели логической регрессии.\n",
    "model_3 = LogisticRegression(C=0.001, solver='liblinear', class_weight='balanced', random_state=12345)\n",
    "model_3.fit(features_train, target_train)\n",
    "# Проверим F1-меру на валидационной выборке\n",
    "predictions_3 = model_3.predict(features_valid)\n",
    "f1 = f1_score(target_valid, predictions_3)\n",
    "f1"
   ]
  },
  {
   "cell_type": "markdown",
   "metadata": {},
   "source": [
    "<div class=\"alert alert-warning\">\n",
    "<h2> Комментарий ревьюера <a class=\"tocSkip\"> </h2>\n",
    "    \n",
    "<b>Некоторые замечания и рекомендации💡:</b> \n",
    "\n",
    "Здесь та же рекомендация по циклам.\n",
    "       \n",
    "</div> "
   ]
  },
  {
   "cell_type": "markdown",
   "metadata": {},
   "source": [
    "Метрика F1 улучшилась на всех моделях, лучший показатель у модели случайного леса, - 0.60."
   ]
  },
  {
   "cell_type": "markdown",
   "metadata": {},
   "source": [
    "Проведем увеличение выборки (техника upsampling)."
   ]
  },
  {
   "cell_type": "code",
   "execution_count": 29,
   "metadata": {},
   "outputs": [
    {
     "name": "stdout",
     "output_type": "stream",
     "text": [
      "(9657, 11)\n",
      "(9657,)\n"
     ]
    }
   ],
   "source": [
    "def upsample(features, target, repeat):\n",
    "    features_zeros = features_train[target_train == 0]\n",
    "    features_ones = features_train[target_train == 1]\n",
    "    target_zeros = target_train[target_train == 0]\n",
    "    target_ones = target_train[target_train == 1]\n",
    "    features_upsampled = pd.concat([features_zeros] + [features_ones] * repeat)\n",
    "    target_upsampled = pd.concat([target_zeros] + [target_ones] * repeat)\n",
    "    features_upsampled, target_upsampled = shuffle(features_upsampled, target_upsampled, random_state=12345)\n",
    "    return features_upsampled, target_upsampled\n",
    "\n",
    "features_upsampled, target_upsampled = upsample(features_train, target_train, 4)\n",
    "\n",
    "print(features_upsampled.shape)\n",
    "print(target_upsampled.shape)"
   ]
  },
  {
   "cell_type": "markdown",
   "metadata": {},
   "source": [
    "<br/><div class=\"alert alert-info\">\n",
    " Изменим параметр repeat на 4, чтобы компенсировать баланс классов 1:4\n",
    "</div>"
   ]
  },
  {
   "cell_type": "markdown",
   "metadata": {},
   "source": [
    "<div class=\"alert alert-block alert-danger\">\n",
    "<h2><s> Комментарий ревьюера <a class=\"tocSkip\"></h2>\n",
    "  \n",
    "<b>На доработку🤔:</b>\n",
    " \n",
    "Здесь ты дублируешь редкий класс в 10 раз. У нас же, как мы увидели раньше, дисбаланс составляет 1:4. То есть, теперь окажется, что бывший редкий класс будет в 2,5 раза чаще встречаться.\n",
    "    \n",
    "Правильно будет довести баланс классов до 1:1, то есть, умножить на 4 (подав такой коэффициент в функцию).\n",
    "\n",
    "</div> \n",
    "\n"
   ]
  },
  {
   "cell_type": "markdown",
   "metadata": {},
   "source": [
    "<div class=\"alert alert-success\">\n",
    "<h2> Комментарий ревьюера <a class=\"tocSkip\"> </h2>\n",
    "\n",
    "👍 Отлично, что используешь рукописную функцию, но здесь можно все оптимизировать, используя <a href=\"https://imbalanced-learn.org/stable/references/generated/imblearn.over_sampling.SMOTE.html\">SMOTE</a> для увеличения выборки и <a href=\"https://imbalanced-learn.org/stable/references/generated/imblearn.under_sampling.RandomUnderSampler.html\">RandomUnderSampler</a>  для уменьшения. \n",
    "    \n",
    "Апсемплинг делается очень просто:\n",
    "    \n",
    "`oversample = SMOTE(random_state=RANDOM_STATE)`\n",
    "\n",
    "`features_train_up, target_train_up = oversample.fit_resample(features_train_enc, target_train)`\n",
    "    \n",
    "*предварительно импотрировав `from imblearn.over_sampling import SMOTE`\n",
    "\n",
    "**Чтобы импортировать imblearn его сначала требуется проинсталлировать. через `!pip install imblearn`\n",
    "\n",
    "В некоторых случаях качество может при применении SMOTE как улучшаться, так и ухудшаться в пределах статистической погрешности. Алгоритм не дублирует строки, а создает новые с помощью метода ближайших соседей.\n",
    "    \n",
    "</div>"
   ]
  },
  {
   "cell_type": "code",
   "execution_count": 30,
   "metadata": {},
   "outputs": [
    {
     "name": "stdout",
     "output_type": "stream",
     "text": [
      "max_depth = 1 : 0.4750733137829912\n",
      "max_depth = 3 : 0.49761677788369874\n",
      "max_depth = 5 : 0.5489078822412156\n",
      "max_depth = 7 : 0.5529767911200807\n",
      "max_depth = 9 : 0.5136186770428015\n",
      "max_depth = 11 : 0.49320794148380354\n",
      "min_samples_leaf = 1 : 0.4728682170542636\n",
      "min_samples_leaf = 2 : 0.4818401937046005\n",
      "min_samples_leaf = 3 : 0.5017502917152858\n",
      "min_samples_leaf = 4 : 0.5088888888888888\n",
      "min_samples_leaf = 5 : 0.5032537960954446\n",
      "min_samples_leaf = 6 : 0.4940668824163969\n",
      "min_samples_leaf = 7 : 0.4984025559105431\n",
      "min_samples_split = 2 : 0.4728682170542636\n",
      "min_samples_split = 4 : 0.4806201550387597\n",
      "min_samples_split = 6 : 0.4779874213836478\n",
      "min_samples_split = 8 : 0.4751515151515151\n"
     ]
    }
   ],
   "source": [
    "# Подберем гиперпараметры для модели с увеличенной выборкой с помощью циклов.\n",
    "for depth in range(1,13, 2):\n",
    "    model = DecisionTreeClassifier(random_state=12345, class_weight='balanced', max_depth=depth)\n",
    "    model.fit(features_upsampled, target_upsampled)\n",
    "    predictions_valid = model.predict(features_valid)\n",
    "    print('max_depth =', depth, ': ', end='')\n",
    "    print(f1_score(target_valid, predictions_valid))\n",
    "for leaf in range(1, 8):\n",
    "    model = DecisionTreeClassifier(random_state=12345, class_weight='balanced', min_samples_leaf=leaf)\n",
    "    model.fit(features_upsampled, target_upsampled)\n",
    "    predictions_valid = model.predict(features_valid)\n",
    "    print('min_samples_leaf =', leaf, ': ', end='')\n",
    "    print(f1_score(target_valid, predictions_valid))\n",
    "for split in range(2,10,2):\n",
    "    model = DecisionTreeClassifier(random_state=12345, class_weight='balanced', min_samples_split=split)\n",
    "    model.fit(features_upsampled, target_upsampled)\n",
    "    predictions_valid = model.predict(features_valid)\n",
    "    print('min_samples_split =', split, ': ', end='')\n",
    "    print(f1_score(target_valid, predictions_valid))"
   ]
  },
  {
   "cell_type": "code",
   "execution_count": 31,
   "metadata": {},
   "outputs": [
    {
     "data": {
      "text/plain": [
       "0.559118236472946"
      ]
     },
     "execution_count": 31,
     "metadata": {},
     "output_type": "execute_result"
    }
   ],
   "source": [
    "# Cоздание и обучение модели дерева решений для задачи классификации.\n",
    "model = DecisionTreeClassifier(max_depth=7, min_samples_leaf=4, min_samples_split=4, class_weight='balanced',\n",
    "                               random_state=12345) \n",
    "model.fit(features_upsampled, target_upsampled) \n",
    "# Проверим F1-меру на валидационной выборке\n",
    "predicted_valid = model.predict(features_valid)\n",
    "f1 = f1_score(target_valid, predicted_valid)\n",
    "f1"
   ]
  },
  {
   "cell_type": "markdown",
   "metadata": {},
   "source": [
    "<div class=\"alert alert-warning\">\n",
    "<h2> Комментарий ревьюера <a class=\"tocSkip\"> </h2>\n",
    "    \n",
    "<b>Некоторые замечания и рекомендации💡:</b> \n",
    "\n",
    "Здесь также нужно подобрать гиперпараметры заново, но апсемплинг не будет сочетаться с кросс-валидацией, так как при разбиении на сплиты внутри кросс-валидации у нас одни и те же строки попадут в две выборки, что приведет к переобучению. Также мы неминуемо апсемплируем тестовый сплит, что также делать не нужно.\n",
    "    \n",
    "Поэтому еще раз предлагаю здесь использовать подбор гиперпарамтров в цикле.\n",
    "       \n",
    "</div> \n",
    "  "
   ]
  },
  {
   "cell_type": "code",
   "execution_count": 32,
   "metadata": {},
   "outputs": [
    {
     "name": "stdout",
     "output_type": "stream",
     "text": [
      "max_depth = 1 : 0.5023696682464455\n",
      "max_depth = 3 : 0.5361620057859209\n",
      "max_depth = 5 : 0.5571428571428572\n",
      "max_depth = 7 : 0.5705263157894738\n",
      "max_depth = 9 : 0.5908584169453736\n",
      "max_depth = 11 : 0.5978898007033998\n",
      "min_samples_leaf = 1 : 0.5829846582984658\n",
      "min_samples_leaf = 2 : 0.5851755526657997\n",
      "min_samples_leaf = 3 : 0.6107634543178974\n",
      "min_samples_leaf = 4 : 0.6063569682151589\n",
      "min_samples_leaf = 5 : 0.6011834319526628\n",
      "min_samples_leaf = 6 : 0.5962877030162412\n",
      "min_samples_leaf = 7 : 0.597491448118586\n",
      "min_samples_split = 2 : 0.5829846582984658\n",
      "min_samples_split = 4 : 0.5877437325905293\n",
      "min_samples_split = 6 : 0.5935828877005347\n",
      "min_samples_split = 8 : 0.6\n",
      "n_estimators = 10 : 0.5480631276901005\n",
      "n_estimators = 20 : 0.5669957686882933\n",
      "n_estimators = 30 : 0.579020979020979\n",
      "n_estimators = 40 : 0.5793103448275861\n",
      "n_estimators = 50 : 0.5801104972375691\n",
      "n_estimators = 60 : 0.5824175824175823\n",
      "n_estimators = 70 : 0.5836791147994468\n",
      "n_estimators = 80 : 0.5810055865921788\n",
      "n_estimators = 90 : 0.5879043600562588\n",
      "n_estimators = 100 : 0.5829846582984658\n"
     ]
    }
   ],
   "source": [
    "# Подберем гиперпараметры с помощью циклов.\n",
    "for depth in range(1,13, 2):\n",
    "    model = RandomForestClassifier(random_state=12345, class_weight='balanced', max_depth=depth)\n",
    "    model.fit(features_upsampled, target_upsampled)\n",
    "    predictions_valid = model.predict(features_valid)\n",
    "    print('max_depth =', depth, ': ', end='')\n",
    "    print(f1_score(target_valid, predictions_valid))\n",
    "for leaf in range(1, 8):\n",
    "    model = RandomForestClassifier(random_state=12345, class_weight='balanced', min_samples_leaf=leaf)\n",
    "    model.fit(features_upsampled, target_upsampled)\n",
    "    predictions_valid = model.predict(features_valid)\n",
    "    print('min_samples_leaf =', leaf, ': ', end='')\n",
    "    print(f1_score(target_valid, predictions_valid))\n",
    "for split in range(2,10,2):\n",
    "    model = RandomForestClassifier(random_state=12345, class_weight='balanced', min_samples_split=split)\n",
    "    model.fit(features_upsampled, target_upsampled)\n",
    "    predictions_valid = model.predict(features_valid)\n",
    "    print('min_samples_split =', split, ': ', end='')\n",
    "    print(f1_score(target_valid, predictions_valid))\n",
    "for estim in range(10,101,10):\n",
    "    model = RandomForestClassifier(random_state=12345, class_weight='balanced', n_estimators=estim)\n",
    "    model.fit(features_upsampled, target_upsampled)\n",
    "    predictions_valid = model.predict(features_valid)\n",
    "    print('n_estimators =', estim, ': ', end='')\n",
    "    print(f1_score(target_valid, predictions_valid))"
   ]
  },
  {
   "cell_type": "code",
   "execution_count": 33,
   "metadata": {},
   "outputs": [
    {
     "data": {
      "text/plain": [
       "0.5906499429874572"
      ]
     },
     "execution_count": 33,
     "metadata": {},
     "output_type": "execute_result"
    }
   ],
   "source": [
    "# Создание и обучение модели случайного леса. .\n",
    "model_2 = RandomForestClassifier(max_depth=11, min_samples_leaf=3, min_samples_split=8, n_estimators=90, \n",
    "                                 class_weight='balanced',\n",
    "                                 random_state=12345)\n",
    "model_2.fit(features_upsampled, target_upsampled)\n",
    "# Проверим F1-меру на валидационной выборке\n",
    "predicted_valid_2 = model_2.predict(features_valid)\n",
    "f1 = f1_score(target_valid, predicted_valid_2)\n",
    "f1"
   ]
  },
  {
   "cell_type": "markdown",
   "metadata": {},
   "source": [
    "Модель случайного леса снова достигла необходимого результата!"
   ]
  },
  {
   "cell_type": "code",
   "execution_count": 34,
   "metadata": {},
   "outputs": [
    {
     "name": "stdout",
     "output_type": "stream",
     "text": [
      "C = 0.001 : 0.47217235188509876\n",
      "C = 0.01 : 0.47457627118644063\n",
      "C = 0.1 : 0.47457627118644063\n",
      "C = 1 : 0.47542448614834676\n",
      "C = 10 : 0.47542448614834676\n",
      "C = 100 : 0.47542448614834676\n",
      "C = 1000 : 0.47542448614834676\n"
     ]
    }
   ],
   "source": [
    "# Подберем гиперпараметры с помощью циклов.\n",
    "for c in [0.001, 0.01, 0.1, 1, 10, 100, 1000]:\n",
    "    model = LogisticRegression(random_state=12345, class_weight='balanced', C=c)\n",
    "    model.fit(features_upsampled, target_upsampled)\n",
    "    predictions_valid = model.predict(features_valid)\n",
    "    print('C =', c, ': ', end='')\n",
    "    print(f1_score(target_valid, predictions_valid))"
   ]
  },
  {
   "cell_type": "code",
   "execution_count": 35,
   "metadata": {},
   "outputs": [
    {
     "data": {
      "text/plain": [
       "0.47542448614834676"
      ]
     },
     "execution_count": 35,
     "metadata": {},
     "output_type": "execute_result"
    }
   ],
   "source": [
    "# Создание и обучение модели логической регрессии.\n",
    "model_3 = LogisticRegression(C=10, solver='liblinear', class_weight='balanced', random_state=12345)\n",
    "model_3.fit(features_upsampled, target_upsampled)\n",
    "# Проверим F1-меру на валидационной выборке\n",
    "predicted_valid_3 = model_3.predict(features_valid)\n",
    "f1 = f1_score(target_valid, predicted_valid_3)\n",
    "f1"
   ]
  },
  {
   "cell_type": "markdown",
   "metadata": {},
   "source": [
    "Результат почти идентичный."
   ]
  },
  {
   "cell_type": "markdown",
   "metadata": {},
   "source": [
    "Проведем уменьшение выборки (техника downsampling)."
   ]
  },
  {
   "cell_type": "code",
   "execution_count": 36,
   "metadata": {},
   "outputs": [
    {
     "name": "stdout",
     "output_type": "stream",
     "text": [
      "(2414, 11)\n",
      "(2414,)\n"
     ]
    }
   ],
   "source": [
    "def downsample(features, target, fraction):\n",
    "    features_zeros = features[target == 0]\n",
    "    features_ones = features[target == 1]\n",
    "    target_zeros = target[target == 0]\n",
    "    target_ones = target[target == 1]\n",
    "    features_downsampled = pd.concat(\n",
    "        [features_zeros.sample(frac=fraction, random_state=12345)] + [features_ones])\n",
    "    target_downsampled = pd.concat(\n",
    "        [target_zeros.sample(frac=fraction, random_state=12345)] + [target_ones])\n",
    "    features_downsampled, target_downsampled = shuffle(features_downsampled, target_downsampled, random_state=12345)\n",
    "    return features_downsampled, target_downsampled\n",
    "\n",
    "features_downsampled, target_downsampled = downsample(features_train, target_train, 0.25)\n",
    "\n",
    "print(features_downsampled.shape)\n",
    "print(target_downsampled.shape)"
   ]
  },
  {
   "cell_type": "markdown",
   "metadata": {},
   "source": [
    "<br/><div class=\"alert alert-info\">\n",
    " Изменим параметр repeat на 0.25, чтобы компенсировать баланс классов 1:4\n",
    "</div>"
   ]
  },
  {
   "cell_type": "markdown",
   "metadata": {},
   "source": [
    "<div class=\"alert alert-block alert-danger\">\n",
    "<h2><s> Комментарий ревьюера <a class=\"tocSkip\"></h2>\n",
    "  \n",
    "<b>На доработку🤔:</b>\n",
    " \n",
    "Даунсемплинг также нужно довести до баланса классов 1:1. У нас дисбаланс 1:4, значит, частый класс умножаем на четверть.\n",
    "\n",
    "</div>\n",
    "\n"
   ]
  },
  {
   "cell_type": "code",
   "execution_count": 37,
   "metadata": {},
   "outputs": [
    {
     "name": "stdout",
     "output_type": "stream",
     "text": [
      "max_depth = 1 : 0.4750733137829912\n",
      "max_depth = 3 : 0.5118376550169109\n",
      "max_depth = 5 : 0.5278491859468724\n",
      "max_depth = 7 : 0.5490196078431372\n",
      "max_depth = 9 : 0.507936507936508\n",
      "max_depth = 11 : 0.500473933649289\n",
      "min_samples_leaf = 1 : 0.46801051709027164\n",
      "min_samples_leaf = 2 : 0.4944029850746268\n",
      "min_samples_leaf = 3 : 0.47311827956989244\n",
      "min_samples_leaf = 4 : 0.4845070422535211\n",
      "min_samples_leaf = 5 : 0.4967682363804248\n",
      "min_samples_leaf = 6 : 0.4913627639155471\n",
      "min_samples_leaf = 7 : 0.510597302504817\n",
      "min_samples_split = 2 : 0.46801051709027164\n",
      "min_samples_split = 4 : 0.46804680468046805\n",
      "min_samples_split = 6 : 0.4640582347588717\n",
      "min_samples_split = 8 : 0.4737327188940092\n"
     ]
    }
   ],
   "source": [
    "# Подберем гиперпараметры для модели с увеличенной выборкой с помощью циклов.\n",
    "for depth in range(1,13, 2):\n",
    "    model = DecisionTreeClassifier(random_state=12345, class_weight='balanced', max_depth=depth)\n",
    "    model.fit(features_downsampled, target_downsampled)\n",
    "    predictions_valid = model.predict(features_valid)\n",
    "    print('max_depth =', depth, ': ', end='')\n",
    "    print(f1_score(target_valid, predictions_valid))\n",
    "for leaf in range(1, 8):\n",
    "    model = DecisionTreeClassifier(random_state=12345, class_weight='balanced', min_samples_leaf=leaf)\n",
    "    model.fit(features_downsampled, target_downsampled)\n",
    "    predictions_valid = model.predict(features_valid)\n",
    "    print('min_samples_leaf =', leaf, ': ', end='')\n",
    "    print(f1_score(target_valid, predictions_valid))\n",
    "for split in range(2,10,2):\n",
    "    model = DecisionTreeClassifier(random_state=12345, class_weight='balanced', min_samples_split=split)\n",
    "    model.fit(features_downsampled, target_downsampled)\n",
    "    predictions_valid = model.predict(features_valid)\n",
    "    print('min_samples_split =', split, ': ', end='')\n",
    "    print(f1_score(target_valid, predictions_valid))"
   ]
  },
  {
   "cell_type": "code",
   "execution_count": 38,
   "metadata": {},
   "outputs": [
    {
     "data": {
      "text/plain": [
       "0.5313653136531367"
      ]
     },
     "execution_count": 38,
     "metadata": {},
     "output_type": "execute_result"
    }
   ],
   "source": [
    "# Cоздание и обучение модели дерева решений для задачи классификации.\n",
    "model = DecisionTreeClassifier(max_depth=7, min_samples_leaf=7, min_samples_split=8, class_weight='balanced',\n",
    "                               random_state=12345) \n",
    "model.fit(features_downsampled, target_downsampled) \n",
    "# Проверим F1-меру на валидационной выборке\n",
    "predicted_valid = model.predict(features_valid)\n",
    "f1 = f1_score(target_valid, predicted_valid)\n",
    "f1"
   ]
  },
  {
   "cell_type": "code",
   "execution_count": 39,
   "metadata": {},
   "outputs": [
    {
     "name": "stdout",
     "output_type": "stream",
     "text": [
      "max_depth = 1 : 0.5009310986964618\n",
      "max_depth = 3 : 0.5426052889324192\n",
      "max_depth = 5 : 0.5434782608695653\n",
      "max_depth = 7 : 0.5685884691848907\n",
      "max_depth = 9 : 0.5647058823529412\n",
      "max_depth = 11 : 0.5568400770712909\n",
      "min_samples_leaf = 1 : 0.5548141086749285\n",
      "min_samples_leaf = 2 : 0.5621414913957935\n",
      "min_samples_leaf = 3 : 0.5541463414634146\n",
      "min_samples_leaf = 4 : 0.5659287776708374\n",
      "min_samples_leaf = 5 : 0.5612343297974928\n",
      "min_samples_leaf = 6 : 0.5586272640610105\n",
      "min_samples_leaf = 7 : 0.563953488372093\n",
      "min_samples_split = 2 : 0.5548141086749285\n",
      "min_samples_split = 4 : 0.5635148042024833\n",
      "min_samples_split = 6 : 0.5640038498556303\n",
      "min_samples_split = 8 : 0.553639846743295\n",
      "n_estimators = 10 : 0.5580448065173116\n",
      "n_estimators = 20 : 0.5490196078431373\n",
      "n_estimators = 30 : 0.5447545717035611\n",
      "n_estimators = 40 : 0.5494716618635926\n",
      "n_estimators = 50 : 0.5459825750242014\n",
      "n_estimators = 60 : 0.5461538461538461\n",
      "n_estimators = 70 : 0.5515911282545805\n",
      "n_estimators = 80 : 0.555977229601518\n",
      "n_estimators = 90 : 0.5586272640610105\n",
      "n_estimators = 100 : 0.5548141086749285\n"
     ]
    }
   ],
   "source": [
    "# Подберем гиперпараметры с помощью циклов.\n",
    "for depth in range(1,13, 2):\n",
    "    model = RandomForestClassifier(random_state=12345, class_weight='balanced', max_depth=depth)\n",
    "    model.fit(features_downsampled, target_downsampled)\n",
    "    predictions_valid = model.predict(features_valid)\n",
    "    print('max_depth =', depth, ': ', end='')\n",
    "    print(f1_score(target_valid, predictions_valid))\n",
    "for leaf in range(1, 8):\n",
    "    model = RandomForestClassifier(random_state=12345, class_weight='balanced', min_samples_leaf=leaf)\n",
    "    model.fit(features_downsampled, target_downsampled)\n",
    "    predictions_valid = model.predict(features_valid)\n",
    "    print('min_samples_leaf =', leaf, ': ', end='')\n",
    "    print(f1_score(target_valid, predictions_valid))\n",
    "for split in range(2,10,2):\n",
    "    model = RandomForestClassifier(random_state=12345, class_weight='balanced', min_samples_split=split)\n",
    "    model.fit(features_downsampled, target_downsampled)\n",
    "    predictions_valid = model.predict(features_valid)\n",
    "    print('min_samples_split =', split, ': ', end='')\n",
    "    print(f1_score(target_valid, predictions_valid))\n",
    "for estim in range(10,101,10):\n",
    "    model = RandomForestClassifier(random_state=12345, class_weight='balanced', n_estimators=estim)\n",
    "    model.fit(features_downsampled, target_downsampled)\n",
    "    predictions_valid = model.predict(features_valid)\n",
    "    print('n_estimators =', estim, ': ', end='')\n",
    "    print(f1_score(target_valid, predictions_valid))"
   ]
  },
  {
   "cell_type": "code",
   "execution_count": 40,
   "metadata": {},
   "outputs": [
    {
     "data": {
      "text/plain": [
       "0.5668662674650699"
      ]
     },
     "execution_count": 40,
     "metadata": {},
     "output_type": "execute_result"
    }
   ],
   "source": [
    "# Создание и обучение модели случайного леса. .\n",
    "model_2 = RandomForestClassifier(max_depth=7, min_samples_leaf=4, min_samples_split=6, n_estimators=90, \n",
    "                                 class_weight='balanced',\n",
    "                                 random_state=12345)\n",
    "model_2.fit(features_downsampled, target_downsampled)\n",
    "# Проверим F1-меру на валидационной выборке\n",
    "predicted_valid_2 = model_2.predict(features_valid)\n",
    "f1 = f1_score(target_valid, predicted_valid_2)\n",
    "f1"
   ]
  },
  {
   "cell_type": "code",
   "execution_count": 41,
   "metadata": {},
   "outputs": [
    {
     "name": "stdout",
     "output_type": "stream",
     "text": [
      "C = 0.001 : 0.4852809991079393\n",
      "C = 0.01 : 0.4795008912655971\n",
      "C = 0.1 : 0.4769503546099291\n",
      "C = 1 : 0.4751773049645391\n",
      "C = 10 : 0.47559893522626445\n",
      "C = 100 : 0.4760213143872114\n",
      "C = 1000 : 0.4760213143872114\n"
     ]
    }
   ],
   "source": [
    "# Подберем гиперпараметры с помощью циклов.\n",
    "for c in [0.001, 0.01, 0.1, 1, 10, 100, 1000]:\n",
    "    model = LogisticRegression(random_state=12345, class_weight='balanced', C=c)\n",
    "    model.fit(features_downsampled, target_downsampled)\n",
    "    predictions_valid = model.predict(features_valid)\n",
    "    print('C =', c, ': ', end='')\n",
    "    print(f1_score(target_valid, predictions_valid))"
   ]
  },
  {
   "cell_type": "code",
   "execution_count": 42,
   "metadata": {},
   "outputs": [
    {
     "data": {
      "text/plain": [
       "0.4643423137876386"
      ]
     },
     "execution_count": 42,
     "metadata": {},
     "output_type": "execute_result"
    }
   ],
   "source": [
    "# Создание и обучение модели логической регрессии.\n",
    "model_3 = LogisticRegression(C=0.001, solver='liblinear', class_weight='balanced', random_state=12345)\n",
    "model_3.fit(features_downsampled, target_downsampled)\n",
    "# Проверим F1-меру на валидационной выборке\n",
    "predicted_valid_3 = model_3.predict(features_valid)\n",
    "f1 = f1_score(target_valid, predicted_valid_3)\n",
    "f1"
   ]
  },
  {
   "cell_type": "markdown",
   "metadata": {},
   "source": [
    "Результат ухудшился, уменьшение выборки не помогло."
   ]
  },
  {
   "cell_type": "markdown",
   "metadata": {},
   "source": [
    " <div class=\"alert alert-warning\">\n",
    "<h2> Комментарий ревьюера <a class=\"tocSkip\"> </h2>\n",
    "    \n",
    "<b>Некоторые замечания и рекомендации💡:</b> \n",
    "\n",
    "Выводы необходимо будет перепроверить и синхронизировать с решениями по коду.\n",
    "    \n",
    "Ухудшение результата как раз объясняется тем (кроме неправильного коэффициента для даунсемплинга), что в изменившихся условиях у моделей меняются оптимальные гиперпараметры.\n",
    "       \n",
    "</div>\n"
   ]
  },
  {
   "cell_type": "markdown",
   "metadata": {},
   "source": [
    "Изменим значение порога и посмотрим, какими станут метрики."
   ]
  },
  {
   "cell_type": "code",
   "execution_count": 43,
   "metadata": {},
   "outputs": [
    {
     "name": "stdout",
     "output_type": "stream",
     "text": [
      "Порог = 0.00 | F1 = 0.324\n",
      "Порог = 0.02 | F1 = 0.324\n",
      "Порог = 0.04 | F1 = 0.324\n",
      "Порог = 0.06 | F1 = 0.324\n",
      "Порог = 0.08 | F1 = 0.324\n",
      "Порог = 0.10 | F1 = 0.392\n",
      "Порог = 0.12 | F1 = 0.404\n",
      "Порог = 0.14 | F1 = 0.404\n",
      "Порог = 0.16 | F1 = 0.404\n",
      "Порог = 0.18 | F1 = 0.404\n",
      "Порог = 0.20 | F1 = 0.404\n",
      "Порог = 0.22 | F1 = 0.423\n",
      "Порог = 0.24 | F1 = 0.423\n",
      "Порог = 0.26 | F1 = 0.423\n",
      "Порог = 0.28 | F1 = 0.495\n"
     ]
    }
   ],
   "source": [
    "# Cоздание и обучение модели дерева решений для задачи классификации.\n",
    "model = DecisionTreeClassifier(max_depth=5, min_samples_leaf=2, min_samples_split=8, class_weight='balanced', \n",
    "                               random_state=12345) \n",
    "model.fit(features_train, target_train) \n",
    "# Проверим F1-меру на валидационной выборке\n",
    "probabilities_valid = model.predict_proba(features_valid)\n",
    "probabilities_one_valid = probabilities_valid[:, 1]\n",
    "\n",
    "for threshold in np.arange(0, 0.3, 0.02):\n",
    "    predicted_valid = probabilities_one_valid > threshold \n",
    "    f1 = f1_score(target_valid, predicted_valid)\n",
    "\n",
    "    print(\"Порог = {:.2f} | F1 = {:.3f}\".format(\n",
    "        threshold, f1))"
   ]
  },
  {
   "cell_type": "code",
   "execution_count": 44,
   "metadata": {},
   "outputs": [
    {
     "name": "stdout",
     "output_type": "stream",
     "text": [
      "Порог = 0.00 | F1 = 0.327\n",
      "Порог = 0.02 | F1 = 0.327\n",
      "Порог = 0.04 | F1 = 0.333\n",
      "Порог = 0.06 | F1 = 0.344\n",
      "Порог = 0.08 | F1 = 0.355\n",
      "Порог = 0.10 | F1 = 0.370\n",
      "Порог = 0.12 | F1 = 0.387\n",
      "Порог = 0.14 | F1 = 0.404\n",
      "Порог = 0.16 | F1 = 0.419\n",
      "Порог = 0.18 | F1 = 0.437\n",
      "Порог = 0.20 | F1 = 0.455\n",
      "Порог = 0.22 | F1 = 0.476\n",
      "Порог = 0.24 | F1 = 0.483\n",
      "Порог = 0.26 | F1 = 0.497\n",
      "Порог = 0.28 | F1 = 0.507\n"
     ]
    }
   ],
   "source": [
    "# Создание и обучение модели случайного леса. .\n",
    "model_2 = RandomForestClassifier(max_depth=11, min_samples_leaf=7, min_samples_split=4, n_estimators=30, \n",
    "                                 class_weight='balanced', \n",
    "                                 random_state=12345)\n",
    "model_2.fit(features_train, target_train)\n",
    "# Проверим F1-меру на валидационной выборке\n",
    "probabilities_valid_2 = model_2.predict_proba(features_valid)\n",
    "probabilities_one_valid = probabilities_valid_2[:, 1]\n",
    "\n",
    "for threshold in np.arange(0, 0.3, 0.02):\n",
    "    predicted_valid_2 = probabilities_one_valid > threshold \n",
    "    f1 = f1_score(target_valid, predicted_valid_2)\n",
    "\n",
    "    print(\"Порог = {:.2f} | F1 = {:.3f}\".format(\n",
    "        threshold, f1))"
   ]
  },
  {
   "cell_type": "code",
   "execution_count": 45,
   "metadata": {},
   "outputs": [
    {
     "name": "stdout",
     "output_type": "stream",
     "text": [
      "Порог = 0.00 | F1 = 0.327\n",
      "Порог = 0.02 | F1 = 0.327\n",
      "Порог = 0.04 | F1 = 0.327\n",
      "Порог = 0.06 | F1 = 0.327\n",
      "Порог = 0.08 | F1 = 0.327\n",
      "Порог = 0.10 | F1 = 0.327\n",
      "Порог = 0.12 | F1 = 0.327\n",
      "Порог = 0.14 | F1 = 0.327\n",
      "Порог = 0.16 | F1 = 0.327\n",
      "Порог = 0.18 | F1 = 0.327\n",
      "Порог = 0.20 | F1 = 0.327\n",
      "Порог = 0.22 | F1 = 0.328\n",
      "Порог = 0.24 | F1 = 0.330\n",
      "Порог = 0.26 | F1 = 0.333\n",
      "Порог = 0.28 | F1 = 0.338\n"
     ]
    }
   ],
   "source": [
    "# Создание и обучение модели логической регрессии.\n",
    "model_3 = LogisticRegression(C=0.001, solver='liblinear', class_weight='balanced', random_state=12345)\n",
    "model_3.fit(features_train, target_train)\n",
    "# Проверим F1-меру на валидационной выборке\n",
    "probabilities_valid_3 = model_3.predict_proba(features_valid)\n",
    "probabilities_one_valid = probabilities_valid_3[:, 1]\n",
    "\n",
    "for threshold in np.arange(0, 0.3, 0.02):\n",
    "    predicted_valid_3 = probabilities_one_valid > threshold \n",
    "    f1 = f1_score(target_valid, predicted_valid_3)\n",
    "\n",
    "    print(\"Порог = {:.2f} | F1 = {:.3f}\".format(\n",
    "        threshold, f1))"
   ]
  },
  {
   "cell_type": "markdown",
   "metadata": {},
   "source": [
    "Изменение значения порога не помогло, результат не достигнут."
   ]
  },
  {
   "cell_type": "markdown",
   "metadata": {},
   "source": [
    "Выводы: Взвешивание классов и увеличение выборки - лучшие способы борьбы с дисбалансом классов в нашем случае."
   ]
  },
  {
   "cell_type": "markdown",
   "metadata": {},
   "source": [
    "<div class=\"alert alert-warning\">\n",
    "<h2> Комментарий ревьюера <a class=\"tocSkip\"> </h2>\n",
    "    \n",
    "<b>Некоторые замечания и рекомендации💡:</b> \n",
    " \n",
    "Здесь важно указать гиперпараметры и метод борьбы с дисбалансом, которые мы используем для выбранной модели в тестировании.\n",
    "\n",
    "</div>\n"
   ]
  },
  {
   "cell_type": "markdown",
   "metadata": {},
   "source": [
    "## Тестирование модели"
   ]
  },
  {
   "cell_type": "code",
   "execution_count": 46,
   "metadata": {},
   "outputs": [
    {
     "name": "stdout",
     "output_type": "stream",
     "text": [
      "f1: 0.634254143646409\n",
      "auc-roc: 0.8238544695041795\n"
     ]
    }
   ],
   "source": [
    "# Создание и обучение модели случайного леса. .\n",
    "model_2 = RandomForestClassifier(max_depth=11, min_samples_leaf=7, min_samples_split=4, n_estimators=30, \n",
    "                                 class_weight='balanced', \n",
    "                                 random_state=12345)\n",
    "model_2.fit(features_train, target_train)\n",
    "# Проверим F1-меру на валидационной выборке\n",
    "predictions_2 = model_2.predict(features_test)\n",
    "f1 = f1_score(target_test, predictions_2)\n",
    "print('f1:', f1)\n",
    "probabilities_valid = model.predict_proba(features_valid)\n",
    "probabilities_one_valid = probabilities_valid[:, 1]\n",
    "\n",
    "auc_roc = roc_auc_score(target_valid, probabilities_one_valid) \n",
    "\n",
    "print('auc-roc:', auc_roc)"
   ]
  },
  {
   "cell_type": "markdown",
   "metadata": {},
   "source": [
    "<div class=\"alert alert-success\">\n",
    "<h2> Комментарий ревьюера <a class=\"tocSkip\"> </h2>\n",
    "\n",
    "👍 Всё верно  \n",
    "</div>  "
   ]
  },
  {
   "cell_type": "markdown",
   "metadata": {},
   "source": [
    "Отлично! Есть результат на тесте!!"
   ]
  },
  {
   "cell_type": "markdown",
   "metadata": {},
   "source": [
    "Выводы: 1. Задача исследована, выяснен дисбаланс классов, изучены модели без учета дисбаланса классов. \n",
    "2. Учтен дисбаланс, применено несколько способов борьбы с дисбалансом.\n",
    "Лучшая модель - модель случайного леса со взвешиванием классов или с увеличением выбоки. "
   ]
  },
  {
   "cell_type": "markdown",
   "metadata": {},
   "source": [
    "<br/><div class=\"alert alert-info\">\n",
    "Спасибо за подробные комментарии и ценные теоретические материалы. \n",
    "Гиперпараметры моделям подобрал в цикле и по f1-мере в каждом случае применения методики борьбы с дисбалансом и в исследовании моделей без учета дисбаланса.\n",
    "Апсемпилнг довел до баланса классов (1:1, умножаем редкий класс на 4). Также и даунсемплинг. Результаты немного улучшились, особенно на апсемплинге и даунсемплинге. Лучшая модель - Случайный лес со взвешанными  классами.\n",
    "</div>"
   ]
  },
  {
   "cell_type": "markdown",
   "metadata": {},
   "source": [
    "<div class=\"alert alert-warning\">\n",
    "<h2> Комментарий ревьюера <a class=\"tocSkip\"> </h2>\n",
    "    \n",
    "<b>Некоторые замечания и рекомендации💡:</b> \n",
    "\n",
    "\n",
    "Я бы добавил сравнение по f1-мере с константной моделью, также можно посмотреть recall и прокомментировать, какую долю клиентов на отток модель верно детектирует.\n",
    "***\n",
    "\n",
    "Здесь в дамми-модели я бы предсказал везде «1». Условно говоря, если предсказываем ноль, моделируем ситуацию, когда акцию с бонусами для удержания клиентов решили не проводить. Если предсказываем единицу − решили раздать бонусы вообще всем клиентам. Если в дамми-модели предсказываем по единице, можно подсчитать F1, она не будет зануляться.\n",
    "    \n",
    "`dummy_model = DummyClassifier(strategy='constant', constant=1)\n",
    "dummy_model.fit(features_train, target_train)\n",
    "f1_score(dummy_model.predict(features_test), target_test)`\n",
    "    \n",
    "Импорт: from sklearn.dummy import DummyClassifier\n",
    "\n",
    "       \n",
    "</div>"
   ]
  },
  {
   "cell_type": "markdown",
   "metadata": {},
   "source": [
    "<div style=\"border:solid Chocolate 2px; padding: 40px\">\n",
    "\n",
    "**Общий вывод по проекту**\n",
    "    \n",
    "Спасибо за твой проект! Есть несколько важных моментов, которые необходимо поправить. Их ты найдешь в разноцветных комментариях.\n",
    "    \n",
    "**Отмечу положительные моменты проекта🚀**\n",
    "    \n",
    "* Хорошая структура проекта. Выбор моделей, порядок исследования.\n",
    "* Отличная часть с предобработкой.\n",
    "* Есть пояснения к шагам, код с высокой читаемостью. \n",
    "* Логичность решений.\n",
    "* Хороший результат на тестовой выборке.\n",
    "    \n",
    "**На что стоит обратить внимание🤔**\n",
    "    \n",
    "* Гиперпараметры моделям подбираем в цикле и по f1-мере в каждом случае применения методики борьбы с дисбалансом и в исследовании моделей без учета дисбаланса.\n",
    "* Апсемпилнг нужно довести до баланса классов (1:1, умножаем редкий класс на 4). Также и даунсемплинг.\n",
    "* Необходимо везде оставлять промежуточные выводы и дополнить итоговый вывод.\n",
    "* Эти и остальные замечания я также написал по ходу проекта.\n",
    "    \n",
    "**Желаю удачи и жду твой проект на повторное ревью!**😉\n",
    "    \n",
    "    \n",
    "</div>\n"
   ]
  },
  {
   "cell_type": "markdown",
   "metadata": {},
   "source": [
    "<div style=\"border:solid Chocolate 2px; padding: 40px\">\n",
    "\n",
    "**Комментарий ко второй проверке**\n",
    "\n",
    "Спасибо за доработку. Критичных комментариев нет. \n",
    "    \n",
    "Обрати внимание, оставил комментарий после реализации первого обучения в цикле. Можно немного оптимизировать перебор гиперпараметров, чтобы исследовать комбанацию всех со всеми. Это будет дольше считаться, но зато получим лучшее качество. \n",
    "    \n",
    "Кстати, на тесте у тебя получилось очень хорошее качество для этого проекта!\n",
    "    \n",
    "Если что-то пропустил или остались вопросы, напиши на телеграм @kriill\n",
    "\n",
    "Желаю удачи в дальнейшей учебе!\n",
    "\n",
    "</div>\n"
   ]
  },
  {
   "cell_type": "markdown",
   "metadata": {},
   "source": [
    "## Чек-лист готовности проекта"
   ]
  },
  {
   "cell_type": "markdown",
   "metadata": {},
   "source": [
    "Поставьте 'x' в выполненных пунктах. Далее нажмите Shift+Enter."
   ]
  },
  {
   "cell_type": "markdown",
   "metadata": {},
   "source": [
    "- [x]  Jupyter Notebook открыт\n",
    "- [ ]  Весь код выполняется без ошибок\n",
    "- [ ]  Ячейки с кодом расположены в порядке исполнения\n",
    "- [ ]  Выполнен шаг 1: данные подготовлены\n",
    "- [ ]  Выполнен шаг 2: задача исследована\n",
    "    - [ ]  Исследован баланс классов\n",
    "    - [ ]  Изучены модели без учёта дисбаланса\n",
    "    - [ ]  Написаны выводы по результатам исследования\n",
    "- [ ]  Выполнен шаг 3: учтён дисбаланс\n",
    "    - [ ]  Применено несколько способов борьбы с дисбалансом\n",
    "    - [ ]  Написаны выводы по результатам исследования\n",
    "- [ ]  Выполнен шаг 4: проведено тестирование\n",
    "- [ ]  Удалось достичь *F1*-меры не менее 0.59\n",
    "- [ ]  Исследована метрика *AUC-ROC*"
   ]
  },
  {
   "cell_type": "code",
   "execution_count": null,
   "metadata": {},
   "outputs": [],
   "source": []
  }
 ],
 "metadata": {
  "ExecuteTimeLog": [
   {
    "duration": 410,
    "start_time": "2023-05-01T22:06:07.242Z"
   },
   {
    "duration": 174,
    "start_time": "2023-05-01T22:06:49.720Z"
   },
   {
    "duration": 19,
    "start_time": "2023-05-01T22:07:00.960Z"
   },
   {
    "duration": 2,
    "start_time": "2023-05-01T22:24:04.306Z"
   },
   {
    "duration": 49,
    "start_time": "2023-05-01T22:24:05.035Z"
   },
   {
    "duration": 17,
    "start_time": "2023-05-01T22:24:05.705Z"
   },
   {
    "duration": 15,
    "start_time": "2023-05-01T22:24:16.157Z"
   },
   {
    "duration": 1142,
    "start_time": "2023-05-01T22:24:33.162Z"
   },
   {
    "duration": 1073,
    "start_time": "2023-05-01T22:24:54.021Z"
   },
   {
    "duration": 1300,
    "start_time": "2023-05-01T22:25:03.119Z"
   },
   {
    "duration": 1073,
    "start_time": "2023-05-03T18:20:59.576Z"
   },
   {
    "duration": 81,
    "start_time": "2023-05-03T18:21:01.131Z"
   },
   {
    "duration": 19,
    "start_time": "2023-05-03T18:21:01.823Z"
   },
   {
    "duration": 11,
    "start_time": "2023-05-03T18:21:02.272Z"
   },
   {
    "duration": 1637,
    "start_time": "2023-05-03T18:21:02.672Z"
   },
   {
    "duration": 987,
    "start_time": "2023-05-03T18:21:37.977Z"
   },
   {
    "duration": 14,
    "start_time": "2023-05-03T18:24:10.447Z"
   },
   {
    "duration": 10,
    "start_time": "2023-05-03T18:26:10.338Z"
   },
   {
    "duration": 12,
    "start_time": "2023-05-03T18:26:41.808Z"
   },
   {
    "duration": 4,
    "start_time": "2023-05-03T18:26:56.318Z"
   },
   {
    "duration": 5,
    "start_time": "2023-05-03T18:27:11.583Z"
   },
   {
    "duration": 12,
    "start_time": "2023-05-03T18:27:27.598Z"
   },
   {
    "duration": 9,
    "start_time": "2023-05-03T18:28:04.132Z"
   },
   {
    "duration": 4,
    "start_time": "2023-05-03T18:28:04.560Z"
   },
   {
    "duration": 4,
    "start_time": "2023-05-03T18:28:43.619Z"
   },
   {
    "duration": 5,
    "start_time": "2023-05-03T18:28:55.276Z"
   },
   {
    "duration": 5,
    "start_time": "2023-05-03T18:29:04.151Z"
   },
   {
    "duration": 3,
    "start_time": "2023-05-03T18:29:10.266Z"
   },
   {
    "duration": 12,
    "start_time": "2023-05-03T18:31:30.432Z"
   },
   {
    "duration": 1154,
    "start_time": "2023-05-04T13:05:03.336Z"
   },
   {
    "duration": 80,
    "start_time": "2023-05-04T13:05:06.796Z"
   },
   {
    "duration": 22,
    "start_time": "2023-05-04T13:05:06.982Z"
   },
   {
    "duration": 14,
    "start_time": "2023-05-04T13:05:07.172Z"
   },
   {
    "duration": 1680,
    "start_time": "2023-05-04T13:05:07.340Z"
   },
   {
    "duration": 15,
    "start_time": "2023-05-04T13:05:09.022Z"
   },
   {
    "duration": 176,
    "start_time": "2023-05-04T13:06:59.132Z"
   },
   {
    "duration": 28,
    "start_time": "2023-05-04T13:08:09.277Z"
   },
   {
    "duration": 18,
    "start_time": "2023-05-04T13:10:48.521Z"
   },
   {
    "duration": 17,
    "start_time": "2023-05-04T13:10:53.590Z"
   },
   {
    "duration": 24,
    "start_time": "2023-05-04T13:15:40.480Z"
   },
   {
    "duration": 3,
    "start_time": "2023-05-04T13:18:32.753Z"
   },
   {
    "duration": 13,
    "start_time": "2023-05-04T13:34:46.588Z"
   },
   {
    "duration": 30,
    "start_time": "2023-05-04T13:37:49.096Z"
   },
   {
    "duration": 28,
    "start_time": "2023-05-04T13:38:11.795Z"
   },
   {
    "duration": 18,
    "start_time": "2023-05-04T13:38:49.001Z"
   },
   {
    "duration": 16,
    "start_time": "2023-05-04T13:39:49.598Z"
   },
   {
    "duration": 16,
    "start_time": "2023-05-04T13:43:35.657Z"
   },
   {
    "duration": 3,
    "start_time": "2023-05-04T13:45:31.134Z"
   },
   {
    "duration": 68,
    "start_time": "2023-05-04T15:43:32.139Z"
   },
   {
    "duration": 1339,
    "start_time": "2023-05-04T15:43:37.774Z"
   },
   {
    "duration": 81,
    "start_time": "2023-05-04T15:43:39.750Z"
   },
   {
    "duration": 30,
    "start_time": "2023-05-04T15:43:40.317Z"
   },
   {
    "duration": 18,
    "start_time": "2023-05-04T15:43:40.694Z"
   },
   {
    "duration": 1844,
    "start_time": "2023-05-04T15:43:41.190Z"
   },
   {
    "duration": 8,
    "start_time": "2023-05-04T15:43:43.037Z"
   },
   {
    "duration": 13,
    "start_time": "2023-05-04T15:46:20.144Z"
   },
   {
    "duration": 25,
    "start_time": "2023-05-04T18:45:51.919Z"
   },
   {
    "duration": 2,
    "start_time": "2023-05-04T18:45:53.099Z"
   },
   {
    "duration": 86,
    "start_time": "2023-05-04T18:46:04.911Z"
   },
   {
    "duration": 58,
    "start_time": "2023-05-04T18:47:04.688Z"
   },
   {
    "duration": 25,
    "start_time": "2023-05-04T18:47:05.718Z"
   },
   {
    "duration": 28,
    "start_time": "2023-05-04T18:47:36.780Z"
   },
   {
    "duration": 88,
    "start_time": "2023-05-04T18:47:38.707Z"
   },
   {
    "duration": 12,
    "start_time": "2023-05-04T18:54:27.424Z"
   },
   {
    "duration": 11,
    "start_time": "2023-05-04T18:55:08.070Z"
   },
   {
    "duration": 41,
    "start_time": "2023-05-04T18:55:08.860Z"
   },
   {
    "duration": 10,
    "start_time": "2023-05-04T18:55:23.557Z"
   },
   {
    "duration": 76,
    "start_time": "2023-05-04T18:57:33.801Z"
   },
   {
    "duration": 10,
    "start_time": "2023-05-04T18:57:39.076Z"
   },
   {
    "duration": 11,
    "start_time": "2023-05-04T18:57:49.725Z"
   },
   {
    "duration": 3,
    "start_time": "2023-05-04T18:58:23.208Z"
   },
   {
    "duration": 97538,
    "start_time": "2023-05-04T18:59:09.278Z"
   },
   {
    "duration": 34,
    "start_time": "2023-05-04T19:00:54.821Z"
   },
   {
    "duration": 276,
    "start_time": "2023-05-04T19:00:55.445Z"
   },
   {
    "duration": 10,
    "start_time": "2023-05-04T19:02:17.207Z"
   },
   {
    "duration": 295,
    "start_time": "2023-05-04T19:02:25.894Z"
   },
   {
    "duration": 11,
    "start_time": "2023-05-04T19:02:46.357Z"
   },
   {
    "duration": 264,
    "start_time": "2023-05-04T19:04:48.173Z"
   },
   {
    "duration": 30,
    "start_time": "2023-05-04T19:05:49.965Z"
   },
   {
    "duration": 489,
    "start_time": "2023-05-04T19:05:52.553Z"
   },
   {
    "duration": 486,
    "start_time": "2023-05-04T19:06:07.729Z"
   },
   {
    "duration": 586,
    "start_time": "2023-05-04T19:06:50.198Z"
   },
   {
    "duration": 4,
    "start_time": "2023-05-04T19:08:23.332Z"
   },
   {
    "duration": 67,
    "start_time": "2023-05-04T19:08:51.046Z"
   },
   {
    "duration": 490,
    "start_time": "2023-05-04T19:08:54.643Z"
   },
   {
    "duration": 513,
    "start_time": "2023-05-04T19:09:12.251Z"
   },
   {
    "duration": 488,
    "start_time": "2023-05-04T19:09:23.905Z"
   },
   {
    "duration": 504,
    "start_time": "2023-05-04T19:09:36.062Z"
   },
   {
    "duration": 567,
    "start_time": "2023-05-04T19:09:50.199Z"
   },
   {
    "duration": 513,
    "start_time": "2023-05-04T19:09:55.879Z"
   },
   {
    "duration": 800,
    "start_time": "2023-05-04T19:10:01.509Z"
   },
   {
    "duration": 485,
    "start_time": "2023-05-04T19:10:07.156Z"
   },
   {
    "duration": 507,
    "start_time": "2023-05-04T19:10:16.771Z"
   },
   {
    "duration": 512,
    "start_time": "2023-05-04T19:10:28.791Z"
   },
   {
    "duration": 507,
    "start_time": "2023-05-04T19:10:37.996Z"
   },
   {
    "duration": 484,
    "start_time": "2023-05-04T19:10:48.215Z"
   },
   {
    "duration": 493,
    "start_time": "2023-05-04T19:11:08.207Z"
   },
   {
    "duration": 493,
    "start_time": "2023-05-04T19:11:15.022Z"
   },
   {
    "duration": 485,
    "start_time": "2023-05-04T19:11:21.782Z"
   },
   {
    "duration": 483,
    "start_time": "2023-05-04T19:13:42.397Z"
   },
   {
    "duration": 483,
    "start_time": "2023-05-04T19:13:47.682Z"
   },
   {
    "duration": 1700,
    "start_time": "2023-05-06T13:58:30.909Z"
   },
   {
    "duration": 3,
    "start_time": "2023-05-06T14:01:46.811Z"
   },
   {
    "duration": 7,
    "start_time": "2023-05-06T14:01:58.535Z"
   },
   {
    "duration": 100,
    "start_time": "2023-05-06T14:03:14.157Z"
   },
   {
    "duration": 11,
    "start_time": "2023-05-06T14:03:21.093Z"
   },
   {
    "duration": 9,
    "start_time": "2023-05-06T14:03:21.552Z"
   },
   {
    "duration": 9,
    "start_time": "2023-05-06T14:03:22.476Z"
   },
   {
    "duration": 3,
    "start_time": "2023-05-06T14:03:29.409Z"
   },
   {
    "duration": 79,
    "start_time": "2023-05-06T14:03:29.871Z"
   },
   {
    "duration": 16,
    "start_time": "2023-05-06T14:03:30.560Z"
   },
   {
    "duration": 15,
    "start_time": "2023-05-06T14:03:31.154Z"
   },
   {
    "duration": 1283,
    "start_time": "2023-05-06T14:03:31.790Z"
   },
   {
    "duration": 16,
    "start_time": "2023-05-06T14:03:33.075Z"
   },
   {
    "duration": 13,
    "start_time": "2023-05-06T14:03:33.713Z"
   },
   {
    "duration": 18,
    "start_time": "2023-05-06T14:03:43.836Z"
   },
   {
    "duration": 29,
    "start_time": "2023-05-06T14:03:45.229Z"
   },
   {
    "duration": 445,
    "start_time": "2023-05-06T14:03:47.529Z"
   },
   {
    "duration": 455,
    "start_time": "2023-05-06T14:04:27.323Z"
   },
   {
    "duration": 4,
    "start_time": "2023-05-06T14:05:19.470Z"
   },
   {
    "duration": 15,
    "start_time": "2023-05-06T14:06:17.689Z"
   },
   {
    "duration": 4,
    "start_time": "2023-05-06T14:09:31.541Z"
   },
   {
    "duration": 3,
    "start_time": "2023-05-06T14:10:34.458Z"
   },
   {
    "duration": 7,
    "start_time": "2023-05-06T14:11:42.217Z"
   },
   {
    "duration": 13,
    "start_time": "2023-05-06T14:12:47.018Z"
   },
   {
    "duration": 23,
    "start_time": "2023-05-06T14:13:09.867Z"
   },
   {
    "duration": 14,
    "start_time": "2023-05-06T14:13:16.131Z"
   },
   {
    "duration": 11,
    "start_time": "2023-05-06T14:13:38.042Z"
   },
   {
    "duration": 16,
    "start_time": "2023-05-06T14:15:09.293Z"
   },
   {
    "duration": 3,
    "start_time": "2023-05-06T14:15:40.801Z"
   },
   {
    "duration": 5,
    "start_time": "2023-05-06T14:16:25.013Z"
   },
   {
    "duration": 3,
    "start_time": "2023-05-06T14:17:12.300Z"
   },
   {
    "duration": 8,
    "start_time": "2023-05-06T14:21:49.658Z"
   },
   {
    "duration": 11,
    "start_time": "2023-05-06T14:21:50.332Z"
   },
   {
    "duration": 11,
    "start_time": "2023-05-06T14:22:28.690Z"
   },
   {
    "duration": 5,
    "start_time": "2023-05-06T14:23:30.719Z"
   },
   {
    "duration": 36,
    "start_time": "2023-05-06T14:23:32.184Z"
   },
   {
    "duration": 14,
    "start_time": "2023-05-06T14:23:32.350Z"
   },
   {
    "duration": 14,
    "start_time": "2023-05-06T14:23:32.505Z"
   },
   {
    "duration": 1098,
    "start_time": "2023-05-06T14:23:32.650Z"
   },
   {
    "duration": 8,
    "start_time": "2023-05-06T14:23:33.750Z"
   },
   {
    "duration": 33,
    "start_time": "2023-05-06T14:23:33.759Z"
   },
   {
    "duration": 17,
    "start_time": "2023-05-06T14:23:33.794Z"
   },
   {
    "duration": 28,
    "start_time": "2023-05-06T14:23:33.812Z"
   },
   {
    "duration": 477,
    "start_time": "2023-05-06T14:23:33.841Z"
   },
   {
    "duration": 444,
    "start_time": "2023-05-06T14:23:34.320Z"
   },
   {
    "duration": 4,
    "start_time": "2023-05-06T14:23:34.765Z"
   },
   {
    "duration": 29,
    "start_time": "2023-05-06T14:23:34.771Z"
   },
   {
    "duration": 15,
    "start_time": "2023-05-06T14:23:34.801Z"
   },
   {
    "duration": 8,
    "start_time": "2023-05-06T14:23:35.020Z"
   },
   {
    "duration": 9,
    "start_time": "2023-05-06T14:23:35.710Z"
   },
   {
    "duration": 9,
    "start_time": "2023-05-06T14:24:39.491Z"
   },
   {
    "duration": 4,
    "start_time": "2023-05-06T14:24:43.093Z"
   },
   {
    "duration": 8,
    "start_time": "2023-05-06T14:24:43.598Z"
   },
   {
    "duration": 9,
    "start_time": "2023-05-06T14:24:44.043Z"
   },
   {
    "duration": 10,
    "start_time": "2023-05-06T14:26:03.484Z"
   },
   {
    "duration": 9,
    "start_time": "2023-05-06T14:26:11.512Z"
   },
   {
    "duration": 8,
    "start_time": "2023-05-06T14:26:17.888Z"
   },
   {
    "duration": 10,
    "start_time": "2023-05-06T14:26:18.743Z"
   },
   {
    "duration": 8,
    "start_time": "2023-05-06T14:27:47.308Z"
   },
   {
    "duration": 10,
    "start_time": "2023-05-06T14:27:51.671Z"
   },
   {
    "duration": 88,
    "start_time": "2023-05-06T14:29:36.541Z"
   },
   {
    "duration": 9,
    "start_time": "2023-05-06T14:29:42.786Z"
   },
   {
    "duration": 27,
    "start_time": "2023-05-06T14:30:43.593Z"
   },
   {
    "duration": 4,
    "start_time": "2023-05-06T14:31:23.612Z"
   },
   {
    "duration": 1888,
    "start_time": "2023-05-06T14:32:13.784Z"
   },
   {
    "duration": 4,
    "start_time": "2023-05-06T14:32:41.972Z"
   },
   {
    "duration": 1777,
    "start_time": "2023-05-06T16:27:54.345Z"
   },
   {
    "duration": 5,
    "start_time": "2023-05-06T16:28:15.451Z"
   },
   {
    "duration": 113,
    "start_time": "2023-05-06T16:29:39.835Z"
   },
   {
    "duration": 10,
    "start_time": "2023-05-06T16:29:47.752Z"
   },
   {
    "duration": 3,
    "start_time": "2023-05-06T16:29:56.496Z"
   },
   {
    "duration": 397,
    "start_time": "2023-05-06T16:29:56.690Z"
   },
   {
    "duration": 20,
    "start_time": "2023-05-06T16:29:57.089Z"
   },
   {
    "duration": 23,
    "start_time": "2023-05-06T16:29:57.111Z"
   },
   {
    "duration": 1334,
    "start_time": "2023-05-06T16:29:57.209Z"
   },
   {
    "duration": 8,
    "start_time": "2023-05-06T16:29:58.545Z"
   },
   {
    "duration": 13,
    "start_time": "2023-05-06T16:29:59.189Z"
   },
   {
    "duration": 20,
    "start_time": "2023-05-06T16:30:00.172Z"
   },
   {
    "duration": 42,
    "start_time": "2023-05-06T16:30:00.725Z"
   },
   {
    "duration": 7,
    "start_time": "2023-05-06T16:30:01.878Z"
   },
   {
    "duration": 499,
    "start_time": "2023-05-06T16:30:03.137Z"
   },
   {
    "duration": 9,
    "start_time": "2023-05-06T16:30:39.546Z"
   },
   {
    "duration": 12,
    "start_time": "2023-05-06T16:30:43.974Z"
   },
   {
    "duration": 36,
    "start_time": "2023-05-06T16:31:19.969Z"
   },
   {
    "duration": 8,
    "start_time": "2023-05-06T16:31:21.778Z"
   },
   {
    "duration": 46,
    "start_time": "2023-05-06T16:31:40.850Z"
   },
   {
    "duration": 35,
    "start_time": "2023-05-06T16:31:45.244Z"
   },
   {
    "duration": 8,
    "start_time": "2023-05-06T16:31:48.206Z"
   },
   {
    "duration": 4,
    "start_time": "2023-05-06T16:33:09.595Z"
   },
   {
    "duration": 51,
    "start_time": "2023-05-06T16:33:10.413Z"
   },
   {
    "duration": 12,
    "start_time": "2023-05-06T16:39:04.135Z"
   },
   {
    "duration": 1551,
    "start_time": "2023-05-06T16:41:52.317Z"
   },
   {
    "duration": 41,
    "start_time": "2023-05-06T16:41:53.870Z"
   },
   {
    "duration": 21,
    "start_time": "2023-05-06T16:41:53.913Z"
   },
   {
    "duration": 27,
    "start_time": "2023-05-06T16:41:53.935Z"
   },
   {
    "duration": 1307,
    "start_time": "2023-05-06T16:41:53.965Z"
   },
   {
    "duration": 8,
    "start_time": "2023-05-06T16:41:55.273Z"
   },
   {
    "duration": 17,
    "start_time": "2023-05-06T16:41:55.283Z"
   },
   {
    "duration": 34,
    "start_time": "2023-05-06T16:41:55.302Z"
   },
   {
    "duration": 41,
    "start_time": "2023-05-06T16:41:55.339Z"
   },
   {
    "duration": 8,
    "start_time": "2023-05-06T16:41:55.382Z"
   },
   {
    "duration": 968,
    "start_time": "2023-05-06T16:41:55.392Z"
   },
   {
    "duration": 1375,
    "start_time": "2023-05-06T16:54:38.568Z"
   },
   {
    "duration": 43,
    "start_time": "2023-05-06T16:54:39.945Z"
   },
   {
    "duration": 19,
    "start_time": "2023-05-06T16:54:39.990Z"
   },
   {
    "duration": 39,
    "start_time": "2023-05-06T16:54:40.012Z"
   },
   {
    "duration": 1330,
    "start_time": "2023-05-06T16:54:40.053Z"
   },
   {
    "duration": 9,
    "start_time": "2023-05-06T16:54:41.384Z"
   },
   {
    "duration": 37,
    "start_time": "2023-05-06T16:54:41.394Z"
   },
   {
    "duration": 21,
    "start_time": "2023-05-06T16:54:41.433Z"
   },
   {
    "duration": 39,
    "start_time": "2023-05-06T16:54:41.456Z"
   },
   {
    "duration": 36,
    "start_time": "2023-05-06T16:54:41.498Z"
   },
   {
    "duration": 985,
    "start_time": "2023-05-06T16:54:41.537Z"
   },
   {
    "duration": 57,
    "start_time": "2023-05-06T16:54:42.524Z"
   },
   {
    "duration": 0,
    "start_time": "2023-05-06T16:54:42.583Z"
   },
   {
    "duration": 0,
    "start_time": "2023-05-06T16:54:42.584Z"
   },
   {
    "duration": 0,
    "start_time": "2023-05-06T16:54:42.586Z"
   },
   {
    "duration": 0,
    "start_time": "2023-05-06T16:54:42.587Z"
   },
   {
    "duration": 0,
    "start_time": "2023-05-06T16:54:42.589Z"
   },
   {
    "duration": 0,
    "start_time": "2023-05-06T16:54:42.591Z"
   },
   {
    "duration": 0,
    "start_time": "2023-05-06T16:54:42.592Z"
   },
   {
    "duration": 0,
    "start_time": "2023-05-06T16:54:42.593Z"
   },
   {
    "duration": 0,
    "start_time": "2023-05-06T16:54:42.595Z"
   },
   {
    "duration": 4,
    "start_time": "2023-05-06T16:55:04.148Z"
   },
   {
    "duration": 5,
    "start_time": "2023-05-06T16:55:16.311Z"
   },
   {
    "duration": 7,
    "start_time": "2023-05-06T16:55:21.432Z"
   },
   {
    "duration": 676105,
    "start_time": "2023-05-06T16:55:25.959Z"
   },
   {
    "duration": 5,
    "start_time": "2023-05-06T18:12:54.008Z"
   },
   {
    "duration": 370,
    "start_time": "2023-05-06T18:15:34.399Z"
   },
   {
    "duration": 436,
    "start_time": "2023-05-06T18:16:32.176Z"
   },
   {
    "duration": 8,
    "start_time": "2023-05-06T18:16:53.926Z"
   },
   {
    "duration": 422,
    "start_time": "2023-05-06T18:16:58.171Z"
   },
   {
    "duration": 436,
    "start_time": "2023-05-06T18:17:02.027Z"
   },
   {
    "duration": 421,
    "start_time": "2023-05-06T18:17:04.991Z"
   },
   {
    "duration": 451,
    "start_time": "2023-05-06T18:17:07.610Z"
   },
   {
    "duration": 10,
    "start_time": "2023-05-06T19:22:27.465Z"
   },
   {
    "duration": 5,
    "start_time": "2023-05-06T19:25:52.697Z"
   },
   {
    "duration": 8,
    "start_time": "2023-05-06T19:26:04.456Z"
   },
   {
    "duration": 26,
    "start_time": "2023-05-06T19:28:07.708Z"
   },
   {
    "duration": 54,
    "start_time": "2023-05-07T12:29:52.971Z"
   },
   {
    "duration": 1858,
    "start_time": "2023-05-07T12:30:02.019Z"
   },
   {
    "duration": 391,
    "start_time": "2023-05-07T12:30:04.612Z"
   },
   {
    "duration": 19,
    "start_time": "2023-05-07T12:30:05.005Z"
   },
   {
    "duration": 15,
    "start_time": "2023-05-07T12:30:05.218Z"
   },
   {
    "duration": 1230,
    "start_time": "2023-05-07T12:30:05.428Z"
   },
   {
    "duration": 8,
    "start_time": "2023-05-07T12:30:07.670Z"
   },
   {
    "duration": 6,
    "start_time": "2023-05-07T12:30:08.735Z"
   },
   {
    "duration": 13,
    "start_time": "2023-05-07T12:30:12.074Z"
   },
   {
    "duration": 26,
    "start_time": "2023-05-07T12:30:17.951Z"
   },
   {
    "duration": 26,
    "start_time": "2023-05-07T12:30:34.823Z"
   },
   {
    "duration": 26,
    "start_time": "2023-05-07T12:31:49.424Z"
   },
   {
    "duration": 25,
    "start_time": "2023-05-07T12:32:18.433Z"
   },
   {
    "duration": 28,
    "start_time": "2023-05-07T12:33:07.046Z"
   },
   {
    "duration": 18,
    "start_time": "2023-05-07T12:33:33.766Z"
   },
   {
    "duration": 268,
    "start_time": "2023-05-07T12:34:04.471Z"
   },
   {
    "duration": 11,
    "start_time": "2023-05-07T12:34:13.530Z"
   },
   {
    "duration": 13,
    "start_time": "2023-05-07T12:34:22.776Z"
   },
   {
    "duration": 16,
    "start_time": "2023-05-07T12:34:30.198Z"
   },
   {
    "duration": 19,
    "start_time": "2023-05-07T12:35:18.601Z"
   },
   {
    "duration": 27,
    "start_time": "2023-05-07T12:36:42.394Z"
   },
   {
    "duration": 10,
    "start_time": "2023-05-07T12:40:55.388Z"
   },
   {
    "duration": 27,
    "start_time": "2023-05-07T12:42:21.787Z"
   },
   {
    "duration": 13,
    "start_time": "2023-05-07T12:42:35.075Z"
   },
   {
    "duration": 6,
    "start_time": "2023-05-07T12:43:40.648Z"
   },
   {
    "duration": 38,
    "start_time": "2023-05-07T12:43:52.809Z"
   },
   {
    "duration": 34,
    "start_time": "2023-05-07T12:44:18.807Z"
   },
   {
    "duration": 31,
    "start_time": "2023-05-07T12:44:25.277Z"
   },
   {
    "duration": 84,
    "start_time": "2023-05-07T14:50:20.210Z"
   },
   {
    "duration": 2074,
    "start_time": "2023-05-07T14:50:26.971Z"
   },
   {
    "duration": 108,
    "start_time": "2023-05-07T14:50:29.875Z"
   },
   {
    "duration": 24,
    "start_time": "2023-05-07T14:50:30.314Z"
   },
   {
    "duration": 20,
    "start_time": "2023-05-07T14:50:30.532Z"
   },
   {
    "duration": 1724,
    "start_time": "2023-05-07T14:50:30.738Z"
   },
   {
    "duration": 11,
    "start_time": "2023-05-07T14:50:32.465Z"
   },
   {
    "duration": 20,
    "start_time": "2023-05-07T14:50:32.488Z"
   },
   {
    "duration": 24,
    "start_time": "2023-05-07T14:50:32.511Z"
   },
   {
    "duration": 34,
    "start_time": "2023-05-07T14:50:32.537Z"
   },
   {
    "duration": 26,
    "start_time": "2023-05-07T14:50:32.573Z"
   },
   {
    "duration": 6,
    "start_time": "2023-05-07T14:50:32.613Z"
   },
   {
    "duration": 31,
    "start_time": "2023-05-07T14:50:32.622Z"
   },
   {
    "duration": 22,
    "start_time": "2023-05-07T14:50:44.706Z"
   },
   {
    "duration": 104,
    "start_time": "2023-05-07T14:55:24.011Z"
   },
   {
    "duration": 23,
    "start_time": "2023-05-07T14:55:29.502Z"
   },
   {
    "duration": 44,
    "start_time": "2023-05-07T14:55:37.923Z"
   },
   {
    "duration": 12,
    "start_time": "2023-05-07T14:55:39.933Z"
   },
   {
    "duration": 7,
    "start_time": "2023-05-07T14:57:08.201Z"
   },
   {
    "duration": 11,
    "start_time": "2023-05-07T14:57:30.257Z"
   },
   {
    "duration": 16566,
    "start_time": "2023-05-07T14:58:10.326Z"
   },
   {
    "duration": 16608,
    "start_time": "2023-05-07T14:58:57.479Z"
   },
   {
    "duration": 56,
    "start_time": "2023-05-07T15:00:51.079Z"
   },
   {
    "duration": 12,
    "start_time": "2023-05-07T15:00:54.149Z"
   },
   {
    "duration": 12,
    "start_time": "2023-05-07T16:33:25.629Z"
   },
   {
    "duration": 8,
    "start_time": "2023-05-07T16:33:30.957Z"
   },
   {
    "duration": 26,
    "start_time": "2023-05-07T16:33:55.805Z"
   },
   {
    "duration": 20586,
    "start_time": "2023-05-07T16:34:11.654Z"
   },
   {
    "duration": 56,
    "start_time": "2023-05-07T16:35:31.125Z"
   },
   {
    "duration": 11,
    "start_time": "2023-05-07T16:35:33.320Z"
   },
   {
    "duration": 472,
    "start_time": "2023-05-07T16:36:23.306Z"
   },
   {
    "duration": 15,
    "start_time": "2023-05-07T16:40:42.775Z"
   },
   {
    "duration": 12141,
    "start_time": "2023-05-07T16:41:30.759Z"
   },
   {
    "duration": 9296,
    "start_time": "2023-05-07T16:41:57.094Z"
   },
   {
    "duration": 427,
    "start_time": "2023-05-07T16:42:23.667Z"
   },
   {
    "duration": 7894,
    "start_time": "2023-05-07T16:42:28.914Z"
   },
   {
    "duration": 72590,
    "start_time": "2023-05-07T16:45:35.099Z"
   },
   {
    "duration": 76994,
    "start_time": "2023-05-07T16:47:26.616Z"
   },
   {
    "duration": 92,
    "start_time": "2023-05-07T17:46:48.642Z"
   },
   {
    "duration": 17,
    "start_time": "2023-05-07T17:46:57.638Z"
   },
   {
    "duration": 22,
    "start_time": "2023-05-07T17:48:54.159Z"
   },
   {
    "duration": 18,
    "start_time": "2023-05-07T17:49:06.361Z"
   },
   {
    "duration": 14,
    "start_time": "2023-05-07T17:49:22.108Z"
   },
   {
    "duration": 196,
    "start_time": "2023-05-07T17:55:14.919Z"
   },
   {
    "duration": 206,
    "start_time": "2023-05-07T17:55:32.649Z"
   },
   {
    "duration": 15,
    "start_time": "2023-05-07T17:56:01.507Z"
   },
   {
    "duration": 22,
    "start_time": "2023-05-07T17:56:12.051Z"
   },
   {
    "duration": 19,
    "start_time": "2023-05-07T17:56:22.447Z"
   },
   {
    "duration": 19,
    "start_time": "2023-05-07T17:56:46.036Z"
   },
   {
    "duration": 14,
    "start_time": "2023-05-07T17:57:37.934Z"
   },
   {
    "duration": 26,
    "start_time": "2023-05-07T18:00:54.206Z"
   },
   {
    "duration": 72,
    "start_time": "2023-05-07T18:01:04.013Z"
   },
   {
    "duration": 24,
    "start_time": "2023-05-07T18:01:12.641Z"
   },
   {
    "duration": 380,
    "start_time": "2023-05-07T18:01:59.972Z"
   },
   {
    "duration": 8,
    "start_time": "2023-05-07T18:02:07.694Z"
   },
   {
    "duration": 16,
    "start_time": "2023-05-07T18:03:05.504Z"
   },
   {
    "duration": 17946,
    "start_time": "2023-05-07T18:03:15.503Z"
   },
   {
    "duration": 51,
    "start_time": "2023-05-07T18:04:04.216Z"
   },
   {
    "duration": 8,
    "start_time": "2023-05-07T18:04:07.743Z"
   },
   {
    "duration": 545558,
    "start_time": "2023-05-07T18:14:37.305Z"
   },
   {
    "duration": 294,
    "start_time": "2023-05-07T18:28:02.983Z"
   },
   {
    "duration": 32956,
    "start_time": "2023-05-07T18:28:16.336Z"
   },
   {
    "duration": 83,
    "start_time": "2023-05-07T18:29:53.103Z"
   },
   {
    "duration": 89,
    "start_time": "2023-05-07T18:30:08.298Z"
   },
   {
    "duration": 24,
    "start_time": "2023-05-07T18:31:24.269Z"
   },
   {
    "duration": 27,
    "start_time": "2023-05-07T18:32:34.469Z"
   },
   {
    "duration": 18460,
    "start_time": "2023-05-07T18:32:35.224Z"
   },
   {
    "duration": 51,
    "start_time": "2023-05-07T18:32:53.685Z"
   },
   {
    "duration": 57,
    "start_time": "2023-05-07T18:33:07.400Z"
   },
   {
    "duration": 10,
    "start_time": "2023-05-07T18:33:08.213Z"
   },
   {
    "duration": 3,
    "start_time": "2023-05-07T18:36:08.603Z"
   },
   {
    "duration": 3,
    "start_time": "2023-05-07T18:36:47.575Z"
   },
   {
    "duration": 9,
    "start_time": "2023-05-07T18:37:25.688Z"
   },
   {
    "duration": 18,
    "start_time": "2023-05-07T18:37:31.917Z"
   },
   {
    "duration": 18,
    "start_time": "2023-05-07T18:38:00.901Z"
   },
   {
    "duration": 35,
    "start_time": "2023-05-07T18:38:13.473Z"
   },
   {
    "duration": 34,
    "start_time": "2023-05-07T18:38:51.209Z"
   },
   {
    "duration": 16,
    "start_time": "2023-05-07T18:39:32.506Z"
   },
   {
    "duration": 19138,
    "start_time": "2023-05-07T18:39:43.719Z"
   },
   {
    "duration": 45,
    "start_time": "2023-05-07T18:41:31.574Z"
   },
   {
    "duration": 9,
    "start_time": "2023-05-07T18:41:35.268Z"
   },
   {
    "duration": 1718,
    "start_time": "2023-05-07T18:41:44.336Z"
   },
   {
    "duration": 596564,
    "start_time": "2023-05-07T18:42:00.713Z"
   },
   {
    "duration": 295,
    "start_time": "2023-05-07T18:57:06.581Z"
   },
   {
    "duration": 123,
    "start_time": "2023-05-07T18:57:20.865Z"
   },
   {
    "duration": 22,
    "start_time": "2023-05-07T18:59:39.990Z"
   },
   {
    "duration": 18969,
    "start_time": "2023-05-07T18:59:42.598Z"
   },
   {
    "duration": 8,
    "start_time": "2023-05-07T19:00:35.951Z"
   },
   {
    "duration": 15,
    "start_time": "2023-05-07T19:01:28.130Z"
   },
   {
    "duration": 13,
    "start_time": "2023-05-07T19:05:39.963Z"
   },
   {
    "duration": 38,
    "start_time": "2023-05-07T19:05:47.950Z"
   },
   {
    "duration": 6,
    "start_time": "2023-05-07T19:05:50.933Z"
   },
   {
    "duration": 287,
    "start_time": "2023-05-07T19:05:56.596Z"
   },
   {
    "duration": 18,
    "start_time": "2023-05-07T19:06:05.531Z"
   },
   {
    "duration": 55,
    "start_time": "2023-05-08T12:08:58.799Z"
   },
   {
    "duration": 1525,
    "start_time": "2023-05-08T12:09:08.253Z"
   },
   {
    "duration": 178,
    "start_time": "2023-05-08T12:09:09.780Z"
   },
   {
    "duration": 15,
    "start_time": "2023-05-08T12:09:09.959Z"
   },
   {
    "duration": 12,
    "start_time": "2023-05-08T12:09:09.976Z"
   },
   {
    "duration": 1133,
    "start_time": "2023-05-08T12:09:09.989Z"
   },
   {
    "duration": 25,
    "start_time": "2023-05-08T12:09:11.124Z"
   },
   {
    "duration": 4,
    "start_time": "2023-05-08T12:09:11.151Z"
   },
   {
    "duration": 14,
    "start_time": "2023-05-08T12:09:11.157Z"
   },
   {
    "duration": 21,
    "start_time": "2023-05-08T12:09:11.172Z"
   },
   {
    "duration": 8,
    "start_time": "2023-05-08T12:09:11.195Z"
   },
   {
    "duration": 5,
    "start_time": "2023-05-08T12:09:11.204Z"
   },
   {
    "duration": 7,
    "start_time": "2023-05-08T12:09:11.211Z"
   },
   {
    "duration": 126,
    "start_time": "2023-05-08T12:09:11.234Z"
   },
   {
    "duration": 15,
    "start_time": "2023-05-08T12:09:11.362Z"
   },
   {
    "duration": 34,
    "start_time": "2023-05-08T12:09:11.379Z"
   },
   {
    "duration": 39,
    "start_time": "2023-05-08T12:09:11.415Z"
   },
   {
    "duration": 39,
    "start_time": "2023-05-08T12:09:11.456Z"
   },
   {
    "duration": 14293,
    "start_time": "2023-05-08T12:09:11.497Z"
   },
   {
    "duration": 55,
    "start_time": "2023-05-08T12:09:25.792Z"
   },
   {
    "duration": 7,
    "start_time": "2023-05-08T12:09:25.848Z"
   },
   {
    "duration": 128,
    "start_time": "2023-05-08T12:09:25.856Z"
   },
   {
    "duration": 0,
    "start_time": "2023-05-08T12:09:25.986Z"
   },
   {
    "duration": 0,
    "start_time": "2023-05-08T12:09:25.988Z"
   },
   {
    "duration": 0,
    "start_time": "2023-05-08T12:09:25.988Z"
   },
   {
    "duration": 0,
    "start_time": "2023-05-08T12:09:25.989Z"
   },
   {
    "duration": 0,
    "start_time": "2023-05-08T12:09:25.990Z"
   },
   {
    "duration": 0,
    "start_time": "2023-05-08T12:09:25.991Z"
   },
   {
    "duration": 0,
    "start_time": "2023-05-08T12:09:25.992Z"
   },
   {
    "duration": 0,
    "start_time": "2023-05-08T12:09:25.993Z"
   },
   {
    "duration": 0,
    "start_time": "2023-05-08T12:09:25.994Z"
   },
   {
    "duration": 0,
    "start_time": "2023-05-08T12:09:25.995Z"
   },
   {
    "duration": 0,
    "start_time": "2023-05-08T12:09:25.996Z"
   },
   {
    "duration": 0,
    "start_time": "2023-05-08T12:09:25.997Z"
   },
   {
    "duration": 0,
    "start_time": "2023-05-08T12:09:25.998Z"
   },
   {
    "duration": 102,
    "start_time": "2023-05-08T12:09:51.053Z"
   },
   {
    "duration": 99,
    "start_time": "2023-05-08T12:09:58.288Z"
   },
   {
    "duration": 17,
    "start_time": "2023-05-08T12:19:57.663Z"
   },
   {
    "duration": 18,
    "start_time": "2023-05-08T12:20:24.105Z"
   },
   {
    "duration": 14,
    "start_time": "2023-05-08T12:20:44.363Z"
   },
   {
    "duration": 17,
    "start_time": "2023-05-08T12:21:26.143Z"
   },
   {
    "duration": 15,
    "start_time": "2023-05-08T12:21:44.914Z"
   },
   {
    "duration": 15,
    "start_time": "2023-05-08T12:21:57.141Z"
   },
   {
    "duration": 20,
    "start_time": "2023-05-08T12:21:59.855Z"
   },
   {
    "duration": 20,
    "start_time": "2023-05-08T12:22:01.803Z"
   },
   {
    "duration": 16785,
    "start_time": "2023-05-08T12:24:40.060Z"
   },
   {
    "duration": 41,
    "start_time": "2023-05-08T12:25:31.499Z"
   },
   {
    "duration": 7,
    "start_time": "2023-05-08T12:25:34.232Z"
   },
   {
    "duration": 46,
    "start_time": "2023-05-08T12:29:41.111Z"
   },
   {
    "duration": 2,
    "start_time": "2023-05-08T12:30:09.458Z"
   },
   {
    "duration": 526782,
    "start_time": "2023-05-08T12:30:17.006Z"
   },
   {
    "duration": 71,
    "start_time": "2023-05-08T12:39:03.790Z"
   },
   {
    "duration": 205,
    "start_time": "2023-05-08T13:00:32.509Z"
   },
   {
    "duration": 655,
    "start_time": "2023-05-08T13:00:39.846Z"
   },
   {
    "duration": 334,
    "start_time": "2023-05-08T13:00:50.073Z"
   },
   {
    "duration": 210,
    "start_time": "2023-05-08T13:00:55.534Z"
   },
   {
    "duration": 49371,
    "start_time": "2023-05-08T13:01:03.465Z"
   },
   {
    "duration": 23,
    "start_time": "2023-05-08T13:01:59.338Z"
   },
   {
    "duration": 194,
    "start_time": "2023-05-08T15:39:17.288Z"
   },
   {
    "duration": 25,
    "start_time": "2023-05-08T15:39:22.799Z"
   },
   {
    "duration": 3,
    "start_time": "2023-05-08T15:50:22.981Z"
   },
   {
    "duration": 8,
    "start_time": "2023-05-08T15:51:45.807Z"
   },
   {
    "duration": 22,
    "start_time": "2023-05-08T15:52:15.841Z"
   },
   {
    "duration": 193,
    "start_time": "2023-05-08T15:52:28.688Z"
   },
   {
    "duration": 7,
    "start_time": "2023-05-08T15:52:35.882Z"
   },
   {
    "duration": 7,
    "start_time": "2023-05-08T15:52:40.395Z"
   },
   {
    "duration": 6,
    "start_time": "2023-05-08T15:52:44.822Z"
   },
   {
    "duration": 5,
    "start_time": "2023-05-08T15:52:48.406Z"
   },
   {
    "duration": 63,
    "start_time": "2023-05-08T15:53:00.509Z"
   },
   {
    "duration": 39,
    "start_time": "2023-05-08T15:53:07.152Z"
   },
   {
    "duration": 7,
    "start_time": "2023-05-08T15:53:11.723Z"
   },
   {
    "duration": 12,
    "start_time": "2023-05-08T16:02:40.567Z"
   },
   {
    "duration": 9,
    "start_time": "2023-05-08T16:05:01.109Z"
   },
   {
    "duration": 64,
    "start_time": "2023-05-08T16:05:20.500Z"
   },
   {
    "duration": 11,
    "start_time": "2023-05-08T16:05:38.748Z"
   },
   {
    "duration": 43,
    "start_time": "2023-05-08T16:05:51.430Z"
   },
   {
    "duration": 9,
    "start_time": "2023-05-08T16:06:03.330Z"
   },
   {
    "duration": 9,
    "start_time": "2023-05-08T16:06:14.285Z"
   },
   {
    "duration": 10,
    "start_time": "2023-05-08T16:06:47.137Z"
   },
   {
    "duration": 40,
    "start_time": "2023-05-08T16:07:46.458Z"
   },
   {
    "duration": 201,
    "start_time": "2023-05-08T16:07:51.275Z"
   },
   {
    "duration": 26,
    "start_time": "2023-05-08T16:07:54.437Z"
   },
   {
    "duration": 8,
    "start_time": "2023-05-08T16:07:57.853Z"
   },
   {
    "duration": 55,
    "start_time": "2023-05-08T16:14:04.503Z"
   },
   {
    "duration": 9,
    "start_time": "2023-05-08T16:14:10.311Z"
   },
   {
    "duration": 198,
    "start_time": "2023-05-08T16:15:10.631Z"
   },
   {
    "duration": 191,
    "start_time": "2023-05-08T16:15:22.997Z"
   },
   {
    "duration": 39,
    "start_time": "2023-05-08T16:15:31.751Z"
   },
   {
    "duration": 40,
    "start_time": "2023-05-08T16:15:37.827Z"
   },
   {
    "duration": 38,
    "start_time": "2023-05-08T16:16:12.478Z"
   },
   {
    "duration": 196,
    "start_time": "2023-05-08T16:16:28.271Z"
   },
   {
    "duration": 26,
    "start_time": "2023-05-08T16:16:37.872Z"
   },
   {
    "duration": 39,
    "start_time": "2023-05-08T16:21:03.568Z"
   },
   {
    "duration": 197,
    "start_time": "2023-05-08T16:21:34.832Z"
   },
   {
    "duration": 24,
    "start_time": "2023-05-08T16:22:11.571Z"
   },
   {
    "duration": 43,
    "start_time": "2023-05-08T16:22:32.312Z"
   },
   {
    "duration": 195,
    "start_time": "2023-05-08T16:22:40.230Z"
   },
   {
    "duration": 199,
    "start_time": "2023-05-08T16:22:50.976Z"
   },
   {
    "duration": 223,
    "start_time": "2023-05-08T16:22:59.628Z"
   },
   {
    "duration": 55,
    "start_time": "2023-05-08T16:23:41.710Z"
   },
   {
    "duration": 8,
    "start_time": "2023-05-08T16:28:01.208Z"
   },
   {
    "duration": 9,
    "start_time": "2023-05-08T16:28:24.011Z"
   },
   {
    "duration": 15,
    "start_time": "2023-05-08T16:33:35.359Z"
   },
   {
    "duration": 21,
    "start_time": "2023-05-08T16:35:52.561Z"
   },
   {
    "duration": 3,
    "start_time": "2023-05-08T16:36:26.418Z"
   },
   {
    "duration": 18,
    "start_time": "2023-05-08T16:36:42.934Z"
   },
   {
    "duration": 16,
    "start_time": "2023-05-08T16:38:43.318Z"
   },
   {
    "duration": 70,
    "start_time": "2023-05-08T16:39:38.911Z"
   },
   {
    "duration": 390,
    "start_time": "2023-05-08T16:40:43.957Z"
   },
   {
    "duration": 127,
    "start_time": "2023-05-08T16:41:20.258Z"
   },
   {
    "duration": 266,
    "start_time": "2023-05-08T16:41:48.079Z"
   },
   {
    "duration": 200,
    "start_time": "2023-05-08T16:42:06.553Z"
   },
   {
    "duration": 196,
    "start_time": "2023-05-08T16:42:15.961Z"
   },
   {
    "duration": 188,
    "start_time": "2023-05-08T16:42:35.271Z"
   },
   {
    "duration": 111,
    "start_time": "2023-05-08T16:43:53.530Z"
   },
   {
    "duration": 42,
    "start_time": "2023-05-08T16:53:45.876Z"
   },
   {
    "duration": 461,
    "start_time": "2023-05-08T16:53:55.212Z"
   },
   {
    "duration": 434,
    "start_time": "2023-05-08T16:54:07.705Z"
   },
   {
    "duration": 48,
    "start_time": "2023-05-08T16:54:17.635Z"
   },
   {
    "duration": 51,
    "start_time": "2023-05-08T16:54:58.711Z"
   },
   {
    "duration": 380,
    "start_time": "2023-05-08T16:55:19.418Z"
   },
   {
    "duration": 48,
    "start_time": "2023-05-08T16:55:35.606Z"
   },
   {
    "duration": 17,
    "start_time": "2023-05-08T16:56:00.909Z"
   },
   {
    "duration": 46,
    "start_time": "2023-05-08T16:57:58.517Z"
   },
   {
    "duration": 13,
    "start_time": "2023-05-08T17:01:10.735Z"
   },
   {
    "duration": 19,
    "start_time": "2023-05-08T17:02:16.309Z"
   },
   {
    "duration": 16,
    "start_time": "2023-05-08T17:02:42.789Z"
   },
   {
    "duration": 112,
    "start_time": "2023-05-08T17:02:58.006Z"
   },
   {
    "duration": 15,
    "start_time": "2023-05-08T17:03:50.862Z"
   },
   {
    "duration": 19,
    "start_time": "2023-05-08T17:04:04.904Z"
   },
   {
    "duration": 14,
    "start_time": "2023-05-08T17:04:29.309Z"
   },
   {
    "duration": 12,
    "start_time": "2023-05-08T17:04:48.812Z"
   },
   {
    "duration": 23,
    "start_time": "2023-05-08T17:04:50.012Z"
   },
   {
    "duration": 86,
    "start_time": "2023-05-08T17:04:52.408Z"
   },
   {
    "duration": 78,
    "start_time": "2023-05-08T17:04:53.862Z"
   },
   {
    "duration": 41,
    "start_time": "2023-05-08T17:06:51.862Z"
   },
   {
    "duration": 202,
    "start_time": "2023-05-08T17:06:54.206Z"
   },
   {
    "duration": 176,
    "start_time": "2023-05-08T17:06:57.460Z"
   },
   {
    "duration": 129,
    "start_time": "2023-05-08T17:07:22.309Z"
   },
   {
    "duration": 106,
    "start_time": "2023-05-08T17:07:39.431Z"
   },
   {
    "duration": 91,
    "start_time": "2023-05-08T17:07:43.758Z"
   },
   {
    "duration": 16,
    "start_time": "2023-05-08T17:07:47.613Z"
   },
   {
    "duration": 71,
    "start_time": "2023-05-08T17:07:55.869Z"
   },
   {
    "duration": 37,
    "start_time": "2023-05-08T17:08:05.263Z"
   },
   {
    "duration": 24,
    "start_time": "2023-05-08T17:08:13.205Z"
   },
   {
    "duration": 32,
    "start_time": "2023-05-08T17:08:21.425Z"
   },
   {
    "duration": 6,
    "start_time": "2023-05-08T17:09:28.463Z"
   },
   {
    "duration": 6,
    "start_time": "2023-05-08T17:09:39.563Z"
   },
   {
    "duration": 5,
    "start_time": "2023-05-08T17:11:17.554Z"
   },
   {
    "duration": 44,
    "start_time": "2023-05-08T17:15:43.022Z"
   },
   {
    "duration": 44,
    "start_time": "2023-05-08T17:17:18.911Z"
   },
   {
    "duration": 61,
    "start_time": "2023-05-08T17:17:33.178Z"
   },
   {
    "duration": 204,
    "start_time": "2023-05-08T17:18:43.464Z"
   },
   {
    "duration": 208,
    "start_time": "2023-05-08T17:19:04.829Z"
   },
   {
    "duration": 62,
    "start_time": "2023-05-08T17:19:12.206Z"
   },
   {
    "duration": 202,
    "start_time": "2023-05-08T17:19:14.749Z"
   },
   {
    "duration": 229,
    "start_time": "2023-05-08T17:19:50.905Z"
   },
   {
    "duration": 217,
    "start_time": "2023-05-08T17:20:16.001Z"
   },
   {
    "duration": 230,
    "start_time": "2023-05-08T17:20:30.861Z"
   },
   {
    "duration": 269,
    "start_time": "2023-05-08T17:21:53.970Z"
   },
   {
    "duration": 45,
    "start_time": "2023-05-08T19:15:16.082Z"
   },
   {
    "duration": 1655,
    "start_time": "2023-05-08T19:15:25.652Z"
   },
   {
    "duration": 79,
    "start_time": "2023-05-08T19:15:27.309Z"
   },
   {
    "duration": 18,
    "start_time": "2023-05-08T19:15:27.390Z"
   },
   {
    "duration": 13,
    "start_time": "2023-05-08T19:15:27.410Z"
   },
   {
    "duration": 1239,
    "start_time": "2023-05-08T19:15:27.424Z"
   },
   {
    "duration": 7,
    "start_time": "2023-05-08T19:15:28.665Z"
   },
   {
    "duration": 14,
    "start_time": "2023-05-08T19:15:28.674Z"
   },
   {
    "duration": 15,
    "start_time": "2023-05-08T19:15:28.690Z"
   },
   {
    "duration": 19,
    "start_time": "2023-05-08T19:15:28.706Z"
   },
   {
    "duration": 8,
    "start_time": "2023-05-08T19:15:28.728Z"
   },
   {
    "duration": 5,
    "start_time": "2023-05-08T19:15:28.737Z"
   },
   {
    "duration": 14,
    "start_time": "2023-05-08T19:15:28.743Z"
   },
   {
    "duration": 142,
    "start_time": "2023-05-08T19:15:28.758Z"
   },
   {
    "duration": 16,
    "start_time": "2023-05-08T19:15:28.902Z"
   },
   {
    "duration": 18,
    "start_time": "2023-05-08T19:15:28.919Z"
   },
   {
    "duration": 3,
    "start_time": "2023-05-08T19:15:28.938Z"
   },
   {
    "duration": 4,
    "start_time": "2023-05-08T19:15:28.942Z"
   },
   {
    "duration": 17727,
    "start_time": "2023-05-08T19:15:28.947Z"
   },
   {
    "duration": 47,
    "start_time": "2023-05-08T19:15:46.676Z"
   },
   {
    "duration": 2,
    "start_time": "2023-05-08T19:15:46.724Z"
   },
   {
    "duration": 532215,
    "start_time": "2023-05-08T19:15:46.728Z"
   },
   {
    "duration": 213,
    "start_time": "2023-05-08T19:24:38.944Z"
   },
   {
    "duration": 29828,
    "start_time": "2023-05-08T19:24:39.158Z"
   },
   {
    "duration": 111,
    "start_time": "2023-05-08T19:25:08.989Z"
   },
   {
    "duration": 183,
    "start_time": "2023-05-08T19:25:09.103Z"
   },
   {
    "duration": 42,
    "start_time": "2023-05-08T19:25:09.288Z"
   },
   {
    "duration": 223,
    "start_time": "2023-05-08T19:25:09.332Z"
   },
   {
    "duration": 127,
    "start_time": "2023-05-08T19:25:09.559Z"
   },
   {
    "duration": 107,
    "start_time": "2023-05-08T19:25:09.688Z"
   },
   {
    "duration": 50,
    "start_time": "2023-05-08T19:25:09.797Z"
   },
   {
    "duration": 421,
    "start_time": "2023-05-08T19:25:09.850Z"
   },
   {
    "duration": 212,
    "start_time": "2023-05-08T19:25:10.273Z"
   },
   {
    "duration": 105,
    "start_time": "2023-05-08T19:25:10.488Z"
   },
   {
    "duration": 18,
    "start_time": "2023-05-08T19:25:10.595Z"
   },
   {
    "duration": 107,
    "start_time": "2023-05-08T19:25:10.614Z"
   },
   {
    "duration": 69,
    "start_time": "2023-05-08T19:25:10.723Z"
   },
   {
    "duration": 196,
    "start_time": "2023-05-08T19:25:10.795Z"
   },
   {
    "duration": 235,
    "start_time": "2023-05-08T19:25:10.992Z"
   },
   {
    "duration": 266,
    "start_time": "2023-05-08T19:25:11.229Z"
   },
   {
    "duration": 3,
    "start_time": "2023-05-08T19:25:11.497Z"
   },
   {
    "duration": 6,
    "start_time": "2023-05-08T19:25:11.502Z"
   },
   {
    "duration": 10,
    "start_time": "2023-05-08T19:25:11.510Z"
   },
   {
    "duration": 4,
    "start_time": "2023-05-08T19:25:11.521Z"
   },
   {
    "duration": 7,
    "start_time": "2023-05-08T19:25:11.526Z"
   },
   {
    "duration": 354,
    "start_time": "2023-05-08T19:31:39.888Z"
   },
   {
    "duration": 25,
    "start_time": "2023-05-08T19:31:48.162Z"
   },
   {
    "duration": 30,
    "start_time": "2023-05-08T19:35:16.871Z"
   },
   {
    "duration": 208,
    "start_time": "2023-05-08T19:35:24.467Z"
   },
   {
    "duration": 29,
    "start_time": "2023-05-08T19:36:02.508Z"
   },
   {
    "duration": 108,
    "start_time": "2023-05-08T19:44:25.204Z"
   },
   {
    "duration": 13,
    "start_time": "2023-05-08T19:44:39.136Z"
   },
   {
    "duration": 17,
    "start_time": "2023-05-08T19:44:46.115Z"
   },
   {
    "duration": 25,
    "start_time": "2023-05-08T19:44:56.977Z"
   },
   {
    "duration": 315,
    "start_time": "2023-05-08T19:45:01.174Z"
   },
   {
    "duration": 102,
    "start_time": "2023-05-08T19:45:07.783Z"
   },
   {
    "duration": 24,
    "start_time": "2023-05-08T19:45:18.747Z"
   },
   {
    "duration": 171,
    "start_time": "2023-05-08T19:45:22.037Z"
   },
   {
    "duration": 46,
    "start_time": "2023-05-08T19:45:28.140Z"
   },
   {
    "duration": 16,
    "start_time": "2023-05-08T19:45:37.129Z"
   },
   {
    "duration": 37,
    "start_time": "2023-05-08T19:45:38.850Z"
   },
   {
    "duration": 350,
    "start_time": "2023-05-08T19:45:40.695Z"
   },
   {
    "duration": 104,
    "start_time": "2023-05-08T19:45:42.983Z"
   },
   {
    "duration": 14,
    "start_time": "2023-05-08T19:45:46.802Z"
   },
   {
    "duration": 16,
    "start_time": "2023-05-08T19:45:48.610Z"
   },
   {
    "duration": 89,
    "start_time": "2023-05-08T19:45:50.034Z"
   },
   {
    "duration": 24,
    "start_time": "2023-05-08T19:45:51.935Z"
   },
   {
    "duration": 55,
    "start_time": "2023-05-08T19:45:57.568Z"
   },
   {
    "duration": 195,
    "start_time": "2023-05-08T19:46:02.084Z"
   },
   {
    "duration": 250,
    "start_time": "2023-05-08T19:46:05.541Z"
   },
   {
    "duration": 12,
    "start_time": "2023-05-08T19:58:39.793Z"
   },
   {
    "duration": 13,
    "start_time": "2023-05-08T19:59:36.826Z"
   },
   {
    "duration": 37,
    "start_time": "2023-05-08T20:00:05.425Z"
   },
   {
    "duration": 23,
    "start_time": "2023-05-08T20:00:34.944Z"
   },
   {
    "duration": 293,
    "start_time": "2023-05-08T20:00:38.939Z"
   },
   {
    "duration": 21,
    "start_time": "2023-05-08T20:00:42.541Z"
   },
   {
    "duration": 30,
    "start_time": "2023-05-08T20:00:48.649Z"
   },
   {
    "duration": 193,
    "start_time": "2023-05-08T20:00:50.548Z"
   },
   {
    "duration": 23,
    "start_time": "2023-05-08T20:00:54.112Z"
   },
   {
    "duration": 14,
    "start_time": "2023-05-08T20:00:57.573Z"
   },
   {
    "duration": 47,
    "start_time": "2023-05-08T20:00:59.477Z"
   },
   {
    "duration": 334,
    "start_time": "2023-05-08T20:01:01.892Z"
   },
   {
    "duration": 31,
    "start_time": "2023-05-08T20:01:05.408Z"
   },
   {
    "duration": 10,
    "start_time": "2023-05-08T20:01:09.401Z"
   },
   {
    "duration": 15,
    "start_time": "2023-05-08T20:01:11.822Z"
   },
   {
    "duration": 85,
    "start_time": "2023-05-08T20:01:13.417Z"
   },
   {
    "duration": 18,
    "start_time": "2023-05-08T20:01:15.312Z"
   },
   {
    "duration": 50,
    "start_time": "2023-05-08T20:01:48.769Z"
   },
   {
    "duration": 201,
    "start_time": "2023-05-08T20:01:52.720Z"
   },
   {
    "duration": 158,
    "start_time": "2023-05-08T20:01:57.238Z"
   },
   {
    "duration": 11,
    "start_time": "2023-05-08T20:02:14.531Z"
   },
   {
    "duration": 22,
    "start_time": "2023-05-08T20:03:04.839Z"
   },
   {
    "duration": 177,
    "start_time": "2023-05-08T20:04:05.351Z"
   },
   {
    "duration": 1565,
    "start_time": "2023-05-09T13:44:49.155Z"
   },
   {
    "duration": 178,
    "start_time": "2023-05-09T13:44:51.844Z"
   },
   {
    "duration": 19,
    "start_time": "2023-05-09T13:44:52.301Z"
   },
   {
    "duration": 18,
    "start_time": "2023-05-09T13:44:52.519Z"
   },
   {
    "duration": 1188,
    "start_time": "2023-05-09T13:44:52.716Z"
   },
   {
    "duration": 14,
    "start_time": "2023-05-09T13:44:53.906Z"
   },
   {
    "duration": 28,
    "start_time": "2023-05-09T13:44:53.921Z"
   },
   {
    "duration": 26,
    "start_time": "2023-05-09T13:44:53.952Z"
   },
   {
    "duration": 3,
    "start_time": "2023-05-09T13:44:53.979Z"
   },
   {
    "duration": 3,
    "start_time": "2023-05-09T13:44:54.756Z"
   },
   {
    "duration": 4,
    "start_time": "2023-05-09T13:44:54.956Z"
   },
   {
    "duration": 5,
    "start_time": "2023-05-09T13:45:03.803Z"
   },
   {
    "duration": 109,
    "start_time": "2023-05-09T13:45:04.596Z"
   },
   {
    "duration": 14,
    "start_time": "2023-05-09T13:45:09.804Z"
   },
   {
    "duration": 26,
    "start_time": "2023-05-09T13:45:12.504Z"
   },
   {
    "duration": 40,
    "start_time": "2023-05-09T13:45:26.871Z"
   },
   {
    "duration": 22,
    "start_time": "2023-05-09T13:45:32.790Z"
   },
   {
    "duration": 333,
    "start_time": "2023-05-09T13:45:38.971Z"
   },
   {
    "duration": 28,
    "start_time": "2023-05-09T13:45:43.031Z"
   },
   {
    "duration": 23,
    "start_time": "2023-05-09T13:45:48.159Z"
   },
   {
    "duration": 198,
    "start_time": "2023-05-09T13:45:50.273Z"
   },
   {
    "duration": 18,
    "start_time": "2023-05-09T13:45:55.359Z"
   },
   {
    "duration": 14,
    "start_time": "2023-05-09T13:45:59.473Z"
   },
   {
    "duration": 49,
    "start_time": "2023-05-09T13:46:01.632Z"
   },
   {
    "duration": 344,
    "start_time": "2023-05-09T13:46:03.412Z"
   },
   {
    "duration": 88,
    "start_time": "2023-05-09T13:46:07.731Z"
   },
   {
    "duration": 12,
    "start_time": "2023-05-09T13:46:11.326Z"
   },
   {
    "duration": 22,
    "start_time": "2023-05-09T13:46:14.021Z"
   },
   {
    "duration": 102,
    "start_time": "2023-05-09T13:46:15.773Z"
   },
   {
    "duration": 24,
    "start_time": "2023-05-09T13:46:17.601Z"
   },
   {
    "duration": 50,
    "start_time": "2023-05-09T13:46:21.569Z"
   },
   {
    "duration": 222,
    "start_time": "2023-05-09T13:46:26.778Z"
   },
   {
    "duration": 156,
    "start_time": "2023-05-09T13:46:31.872Z"
   },
   {
    "duration": 10,
    "start_time": "2023-05-09T13:46:38.135Z"
   },
   {
    "duration": 25,
    "start_time": "2023-05-09T13:46:39.296Z"
   },
   {
    "duration": 184,
    "start_time": "2023-05-09T13:46:41.424Z"
   },
   {
    "duration": 212,
    "start_time": "2023-05-09T13:51:42.571Z"
   },
   {
    "duration": 31,
    "start_time": "2023-05-09T13:55:19.772Z"
   },
   {
    "duration": 212,
    "start_time": "2023-05-09T13:55:23.197Z"
   },
   {
    "duration": 22,
    "start_time": "2023-05-09T13:55:36.464Z"
   },
   {
    "duration": 176,
    "start_time": "2023-05-09T13:55:39.048Z"
   },
   {
    "duration": 180,
    "start_time": "2023-05-09T13:55:50.899Z"
   },
   {
    "duration": 19,
    "start_time": "2023-05-09T13:55:54.175Z"
   },
   {
    "duration": 183,
    "start_time": "2023-05-09T13:55:56.364Z"
   },
   {
    "duration": 4,
    "start_time": "2023-05-09T13:56:55.932Z"
   },
   {
    "duration": 39,
    "start_time": "2023-05-09T13:56:57.104Z"
   },
   {
    "duration": 15,
    "start_time": "2023-05-09T13:56:57.624Z"
   },
   {
    "duration": 13,
    "start_time": "2023-05-09T13:56:58.115Z"
   },
   {
    "duration": 1152,
    "start_time": "2023-05-09T13:57:00.609Z"
   },
   {
    "duration": 7,
    "start_time": "2023-05-09T13:57:04.171Z"
   },
   {
    "duration": 5,
    "start_time": "2023-05-09T13:57:05.519Z"
   },
   {
    "duration": 15,
    "start_time": "2023-05-09T13:57:05.950Z"
   },
   {
    "duration": 4,
    "start_time": "2023-05-09T13:57:06.646Z"
   },
   {
    "duration": 108,
    "start_time": "2023-05-09T13:57:18.034Z"
   },
   {
    "duration": 15,
    "start_time": "2023-05-09T13:57:22.227Z"
   },
   {
    "duration": 17,
    "start_time": "2023-05-09T13:57:23.592Z"
   },
   {
    "duration": 48,
    "start_time": "2023-05-09T13:58:20.463Z"
   },
   {
    "duration": 181,
    "start_time": "2023-05-09T13:59:04.001Z"
   },
   {
    "duration": 4,
    "start_time": "2023-05-09T14:02:40.820Z"
   },
   {
    "duration": 4,
    "start_time": "2023-05-09T14:02:47.018Z"
   },
   {
    "duration": 86,
    "start_time": "2023-05-09T14:03:00.739Z"
   },
   {
    "duration": 4,
    "start_time": "2023-05-09T14:03:06.636Z"
   },
   {
    "duration": 63,
    "start_time": "2023-05-09T14:03:16.168Z"
   },
   {
    "duration": 3,
    "start_time": "2023-05-09T14:03:20.177Z"
   },
   {
    "duration": 190,
    "start_time": "2023-05-09T14:05:46.273Z"
   },
   {
    "duration": 196,
    "start_time": "2023-05-09T14:06:07.614Z"
   },
   {
    "duration": 182,
    "start_time": "2023-05-09T14:06:27.041Z"
   },
   {
    "duration": 191,
    "start_time": "2023-05-09T14:12:39.276Z"
   },
   {
    "duration": 13,
    "start_time": "2023-05-09T14:19:41.024Z"
   },
   {
    "duration": 44,
    "start_time": "2023-05-09T14:19:42.814Z"
   },
   {
    "duration": 361,
    "start_time": "2023-05-09T14:19:44.410Z"
   },
   {
    "duration": 31,
    "start_time": "2023-05-09T14:19:48.635Z"
   },
   {
    "duration": 14,
    "start_time": "2023-05-09T14:20:08.624Z"
   },
   {
    "duration": 21,
    "start_time": "2023-05-09T14:20:09.123Z"
   },
   {
    "duration": 102,
    "start_time": "2023-05-09T14:20:11.127Z"
   },
   {
    "duration": 20,
    "start_time": "2023-05-09T14:20:13.706Z"
   },
   {
    "duration": 2162,
    "start_time": "2023-05-09T15:04:39.123Z"
   },
   {
    "duration": 205,
    "start_time": "2023-05-09T15:04:41.287Z"
   },
   {
    "duration": 16,
    "start_time": "2023-05-09T15:04:41.494Z"
   },
   {
    "duration": 12,
    "start_time": "2023-05-09T15:04:41.512Z"
   },
   {
    "duration": 1073,
    "start_time": "2023-05-09T15:04:41.526Z"
   },
   {
    "duration": 7,
    "start_time": "2023-05-09T15:04:42.600Z"
   },
   {
    "duration": 8,
    "start_time": "2023-05-09T15:04:42.608Z"
   },
   {
    "duration": 11,
    "start_time": "2023-05-09T15:04:42.618Z"
   },
   {
    "duration": 25,
    "start_time": "2023-05-09T15:04:42.630Z"
   },
   {
    "duration": 114,
    "start_time": "2023-05-09T15:04:42.658Z"
   },
   {
    "duration": 14,
    "start_time": "2023-05-09T15:04:42.773Z"
   },
   {
    "duration": 17,
    "start_time": "2023-05-09T15:04:42.788Z"
   },
   {
    "duration": 76,
    "start_time": "2023-05-09T15:04:42.806Z"
   },
   {
    "duration": 15260,
    "start_time": "2023-05-09T15:04:42.884Z"
   },
   {
    "duration": 30,
    "start_time": "2023-05-09T15:04:58.145Z"
   },
   {
    "duration": 553922,
    "start_time": "2023-05-09T15:04:58.177Z"
   },
   {
    "duration": 325,
    "start_time": "2023-05-09T15:14:12.100Z"
   },
   {
    "duration": 7426,
    "start_time": "2023-05-09T15:14:12.426Z"
   },
   {
    "duration": 100,
    "start_time": "2023-05-09T15:14:19.858Z"
   },
   {
    "duration": 116,
    "start_time": "2023-05-09T15:14:20.048Z"
   },
   {
    "duration": 207,
    "start_time": "2023-05-09T15:14:20.165Z"
   },
   {
    "duration": 14,
    "start_time": "2023-05-09T15:14:20.373Z"
   },
   {
    "duration": 160,
    "start_time": "2023-05-09T15:14:20.389Z"
   },
   {
    "duration": 44,
    "start_time": "2023-05-09T15:14:20.551Z"
   },
   {
    "duration": 383,
    "start_time": "2023-05-09T15:14:20.597Z"
   },
   {
    "duration": 70,
    "start_time": "2023-05-09T15:14:20.982Z"
   },
   {
    "duration": 98,
    "start_time": "2023-05-09T15:14:21.054Z"
   },
   {
    "duration": 14,
    "start_time": "2023-05-09T15:14:21.155Z"
   },
   {
    "duration": 101,
    "start_time": "2023-05-09T15:14:21.171Z"
   },
   {
    "duration": 12,
    "start_time": "2023-05-09T15:14:21.273Z"
   },
   {
    "duration": 134,
    "start_time": "2023-05-09T15:14:21.349Z"
   },
   {
    "duration": 223,
    "start_time": "2023-05-09T15:14:21.485Z"
   },
   {
    "duration": 145,
    "start_time": "2023-05-09T15:14:21.710Z"
   },
   {
    "duration": 197,
    "start_time": "2023-05-09T15:14:21.857Z"
   },
   {
    "duration": 45,
    "start_time": "2023-05-10T17:54:24.333Z"
   },
   {
    "duration": 1653,
    "start_time": "2023-05-10T17:54:32.232Z"
   },
   {
    "duration": 202,
    "start_time": "2023-05-10T17:54:33.887Z"
   },
   {
    "duration": 37,
    "start_time": "2023-05-10T17:54:34.090Z"
   },
   {
    "duration": 20,
    "start_time": "2023-05-10T17:54:34.129Z"
   },
   {
    "duration": 1224,
    "start_time": "2023-05-10T17:54:34.150Z"
   },
   {
    "duration": 6,
    "start_time": "2023-05-10T17:54:35.376Z"
   },
   {
    "duration": 24,
    "start_time": "2023-05-10T17:54:35.384Z"
   },
   {
    "duration": 50,
    "start_time": "2023-05-10T17:54:35.409Z"
   },
   {
    "duration": 10,
    "start_time": "2023-05-10T17:54:35.460Z"
   },
   {
    "duration": 229,
    "start_time": "2023-05-10T17:54:35.473Z"
   },
   {
    "duration": 0,
    "start_time": "2023-05-10T17:54:35.705Z"
   },
   {
    "duration": 0,
    "start_time": "2023-05-10T17:54:35.706Z"
   },
   {
    "duration": 0,
    "start_time": "2023-05-10T17:54:35.707Z"
   },
   {
    "duration": 0,
    "start_time": "2023-05-10T17:54:35.708Z"
   },
   {
    "duration": 0,
    "start_time": "2023-05-10T17:54:35.709Z"
   },
   {
    "duration": 0,
    "start_time": "2023-05-10T17:54:35.709Z"
   },
   {
    "duration": 0,
    "start_time": "2023-05-10T17:54:35.710Z"
   },
   {
    "duration": 0,
    "start_time": "2023-05-10T17:54:35.711Z"
   },
   {
    "duration": 0,
    "start_time": "2023-05-10T17:54:35.712Z"
   },
   {
    "duration": 0,
    "start_time": "2023-05-10T17:54:35.713Z"
   },
   {
    "duration": 0,
    "start_time": "2023-05-10T17:54:35.714Z"
   },
   {
    "duration": 0,
    "start_time": "2023-05-10T17:54:35.715Z"
   },
   {
    "duration": 0,
    "start_time": "2023-05-10T17:54:35.716Z"
   },
   {
    "duration": 0,
    "start_time": "2023-05-10T17:54:35.717Z"
   },
   {
    "duration": 0,
    "start_time": "2023-05-10T17:54:35.718Z"
   },
   {
    "duration": 0,
    "start_time": "2023-05-10T17:54:35.719Z"
   },
   {
    "duration": 0,
    "start_time": "2023-05-10T17:54:35.720Z"
   },
   {
    "duration": 0,
    "start_time": "2023-05-10T17:54:35.721Z"
   },
   {
    "duration": 0,
    "start_time": "2023-05-10T17:54:35.721Z"
   },
   {
    "duration": 0,
    "start_time": "2023-05-10T17:54:35.722Z"
   },
   {
    "duration": 0,
    "start_time": "2023-05-10T17:54:35.722Z"
   },
   {
    "duration": 0,
    "start_time": "2023-05-10T17:54:35.725Z"
   },
   {
    "duration": 0,
    "start_time": "2023-05-10T17:54:35.726Z"
   },
   {
    "duration": 0,
    "start_time": "2023-05-10T17:54:35.727Z"
   },
   {
    "duration": 118,
    "start_time": "2023-05-10T17:54:59.851Z"
   },
   {
    "duration": 11,
    "start_time": "2023-05-10T18:09:51.803Z"
   },
   {
    "duration": 2027,
    "start_time": "2023-05-10T18:10:07.464Z"
   },
   {
    "duration": 45,
    "start_time": "2023-05-10T18:10:09.494Z"
   },
   {
    "duration": 19,
    "start_time": "2023-05-10T18:10:09.541Z"
   },
   {
    "duration": 17,
    "start_time": "2023-05-10T18:10:09.562Z"
   },
   {
    "duration": 1204,
    "start_time": "2023-05-10T18:10:09.581Z"
   },
   {
    "duration": 12,
    "start_time": "2023-05-10T18:10:10.786Z"
   },
   {
    "duration": 23,
    "start_time": "2023-05-10T18:10:10.799Z"
   },
   {
    "duration": 26,
    "start_time": "2023-05-10T18:10:10.824Z"
   },
   {
    "duration": 5,
    "start_time": "2023-05-10T18:10:10.851Z"
   },
   {
    "duration": 132,
    "start_time": "2023-05-10T18:10:10.860Z"
   },
   {
    "duration": 16,
    "start_time": "2023-05-10T18:10:10.994Z"
   },
   {
    "duration": 30,
    "start_time": "2023-05-10T18:10:11.012Z"
   },
   {
    "duration": 69,
    "start_time": "2023-05-10T18:10:11.043Z"
   },
   {
    "duration": 12119,
    "start_time": "2023-05-10T18:10:11.114Z"
   },
   {
    "duration": 22,
    "start_time": "2023-05-10T18:10:23.235Z"
   },
   {
    "duration": 439056,
    "start_time": "2023-05-10T18:10:23.258Z"
   },
   {
    "duration": 295,
    "start_time": "2023-05-10T18:17:42.316Z"
   },
   {
    "duration": 9888,
    "start_time": "2023-05-10T18:17:42.612Z"
   },
   {
    "duration": 21,
    "start_time": "2023-05-10T18:17:52.596Z"
   },
   {
    "duration": 120,
    "start_time": "2023-05-10T18:17:52.703Z"
   },
   {
    "duration": 180,
    "start_time": "2023-05-10T18:17:52.824Z"
   },
   {
    "duration": 16,
    "start_time": "2023-05-10T18:17:53.006Z"
   },
   {
    "duration": 28,
    "start_time": "2023-05-10T18:17:53.205Z"
   },
   {
    "duration": 282,
    "start_time": "2023-05-10T18:17:53.234Z"
   },
   {
    "duration": 86,
    "start_time": "2023-05-10T18:17:53.518Z"
   },
   {
    "duration": 97,
    "start_time": "2023-05-10T18:17:53.607Z"
   },
   {
    "duration": 23,
    "start_time": "2023-05-10T18:17:53.707Z"
   },
   {
    "duration": 86,
    "start_time": "2023-05-10T18:17:53.732Z"
   },
   {
    "duration": 14,
    "start_time": "2023-05-10T18:17:53.820Z"
   },
   {
    "duration": 200,
    "start_time": "2023-05-10T18:17:53.835Z"
   },
   {
    "duration": 202,
    "start_time": "2023-05-10T18:17:54.036Z"
   },
   {
    "duration": 171,
    "start_time": "2023-05-10T18:17:54.239Z"
   },
   {
    "duration": 190,
    "start_time": "2023-05-10T18:17:54.411Z"
   },
   {
    "duration": 9,
    "start_time": "2023-05-10T18:17:54.602Z"
   },
   {
    "duration": 30,
    "start_time": "2023-05-10T18:19:18.621Z"
   },
   {
    "duration": 24,
    "start_time": "2023-05-10T18:19:59.313Z"
   },
   {
    "duration": 129,
    "start_time": "2023-05-10T18:25:15.560Z"
   },
   {
    "duration": 232,
    "start_time": "2023-05-10T18:25:30.173Z"
   },
   {
    "duration": 2756,
    "start_time": "2023-05-10T18:43:35.243Z"
   },
   {
    "duration": 10,
    "start_time": "2023-05-10T18:48:56.049Z"
   },
   {
    "duration": 12,
    "start_time": "2023-05-10T18:50:00.631Z"
   },
   {
    "duration": 11,
    "start_time": "2023-05-10T18:50:20.077Z"
   },
   {
    "duration": 240,
    "start_time": "2023-05-10T18:50:27.183Z"
   },
   {
    "duration": 227,
    "start_time": "2023-05-10T18:51:05.837Z"
   },
   {
    "duration": 31639,
    "start_time": "2023-05-10T18:52:45.931Z"
   },
   {
    "duration": 31,
    "start_time": "2023-05-10T18:55:08.045Z"
   },
   {
    "duration": 17916,
    "start_time": "2023-05-10T18:55:28.662Z"
   },
   {
    "duration": 21,
    "start_time": "2023-05-10T19:08:26.518Z"
   },
   {
    "duration": 20,
    "start_time": "2023-05-10T19:10:02.038Z"
   },
   {
    "duration": 162,
    "start_time": "2023-05-10T19:10:20.619Z"
   },
   {
    "duration": 171,
    "start_time": "2023-05-10T19:13:20.479Z"
   },
   {
    "duration": 184,
    "start_time": "2023-05-10T19:13:55.222Z"
   },
   {
    "duration": 172,
    "start_time": "2023-05-10T19:14:15.937Z"
   },
   {
    "duration": 166,
    "start_time": "2023-05-10T19:15:26.452Z"
   },
   {
    "duration": 47,
    "start_time": "2023-05-10T19:18:05.721Z"
   },
   {
    "duration": 178,
    "start_time": "2023-05-10T19:18:14.458Z"
   },
   {
    "duration": 20,
    "start_time": "2023-05-10T19:20:21.690Z"
   },
   {
    "duration": 72,
    "start_time": "2023-05-10T19:23:25.375Z"
   },
   {
    "duration": 26,
    "start_time": "2023-05-10T19:23:47.731Z"
   },
   {
    "duration": 33,
    "start_time": "2023-05-10T19:24:10.826Z"
   },
   {
    "duration": 22263,
    "start_time": "2023-05-10T19:24:20.284Z"
   },
   {
    "duration": 46,
    "start_time": "2023-05-10T19:26:10.094Z"
   },
   {
    "duration": 22998,
    "start_time": "2023-05-10T19:26:32.111Z"
   },
   {
    "duration": 21429,
    "start_time": "2023-05-10T19:28:36.939Z"
   },
   {
    "duration": 20159,
    "start_time": "2023-05-10T19:29:10.302Z"
   },
   {
    "duration": 18450,
    "start_time": "2023-05-10T19:30:30.317Z"
   },
   {
    "duration": 17835,
    "start_time": "2023-05-10T19:31:52.178Z"
   },
   {
    "duration": 17764,
    "start_time": "2023-05-10T19:32:55.954Z"
   },
   {
    "duration": 18187,
    "start_time": "2023-05-10T19:33:31.364Z"
   },
   {
    "duration": 21,
    "start_time": "2023-05-10T19:34:41.483Z"
   },
   {
    "duration": 75,
    "start_time": "2023-05-10T21:13:19.339Z"
   },
   {
    "duration": 144,
    "start_time": "2023-05-11T13:43:19.953Z"
   },
   {
    "duration": 4956,
    "start_time": "2023-05-11T13:43:29.422Z"
   },
   {
    "duration": 198,
    "start_time": "2023-05-11T13:43:44.496Z"
   },
   {
    "duration": 371,
    "start_time": "2023-05-11T13:43:55.671Z"
   },
   {
    "duration": 36,
    "start_time": "2023-05-11T13:43:56.486Z"
   },
   {
    "duration": 29,
    "start_time": "2023-05-11T13:43:57.116Z"
   },
   {
    "duration": 1777,
    "start_time": "2023-05-11T13:43:57.629Z"
   },
   {
    "duration": 15,
    "start_time": "2023-05-11T13:43:59.410Z"
   },
   {
    "duration": 129,
    "start_time": "2023-05-11T13:43:59.426Z"
   },
   {
    "duration": 37,
    "start_time": "2023-05-11T13:44:00.877Z"
   },
   {
    "duration": 70,
    "start_time": "2023-05-11T13:44:01.021Z"
   },
   {
    "duration": 272,
    "start_time": "2023-05-11T13:44:02.500Z"
   },
   {
    "duration": 52,
    "start_time": "2023-05-11T13:44:07.175Z"
   },
   {
    "duration": 123,
    "start_time": "2023-05-11T13:44:09.665Z"
   },
   {
    "duration": 114,
    "start_time": "2023-05-11T13:44:12.200Z"
   },
   {
    "duration": 63,
    "start_time": "2023-05-11T13:44:17.087Z"
   },
   {
    "duration": 4,
    "start_time": "2023-05-11T13:44:22.325Z"
   },
   {
    "duration": 61,
    "start_time": "2023-05-11T13:44:23.549Z"
   },
   {
    "duration": 47,
    "start_time": "2023-05-11T13:44:57.703Z"
   },
   {
    "duration": 920,
    "start_time": "2023-05-11T13:45:21.588Z"
   },
   {
    "duration": 1194,
    "start_time": "2023-05-11T13:45:42.800Z"
   },
   {
    "duration": 99,
    "start_time": "2023-05-11T13:48:52.063Z"
   },
   {
    "duration": 37106,
    "start_time": "2023-05-11T13:52:28.380Z"
   },
   {
    "duration": 33745,
    "start_time": "2023-05-11T13:53:22.553Z"
   },
   {
    "duration": 25799,
    "start_time": "2023-05-11T13:54:51.872Z"
   },
   {
    "duration": 0,
    "start_time": "2023-05-11T13:56:28.218Z"
   },
   {
    "duration": 38096,
    "start_time": "2023-05-11T13:56:30.797Z"
   },
   {
    "duration": 589,
    "start_time": "2023-05-11T13:59:16.533Z"
   },
   {
    "duration": 69,
    "start_time": "2023-05-11T14:04:20.233Z"
   },
   {
    "duration": 9145,
    "start_time": "2023-05-11T14:04:43.657Z"
   },
   {
    "duration": 8740,
    "start_time": "2023-05-11T14:05:02.460Z"
   },
   {
    "duration": 7712,
    "start_time": "2023-05-11T14:05:14.001Z"
   },
   {
    "duration": 8581,
    "start_time": "2023-05-11T14:06:05.203Z"
   },
   {
    "duration": 138,
    "start_time": "2023-05-11T14:06:35.743Z"
   },
   {
    "duration": 119,
    "start_time": "2023-05-11T14:06:41.398Z"
   },
   {
    "duration": 138,
    "start_time": "2023-05-11T14:06:50.451Z"
   },
   {
    "duration": 116,
    "start_time": "2023-05-11T14:06:54.762Z"
   },
   {
    "duration": 42,
    "start_time": "2023-05-11T14:06:58.889Z"
   },
   {
    "duration": 138,
    "start_time": "2023-05-11T14:07:04.896Z"
   },
   {
    "duration": 72,
    "start_time": "2023-05-11T14:07:08.560Z"
   },
   {
    "duration": 1303,
    "start_time": "2023-05-11T14:09:20.811Z"
   },
   {
    "duration": 1444,
    "start_time": "2023-05-11T14:09:56.458Z"
   },
   {
    "duration": 53,
    "start_time": "2023-05-11T14:12:14.999Z"
   },
   {
    "duration": 410,
    "start_time": "2023-05-11T14:12:32.783Z"
   },
   {
    "duration": 35563,
    "start_time": "2023-05-11T14:14:47.731Z"
   },
   {
    "duration": 685,
    "start_time": "2023-05-11T14:18:07.537Z"
   },
   {
    "duration": 10408,
    "start_time": "2023-05-11T14:19:31.280Z"
   },
   {
    "duration": 91,
    "start_time": "2023-05-11T14:19:57.671Z"
   },
   {
    "duration": 638,
    "start_time": "2023-05-11T14:21:05.133Z"
   },
   {
    "duration": 636,
    "start_time": "2023-05-11T14:21:16.255Z"
   },
   {
    "duration": 452,
    "start_time": "2023-05-11T14:21:55.784Z"
   },
   {
    "duration": 635,
    "start_time": "2023-05-11T14:22:06.834Z"
   },
   {
    "duration": 35165,
    "start_time": "2023-05-11T14:22:34.065Z"
   },
   {
    "duration": 625,
    "start_time": "2023-05-11T14:23:29.196Z"
   },
   {
    "duration": 419,
    "start_time": "2023-05-11T14:23:48.043Z"
   },
   {
    "duration": 539,
    "start_time": "2023-05-11T14:23:56.331Z"
   },
   {
    "duration": 661,
    "start_time": "2023-05-11T14:24:01.609Z"
   },
   {
    "duration": 561,
    "start_time": "2023-05-11T14:24:07.703Z"
   },
   {
    "duration": 276,
    "start_time": "2023-05-11T14:25:50.126Z"
   },
   {
    "duration": 50,
    "start_time": "2023-05-11T14:26:53.788Z"
   },
   {
    "duration": 746,
    "start_time": "2023-05-11T14:29:53.531Z"
   },
   {
    "duration": 98,
    "start_time": "2023-05-11T14:30:54.892Z"
   },
   {
    "duration": 22532,
    "start_time": "2023-05-11T14:31:22.841Z"
   },
   {
    "duration": 433,
    "start_time": "2023-05-11T14:32:47.392Z"
   },
   {
    "duration": 510,
    "start_time": "2023-05-11T14:32:56.508Z"
   },
   {
    "duration": 991,
    "start_time": "2023-05-11T14:33:01.641Z"
   },
   {
    "duration": 586,
    "start_time": "2023-05-11T14:33:07.996Z"
   },
   {
    "duration": 2008,
    "start_time": "2023-05-11T14:33:21.294Z"
   },
   {
    "duration": 49,
    "start_time": "2023-05-11T14:33:39.875Z"
   },
   {
    "duration": 849,
    "start_time": "2023-05-11T14:34:10.576Z"
   },
   {
    "duration": 53,
    "start_time": "2023-05-11T14:34:29.833Z"
   },
   {
    "duration": 22801,
    "start_time": "2023-05-11T14:35:02.741Z"
   },
   {
    "duration": 672,
    "start_time": "2023-05-11T14:36:30.632Z"
   },
   {
    "duration": 1051,
    "start_time": "2023-05-11T14:36:37.722Z"
   },
   {
    "duration": 580,
    "start_time": "2023-05-11T14:36:43.086Z"
   },
   {
    "duration": 554,
    "start_time": "2023-05-11T14:36:48.808Z"
   },
   {
    "duration": 544,
    "start_time": "2023-05-11T14:36:54.082Z"
   },
   {
    "duration": 597,
    "start_time": "2023-05-11T14:37:13.882Z"
   },
   {
    "duration": 532,
    "start_time": "2023-05-11T14:37:20.482Z"
   },
   {
    "duration": 1455,
    "start_time": "2023-05-11T14:37:37.384Z"
   },
   {
    "duration": 61,
    "start_time": "2023-05-11T14:37:43.642Z"
   },
   {
    "duration": 971,
    "start_time": "2023-05-11T14:38:43.338Z"
   },
   {
    "duration": 59,
    "start_time": "2023-05-11T14:39:00.629Z"
   },
   {
    "duration": 57,
    "start_time": "2023-05-11T14:39:35.812Z"
   },
   {
    "duration": 25,
    "start_time": "2023-05-11T14:40:25.784Z"
   },
   {
    "duration": 1026,
    "start_time": "2023-05-11T14:40:32.346Z"
   },
   {
    "duration": 76,
    "start_time": "2023-05-11T14:40:36.267Z"
   },
   {
    "duration": 33511,
    "start_time": "2023-05-11T14:41:45.932Z"
   },
   {
    "duration": 1321,
    "start_time": "2023-05-11T14:43:52.129Z"
   },
   {
    "duration": 2635,
    "start_time": "2023-05-11T14:45:02.567Z"
   },
   {
    "duration": 86,
    "start_time": "2023-05-11T14:45:18.785Z"
   },
   {
    "duration": 56,
    "start_time": "2023-05-11T14:45:25.674Z"
   },
   {
    "duration": 34,
    "start_time": "2023-05-11T14:46:36.052Z"
   },
   {
    "duration": 500,
    "start_time": "2023-05-11T14:47:07.814Z"
   },
   {
    "duration": 65,
    "start_time": "2023-05-11T14:47:42.145Z"
   },
   {
    "duration": 13075,
    "start_time": "2023-05-11T14:49:10.480Z"
   },
   {
    "duration": 514,
    "start_time": "2023-05-11T14:50:33.945Z"
   },
   {
    "duration": 361,
    "start_time": "2023-05-11T14:51:19.280Z"
   },
   {
    "duration": 48,
    "start_time": "2023-05-11T14:51:26.193Z"
   },
   {
    "duration": 208,
    "start_time": "2023-05-11T14:58:22.422Z"
   },
   {
    "duration": 92,
    "start_time": "2023-05-18T13:45:00.837Z"
   },
   {
    "duration": 1799,
    "start_time": "2023-05-18T13:45:10.499Z"
   },
   {
    "duration": 107,
    "start_time": "2023-05-18T13:45:12.304Z"
   },
   {
    "duration": 23,
    "start_time": "2023-05-18T13:45:12.413Z"
   },
   {
    "duration": 29,
    "start_time": "2023-05-18T13:45:12.438Z"
   },
   {
    "duration": 1493,
    "start_time": "2023-05-18T13:45:12.471Z"
   },
   {
    "duration": 13,
    "start_time": "2023-05-18T13:45:13.966Z"
   },
   {
    "duration": 34,
    "start_time": "2023-05-18T13:45:13.980Z"
   },
   {
    "duration": 20,
    "start_time": "2023-05-18T13:45:14.016Z"
   },
   {
    "duration": 5,
    "start_time": "2023-05-18T13:45:14.038Z"
   },
   {
    "duration": 184,
    "start_time": "2023-05-18T13:45:14.045Z"
   },
   {
    "duration": 19,
    "start_time": "2023-05-18T13:45:14.231Z"
   },
   {
    "duration": 60,
    "start_time": "2023-05-18T13:45:14.252Z"
   },
   {
    "duration": 93,
    "start_time": "2023-05-18T13:45:14.314Z"
   },
   {
    "duration": 3,
    "start_time": "2023-05-18T13:45:14.412Z"
   },
   {
    "duration": 558,
    "start_time": "2023-05-18T13:45:14.417Z"
   },
   {
    "duration": 34,
    "start_time": "2023-05-18T13:45:14.977Z"
   },
   {
    "duration": 44,
    "start_time": "2023-05-18T13:45:15.013Z"
   },
   {
    "duration": 17281,
    "start_time": "2023-05-18T13:45:15.059Z"
   },
   {
    "duration": 400,
    "start_time": "2023-05-18T13:45:32.342Z"
   },
   {
    "duration": 2,
    "start_time": "2023-05-18T13:45:32.744Z"
   },
   {
    "duration": 3224,
    "start_time": "2023-05-18T13:45:32.748Z"
   },
   {
    "duration": 131,
    "start_time": "2023-05-18T13:45:35.974Z"
   },
   {
    "duration": 673,
    "start_time": "2023-05-18T13:45:36.111Z"
   },
   {
    "duration": 39,
    "start_time": "2023-05-18T13:45:36.793Z"
   },
   {
    "duration": 17565,
    "start_time": "2023-05-18T13:45:36.833Z"
   },
   {
    "duration": 484,
    "start_time": "2023-05-18T13:45:54.408Z"
   },
   {
    "duration": 2705,
    "start_time": "2023-05-18T13:45:54.902Z"
   },
   {
    "duration": 104,
    "start_time": "2023-05-18T13:45:57.628Z"
   },
   {
    "duration": 134,
    "start_time": "2023-05-18T13:45:57.786Z"
   },
   {
    "duration": 811,
    "start_time": "2023-05-18T13:45:57.922Z"
   },
   {
    "duration": 57,
    "start_time": "2023-05-18T13:45:58.735Z"
   },
   {
    "duration": 24893,
    "start_time": "2023-05-18T13:45:58.798Z"
   },
   {
    "duration": 961,
    "start_time": "2023-05-18T13:46:23.696Z"
   },
   {
    "duration": 2763,
    "start_time": "2023-05-18T13:46:24.659Z"
   },
   {
    "duration": 184,
    "start_time": "2023-05-18T13:46:27.494Z"
   },
   {
    "duration": 96,
    "start_time": "2023-05-18T13:46:27.679Z"
   },
   {
    "duration": 377,
    "start_time": "2023-05-18T13:46:27.777Z"
   },
   {
    "duration": 31,
    "start_time": "2023-05-18T13:46:28.155Z"
   },
   {
    "duration": 10141,
    "start_time": "2023-05-18T13:46:28.188Z"
   },
   {
    "duration": 371,
    "start_time": "2023-05-18T13:46:38.332Z"
   },
   {
    "duration": 3307,
    "start_time": "2023-05-18T13:46:38.712Z"
   },
   {
    "duration": 108,
    "start_time": "2023-05-18T13:46:42.077Z"
   },
   {
    "duration": 139,
    "start_time": "2023-05-18T13:46:42.210Z"
   },
   {
    "duration": 292,
    "start_time": "2023-05-18T13:46:42.351Z"
   },
   {
    "duration": 162,
    "start_time": "2023-05-18T13:46:42.645Z"
   },
   {
    "duration": 288,
    "start_time": "2023-05-18T13:46:42.810Z"
   },
   {
    "duration": 48,
    "start_time": "2023-05-18T13:46:43.152Z"
   }
  ],
  "kernelspec": {
   "display_name": "Python 3 (ipykernel)",
   "language": "python",
   "name": "python3"
  },
  "language_info": {
   "codemirror_mode": {
    "name": "ipython",
    "version": 3
   },
   "file_extension": ".py",
   "mimetype": "text/x-python",
   "name": "python",
   "nbconvert_exporter": "python",
   "pygments_lexer": "ipython3",
   "version": "3.9.5"
  },
  "toc": {
   "base_numbering": 1,
   "nav_menu": {},
   "number_sections": true,
   "sideBar": true,
   "skip_h1_title": true,
   "title_cell": "Содержание",
   "title_sidebar": "Contents",
   "toc_cell": true,
   "toc_position": {},
   "toc_section_display": true,
   "toc_window_display": false
  }
 },
 "nbformat": 4,
 "nbformat_minor": 2
}
