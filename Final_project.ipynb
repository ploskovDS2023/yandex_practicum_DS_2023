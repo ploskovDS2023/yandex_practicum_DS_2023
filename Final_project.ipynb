{
 "cells": [
  {
   "cell_type": "markdown",
   "metadata": {},
   "source": [
    "Здравствуйте, не могу понять, как уменьшить метрику, нужен совет, можете помочь?"
   ]
  },
  {
   "cell_type": "markdown",
   "metadata": {},
   "source": [
    "<div class=\"alert alert-success\" style=\"border-color: green; border-radius: 5px\">\n",
    "    <p><u><b>✅ КОММЕНТАРИЙ ТИМЛИДА</b></u></p>Доброго дня, Андрей!<br>\n",
    "Не увидел своих прошлых комментариев( Поэтому не знаю на чём мы расстались? Оставлял ли я там какие вопросы? Напиши, пожалуйста. А лучше - встаивть все комментарии назад.<br>\n",
    "    \n",
    "А пока пошёл ко второй части)) Сейчас посмотрим вместе что можно сделать.<br>\n",
    "    \n",
    "Пришёл с обхода) Постарался наметить пути, по которым стоит двигаться к результату. Посомтри, пожалуйста. А в целом - на вебинаре также подробно всё обговаривали) БУДУ ЖДАТЬ!"
   ]
  },
  {
   "cell_type": "markdown",
   "metadata": {},
   "source": [
    "# План проекта\n",
    "1. Загрузка и исследование данных\n",
    "2. Предобработка данных, разработка модели\n",
    "3. Отчёт"
   ]
  },
  {
   "cell_type": "markdown",
   "metadata": {},
   "source": [
    "<div class=\"alert alert-warning\" style=\"border-color: darkorange; border-radius: 5px\">\n",
    "    <p><u><b>⚠️ КОММЕНТАРИЙ ТИМЛИДА</b></u>Лучше подробно его расписывать для встречи. Тут уж совмем кратко) Вот есть такой вариант:"
   ]
  },
  {
   "cell_type": "markdown",
   "metadata": {},
   "source": [
    "Исследуем проблематику оптимизациии энергопотребления на этапе обработки стали."
   ]
  },
  {
   "cell_type": "markdown",
   "metadata": {},
   "source": [
    "<div class=\"alert alert-warning\" style=\"border-color: darkorange; border-radius: 5px\">\n",
    "    <p><u><b>⚠️ КОММЕНТАРИЙ ТИМЛИДА</b></u></p>\n",
    "    <p>Тут такой момент: дальше идёт решение некой проблематики. Но какой?) Тут лучше оставлять описание самой задачи. Добавь, пожалуйста к следующему разу!.</p>\n",
    "</div>"
   ]
  },
  {
   "cell_type": "markdown",
   "metadata": {},
   "source": [
    "Что можно сказать о данных:\n",
    "\n",
    "Есть пропуски значений в столбцах. Скорее всего просто отсутствует замер. \n",
    "В таблицах разное количество данных столбца key. На этапе предобработки надо будет сгрупировать по этому признаку.\n",
    "Есть несоответсвующий тип данных, столбцы, которые могут не использовать тип float, так как хранят только целые числа.\n",
    "Выбросы значения реактивной мощности в таблице data_arc. Скорее всего какая-то ошибка.\n",
    "\n",
    "Данные распределены нормально со смещением влево, данные о температуре распределены нормально без смещения.\n"
   ]
  },
  {
   "cell_type": "markdown",
   "metadata": {},
   "source": [
    "<div class=\"alert alert-warning\" style=\"border-color: darkorange; border-radius: 5px\">\n",
    "    <p><u><b>⚠️ КОММЕНТАРИЙ ТИМЛИДА</b></u></p>\n",
    "    <p>\n",
    "Вывод на месте, это важно. Он, возможно, излишне лаконичный)) Но основные сложности отмечены.<br>\n",
    "        \n",
    "Что хотелось бы опросить к следующему разу: по графикам. Они есть, но смотрятся в итоге не аккуратно - наползают подписи, а от сюда вид диплома не очень))) Скорректируй, пожалуйста.<br><br>\n",
    "        \n",
    "А данные у нас, всё же, сложно назвать нормальными в массе своей. Рекомендуют вместе смотреть и гистограму и боксплот: один хорошо показывает однородность данных, второй - выбросы. А вместе они сила)) Например так, как ниже. А о нормальности: верно, графический анализ чаще всего достаточен. Но для пущей уверенности можно глянуть тесты на нормальность. Вот здесь можно глянуть:<br>/www.statology.org/normality-test-python/    \n",
    "</p>\n",
    "</div>"
   ]
  },
  {
   "cell_type": "markdown",
   "metadata": {},
   "source": [
    "<div class=\"alert alert-success\" style=\"border-color: green; border-radius: 5px\">\n",
    "    <p><u><b>✅ КОММЕНТАРИЙ ТИМЛИДА</b></u></p>\n",
    "ОК, Андрей, с первичным анализом - понятно. Есть и аналитика, и некоторые выводы, и графика - всё как надо на этом этапе). (за исключением того, что написал выше про аккуратность графиков, план, описание проекта и нормальность)<br><br>\n",
    "<br>\n",
    "С дополнительными ворпосами - не увидел.<br>\n",
    "Но на встрече обсудили многие. Можно глянуть вебинар будет если что.<br> \n",
    "Если возникнут другие - обязательно пиши!!! Да и всегда в чате сможем встретиться. Ну или напиши со следующей итреацией. Постараюсь ответить быстро!<br>\n",
    "Что ж, тогда вперёд к моделированию)<br>"
   ]
  },
  {
   "cell_type": "code",
   "execution_count": 1,
   "metadata": {},
   "outputs": [],
   "source": [
    "import pandas as pd\n",
    "import numpy as np\n",
    "from sklearn.model_selection import train_test_split\n",
    "from sklearn.model_selection import cross_val_score\n",
    "from sklearn.linear_model import LinearRegression, Ridge\n",
    "from sklearn.ensemble import RandomForestRegressor\n",
    "from sklearn.model_selection import GridSearchCV\n",
    "from sklearn.preprocessing import StandardScaler\n",
    "from catboost import CatBoostRegressor\n",
    "from sklearn.metrics import mean_absolute_error\n",
    "from lightgbm import LGBMRegressor\n",
    "from xgboost import XGBRegressor\n",
    "import matplotlib.pyplot as plt\n",
    "import seaborn as sns"
   ]
  },
  {
   "cell_type": "code",
   "execution_count": 2,
   "metadata": {},
   "outputs": [],
   "source": [
    "data_arc = pd.read_csv('/datasets/data_arc_new.csv') # данные об электродах;\n",
    "data_bulk = pd.read_csv('/datasets/data_bulk_new.csv') # данные о подаче сыпучих материалов (объём);\n",
    "data_bulk_time = pd.read_csv('/datasets/data_bulk_time_new.csv') # данные о подаче сыпучих материалов (время);\n",
    "data_gas = pd.read_csv('/datasets/data_gas_new.csv') # данные о продувке сплава газом;\n",
    "data_temp = pd.read_csv('/datasets/data_temp_new.csv') # результаты измерения температуры;\n",
    "data_wire = pd.read_csv('/datasets/data_wire_new.csv') # данные о проволочных материалах (объём);\n",
    "data_wire_time = pd.read_csv('/datasets/data_wire_time_new.csv') # данные о проволочных материалах (время)."
   ]
  },
  {
   "cell_type": "code",
   "execution_count": 3,
   "metadata": {},
   "outputs": [
    {
     "name": "stdout",
     "output_type": "stream",
     "text": [
      "data_arc:\n",
      "<class 'pandas.core.frame.DataFrame'>\n",
      "RangeIndex: 14876 entries, 0 to 14875\n",
      "Data columns (total 5 columns):\n",
      " #   Column                Non-Null Count  Dtype  \n",
      "---  ------                --------------  -----  \n",
      " 0   key                   14876 non-null  int64  \n",
      " 1   Начало нагрева дугой  14876 non-null  object \n",
      " 2   Конец нагрева дугой   14876 non-null  object \n",
      " 3   Активная мощность     14876 non-null  float64\n",
      " 4   Реактивная мощность   14876 non-null  float64\n",
      "dtypes: float64(2), int64(1), object(2)\n",
      "memory usage: 581.2+ KB\n"
     ]
    },
    {
     "data": {
      "text/plain": [
       "None"
      ]
     },
     "metadata": {},
     "output_type": "display_data"
    },
    {
     "name": "stdout",
     "output_type": "stream",
     "text": [
      "data_bulk:\n",
      "<class 'pandas.core.frame.DataFrame'>\n",
      "RangeIndex: 3129 entries, 0 to 3128\n",
      "Data columns (total 16 columns):\n",
      " #   Column   Non-Null Count  Dtype  \n",
      "---  ------   --------------  -----  \n",
      " 0   key      3129 non-null   int64  \n",
      " 1   Bulk 1   252 non-null    float64\n",
      " 2   Bulk 2   22 non-null     float64\n",
      " 3   Bulk 3   1298 non-null   float64\n",
      " 4   Bulk 4   1014 non-null   float64\n",
      " 5   Bulk 5   77 non-null     float64\n",
      " 6   Bulk 6   576 non-null    float64\n",
      " 7   Bulk 7   25 non-null     float64\n",
      " 8   Bulk 8   1 non-null      float64\n",
      " 9   Bulk 9   19 non-null     float64\n",
      " 10  Bulk 10  176 non-null    float64\n",
      " 11  Bulk 11  177 non-null    float64\n",
      " 12  Bulk 12  2450 non-null   float64\n",
      " 13  Bulk 13  18 non-null     float64\n",
      " 14  Bulk 14  2806 non-null   float64\n",
      " 15  Bulk 15  2248 non-null   float64\n",
      "dtypes: float64(15), int64(1)\n",
      "memory usage: 391.2 KB\n"
     ]
    },
    {
     "data": {
      "text/plain": [
       "None"
      ]
     },
     "metadata": {},
     "output_type": "display_data"
    },
    {
     "name": "stdout",
     "output_type": "stream",
     "text": [
      "data_gas:\n",
      "<class 'pandas.core.frame.DataFrame'>\n",
      "RangeIndex: 3239 entries, 0 to 3238\n",
      "Data columns (total 2 columns):\n",
      " #   Column  Non-Null Count  Dtype  \n",
      "---  ------  --------------  -----  \n",
      " 0   key     3239 non-null   int64  \n",
      " 1   Газ 1   3239 non-null   float64\n",
      "dtypes: float64(1), int64(1)\n",
      "memory usage: 50.7 KB\n"
     ]
    },
    {
     "data": {
      "text/plain": [
       "None"
      ]
     },
     "metadata": {},
     "output_type": "display_data"
    },
    {
     "name": "stdout",
     "output_type": "stream",
     "text": [
      "data_temp:\n",
      "<class 'pandas.core.frame.DataFrame'>\n",
      "RangeIndex: 18092 entries, 0 to 18091\n",
      "Data columns (total 3 columns):\n",
      " #   Column        Non-Null Count  Dtype  \n",
      "---  ------        --------------  -----  \n",
      " 0   key           18092 non-null  int64  \n",
      " 1   Время замера  18092 non-null  object \n",
      " 2   Температура   14665 non-null  float64\n",
      "dtypes: float64(1), int64(1), object(1)\n",
      "memory usage: 424.2+ KB\n"
     ]
    },
    {
     "data": {
      "text/plain": [
       "None"
      ]
     },
     "metadata": {},
     "output_type": "display_data"
    },
    {
     "name": "stdout",
     "output_type": "stream",
     "text": [
      "data_wire:\n",
      "<class 'pandas.core.frame.DataFrame'>\n",
      "RangeIndex: 3081 entries, 0 to 3080\n",
      "Data columns (total 10 columns):\n",
      " #   Column  Non-Null Count  Dtype  \n",
      "---  ------  --------------  -----  \n",
      " 0   key     3081 non-null   int64  \n",
      " 1   Wire 1  3055 non-null   float64\n",
      " 2   Wire 2  1079 non-null   float64\n",
      " 3   Wire 3  63 non-null     float64\n",
      " 4   Wire 4  14 non-null     float64\n",
      " 5   Wire 5  1 non-null      float64\n",
      " 6   Wire 6  73 non-null     float64\n",
      " 7   Wire 7  11 non-null     float64\n",
      " 8   Wire 8  19 non-null     float64\n",
      " 9   Wire 9  29 non-null     float64\n",
      "dtypes: float64(9), int64(1)\n",
      "memory usage: 240.8 KB\n"
     ]
    },
    {
     "data": {
      "text/plain": [
       "None"
      ]
     },
     "metadata": {},
     "output_type": "display_data"
    }
   ],
   "source": [
    "print('data_arc:')\n",
    "display(data_arc.info())\n",
    "print('data_bulk:')\n",
    "display(data_bulk.info())\n",
    "print('data_gas:')\n",
    "display(data_gas.info())\n",
    "print('data_temp:')\n",
    "display(data_temp.info())\n",
    "print('data_wire:')\n",
    "display(data_wire.info())"
   ]
  },
  {
   "cell_type": "code",
   "execution_count": 4,
   "metadata": {},
   "outputs": [
    {
     "name": "stdout",
     "output_type": "stream",
     "text": [
      "data_arc:\n"
     ]
    },
    {
     "data": {
      "text/html": [
       "<div>\n",
       "<style scoped>\n",
       "    .dataframe tbody tr th:only-of-type {\n",
       "        vertical-align: middle;\n",
       "    }\n",
       "\n",
       "    .dataframe tbody tr th {\n",
       "        vertical-align: top;\n",
       "    }\n",
       "\n",
       "    .dataframe thead th {\n",
       "        text-align: right;\n",
       "    }\n",
       "</style>\n",
       "<table border=\"1\" class=\"dataframe\">\n",
       "  <thead>\n",
       "    <tr style=\"text-align: right;\">\n",
       "      <th></th>\n",
       "      <th>key</th>\n",
       "      <th>Активная мощность</th>\n",
       "      <th>Реактивная мощность</th>\n",
       "    </tr>\n",
       "  </thead>\n",
       "  <tbody>\n",
       "    <tr>\n",
       "      <th>count</th>\n",
       "      <td>14876.000000</td>\n",
       "      <td>14876.000000</td>\n",
       "      <td>14876.000000</td>\n",
       "    </tr>\n",
       "    <tr>\n",
       "      <th>mean</th>\n",
       "      <td>1615.220422</td>\n",
       "      <td>0.662752</td>\n",
       "      <td>0.438986</td>\n",
       "    </tr>\n",
       "    <tr>\n",
       "      <th>std</th>\n",
       "      <td>934.571502</td>\n",
       "      <td>0.258885</td>\n",
       "      <td>5.873485</td>\n",
       "    </tr>\n",
       "    <tr>\n",
       "      <th>min</th>\n",
       "      <td>1.000000</td>\n",
       "      <td>0.223120</td>\n",
       "      <td>-715.479924</td>\n",
       "    </tr>\n",
       "    <tr>\n",
       "      <th>25%</th>\n",
       "      <td>806.000000</td>\n",
       "      <td>0.467115</td>\n",
       "      <td>0.337175</td>\n",
       "    </tr>\n",
       "    <tr>\n",
       "      <th>50%</th>\n",
       "      <td>1617.000000</td>\n",
       "      <td>0.599587</td>\n",
       "      <td>0.441639</td>\n",
       "    </tr>\n",
       "    <tr>\n",
       "      <th>75%</th>\n",
       "      <td>2429.000000</td>\n",
       "      <td>0.830070</td>\n",
       "      <td>0.608201</td>\n",
       "    </tr>\n",
       "    <tr>\n",
       "      <th>max</th>\n",
       "      <td>3241.000000</td>\n",
       "      <td>1.463773</td>\n",
       "      <td>1.270284</td>\n",
       "    </tr>\n",
       "  </tbody>\n",
       "</table>\n",
       "</div>"
      ],
      "text/plain": [
       "                key  Активная мощность  Реактивная мощность\n",
       "count  14876.000000       14876.000000         14876.000000\n",
       "mean    1615.220422           0.662752             0.438986\n",
       "std      934.571502           0.258885             5.873485\n",
       "min        1.000000           0.223120          -715.479924\n",
       "25%      806.000000           0.467115             0.337175\n",
       "50%     1617.000000           0.599587             0.441639\n",
       "75%     2429.000000           0.830070             0.608201\n",
       "max     3241.000000           1.463773             1.270284"
      ]
     },
     "metadata": {},
     "output_type": "display_data"
    },
    {
     "name": "stdout",
     "output_type": "stream",
     "text": [
      "data_bulk:\n"
     ]
    },
    {
     "data": {
      "text/html": [
       "<div>\n",
       "<style scoped>\n",
       "    .dataframe tbody tr th:only-of-type {\n",
       "        vertical-align: middle;\n",
       "    }\n",
       "\n",
       "    .dataframe tbody tr th {\n",
       "        vertical-align: top;\n",
       "    }\n",
       "\n",
       "    .dataframe thead th {\n",
       "        text-align: right;\n",
       "    }\n",
       "</style>\n",
       "<table border=\"1\" class=\"dataframe\">\n",
       "  <thead>\n",
       "    <tr style=\"text-align: right;\">\n",
       "      <th></th>\n",
       "      <th>key</th>\n",
       "      <th>Bulk 1</th>\n",
       "      <th>Bulk 2</th>\n",
       "      <th>Bulk 3</th>\n",
       "      <th>Bulk 4</th>\n",
       "      <th>Bulk 5</th>\n",
       "      <th>Bulk 6</th>\n",
       "      <th>Bulk 7</th>\n",
       "      <th>Bulk 8</th>\n",
       "      <th>Bulk 9</th>\n",
       "      <th>Bulk 10</th>\n",
       "      <th>Bulk 11</th>\n",
       "      <th>Bulk 12</th>\n",
       "      <th>Bulk 13</th>\n",
       "      <th>Bulk 14</th>\n",
       "      <th>Bulk 15</th>\n",
       "    </tr>\n",
       "  </thead>\n",
       "  <tbody>\n",
       "    <tr>\n",
       "      <th>count</th>\n",
       "      <td>3129.000000</td>\n",
       "      <td>252.000000</td>\n",
       "      <td>22.000000</td>\n",
       "      <td>1298.000000</td>\n",
       "      <td>1014.000000</td>\n",
       "      <td>77.000000</td>\n",
       "      <td>576.000000</td>\n",
       "      <td>25.000000</td>\n",
       "      <td>1.0</td>\n",
       "      <td>19.000000</td>\n",
       "      <td>176.000000</td>\n",
       "      <td>177.000000</td>\n",
       "      <td>2450.000000</td>\n",
       "      <td>18.000000</td>\n",
       "      <td>2806.000000</td>\n",
       "      <td>2248.000000</td>\n",
       "    </tr>\n",
       "    <tr>\n",
       "      <th>mean</th>\n",
       "      <td>1624.383509</td>\n",
       "      <td>39.242063</td>\n",
       "      <td>253.045455</td>\n",
       "      <td>113.879045</td>\n",
       "      <td>104.394477</td>\n",
       "      <td>107.025974</td>\n",
       "      <td>118.925347</td>\n",
       "      <td>305.600000</td>\n",
       "      <td>49.0</td>\n",
       "      <td>76.315789</td>\n",
       "      <td>83.284091</td>\n",
       "      <td>76.819209</td>\n",
       "      <td>260.471020</td>\n",
       "      <td>181.111111</td>\n",
       "      <td>170.284747</td>\n",
       "      <td>160.513345</td>\n",
       "    </tr>\n",
       "    <tr>\n",
       "      <th>std</th>\n",
       "      <td>933.337642</td>\n",
       "      <td>18.277654</td>\n",
       "      <td>21.180578</td>\n",
       "      <td>75.483494</td>\n",
       "      <td>48.184126</td>\n",
       "      <td>81.790646</td>\n",
       "      <td>72.057776</td>\n",
       "      <td>191.022904</td>\n",
       "      <td>NaN</td>\n",
       "      <td>21.720581</td>\n",
       "      <td>26.060347</td>\n",
       "      <td>59.655365</td>\n",
       "      <td>120.649269</td>\n",
       "      <td>46.088009</td>\n",
       "      <td>65.868652</td>\n",
       "      <td>51.765319</td>\n",
       "    </tr>\n",
       "    <tr>\n",
       "      <th>min</th>\n",
       "      <td>1.000000</td>\n",
       "      <td>10.000000</td>\n",
       "      <td>228.000000</td>\n",
       "      <td>6.000000</td>\n",
       "      <td>12.000000</td>\n",
       "      <td>11.000000</td>\n",
       "      <td>17.000000</td>\n",
       "      <td>47.000000</td>\n",
       "      <td>49.0</td>\n",
       "      <td>63.000000</td>\n",
       "      <td>24.000000</td>\n",
       "      <td>8.000000</td>\n",
       "      <td>53.000000</td>\n",
       "      <td>151.000000</td>\n",
       "      <td>16.000000</td>\n",
       "      <td>1.000000</td>\n",
       "    </tr>\n",
       "    <tr>\n",
       "      <th>25%</th>\n",
       "      <td>816.000000</td>\n",
       "      <td>27.000000</td>\n",
       "      <td>242.000000</td>\n",
       "      <td>58.000000</td>\n",
       "      <td>72.000000</td>\n",
       "      <td>70.000000</td>\n",
       "      <td>69.750000</td>\n",
       "      <td>155.000000</td>\n",
       "      <td>49.0</td>\n",
       "      <td>66.000000</td>\n",
       "      <td>64.000000</td>\n",
       "      <td>25.000000</td>\n",
       "      <td>204.000000</td>\n",
       "      <td>153.250000</td>\n",
       "      <td>119.000000</td>\n",
       "      <td>105.000000</td>\n",
       "    </tr>\n",
       "    <tr>\n",
       "      <th>50%</th>\n",
       "      <td>1622.000000</td>\n",
       "      <td>31.000000</td>\n",
       "      <td>251.500000</td>\n",
       "      <td>97.500000</td>\n",
       "      <td>102.000000</td>\n",
       "      <td>86.000000</td>\n",
       "      <td>100.000000</td>\n",
       "      <td>298.000000</td>\n",
       "      <td>49.0</td>\n",
       "      <td>68.000000</td>\n",
       "      <td>86.500000</td>\n",
       "      <td>64.000000</td>\n",
       "      <td>208.000000</td>\n",
       "      <td>155.500000</td>\n",
       "      <td>151.000000</td>\n",
       "      <td>160.000000</td>\n",
       "    </tr>\n",
       "    <tr>\n",
       "      <th>75%</th>\n",
       "      <td>2431.000000</td>\n",
       "      <td>46.000000</td>\n",
       "      <td>257.750000</td>\n",
       "      <td>152.000000</td>\n",
       "      <td>133.000000</td>\n",
       "      <td>132.000000</td>\n",
       "      <td>157.000000</td>\n",
       "      <td>406.000000</td>\n",
       "      <td>49.0</td>\n",
       "      <td>70.500000</td>\n",
       "      <td>102.000000</td>\n",
       "      <td>106.000000</td>\n",
       "      <td>316.000000</td>\n",
       "      <td>203.500000</td>\n",
       "      <td>205.750000</td>\n",
       "      <td>205.000000</td>\n",
       "    </tr>\n",
       "    <tr>\n",
       "      <th>max</th>\n",
       "      <td>3241.000000</td>\n",
       "      <td>185.000000</td>\n",
       "      <td>325.000000</td>\n",
       "      <td>454.000000</td>\n",
       "      <td>281.000000</td>\n",
       "      <td>603.000000</td>\n",
       "      <td>503.000000</td>\n",
       "      <td>772.000000</td>\n",
       "      <td>49.0</td>\n",
       "      <td>147.000000</td>\n",
       "      <td>159.000000</td>\n",
       "      <td>313.000000</td>\n",
       "      <td>1849.000000</td>\n",
       "      <td>305.000000</td>\n",
       "      <td>636.000000</td>\n",
       "      <td>405.000000</td>\n",
       "    </tr>\n",
       "  </tbody>\n",
       "</table>\n",
       "</div>"
      ],
      "text/plain": [
       "               key      Bulk 1      Bulk 2       Bulk 3       Bulk 4  \\\n",
       "count  3129.000000  252.000000   22.000000  1298.000000  1014.000000   \n",
       "mean   1624.383509   39.242063  253.045455   113.879045   104.394477   \n",
       "std     933.337642   18.277654   21.180578    75.483494    48.184126   \n",
       "min       1.000000   10.000000  228.000000     6.000000    12.000000   \n",
       "25%     816.000000   27.000000  242.000000    58.000000    72.000000   \n",
       "50%    1622.000000   31.000000  251.500000    97.500000   102.000000   \n",
       "75%    2431.000000   46.000000  257.750000   152.000000   133.000000   \n",
       "max    3241.000000  185.000000  325.000000   454.000000   281.000000   \n",
       "\n",
       "           Bulk 5      Bulk 6      Bulk 7  Bulk 8      Bulk 9     Bulk 10  \\\n",
       "count   77.000000  576.000000   25.000000     1.0   19.000000  176.000000   \n",
       "mean   107.025974  118.925347  305.600000    49.0   76.315789   83.284091   \n",
       "std     81.790646   72.057776  191.022904     NaN   21.720581   26.060347   \n",
       "min     11.000000   17.000000   47.000000    49.0   63.000000   24.000000   \n",
       "25%     70.000000   69.750000  155.000000    49.0   66.000000   64.000000   \n",
       "50%     86.000000  100.000000  298.000000    49.0   68.000000   86.500000   \n",
       "75%    132.000000  157.000000  406.000000    49.0   70.500000  102.000000   \n",
       "max    603.000000  503.000000  772.000000    49.0  147.000000  159.000000   \n",
       "\n",
       "          Bulk 11      Bulk 12     Bulk 13      Bulk 14      Bulk 15  \n",
       "count  177.000000  2450.000000   18.000000  2806.000000  2248.000000  \n",
       "mean    76.819209   260.471020  181.111111   170.284747   160.513345  \n",
       "std     59.655365   120.649269   46.088009    65.868652    51.765319  \n",
       "min      8.000000    53.000000  151.000000    16.000000     1.000000  \n",
       "25%     25.000000   204.000000  153.250000   119.000000   105.000000  \n",
       "50%     64.000000   208.000000  155.500000   151.000000   160.000000  \n",
       "75%    106.000000   316.000000  203.500000   205.750000   205.000000  \n",
       "max    313.000000  1849.000000  305.000000   636.000000   405.000000  "
      ]
     },
     "metadata": {},
     "output_type": "display_data"
    },
    {
     "name": "stdout",
     "output_type": "stream",
     "text": [
      "data_gas:\n"
     ]
    },
    {
     "data": {
      "text/html": [
       "<div>\n",
       "<style scoped>\n",
       "    .dataframe tbody tr th:only-of-type {\n",
       "        vertical-align: middle;\n",
       "    }\n",
       "\n",
       "    .dataframe tbody tr th {\n",
       "        vertical-align: top;\n",
       "    }\n",
       "\n",
       "    .dataframe thead th {\n",
       "        text-align: right;\n",
       "    }\n",
       "</style>\n",
       "<table border=\"1\" class=\"dataframe\">\n",
       "  <thead>\n",
       "    <tr style=\"text-align: right;\">\n",
       "      <th></th>\n",
       "      <th>key</th>\n",
       "      <th>Газ 1</th>\n",
       "    </tr>\n",
       "  </thead>\n",
       "  <tbody>\n",
       "    <tr>\n",
       "      <th>count</th>\n",
       "      <td>3239.000000</td>\n",
       "      <td>3239.000000</td>\n",
       "    </tr>\n",
       "    <tr>\n",
       "      <th>mean</th>\n",
       "      <td>1621.861377</td>\n",
       "      <td>11.002062</td>\n",
       "    </tr>\n",
       "    <tr>\n",
       "      <th>std</th>\n",
       "      <td>935.386334</td>\n",
       "      <td>6.220327</td>\n",
       "    </tr>\n",
       "    <tr>\n",
       "      <th>min</th>\n",
       "      <td>1.000000</td>\n",
       "      <td>0.008399</td>\n",
       "    </tr>\n",
       "    <tr>\n",
       "      <th>25%</th>\n",
       "      <td>812.500000</td>\n",
       "      <td>7.043089</td>\n",
       "    </tr>\n",
       "    <tr>\n",
       "      <th>50%</th>\n",
       "      <td>1622.000000</td>\n",
       "      <td>9.836267</td>\n",
       "    </tr>\n",
       "    <tr>\n",
       "      <th>75%</th>\n",
       "      <td>2431.500000</td>\n",
       "      <td>13.769915</td>\n",
       "    </tr>\n",
       "    <tr>\n",
       "      <th>max</th>\n",
       "      <td>3241.000000</td>\n",
       "      <td>77.995040</td>\n",
       "    </tr>\n",
       "  </tbody>\n",
       "</table>\n",
       "</div>"
      ],
      "text/plain": [
       "               key        Газ 1\n",
       "count  3239.000000  3239.000000\n",
       "mean   1621.861377    11.002062\n",
       "std     935.386334     6.220327\n",
       "min       1.000000     0.008399\n",
       "25%     812.500000     7.043089\n",
       "50%    1622.000000     9.836267\n",
       "75%    2431.500000    13.769915\n",
       "max    3241.000000    77.995040"
      ]
     },
     "metadata": {},
     "output_type": "display_data"
    },
    {
     "name": "stdout",
     "output_type": "stream",
     "text": [
      "data_temp:\n"
     ]
    },
    {
     "data": {
      "text/html": [
       "<div>\n",
       "<style scoped>\n",
       "    .dataframe tbody tr th:only-of-type {\n",
       "        vertical-align: middle;\n",
       "    }\n",
       "\n",
       "    .dataframe tbody tr th {\n",
       "        vertical-align: top;\n",
       "    }\n",
       "\n",
       "    .dataframe thead th {\n",
       "        text-align: right;\n",
       "    }\n",
       "</style>\n",
       "<table border=\"1\" class=\"dataframe\">\n",
       "  <thead>\n",
       "    <tr style=\"text-align: right;\">\n",
       "      <th></th>\n",
       "      <th>key</th>\n",
       "      <th>Температура</th>\n",
       "    </tr>\n",
       "  </thead>\n",
       "  <tbody>\n",
       "    <tr>\n",
       "      <th>count</th>\n",
       "      <td>18092.000000</td>\n",
       "      <td>14665.000000</td>\n",
       "    </tr>\n",
       "    <tr>\n",
       "      <th>mean</th>\n",
       "      <td>1616.460977</td>\n",
       "      <td>1590.722741</td>\n",
       "    </tr>\n",
       "    <tr>\n",
       "      <th>std</th>\n",
       "      <td>934.641385</td>\n",
       "      <td>20.394381</td>\n",
       "    </tr>\n",
       "    <tr>\n",
       "      <th>min</th>\n",
       "      <td>1.000000</td>\n",
       "      <td>1191.000000</td>\n",
       "    </tr>\n",
       "    <tr>\n",
       "      <th>25%</th>\n",
       "      <td>807.750000</td>\n",
       "      <td>1580.000000</td>\n",
       "    </tr>\n",
       "    <tr>\n",
       "      <th>50%</th>\n",
       "      <td>1618.000000</td>\n",
       "      <td>1590.000000</td>\n",
       "    </tr>\n",
       "    <tr>\n",
       "      <th>75%</th>\n",
       "      <td>2429.000000</td>\n",
       "      <td>1599.000000</td>\n",
       "    </tr>\n",
       "    <tr>\n",
       "      <th>max</th>\n",
       "      <td>3241.000000</td>\n",
       "      <td>1705.000000</td>\n",
       "    </tr>\n",
       "  </tbody>\n",
       "</table>\n",
       "</div>"
      ],
      "text/plain": [
       "                key   Температура\n",
       "count  18092.000000  14665.000000\n",
       "mean    1616.460977   1590.722741\n",
       "std      934.641385     20.394381\n",
       "min        1.000000   1191.000000\n",
       "25%      807.750000   1580.000000\n",
       "50%     1618.000000   1590.000000\n",
       "75%     2429.000000   1599.000000\n",
       "max     3241.000000   1705.000000"
      ]
     },
     "metadata": {},
     "output_type": "display_data"
    },
    {
     "name": "stdout",
     "output_type": "stream",
     "text": [
      "data_wire:\n"
     ]
    },
    {
     "ename": "AttributeError",
     "evalue": "'DataFrame' object has no attribute 'discribe'",
     "output_type": "error",
     "traceback": [
      "\u001b[0;31m---------------------------------------------------------------------------\u001b[0m",
      "\u001b[0;31mAttributeError\u001b[0m                            Traceback (most recent call last)",
      "\u001b[0;32m/tmp/ipykernel_31/4212524593.py\u001b[0m in \u001b[0;36m<module>\u001b[0;34m\u001b[0m\n\u001b[1;32m      8\u001b[0m \u001b[0mdisplay\u001b[0m\u001b[0;34m(\u001b[0m\u001b[0mdata_temp\u001b[0m\u001b[0;34m.\u001b[0m\u001b[0mdescribe\u001b[0m\u001b[0;34m(\u001b[0m\u001b[0;34m)\u001b[0m\u001b[0;34m)\u001b[0m\u001b[0;34m\u001b[0m\u001b[0;34m\u001b[0m\u001b[0m\n\u001b[1;32m      9\u001b[0m \u001b[0mprint\u001b[0m\u001b[0;34m(\u001b[0m\u001b[0;34m'data_wire:'\u001b[0m\u001b[0;34m)\u001b[0m\u001b[0;34m\u001b[0m\u001b[0;34m\u001b[0m\u001b[0m\n\u001b[0;32m---> 10\u001b[0;31m \u001b[0mdisplay\u001b[0m\u001b[0;34m(\u001b[0m\u001b[0mdata_wire\u001b[0m\u001b[0;34m.\u001b[0m\u001b[0mdiscribe\u001b[0m\u001b[0;34m(\u001b[0m\u001b[0;34m)\u001b[0m\u001b[0;34m)\u001b[0m\u001b[0;34m\u001b[0m\u001b[0;34m\u001b[0m\u001b[0m\n\u001b[0m",
      "\u001b[0;32m/opt/conda/lib/python3.9/site-packages/pandas/core/generic.py\u001b[0m in \u001b[0;36m__getattr__\u001b[0;34m(self, name)\u001b[0m\n\u001b[1;32m   5463\u001b[0m             \u001b[0;32mif\u001b[0m \u001b[0mself\u001b[0m\u001b[0;34m.\u001b[0m\u001b[0m_info_axis\u001b[0m\u001b[0;34m.\u001b[0m\u001b[0m_can_hold_identifiers_and_holds_name\u001b[0m\u001b[0;34m(\u001b[0m\u001b[0mname\u001b[0m\u001b[0;34m)\u001b[0m\u001b[0;34m:\u001b[0m\u001b[0;34m\u001b[0m\u001b[0;34m\u001b[0m\u001b[0m\n\u001b[1;32m   5464\u001b[0m                 \u001b[0;32mreturn\u001b[0m \u001b[0mself\u001b[0m\u001b[0;34m[\u001b[0m\u001b[0mname\u001b[0m\u001b[0;34m]\u001b[0m\u001b[0;34m\u001b[0m\u001b[0;34m\u001b[0m\u001b[0m\n\u001b[0;32m-> 5465\u001b[0;31m             \u001b[0;32mreturn\u001b[0m \u001b[0mobject\u001b[0m\u001b[0;34m.\u001b[0m\u001b[0m__getattribute__\u001b[0m\u001b[0;34m(\u001b[0m\u001b[0mself\u001b[0m\u001b[0;34m,\u001b[0m \u001b[0mname\u001b[0m\u001b[0;34m)\u001b[0m\u001b[0;34m\u001b[0m\u001b[0;34m\u001b[0m\u001b[0m\n\u001b[0m\u001b[1;32m   5466\u001b[0m \u001b[0;34m\u001b[0m\u001b[0m\n\u001b[1;32m   5467\u001b[0m     \u001b[0;32mdef\u001b[0m \u001b[0m__setattr__\u001b[0m\u001b[0;34m(\u001b[0m\u001b[0mself\u001b[0m\u001b[0;34m,\u001b[0m \u001b[0mname\u001b[0m\u001b[0;34m:\u001b[0m \u001b[0mstr\u001b[0m\u001b[0;34m,\u001b[0m \u001b[0mvalue\u001b[0m\u001b[0;34m)\u001b[0m \u001b[0;34m->\u001b[0m \u001b[0;32mNone\u001b[0m\u001b[0;34m:\u001b[0m\u001b[0;34m\u001b[0m\u001b[0;34m\u001b[0m\u001b[0m\n",
      "\u001b[0;31mAttributeError\u001b[0m: 'DataFrame' object has no attribute 'discribe'"
     ]
    }
   ],
   "source": [
    "print('data_arc:')\n",
    "display(data_arc.describe())\n",
    "print('data_bulk:')\n",
    "display(data_bulk.describe())\n",
    "print('data_gas:')\n",
    "display(data_gas.describe())\n",
    "print('data_temp:')\n",
    "display(data_temp.describe())\n",
    "print('data_wire:')\n",
    "display(data_wire.discribe())"
   ]
  },
  {
   "cell_type": "markdown",
   "metadata": {},
   "source": [
    "# 2. Предобработка данных, разработка модели"
   ]
  },
  {
   "cell_type": "code",
   "execution_count": 5,
   "metadata": {},
   "outputs": [
    {
     "data": {
      "text/html": [
       "<div>\n",
       "<style scoped>\n",
       "    .dataframe tbody tr th:only-of-type {\n",
       "        vertical-align: middle;\n",
       "    }\n",
       "\n",
       "    .dataframe tbody tr th {\n",
       "        vertical-align: top;\n",
       "    }\n",
       "\n",
       "    .dataframe thead th {\n",
       "        text-align: right;\n",
       "    }\n",
       "</style>\n",
       "<table border=\"1\" class=\"dataframe\">\n",
       "  <thead>\n",
       "    <tr style=\"text-align: right;\">\n",
       "      <th></th>\n",
       "      <th>key</th>\n",
       "      <th>Начало нагрева дугой</th>\n",
       "      <th>Конец нагрева дугой</th>\n",
       "      <th>Активная мощность</th>\n",
       "      <th>Реактивная мощность</th>\n",
       "    </tr>\n",
       "  </thead>\n",
       "  <tbody>\n",
       "    <tr>\n",
       "      <th>9780</th>\n",
       "      <td>2116</td>\n",
       "      <td>2019-07-28 02:22:08</td>\n",
       "      <td>2019-07-28 02:23:57</td>\n",
       "      <td>0.705344</td>\n",
       "      <td>-715.479924</td>\n",
       "    </tr>\n",
       "  </tbody>\n",
       "</table>\n",
       "</div>"
      ],
      "text/plain": [
       "       key Начало нагрева дугой  Конец нагрева дугой  Активная мощность  \\\n",
       "9780  2116  2019-07-28 02:22:08  2019-07-28 02:23:57           0.705344   \n",
       "\n",
       "      Реактивная мощность  \n",
       "9780          -715.479924  "
      ]
     },
     "execution_count": 5,
     "metadata": {},
     "output_type": "execute_result"
    }
   ],
   "source": [
    "# Посмотрим аномалии в data_arc\n",
    "data_arc[data_arc['Реактивная мощность'] < 0]"
   ]
  },
  {
   "cell_type": "code",
   "execution_count": 6,
   "metadata": {},
   "outputs": [],
   "source": [
    "# заменим аномальное значение на среднее\n",
    "data_arc.at[9780, 'Реактивная мощность'] = data_arc['Реактивная мощность'].median()"
   ]
  },
  {
   "cell_type": "markdown",
   "metadata": {},
   "source": [
    "<div class=\"alert alert-warning\" style=\"border-color: darkorange; border-radius: 5px\">\n",
    "    <p><u><b>⚠️ КОММЕНТАРИЙ ТИМЛИДА</b></u></p>Как вариант, можно. Лучше тогда медиану по той партии, в которой пропуск."
   ]
  },
  {
   "cell_type": "code",
   "execution_count": 7,
   "metadata": {},
   "outputs": [],
   "source": [
    "# Избавимся от пропусков в целевой\n",
    "data_temp = data_temp.dropna()"
   ]
  },
  {
   "cell_type": "code",
   "execution_count": 8,
   "metadata": {},
   "outputs": [],
   "source": [
    "# удалим столбцы с малым колличеством измерений\n",
    "data_wire = data_wire.drop(['Wire 3', 'Wire 4', 'Wire 5', 'Wire 6', 'Wire 7', 'Wire 8', 'Wire 9'], axis=1)\n",
    "data_bulk = data_bulk.drop(['Bulk 1', 'Bulk 2', 'Bulk 5', 'Bulk 7', 'Bulk 8', 'Bulk 9', 'Bulk 10', 'Bulk 11', 'Bulk 13'], axis=1)"
   ]
  },
  {
   "cell_type": "code",
   "execution_count": 9,
   "metadata": {},
   "outputs": [],
   "source": [
    "# Заполним пропуски\n",
    "data_bulk = data_bulk.fillna(0)\n",
    "data_wire = data_wire.fillna(0)"
   ]
  },
  {
   "cell_type": "markdown",
   "metadata": {},
   "source": [
    "<div class=\"alert alert-success\" style=\"border-color: green; border-radius: 5px\">\n",
    "    <p><u><b>✅ КОММЕНТАРИЙ ТИМЛИДА</b></u></p>заменяем на 0 - ОК. "
   ]
  },
  {
   "cell_type": "markdown",
   "metadata": {},
   "source": [
    "<div class=\"alert alert-danger\" style=\"border-color: darkred; border-radius: 5px\">\n",
    "    <p><u><b>❌ КОММЕНТАРИЙ ТИМЛИДА </b></u></p>    <p>В целом - ОК. НО есть такой момент: у нас ковши наблюдаются, в которых Есть первая температура. А объект моделирования у нас - ковш. И если нет целевой - надо удалять весь ковш. Сейчас они всё ещё в деле))). Наприм ковш номер 3000 - целевой нет. Значить надо удалить. А он всё равно в таблице остался. Посмотри, пожалуйста.</p>\n",
    "</div>"
   ]
  },
  {
   "cell_type": "markdown",
   "metadata": {},
   "source": [
    "Удалим из таблицы партии key, которые не подходят по следующим условиям:\n",
    "\n",
    "    1. Нет финального замера. Когда температуру замеряли до окончания последней операции нагрева дугой\n",
    "    2. Только один замер температуры."
   ]
  },
  {
   "cell_type": "code",
   "execution_count": 10,
   "metadata": {},
   "outputs": [
    {
     "name": "stdout",
     "output_type": "stream",
     "text": [
      "[195, 279, 2500, 2501, 2502, 2503, 2504, 2505, 2506, 2507, 2508, 2509, 2510, 2511, 2512, 2513, 2514, 2515, 2516, 2517, 2518, 2519, 2520, 2521, 2522, 2523, 2524, 2525, 2526, 2527, 2528, 2529, 2530, 2531, 2532, 2533, 2534, 2535, 2536, 2537, 2538, 2539, 2540, 2541, 2542, 2543, 2544, 2545, 2546, 2547, 2548, 2549, 2550, 2551, 2552, 2553, 2554, 2555, 2556, 2557, 2558, 2559, 2560, 2561, 2562, 2563, 2564, 2565, 2566, 2567, 2568, 2569, 2570, 2571, 2572, 2573, 2574, 2575, 2576, 2577, 2578, 2579, 2580, 2581, 2582, 2583, 2584, 2585, 2586, 2587, 2588, 2589, 2590, 2591, 2592, 2593, 2594, 2595, 2596, 2597, 2598, 2599, 2600, 2601, 2602, 2603, 2604, 2605, 2606, 2607, 2608, 2609, 2610, 2611, 2612, 2613, 2614, 2615, 2616, 2617, 2618, 2619, 2620, 2621, 2622, 2623, 2624, 2625, 2626, 2627, 2628, 2629, 2630, 2631, 2632, 2633, 2634, 2635, 2636, 2637, 2638, 2639, 2640, 2641, 2642, 2643, 2644, 2645, 2646, 2647, 2648, 2649, 2650, 2651, 2652, 2653, 2654, 2655, 2656, 2657, 2658, 2659, 2660, 2661, 2662, 2663, 2664, 2665, 2666, 2667, 2668, 2669, 2670, 2671, 2672, 2673, 2674, 2675, 2676, 2677, 2678, 2679, 2680, 2681, 2682, 2684, 2685, 2686, 2687, 2688, 2689, 2690, 2691, 2692, 2693, 2694, 2695, 2696, 2697, 2698, 2699, 2700, 2701, 2702, 2703, 2704, 2705, 2706, 2707, 2708, 2709, 2710, 2711, 2712, 2713, 2714, 2715, 2716, 2717, 2718, 2719, 2720, 2721, 2722, 2723, 2724, 2725, 2726, 2727, 2728, 2729, 2730, 2731, 2732, 2733, 2734, 2735, 2736, 2737, 2738, 2739, 2740, 2741, 2742, 2743, 2744, 2745, 2746, 2747, 2748, 2749, 2750, 2751, 2752, 2753, 2754, 2755, 2756, 2757, 2758, 2759, 2760, 2761, 2762, 2763, 2764, 2765, 2766, 2767, 2768, 2769, 2770, 2771, 2772, 2773, 2774, 2775, 2776, 2777, 2778, 2779, 2780, 2781, 2782, 2783, 2784, 2785, 2786, 2787, 2788, 2789, 2790, 2791, 2792, 2793, 2794, 2795, 2796, 2797, 2798, 2799, 2800, 2801, 2802, 2803, 2804, 2805, 2806, 2807, 2808, 2809, 2810, 2811, 2812, 2813, 2814, 2815, 2816, 2817, 2818, 2819, 2820, 2821, 2822, 2823, 2824, 2825, 2826, 2827, 2828, 2829, 2830, 2831, 2832, 2833, 2834, 2835, 2836, 2837, 2838, 2839, 2840, 2841, 2842, 2843, 2844, 2845, 2846, 2847, 2848, 2849, 2850, 2851, 2852, 2853, 2854, 2855, 2856, 2857, 2858, 2859, 2860, 2861, 2862, 2863, 2864, 2865, 2866, 2867, 2868, 2869, 2870, 2871, 2872, 2873, 2874, 2875, 2876, 2877, 2878, 2879, 2880, 2881, 2882, 2883, 2884, 2885, 2886, 2887, 2888, 2889, 2890, 2891, 2892, 2893, 2894, 2895, 2896, 2897, 2898, 2899, 2900, 2901, 2902, 2903, 2904, 2905, 2906, 2907, 2908, 2909, 2910, 2911, 2912, 2913, 2914, 2915, 2916, 2917, 2918, 2919, 2920, 2921, 2922, 2923, 2924, 2925, 2926, 2927, 2928, 2929, 2930, 2931, 2932, 2933, 2934, 2935, 2936, 2937, 2938, 2939, 2940, 2941, 2942, 2943, 2944, 2945, 2946, 2947, 2948, 2949, 2950, 2951, 2952, 2953, 2954, 2955, 2956, 2957, 2958, 2959, 2960, 2961, 2962, 2963, 2964, 2965, 2966, 2967, 2968, 2969, 2970, 2971, 2972, 2973, 2974, 2975, 2976, 2977, 2978, 2979, 2980, 2981, 2982, 2983, 2984, 2985, 2986, 2987, 2988, 2989, 2990, 2991, 2992, 2993, 2994, 2995, 2996, 2997, 2998, 2999, 3000, 3001, 3002, 3003, 3004, 3005, 3006, 3007, 3008, 3009, 3010, 3011, 3012, 3013, 3014, 3015, 3016, 3017, 3018, 3019, 3020, 3021, 3022, 3023, 3024, 3025, 3026, 3027, 3028, 3029, 3030, 3031, 3032, 3033, 3034, 3035, 3036, 3037, 3038, 3039, 3040, 3041, 3042, 3043, 3044, 3045, 3046, 3047, 3048, 3049, 3050, 3051, 3052, 3053, 3054, 3055, 3056, 3057, 3058, 3059, 3060, 3061, 3062, 3063, 3064, 3065, 3066, 3067, 3068, 3069, 3070, 3071, 3072, 3073, 3074, 3075, 3076, 3077, 3078, 3079, 3080, 3081, 3082, 3083, 3084, 3085, 3086, 3087, 3088, 3089, 3090, 3091, 3092, 3093, 3094, 3095, 3096, 3097, 3098, 3099, 3100, 3101, 3102, 3103, 3104, 3105, 3106, 3107, 3108, 3109, 3110, 3111, 3112, 3113, 3114, 3115, 3116, 3117, 3118, 3119, 3120, 3121, 3122, 3123, 3124, 3125, 3126, 3127, 3128, 3129, 3130, 3131, 3132, 3133, 3134, 3135, 3136, 3137, 3138, 3139, 3140, 3141, 3142, 3143, 3144, 3145, 3146, 3147, 3148, 3149, 3150, 3151, 3152, 3153, 3154, 3155, 3156, 3157, 3158, 3159, 3160, 3161, 3162, 3163, 3164, 3165, 3166, 3167, 3168, 3169, 3170, 3171, 3172, 3173, 3174, 3175, 3176, 3177, 3178, 3179, 3180, 3181, 3182, 3183, 3184, 3185, 3186, 3187, 3188, 3189, 3190, 3191, 3192, 3193, 3194, 3195, 3196, 3197, 3198, 3199, 3201, 3202, 3203, 3204, 3205, 3206, 3208, 3209, 3210, 3211, 3212, 3213, 3214, 3215, 3216, 3217, 3218, 3219, 3220, 3221, 3222, 3223, 3224, 3225, 3226, 3227, 3228, 3229, 3230, 3231, 3232, 3233, 3234, 3235, 3236, 3237, 3238, 3239, 3240, 3241] 741\n"
     ]
    }
   ],
   "source": [
    "bad_keys = []\n",
    "for key in list(data_temp['key'].unique()):\n",
    "    try:\n",
    "        if ((data_temp[data_temp['key'] == key]['Время замера'].max() < \n",
    "            data_arc[data_arc['key'] == key]['Конец нагрева дугой'].max()) or\n",
    "           (data_temp[data_temp['key'] == key]['Время замера'].max() == \n",
    "            data_temp[data_temp['key'] == key]['Время замера'].min())):\n",
    "            bad_keys.append(key)\n",
    "    except:\n",
    "        bad_keys.append(key)\n",
    "print(bad_keys, len(bad_keys))"
   ]
  },
  {
   "cell_type": "code",
   "execution_count": 11,
   "metadata": {},
   "outputs": [
    {
     "name": "stdout",
     "output_type": "stream",
     "text": [
      "<class 'pandas.core.frame.DataFrame'>\n",
      "Int64Index: 13924 entries, 0 to 13925\n",
      "Data columns (total 3 columns):\n",
      " #   Column        Non-Null Count  Dtype  \n",
      "---  ------        --------------  -----  \n",
      " 0   key           13924 non-null  int64  \n",
      " 1   Время замера  13924 non-null  object \n",
      " 2   Температура   13924 non-null  float64\n",
      "dtypes: float64(1), int64(1), object(1)\n",
      "memory usage: 435.1+ KB\n"
     ]
    }
   ],
   "source": [
    "data_temp = data_temp.query('key not in @bad_keys')\n",
    "data_temp = data_temp.dropna()\n",
    "data_temp.info()"
   ]
  },
  {
   "cell_type": "code",
   "execution_count": 12,
   "metadata": {},
   "outputs": [
    {
     "name": "stdout",
     "output_type": "stream",
     "text": [
      "<class 'pandas.core.frame.DataFrame'>\n",
      "Int64Index: 2475 entries, 0 to 2474\n",
      "Data columns (total 5 columns):\n",
      " #   Column      Non-Null Count  Dtype         \n",
      "---  ------      --------------  -----         \n",
      " 0   key         2475 non-null   int64         \n",
      " 1   time_first  2475 non-null   datetime64[ns]\n",
      " 2   temp_first  2475 non-null   float64       \n",
      " 3   time_last   2475 non-null   datetime64[ns]\n",
      " 4   temp_last   2475 non-null   float64       \n",
      "dtypes: datetime64[ns](2), float64(2), int64(1)\n",
      "memory usage: 116.0 KB\n"
     ]
    }
   ],
   "source": [
    "data_temp['Время замера'] = pd.to_datetime(data_temp['Время замера'], format='%Y-%m-%d %H:%M:%S')\n",
    "\n",
    "# создаём сводную таблицу с первым измерением, для дальнейшего исследования\n",
    "df_temp_last = data_temp.groupby('key').agg('max')['Время замера']\n",
    "df_temp_last = pd.DataFrame(df_temp_last)\n",
    "df_temp_last = df_temp_last.merge(data_temp, on='Время замера', how='left')\n",
    "df_temp_last.set_axis(['time_last','key','temp_last'], axis = 'columns', inplace = True)\n",
    "\n",
    "# создаём сводную таблицу с последним измерением, целевой метрикой \n",
    "df_temp_first = data_temp.groupby('key').agg('min')['Время замера']\n",
    "df_temp_first = pd.DataFrame(df_temp_first)\n",
    "df_temp_first = df_temp_first.merge(data_temp, on='Время замера', how='left')\n",
    "df_temp_first.set_axis(['time_first','key','temp_first'], axis = 'columns', inplace = True)\n",
    "\n",
    "# объединяем таблицы\n",
    "df = df_temp_first.merge(df_temp_last, on='key', how='left')\\\n",
    "                  .reindex(columns=['key', 'time_first', 'temp_first', 'time_last', 'temp_last'])\n",
    "\n",
    "# сохраним список с пустыми значениями целевой метрики\n",
    "keys_with_na = list(df[df['temp_last'].isna()]['key'])\n",
    "keys_not_na = list(df[~df['temp_last'].isna()]['key'])\n",
    "\n",
    "# посмотрим таблицу\n",
    "df.info()"
   ]
  },
  {
   "cell_type": "code",
   "execution_count": 13,
   "metadata": {},
   "outputs": [],
   "source": [
    "df = df[~df['key'].isin(keys_with_na)]"
   ]
  },
  {
   "cell_type": "code",
   "execution_count": 14,
   "metadata": {},
   "outputs": [
    {
     "data": {
      "text/plain": [
       "key           0.0\n",
       "temp_first    0.0\n",
       "temp_last     0.0\n",
       "dtype: float64"
      ]
     },
     "execution_count": 14,
     "metadata": {},
     "output_type": "execute_result"
    }
   ],
   "source": [
    "df[df['temp_last'] == 0].sum()"
   ]
  },
  {
   "cell_type": "code",
   "execution_count": 15,
   "metadata": {},
   "outputs": [
    {
     "name": "stdout",
     "output_type": "stream",
     "text": [
      "<class 'pandas.core.frame.DataFrame'>\n",
      "Int64Index: 2475 entries, 0 to 2474\n",
      "Data columns (total 5 columns):\n",
      " #   Column      Non-Null Count  Dtype         \n",
      "---  ------      --------------  -----         \n",
      " 0   key         2475 non-null   int64         \n",
      " 1   time_first  2475 non-null   datetime64[ns]\n",
      " 2   temp_first  2475 non-null   float64       \n",
      " 3   time_last   2475 non-null   datetime64[ns]\n",
      " 4   temp_last   2475 non-null   float64       \n",
      "dtypes: datetime64[ns](2), float64(2), int64(1)\n",
      "memory usage: 116.0 KB\n"
     ]
    }
   ],
   "source": [
    "df.info()"
   ]
  },
  {
   "cell_type": "code",
   "execution_count": 16,
   "metadata": {},
   "outputs": [],
   "source": [
    "# Переведем в правильный формат\n",
    "data_arc['Начало нагрева дугой'] = pd.to_datetime(data_arc['Начало нагрева дугой'], format='%Y-%m-%d %H:%M:%S')\n",
    "data_arc['Конец нагрева дугой'] = pd.to_datetime(data_arc['Конец нагрева дугой'], format='%Y-%m-%d %H:%M:%S')"
   ]
  },
  {
   "cell_type": "code",
   "execution_count": 17,
   "metadata": {},
   "outputs": [],
   "source": [
    "# Добавим суммарное временя нагрева\n",
    "data_arc['duration_heating'] = (data_arc['Конец нагрева дугой'] - data_arc['Начало нагрева дугой']) / np.timedelta64(1, 'm')"
   ]
  },
  {
   "cell_type": "code",
   "execution_count": 18,
   "metadata": {},
   "outputs": [],
   "source": [
    "data_arc = data_arc[['key', 'Активная мощность','Реактивная мощность', 'duration_heating']].groupby('key').sum()"
   ]
  },
  {
   "cell_type": "code",
   "execution_count": 19,
   "metadata": {},
   "outputs": [
    {
     "name": "stdout",
     "output_type": "stream",
     "text": [
      "<class 'pandas.core.frame.DataFrame'>\n",
      "Int64Index: 2329 entries, 1 to 2499\n",
      "Data columns (total 16 columns):\n",
      " #   Column               Non-Null Count  Dtype         \n",
      "---  ------               --------------  -----         \n",
      " 0   time_first           2329 non-null   datetime64[ns]\n",
      " 1   temp_first           2329 non-null   float64       \n",
      " 2   time_last            2329 non-null   datetime64[ns]\n",
      " 3   temp_last            2329 non-null   float64       \n",
      " 4   Газ 1                2329 non-null   float64       \n",
      " 5   Wire 1               2329 non-null   float64       \n",
      " 6   Wire 2               2329 non-null   float64       \n",
      " 7   Bulk 3               2329 non-null   float64       \n",
      " 8   Bulk 4               2329 non-null   float64       \n",
      " 9   Bulk 6               2329 non-null   float64       \n",
      " 10  Bulk 12              2329 non-null   float64       \n",
      " 11  Bulk 14              2329 non-null   float64       \n",
      " 12  Bulk 15              2329 non-null   float64       \n",
      " 13  Активная мощность    2329 non-null   float64       \n",
      " 14  Реактивная мощность  2329 non-null   float64       \n",
      " 15  duration_heating     2329 non-null   float64       \n",
      "dtypes: datetime64[ns](2), float64(14)\n",
      "memory usage: 309.3 KB\n"
     ]
    },
    {
     "data": {
      "text/plain": [
       "None"
      ]
     },
     "metadata": {},
     "output_type": "display_data"
    },
    {
     "data": {
      "text/html": [
       "<div>\n",
       "<style scoped>\n",
       "    .dataframe tbody tr th:only-of-type {\n",
       "        vertical-align: middle;\n",
       "    }\n",
       "\n",
       "    .dataframe tbody tr th {\n",
       "        vertical-align: top;\n",
       "    }\n",
       "\n",
       "    .dataframe thead th {\n",
       "        text-align: right;\n",
       "    }\n",
       "</style>\n",
       "<table border=\"1\" class=\"dataframe\">\n",
       "  <thead>\n",
       "    <tr style=\"text-align: right;\">\n",
       "      <th></th>\n",
       "      <th>time_first</th>\n",
       "      <th>temp_first</th>\n",
       "      <th>time_last</th>\n",
       "      <th>temp_last</th>\n",
       "      <th>Газ 1</th>\n",
       "      <th>Wire 1</th>\n",
       "      <th>Wire 2</th>\n",
       "      <th>Bulk 3</th>\n",
       "      <th>Bulk 4</th>\n",
       "      <th>Bulk 6</th>\n",
       "      <th>Bulk 12</th>\n",
       "      <th>Bulk 14</th>\n",
       "      <th>Bulk 15</th>\n",
       "      <th>Активная мощность</th>\n",
       "      <th>Реактивная мощность</th>\n",
       "      <th>duration_heating</th>\n",
       "    </tr>\n",
       "    <tr>\n",
       "      <th>key</th>\n",
       "      <th></th>\n",
       "      <th></th>\n",
       "      <th></th>\n",
       "      <th></th>\n",
       "      <th></th>\n",
       "      <th></th>\n",
       "      <th></th>\n",
       "      <th></th>\n",
       "      <th></th>\n",
       "      <th></th>\n",
       "      <th></th>\n",
       "      <th></th>\n",
       "      <th></th>\n",
       "      <th></th>\n",
       "      <th></th>\n",
       "      <th></th>\n",
       "    </tr>\n",
       "  </thead>\n",
       "  <tbody>\n",
       "    <tr>\n",
       "      <th>1</th>\n",
       "      <td>2019-05-03 11:02:04</td>\n",
       "      <td>1571.0</td>\n",
       "      <td>2019-05-03 11:30:38</td>\n",
       "      <td>1613.0</td>\n",
       "      <td>29.749986</td>\n",
       "      <td>60.059998</td>\n",
       "      <td>0.00000</td>\n",
       "      <td>0.0</td>\n",
       "      <td>43.0</td>\n",
       "      <td>0.0</td>\n",
       "      <td>206.0</td>\n",
       "      <td>150.0</td>\n",
       "      <td>154.0</td>\n",
       "      <td>3.036730</td>\n",
       "      <td>2.142821</td>\n",
       "      <td>18.300000</td>\n",
       "    </tr>\n",
       "    <tr>\n",
       "      <th>2</th>\n",
       "      <td>2019-05-03 11:34:04</td>\n",
       "      <td>1581.0</td>\n",
       "      <td>2019-05-03 11:55:09</td>\n",
       "      <td>1602.0</td>\n",
       "      <td>12.555561</td>\n",
       "      <td>96.052315</td>\n",
       "      <td>0.00000</td>\n",
       "      <td>0.0</td>\n",
       "      <td>73.0</td>\n",
       "      <td>0.0</td>\n",
       "      <td>206.0</td>\n",
       "      <td>149.0</td>\n",
       "      <td>154.0</td>\n",
       "      <td>2.139408</td>\n",
       "      <td>1.453357</td>\n",
       "      <td>13.516667</td>\n",
       "    </tr>\n",
       "    <tr>\n",
       "      <th>3</th>\n",
       "      <td>2019-05-03 12:06:44</td>\n",
       "      <td>1596.0</td>\n",
       "      <td>2019-05-03 12:35:57</td>\n",
       "      <td>1599.0</td>\n",
       "      <td>28.554793</td>\n",
       "      <td>91.160157</td>\n",
       "      <td>0.00000</td>\n",
       "      <td>0.0</td>\n",
       "      <td>34.0</td>\n",
       "      <td>0.0</td>\n",
       "      <td>205.0</td>\n",
       "      <td>152.0</td>\n",
       "      <td>153.0</td>\n",
       "      <td>4.063641</td>\n",
       "      <td>2.937457</td>\n",
       "      <td>10.916667</td>\n",
       "    </tr>\n",
       "    <tr>\n",
       "      <th>4</th>\n",
       "      <td>2019-05-03 12:39:27</td>\n",
       "      <td>1601.0</td>\n",
       "      <td>2019-05-03 12:59:47</td>\n",
       "      <td>1625.0</td>\n",
       "      <td>18.841219</td>\n",
       "      <td>89.063515</td>\n",
       "      <td>0.00000</td>\n",
       "      <td>0.0</td>\n",
       "      <td>81.0</td>\n",
       "      <td>0.0</td>\n",
       "      <td>207.0</td>\n",
       "      <td>153.0</td>\n",
       "      <td>154.0</td>\n",
       "      <td>2.706489</td>\n",
       "      <td>2.056992</td>\n",
       "      <td>12.350000</td>\n",
       "    </tr>\n",
       "    <tr>\n",
       "      <th>5</th>\n",
       "      <td>2019-05-03 13:11:03</td>\n",
       "      <td>1576.0</td>\n",
       "      <td>2019-05-03 13:36:39</td>\n",
       "      <td>1602.0</td>\n",
       "      <td>5.413692</td>\n",
       "      <td>89.238236</td>\n",
       "      <td>9.11456</td>\n",
       "      <td>0.0</td>\n",
       "      <td>78.0</td>\n",
       "      <td>0.0</td>\n",
       "      <td>203.0</td>\n",
       "      <td>151.0</td>\n",
       "      <td>152.0</td>\n",
       "      <td>2.252950</td>\n",
       "      <td>1.687991</td>\n",
       "      <td>14.483333</td>\n",
       "    </tr>\n",
       "  </tbody>\n",
       "</table>\n",
       "</div>"
      ],
      "text/plain": [
       "             time_first  temp_first           time_last  temp_last      Газ 1  \\\n",
       "key                                                                             \n",
       "1   2019-05-03 11:02:04      1571.0 2019-05-03 11:30:38     1613.0  29.749986   \n",
       "2   2019-05-03 11:34:04      1581.0 2019-05-03 11:55:09     1602.0  12.555561   \n",
       "3   2019-05-03 12:06:44      1596.0 2019-05-03 12:35:57     1599.0  28.554793   \n",
       "4   2019-05-03 12:39:27      1601.0 2019-05-03 12:59:47     1625.0  18.841219   \n",
       "5   2019-05-03 13:11:03      1576.0 2019-05-03 13:36:39     1602.0   5.413692   \n",
       "\n",
       "        Wire 1   Wire 2  Bulk 3  Bulk 4  Bulk 6  Bulk 12  Bulk 14  Bulk 15  \\\n",
       "key                                                                          \n",
       "1    60.059998  0.00000     0.0    43.0     0.0    206.0    150.0    154.0   \n",
       "2    96.052315  0.00000     0.0    73.0     0.0    206.0    149.0    154.0   \n",
       "3    91.160157  0.00000     0.0    34.0     0.0    205.0    152.0    153.0   \n",
       "4    89.063515  0.00000     0.0    81.0     0.0    207.0    153.0    154.0   \n",
       "5    89.238236  9.11456     0.0    78.0     0.0    203.0    151.0    152.0   \n",
       "\n",
       "     Активная мощность  Реактивная мощность  duration_heating  \n",
       "key                                                            \n",
       "1             3.036730             2.142821         18.300000  \n",
       "2             2.139408             1.453357         13.516667  \n",
       "3             4.063641             2.937457         10.916667  \n",
       "4             2.706489             2.056992         12.350000  \n",
       "5             2.252950             1.687991         14.483333  "
      ]
     },
     "execution_count": 19,
     "metadata": {},
     "output_type": "execute_result"
    }
   ],
   "source": [
    "df = pd.merge(df, data_gas, how=\"inner\", on=[\"key\"])\n",
    "df = pd.merge(df, data_wire, how=\"inner\", on=[\"key\"])\n",
    "df = pd.merge(df, data_bulk, how=\"inner\", on=[\"key\"])\n",
    "df = pd.merge(df, data_arc, how=\"inner\", on=[\"key\"]) \n",
    "df = df.set_index('key')\n",
    "display(df.info())\n",
    "df.head(5)"
   ]
  },
  {
   "cell_type": "code",
   "execution_count": 20,
   "metadata": {},
   "outputs": [],
   "source": [
    "# Удалим данные с начальной температурой ниже 1400 градусов.\n",
    "df = df[df['temp_first'] > 1400]"
   ]
  },
  {
   "cell_type": "markdown",
   "metadata": {},
   "source": [
    "<div class=\"alert alert-danger\" style=\"border-color: darkred; border-radius: 5px\">\n",
    "    <p><u><b>❌ КОММЕНТАРИЙ ТИМЛИДА </b></u></p>У нас в итоге должно быть не более строк, чем ковшей. Т.е. не более 3000 точно! Перед мержеванием - нам надо агрегировать мощность сначала. Тут у тебя 14000 строк.... что-то не так) Посомтри, пожалуйста."
   ]
  },
  {
   "cell_type": "code",
   "execution_count": 21,
   "metadata": {
    "scrolled": false
   },
   "outputs": [
    {
     "name": "stdout",
     "output_type": "stream",
     "text": [
      "<class 'pandas.core.frame.DataFrame'>\n",
      "Int64Index: 2325 entries, 1 to 2499\n",
      "Data columns (total 16 columns):\n",
      " #   Column               Non-Null Count  Dtype         \n",
      "---  ------               --------------  -----         \n",
      " 0   time_first           2325 non-null   datetime64[ns]\n",
      " 1   temp_first           2325 non-null   float64       \n",
      " 2   time_last            2325 non-null   datetime64[ns]\n",
      " 3   temp_last            2325 non-null   float64       \n",
      " 4   Газ 1                2325 non-null   float64       \n",
      " 5   Wire 1               2325 non-null   float64       \n",
      " 6   Wire 2               2325 non-null   float64       \n",
      " 7   Bulk 3               2325 non-null   float64       \n",
      " 8   Bulk 4               2325 non-null   float64       \n",
      " 9   Bulk 6               2325 non-null   float64       \n",
      " 10  Bulk 12              2325 non-null   float64       \n",
      " 11  Bulk 14              2325 non-null   float64       \n",
      " 12  Bulk 15              2325 non-null   float64       \n",
      " 13  Активная мощность    2325 non-null   float64       \n",
      " 14  Реактивная мощность  2325 non-null   float64       \n",
      " 15  duration_heating     2325 non-null   float64       \n",
      "dtypes: datetime64[ns](2), float64(14)\n",
      "memory usage: 308.8 KB\n"
     ]
    }
   ],
   "source": [
    "#df = df.fillna(0)\n",
    "#df = df.dropna()\n",
    "df.info()"
   ]
  },
  {
   "cell_type": "code",
   "execution_count": 22,
   "metadata": {},
   "outputs": [],
   "source": [
    "# Добавим полную мощность\n",
    "df['full_power'] = (df['Активная мощность']**2 + df['Реактивная мощность']**2)**0.5"
   ]
  },
  {
   "cell_type": "markdown",
   "metadata": {},
   "source": [
    "<div class=\"alert alert-danger\" style=\"border-color: darkred; border-radius: 5px\">\n",
    "    <p><u><b>❌ КОММЕНТАРИЙ ТИМЛИДА 2</b></u></p> нет, не совсем так. Ниже формула."
   ]
  },
  {
   "attachments": {
    "image.png": {
     "image/png": "[encoded data removed]"
    }
   },
   "cell_type": "markdown",
   "metadata": {},
   "source": [
    "![image.png](attachment:image.png)"
   ]
  },
  {
   "cell_type": "code",
   "execution_count": 23,
   "metadata": {},
   "outputs": [
    {
     "data": {
      "image/png": "[encoded data removed]",
      "text/plain": [
       "<Figure size 864x432 with 2 Axes>"
      ]
     },
     "metadata": {
      "needs_background": "light"
     },
     "output_type": "display_data"
    }
   ],
   "source": [
    "corr_mat=df[[\n",
    "    'full_power',\n",
    "    'Активная мощность',\n",
    "    'Реактивная мощность',\n",
    "    'duration_heating',\n",
    "    'temp_last']].corr()\n",
    "plt.figure(figsize=(12,6))\n",
    "sns.heatmap(corr_mat,vmax=1,square=True,annot=True,cmap='cubehelix');"
   ]
  },
  {
   "cell_type": "code",
   "execution_count": 24,
   "metadata": {},
   "outputs": [
    {
     "name": "stdout",
     "output_type": "stream",
     "text": [
      "<class 'pandas.core.frame.DataFrame'>\n",
      "Int64Index: 2325 entries, 1 to 2499\n",
      "Data columns (total 15 columns):\n",
      " #   Column            Non-Null Count  Dtype         \n",
      "---  ------            --------------  -----         \n",
      " 0   time_first        2325 non-null   datetime64[ns]\n",
      " 1   temp_first        2325 non-null   float64       \n",
      " 2   time_last         2325 non-null   datetime64[ns]\n",
      " 3   temp_last         2325 non-null   float64       \n",
      " 4   Газ 1             2325 non-null   float64       \n",
      " 5   Wire 1            2325 non-null   float64       \n",
      " 6   Wire 2            2325 non-null   float64       \n",
      " 7   Bulk 3            2325 non-null   float64       \n",
      " 8   Bulk 4            2325 non-null   float64       \n",
      " 9   Bulk 6            2325 non-null   float64       \n",
      " 10  Bulk 12           2325 non-null   float64       \n",
      " 11  Bulk 14           2325 non-null   float64       \n",
      " 12  Bulk 15           2325 non-null   float64       \n",
      " 13  duration_heating  2325 non-null   float64       \n",
      " 14  full_power        2325 non-null   float64       \n",
      "dtypes: datetime64[ns](2), float64(13)\n",
      "memory usage: 290.6 KB\n"
     ]
    }
   ],
   "source": [
    "# удалим мультиколениарные с полной мощностью признаки\n",
    "df = df.drop(['Реактивная мощность'], axis=1)\n",
    "df = df.drop(['Активная мощность'], axis=1)\n",
    "df.info()"
   ]
  },
  {
   "cell_type": "code",
   "execution_count": 25,
   "metadata": {},
   "outputs": [
    {
     "data": {
      "text/html": [
       "<div>\n",
       "<style scoped>\n",
       "    .dataframe tbody tr th:only-of-type {\n",
       "        vertical-align: middle;\n",
       "    }\n",
       "\n",
       "    .dataframe tbody tr th {\n",
       "        vertical-align: top;\n",
       "    }\n",
       "\n",
       "    .dataframe thead th {\n",
       "        text-align: right;\n",
       "    }\n",
       "</style>\n",
       "<table border=\"1\" class=\"dataframe\">\n",
       "  <thead>\n",
       "    <tr style=\"text-align: right;\">\n",
       "      <th></th>\n",
       "      <th>time_first</th>\n",
       "      <th>temp_first</th>\n",
       "      <th>time_last</th>\n",
       "      <th>temp_last</th>\n",
       "      <th>Газ 1</th>\n",
       "      <th>Wire 1</th>\n",
       "      <th>Wire 2</th>\n",
       "      <th>Bulk 3</th>\n",
       "      <th>Bulk 4</th>\n",
       "      <th>Bulk 6</th>\n",
       "      <th>Bulk 12</th>\n",
       "      <th>Bulk 14</th>\n",
       "      <th>Bulk 15</th>\n",
       "      <th>duration_heating</th>\n",
       "      <th>full_power</th>\n",
       "    </tr>\n",
       "    <tr>\n",
       "      <th>key</th>\n",
       "      <th></th>\n",
       "      <th></th>\n",
       "      <th></th>\n",
       "      <th></th>\n",
       "      <th></th>\n",
       "      <th></th>\n",
       "      <th></th>\n",
       "      <th></th>\n",
       "      <th></th>\n",
       "      <th></th>\n",
       "      <th></th>\n",
       "      <th></th>\n",
       "      <th></th>\n",
       "      <th></th>\n",
       "      <th></th>\n",
       "    </tr>\n",
       "  </thead>\n",
       "  <tbody>\n",
       "    <tr>\n",
       "      <th>1</th>\n",
       "      <td>2019-05-03 11:02:04</td>\n",
       "      <td>1571.0</td>\n",
       "      <td>2019-05-03 11:30:38</td>\n",
       "      <td>1613.0</td>\n",
       "      <td>29.749986</td>\n",
       "      <td>60.059998</td>\n",
       "      <td>0.00000</td>\n",
       "      <td>0.0</td>\n",
       "      <td>43.0</td>\n",
       "      <td>0.0</td>\n",
       "      <td>206.0</td>\n",
       "      <td>150.0</td>\n",
       "      <td>154.0</td>\n",
       "      <td>18.300000</td>\n",
       "      <td>3.716640</td>\n",
       "    </tr>\n",
       "    <tr>\n",
       "      <th>2</th>\n",
       "      <td>2019-05-03 11:34:04</td>\n",
       "      <td>1581.0</td>\n",
       "      <td>2019-05-03 11:55:09</td>\n",
       "      <td>1602.0</td>\n",
       "      <td>12.555561</td>\n",
       "      <td>96.052315</td>\n",
       "      <td>0.00000</td>\n",
       "      <td>0.0</td>\n",
       "      <td>73.0</td>\n",
       "      <td>0.0</td>\n",
       "      <td>206.0</td>\n",
       "      <td>149.0</td>\n",
       "      <td>154.0</td>\n",
       "      <td>13.516667</td>\n",
       "      <td>2.586371</td>\n",
       "    </tr>\n",
       "    <tr>\n",
       "      <th>3</th>\n",
       "      <td>2019-05-03 12:06:44</td>\n",
       "      <td>1596.0</td>\n",
       "      <td>2019-05-03 12:35:57</td>\n",
       "      <td>1599.0</td>\n",
       "      <td>28.554793</td>\n",
       "      <td>91.160157</td>\n",
       "      <td>0.00000</td>\n",
       "      <td>0.0</td>\n",
       "      <td>34.0</td>\n",
       "      <td>0.0</td>\n",
       "      <td>205.0</td>\n",
       "      <td>152.0</td>\n",
       "      <td>153.0</td>\n",
       "      <td>10.916667</td>\n",
       "      <td>5.014163</td>\n",
       "    </tr>\n",
       "    <tr>\n",
       "      <th>4</th>\n",
       "      <td>2019-05-03 12:39:27</td>\n",
       "      <td>1601.0</td>\n",
       "      <td>2019-05-03 12:59:47</td>\n",
       "      <td>1625.0</td>\n",
       "      <td>18.841219</td>\n",
       "      <td>89.063515</td>\n",
       "      <td>0.00000</td>\n",
       "      <td>0.0</td>\n",
       "      <td>81.0</td>\n",
       "      <td>0.0</td>\n",
       "      <td>207.0</td>\n",
       "      <td>153.0</td>\n",
       "      <td>154.0</td>\n",
       "      <td>12.350000</td>\n",
       "      <td>3.399456</td>\n",
       "    </tr>\n",
       "    <tr>\n",
       "      <th>5</th>\n",
       "      <td>2019-05-03 13:11:03</td>\n",
       "      <td>1576.0</td>\n",
       "      <td>2019-05-03 13:36:39</td>\n",
       "      <td>1602.0</td>\n",
       "      <td>5.413692</td>\n",
       "      <td>89.238236</td>\n",
       "      <td>9.11456</td>\n",
       "      <td>0.0</td>\n",
       "      <td>78.0</td>\n",
       "      <td>0.0</td>\n",
       "      <td>203.0</td>\n",
       "      <td>151.0</td>\n",
       "      <td>152.0</td>\n",
       "      <td>14.483333</td>\n",
       "      <td>2.815155</td>\n",
       "    </tr>\n",
       "    <tr>\n",
       "      <th>...</th>\n",
       "      <td>...</td>\n",
       "      <td>...</td>\n",
       "      <td>...</td>\n",
       "      <td>...</td>\n",
       "      <td>...</td>\n",
       "      <td>...</td>\n",
       "      <td>...</td>\n",
       "      <td>...</td>\n",
       "      <td>...</td>\n",
       "      <td>...</td>\n",
       "      <td>...</td>\n",
       "      <td>...</td>\n",
       "      <td>...</td>\n",
       "      <td>...</td>\n",
       "      <td>...</td>\n",
       "    </tr>\n",
       "    <tr>\n",
       "      <th>2495</th>\n",
       "      <td>2019-08-10 11:27:47</td>\n",
       "      <td>1570.0</td>\n",
       "      <td>2019-08-10 11:50:47</td>\n",
       "      <td>1591.0</td>\n",
       "      <td>7.125735</td>\n",
       "      <td>89.150879</td>\n",
       "      <td>0.00000</td>\n",
       "      <td>21.0</td>\n",
       "      <td>0.0</td>\n",
       "      <td>0.0</td>\n",
       "      <td>256.0</td>\n",
       "      <td>129.0</td>\n",
       "      <td>223.0</td>\n",
       "      <td>12.050000</td>\n",
       "      <td>3.863328</td>\n",
       "    </tr>\n",
       "    <tr>\n",
       "      <th>2496</th>\n",
       "      <td>2019-08-10 11:56:48</td>\n",
       "      <td>1554.0</td>\n",
       "      <td>2019-08-10 12:25:13</td>\n",
       "      <td>1591.0</td>\n",
       "      <td>9.412616</td>\n",
       "      <td>114.179527</td>\n",
       "      <td>0.00000</td>\n",
       "      <td>0.0</td>\n",
       "      <td>63.0</td>\n",
       "      <td>0.0</td>\n",
       "      <td>256.0</td>\n",
       "      <td>129.0</td>\n",
       "      <td>226.0</td>\n",
       "      <td>15.666667</td>\n",
       "      <td>5.067396</td>\n",
       "    </tr>\n",
       "    <tr>\n",
       "      <th>2497</th>\n",
       "      <td>2019-08-10 12:37:26</td>\n",
       "      <td>1571.0</td>\n",
       "      <td>2019-08-10 12:53:28</td>\n",
       "      <td>1589.0</td>\n",
       "      <td>6.271699</td>\n",
       "      <td>94.086723</td>\n",
       "      <td>9.04800</td>\n",
       "      <td>0.0</td>\n",
       "      <td>85.0</td>\n",
       "      <td>0.0</td>\n",
       "      <td>230.0</td>\n",
       "      <td>124.0</td>\n",
       "      <td>226.0</td>\n",
       "      <td>9.483333</td>\n",
       "      <td>4.360104</td>\n",
       "    </tr>\n",
       "    <tr>\n",
       "      <th>2498</th>\n",
       "      <td>2019-08-10 12:58:11</td>\n",
       "      <td>1591.0</td>\n",
       "      <td>2019-08-10 13:23:31</td>\n",
       "      <td>1594.0</td>\n",
       "      <td>14.953657</td>\n",
       "      <td>118.110717</td>\n",
       "      <td>0.00000</td>\n",
       "      <td>90.0</td>\n",
       "      <td>0.0</td>\n",
       "      <td>0.0</td>\n",
       "      <td>206.0</td>\n",
       "      <td>129.0</td>\n",
       "      <td>207.0</td>\n",
       "      <td>12.500000</td>\n",
       "      <td>3.907887</td>\n",
       "    </tr>\n",
       "    <tr>\n",
       "      <th>2499</th>\n",
       "      <td>2019-08-10 13:33:21</td>\n",
       "      <td>1569.0</td>\n",
       "      <td>2019-08-10 13:58:58</td>\n",
       "      <td>1603.0</td>\n",
       "      <td>11.336151</td>\n",
       "      <td>110.160958</td>\n",
       "      <td>50.00528</td>\n",
       "      <td>47.0</td>\n",
       "      <td>0.0</td>\n",
       "      <td>0.0</td>\n",
       "      <td>233.0</td>\n",
       "      <td>126.0</td>\n",
       "      <td>227.0</td>\n",
       "      <td>14.716667</td>\n",
       "      <td>2.167774</td>\n",
       "    </tr>\n",
       "  </tbody>\n",
       "</table>\n",
       "<p>2325 rows × 15 columns</p>\n",
       "</div>"
      ],
      "text/plain": [
       "              time_first  temp_first           time_last  temp_last  \\\n",
       "key                                                                   \n",
       "1    2019-05-03 11:02:04      1571.0 2019-05-03 11:30:38     1613.0   \n",
       "2    2019-05-03 11:34:04      1581.0 2019-05-03 11:55:09     1602.0   \n",
       "3    2019-05-03 12:06:44      1596.0 2019-05-03 12:35:57     1599.0   \n",
       "4    2019-05-03 12:39:27      1601.0 2019-05-03 12:59:47     1625.0   \n",
       "5    2019-05-03 13:11:03      1576.0 2019-05-03 13:36:39     1602.0   \n",
       "...                  ...         ...                 ...        ...   \n",
       "2495 2019-08-10 11:27:47      1570.0 2019-08-10 11:50:47     1591.0   \n",
       "2496 2019-08-10 11:56:48      1554.0 2019-08-10 12:25:13     1591.0   \n",
       "2497 2019-08-10 12:37:26      1571.0 2019-08-10 12:53:28     1589.0   \n",
       "2498 2019-08-10 12:58:11      1591.0 2019-08-10 13:23:31     1594.0   \n",
       "2499 2019-08-10 13:33:21      1569.0 2019-08-10 13:58:58     1603.0   \n",
       "\n",
       "          Газ 1      Wire 1    Wire 2  Bulk 3  Bulk 4  Bulk 6  Bulk 12  \\\n",
       "key                                                                      \n",
       "1     29.749986   60.059998   0.00000     0.0    43.0     0.0    206.0   \n",
       "2     12.555561   96.052315   0.00000     0.0    73.0     0.0    206.0   \n",
       "3     28.554793   91.160157   0.00000     0.0    34.0     0.0    205.0   \n",
       "4     18.841219   89.063515   0.00000     0.0    81.0     0.0    207.0   \n",
       "5      5.413692   89.238236   9.11456     0.0    78.0     0.0    203.0   \n",
       "...         ...         ...       ...     ...     ...     ...      ...   \n",
       "2495   7.125735   89.150879   0.00000    21.0     0.0     0.0    256.0   \n",
       "2496   9.412616  114.179527   0.00000     0.0    63.0     0.0    256.0   \n",
       "2497   6.271699   94.086723   9.04800     0.0    85.0     0.0    230.0   \n",
       "2498  14.953657  118.110717   0.00000    90.0     0.0     0.0    206.0   \n",
       "2499  11.336151  110.160958  50.00528    47.0     0.0     0.0    233.0   \n",
       "\n",
       "      Bulk 14  Bulk 15  duration_heating  full_power  \n",
       "key                                                   \n",
       "1       150.0    154.0         18.300000    3.716640  \n",
       "2       149.0    154.0         13.516667    2.586371  \n",
       "3       152.0    153.0         10.916667    5.014163  \n",
       "4       153.0    154.0         12.350000    3.399456  \n",
       "5       151.0    152.0         14.483333    2.815155  \n",
       "...       ...      ...               ...         ...  \n",
       "2495    129.0    223.0         12.050000    3.863328  \n",
       "2496    129.0    226.0         15.666667    5.067396  \n",
       "2497    124.0    226.0          9.483333    4.360104  \n",
       "2498    129.0    207.0         12.500000    3.907887  \n",
       "2499    126.0    227.0         14.716667    2.167774  \n",
       "\n",
       "[2325 rows x 15 columns]"
      ]
     },
     "execution_count": 25,
     "metadata": {},
     "output_type": "execute_result"
    }
   ],
   "source": [
    "df"
   ]
  },
  {
   "cell_type": "markdown",
   "metadata": {},
   "source": [
    "<div class=\"alert alert-danger\" style=\"border-color: darkred; border-radius: 5px\">\n",
    "    <p><u><b>❌ КОММЕНТАРИЙ ТИМЛИДА 4</b></u></p>\n",
    "    <p>У нас ковши наблюдаются, в которых нет целвой, но есть первая температура. А объект моделирования у нас - ковш. И если нет целевой - надо удалять весь ковш. Сейчас они всё ещё в деле))). Наприм ковш номер 3000 - целевой нет. Значить надо удалить. А он всё равно в таблице остался. Посмотри, пожалуйста.</p>\n",
    "</div>"
   ]
  },
  {
   "cell_type": "code",
   "execution_count": 26,
   "metadata": {},
   "outputs": [],
   "source": [
    "# Разделим данные на обучающую и тестовую выборки\n",
    "features = df.drop(['temp_last', 'time_first', 'time_last'] , axis=1)\n",
    "target = df['temp_last']\n",
    "\n",
    "features_train, features_test, target_train, target_test = \\\n",
    "    train_test_split(features, target, test_size=0.25, random_state=250923)"
   ]
  },
  {
   "cell_type": "code",
   "execution_count": 27,
   "metadata": {},
   "outputs": [
    {
     "data": {
      "text/html": [
       "<div>\n",
       "<style scoped>\n",
       "    .dataframe tbody tr th:only-of-type {\n",
       "        vertical-align: middle;\n",
       "    }\n",
       "\n",
       "    .dataframe tbody tr th {\n",
       "        vertical-align: top;\n",
       "    }\n",
       "\n",
       "    .dataframe thead th {\n",
       "        text-align: right;\n",
       "    }\n",
       "</style>\n",
       "<table border=\"1\" class=\"dataframe\">\n",
       "  <thead>\n",
       "    <tr style=\"text-align: right;\">\n",
       "      <th></th>\n",
       "      <th>temp_first</th>\n",
       "      <th>Газ 1</th>\n",
       "      <th>Wire 1</th>\n",
       "      <th>Wire 2</th>\n",
       "      <th>Bulk 3</th>\n",
       "      <th>Bulk 4</th>\n",
       "      <th>Bulk 6</th>\n",
       "      <th>Bulk 12</th>\n",
       "      <th>Bulk 14</th>\n",
       "      <th>Bulk 15</th>\n",
       "      <th>duration_heating</th>\n",
       "      <th>full_power</th>\n",
       "    </tr>\n",
       "    <tr>\n",
       "      <th>key</th>\n",
       "      <th></th>\n",
       "      <th></th>\n",
       "      <th></th>\n",
       "      <th></th>\n",
       "      <th></th>\n",
       "      <th></th>\n",
       "      <th></th>\n",
       "      <th></th>\n",
       "      <th></th>\n",
       "      <th></th>\n",
       "      <th></th>\n",
       "      <th></th>\n",
       "    </tr>\n",
       "  </thead>\n",
       "  <tbody>\n",
       "    <tr>\n",
       "      <th>1</th>\n",
       "      <td>1571.0</td>\n",
       "      <td>29.749986</td>\n",
       "      <td>60.059998</td>\n",
       "      <td>0.00000</td>\n",
       "      <td>0.0</td>\n",
       "      <td>43.0</td>\n",
       "      <td>0.0</td>\n",
       "      <td>206.0</td>\n",
       "      <td>150.0</td>\n",
       "      <td>154.0</td>\n",
       "      <td>18.300000</td>\n",
       "      <td>3.716640</td>\n",
       "    </tr>\n",
       "    <tr>\n",
       "      <th>2</th>\n",
       "      <td>1581.0</td>\n",
       "      <td>12.555561</td>\n",
       "      <td>96.052315</td>\n",
       "      <td>0.00000</td>\n",
       "      <td>0.0</td>\n",
       "      <td>73.0</td>\n",
       "      <td>0.0</td>\n",
       "      <td>206.0</td>\n",
       "      <td>149.0</td>\n",
       "      <td>154.0</td>\n",
       "      <td>13.516667</td>\n",
       "      <td>2.586371</td>\n",
       "    </tr>\n",
       "    <tr>\n",
       "      <th>3</th>\n",
       "      <td>1596.0</td>\n",
       "      <td>28.554793</td>\n",
       "      <td>91.160157</td>\n",
       "      <td>0.00000</td>\n",
       "      <td>0.0</td>\n",
       "      <td>34.0</td>\n",
       "      <td>0.0</td>\n",
       "      <td>205.0</td>\n",
       "      <td>152.0</td>\n",
       "      <td>153.0</td>\n",
       "      <td>10.916667</td>\n",
       "      <td>5.014163</td>\n",
       "    </tr>\n",
       "    <tr>\n",
       "      <th>4</th>\n",
       "      <td>1601.0</td>\n",
       "      <td>18.841219</td>\n",
       "      <td>89.063515</td>\n",
       "      <td>0.00000</td>\n",
       "      <td>0.0</td>\n",
       "      <td>81.0</td>\n",
       "      <td>0.0</td>\n",
       "      <td>207.0</td>\n",
       "      <td>153.0</td>\n",
       "      <td>154.0</td>\n",
       "      <td>12.350000</td>\n",
       "      <td>3.399456</td>\n",
       "    </tr>\n",
       "    <tr>\n",
       "      <th>5</th>\n",
       "      <td>1576.0</td>\n",
       "      <td>5.413692</td>\n",
       "      <td>89.238236</td>\n",
       "      <td>9.11456</td>\n",
       "      <td>0.0</td>\n",
       "      <td>78.0</td>\n",
       "      <td>0.0</td>\n",
       "      <td>203.0</td>\n",
       "      <td>151.0</td>\n",
       "      <td>152.0</td>\n",
       "      <td>14.483333</td>\n",
       "      <td>2.815155</td>\n",
       "    </tr>\n",
       "    <tr>\n",
       "      <th>...</th>\n",
       "      <td>...</td>\n",
       "      <td>...</td>\n",
       "      <td>...</td>\n",
       "      <td>...</td>\n",
       "      <td>...</td>\n",
       "      <td>...</td>\n",
       "      <td>...</td>\n",
       "      <td>...</td>\n",
       "      <td>...</td>\n",
       "      <td>...</td>\n",
       "      <td>...</td>\n",
       "      <td>...</td>\n",
       "    </tr>\n",
       "    <tr>\n",
       "      <th>2495</th>\n",
       "      <td>1570.0</td>\n",
       "      <td>7.125735</td>\n",
       "      <td>89.150879</td>\n",
       "      <td>0.00000</td>\n",
       "      <td>21.0</td>\n",
       "      <td>0.0</td>\n",
       "      <td>0.0</td>\n",
       "      <td>256.0</td>\n",
       "      <td>129.0</td>\n",
       "      <td>223.0</td>\n",
       "      <td>12.050000</td>\n",
       "      <td>3.863328</td>\n",
       "    </tr>\n",
       "    <tr>\n",
       "      <th>2496</th>\n",
       "      <td>1554.0</td>\n",
       "      <td>9.412616</td>\n",
       "      <td>114.179527</td>\n",
       "      <td>0.00000</td>\n",
       "      <td>0.0</td>\n",
       "      <td>63.0</td>\n",
       "      <td>0.0</td>\n",
       "      <td>256.0</td>\n",
       "      <td>129.0</td>\n",
       "      <td>226.0</td>\n",
       "      <td>15.666667</td>\n",
       "      <td>5.067396</td>\n",
       "    </tr>\n",
       "    <tr>\n",
       "      <th>2497</th>\n",
       "      <td>1571.0</td>\n",
       "      <td>6.271699</td>\n",
       "      <td>94.086723</td>\n",
       "      <td>9.04800</td>\n",
       "      <td>0.0</td>\n",
       "      <td>85.0</td>\n",
       "      <td>0.0</td>\n",
       "      <td>230.0</td>\n",
       "      <td>124.0</td>\n",
       "      <td>226.0</td>\n",
       "      <td>9.483333</td>\n",
       "      <td>4.360104</td>\n",
       "    </tr>\n",
       "    <tr>\n",
       "      <th>2498</th>\n",
       "      <td>1591.0</td>\n",
       "      <td>14.953657</td>\n",
       "      <td>118.110717</td>\n",
       "      <td>0.00000</td>\n",
       "      <td>90.0</td>\n",
       "      <td>0.0</td>\n",
       "      <td>0.0</td>\n",
       "      <td>206.0</td>\n",
       "      <td>129.0</td>\n",
       "      <td>207.0</td>\n",
       "      <td>12.500000</td>\n",
       "      <td>3.907887</td>\n",
       "    </tr>\n",
       "    <tr>\n",
       "      <th>2499</th>\n",
       "      <td>1569.0</td>\n",
       "      <td>11.336151</td>\n",
       "      <td>110.160958</td>\n",
       "      <td>50.00528</td>\n",
       "      <td>47.0</td>\n",
       "      <td>0.0</td>\n",
       "      <td>0.0</td>\n",
       "      <td>233.0</td>\n",
       "      <td>126.0</td>\n",
       "      <td>227.0</td>\n",
       "      <td>14.716667</td>\n",
       "      <td>2.167774</td>\n",
       "    </tr>\n",
       "  </tbody>\n",
       "</table>\n",
       "<p>2325 rows × 12 columns</p>\n",
       "</div>"
      ],
      "text/plain": [
       "      temp_first      Газ 1      Wire 1    Wire 2  Bulk 3  Bulk 4  Bulk 6  \\\n",
       "key                                                                         \n",
       "1         1571.0  29.749986   60.059998   0.00000     0.0    43.0     0.0   \n",
       "2         1581.0  12.555561   96.052315   0.00000     0.0    73.0     0.0   \n",
       "3         1596.0  28.554793   91.160157   0.00000     0.0    34.0     0.0   \n",
       "4         1601.0  18.841219   89.063515   0.00000     0.0    81.0     0.0   \n",
       "5         1576.0   5.413692   89.238236   9.11456     0.0    78.0     0.0   \n",
       "...          ...        ...         ...       ...     ...     ...     ...   \n",
       "2495      1570.0   7.125735   89.150879   0.00000    21.0     0.0     0.0   \n",
       "2496      1554.0   9.412616  114.179527   0.00000     0.0    63.0     0.0   \n",
       "2497      1571.0   6.271699   94.086723   9.04800     0.0    85.0     0.0   \n",
       "2498      1591.0  14.953657  118.110717   0.00000    90.0     0.0     0.0   \n",
       "2499      1569.0  11.336151  110.160958  50.00528    47.0     0.0     0.0   \n",
       "\n",
       "      Bulk 12  Bulk 14  Bulk 15  duration_heating  full_power  \n",
       "key                                                            \n",
       "1       206.0    150.0    154.0         18.300000    3.716640  \n",
       "2       206.0    149.0    154.0         13.516667    2.586371  \n",
       "3       205.0    152.0    153.0         10.916667    5.014163  \n",
       "4       207.0    153.0    154.0         12.350000    3.399456  \n",
       "5       203.0    151.0    152.0         14.483333    2.815155  \n",
       "...       ...      ...      ...               ...         ...  \n",
       "2495    256.0    129.0    223.0         12.050000    3.863328  \n",
       "2496    256.0    129.0    226.0         15.666667    5.067396  \n",
       "2497    230.0    124.0    226.0          9.483333    4.360104  \n",
       "2498    206.0    129.0    207.0         12.500000    3.907887  \n",
       "2499    233.0    126.0    227.0         14.716667    2.167774  \n",
       "\n",
       "[2325 rows x 12 columns]"
      ]
     },
     "execution_count": 27,
     "metadata": {},
     "output_type": "execute_result"
    }
   ],
   "source": [
    "features"
   ]
  },
  {
   "cell_type": "code",
   "execution_count": 28,
   "metadata": {},
   "outputs": [
    {
     "data": {
      "text/html": [
       "<div>\n",
       "<style scoped>\n",
       "    .dataframe tbody tr th:only-of-type {\n",
       "        vertical-align: middle;\n",
       "    }\n",
       "\n",
       "    .dataframe tbody tr th {\n",
       "        vertical-align: top;\n",
       "    }\n",
       "\n",
       "    .dataframe thead th {\n",
       "        text-align: right;\n",
       "    }\n",
       "</style>\n",
       "<table border=\"1\" class=\"dataframe\">\n",
       "  <thead>\n",
       "    <tr style=\"text-align: right;\">\n",
       "      <th></th>\n",
       "      <th>temp_first</th>\n",
       "      <th>Газ 1</th>\n",
       "      <th>Wire 1</th>\n",
       "      <th>Wire 2</th>\n",
       "      <th>Bulk 3</th>\n",
       "      <th>Bulk 4</th>\n",
       "      <th>Bulk 6</th>\n",
       "      <th>Bulk 12</th>\n",
       "      <th>Bulk 14</th>\n",
       "      <th>Bulk 15</th>\n",
       "      <th>duration_heating</th>\n",
       "      <th>full_power</th>\n",
       "    </tr>\n",
       "    <tr>\n",
       "      <th>key</th>\n",
       "      <th></th>\n",
       "      <th></th>\n",
       "      <th></th>\n",
       "      <th></th>\n",
       "      <th></th>\n",
       "      <th></th>\n",
       "      <th></th>\n",
       "      <th></th>\n",
       "      <th></th>\n",
       "      <th></th>\n",
       "      <th></th>\n",
       "      <th></th>\n",
       "    </tr>\n",
       "  </thead>\n",
       "  <tbody>\n",
       "    <tr>\n",
       "      <th>1026</th>\n",
       "      <td>1573.0</td>\n",
       "      <td>8.910542</td>\n",
       "      <td>65.051994</td>\n",
       "      <td>0.000000</td>\n",
       "      <td>104.0</td>\n",
       "      <td>0.0</td>\n",
       "      <td>105.0</td>\n",
       "      <td>257.0</td>\n",
       "      <td>153.0</td>\n",
       "      <td>0.0</td>\n",
       "      <td>13.816667</td>\n",
       "      <td>2.884506</td>\n",
       "    </tr>\n",
       "    <tr>\n",
       "      <th>1442</th>\n",
       "      <td>1600.0</td>\n",
       "      <td>9.069192</td>\n",
       "      <td>155.282409</td>\n",
       "      <td>0.000000</td>\n",
       "      <td>129.0</td>\n",
       "      <td>0.0</td>\n",
       "      <td>0.0</td>\n",
       "      <td>107.0</td>\n",
       "      <td>129.0</td>\n",
       "      <td>73.0</td>\n",
       "      <td>7.800000</td>\n",
       "      <td>3.003962</td>\n",
       "    </tr>\n",
       "    <tr>\n",
       "      <th>2170</th>\n",
       "      <td>1545.0</td>\n",
       "      <td>11.966259</td>\n",
       "      <td>95.222397</td>\n",
       "      <td>0.000000</td>\n",
       "      <td>0.0</td>\n",
       "      <td>102.0</td>\n",
       "      <td>0.0</td>\n",
       "      <td>422.0</td>\n",
       "      <td>210.0</td>\n",
       "      <td>215.0</td>\n",
       "      <td>19.433333</td>\n",
       "      <td>4.790603</td>\n",
       "    </tr>\n",
       "    <tr>\n",
       "      <th>976</th>\n",
       "      <td>1578.0</td>\n",
       "      <td>10.491841</td>\n",
       "      <td>85.082398</td>\n",
       "      <td>171.550073</td>\n",
       "      <td>251.0</td>\n",
       "      <td>0.0</td>\n",
       "      <td>0.0</td>\n",
       "      <td>0.0</td>\n",
       "      <td>190.0</td>\n",
       "      <td>0.0</td>\n",
       "      <td>8.616667</td>\n",
       "      <td>3.793344</td>\n",
       "    </tr>\n",
       "    <tr>\n",
       "      <th>888</th>\n",
       "      <td>1581.0</td>\n",
       "      <td>7.954749</td>\n",
       "      <td>117.280793</td>\n",
       "      <td>0.000000</td>\n",
       "      <td>188.0</td>\n",
       "      <td>0.0</td>\n",
       "      <td>0.0</td>\n",
       "      <td>309.0</td>\n",
       "      <td>197.0</td>\n",
       "      <td>167.0</td>\n",
       "      <td>10.083333</td>\n",
       "      <td>2.172344</td>\n",
       "    </tr>\n",
       "    <tr>\n",
       "      <th>...</th>\n",
       "      <td>...</td>\n",
       "      <td>...</td>\n",
       "      <td>...</td>\n",
       "      <td>...</td>\n",
       "      <td>...</td>\n",
       "      <td>...</td>\n",
       "      <td>...</td>\n",
       "      <td>...</td>\n",
       "      <td>...</td>\n",
       "      <td>...</td>\n",
       "      <td>...</td>\n",
       "      <td>...</td>\n",
       "    </tr>\n",
       "    <tr>\n",
       "      <th>1414</th>\n",
       "      <td>1551.0</td>\n",
       "      <td>8.495829</td>\n",
       "      <td>60.137996</td>\n",
       "      <td>0.000000</td>\n",
       "      <td>72.0</td>\n",
       "      <td>0.0</td>\n",
       "      <td>0.0</td>\n",
       "      <td>256.0</td>\n",
       "      <td>151.0</td>\n",
       "      <td>205.0</td>\n",
       "      <td>11.966667</td>\n",
       "      <td>2.522838</td>\n",
       "    </tr>\n",
       "    <tr>\n",
       "      <th>870</th>\n",
       "      <td>1591.0</td>\n",
       "      <td>12.758931</td>\n",
       "      <td>230.443191</td>\n",
       "      <td>56.519836</td>\n",
       "      <td>42.0</td>\n",
       "      <td>0.0</td>\n",
       "      <td>0.0</td>\n",
       "      <td>206.0</td>\n",
       "      <td>104.0</td>\n",
       "      <td>203.0</td>\n",
       "      <td>11.466667</td>\n",
       "      <td>3.833893</td>\n",
       "    </tr>\n",
       "    <tr>\n",
       "      <th>1017</th>\n",
       "      <td>1552.0</td>\n",
       "      <td>8.423716</td>\n",
       "      <td>96.173996</td>\n",
       "      <td>0.000000</td>\n",
       "      <td>0.0</td>\n",
       "      <td>239.0</td>\n",
       "      <td>0.0</td>\n",
       "      <td>206.0</td>\n",
       "      <td>102.0</td>\n",
       "      <td>103.0</td>\n",
       "      <td>17.216667</td>\n",
       "      <td>2.853522</td>\n",
       "    </tr>\n",
       "    <tr>\n",
       "      <th>335</th>\n",
       "      <td>1564.0</td>\n",
       "      <td>5.541493</td>\n",
       "      <td>73.429200</td>\n",
       "      <td>0.000000</td>\n",
       "      <td>0.0</td>\n",
       "      <td>0.0</td>\n",
       "      <td>162.0</td>\n",
       "      <td>410.0</td>\n",
       "      <td>208.0</td>\n",
       "      <td>205.0</td>\n",
       "      <td>32.383333</td>\n",
       "      <td>6.848574</td>\n",
       "    </tr>\n",
       "    <tr>\n",
       "      <th>189</th>\n",
       "      <td>1588.0</td>\n",
       "      <td>16.515060</td>\n",
       "      <td>74.212318</td>\n",
       "      <td>64.180481</td>\n",
       "      <td>0.0</td>\n",
       "      <td>0.0</td>\n",
       "      <td>125.0</td>\n",
       "      <td>412.0</td>\n",
       "      <td>211.0</td>\n",
       "      <td>203.0</td>\n",
       "      <td>22.233333</td>\n",
       "      <td>4.430194</td>\n",
       "    </tr>\n",
       "  </tbody>\n",
       "</table>\n",
       "<p>1743 rows × 12 columns</p>\n",
       "</div>"
      ],
      "text/plain": [
       "      temp_first      Газ 1      Wire 1      Wire 2  Bulk 3  Bulk 4  Bulk 6  \\\n",
       "key                                                                           \n",
       "1026      1573.0   8.910542   65.051994    0.000000   104.0     0.0   105.0   \n",
       "1442      1600.0   9.069192  155.282409    0.000000   129.0     0.0     0.0   \n",
       "2170      1545.0  11.966259   95.222397    0.000000     0.0   102.0     0.0   \n",
       "976       1578.0  10.491841   85.082398  171.550073   251.0     0.0     0.0   \n",
       "888       1581.0   7.954749  117.280793    0.000000   188.0     0.0     0.0   \n",
       "...          ...        ...         ...         ...     ...     ...     ...   \n",
       "1414      1551.0   8.495829   60.137996    0.000000    72.0     0.0     0.0   \n",
       "870       1591.0  12.758931  230.443191   56.519836    42.0     0.0     0.0   \n",
       "1017      1552.0   8.423716   96.173996    0.000000     0.0   239.0     0.0   \n",
       "335       1564.0   5.541493   73.429200    0.000000     0.0     0.0   162.0   \n",
       "189       1588.0  16.515060   74.212318   64.180481     0.0     0.0   125.0   \n",
       "\n",
       "      Bulk 12  Bulk 14  Bulk 15  duration_heating  full_power  \n",
       "key                                                            \n",
       "1026    257.0    153.0      0.0         13.816667    2.884506  \n",
       "1442    107.0    129.0     73.0          7.800000    3.003962  \n",
       "2170    422.0    210.0    215.0         19.433333    4.790603  \n",
       "976       0.0    190.0      0.0          8.616667    3.793344  \n",
       "888     309.0    197.0    167.0         10.083333    2.172344  \n",
       "...       ...      ...      ...               ...         ...  \n",
       "1414    256.0    151.0    205.0         11.966667    2.522838  \n",
       "870     206.0    104.0    203.0         11.466667    3.833893  \n",
       "1017    206.0    102.0    103.0         17.216667    2.853522  \n",
       "335     410.0    208.0    205.0         32.383333    6.848574  \n",
       "189     412.0    211.0    203.0         22.233333    4.430194  \n",
       "\n",
       "[1743 rows x 12 columns]"
      ]
     },
     "execution_count": 28,
     "metadata": {},
     "output_type": "execute_result"
    }
   ],
   "source": [
    "features_train"
   ]
  },
  {
   "cell_type": "code",
   "execution_count": 29,
   "metadata": {},
   "outputs": [],
   "source": [
    "# scaler = StandardScaler()\n",
    "# features_train = scaler.fit_transform(features_train)\n",
    "# features_test = scaler.transform(features_test)"
   ]
  },
  {
   "cell_type": "markdown",
   "metadata": {},
   "source": [
    "Обучение моделей:"
   ]
  },
  {
   "cell_type": "code",
   "execution_count": 30,
   "metadata": {},
   "outputs": [
    {
     "name": "stdout",
     "output_type": "stream",
     "text": [
      "Mean MAE from CV of LinearRegression = 6.7108174785394175\n"
     ]
    }
   ],
   "source": [
    "regressor = LinearRegression()\n",
    "cv_MAE_LR = (cross_val_score(regressor, \n",
    "                             features_train, \n",
    "                             target_train, \n",
    "                             cv=6, \n",
    "                             scoring='neg_mean_absolute_error').mean() * -1)\n",
    "print('Mean MAE from CV of LinearRegression =', cv_MAE_LR)"
   ]
  },
  {
   "cell_type": "markdown",
   "metadata": {},
   "source": [
    "MAE = 6.7108174785394175"
   ]
  },
  {
   "cell_type": "code",
   "execution_count": 31,
   "metadata": {},
   "outputs": [
    {
     "name": "stdout",
     "output_type": "stream",
     "text": [
      "Mean MAE from CV of CatBoostRegressor = 6.736651877520281\n"
     ]
    }
   ],
   "source": [
    "regressor = CatBoostRegressor(verbose=False, random_state=250923)\n",
    "cv_MAE_CBR = (cross_val_score(regressor, \n",
    "                             features_train, \n",
    "                             target_train, \n",
    "                             cv=6, \n",
    "                             scoring='neg_mean_absolute_error').mean() * -1)\n",
    "print('Mean MAE from CV of CatBoostRegressor =', cv_MAE_CBR)"
   ]
  },
  {
   "cell_type": "markdown",
   "metadata": {},
   "source": [
    "Получилось достичь метрики 6.736651877520281, удовлетворяющей условиям заказчика."
   ]
  },
  {
   "cell_type": "raw",
   "metadata": {},
   "source": [
    "rr_params = {'solver': ['auto', 'svd', 'cholesky', 'saga', 'lbfgs'],\n",
    "             'alpha': range(0, 20)}\n",
    "\n",
    "rr_model = Ridge(random_state=250923)\n",
    "grid_rr = GridSearchCV(rr_model, rr_params, scoring='neg_mean_absolute_error', cv=5, verbose=1)\n",
    "\n",
    "grid_rr.fit(features_train, target_train)\n",
    "print('MAE кросс-валидации лучшей модели', abs(round(grid_rr.best_score_, 2)))"
   ]
  },
  {
   "cell_type": "markdown",
   "metadata": {},
   "source": [
    "те же 6.7 MAE кросс-валидации лучшей модели"
   ]
  },
  {
   "cell_type": "code",
   "execution_count": null,
   "metadata": {},
   "outputs": [],
   "source": [
    "regressor = RandomForestRegressor(random_state=250923) \n",
    "hyperparams = [{'criterion':['mse'],\n",
    "                'n_estimators':[x for x in range(100, 1001, 50)]}]\n",
    "\n",
    "clf = GridSearchCV(regressor, hyperparams, scoring='neg_mean_absolute_error', cv=6)\n",
    "clf.fit(features_train, target_train)\n",
    "print(\"Best parameters set found on development set:\")\n",
    "print()\n",
    "best_params_RFR = clf.best_params_\n",
    "print(clf.best_params_)\n",
    "print()\n",
    "print(\"Grid scores on development set:\")\n",
    "print()\n",
    "means = clf.cv_results_['mean_test_score']\n",
    "stds = clf.cv_results_['std_test_score']\n",
    "for mean, std, params in zip(means, stds, clf.cv_results_['params']):\n",
    "    print(\"%0.6f for %r\"% ((mean*-1), params))\n",
    "print()\n",
    "\n",
    "cv_MAE_RFR = (max(means)*-1)"
   ]
  },
  {
   "cell_type": "code",
   "execution_count": null,
   "metadata": {},
   "outputs": [],
   "source": []
  },
  {
   "cell_type": "code",
   "execution_count": null,
   "metadata": {},
   "outputs": [],
   "source": []
  },
  {
   "cell_type": "markdown",
   "metadata": {},
   "source": [
    "## Тестирование лучшей модели"
   ]
  },
  {
   "cell_type": "markdown",
   "metadata": {},
   "source": [
    "Протестируем нашу CatBoost модель:"
   ]
  },
  {
   "cell_type": "code",
   "execution_count": 32,
   "metadata": {},
   "outputs": [],
   "source": [
    "best_params_CBR = CatBoostRegressor(verbose=False, \n",
    "                                    random_state=250923).fit(features_train, \n",
    "                                        target_train).get_all_params()"
   ]
  },
  {
   "cell_type": "code",
   "execution_count": 33,
   "metadata": {},
   "outputs": [
    {
     "data": {
      "text/plain": [
       "{'nan_mode': 'Min',\n",
       " 'eval_metric': 'RMSE',\n",
       " 'iterations': 1000,\n",
       " 'sampling_frequency': 'PerTree',\n",
       " 'leaf_estimation_method': 'Newton',\n",
       " 'grow_policy': 'SymmetricTree',\n",
       " 'penalties_coefficient': 1,\n",
       " 'boosting_type': 'Plain',\n",
       " 'model_shrink_mode': 'Constant',\n",
       " 'feature_border_type': 'GreedyLogSum',\n",
       " 'bayesian_matrix_reg': 0.10000000149011612,\n",
       " 'force_unit_auto_pair_weights': False,\n",
       " 'l2_leaf_reg': 3,\n",
       " 'random_strength': 1,\n",
       " 'rsm': 1,\n",
       " 'boost_from_average': True,\n",
       " 'model_size_reg': 0.5,\n",
       " 'pool_metainfo_options': {'tags': {}},\n",
       " 'subsample': 0.800000011920929,\n",
       " 'use_best_model': False,\n",
       " 'random_seed': 250923,\n",
       " 'depth': 6,\n",
       " 'posterior_sampling': False,\n",
       " 'border_count': 254,\n",
       " 'classes_count': 0,\n",
       " 'auto_class_weights': 'None',\n",
       " 'sparse_features_conflict_fraction': 0,\n",
       " 'leaf_estimation_backtracking': 'AnyImprovement',\n",
       " 'best_model_min_trees': 1,\n",
       " 'model_shrink_rate': 0,\n",
       " 'min_data_in_leaf': 1,\n",
       " 'loss_function': 'RMSE',\n",
       " 'learning_rate': 0.04470000043511391,\n",
       " 'score_function': 'Cosine',\n",
       " 'task_type': 'CPU',\n",
       " 'leaf_estimation_iterations': 1,\n",
       " 'bootstrap_type': 'MVS',\n",
       " 'max_leaves': 64}"
      ]
     },
     "execution_count": 33,
     "metadata": {},
     "output_type": "execute_result"
    }
   ],
   "source": [
    "best_params_CBR"
   ]
  },
  {
   "cell_type": "code",
   "execution_count": 34,
   "metadata": {},
   "outputs": [
    {
     "data": {
      "text/html": [
       "<div>\n",
       "<style scoped>\n",
       "    .dataframe tbody tr th:only-of-type {\n",
       "        vertical-align: middle;\n",
       "    }\n",
       "\n",
       "    .dataframe tbody tr th {\n",
       "        vertical-align: top;\n",
       "    }\n",
       "\n",
       "    .dataframe thead th {\n",
       "        text-align: right;\n",
       "    }\n",
       "</style>\n",
       "<table border=\"1\" class=\"dataframe\">\n",
       "  <thead>\n",
       "    <tr style=\"text-align: right;\">\n",
       "      <th></th>\n",
       "      <th>temp_first</th>\n",
       "      <th>Газ 1</th>\n",
       "      <th>Wire 1</th>\n",
       "      <th>Wire 2</th>\n",
       "      <th>Bulk 3</th>\n",
       "      <th>Bulk 4</th>\n",
       "      <th>Bulk 6</th>\n",
       "      <th>Bulk 12</th>\n",
       "      <th>Bulk 14</th>\n",
       "      <th>Bulk 15</th>\n",
       "      <th>duration_heating</th>\n",
       "      <th>full_power</th>\n",
       "    </tr>\n",
       "    <tr>\n",
       "      <th>key</th>\n",
       "      <th></th>\n",
       "      <th></th>\n",
       "      <th></th>\n",
       "      <th></th>\n",
       "      <th></th>\n",
       "      <th></th>\n",
       "      <th></th>\n",
       "      <th></th>\n",
       "      <th></th>\n",
       "      <th></th>\n",
       "      <th></th>\n",
       "      <th></th>\n",
       "    </tr>\n",
       "  </thead>\n",
       "  <tbody>\n",
       "    <tr>\n",
       "      <th>1788</th>\n",
       "      <td>1591.0</td>\n",
       "      <td>10.442265</td>\n",
       "      <td>186.217193</td>\n",
       "      <td>11.068720</td>\n",
       "      <td>0.0</td>\n",
       "      <td>68.0</td>\n",
       "      <td>0.0</td>\n",
       "      <td>511.0</td>\n",
       "      <td>203.0</td>\n",
       "      <td>209.0</td>\n",
       "      <td>24.183333</td>\n",
       "      <td>4.427279</td>\n",
       "    </tr>\n",
       "    <tr>\n",
       "      <th>2226</th>\n",
       "      <td>1571.0</td>\n",
       "      <td>3.725078</td>\n",
       "      <td>48.091678</td>\n",
       "      <td>0.000000</td>\n",
       "      <td>38.0</td>\n",
       "      <td>21.0</td>\n",
       "      <td>0.0</td>\n",
       "      <td>180.0</td>\n",
       "      <td>129.0</td>\n",
       "      <td>156.0</td>\n",
       "      <td>15.366667</td>\n",
       "      <td>3.916160</td>\n",
       "    </tr>\n",
       "    <tr>\n",
       "      <th>276</th>\n",
       "      <td>1620.0</td>\n",
       "      <td>12.728707</td>\n",
       "      <td>118.198082</td>\n",
       "      <td>82.205765</td>\n",
       "      <td>74.0</td>\n",
       "      <td>0.0</td>\n",
       "      <td>0.0</td>\n",
       "      <td>255.0</td>\n",
       "      <td>134.0</td>\n",
       "      <td>203.0</td>\n",
       "      <td>9.950000</td>\n",
       "      <td>4.820882</td>\n",
       "    </tr>\n",
       "    <tr>\n",
       "      <th>155</th>\n",
       "      <td>1568.0</td>\n",
       "      <td>5.468144</td>\n",
       "      <td>93.125763</td>\n",
       "      <td>0.000000</td>\n",
       "      <td>0.0</td>\n",
       "      <td>0.0</td>\n",
       "      <td>0.0</td>\n",
       "      <td>106.0</td>\n",
       "      <td>100.0</td>\n",
       "      <td>203.0</td>\n",
       "      <td>12.016667</td>\n",
       "      <td>4.152894</td>\n",
       "    </tr>\n",
       "    <tr>\n",
       "      <th>706</th>\n",
       "      <td>1600.0</td>\n",
       "      <td>14.748546</td>\n",
       "      <td>75.113998</td>\n",
       "      <td>0.000000</td>\n",
       "      <td>0.0</td>\n",
       "      <td>0.0</td>\n",
       "      <td>165.0</td>\n",
       "      <td>208.0</td>\n",
       "      <td>104.0</td>\n",
       "      <td>110.0</td>\n",
       "      <td>13.033333</td>\n",
       "      <td>3.931123</td>\n",
       "    </tr>\n",
       "    <tr>\n",
       "      <th>...</th>\n",
       "      <td>...</td>\n",
       "      <td>...</td>\n",
       "      <td>...</td>\n",
       "      <td>...</td>\n",
       "      <td>...</td>\n",
       "      <td>...</td>\n",
       "      <td>...</td>\n",
       "      <td>...</td>\n",
       "      <td>...</td>\n",
       "      <td>...</td>\n",
       "      <td>...</td>\n",
       "      <td>...</td>\n",
       "    </tr>\n",
       "    <tr>\n",
       "      <th>2286</th>\n",
       "      <td>1554.0</td>\n",
       "      <td>24.040159</td>\n",
       "      <td>149.210877</td>\n",
       "      <td>0.000000</td>\n",
       "      <td>0.0</td>\n",
       "      <td>80.0</td>\n",
       "      <td>25.0</td>\n",
       "      <td>107.0</td>\n",
       "      <td>150.0</td>\n",
       "      <td>56.0</td>\n",
       "      <td>15.616667</td>\n",
       "      <td>4.791001</td>\n",
       "    </tr>\n",
       "    <tr>\n",
       "      <th>1367</th>\n",
       "      <td>1560.0</td>\n",
       "      <td>1.801414</td>\n",
       "      <td>105.066002</td>\n",
       "      <td>0.000000</td>\n",
       "      <td>64.0</td>\n",
       "      <td>0.0</td>\n",
       "      <td>83.0</td>\n",
       "      <td>512.0</td>\n",
       "      <td>222.0</td>\n",
       "      <td>0.0</td>\n",
       "      <td>13.183333</td>\n",
       "      <td>2.505646</td>\n",
       "    </tr>\n",
       "    <tr>\n",
       "      <th>2402</th>\n",
       "      <td>1590.0</td>\n",
       "      <td>11.418124</td>\n",
       "      <td>142.222077</td>\n",
       "      <td>11.159200</td>\n",
       "      <td>0.0</td>\n",
       "      <td>111.0</td>\n",
       "      <td>0.0</td>\n",
       "      <td>157.0</td>\n",
       "      <td>136.0</td>\n",
       "      <td>104.0</td>\n",
       "      <td>12.350000</td>\n",
       "      <td>5.146128</td>\n",
       "    </tr>\n",
       "    <tr>\n",
       "      <th>1072</th>\n",
       "      <td>1571.0</td>\n",
       "      <td>10.403084</td>\n",
       "      <td>133.099198</td>\n",
       "      <td>0.000000</td>\n",
       "      <td>202.0</td>\n",
       "      <td>0.0</td>\n",
       "      <td>0.0</td>\n",
       "      <td>256.0</td>\n",
       "      <td>132.0</td>\n",
       "      <td>203.0</td>\n",
       "      <td>17.050000</td>\n",
       "      <td>2.900191</td>\n",
       "    </tr>\n",
       "    <tr>\n",
       "      <th>2156</th>\n",
       "      <td>1571.0</td>\n",
       "      <td>8.061703</td>\n",
       "      <td>49.008961</td>\n",
       "      <td>0.000000</td>\n",
       "      <td>0.0</td>\n",
       "      <td>0.0</td>\n",
       "      <td>0.0</td>\n",
       "      <td>206.0</td>\n",
       "      <td>131.0</td>\n",
       "      <td>104.0</td>\n",
       "      <td>10.750000</td>\n",
       "      <td>3.863627</td>\n",
       "    </tr>\n",
       "  </tbody>\n",
       "</table>\n",
       "<p>582 rows × 12 columns</p>\n",
       "</div>"
      ],
      "text/plain": [
       "      temp_first      Газ 1      Wire 1     Wire 2  Bulk 3  Bulk 4  Bulk 6  \\\n",
       "key                                                                          \n",
       "1788      1591.0  10.442265  186.217193  11.068720     0.0    68.0     0.0   \n",
       "2226      1571.0   3.725078   48.091678   0.000000    38.0    21.0     0.0   \n",
       "276       1620.0  12.728707  118.198082  82.205765    74.0     0.0     0.0   \n",
       "155       1568.0   5.468144   93.125763   0.000000     0.0     0.0     0.0   \n",
       "706       1600.0  14.748546   75.113998   0.000000     0.0     0.0   165.0   \n",
       "...          ...        ...         ...        ...     ...     ...     ...   \n",
       "2286      1554.0  24.040159  149.210877   0.000000     0.0    80.0    25.0   \n",
       "1367      1560.0   1.801414  105.066002   0.000000    64.0     0.0    83.0   \n",
       "2402      1590.0  11.418124  142.222077  11.159200     0.0   111.0     0.0   \n",
       "1072      1571.0  10.403084  133.099198   0.000000   202.0     0.0     0.0   \n",
       "2156      1571.0   8.061703   49.008961   0.000000     0.0     0.0     0.0   \n",
       "\n",
       "      Bulk 12  Bulk 14  Bulk 15  duration_heating  full_power  \n",
       "key                                                            \n",
       "1788    511.0    203.0    209.0         24.183333    4.427279  \n",
       "2226    180.0    129.0    156.0         15.366667    3.916160  \n",
       "276     255.0    134.0    203.0          9.950000    4.820882  \n",
       "155     106.0    100.0    203.0         12.016667    4.152894  \n",
       "706     208.0    104.0    110.0         13.033333    3.931123  \n",
       "...       ...      ...      ...               ...         ...  \n",
       "2286    107.0    150.0     56.0         15.616667    4.791001  \n",
       "1367    512.0    222.0      0.0         13.183333    2.505646  \n",
       "2402    157.0    136.0    104.0         12.350000    5.146128  \n",
       "1072    256.0    132.0    203.0         17.050000    2.900191  \n",
       "2156    206.0    131.0    104.0         10.750000    3.863627  \n",
       "\n",
       "[582 rows x 12 columns]"
      ]
     },
     "execution_count": 34,
     "metadata": {},
     "output_type": "execute_result"
    }
   ],
   "source": [
    "features_test"
   ]
  },
  {
   "cell_type": "code",
   "execution_count": 35,
   "metadata": {},
   "outputs": [
    {
     "name": "stdout",
     "output_type": "stream",
     "text": [
      "MAE on test of CatBoostRegressor = 5.706091124647126\n"
     ]
    }
   ],
   "source": [
    "model = CatBoostRegressor(verbose=False)\n",
    "model.set_params(**best_params_CBR)\n",
    "model.fit(features_train, target_train)\n",
    "target_predict = model.predict(features_test)\n",
    "test_MAE_CBR = mean_absolute_error(target_predict, target_test)\n",
    "print('MAE on test of CatBoostRegressor =', test_MAE_CBR)"
   ]
  },
  {
   "cell_type": "markdown",
   "metadata": {},
   "source": [
    "Отлично! МАЕ на тесте - 5.710792592953412"
   ]
  },
  {
   "cell_type": "code",
   "execution_count": 36,
   "metadata": {},
   "outputs": [
    {
     "data": {
      "text/html": [
       "<div>\n",
       "<style scoped>\n",
       "    .dataframe tbody tr th:only-of-type {\n",
       "        vertical-align: middle;\n",
       "    }\n",
       "\n",
       "    .dataframe tbody tr th {\n",
       "        vertical-align: top;\n",
       "    }\n",
       "\n",
       "    .dataframe thead th {\n",
       "        text-align: right;\n",
       "    }\n",
       "</style>\n",
       "<table border=\"1\" class=\"dataframe\">\n",
       "  <thead>\n",
       "    <tr style=\"text-align: right;\">\n",
       "      <th></th>\n",
       "      <th>0</th>\n",
       "    </tr>\n",
       "  </thead>\n",
       "  <tbody>\n",
       "    <tr>\n",
       "      <th>Bulk 3</th>\n",
       "      <td>3.003932</td>\n",
       "    </tr>\n",
       "    <tr>\n",
       "      <th>Bulk 4</th>\n",
       "      <td>3.396465</td>\n",
       "    </tr>\n",
       "    <tr>\n",
       "      <th>Wire 2</th>\n",
       "      <td>4.491139</td>\n",
       "    </tr>\n",
       "    <tr>\n",
       "      <th>Bulk 15</th>\n",
       "      <td>4.829042</td>\n",
       "    </tr>\n",
       "    <tr>\n",
       "      <th>Bulk 6</th>\n",
       "      <td>5.190837</td>\n",
       "    </tr>\n",
       "    <tr>\n",
       "      <th>Bulk 12</th>\n",
       "      <td>6.654320</td>\n",
       "    </tr>\n",
       "    <tr>\n",
       "      <th>full_power</th>\n",
       "      <td>6.811636</td>\n",
       "    </tr>\n",
       "    <tr>\n",
       "      <th>Bulk 14</th>\n",
       "      <td>6.940793</td>\n",
       "    </tr>\n",
       "    <tr>\n",
       "      <th>Газ 1</th>\n",
       "      <td>6.962969</td>\n",
       "    </tr>\n",
       "    <tr>\n",
       "      <th>Wire 1</th>\n",
       "      <td>10.874352</td>\n",
       "    </tr>\n",
       "    <tr>\n",
       "      <th>duration_heating</th>\n",
       "      <td>19.479268</td>\n",
       "    </tr>\n",
       "    <tr>\n",
       "      <th>temp_first</th>\n",
       "      <td>21.365248</td>\n",
       "    </tr>\n",
       "  </tbody>\n",
       "</table>\n",
       "</div>"
      ],
      "text/plain": [
       "                          0\n",
       "Bulk 3             3.003932\n",
       "Bulk 4             3.396465\n",
       "Wire 2             4.491139\n",
       "Bulk 15            4.829042\n",
       "Bulk 6             5.190837\n",
       "Bulk 12            6.654320\n",
       "full_power         6.811636\n",
       "Bulk 14            6.940793\n",
       "Газ 1              6.962969\n",
       "Wire 1            10.874352\n",
       "duration_heating  19.479268\n",
       "temp_first        21.365248"
      ]
     },
     "execution_count": 36,
     "metadata": {},
     "output_type": "execute_result"
    }
   ],
   "source": [
    "# Посмотрим как каждый параметр влияет на целевой признак\n",
    "feature_importance_df = pd.DataFrame(model.feature_importances_, index=features.columns)\n",
    "feature_importance_df.sort_values(0)"
   ]
  },
  {
   "cell_type": "markdown",
   "metadata": {},
   "source": [
    "<div class=\"alert alert-success\" style=\"border-color: green; border-radius: 5px\">\n",
    "    <p><u><b>✅ КОММЕНТАРИЙ ТИМЛИДА 5</b></u></p>\n",
    "Доброго дня, Андрей, теперь точно можно сказать, что пройден весь алгоритм моделирования от анализа исходной инфо до анализа важности факторов.<br>Увидел твои комментари/коорректировки. ОК.<br>\n",
    " \n",
    "Единственное: Не могу не спросить - почему выбран кэтбуст? ведь таже линейная регрссия показывает на трайне лучшее значение?Т.е. переход от раздела обучения к разделу тестирования не понятен). Проект по любому приму100%, просто хотел спросить этот момент."
   ]
  },
  {
   "cell_type": "markdown",
   "metadata": {},
   "source": [
    "Просто пока исправлял ошибки, чаще смотрел на кэтбуст, другие модели либо выдавали ошибки, либо зависали на 5-8 минут, кэтбуст же работал всегда и показывал лучший результат. Линейная регрессия всегда была хуже, поэтому не заметил, что она в итоге показала немного лучше результат."
   ]
  },
  {
   "cell_type": "markdown",
   "metadata": {},
   "source": [
    "<div class=\"alert alert-success\" style=\"border-color: green; border-radius: 5px\">\n",
    "    <p><u><b>✅ КОММЕНТАРИЙ ТИМЛИДА 6</b></u></p>\n",
    "Доброго дня, Андрей. ОК, понял, спасибо за пояснения.<br>\n",
    " \n",
    "Ещё всегда стараюсь на этом проекте сказать всем вот ещё что: цель заказчика - экономия энергоресурсов.<br>\n",
    "И в этом проекте искали как раз способ точно предсказывать температуру. И круто использовали для этого весь арсенал<br>\n",
    "А если рассудать с позиции такой: а что нужно сделать, чтобы снизить энергопотребление?<br>\n",
    "Судя по модели, самым важным фактором является первая температура. Это значит, что управляя ею, мы сможем управлять энергозатратами. Вывод понятен. Теперь надо разработать мероприятия для этого решения. И тут вопрос возникает скм собой: а это так точно? мы можем управлять первой температурой? В общем, наша модель - только начало работы над энергоэффективностью.<br>\n",
    "    \n",
    "Так же есть ещё одна идея, которую хотел предложить тебе на обсуждение.<br>\n",
    "Возможно, покажется интересным<br><br> \n",
    "\n",
    "Дело касается принципиально иного подхода к поиску решения для снижения энергопотребления на производстве<br>\n",
    "Смотри, Создание данной модели (таково было задание) двигалось по пути \"угадывания\" температуры<br>\n",
    "Но мы же знаем жизнь)) лёгкие колебания температур (как и нашего настроения, нашего веса.....)<br>\n",
    "есть всегда. Более того - будут вегда! И нам что, стараться угадывать их?<br>\n",
    "Не угонимся, \"пупок\" развяжется))))) <br>\n",
    "Предложу для подобных проектов подумать вот в какую сторону<br>\n",
    "    \n",
    "Итак, разброс в измерениях - есть, был и будет!! (т.к. этому благоприятствует разнообразие факторов самого проиозводства)<br>\n",
    "    Тогда задачу можно поставить так: <u>надо уменьшить разброс в измерениях</u>. В данном случае в температуре.<br>\n",
    "Один из подходов такой: Наверняка есть границы, в пределах которых колебания температур - дело нормальное.<br>\n",
    "А что, если фикировать случаи, когда температура выходит за эти границы?<br>\n",
    "Скажем, как \"1\". И тогда для таких моментов времени собирать инфо по производству: <br>\n",
    "а что был за материал (химия материала), что был за газ (химический состав газа), какая бригада работала, <br>\n",
    "что там было с электродами, ограничения только в фантазиях ну и в знаниях самого производства..... <br>\n",
    "И вот тут можем реально находить причины (через корреляции, проверки гипотез, разные модельки...), фиксировать эти причины. <br>\n",
    "Ну и разрабатывать энергосберегательные мероприятия.<br><br>\n",
    " \n",
    "Это было отступление)<br>    \n",
    "Тогда впереди только отчёт. Что для него важно - оставлял в презентации. <br>\n",
    "БУДУ ЖДАТЬ! <br>"
   ]
  },
  {
   "attachments": {
    "image.png": {
     "image/png": "[encoded data removed]"
    }
   },
   "cell_type": "markdown",
   "metadata": {},
   "source": [
    "![image.png](attachment:image.png)"
   ]
  },
  {
   "cell_type": "code",
   "execution_count": null,
   "metadata": {},
   "outputs": [],
   "source": []
  },
  {
   "cell_type": "markdown",
   "metadata": {},
   "source": []
  },
  {
   "cell_type": "code",
   "execution_count": null,
   "metadata": {},
   "outputs": [],
   "source": [
    "plt.figure(figsize=(15, 10))\n",
    "plt.title('Матрица корреляций зависимости фичей')\n",
    "\n",
    "sns.heatmap(df.corr(), annot = True, cmap=\"YlGnBu\")\n",
    "\n",
    "plt.show()"
   ]
  },
  {
   "cell_type": "code",
   "execution_count": null,
   "metadata": {},
   "outputs": [],
   "source": [
    "df['temp_last'].isna().sum()"
   ]
  },
  {
   "cell_type": "code",
   "execution_count": null,
   "metadata": {},
   "outputs": [],
   "source": [
    "df[df['temp_last'] == 0]"
   ]
  },
  {
   "cell_type": "markdown",
   "metadata": {},
   "source": [
    "Не понимаю, я же в самом начале дропнул ковши, где нету целевой"
   ]
  },
  {
   "cell_type": "markdown",
   "metadata": {},
   "source": []
  },
  {
   "cell_type": "markdown",
   "metadata": {},
   "source": [
    "<div class=\"alert alert-danger\" style=\"border-color: darkred; border-radius: 5px\">\n",
    "    <p><u><b>❌ КОММЕНТАРИЙ ТИМЛИДА 4</b></u></p>\n",
    "Там удалены строки с пропусками, не ковши) написал ещё раз выше. Посмотри, пожалуйста. Плюс код выше - не проходит(((.</p>\n",
    "</div>"
   ]
  },
  {
   "cell_type": "markdown",
   "metadata": {},
   "source": [
    "<div class=\"alert alert-success\" style=\"border-color: green; border-radius: 5px\">\n",
    "    <p><u><b>✅ КОММЕНТАРИЙ ТИМЛИДА 3</b></u></p>\n",
    "Доброе утро, Андрей!.<br>\n",
    "Увидел важные изменения. ОК. Но остались ещё важные моментв!!<br>\n",
    "1) у нас ковши наблюдаются, в которых Есть первая температура. А объект моделирования у нас - ковш. И если нет целевой - надо удалять весь ковш. Сейчас они всё ещё в деле))). Наприм ковш номер 3000 - целевой нет. Значить надо удалить. А он всё равно в таблице остался. Посмотри, пожалуйста<br>\n",
    "2) ты применяешь left, но потом удаляешь пучтые строки, ОК. А если сделать иннер, то срузу будет всё ОК. Но это не критично.<br>\n",
    "3) Время, т.е. time_first\ttime_last - точно не нужны в модели. На встрече говорили об этом)<br>\n",
    "4) При моделировании существует проблематика мультиколлинеарности.(когда количественные факторы модели имеют сильную корреляцию друг с другом - больше 0.9).Есть ли она у нас?  Если есть - надо  решать по понятиям:) (удалить лишнее)<br><br>\n",
    "\n",
    "5) Попробуй с помощью команды feature_importances_ выводить график важности факторов. Отличная вещь будет: высока яметрика + график рейтинаг факторов по силе влияния на целевой признак). Важнейшая часть любого модельного финала.\n",
    "Если видно, что часть факторов - слабозначимые для модели. Т.е. не значительно влияют на целевую переменную, то их смело можно убирать из модели. Ну и для бизнеса доносить: так мол и так - на эти факторы надо обращать внимание, а эти не влияют.<br>\n",
    "<br>\n",
    "БУДУ ЖДАТЬ!"
   ]
  },
  {
   "cell_type": "markdown",
   "metadata": {},
   "source": [
    "# 3. Отчёт"
   ]
  },
  {
   "cell_type": "markdown",
   "metadata": {},
   "source": [
    "1. Какие пункты плана были выполнены, а какие — нет (поясните почему)?\n",
    "\n",
    "Подготовка данных, первичный анализ, изменение типа данных, удаление аномалий и заполнение пропусков. Составление единного датасета. Протестированы модели и результат одной из лучших моделей подтвержден на тестовой выборке. \n",
    "\n",
    "2. Какие трудности возникли и как вы их преодолели?\n",
    "\n",
    "Основная трудность - выбросы и малое количество наблюдений. недостаточность параметров: при таком малом количестве наблюдений стоит запрасить у заказчика дополнительные данные, чтобы еще лучше предсказывать метрику.\n",
    "\n",
    "3. Какие ключевые шаги в решении задачи выделили?\n",
    "\n",
    "Ключевые шаги: предобработка данных, сбор всех данных воедино, расчет новых параметров, и выделение итоговой модели.\n",
    "\n",
    "4. Какая ваша итоговая модель и какое у неё качество?\n",
    "\n",
    "Итоговая модель - CatBoost с параметрами:\\\n",
    "{'nan_mode': 'Min',\\\n",
    " 'eval_metric': 'RMSE',\\\n",
    " 'iterations': 1000,\\\n",
    " 'sampling_frequency': 'PerTree',\\\n",
    " 'leaf_estimation_method': 'Newton',\\\n",
    " 'grow_policy': 'SymmetricTree',\\\n",
    " 'penalties_coefficient': 1,\\\n",
    " 'boosting_type': 'Plain',\\\n",
    " 'model_shrink_mode': 'Constant',\\\n",
    " 'feature_border_type': 'GreedyLogSum',\\\n",
    " 'bayesian_matrix_reg': 0.10000000149011612,\\\n",
    " 'force_unit_auto_pair_weights': False,\\\n",
    " 'l2_leaf_reg': 3,\\\n",
    " 'random_strength': 1,\\\n",
    " 'rsm': 1,\\\n",
    " 'boost_from_average': True,\\\n",
    " 'model_size_reg': 0.5,\\\n",
    " 'pool_metainfo_options': {'tags': {}},\\\n",
    " 'subsample': 0.800000011920929,\\\n",
    " 'use_best_model': False,\\\n",
    " 'random_seed': 250923,\\\n",
    " 'depth': 6,\\\n",
    " 'posterior_sampling': False,\\\n",
    " 'border_count': 254,\\\n",
    " 'classes_count': 0,\\\n",
    " 'auto_class_weights': 'None',\\\n",
    " 'sparse_features_conflict_fraction': 0,\\\n",
    " 'leaf_estimation_backtracking': 'AnyImprovement',\\\n",
    " 'best_model_min_trees': 1,\\\n",
    " 'model_shrink_rate': 0,\\\n",
    " 'min_data_in_leaf': 1,\\\n",
    " 'loss_function': 'RMSE',\\\n",
    " 'learning_rate': 0.04470000043511391,\\\n",
    " 'score_function': 'Cosine',\\\n",
    " 'task_type': 'CPU',\\\n",
    " 'leaf_estimation_iterations': 1,\\\n",
    " 'bootstrap_type': 'MVS',\\\n",
    " 'max_leaves': 64}\n",
    "\n",
    "Итоговая метрика модели MAE: 5.706091124647126.\n"
   ]
  },
  {
   "cell_type": "markdown",
   "metadata": {},
   "source": [
    "<div class=\"alert alert-success\" style=\"border-color: green; border-radius: 5px\">\n",
    "    <p><u><b>✅ КОММЕНТАРИЙ ТИМЛИДА 7-</b></u></p>\n",
    "Доброго дня, Андрей!<br>С отчётом - излишне лаконично, но чётко по плану)) Спасибо за открытость суждений!<br>\n",
    "    \n",
    "Поздравляю с получением диплома о новой специальности!!!!<br>    \n",
    "    \n",
    "Добавлю вот что ещё: изучение бизнес-процессов заказчика - очень важный этап, который может вызывать сложности. Но без этого в нашей работа не обойтись. Можно сказать - вскрывать особенности процессов заказчика - часть нашей работы. Ведь замоделировать можно только то, что понимаешь). Также, хотел бы отметить твою графическую работу. Она  подкрепляла аналитику. На защите заказчику - хорошая графика - может прибавить дополнительной лояльности. Поэтому, стоит её улублять и дальше. <br>\n",
    "Если говорить о кодовой части, то тут можно прибавить в написании функций для моделирования, паплайн, классы... Но тут  вообще тяжело дойти до предела совершенства - постоянно всегда новое создаётся:).<br>\n",
    "Также замечу, что тебе удалось быстро вникнуть в суть задачи. А это не проcто - понять новую бизнес-задачу. Здорово, что есть такой важный скил.<br>\n",
    "    \n",
    "Далее скажу, что стараюсь говорить всем на финале.<br>\n",
    "Пройден большой путь. Со своими коcогорами и равнинами, медианами и дисперсиями)<br>\n",
    "Умение аналитически мыслить, писать красивый код, эффективно автоматизировать расчёты, видеть задачи бизнеса через призму моделирования - вот то основное, что  останется у тебя важного после нашей школы. А дальше - только взращивать посеянные зёрна и укреплять свои скилы.<br><br>\n",
    "Если говорить о развитии дополнительных компетенций, рекомендовал бы ещё глянуть такие области знаний:<br>\n",
    "1) Организация проектов по проведению моделирования (например Методология CRISP-DM (Cross-Industry Standard Process)<br>\n",
    "2) Умения системно подходить к решению аналитической задачи. (например методология ТРИЗ, системный анализ)<br>\n",
    "3) Если в промышленности будут проекты, то рекоммендовал бы освоить  \"Статистичекий контроль качества (SPC)\"<br>\n",
    "4) Ещё важный навык: перевод результататов моделирования на язык бизнеса. Т.е. понимание, как целевые показатели моделей влияют на финансовую выгоду заказчика.<br>\n",
    "\n",
    "Каждого из нас (и меня в том числе) можно оценивать с нескольких сторон, как специалиста.<br>\n",
    "1) Умение анализировать, \"вгрызание\" в данные, в задачу.<br>\n",
    "2) Знание мат.части: методы, подходы к решению - всё, что по программе заложено<br>\n",
    "3) Кодовая часть: умение писать эффективный код.<br>\n",
    "4) Работа с графикой. (умение хорошо ыизуализировать)<br>\n",
    "И при рабочей деятельности (устраивание на работу/ улучшение карьеры) на важно понимать свои слабые/сильные стороны по этим направлениям. И опираться на них при ведении переговоров и выстраивании дальнейшего совершенствования.<br><br>    \n",
    "    \n",
    "Спасибо за этот труд.<br>\n",
    "Искренне желаю покорить ещё не один аналитический Эверест)<br>  "
   ]
  },
  {
   "cell_type": "markdown",
   "metadata": {},
   "source": []
  }
 ],
 "metadata": {
  "ExecuteTimeLog": [
   {
    "duration": 432,
    "start_time": "2023-09-18T13:11:47.411Z"
   },
   {
    "duration": 515,
    "start_time": "2023-09-18T13:12:25.409Z"
   },
   {
    "duration": 61,
    "start_time": "2023-09-18T21:21:37.977Z"
   },
   {
    "duration": 9,
    "start_time": "2023-09-18T21:24:05.737Z"
   },
   {
    "duration": 19,
    "start_time": "2023-09-18T21:24:10.705Z"
   },
   {
    "duration": 466,
    "start_time": "2023-09-18T21:24:13.907Z"
   },
   {
    "duration": 601,
    "start_time": "2023-09-18T21:24:14.921Z"
   },
   {
    "duration": 32,
    "start_time": "2023-09-18T21:24:16.719Z"
   },
   {
    "duration": 15,
    "start_time": "2023-09-18T21:24:26.322Z"
   },
   {
    "duration": 83,
    "start_time": "2023-09-18T21:24:50.890Z"
   },
   {
    "duration": 3,
    "start_time": "2023-09-18T21:24:55.580Z"
   },
   {
    "duration": 215,
    "start_time": "2023-09-18T21:24:57.332Z"
   },
   {
    "duration": 32,
    "start_time": "2023-09-18T21:24:58.508Z"
   },
   {
    "duration": 220,
    "start_time": "2023-09-18T21:34:16.392Z"
   },
   {
    "duration": 10,
    "start_time": "2023-09-18T21:34:39.469Z"
   },
   {
    "duration": 20,
    "start_time": "2023-09-18T21:35:19.044Z"
   },
   {
    "duration": 27,
    "start_time": "2023-09-18T21:35:46.280Z"
   },
   {
    "duration": 168,
    "start_time": "2023-09-18T21:37:29.083Z"
   },
   {
    "duration": 266,
    "start_time": "2023-09-18T21:37:38.166Z"
   },
   {
    "duration": 331,
    "start_time": "2023-09-18T21:38:56.022Z"
   },
   {
    "duration": 196,
    "start_time": "2023-09-18T21:39:02.358Z"
   },
   {
    "duration": 17,
    "start_time": "2023-09-18T21:42:18.857Z"
   },
   {
    "duration": 118,
    "start_time": "2023-09-18T21:43:05.690Z"
   },
   {
    "duration": 750,
    "start_time": "2023-09-18T21:43:56.943Z"
   },
   {
    "duration": 119,
    "start_time": "2023-09-18T21:45:51.861Z"
   },
   {
    "duration": 28,
    "start_time": "2023-09-18T21:47:32.739Z"
   },
   {
    "duration": 979,
    "start_time": "2023-09-18T21:47:40.225Z"
   },
   {
    "duration": 32,
    "start_time": "2023-09-18T21:49:57.699Z"
   },
   {
    "duration": 18190,
    "start_time": "2023-09-18T21:50:11.267Z"
   },
   {
    "duration": 414,
    "start_time": "2023-09-18T22:03:14.515Z"
   },
   {
    "duration": 299,
    "start_time": "2023-09-18T22:03:28.290Z"
   },
   {
    "duration": 140,
    "start_time": "2023-09-18T22:03:43.942Z"
   },
   {
    "duration": 185,
    "start_time": "2023-09-18T22:09:36.158Z"
   },
   {
    "duration": 113,
    "start_time": "2023-09-18T22:09:38.527Z"
   },
   {
    "duration": 965,
    "start_time": "2023-09-18T22:09:39.559Z"
   },
   {
    "duration": 963,
    "start_time": "2023-09-18T22:09:55.552Z"
   },
   {
    "duration": 19798,
    "start_time": "2023-09-18T22:09:58.546Z"
   },
   {
    "duration": 176,
    "start_time": "2023-09-18T22:10:45.181Z"
   },
   {
    "duration": 106,
    "start_time": "2023-09-18T22:15:25.274Z"
   },
   {
    "duration": 43,
    "start_time": "2023-09-18T22:15:50.262Z"
   },
   {
    "duration": 44,
    "start_time": "2023-09-18T22:15:50.779Z"
   },
   {
    "duration": 30,
    "start_time": "2023-09-18T22:15:51.326Z"
   },
   {
    "duration": 49,
    "start_time": "2023-09-18T22:15:56.143Z"
   },
   {
    "duration": 522,
    "start_time": "2023-09-18T22:15:56.725Z"
   },
   {
    "duration": 9858,
    "start_time": "2023-09-18T22:16:13.606Z"
   },
   {
    "duration": 11,
    "start_time": "2023-09-18T22:19:12.041Z"
   },
   {
    "duration": 32,
    "start_time": "2023-09-18T22:19:37.072Z"
   },
   {
    "duration": 2061,
    "start_time": "2023-09-18T22:19:40.082Z"
   },
   {
    "duration": 56,
    "start_time": "2023-09-19T11:52:48.174Z"
   },
   {
    "duration": 1211,
    "start_time": "2023-09-19T11:52:53.008Z"
   },
   {
    "duration": 553,
    "start_time": "2023-09-19T11:52:54.683Z"
   },
   {
    "duration": 71,
    "start_time": "2023-09-19T11:52:56.859Z"
   },
   {
    "duration": 29,
    "start_time": "2023-09-19T11:53:05.695Z"
   },
   {
    "duration": 12,
    "start_time": "2023-09-19T12:06:29.373Z"
   },
   {
    "duration": 10,
    "start_time": "2023-09-19T12:07:42.483Z"
   },
   {
    "duration": 9,
    "start_time": "2023-09-19T12:08:04.154Z"
   },
   {
    "duration": 15,
    "start_time": "2023-09-19T12:08:32.637Z"
   },
   {
    "duration": 11,
    "start_time": "2023-09-19T12:09:26.558Z"
   },
   {
    "duration": 11,
    "start_time": "2023-09-19T12:09:56.539Z"
   },
   {
    "duration": 10,
    "start_time": "2023-09-19T12:10:26.160Z"
   },
   {
    "duration": 17,
    "start_time": "2023-09-19T12:10:39.430Z"
   },
   {
    "duration": 1802,
    "start_time": "2023-09-19T12:10:58.668Z"
   },
   {
    "duration": 38,
    "start_time": "2023-09-19T12:18:52.216Z"
   },
   {
    "duration": 71,
    "start_time": "2023-09-19T12:19:30.252Z"
   },
   {
    "duration": 70,
    "start_time": "2023-09-19T12:21:57.937Z"
   },
   {
    "duration": 63,
    "start_time": "2023-09-19T12:22:11.522Z"
   },
   {
    "duration": 55,
    "start_time": "2023-09-19T12:22:22.475Z"
   },
   {
    "duration": 74,
    "start_time": "2023-09-19T12:25:02.763Z"
   },
   {
    "duration": 3,
    "start_time": "2023-09-19T12:26:49.365Z"
   },
   {
    "duration": 181,
    "start_time": "2023-09-19T12:26:49.895Z"
   },
   {
    "duration": 167,
    "start_time": "2023-09-19T12:26:51.477Z"
   },
   {
    "duration": 13,
    "start_time": "2023-09-19T12:29:24.654Z"
   },
   {
    "duration": 45,
    "start_time": "2023-09-19T12:29:47.402Z"
   },
   {
    "duration": 1593,
    "start_time": "2023-09-19T12:30:43.612Z"
   },
   {
    "duration": 201,
    "start_time": "2023-09-19T12:31:09.279Z"
   },
   {
    "duration": 31,
    "start_time": "2023-09-19T12:31:16.395Z"
   },
   {
    "duration": 1465,
    "start_time": "2023-09-19T12:31:18.940Z"
   },
   {
    "duration": 107,
    "start_time": "2023-09-19T12:31:47.294Z"
   },
   {
    "duration": 14,
    "start_time": "2023-09-19T12:31:50.276Z"
   },
   {
    "duration": 142,
    "start_time": "2023-09-19T12:31:59.599Z"
   },
   {
    "duration": 128,
    "start_time": "2023-09-19T12:32:40.370Z"
   },
   {
    "duration": 127,
    "start_time": "2023-09-19T12:32:47.533Z"
   },
   {
    "duration": 155,
    "start_time": "2023-09-19T12:32:54.155Z"
   },
   {
    "duration": 146,
    "start_time": "2023-09-19T12:32:59.763Z"
   },
   {
    "duration": 44,
    "start_time": "2023-09-19T12:33:03.940Z"
   },
   {
    "duration": 1683,
    "start_time": "2023-09-19T12:33:04.817Z"
   },
   {
    "duration": 130,
    "start_time": "2023-09-19T12:33:20.869Z"
   },
   {
    "duration": 129,
    "start_time": "2023-09-19T12:33:28.728Z"
   },
   {
    "duration": 165,
    "start_time": "2023-09-19T12:33:34.531Z"
   },
   {
    "duration": 135,
    "start_time": "2023-09-19T12:33:39.522Z"
   },
   {
    "duration": 38,
    "start_time": "2023-09-19T12:33:42.558Z"
   },
   {
    "duration": 1762,
    "start_time": "2023-09-19T12:33:43.339Z"
   },
   {
    "duration": 129,
    "start_time": "2023-09-19T12:33:55.718Z"
   },
   {
    "duration": 130,
    "start_time": "2023-09-19T12:34:01.411Z"
   },
   {
    "duration": 128,
    "start_time": "2023-09-19T12:34:08.816Z"
   },
   {
    "duration": 138,
    "start_time": "2023-09-19T12:34:13.986Z"
   },
   {
    "duration": 36,
    "start_time": "2023-09-19T12:34:16.927Z"
   },
   {
    "duration": 1562,
    "start_time": "2023-09-19T12:34:18.745Z"
   },
   {
    "duration": 139,
    "start_time": "2023-09-19T12:34:28.213Z"
   },
   {
    "duration": 138,
    "start_time": "2023-09-19T12:34:39.239Z"
   },
   {
    "duration": 149,
    "start_time": "2023-09-19T12:34:45.222Z"
   },
   {
    "duration": 138,
    "start_time": "2023-09-19T12:34:49.929Z"
   },
   {
    "duration": 35,
    "start_time": "2023-09-19T12:34:54.890Z"
   },
   {
    "duration": 88,
    "start_time": "2023-09-19T12:35:08.008Z"
   },
   {
    "duration": 63,
    "start_time": "2023-09-19T12:35:14.673Z"
   },
   {
    "duration": 73,
    "start_time": "2023-09-19T12:35:18.141Z"
   },
   {
    "duration": 147,
    "start_time": "2023-09-19T12:35:28.684Z"
   },
   {
    "duration": 39,
    "start_time": "2023-09-19T12:35:32.971Z"
   },
   {
    "duration": 1427,
    "start_time": "2023-09-19T12:35:36.079Z"
   },
   {
    "duration": 136,
    "start_time": "2023-09-19T12:35:44.988Z"
   },
   {
    "duration": 128,
    "start_time": "2023-09-19T12:35:51.398Z"
   },
   {
    "duration": 131,
    "start_time": "2023-09-19T12:35:56.849Z"
   },
   {
    "duration": 133,
    "start_time": "2023-09-19T12:36:01.771Z"
   },
   {
    "duration": 133,
    "start_time": "2023-09-19T12:36:06.289Z"
   },
   {
    "duration": 33,
    "start_time": "2023-09-19T12:36:10.053Z"
   },
   {
    "duration": 1361,
    "start_time": "2023-09-19T12:36:12.042Z"
   },
   {
    "duration": 1186,
    "start_time": "2023-09-19T16:52:04.338Z"
   },
   {
    "duration": 545,
    "start_time": "2023-09-19T16:52:06.118Z"
   },
   {
    "duration": 159,
    "start_time": "2023-09-19T16:52:07.817Z"
   },
   {
    "duration": 42,
    "start_time": "2023-09-19T16:52:21.144Z"
   },
   {
    "duration": 1484,
    "start_time": "2023-09-19T16:52:27.664Z"
   },
   {
    "duration": 202,
    "start_time": "2023-09-19T16:55:07.631Z"
   },
   {
    "duration": 141,
    "start_time": "2023-09-19T16:55:14.874Z"
   },
   {
    "duration": 32,
    "start_time": "2023-09-19T16:55:37.158Z"
   },
   {
    "duration": 1684,
    "start_time": "2023-09-19T16:55:37.967Z"
   },
   {
    "duration": 109,
    "start_time": "2023-09-19T16:59:02.708Z"
   },
   {
    "duration": 3,
    "start_time": "2023-09-19T16:59:20.538Z"
   },
   {
    "duration": 48,
    "start_time": "2023-09-19T16:59:28.393Z"
   },
   {
    "duration": 1512,
    "start_time": "2023-09-19T16:59:30.333Z"
   },
   {
    "duration": 30,
    "start_time": "2023-09-19T16:59:49.542Z"
   },
   {
    "duration": 1785,
    "start_time": "2023-09-19T16:59:50.158Z"
   },
   {
    "duration": 103,
    "start_time": "2023-09-19T17:01:18.178Z"
   },
   {
    "duration": 103,
    "start_time": "2023-09-19T17:01:39.872Z"
   },
   {
    "duration": 35,
    "start_time": "2023-09-19T17:02:37.463Z"
   },
   {
    "duration": 82,
    "start_time": "2023-09-19T17:03:06.759Z"
   },
   {
    "duration": 195,
    "start_time": "2023-09-19T17:04:42.411Z"
   },
   {
    "duration": 67,
    "start_time": "2023-09-19T17:04:48.221Z"
   },
   {
    "duration": 100,
    "start_time": "2023-09-19T17:07:45.465Z"
   },
   {
    "duration": 105,
    "start_time": "2023-09-19T17:07:55.724Z"
   },
   {
    "duration": 99,
    "start_time": "2023-09-19T17:08:01.825Z"
   },
   {
    "duration": 139,
    "start_time": "2023-09-19T17:08:10.462Z"
   },
   {
    "duration": 41,
    "start_time": "2023-09-19T17:08:14.193Z"
   },
   {
    "duration": 2079,
    "start_time": "2023-09-19T17:08:15.670Z"
   },
   {
    "duration": 35,
    "start_time": "2023-09-19T17:12:40.830Z"
   },
   {
    "duration": 25,
    "start_time": "2023-09-19T17:12:56.760Z"
   },
   {
    "duration": 35,
    "start_time": "2023-09-19T17:13:03.294Z"
   },
   {
    "duration": 34,
    "start_time": "2023-09-19T17:13:28.427Z"
   },
   {
    "duration": 36,
    "start_time": "2023-09-19T17:13:38.788Z"
   },
   {
    "duration": 32,
    "start_time": "2023-09-19T17:13:49.173Z"
   },
   {
    "duration": 16,
    "start_time": "2023-09-19T17:15:22.466Z"
   },
   {
    "duration": 9,
    "start_time": "2023-09-19T17:15:37.613Z"
   },
   {
    "duration": 35,
    "start_time": "2023-09-19T17:15:47.579Z"
   },
   {
    "duration": 34,
    "start_time": "2023-09-19T17:15:59.171Z"
   },
   {
    "duration": 34,
    "start_time": "2023-09-19T17:16:06.870Z"
   },
   {
    "duration": 35,
    "start_time": "2023-09-19T17:16:18.041Z"
   },
   {
    "duration": 3,
    "start_time": "2023-09-19T17:17:11.767Z"
   },
   {
    "duration": 189,
    "start_time": "2023-09-19T17:17:12.357Z"
   },
   {
    "duration": 92,
    "start_time": "2023-09-19T17:17:13.320Z"
   },
   {
    "duration": 31,
    "start_time": "2023-09-19T17:17:20.765Z"
   },
   {
    "duration": 34,
    "start_time": "2023-09-19T17:18:00.199Z"
   },
   {
    "duration": 35,
    "start_time": "2023-09-19T17:18:56.905Z"
   },
   {
    "duration": 9,
    "start_time": "2023-09-19T17:19:14.568Z"
   },
   {
    "duration": 37,
    "start_time": "2023-09-19T17:19:21.291Z"
   },
   {
    "duration": 44,
    "start_time": "2023-09-19T17:19:33.958Z"
   },
   {
    "duration": 73,
    "start_time": "2023-09-19T17:19:43.800Z"
   },
   {
    "duration": 71,
    "start_time": "2023-09-19T17:19:49.858Z"
   },
   {
    "duration": 84,
    "start_time": "2023-09-19T17:20:01.563Z"
   },
   {
    "duration": 116,
    "start_time": "2023-09-19T17:20:11.766Z"
   },
   {
    "duration": 101,
    "start_time": "2023-09-19T17:20:19.388Z"
   },
   {
    "duration": 157,
    "start_time": "2023-09-19T17:20:24.285Z"
   },
   {
    "duration": 50,
    "start_time": "2023-09-19T17:20:27.792Z"
   },
   {
    "duration": 1620,
    "start_time": "2023-09-19T17:20:28.830Z"
   },
   {
    "duration": 88,
    "start_time": "2023-09-19T17:21:16.829Z"
   },
   {
    "duration": 48,
    "start_time": "2023-09-19T17:21:21.291Z"
   },
   {
    "duration": 38,
    "start_time": "2023-09-19T17:23:36.023Z"
   },
   {
    "duration": 38,
    "start_time": "2023-09-19T17:23:45.412Z"
   },
   {
    "duration": 27,
    "start_time": "2023-09-19T17:24:31.143Z"
   },
   {
    "duration": 61,
    "start_time": "2023-09-19T17:24:44.695Z"
   },
   {
    "duration": 17,
    "start_time": "2023-09-19T17:24:54.330Z"
   },
   {
    "duration": 12,
    "start_time": "2023-09-19T17:25:19.219Z"
   },
   {
    "duration": 1127,
    "start_time": "2023-09-19T17:25:22.219Z"
   },
   {
    "duration": 59,
    "start_time": "2023-09-19T17:26:00.726Z"
   },
   {
    "duration": 9,
    "start_time": "2023-09-19T17:26:06.458Z"
   },
   {
    "duration": 693,
    "start_time": "2023-09-19T17:26:07.352Z"
   },
   {
    "duration": 61,
    "start_time": "2023-09-19T17:26:31.361Z"
   },
   {
    "duration": 58,
    "start_time": "2023-09-19T17:26:36.949Z"
   },
   {
    "duration": 16,
    "start_time": "2023-09-19T17:26:47.639Z"
   },
   {
    "duration": 1528,
    "start_time": "2023-09-19T17:26:53.053Z"
   },
   {
    "duration": 79,
    "start_time": "2023-09-19T17:27:55.692Z"
   },
   {
    "duration": 15,
    "start_time": "2023-09-19T17:28:00.889Z"
   },
   {
    "duration": 1183,
    "start_time": "2023-09-19T17:28:01.966Z"
   },
   {
    "duration": 52,
    "start_time": "2023-09-19T17:54:57.883Z"
   },
   {
    "duration": 44,
    "start_time": "2023-09-19T20:03:53.950Z"
   },
   {
    "duration": 1131,
    "start_time": "2023-09-19T20:03:58.241Z"
   },
   {
    "duration": 873,
    "start_time": "2023-09-19T20:03:59.374Z"
   },
   {
    "duration": 68,
    "start_time": "2023-09-19T20:04:01.306Z"
   },
   {
    "duration": 29,
    "start_time": "2023-09-19T20:04:04.285Z"
   },
   {
    "duration": 49,
    "start_time": "2023-09-19T20:04:38.858Z"
   },
   {
    "duration": 45,
    "start_time": "2023-09-19T20:04:51.444Z"
   },
   {
    "duration": 50,
    "start_time": "2023-09-19T20:05:00.288Z"
   },
   {
    "duration": 44,
    "start_time": "2023-09-19T20:05:17.182Z"
   },
   {
    "duration": 40,
    "start_time": "2023-09-19T20:05:27.779Z"
   },
   {
    "duration": 48,
    "start_time": "2023-09-19T20:05:36.010Z"
   },
   {
    "duration": 24,
    "start_time": "2023-09-19T20:06:55.423Z"
   },
   {
    "duration": 20,
    "start_time": "2023-09-19T20:07:09.565Z"
   },
   {
    "duration": 38,
    "start_time": "2023-09-19T20:07:16.566Z"
   },
   {
    "duration": 47,
    "start_time": "2023-09-19T20:07:40.055Z"
   },
   {
    "duration": 126,
    "start_time": "2023-09-19T20:07:50.855Z"
   },
   {
    "duration": 127,
    "start_time": "2023-09-19T20:08:49.604Z"
   },
   {
    "duration": 135,
    "start_time": "2023-09-19T20:08:59.527Z"
   },
   {
    "duration": 47,
    "start_time": "2023-09-19T20:09:04.866Z"
   },
   {
    "duration": 594,
    "start_time": "2023-09-19T20:09:05.574Z"
   },
   {
    "duration": 174,
    "start_time": "2023-09-19T20:09:34.253Z"
   },
   {
    "duration": 39,
    "start_time": "2023-09-19T20:09:37.855Z"
   },
   {
    "duration": 86,
    "start_time": "2023-09-19T20:09:58.504Z"
   },
   {
    "duration": 61,
    "start_time": "2023-09-19T20:11:06.554Z"
   },
   {
    "duration": 18,
    "start_time": "2023-09-19T20:11:37.845Z"
   },
   {
    "duration": 22,
    "start_time": "2023-09-19T20:11:51.039Z"
   },
   {
    "duration": 85,
    "start_time": "2023-09-19T20:12:13.109Z"
   },
   {
    "duration": 94,
    "start_time": "2023-09-19T20:19:47.472Z"
   },
   {
    "duration": 54,
    "start_time": "2023-09-19T20:23:06.575Z"
   },
   {
    "duration": 43,
    "start_time": "2023-09-19T20:24:02.192Z"
   },
   {
    "duration": 41,
    "start_time": "2023-09-19T20:24:54.664Z"
   },
   {
    "duration": 163,
    "start_time": "2023-09-19T20:26:28.865Z"
   },
   {
    "duration": 42,
    "start_time": "2023-09-19T20:26:29.836Z"
   },
   {
    "duration": 112,
    "start_time": "2023-09-19T20:27:34.272Z"
   },
   {
    "duration": 5,
    "start_time": "2023-09-19T20:31:03.371Z"
   },
   {
    "duration": 77,
    "start_time": "2023-09-19T20:31:07.063Z"
   },
   {
    "duration": 2017,
    "start_time": "2023-09-19T20:32:54.143Z"
   },
   {
    "duration": 8,
    "start_time": "2023-09-19T20:33:22.794Z"
   },
   {
    "duration": 3,
    "start_time": "2023-09-19T20:37:48.966Z"
   },
   {
    "duration": 7,
    "start_time": "2023-09-19T20:38:01.518Z"
   },
   {
    "duration": 3,
    "start_time": "2023-09-19T20:39:51.283Z"
   },
   {
    "duration": 53,
    "start_time": "2023-09-21T15:54:33.564Z"
   },
   {
    "duration": 1199,
    "start_time": "2023-09-21T15:54:37.511Z"
   },
   {
    "duration": 539,
    "start_time": "2023-09-21T15:54:39.399Z"
   },
   {
    "duration": 53,
    "start_time": "2023-09-21T15:54:41.708Z"
   },
   {
    "duration": 5,
    "start_time": "2023-09-21T15:54:51.332Z"
   },
   {
    "duration": 11,
    "start_time": "2023-09-21T15:54:53.064Z"
   },
   {
    "duration": 4,
    "start_time": "2023-09-21T15:54:54.470Z"
   },
   {
    "duration": 69,
    "start_time": "2023-09-21T15:54:56.020Z"
   },
   {
    "duration": 10,
    "start_time": "2023-09-21T15:55:20.889Z"
   },
   {
    "duration": 4,
    "start_time": "2023-09-21T15:56:49.604Z"
   },
   {
    "duration": 57,
    "start_time": "2023-09-21T15:59:50.939Z"
   },
   {
    "duration": 13,
    "start_time": "2023-09-21T16:01:14.067Z"
   },
   {
    "duration": 20,
    "start_time": "2023-09-21T16:01:34.129Z"
   },
   {
    "duration": 27,
    "start_time": "2023-09-21T16:01:38.468Z"
   },
   {
    "duration": 66,
    "start_time": "2023-09-21T16:03:30.716Z"
   },
   {
    "duration": 5,
    "start_time": "2023-09-21T16:05:11.087Z"
   },
   {
    "duration": 14,
    "start_time": "2023-09-21T16:05:35.424Z"
   },
   {
    "duration": 14,
    "start_time": "2023-09-21T16:09:52.425Z"
   },
   {
    "duration": 26,
    "start_time": "2023-09-21T16:10:03.867Z"
   },
   {
    "duration": 17,
    "start_time": "2023-09-21T16:10:32.049Z"
   },
   {
    "duration": 4,
    "start_time": "2023-09-21T16:10:37.842Z"
   },
   {
    "duration": 12,
    "start_time": "2023-09-21T16:10:39.769Z"
   },
   {
    "duration": 931,
    "start_time": "2023-09-21T16:10:40.721Z"
   },
   {
    "duration": 470,
    "start_time": "2023-09-21T16:11:58.876Z"
   },
   {
    "duration": 1268,
    "start_time": "2023-09-21T16:12:06.579Z"
   },
   {
    "duration": 1630,
    "start_time": "2023-09-21T16:12:14.622Z"
   },
   {
    "duration": 4,
    "start_time": "2023-09-21T16:15:33.571Z"
   },
   {
    "duration": 14,
    "start_time": "2023-09-21T16:16:16.040Z"
   },
   {
    "duration": 1071,
    "start_time": "2023-09-21T16:16:17.375Z"
   },
   {
    "duration": 1257,
    "start_time": "2023-09-21T16:16:36.296Z"
   },
   {
    "duration": 1252,
    "start_time": "2023-09-21T16:16:59.317Z"
   },
   {
    "duration": 197,
    "start_time": "2023-09-21T16:17:00.571Z"
   },
   {
    "duration": 61,
    "start_time": "2023-09-21T16:17:00.769Z"
   },
   {
    "duration": 5,
    "start_time": "2023-09-21T16:17:00.846Z"
   },
   {
    "duration": 50,
    "start_time": "2023-09-21T16:17:00.853Z"
   },
   {
    "duration": 43,
    "start_time": "2023-09-21T16:17:00.905Z"
   },
   {
    "duration": 73,
    "start_time": "2023-09-21T16:17:00.951Z"
   },
   {
    "duration": 127,
    "start_time": "2023-09-21T16:17:01.026Z"
   },
   {
    "duration": 126,
    "start_time": "2023-09-21T16:17:01.155Z"
   },
   {
    "duration": 41,
    "start_time": "2023-09-21T16:17:01.284Z"
   },
   {
    "duration": 31,
    "start_time": "2023-09-21T16:17:01.327Z"
   },
   {
    "duration": 53,
    "start_time": "2023-09-21T16:17:01.360Z"
   },
   {
    "duration": 41,
    "start_time": "2023-09-21T16:17:01.415Z"
   },
   {
    "duration": 2189,
    "start_time": "2023-09-21T16:17:01.458Z"
   },
   {
    "duration": 14,
    "start_time": "2023-09-21T16:17:23.075Z"
   },
   {
    "duration": 1391,
    "start_time": "2023-09-21T16:17:23.856Z"
   },
   {
    "duration": 1264,
    "start_time": "2023-09-21T16:17:48.414Z"
   },
   {
    "duration": 197,
    "start_time": "2023-09-21T16:17:49.680Z"
   },
   {
    "duration": 69,
    "start_time": "2023-09-21T16:17:49.879Z"
   },
   {
    "duration": 5,
    "start_time": "2023-09-21T16:17:49.950Z"
   },
   {
    "duration": 26,
    "start_time": "2023-09-21T16:17:49.957Z"
   },
   {
    "duration": 6,
    "start_time": "2023-09-21T16:17:49.985Z"
   },
   {
    "duration": 17,
    "start_time": "2023-09-21T16:17:49.992Z"
   },
   {
    "duration": 26,
    "start_time": "2023-09-21T16:17:50.011Z"
   },
   {
    "duration": 76,
    "start_time": "2023-09-21T16:17:50.039Z"
   },
   {
    "duration": 24,
    "start_time": "2023-09-21T16:17:50.117Z"
   },
   {
    "duration": 4,
    "start_time": "2023-09-21T16:17:50.143Z"
   },
   {
    "duration": 29,
    "start_time": "2023-09-21T16:17:50.149Z"
   },
   {
    "duration": 1773,
    "start_time": "2023-09-21T16:17:50.179Z"
   },
   {
    "duration": 57,
    "start_time": "2023-09-21T16:18:53.062Z"
   },
   {
    "duration": 128,
    "start_time": "2023-09-21T16:20:46.065Z"
   },
   {
    "duration": 12,
    "start_time": "2023-09-21T16:21:13.950Z"
   },
   {
    "duration": 16,
    "start_time": "2023-09-21T16:21:20.802Z"
   },
   {
    "duration": 2025,
    "start_time": "2023-09-21T16:30:02.234Z"
   },
   {
    "duration": 193,
    "start_time": "2023-09-21T16:30:04.262Z"
   },
   {
    "duration": 91,
    "start_time": "2023-09-21T16:30:04.458Z"
   },
   {
    "duration": 5,
    "start_time": "2023-09-21T16:30:04.552Z"
   },
   {
    "duration": 28,
    "start_time": "2023-09-21T16:30:04.558Z"
   },
   {
    "duration": 25,
    "start_time": "2023-09-21T16:30:04.588Z"
   },
   {
    "duration": 13,
    "start_time": "2023-09-21T16:30:04.615Z"
   },
   {
    "duration": 13,
    "start_time": "2023-09-21T16:30:04.630Z"
   },
   {
    "duration": 57,
    "start_time": "2023-09-21T16:30:04.645Z"
   },
   {
    "duration": 25,
    "start_time": "2023-09-21T16:30:04.705Z"
   },
   {
    "duration": 4,
    "start_time": "2023-09-21T16:30:04.747Z"
   },
   {
    "duration": 53,
    "start_time": "2023-09-21T16:30:04.753Z"
   },
   {
    "duration": 2440,
    "start_time": "2023-09-21T16:30:04.808Z"
   },
   {
    "duration": 5,
    "start_time": "2023-09-21T16:30:07.251Z"
   },
   {
    "duration": 202,
    "start_time": "2023-09-21T16:30:07.258Z"
   },
   {
    "duration": 35047,
    "start_time": "2023-09-21T16:30:17.205Z"
   },
   {
    "duration": 162,
    "start_time": "2023-09-21T16:31:34.494Z"
   },
   {
    "duration": 1460,
    "start_time": "2023-09-21T16:42:49.716Z"
   },
   {
    "duration": 198,
    "start_time": "2023-09-21T16:42:51.178Z"
   },
   {
    "duration": 55,
    "start_time": "2023-09-21T16:42:51.378Z"
   },
   {
    "duration": 12,
    "start_time": "2023-09-21T16:42:51.435Z"
   },
   {
    "duration": 25,
    "start_time": "2023-09-21T16:42:51.448Z"
   },
   {
    "duration": 8,
    "start_time": "2023-09-21T16:42:51.475Z"
   },
   {
    "duration": 17,
    "start_time": "2023-09-21T16:42:51.484Z"
   },
   {
    "duration": 14,
    "start_time": "2023-09-21T16:42:51.502Z"
   },
   {
    "duration": 71,
    "start_time": "2023-09-21T16:42:51.518Z"
   },
   {
    "duration": 24,
    "start_time": "2023-09-21T16:42:51.591Z"
   },
   {
    "duration": 9,
    "start_time": "2023-09-21T16:42:51.616Z"
   },
   {
    "duration": 30,
    "start_time": "2023-09-21T16:42:51.627Z"
   },
   {
    "duration": 1893,
    "start_time": "2023-09-21T16:42:51.658Z"
   },
   {
    "duration": 3,
    "start_time": "2023-09-21T16:42:53.646Z"
   },
   {
    "duration": 30478,
    "start_time": "2023-09-21T16:42:53.652Z"
   },
   {
    "duration": 2,
    "start_time": "2023-09-21T16:43:24.132Z"
   },
   {
    "duration": 133,
    "start_time": "2023-09-21T16:43:24.136Z"
   },
   {
    "duration": 0,
    "start_time": "2023-09-21T16:43:24.271Z"
   },
   {
    "duration": 3,
    "start_time": "2023-09-21T16:45:31.517Z"
   },
   {
    "duration": 12,
    "start_time": "2023-09-21T16:46:22.713Z"
   },
   {
    "duration": 216036,
    "start_time": "2023-09-21T16:46:48.670Z"
   },
   {
    "duration": 12,
    "start_time": "2023-09-21T16:56:16.843Z"
   },
   {
    "duration": 110,
    "start_time": "2023-09-21T16:56:55.906Z"
   },
   {
    "duration": 4891072,
    "start_time": "2023-09-21T17:30:50.190Z"
   },
   {
    "duration": 1648,
    "start_time": "2023-09-21T18:56:29.873Z"
   },
   {
    "duration": 257,
    "start_time": "2023-09-21T18:56:31.523Z"
   },
   {
    "duration": 59,
    "start_time": "2023-09-21T18:56:31.782Z"
   },
   {
    "duration": 30,
    "start_time": "2023-09-21T18:56:31.843Z"
   },
   {
    "duration": 64,
    "start_time": "2023-09-21T18:56:31.876Z"
   },
   {
    "duration": 33,
    "start_time": "2023-09-21T18:56:31.942Z"
   },
   {
    "duration": 43,
    "start_time": "2023-09-21T18:56:31.977Z"
   },
   {
    "duration": 47,
    "start_time": "2023-09-21T18:56:32.022Z"
   },
   {
    "duration": 120,
    "start_time": "2023-09-21T18:56:32.071Z"
   },
   {
    "duration": 25,
    "start_time": "2023-09-21T18:56:32.193Z"
   },
   {
    "duration": 96,
    "start_time": "2023-09-21T18:56:32.220Z"
   },
   {
    "duration": 20,
    "start_time": "2023-09-21T18:56:32.318Z"
   },
   {
    "duration": 46,
    "start_time": "2023-09-21T18:56:32.340Z"
   },
   {
    "duration": 2861,
    "start_time": "2023-09-21T18:56:32.389Z"
   },
   {
    "duration": 22,
    "start_time": "2023-09-21T18:56:35.252Z"
   },
   {
    "duration": 32860,
    "start_time": "2023-09-21T18:56:35.346Z"
   },
   {
    "duration": 3,
    "start_time": "2023-09-21T18:57:08.208Z"
   },
   {
    "duration": 290342,
    "start_time": "2023-09-21T18:57:08.212Z"
   },
   {
    "duration": 5,
    "start_time": "2023-09-21T19:01:58.559Z"
   },
   {
    "duration": 230,
    "start_time": "2023-09-21T19:01:58.567Z"
   },
   {
    "duration": 1670,
    "start_time": "2023-09-21T19:05:17.810Z"
   },
   {
    "duration": 224,
    "start_time": "2023-09-21T19:05:19.482Z"
   },
   {
    "duration": 68,
    "start_time": "2023-09-21T19:05:19.707Z"
   },
   {
    "duration": 5,
    "start_time": "2023-09-21T19:05:19.777Z"
   },
   {
    "duration": 30,
    "start_time": "2023-09-21T19:05:19.784Z"
   },
   {
    "duration": 4,
    "start_time": "2023-09-21T19:05:19.816Z"
   },
   {
    "duration": 9,
    "start_time": "2023-09-21T19:05:19.821Z"
   },
   {
    "duration": 7,
    "start_time": "2023-09-21T19:05:19.832Z"
   },
   {
    "duration": 73,
    "start_time": "2023-09-21T19:05:19.847Z"
   },
   {
    "duration": 32,
    "start_time": "2023-09-21T19:05:19.922Z"
   },
   {
    "duration": 7,
    "start_time": "2023-09-21T19:05:19.957Z"
   },
   {
    "duration": 29,
    "start_time": "2023-09-21T19:05:19.967Z"
   },
   {
    "duration": 11,
    "start_time": "2023-09-21T19:05:19.998Z"
   },
   {
    "duration": 79,
    "start_time": "2023-09-21T19:05:20.011Z"
   },
   {
    "duration": 38393,
    "start_time": "2023-09-21T19:05:20.092Z"
   },
   {
    "duration": 4,
    "start_time": "2023-09-21T19:05:58.487Z"
   },
   {
    "duration": 61,
    "start_time": "2023-09-21T19:05:58.493Z"
   },
   {
    "duration": 1966,
    "start_time": "2023-09-21T19:06:08.265Z"
   },
   {
    "duration": 1572,
    "start_time": "2023-09-21T19:06:21.976Z"
   },
   {
    "duration": 224,
    "start_time": "2023-09-21T19:06:23.553Z"
   },
   {
    "duration": 60,
    "start_time": "2023-09-21T19:06:23.779Z"
   },
   {
    "duration": 7,
    "start_time": "2023-09-21T19:06:23.848Z"
   },
   {
    "duration": 20,
    "start_time": "2023-09-21T19:06:23.864Z"
   },
   {
    "duration": 4,
    "start_time": "2023-09-21T19:06:23.886Z"
   },
   {
    "duration": 18,
    "start_time": "2023-09-21T19:06:23.891Z"
   },
   {
    "duration": 4,
    "start_time": "2023-09-21T19:06:23.911Z"
   },
   {
    "duration": 73,
    "start_time": "2023-09-21T19:06:23.917Z"
   },
   {
    "duration": 26,
    "start_time": "2023-09-21T19:06:23.993Z"
   },
   {
    "duration": 4,
    "start_time": "2023-09-21T19:06:24.021Z"
   },
   {
    "duration": 16,
    "start_time": "2023-09-21T19:06:24.053Z"
   },
   {
    "duration": 16,
    "start_time": "2023-09-21T19:06:24.071Z"
   },
   {
    "duration": 2789,
    "start_time": "2023-09-21T19:06:24.089Z"
   },
   {
    "duration": 30940,
    "start_time": "2023-09-21T19:06:26.881Z"
   },
   {
    "duration": 3,
    "start_time": "2023-09-21T19:06:57.823Z"
   },
   {
    "duration": 17555,
    "start_time": "2023-09-21T19:07:10.389Z"
   },
   {
    "duration": 32014,
    "start_time": "2023-09-21T19:07:33.075Z"
   },
   {
    "duration": 1672,
    "start_time": "2023-09-21T19:08:34.042Z"
   },
   {
    "duration": 223,
    "start_time": "2023-09-21T19:08:35.716Z"
   },
   {
    "duration": 79,
    "start_time": "2023-09-21T19:08:35.941Z"
   },
   {
    "duration": 26,
    "start_time": "2023-09-21T19:08:36.022Z"
   },
   {
    "duration": 54,
    "start_time": "2023-09-21T19:08:36.059Z"
   },
   {
    "duration": 5,
    "start_time": "2023-09-21T19:08:36.115Z"
   },
   {
    "duration": 44,
    "start_time": "2023-09-21T19:08:36.122Z"
   },
   {
    "duration": 15,
    "start_time": "2023-09-21T19:08:36.170Z"
   },
   {
    "duration": 235,
    "start_time": "2023-09-21T19:08:36.187Z"
   },
   {
    "duration": 32,
    "start_time": "2023-09-21T19:08:36.423Z"
   },
   {
    "duration": 126,
    "start_time": "2023-09-21T19:08:36.468Z"
   },
   {
    "duration": 26,
    "start_time": "2023-09-21T19:08:36.595Z"
   },
   {
    "duration": 55,
    "start_time": "2023-09-21T19:08:36.623Z"
   },
   {
    "duration": 2183,
    "start_time": "2023-09-21T19:08:36.681Z"
   },
   {
    "duration": 33890,
    "start_time": "2023-09-21T19:08:38.873Z"
   },
   {
    "duration": 5,
    "start_time": "2023-09-21T19:09:12.772Z"
   },
   {
    "duration": 1658,
    "start_time": "2023-09-21T19:10:54.981Z"
   },
   {
    "duration": 240,
    "start_time": "2023-09-21T19:10:56.641Z"
   },
   {
    "duration": 58,
    "start_time": "2023-09-21T19:10:56.883Z"
   },
   {
    "duration": 17,
    "start_time": "2023-09-21T19:10:56.943Z"
   },
   {
    "duration": 19,
    "start_time": "2023-09-21T19:10:56.962Z"
   },
   {
    "duration": 10,
    "start_time": "2023-09-21T19:10:56.983Z"
   },
   {
    "duration": 30,
    "start_time": "2023-09-21T19:10:56.994Z"
   },
   {
    "duration": 32,
    "start_time": "2023-09-21T19:10:57.026Z"
   },
   {
    "duration": 78,
    "start_time": "2023-09-21T19:10:57.059Z"
   },
   {
    "duration": 35,
    "start_time": "2023-09-21T19:10:57.140Z"
   },
   {
    "duration": 3,
    "start_time": "2023-09-21T19:10:57.176Z"
   },
   {
    "duration": 13,
    "start_time": "2023-09-21T19:10:57.181Z"
   },
   {
    "duration": 32,
    "start_time": "2023-09-21T19:10:57.196Z"
   },
   {
    "duration": 3541,
    "start_time": "2023-09-21T19:10:57.230Z"
   },
   {
    "duration": 32952,
    "start_time": "2023-09-21T19:11:00.774Z"
   },
   {
    "duration": 3,
    "start_time": "2023-09-21T19:11:33.728Z"
   },
   {
    "duration": 14,
    "start_time": "2023-09-21T19:12:31.911Z"
   },
   {
    "duration": 2692,
    "start_time": "2023-09-21T19:12:35.871Z"
   },
   {
    "duration": 32907,
    "start_time": "2023-09-21T19:12:41.938Z"
   },
   {
    "duration": 42354,
    "start_time": "2023-09-21T19:14:15.138Z"
   },
   {
    "duration": 1255,
    "start_time": "2023-09-21T19:14:57.494Z"
   },
   {
    "duration": 13,
    "start_time": "2023-09-21T19:22:04.130Z"
   },
   {
    "duration": 1665,
    "start_time": "2023-09-21T19:23:48.908Z"
   },
   {
    "duration": 227,
    "start_time": "2023-09-21T19:23:50.576Z"
   },
   {
    "duration": 88,
    "start_time": "2023-09-21T19:23:50.805Z"
   },
   {
    "duration": 6,
    "start_time": "2023-09-21T19:23:50.897Z"
   },
   {
    "duration": 30,
    "start_time": "2023-09-21T19:23:50.905Z"
   },
   {
    "duration": 20,
    "start_time": "2023-09-21T19:23:50.937Z"
   },
   {
    "duration": 45,
    "start_time": "2023-09-21T19:23:50.959Z"
   },
   {
    "duration": 17,
    "start_time": "2023-09-21T19:23:51.006Z"
   },
   {
    "duration": 77,
    "start_time": "2023-09-21T19:23:51.026Z"
   },
   {
    "duration": 25,
    "start_time": "2023-09-21T19:23:51.106Z"
   },
   {
    "duration": 21,
    "start_time": "2023-09-21T19:23:51.133Z"
   },
   {
    "duration": 6,
    "start_time": "2023-09-21T19:23:51.158Z"
   },
   {
    "duration": 60,
    "start_time": "2023-09-21T19:23:51.165Z"
   },
   {
    "duration": 113,
    "start_time": "2023-09-21T19:23:51.227Z"
   },
   {
    "duration": 34,
    "start_time": "2023-09-21T19:23:51.341Z"
   },
   {
    "duration": 1997,
    "start_time": "2023-09-21T19:23:51.378Z"
   },
   {
    "duration": 42612,
    "start_time": "2023-09-21T19:23:53.384Z"
   },
   {
    "duration": 3,
    "start_time": "2023-09-21T19:24:35.998Z"
   },
   {
    "duration": 1676,
    "start_time": "2023-09-21T19:25:14.438Z"
   },
   {
    "duration": 194,
    "start_time": "2023-09-21T19:25:16.116Z"
   },
   {
    "duration": 78,
    "start_time": "2023-09-21T19:25:16.313Z"
   },
   {
    "duration": 5,
    "start_time": "2023-09-21T19:25:16.394Z"
   },
   {
    "duration": 26,
    "start_time": "2023-09-21T19:25:16.401Z"
   },
   {
    "duration": 20,
    "start_time": "2023-09-21T19:25:16.429Z"
   },
   {
    "duration": 15,
    "start_time": "2023-09-21T19:25:16.451Z"
   },
   {
    "duration": 13,
    "start_time": "2023-09-21T19:25:16.472Z"
   },
   {
    "duration": 81,
    "start_time": "2023-09-21T19:25:16.486Z"
   },
   {
    "duration": 13,
    "start_time": "2023-09-21T19:25:16.569Z"
   },
   {
    "duration": 9,
    "start_time": "2023-09-21T19:25:16.584Z"
   },
   {
    "duration": 20,
    "start_time": "2023-09-21T19:25:16.595Z"
   },
   {
    "duration": 26,
    "start_time": "2023-09-21T19:25:16.617Z"
   },
   {
    "duration": 27,
    "start_time": "2023-09-21T19:25:16.646Z"
   },
   {
    "duration": 19,
    "start_time": "2023-09-21T19:25:16.675Z"
   },
   {
    "duration": 1251,
    "start_time": "2023-09-21T19:25:16.696Z"
   },
   {
    "duration": 1564,
    "start_time": "2023-09-21T19:25:52.473Z"
   },
   {
    "duration": 248,
    "start_time": "2023-09-21T19:25:54.039Z"
   },
   {
    "duration": 70,
    "start_time": "2023-09-21T19:25:54.288Z"
   },
   {
    "duration": 6,
    "start_time": "2023-09-21T19:25:54.361Z"
   },
   {
    "duration": 24,
    "start_time": "2023-09-21T19:25:54.370Z"
   },
   {
    "duration": 4,
    "start_time": "2023-09-21T19:25:54.396Z"
   },
   {
    "duration": 15,
    "start_time": "2023-09-21T19:25:54.401Z"
   },
   {
    "duration": 9,
    "start_time": "2023-09-21T19:25:54.418Z"
   },
   {
    "duration": 87,
    "start_time": "2023-09-21T19:25:54.429Z"
   },
   {
    "duration": 14,
    "start_time": "2023-09-21T19:25:54.517Z"
   },
   {
    "duration": 2,
    "start_time": "2023-09-21T19:25:54.532Z"
   },
   {
    "duration": 22,
    "start_time": "2023-09-21T19:25:54.536Z"
   },
   {
    "duration": 24,
    "start_time": "2023-09-21T19:25:54.561Z"
   },
   {
    "duration": 34,
    "start_time": "2023-09-21T19:25:54.588Z"
   },
   {
    "duration": 16,
    "start_time": "2023-09-21T19:25:54.623Z"
   },
   {
    "duration": 1314,
    "start_time": "2023-09-21T19:25:54.641Z"
   },
   {
    "duration": 40626,
    "start_time": "2023-09-21T19:25:55.957Z"
   },
   {
    "duration": 3,
    "start_time": "2023-09-21T19:26:36.589Z"
   },
   {
    "duration": 131,
    "start_time": "2023-09-21T19:30:47.073Z"
   },
   {
    "duration": 15,
    "start_time": "2023-09-21T19:31:19.090Z"
   },
   {
    "duration": 13,
    "start_time": "2023-09-21T19:32:26.208Z"
   },
   {
    "duration": 10,
    "start_time": "2023-09-21T19:33:49.187Z"
   },
   {
    "duration": 9,
    "start_time": "2023-09-21T19:34:14.682Z"
   },
   {
    "duration": 1591,
    "start_time": "2023-09-21T19:34:28.597Z"
   },
   {
    "duration": 1635,
    "start_time": "2023-09-21T19:35:07.988Z"
   },
   {
    "duration": 242,
    "start_time": "2023-09-21T19:35:09.626Z"
   },
   {
    "duration": 103,
    "start_time": "2023-09-21T19:35:09.872Z"
   },
   {
    "duration": 3,
    "start_time": "2023-09-21T19:35:09.978Z"
   },
   {
    "duration": 72,
    "start_time": "2023-09-21T19:35:09.983Z"
   },
   {
    "duration": 84,
    "start_time": "2023-09-21T19:35:10.057Z"
   },
   {
    "duration": 102,
    "start_time": "2023-09-21T19:35:10.143Z"
   },
   {
    "duration": 30,
    "start_time": "2023-09-21T19:35:10.248Z"
   },
   {
    "duration": 17,
    "start_time": "2023-09-21T19:35:10.280Z"
   },
   {
    "duration": 76,
    "start_time": "2023-09-21T19:35:10.300Z"
   },
   {
    "duration": 80,
    "start_time": "2023-09-21T19:35:10.378Z"
   },
   {
    "duration": 19,
    "start_time": "2023-09-21T19:35:10.460Z"
   },
   {
    "duration": 7,
    "start_time": "2023-09-21T19:35:10.482Z"
   },
   {
    "duration": 14,
    "start_time": "2023-09-21T19:35:10.491Z"
   },
   {
    "duration": 22,
    "start_time": "2023-09-21T19:35:10.507Z"
   },
   {
    "duration": 27,
    "start_time": "2023-09-21T19:35:10.531Z"
   },
   {
    "duration": 254,
    "start_time": "2023-09-21T19:35:10.560Z"
   },
   {
    "duration": 0,
    "start_time": "2023-09-21T19:35:10.817Z"
   },
   {
    "duration": 0,
    "start_time": "2023-09-21T19:35:10.818Z"
   },
   {
    "duration": 0,
    "start_time": "2023-09-21T19:35:10.820Z"
   },
   {
    "duration": 15,
    "start_time": "2023-09-21T19:36:43.971Z"
   },
   {
    "duration": 15,
    "start_time": "2023-09-21T19:37:44.012Z"
   },
   {
    "duration": 78,
    "start_time": "2023-09-21T19:37:53.615Z"
   },
   {
    "duration": 17,
    "start_time": "2023-09-21T19:38:01.482Z"
   },
   {
    "duration": 15,
    "start_time": "2023-09-21T19:38:04.957Z"
   },
   {
    "duration": 5,
    "start_time": "2023-09-21T19:38:05.453Z"
   },
   {
    "duration": 14,
    "start_time": "2023-09-21T19:38:06.418Z"
   },
   {
    "duration": 17,
    "start_time": "2023-09-21T19:38:09.372Z"
   },
   {
    "duration": 191,
    "start_time": "2023-09-21T19:38:10.001Z"
   },
   {
    "duration": 2,
    "start_time": "2023-09-21T19:38:23.529Z"
   },
   {
    "duration": 28,
    "start_time": "2023-09-21T19:38:26.494Z"
   },
   {
    "duration": 19,
    "start_time": "2023-09-21T19:38:41.107Z"
   },
   {
    "duration": 3,
    "start_time": "2023-09-21T19:38:47.599Z"
   },
   {
    "duration": 9,
    "start_time": "2023-09-21T19:38:48.377Z"
   },
   {
    "duration": 13,
    "start_time": "2023-09-21T19:38:49.214Z"
   },
   {
    "duration": 11,
    "start_time": "2023-09-21T19:38:52.016Z"
   },
   {
    "duration": 5,
    "start_time": "2023-09-21T19:38:53.561Z"
   },
   {
    "duration": 46,
    "start_time": "2023-09-21T19:38:55.829Z"
   },
   {
    "duration": 1755,
    "start_time": "2023-09-21T19:39:04.402Z"
   },
   {
    "duration": 257,
    "start_time": "2023-09-21T19:39:06.159Z"
   },
   {
    "duration": 74,
    "start_time": "2023-09-21T19:39:06.418Z"
   },
   {
    "duration": 3,
    "start_time": "2023-09-21T19:39:06.495Z"
   },
   {
    "duration": 27,
    "start_time": "2023-09-21T19:39:06.500Z"
   },
   {
    "duration": 4,
    "start_time": "2023-09-21T19:39:06.529Z"
   },
   {
    "duration": 21,
    "start_time": "2023-09-21T19:39:06.535Z"
   },
   {
    "duration": 16,
    "start_time": "2023-09-21T19:39:06.558Z"
   },
   {
    "duration": 32,
    "start_time": "2023-09-21T19:39:06.578Z"
   },
   {
    "duration": 50,
    "start_time": "2023-09-21T19:39:06.613Z"
   },
   {
    "duration": 29,
    "start_time": "2023-09-21T19:39:06.664Z"
   },
   {
    "duration": 75,
    "start_time": "2023-09-21T19:39:06.695Z"
   },
   {
    "duration": 36,
    "start_time": "2023-09-21T19:39:06.777Z"
   },
   {
    "duration": 3,
    "start_time": "2023-09-21T19:39:06.814Z"
   },
   {
    "duration": 4,
    "start_time": "2023-09-21T19:39:06.819Z"
   },
   {
    "duration": 18,
    "start_time": "2023-09-21T19:39:06.825Z"
   },
   {
    "duration": 23,
    "start_time": "2023-09-21T19:39:06.845Z"
   },
   {
    "duration": 12,
    "start_time": "2023-09-21T19:39:06.871Z"
   },
   {
    "duration": 33,
    "start_time": "2023-09-21T19:39:06.888Z"
   },
   {
    "duration": 45601,
    "start_time": "2023-09-21T19:39:06.923Z"
   },
   {
    "duration": 3,
    "start_time": "2023-09-21T19:39:52.526Z"
   },
   {
    "duration": 153,
    "start_time": "2023-09-21T19:40:20.419Z"
   },
   {
    "duration": 1590,
    "start_time": "2023-09-21T19:40:37.547Z"
   },
   {
    "duration": 218,
    "start_time": "2023-09-21T19:40:39.139Z"
   },
   {
    "duration": 73,
    "start_time": "2023-09-21T19:40:39.359Z"
   },
   {
    "duration": 23,
    "start_time": "2023-09-21T19:40:39.434Z"
   },
   {
    "duration": 23,
    "start_time": "2023-09-21T19:40:39.464Z"
   },
   {
    "duration": 3,
    "start_time": "2023-09-21T19:40:39.489Z"
   },
   {
    "duration": 11,
    "start_time": "2023-09-21T19:40:39.494Z"
   },
   {
    "duration": 4,
    "start_time": "2023-09-21T19:40:39.507Z"
   },
   {
    "duration": 17,
    "start_time": "2023-09-21T19:40:39.513Z"
   },
   {
    "duration": 30,
    "start_time": "2023-09-21T19:40:39.555Z"
   },
   {
    "duration": 138,
    "start_time": "2023-09-21T19:40:39.586Z"
   },
   {
    "duration": 0,
    "start_time": "2023-09-21T19:40:39.726Z"
   },
   {
    "duration": 0,
    "start_time": "2023-09-21T19:40:39.727Z"
   },
   {
    "duration": 0,
    "start_time": "2023-09-21T19:40:39.729Z"
   },
   {
    "duration": 0,
    "start_time": "2023-09-21T19:40:39.730Z"
   },
   {
    "duration": 0,
    "start_time": "2023-09-21T19:40:39.731Z"
   },
   {
    "duration": 0,
    "start_time": "2023-09-21T19:40:39.755Z"
   },
   {
    "duration": 0,
    "start_time": "2023-09-21T19:40:39.756Z"
   },
   {
    "duration": 0,
    "start_time": "2023-09-21T19:40:39.757Z"
   },
   {
    "duration": 0,
    "start_time": "2023-09-21T19:40:39.758Z"
   },
   {
    "duration": 0,
    "start_time": "2023-09-21T19:40:39.759Z"
   },
   {
    "duration": 19,
    "start_time": "2023-09-21T19:41:04.473Z"
   },
   {
    "duration": 66,
    "start_time": "2023-09-21T19:41:13.530Z"
   },
   {
    "duration": 31,
    "start_time": "2023-09-21T19:42:00.073Z"
   },
   {
    "duration": 3,
    "start_time": "2023-09-21T19:42:01.934Z"
   },
   {
    "duration": 3,
    "start_time": "2023-09-21T19:42:02.381Z"
   },
   {
    "duration": 12,
    "start_time": "2023-09-21T19:42:02.710Z"
   },
   {
    "duration": 22,
    "start_time": "2023-09-21T19:42:02.945Z"
   },
   {
    "duration": 3,
    "start_time": "2023-09-21T19:42:03.674Z"
   },
   {
    "duration": 31,
    "start_time": "2023-09-21T19:42:04.367Z"
   },
   {
    "duration": 1593,
    "start_time": "2023-09-21T19:44:54.295Z"
   },
   {
    "duration": 247,
    "start_time": "2023-09-21T19:44:55.890Z"
   },
   {
    "duration": 76,
    "start_time": "2023-09-21T19:44:56.139Z"
   },
   {
    "duration": 2,
    "start_time": "2023-09-21T19:44:56.218Z"
   },
   {
    "duration": 61,
    "start_time": "2023-09-21T19:44:56.222Z"
   },
   {
    "duration": 14,
    "start_time": "2023-09-21T19:44:56.284Z"
   },
   {
    "duration": 39,
    "start_time": "2023-09-21T19:44:56.300Z"
   },
   {
    "duration": 33,
    "start_time": "2023-09-21T19:44:56.341Z"
   },
   {
    "duration": 32,
    "start_time": "2023-09-21T19:44:56.376Z"
   },
   {
    "duration": 75,
    "start_time": "2023-09-21T19:44:56.411Z"
   },
   {
    "duration": 16,
    "start_time": "2023-09-21T19:44:56.489Z"
   },
   {
    "duration": 96,
    "start_time": "2023-09-21T19:44:56.506Z"
   },
   {
    "duration": 25,
    "start_time": "2023-09-21T19:44:56.604Z"
   },
   {
    "duration": 2,
    "start_time": "2023-09-21T19:44:56.631Z"
   },
   {
    "duration": 49,
    "start_time": "2023-09-21T19:44:56.635Z"
   },
   {
    "duration": 25,
    "start_time": "2023-09-21T19:44:56.686Z"
   },
   {
    "duration": 154,
    "start_time": "2023-09-21T19:44:56.713Z"
   },
   {
    "duration": 0,
    "start_time": "2023-09-21T19:44:56.871Z"
   },
   {
    "duration": 0,
    "start_time": "2023-09-21T19:44:56.872Z"
   },
   {
    "duration": 0,
    "start_time": "2023-09-21T19:44:56.873Z"
   },
   {
    "duration": 0,
    "start_time": "2023-09-21T19:44:56.875Z"
   },
   {
    "duration": 21,
    "start_time": "2023-09-21T19:45:22.543Z"
   },
   {
    "duration": 3,
    "start_time": "2023-09-21T19:45:26.136Z"
   },
   {
    "duration": 28,
    "start_time": "2023-09-21T19:45:27.791Z"
   },
   {
    "duration": 42677,
    "start_time": "2023-09-21T19:45:36.527Z"
   },
   {
    "duration": 122,
    "start_time": "2023-09-21T19:47:00.642Z"
   },
   {
    "duration": 26,
    "start_time": "2023-09-21T19:47:08.778Z"
   },
   {
    "duration": 124,
    "start_time": "2023-09-21T19:47:30.675Z"
   },
   {
    "duration": 4,
    "start_time": "2023-09-21T19:47:40.212Z"
   },
   {
    "duration": 17,
    "start_time": "2023-09-21T19:47:49.966Z"
   },
   {
    "duration": 22,
    "start_time": "2023-09-21T19:47:51.439Z"
   },
   {
    "duration": 13,
    "start_time": "2023-09-21T19:47:55.720Z"
   },
   {
    "duration": 130,
    "start_time": "2023-09-21T19:47:56.740Z"
   },
   {
    "duration": 29,
    "start_time": "2023-09-21T19:48:01.601Z"
   },
   {
    "duration": 19,
    "start_time": "2023-09-21T19:48:11.899Z"
   },
   {
    "duration": 3272,
    "start_time": "2023-09-21T19:48:18.237Z"
   },
   {
    "duration": 0,
    "start_time": "2023-09-21T19:48:21.511Z"
   },
   {
    "duration": 0,
    "start_time": "2023-09-21T19:48:21.513Z"
   },
   {
    "duration": 0,
    "start_time": "2023-09-21T19:48:21.514Z"
   },
   {
    "duration": 0,
    "start_time": "2023-09-21T19:48:21.515Z"
   },
   {
    "duration": 40,
    "start_time": "2023-09-21T19:48:22.242Z"
   },
   {
    "duration": 41846,
    "start_time": "2023-09-21T19:48:26.590Z"
   },
   {
    "duration": 58,
    "start_time": "2023-09-21T19:49:32.865Z"
   },
   {
    "duration": 32,
    "start_time": "2023-09-21T19:49:45.176Z"
   },
   {
    "duration": 12,
    "start_time": "2023-09-21T19:49:49.242Z"
   },
   {
    "duration": 14,
    "start_time": "2023-09-21T19:49:50.575Z"
   },
   {
    "duration": 12,
    "start_time": "2023-09-21T19:49:51.390Z"
   },
   {
    "duration": 10,
    "start_time": "2023-09-21T19:49:54.889Z"
   },
   {
    "duration": 120,
    "start_time": "2023-09-21T19:49:56.697Z"
   },
   {
    "duration": 127,
    "start_time": "2023-09-21T19:50:13.612Z"
   },
   {
    "duration": 49,
    "start_time": "2023-09-21T19:50:16.339Z"
   },
   {
    "duration": 44117,
    "start_time": "2023-09-21T19:50:20.974Z"
   },
   {
    "duration": 1868,
    "start_time": "2023-09-21T19:52:10.275Z"
   },
   {
    "duration": 1575,
    "start_time": "2023-09-21T19:52:22.857Z"
   },
   {
    "duration": 218,
    "start_time": "2023-09-21T19:52:24.434Z"
   },
   {
    "duration": 63,
    "start_time": "2023-09-21T19:52:24.654Z"
   },
   {
    "duration": 52,
    "start_time": "2023-09-21T19:52:24.719Z"
   },
   {
    "duration": 6,
    "start_time": "2023-09-21T19:52:24.773Z"
   },
   {
    "duration": 24,
    "start_time": "2023-09-21T19:52:24.781Z"
   },
   {
    "duration": 30,
    "start_time": "2023-09-21T19:52:24.807Z"
   },
   {
    "duration": 45,
    "start_time": "2023-09-21T19:52:24.839Z"
   },
   {
    "duration": 51,
    "start_time": "2023-09-21T19:52:24.885Z"
   },
   {
    "duration": 64,
    "start_time": "2023-09-21T19:52:24.939Z"
   },
   {
    "duration": 28,
    "start_time": "2023-09-21T19:52:25.005Z"
   },
   {
    "duration": 30,
    "start_time": "2023-09-21T19:52:25.034Z"
   },
   {
    "duration": 14,
    "start_time": "2023-09-21T19:52:25.066Z"
   },
   {
    "duration": 15,
    "start_time": "2023-09-21T19:52:25.082Z"
   },
   {
    "duration": 15,
    "start_time": "2023-09-21T19:52:25.099Z"
   },
   {
    "duration": 264,
    "start_time": "2023-09-21T19:52:25.116Z"
   },
   {
    "duration": 0,
    "start_time": "2023-09-21T19:52:25.384Z"
   },
   {
    "duration": 0,
    "start_time": "2023-09-21T19:52:25.385Z"
   },
   {
    "duration": 0,
    "start_time": "2023-09-21T19:52:25.386Z"
   },
   {
    "duration": 6,
    "start_time": "2023-09-21T19:52:45.250Z"
   },
   {
    "duration": 28,
    "start_time": "2023-09-21T19:52:47.191Z"
   },
   {
    "duration": 39519,
    "start_time": "2023-09-21T19:52:52.887Z"
   },
   {
    "duration": 1556,
    "start_time": "2023-09-21T20:00:16.115Z"
   },
   {
    "duration": 206,
    "start_time": "2023-09-21T20:00:17.673Z"
   },
   {
    "duration": 52,
    "start_time": "2023-09-21T20:00:17.881Z"
   },
   {
    "duration": 23,
    "start_time": "2023-09-21T20:00:17.935Z"
   },
   {
    "duration": 4,
    "start_time": "2023-09-21T20:00:17.960Z"
   },
   {
    "duration": 19,
    "start_time": "2023-09-21T20:00:17.965Z"
   },
   {
    "duration": 5,
    "start_time": "2023-09-21T20:00:17.986Z"
   },
   {
    "duration": 32,
    "start_time": "2023-09-21T20:00:17.992Z"
   },
   {
    "duration": 36,
    "start_time": "2023-09-21T20:00:18.026Z"
   },
   {
    "duration": 78,
    "start_time": "2023-09-21T20:00:18.064Z"
   },
   {
    "duration": 31,
    "start_time": "2023-09-21T20:00:18.144Z"
   },
   {
    "duration": 4,
    "start_time": "2023-09-21T20:00:18.176Z"
   },
   {
    "duration": 19,
    "start_time": "2023-09-21T20:00:18.182Z"
   },
   {
    "duration": 33,
    "start_time": "2023-09-21T20:00:18.202Z"
   },
   {
    "duration": 30,
    "start_time": "2023-09-21T20:00:18.237Z"
   },
   {
    "duration": 7,
    "start_time": "2023-09-21T20:00:18.268Z"
   },
   {
    "duration": 32,
    "start_time": "2023-09-21T20:00:18.277Z"
   },
   {
    "duration": 37680,
    "start_time": "2023-09-21T20:00:18.311Z"
   },
   {
    "duration": 3,
    "start_time": "2023-09-21T20:00:55.993Z"
   },
   {
    "duration": 50,
    "start_time": "2023-09-21T22:02:11.466Z"
   },
   {
    "duration": 1418,
    "start_time": "2023-09-21T22:02:19.815Z"
   },
   {
    "duration": 522,
    "start_time": "2023-09-21T22:02:21.955Z"
   },
   {
    "duration": 56,
    "start_time": "2023-09-21T22:02:23.233Z"
   },
   {
    "duration": 12,
    "start_time": "2023-09-21T22:02:24.940Z"
   },
   {
    "duration": 5,
    "start_time": "2023-09-21T22:02:25.671Z"
   },
   {
    "duration": 8,
    "start_time": "2023-09-21T22:02:26.850Z"
   },
   {
    "duration": 4,
    "start_time": "2023-09-21T22:02:27.382Z"
   },
   {
    "duration": 15,
    "start_time": "2023-09-21T22:02:28.117Z"
   },
   {
    "duration": 17,
    "start_time": "2023-09-21T22:02:30.793Z"
   },
   {
    "duration": 57,
    "start_time": "2023-09-21T22:02:32.313Z"
   },
   {
    "duration": 27,
    "start_time": "2023-09-21T22:02:42.490Z"
   },
   {
    "duration": 4,
    "start_time": "2023-09-21T22:02:43.672Z"
   },
   {
    "duration": 12,
    "start_time": "2023-09-21T22:02:45.248Z"
   },
   {
    "duration": 12,
    "start_time": "2023-09-21T22:02:45.872Z"
   },
   {
    "duration": 12,
    "start_time": "2023-09-21T22:03:10.195Z"
   },
   {
    "duration": 2,
    "start_time": "2023-09-21T22:03:13.007Z"
   },
   {
    "duration": 69,
    "start_time": "2023-09-21T22:03:14.385Z"
   },
   {
    "duration": 656,
    "start_time": "2023-09-21T22:03:42.646Z"
   },
   {
    "duration": 91,
    "start_time": "2023-09-21T22:03:50.794Z"
   },
   {
    "duration": 1047,
    "start_time": "2023-09-21T22:04:00.557Z"
   },
   {
    "duration": 34965,
    "start_time": "2023-09-21T22:04:04.659Z"
   },
   {
    "duration": 15,
    "start_time": "2023-09-21T22:04:39.626Z"
   },
   {
    "duration": 1648,
    "start_time": "2023-09-21T22:04:51.752Z"
   },
   {
    "duration": 185,
    "start_time": "2023-09-21T22:04:53.403Z"
   },
   {
    "duration": 53,
    "start_time": "2023-09-21T22:04:53.590Z"
   },
   {
    "duration": 12,
    "start_time": "2023-09-21T22:04:53.645Z"
   },
   {
    "duration": 42,
    "start_time": "2023-09-21T22:04:53.659Z"
   },
   {
    "duration": 43,
    "start_time": "2023-09-21T22:04:53.703Z"
   },
   {
    "duration": 24,
    "start_time": "2023-09-21T22:04:53.747Z"
   },
   {
    "duration": 29,
    "start_time": "2023-09-21T22:04:53.773Z"
   },
   {
    "duration": 26,
    "start_time": "2023-09-21T22:04:53.804Z"
   },
   {
    "duration": 65,
    "start_time": "2023-09-21T22:04:53.832Z"
   },
   {
    "duration": 25,
    "start_time": "2023-09-21T22:04:53.899Z"
   },
   {
    "duration": 16,
    "start_time": "2023-09-21T22:04:53.927Z"
   },
   {
    "duration": 63,
    "start_time": "2023-09-21T22:04:53.945Z"
   },
   {
    "duration": 86,
    "start_time": "2023-09-21T22:04:54.010Z"
   },
   {
    "duration": 64,
    "start_time": "2023-09-21T22:04:54.098Z"
   },
   {
    "duration": 32,
    "start_time": "2023-09-21T22:04:54.163Z"
   },
   {
    "duration": 1109,
    "start_time": "2023-09-21T22:04:54.197Z"
   },
   {
    "duration": 37866,
    "start_time": "2023-09-21T22:04:55.309Z"
   },
   {
    "duration": 3,
    "start_time": "2023-09-21T22:05:33.177Z"
   },
   {
    "duration": 48,
    "start_time": "2023-09-21T22:06:32.936Z"
   },
   {
    "duration": 23,
    "start_time": "2023-09-21T22:06:37.326Z"
   },
   {
    "duration": 4,
    "start_time": "2023-09-21T22:06:42.002Z"
   },
   {
    "duration": 12,
    "start_time": "2023-09-21T22:06:43.585Z"
   },
   {
    "duration": 12,
    "start_time": "2023-09-21T22:06:44.489Z"
   },
   {
    "duration": 9,
    "start_time": "2023-09-21T22:06:47.516Z"
   },
   {
    "duration": 2,
    "start_time": "2023-09-21T22:06:49.893Z"
   },
   {
    "duration": 1048,
    "start_time": "2023-09-21T22:06:52.065Z"
   },
   {
    "duration": 35189,
    "start_time": "2023-09-21T22:06:55.463Z"
   },
   {
    "duration": 1954,
    "start_time": "2023-09-21T22:07:32.452Z"
   },
   {
    "duration": 1131,
    "start_time": "2023-09-21T22:07:40.675Z"
   },
   {
    "duration": 1620,
    "start_time": "2023-09-21T22:08:19.394Z"
   },
   {
    "duration": 191,
    "start_time": "2023-09-21T22:08:21.016Z"
   },
   {
    "duration": 58,
    "start_time": "2023-09-21T22:08:21.208Z"
   },
   {
    "duration": 99,
    "start_time": "2023-09-21T22:08:21.268Z"
   },
   {
    "duration": 24,
    "start_time": "2023-09-21T22:08:21.370Z"
   },
   {
    "duration": 12,
    "start_time": "2023-09-21T22:08:21.396Z"
   },
   {
    "duration": 15,
    "start_time": "2023-09-21T22:08:21.410Z"
   },
   {
    "duration": 65,
    "start_time": "2023-09-21T22:08:21.426Z"
   },
   {
    "duration": 290,
    "start_time": "2023-09-21T22:08:21.492Z"
   },
   {
    "duration": 59,
    "start_time": "2023-09-21T22:08:21.783Z"
   },
   {
    "duration": 23,
    "start_time": "2023-09-21T22:08:21.843Z"
   },
   {
    "duration": 5,
    "start_time": "2023-09-21T22:08:21.868Z"
   },
   {
    "duration": 22,
    "start_time": "2023-09-21T22:08:21.875Z"
   },
   {
    "duration": 16,
    "start_time": "2023-09-21T22:08:21.899Z"
   },
   {
    "duration": 2,
    "start_time": "2023-09-21T22:08:21.917Z"
   },
   {
    "duration": 688,
    "start_time": "2023-09-21T22:08:21.921Z"
   },
   {
    "duration": 37001,
    "start_time": "2023-09-21T22:08:22.611Z"
   },
   {
    "duration": 3,
    "start_time": "2023-09-21T22:08:59.614Z"
   },
   {
    "duration": 14,
    "start_time": "2023-09-21T22:09:14.397Z"
   },
   {
    "duration": 890,
    "start_time": "2023-09-21T22:09:16.611Z"
   },
   {
    "duration": 37540,
    "start_time": "2023-09-21T22:09:22.853Z"
   },
   {
    "duration": 1841,
    "start_time": "2023-09-21T22:10:10.219Z"
   },
   {
    "duration": 185,
    "start_time": "2023-09-21T22:10:12.063Z"
   },
   {
    "duration": 52,
    "start_time": "2023-09-21T22:10:12.250Z"
   },
   {
    "duration": 12,
    "start_time": "2023-09-21T22:10:12.304Z"
   },
   {
    "duration": 4,
    "start_time": "2023-09-21T22:10:12.318Z"
   },
   {
    "duration": 9,
    "start_time": "2023-09-21T22:10:12.323Z"
   },
   {
    "duration": 4,
    "start_time": "2023-09-21T22:10:12.333Z"
   },
   {
    "duration": 15,
    "start_time": "2023-09-21T22:10:12.339Z"
   },
   {
    "duration": 52,
    "start_time": "2023-09-21T22:10:12.355Z"
   },
   {
    "duration": 54,
    "start_time": "2023-09-21T22:10:12.409Z"
   },
   {
    "duration": 24,
    "start_time": "2023-09-21T22:10:12.465Z"
   },
   {
    "duration": 5,
    "start_time": "2023-09-21T22:10:12.501Z"
   },
   {
    "duration": 8,
    "start_time": "2023-09-21T22:10:12.507Z"
   },
   {
    "duration": 17,
    "start_time": "2023-09-21T22:10:12.517Z"
   },
   {
    "duration": 14,
    "start_time": "2023-09-21T22:10:12.536Z"
   },
   {
    "duration": 750,
    "start_time": "2023-09-21T22:10:12.552Z"
   },
   {
    "duration": 38569,
    "start_time": "2023-09-21T22:10:13.304Z"
   },
   {
    "duration": 3,
    "start_time": "2023-09-21T22:10:51.875Z"
   },
   {
    "duration": 91142,
    "start_time": "2023-09-21T22:17:03.056Z"
   },
   {
    "duration": 3936,
    "start_time": "2023-09-22T19:46:11.386Z"
   },
   {
    "duration": 804,
    "start_time": "2023-09-22T19:46:15.324Z"
   },
   {
    "duration": 49,
    "start_time": "2023-09-22T19:46:16.129Z"
   },
   {
    "duration": 11,
    "start_time": "2023-09-22T19:46:16.179Z"
   },
   {
    "duration": 7,
    "start_time": "2023-09-22T19:46:16.191Z"
   },
   {
    "duration": 7,
    "start_time": "2023-09-22T19:46:17.477Z"
   },
   {
    "duration": 7,
    "start_time": "2023-09-22T19:52:30.000Z"
   },
   {
    "duration": 4,
    "start_time": "2023-09-22T19:52:31.045Z"
   },
   {
    "duration": 13,
    "start_time": "2023-09-22T19:54:11.707Z"
   },
   {
    "duration": 15,
    "start_time": "2023-09-22T19:54:12.779Z"
   },
   {
    "duration": 1431,
    "start_time": "2023-09-22T21:30:23.091Z"
   },
   {
    "duration": 547,
    "start_time": "2023-09-22T21:30:25.258Z"
   },
   {
    "duration": 62,
    "start_time": "2023-09-22T21:30:27.837Z"
   },
   {
    "duration": 19,
    "start_time": "2023-09-22T21:30:32.377Z"
   },
   {
    "duration": 4,
    "start_time": "2023-09-22T21:30:33.982Z"
   },
   {
    "duration": 4,
    "start_time": "2023-09-22T21:30:44.560Z"
   },
   {
    "duration": 110,
    "start_time": "2023-09-22T21:36:06.485Z"
   },
   {
    "duration": 1499,
    "start_time": "2023-09-22T21:38:05.783Z"
   },
   {
    "duration": 216,
    "start_time": "2023-09-22T21:38:07.285Z"
   },
   {
    "duration": 79,
    "start_time": "2023-09-22T21:38:07.503Z"
   },
   {
    "duration": 32,
    "start_time": "2023-09-22T21:38:07.584Z"
   },
   {
    "duration": 34,
    "start_time": "2023-09-22T21:38:07.619Z"
   },
   {
    "duration": 22,
    "start_time": "2023-09-22T21:38:07.657Z"
   },
   {
    "duration": 28,
    "start_time": "2023-09-22T21:38:07.681Z"
   },
   {
    "duration": 33,
    "start_time": "2023-09-22T21:38:07.712Z"
   },
   {
    "duration": 37,
    "start_time": "2023-09-22T21:38:07.747Z"
   },
   {
    "duration": 64,
    "start_time": "2023-09-22T21:38:07.786Z"
   },
   {
    "duration": 30,
    "start_time": "2023-09-22T21:38:07.852Z"
   },
   {
    "duration": 6,
    "start_time": "2023-09-22T21:38:07.885Z"
   },
   {
    "duration": 8,
    "start_time": "2023-09-22T21:38:07.893Z"
   },
   {
    "duration": 45,
    "start_time": "2023-09-22T21:38:07.905Z"
   },
   {
    "duration": 4,
    "start_time": "2023-09-22T21:38:07.952Z"
   },
   {
    "duration": 1297,
    "start_time": "2023-09-22T21:38:07.958Z"
   },
   {
    "duration": 37870,
    "start_time": "2023-09-22T21:38:09.330Z"
   },
   {
    "duration": 4,
    "start_time": "2023-09-22T21:41:50.333Z"
   },
   {
    "duration": 197,
    "start_time": "2023-09-22T21:41:50.339Z"
   },
   {
    "duration": 1516,
    "start_time": "2023-09-22T21:42:45.354Z"
   },
   {
    "duration": 1571,
    "start_time": "2023-09-22T21:43:33.802Z"
   },
   {
    "duration": 189,
    "start_time": "2023-09-22T21:43:35.375Z"
   },
   {
    "duration": 84,
    "start_time": "2023-09-22T21:43:35.566Z"
   },
   {
    "duration": 17,
    "start_time": "2023-09-22T21:43:35.653Z"
   },
   {
    "duration": 13,
    "start_time": "2023-09-22T21:43:35.672Z"
   },
   {
    "duration": 39,
    "start_time": "2023-09-22T21:43:35.687Z"
   },
   {
    "duration": 28,
    "start_time": "2023-09-22T21:43:35.728Z"
   },
   {
    "duration": 209,
    "start_time": "2023-09-22T21:43:35.758Z"
   },
   {
    "duration": 0,
    "start_time": "2023-09-22T21:43:35.969Z"
   },
   {
    "duration": 0,
    "start_time": "2023-09-22T21:43:35.971Z"
   },
   {
    "duration": 0,
    "start_time": "2023-09-22T21:43:35.974Z"
   },
   {
    "duration": 0,
    "start_time": "2023-09-22T21:43:35.975Z"
   },
   {
    "duration": 0,
    "start_time": "2023-09-22T21:43:35.976Z"
   },
   {
    "duration": 0,
    "start_time": "2023-09-22T21:43:35.977Z"
   },
   {
    "duration": 0,
    "start_time": "2023-09-22T21:43:35.978Z"
   },
   {
    "duration": 0,
    "start_time": "2023-09-22T21:43:35.980Z"
   },
   {
    "duration": 0,
    "start_time": "2023-09-22T21:43:35.982Z"
   },
   {
    "duration": 0,
    "start_time": "2023-09-22T21:43:35.985Z"
   },
   {
    "duration": 0,
    "start_time": "2023-09-22T21:43:35.986Z"
   },
   {
    "duration": 28,
    "start_time": "2023-09-22T21:44:15.719Z"
   },
   {
    "duration": 32,
    "start_time": "2023-09-22T21:44:26.953Z"
   },
   {
    "duration": 50,
    "start_time": "2023-09-22T21:44:35.247Z"
   },
   {
    "duration": 21,
    "start_time": "2023-09-22T21:44:48.646Z"
   },
   {
    "duration": 16,
    "start_time": "2023-09-22T21:44:49.476Z"
   },
   {
    "duration": 51,
    "start_time": "2023-09-22T21:44:58.238Z"
   },
   {
    "duration": 24,
    "start_time": "2023-09-22T21:45:08.244Z"
   },
   {
    "duration": 60,
    "start_time": "2023-09-22T21:45:41.354Z"
   },
   {
    "duration": 23,
    "start_time": "2023-09-22T21:45:44.995Z"
   },
   {
    "duration": 6,
    "start_time": "2023-09-22T21:45:51.742Z"
   },
   {
    "duration": 3,
    "start_time": "2023-09-22T21:45:59.870Z"
   },
   {
    "duration": 15,
    "start_time": "2023-09-22T21:46:00.875Z"
   },
   {
    "duration": 5,
    "start_time": "2023-09-22T21:46:02.264Z"
   },
   {
    "duration": 709,
    "start_time": "2023-09-22T21:46:03.823Z"
   },
   {
    "duration": 59,
    "start_time": "2023-09-22T21:47:33.423Z"
   },
   {
    "duration": 33,
    "start_time": "2023-09-22T21:47:37.929Z"
   },
   {
    "duration": 89,
    "start_time": "2023-09-22T21:47:53.249Z"
   },
   {
    "duration": 109,
    "start_time": "2023-09-22T21:47:56.394Z"
   },
   {
    "duration": 1599,
    "start_time": "2023-09-22T21:48:03.424Z"
   },
   {
    "duration": 207,
    "start_time": "2023-09-22T21:48:05.036Z"
   },
   {
    "duration": 58,
    "start_time": "2023-09-22T21:48:05.245Z"
   },
   {
    "duration": 54,
    "start_time": "2023-09-22T21:48:05.305Z"
   },
   {
    "duration": 100,
    "start_time": "2023-09-22T21:48:05.362Z"
   },
   {
    "duration": 70,
    "start_time": "2023-09-22T21:48:05.463Z"
   },
   {
    "duration": 41,
    "start_time": "2023-09-22T21:48:05.535Z"
   },
   {
    "duration": 61,
    "start_time": "2023-09-22T21:48:05.578Z"
   },
   {
    "duration": 49,
    "start_time": "2023-09-22T21:48:05.642Z"
   },
   {
    "duration": 70,
    "start_time": "2023-09-22T21:48:05.692Z"
   },
   {
    "duration": 117,
    "start_time": "2023-09-22T21:48:05.767Z"
   },
   {
    "duration": 144,
    "start_time": "2023-09-22T21:48:05.887Z"
   },
   {
    "duration": 8,
    "start_time": "2023-09-22T21:48:06.035Z"
   },
   {
    "duration": 43,
    "start_time": "2023-09-22T21:48:06.047Z"
   },
   {
    "duration": 338,
    "start_time": "2023-09-22T21:48:06.092Z"
   },
   {
    "duration": 0,
    "start_time": "2023-09-22T21:48:06.433Z"
   },
   {
    "duration": 0,
    "start_time": "2023-09-22T21:48:06.436Z"
   },
   {
    "duration": 0,
    "start_time": "2023-09-22T21:48:06.436Z"
   },
   {
    "duration": 0,
    "start_time": "2023-09-22T21:48:06.437Z"
   },
   {
    "duration": 9,
    "start_time": "2023-09-22T21:50:24.635Z"
   },
   {
    "duration": 9,
    "start_time": "2023-09-22T21:50:55.869Z"
   },
   {
    "duration": 3,
    "start_time": "2023-09-22T21:50:57.641Z"
   },
   {
    "duration": 1232,
    "start_time": "2023-09-22T21:50:59.100Z"
   },
   {
    "duration": 34229,
    "start_time": "2023-09-22T21:51:19.241Z"
   },
   {
    "duration": 6,
    "start_time": "2023-09-22T21:52:18.061Z"
   },
   {
    "duration": 8,
    "start_time": "2023-09-22T21:52:21.477Z"
   },
   {
    "duration": 3,
    "start_time": "2023-09-22T21:52:25.097Z"
   },
   {
    "duration": 1047,
    "start_time": "2023-09-22T21:52:26.285Z"
   },
   {
    "duration": 17,
    "start_time": "2023-09-22T21:52:35.116Z"
   },
   {
    "duration": 1157,
    "start_time": "2023-09-22T21:52:38.082Z"
   },
   {
    "duration": 28596,
    "start_time": "2023-09-22T21:52:41.849Z"
   },
   {
    "duration": 1459,
    "start_time": "2023-09-23T00:50:57.722Z"
   },
   {
    "duration": 180,
    "start_time": "2023-09-23T00:50:59.183Z"
   },
   {
    "duration": 47,
    "start_time": "2023-09-23T00:50:59.364Z"
   },
   {
    "duration": 11,
    "start_time": "2023-09-23T00:50:59.413Z"
   },
   {
    "duration": 5,
    "start_time": "2023-09-23T00:50:59.426Z"
   },
   {
    "duration": 19,
    "start_time": "2023-09-23T00:50:59.433Z"
   },
   {
    "duration": 16,
    "start_time": "2023-09-23T00:50:59.453Z"
   },
   {
    "duration": 45,
    "start_time": "2023-09-23T00:50:59.470Z"
   },
   {
    "duration": 20,
    "start_time": "2023-09-23T00:50:59.517Z"
   },
   {
    "duration": 16,
    "start_time": "2023-09-23T00:50:59.539Z"
   },
   {
    "duration": 30,
    "start_time": "2023-09-23T00:50:59.557Z"
   },
   {
    "duration": 40,
    "start_time": "2023-09-23T00:50:59.589Z"
   },
   {
    "duration": 6,
    "start_time": "2023-09-23T00:50:59.630Z"
   },
   {
    "duration": 8,
    "start_time": "2023-09-23T00:50:59.637Z"
   },
   {
    "duration": 6,
    "start_time": "2023-09-23T00:50:59.647Z"
   },
   {
    "duration": 11,
    "start_time": "2023-09-23T00:50:59.655Z"
   },
   {
    "duration": 14,
    "start_time": "2023-09-23T00:50:59.667Z"
   },
   {
    "duration": 24852,
    "start_time": "2023-09-23T00:50:59.683Z"
   },
   {
    "duration": 3,
    "start_time": "2023-09-23T00:51:24.537Z"
   },
   {
    "duration": 33,
    "start_time": "2023-09-23T00:51:24.542Z"
   },
   {
    "duration": 1547,
    "start_time": "2023-09-23T00:51:28.830Z"
   },
   {
    "duration": 1456,
    "start_time": "2023-09-23T00:51:39.889Z"
   },
   {
    "duration": 184,
    "start_time": "2023-09-23T00:51:41.347Z"
   },
   {
    "duration": 53,
    "start_time": "2023-09-23T00:51:41.532Z"
   },
   {
    "duration": 38,
    "start_time": "2023-09-23T00:51:41.587Z"
   },
   {
    "duration": 4,
    "start_time": "2023-09-23T00:51:41.627Z"
   },
   {
    "duration": 31,
    "start_time": "2023-09-23T00:51:41.632Z"
   },
   {
    "duration": 11,
    "start_time": "2023-09-23T00:51:41.665Z"
   },
   {
    "duration": 59,
    "start_time": "2023-09-23T00:51:41.677Z"
   },
   {
    "duration": 18,
    "start_time": "2023-09-23T00:51:41.738Z"
   },
   {
    "duration": 22,
    "start_time": "2023-09-23T00:51:41.758Z"
   },
   {
    "duration": 29,
    "start_time": "2023-09-23T00:51:41.781Z"
   },
   {
    "duration": 15,
    "start_time": "2023-09-23T00:51:41.824Z"
   },
   {
    "duration": 14,
    "start_time": "2023-09-23T00:51:41.841Z"
   },
   {
    "duration": 21,
    "start_time": "2023-09-23T00:51:41.856Z"
   },
   {
    "duration": 22,
    "start_time": "2023-09-23T00:51:41.879Z"
   },
   {
    "duration": 30,
    "start_time": "2023-09-23T00:51:41.903Z"
   },
   {
    "duration": 694,
    "start_time": "2023-09-23T00:51:41.934Z"
   },
   {
    "duration": 1429,
    "start_time": "2023-09-23T00:51:58.644Z"
   },
   {
    "duration": 184,
    "start_time": "2023-09-23T00:52:00.076Z"
   },
   {
    "duration": 66,
    "start_time": "2023-09-23T00:52:00.262Z"
   },
   {
    "duration": 16,
    "start_time": "2023-09-23T00:52:00.330Z"
   },
   {
    "duration": 13,
    "start_time": "2023-09-23T00:52:00.349Z"
   },
   {
    "duration": 107,
    "start_time": "2023-09-23T00:52:00.364Z"
   },
   {
    "duration": 42,
    "start_time": "2023-09-23T00:52:00.473Z"
   },
   {
    "duration": 116,
    "start_time": "2023-09-23T00:52:00.518Z"
   },
   {
    "duration": 87,
    "start_time": "2023-09-23T00:52:00.636Z"
   },
   {
    "duration": 133,
    "start_time": "2023-09-23T00:52:00.725Z"
   },
   {
    "duration": 205,
    "start_time": "2023-09-23T00:52:00.861Z"
   },
   {
    "duration": 111,
    "start_time": "2023-09-23T00:52:01.068Z"
   },
   {
    "duration": 119,
    "start_time": "2023-09-23T00:52:01.182Z"
   },
   {
    "duration": 37,
    "start_time": "2023-09-23T00:52:01.304Z"
   },
   {
    "duration": 52,
    "start_time": "2023-09-23T00:52:01.342Z"
   },
   {
    "duration": 56,
    "start_time": "2023-09-23T00:52:01.396Z"
   },
   {
    "duration": 1169,
    "start_time": "2023-09-23T00:52:01.454Z"
   },
   {
    "duration": 23648,
    "start_time": "2023-09-23T00:52:02.625Z"
   },
   {
    "duration": 2,
    "start_time": "2023-09-23T00:52:26.276Z"
   },
   {
    "duration": 81020,
    "start_time": "2023-09-23T00:52:37.018Z"
   },
   {
    "duration": 654196,
    "start_time": "2023-09-23T00:55:22.904Z"
   },
   {
    "duration": 10,
    "start_time": "2023-09-23T01:09:58.149Z"
   },
   {
    "duration": 12,
    "start_time": "2023-09-23T01:12:59.511Z"
   },
   {
    "duration": 10,
    "start_time": "2023-09-23T01:13:07.727Z"
   },
   {
    "duration": 1474,
    "start_time": "2023-09-23T01:13:52.135Z"
   },
   {
    "duration": 190,
    "start_time": "2023-09-23T01:13:53.611Z"
   },
   {
    "duration": 60,
    "start_time": "2023-09-23T01:13:53.802Z"
   },
   {
    "duration": 12,
    "start_time": "2023-09-23T01:13:53.864Z"
   },
   {
    "duration": 18,
    "start_time": "2023-09-23T01:13:53.878Z"
   },
   {
    "duration": 31,
    "start_time": "2023-09-23T01:13:53.897Z"
   },
   {
    "duration": 4,
    "start_time": "2023-09-23T01:13:53.930Z"
   },
   {
    "duration": 54,
    "start_time": "2023-09-23T01:13:53.935Z"
   },
   {
    "duration": 19,
    "start_time": "2023-09-23T01:13:53.991Z"
   },
   {
    "duration": 47,
    "start_time": "2023-09-23T01:13:54.013Z"
   },
   {
    "duration": 59,
    "start_time": "2023-09-23T01:13:54.062Z"
   },
   {
    "duration": 14,
    "start_time": "2023-09-23T01:13:54.123Z"
   },
   {
    "duration": 3,
    "start_time": "2023-09-23T01:13:54.139Z"
   },
   {
    "duration": 25,
    "start_time": "2023-09-23T01:13:54.144Z"
   },
   {
    "duration": 49,
    "start_time": "2023-09-23T01:13:54.170Z"
   },
   {
    "duration": 34,
    "start_time": "2023-09-23T01:13:54.221Z"
   },
   {
    "duration": 19,
    "start_time": "2023-09-23T01:13:54.256Z"
   },
   {
    "duration": 454,
    "start_time": "2023-09-23T01:13:54.277Z"
   },
   {
    "duration": 24519,
    "start_time": "2023-09-23T01:13:54.733Z"
   },
   {
    "duration": 2,
    "start_time": "2023-09-23T01:14:19.254Z"
   },
   {
    "duration": 73,
    "start_time": "2023-09-23T01:14:19.258Z"
   },
   {
    "duration": 103,
    "start_time": "2023-09-23T01:15:59.381Z"
   },
   {
    "duration": 13,
    "start_time": "2023-09-23T01:18:04.642Z"
   },
   {
    "duration": 36,
    "start_time": "2023-09-23T01:19:08.856Z"
   },
   {
    "duration": 1376,
    "start_time": "2023-09-23T01:19:17.660Z"
   },
   {
    "duration": 185,
    "start_time": "2023-09-23T01:19:19.038Z"
   },
   {
    "duration": 51,
    "start_time": "2023-09-23T01:19:19.224Z"
   },
   {
    "duration": 11,
    "start_time": "2023-09-23T01:19:19.277Z"
   },
   {
    "duration": 33,
    "start_time": "2023-09-23T01:19:19.290Z"
   },
   {
    "duration": 7,
    "start_time": "2023-09-23T01:19:19.325Z"
   },
   {
    "duration": 4,
    "start_time": "2023-09-23T01:19:19.333Z"
   },
   {
    "duration": 43,
    "start_time": "2023-09-23T01:19:19.338Z"
   },
   {
    "duration": 47,
    "start_time": "2023-09-23T01:19:19.382Z"
   },
   {
    "duration": 27,
    "start_time": "2023-09-23T01:19:19.431Z"
   },
   {
    "duration": 65,
    "start_time": "2023-09-23T01:19:19.460Z"
   },
   {
    "duration": 14,
    "start_time": "2023-09-23T01:19:19.527Z"
   },
   {
    "duration": 12,
    "start_time": "2023-09-23T01:19:19.542Z"
   },
   {
    "duration": 48,
    "start_time": "2023-09-23T01:19:19.556Z"
   },
   {
    "duration": 17,
    "start_time": "2023-09-23T01:19:19.605Z"
   },
   {
    "duration": 6,
    "start_time": "2023-09-23T01:19:19.623Z"
   },
   {
    "duration": 18,
    "start_time": "2023-09-23T01:19:19.631Z"
   },
   {
    "duration": 480,
    "start_time": "2023-09-23T01:19:19.651Z"
   },
   {
    "duration": 23302,
    "start_time": "2023-09-23T01:19:20.223Z"
   },
   {
    "duration": 2,
    "start_time": "2023-09-23T01:19:43.527Z"
   },
   {
    "duration": 30,
    "start_time": "2023-09-23T01:19:43.531Z"
   },
   {
    "duration": 6,
    "start_time": "2023-09-23T01:20:19.650Z"
   },
   {
    "duration": 29,
    "start_time": "2023-09-23T01:20:30.083Z"
   },
   {
    "duration": 1401,
    "start_time": "2023-09-23T01:20:38.033Z"
   },
   {
    "duration": 184,
    "start_time": "2023-09-23T01:20:39.436Z"
   },
   {
    "duration": 54,
    "start_time": "2023-09-23T01:20:39.621Z"
   },
   {
    "duration": 11,
    "start_time": "2023-09-23T01:20:39.677Z"
   },
   {
    "duration": 36,
    "start_time": "2023-09-23T01:20:39.689Z"
   },
   {
    "duration": 28,
    "start_time": "2023-09-23T01:20:39.726Z"
   },
   {
    "duration": 22,
    "start_time": "2023-09-23T01:20:39.756Z"
   },
   {
    "duration": 76,
    "start_time": "2023-09-23T01:20:39.780Z"
   },
   {
    "duration": 18,
    "start_time": "2023-09-23T01:20:39.858Z"
   },
   {
    "duration": 34,
    "start_time": "2023-09-23T01:20:39.879Z"
   },
   {
    "duration": 23,
    "start_time": "2023-09-23T01:20:39.915Z"
   },
   {
    "duration": 46,
    "start_time": "2023-09-23T01:20:39.939Z"
   },
   {
    "duration": 13,
    "start_time": "2023-09-23T01:20:39.987Z"
   },
   {
    "duration": 21,
    "start_time": "2023-09-23T01:20:40.002Z"
   },
   {
    "duration": 25,
    "start_time": "2023-09-23T01:20:40.025Z"
   },
   {
    "duration": 31,
    "start_time": "2023-09-23T01:20:40.051Z"
   },
   {
    "duration": 28,
    "start_time": "2023-09-23T01:20:40.084Z"
   },
   {
    "duration": 32,
    "start_time": "2023-09-23T01:20:40.114Z"
   },
   {
    "duration": 583,
    "start_time": "2023-09-23T01:20:40.148Z"
   },
   {
    "duration": 24192,
    "start_time": "2023-09-23T01:20:40.733Z"
   },
   {
    "duration": 3,
    "start_time": "2023-09-23T01:21:04.927Z"
   },
   {
    "duration": 38,
    "start_time": "2023-09-23T01:21:04.931Z"
   },
   {
    "duration": 2074,
    "start_time": "2023-09-23T01:23:33.136Z"
   },
   {
    "duration": 1422,
    "start_time": "2023-09-23T01:23:53.395Z"
   },
   {
    "duration": 185,
    "start_time": "2023-09-23T01:23:54.819Z"
   },
   {
    "duration": 54,
    "start_time": "2023-09-23T01:23:55.005Z"
   },
   {
    "duration": 11,
    "start_time": "2023-09-23T01:23:55.060Z"
   },
   {
    "duration": 5,
    "start_time": "2023-09-23T01:23:55.073Z"
   },
   {
    "duration": 8,
    "start_time": "2023-09-23T01:23:55.080Z"
   },
   {
    "duration": 35,
    "start_time": "2023-09-23T01:23:55.089Z"
   },
   {
    "duration": 39,
    "start_time": "2023-09-23T01:23:55.126Z"
   },
   {
    "duration": 18,
    "start_time": "2023-09-23T01:23:55.166Z"
   },
   {
    "duration": 24,
    "start_time": "2023-09-23T01:23:55.185Z"
   },
   {
    "duration": 17,
    "start_time": "2023-09-23T01:23:55.211Z"
   },
   {
    "duration": 26,
    "start_time": "2023-09-23T01:23:55.229Z"
   },
   {
    "duration": 2296,
    "start_time": "2023-09-23T01:23:55.257Z"
   },
   {
    "duration": 0,
    "start_time": "2023-09-23T01:23:57.556Z"
   },
   {
    "duration": 0,
    "start_time": "2023-09-23T01:23:57.557Z"
   },
   {
    "duration": 0,
    "start_time": "2023-09-23T01:23:57.558Z"
   },
   {
    "duration": 0,
    "start_time": "2023-09-23T01:23:57.559Z"
   },
   {
    "duration": 0,
    "start_time": "2023-09-23T01:23:57.561Z"
   },
   {
    "duration": 0,
    "start_time": "2023-09-23T01:23:57.562Z"
   },
   {
    "duration": 0,
    "start_time": "2023-09-23T01:23:57.563Z"
   },
   {
    "duration": 0,
    "start_time": "2023-09-23T01:23:57.564Z"
   },
   {
    "duration": 0,
    "start_time": "2023-09-23T01:23:57.565Z"
   },
   {
    "duration": 0,
    "start_time": "2023-09-23T01:23:57.566Z"
   },
   {
    "duration": 5,
    "start_time": "2023-09-23T01:24:27.891Z"
   },
   {
    "duration": 14,
    "start_time": "2023-09-23T01:24:33.165Z"
   },
   {
    "duration": 4,
    "start_time": "2023-09-23T01:24:37.162Z"
   },
   {
    "duration": 6,
    "start_time": "2023-09-23T01:24:39.650Z"
   },
   {
    "duration": 11,
    "start_time": "2023-09-23T01:24:42.044Z"
   },
   {
    "duration": 6,
    "start_time": "2023-09-23T01:24:45.386Z"
   },
   {
    "duration": 2,
    "start_time": "2023-09-23T01:24:48.636Z"
   },
   {
    "duration": 1052,
    "start_time": "2023-09-23T01:24:50.076Z"
   },
   {
    "duration": 25110,
    "start_time": "2023-09-23T01:24:53.806Z"
   },
   {
    "duration": 54,
    "start_time": "2023-09-23T01:26:09.158Z"
   },
   {
    "duration": 7,
    "start_time": "2023-09-23T01:27:10.303Z"
   },
   {
    "duration": 15,
    "start_time": "2023-09-23T01:27:12.308Z"
   },
   {
    "duration": 4,
    "start_time": "2023-09-23T01:27:26.584Z"
   },
   {
    "duration": 6,
    "start_time": "2023-09-23T01:27:29.629Z"
   },
   {
    "duration": 13,
    "start_time": "2023-09-23T01:27:30.231Z"
   },
   {
    "duration": 8,
    "start_time": "2023-09-23T01:27:34.030Z"
   },
   {
    "duration": 2,
    "start_time": "2023-09-23T01:27:39.067Z"
   },
   {
    "duration": 1261,
    "start_time": "2023-09-23T01:27:39.872Z"
   },
   {
    "duration": 39742,
    "start_time": "2023-09-23T01:27:43.883Z"
   },
   {
    "duration": 1847,
    "start_time": "2023-09-23T01:29:58.861Z"
   },
   {
    "duration": 192,
    "start_time": "2023-09-23T01:30:00.710Z"
   },
   {
    "duration": 54,
    "start_time": "2023-09-23T01:30:00.903Z"
   },
   {
    "duration": 22,
    "start_time": "2023-09-23T01:30:00.959Z"
   },
   {
    "duration": 35,
    "start_time": "2023-09-23T01:30:00.983Z"
   },
   {
    "duration": 28,
    "start_time": "2023-09-23T01:30:01.020Z"
   },
   {
    "duration": 31,
    "start_time": "2023-09-23T01:30:01.051Z"
   },
   {
    "duration": 112,
    "start_time": "2023-09-23T01:30:01.084Z"
   },
   {
    "duration": 30,
    "start_time": "2023-09-23T01:30:01.198Z"
   },
   {
    "duration": 130,
    "start_time": "2023-09-23T01:30:01.230Z"
   },
   {
    "duration": 136,
    "start_time": "2023-09-23T01:30:01.362Z"
   },
   {
    "duration": 73,
    "start_time": "2023-09-23T01:30:01.500Z"
   },
   {
    "duration": 5,
    "start_time": "2023-09-23T01:30:01.575Z"
   },
   {
    "duration": 43,
    "start_time": "2023-09-23T01:30:01.583Z"
   },
   {
    "duration": 65,
    "start_time": "2023-09-23T01:30:01.628Z"
   },
   {
    "duration": 83,
    "start_time": "2023-09-23T01:30:01.695Z"
   },
   {
    "duration": 38,
    "start_time": "2023-09-23T01:30:01.780Z"
   },
   {
    "duration": 43,
    "start_time": "2023-09-23T01:30:01.819Z"
   },
   {
    "duration": 37,
    "start_time": "2023-09-23T01:30:01.864Z"
   },
   {
    "duration": 1224,
    "start_time": "2023-09-23T01:30:01.903Z"
   },
   {
    "duration": 24907,
    "start_time": "2023-09-23T01:30:03.129Z"
   },
   {
    "duration": 4,
    "start_time": "2023-09-23T01:30:28.037Z"
   },
   {
    "duration": 10,
    "start_time": "2023-09-23T01:30:28.042Z"
   },
   {
    "duration": 4,
    "start_time": "2023-09-23T01:35:59.674Z"
   },
   {
    "duration": 3,
    "start_time": "2023-09-23T01:36:01.332Z"
   },
   {
    "duration": 1443,
    "start_time": "2023-09-23T01:36:12.633Z"
   },
   {
    "duration": 182,
    "start_time": "2023-09-23T01:36:14.078Z"
   },
   {
    "duration": 50,
    "start_time": "2023-09-23T01:36:14.262Z"
   },
   {
    "duration": 15,
    "start_time": "2023-09-23T01:36:14.313Z"
   },
   {
    "duration": 4,
    "start_time": "2023-09-23T01:36:14.330Z"
   },
   {
    "duration": 31,
    "start_time": "2023-09-23T01:36:14.335Z"
   },
   {
    "duration": 9,
    "start_time": "2023-09-23T01:36:14.368Z"
   },
   {
    "duration": 5,
    "start_time": "2023-09-23T01:36:14.379Z"
   },
   {
    "duration": 51,
    "start_time": "2023-09-23T01:36:14.385Z"
   },
   {
    "duration": 19,
    "start_time": "2023-09-23T01:36:14.437Z"
   },
   {
    "duration": 31,
    "start_time": "2023-09-23T01:36:14.458Z"
   },
   {
    "duration": 8,
    "start_time": "2023-09-23T01:36:14.491Z"
   },
   {
    "duration": 59,
    "start_time": "2023-09-23T01:36:14.501Z"
   },
   {
    "duration": 5,
    "start_time": "2023-09-23T01:36:14.563Z"
   },
   {
    "duration": 38,
    "start_time": "2023-09-23T01:36:14.569Z"
   },
   {
    "duration": 4,
    "start_time": "2023-09-23T01:36:14.609Z"
   },
   {
    "duration": 7,
    "start_time": "2023-09-23T01:36:14.614Z"
   },
   {
    "duration": 23,
    "start_time": "2023-09-23T01:36:14.622Z"
   },
   {
    "duration": 15,
    "start_time": "2023-09-23T01:36:14.646Z"
   },
   {
    "duration": 37,
    "start_time": "2023-09-23T01:36:14.662Z"
   },
   {
    "duration": 43,
    "start_time": "2023-09-23T01:36:14.701Z"
   },
   {
    "duration": 24864,
    "start_time": "2023-09-23T01:36:14.825Z"
   },
   {
    "duration": 3,
    "start_time": "2023-09-23T01:36:39.691Z"
   },
   {
    "duration": 7,
    "start_time": "2023-09-23T01:36:39.695Z"
   },
   {
    "duration": 1325,
    "start_time": "2023-09-23T01:40:07.186Z"
   },
   {
    "duration": 186,
    "start_time": "2023-09-23T01:40:08.513Z"
   },
   {
    "duration": 50,
    "start_time": "2023-09-23T01:40:08.701Z"
   },
   {
    "duration": 12,
    "start_time": "2023-09-23T01:40:08.752Z"
   },
   {
    "duration": 18,
    "start_time": "2023-09-23T01:40:08.766Z"
   },
   {
    "duration": 19,
    "start_time": "2023-09-23T01:40:08.785Z"
   },
   {
    "duration": 62,
    "start_time": "2023-09-23T01:40:08.806Z"
   },
   {
    "duration": 17,
    "start_time": "2023-09-23T01:40:08.869Z"
   },
   {
    "duration": 59,
    "start_time": "2023-09-23T01:40:08.898Z"
   },
   {
    "duration": 27,
    "start_time": "2023-09-23T01:40:08.959Z"
   },
   {
    "duration": 28,
    "start_time": "2023-09-23T01:40:08.988Z"
   },
   {
    "duration": 81,
    "start_time": "2023-09-23T01:40:09.018Z"
   },
   {
    "duration": 81,
    "start_time": "2023-09-23T01:40:09.101Z"
   },
   {
    "duration": 5,
    "start_time": "2023-09-23T01:40:09.184Z"
   },
   {
    "duration": 51,
    "start_time": "2023-09-23T01:40:09.190Z"
   },
   {
    "duration": 16,
    "start_time": "2023-09-23T01:40:09.243Z"
   },
   {
    "duration": 51,
    "start_time": "2023-09-23T01:40:09.261Z"
   },
   {
    "duration": 98,
    "start_time": "2023-09-23T01:40:09.314Z"
   },
   {
    "duration": 113,
    "start_time": "2023-09-23T01:40:09.414Z"
   },
   {
    "duration": 35,
    "start_time": "2023-09-23T01:40:09.528Z"
   },
   {
    "duration": 61,
    "start_time": "2023-09-23T01:40:09.565Z"
   },
   {
    "duration": 20441,
    "start_time": "2023-09-23T01:40:09.628Z"
   },
   {
    "duration": 3,
    "start_time": "2023-09-23T01:40:30.071Z"
   },
   {
    "duration": 134,
    "start_time": "2023-09-23T01:40:30.075Z"
   },
   {
    "duration": 1392,
    "start_time": "2023-09-23T01:40:43.599Z"
   },
   {
    "duration": 185,
    "start_time": "2023-09-23T01:40:44.993Z"
   },
   {
    "duration": 51,
    "start_time": "2023-09-23T01:40:45.180Z"
   },
   {
    "duration": 11,
    "start_time": "2023-09-23T01:40:45.233Z"
   },
   {
    "duration": 5,
    "start_time": "2023-09-23T01:40:45.246Z"
   },
   {
    "duration": 16,
    "start_time": "2023-09-23T01:40:45.253Z"
   },
   {
    "duration": 16,
    "start_time": "2023-09-23T01:40:45.270Z"
   },
   {
    "duration": 6,
    "start_time": "2023-09-23T01:40:45.288Z"
   },
   {
    "duration": 51,
    "start_time": "2023-09-23T01:40:45.296Z"
   },
   {
    "duration": 22,
    "start_time": "2023-09-23T01:40:45.348Z"
   },
   {
    "duration": 19,
    "start_time": "2023-09-23T01:40:45.372Z"
   },
   {
    "duration": 6,
    "start_time": "2023-09-23T01:40:45.393Z"
   },
   {
    "duration": 55,
    "start_time": "2023-09-23T01:40:45.401Z"
   },
   {
    "duration": 4,
    "start_time": "2023-09-23T01:40:45.458Z"
   },
   {
    "duration": 15,
    "start_time": "2023-09-23T01:40:45.463Z"
   },
   {
    "duration": 4,
    "start_time": "2023-09-23T01:40:45.480Z"
   },
   {
    "duration": 8,
    "start_time": "2023-09-23T01:40:45.485Z"
   },
   {
    "duration": 35,
    "start_time": "2023-09-23T01:40:45.495Z"
   },
   {
    "duration": 13,
    "start_time": "2023-09-23T01:40:45.532Z"
   },
   {
    "duration": 8,
    "start_time": "2023-09-23T01:40:45.547Z"
   },
   {
    "duration": 19,
    "start_time": "2023-09-23T01:40:45.556Z"
   },
   {
    "duration": 21895,
    "start_time": "2023-09-23T01:40:45.577Z"
   },
   {
    "duration": 2,
    "start_time": "2023-09-23T01:41:07.474Z"
   },
   {
    "duration": 24,
    "start_time": "2023-09-23T01:41:07.478Z"
   },
   {
    "duration": 7,
    "start_time": "2023-09-23T01:43:43.965Z"
   },
   {
    "duration": 1418,
    "start_time": "2023-09-23T01:43:50.303Z"
   },
   {
    "duration": 183,
    "start_time": "2023-09-23T01:43:51.725Z"
   },
   {
    "duration": 53,
    "start_time": "2023-09-23T01:43:51.910Z"
   },
   {
    "duration": 79,
    "start_time": "2023-09-23T01:43:51.965Z"
   },
   {
    "duration": 177,
    "start_time": "2023-09-23T01:43:52.046Z"
   },
   {
    "duration": 92,
    "start_time": "2023-09-23T01:43:52.224Z"
   },
   {
    "duration": 92,
    "start_time": "2023-09-23T01:43:52.317Z"
   },
   {
    "duration": 129,
    "start_time": "2023-09-23T01:43:52.411Z"
   },
   {
    "duration": 143,
    "start_time": "2023-09-23T01:43:52.541Z"
   },
   {
    "duration": 109,
    "start_time": "2023-09-23T01:43:52.687Z"
   },
   {
    "duration": 46,
    "start_time": "2023-09-23T01:43:52.798Z"
   },
   {
    "duration": 38,
    "start_time": "2023-09-23T01:43:52.846Z"
   },
   {
    "duration": 63,
    "start_time": "2023-09-23T01:43:52.886Z"
   },
   {
    "duration": 34,
    "start_time": "2023-09-23T01:43:52.951Z"
   },
   {
    "duration": 233,
    "start_time": "2023-09-23T01:43:52.987Z"
   },
   {
    "duration": 35,
    "start_time": "2023-09-23T01:43:53.222Z"
   },
   {
    "duration": 38,
    "start_time": "2023-09-23T01:43:53.259Z"
   },
   {
    "duration": 46,
    "start_time": "2023-09-23T01:43:53.298Z"
   },
   {
    "duration": 145,
    "start_time": "2023-09-23T01:43:53.346Z"
   },
   {
    "duration": 0,
    "start_time": "2023-09-23T01:43:53.492Z"
   },
   {
    "duration": 0,
    "start_time": "2023-09-23T01:43:53.493Z"
   },
   {
    "duration": 0,
    "start_time": "2023-09-23T01:43:53.495Z"
   },
   {
    "duration": 0,
    "start_time": "2023-09-23T01:43:53.495Z"
   },
   {
    "duration": 0,
    "start_time": "2023-09-23T01:43:53.496Z"
   },
   {
    "duration": 1327,
    "start_time": "2023-09-23T01:44:44.162Z"
   },
   {
    "duration": 186,
    "start_time": "2023-09-23T01:44:45.491Z"
   },
   {
    "duration": 49,
    "start_time": "2023-09-23T01:44:45.679Z"
   },
   {
    "duration": 68,
    "start_time": "2023-09-23T01:44:45.730Z"
   },
   {
    "duration": 89,
    "start_time": "2023-09-23T01:44:45.801Z"
   },
   {
    "duration": 55,
    "start_time": "2023-09-23T01:44:45.892Z"
   },
   {
    "duration": 77,
    "start_time": "2023-09-23T01:44:45.949Z"
   },
   {
    "duration": 84,
    "start_time": "2023-09-23T01:44:46.028Z"
   },
   {
    "duration": 93,
    "start_time": "2023-09-23T01:44:46.114Z"
   },
   {
    "duration": 77,
    "start_time": "2023-09-23T01:44:46.209Z"
   },
   {
    "duration": 113,
    "start_time": "2023-09-23T01:44:46.288Z"
   },
   {
    "duration": 77,
    "start_time": "2023-09-23T01:44:46.403Z"
   },
   {
    "duration": 78,
    "start_time": "2023-09-23T01:44:46.481Z"
   },
   {
    "duration": 4,
    "start_time": "2023-09-23T01:44:46.562Z"
   },
   {
    "duration": 92,
    "start_time": "2023-09-23T01:44:46.568Z"
   },
   {
    "duration": 126,
    "start_time": "2023-09-23T01:44:46.662Z"
   },
   {
    "duration": 30,
    "start_time": "2023-09-23T01:44:46.790Z"
   },
   {
    "duration": 38,
    "start_time": "2023-09-23T01:44:46.821Z"
   },
   {
    "duration": 43,
    "start_time": "2023-09-23T01:44:46.860Z"
   },
   {
    "duration": 53,
    "start_time": "2023-09-23T01:44:46.905Z"
   },
   {
    "duration": 96,
    "start_time": "2023-09-23T01:44:46.960Z"
   },
   {
    "duration": 15057,
    "start_time": "2023-09-23T01:44:47.058Z"
   },
   {
    "duration": 3,
    "start_time": "2023-09-23T01:45:02.116Z"
   },
   {
    "duration": 85,
    "start_time": "2023-09-23T01:45:02.120Z"
   },
   {
    "duration": 6,
    "start_time": "2023-09-23T01:45:33.525Z"
   },
   {
    "duration": 1390,
    "start_time": "2023-09-23T01:45:39.728Z"
   },
   {
    "duration": 183,
    "start_time": "2023-09-23T01:45:41.120Z"
   },
   {
    "duration": 53,
    "start_time": "2023-09-23T01:45:41.304Z"
   },
   {
    "duration": 13,
    "start_time": "2023-09-23T01:45:41.359Z"
   },
   {
    "duration": 5,
    "start_time": "2023-09-23T01:45:41.375Z"
   },
   {
    "duration": 9,
    "start_time": "2023-09-23T01:45:41.382Z"
   },
   {
    "duration": 7,
    "start_time": "2023-09-23T01:45:41.423Z"
   },
   {
    "duration": 12,
    "start_time": "2023-09-23T01:45:41.432Z"
   },
   {
    "duration": 68,
    "start_time": "2023-09-23T01:45:41.446Z"
   },
   {
    "duration": 19,
    "start_time": "2023-09-23T01:45:41.516Z"
   },
   {
    "duration": 44,
    "start_time": "2023-09-23T01:45:41.536Z"
   },
   {
    "duration": 8,
    "start_time": "2023-09-23T01:45:41.582Z"
   },
   {
    "duration": 51,
    "start_time": "2023-09-23T01:45:41.591Z"
   },
   {
    "duration": 4,
    "start_time": "2023-09-23T01:45:41.644Z"
   },
   {
    "duration": 26,
    "start_time": "2023-09-23T01:45:41.650Z"
   },
   {
    "duration": 13,
    "start_time": "2023-09-23T01:45:41.678Z"
   },
   {
    "duration": 14,
    "start_time": "2023-09-23T01:45:41.693Z"
   },
   {
    "duration": 30,
    "start_time": "2023-09-23T01:45:41.709Z"
   },
   {
    "duration": 18,
    "start_time": "2023-09-23T01:45:41.740Z"
   },
   {
    "duration": 25,
    "start_time": "2023-09-23T01:45:41.760Z"
   },
   {
    "duration": 28,
    "start_time": "2023-09-23T01:45:41.787Z"
   },
   {
    "duration": 20612,
    "start_time": "2023-09-23T01:45:41.816Z"
   },
   {
    "duration": 3,
    "start_time": "2023-09-23T01:46:02.430Z"
   },
   {
    "duration": 249,
    "start_time": "2023-09-23T01:46:02.434Z"
   },
   {
    "duration": 1371,
    "start_time": "2023-09-23T01:46:36.648Z"
   },
   {
    "duration": 186,
    "start_time": "2023-09-23T01:46:38.021Z"
   },
   {
    "duration": 60,
    "start_time": "2023-09-23T01:46:38.209Z"
   },
   {
    "duration": 13,
    "start_time": "2023-09-23T01:46:38.271Z"
   },
   {
    "duration": 5,
    "start_time": "2023-09-23T01:46:38.286Z"
   },
   {
    "duration": 37,
    "start_time": "2023-09-23T01:46:38.293Z"
   },
   {
    "duration": 7,
    "start_time": "2023-09-23T01:46:38.332Z"
   },
   {
    "duration": 35,
    "start_time": "2023-09-23T01:46:38.341Z"
   },
   {
    "duration": 49,
    "start_time": "2023-09-23T01:46:38.378Z"
   },
   {
    "duration": 20,
    "start_time": "2023-09-23T01:46:38.429Z"
   },
   {
    "duration": 34,
    "start_time": "2023-09-23T01:46:38.451Z"
   },
   {
    "duration": 8,
    "start_time": "2023-09-23T01:46:38.486Z"
   },
   {
    "duration": 110,
    "start_time": "2023-09-23T01:46:38.496Z"
   },
   {
    "duration": 4,
    "start_time": "2023-09-23T01:46:38.607Z"
   },
   {
    "duration": 57,
    "start_time": "2023-09-23T01:46:38.613Z"
   },
   {
    "duration": 8,
    "start_time": "2023-09-23T01:46:38.672Z"
   },
   {
    "duration": 20,
    "start_time": "2023-09-23T01:46:38.682Z"
   },
   {
    "duration": 25,
    "start_time": "2023-09-23T01:46:38.703Z"
   },
   {
    "duration": 6,
    "start_time": "2023-09-23T01:46:38.729Z"
   },
   {
    "duration": 19,
    "start_time": "2023-09-23T01:46:38.736Z"
   },
   {
    "duration": 67,
    "start_time": "2023-09-23T01:46:38.757Z"
   },
   {
    "duration": 22333,
    "start_time": "2023-09-23T01:46:38.826Z"
   },
   {
    "duration": 3,
    "start_time": "2023-09-23T01:47:01.160Z"
   },
   {
    "duration": 161,
    "start_time": "2023-09-23T01:47:01.164Z"
   },
   {
    "duration": 1396,
    "start_time": "2023-09-23T01:47:15.592Z"
   },
   {
    "duration": 182,
    "start_time": "2023-09-23T01:47:16.990Z"
   },
   {
    "duration": 50,
    "start_time": "2023-09-23T01:47:17.173Z"
   },
   {
    "duration": 11,
    "start_time": "2023-09-23T01:47:17.225Z"
   },
   {
    "duration": 4,
    "start_time": "2023-09-23T01:47:17.238Z"
   },
   {
    "duration": 7,
    "start_time": "2023-09-23T01:47:17.243Z"
   },
   {
    "duration": 4,
    "start_time": "2023-09-23T01:47:17.251Z"
   },
   {
    "duration": 7,
    "start_time": "2023-09-23T01:47:17.256Z"
   },
   {
    "duration": 63,
    "start_time": "2023-09-23T01:47:17.264Z"
   },
   {
    "duration": 18,
    "start_time": "2023-09-23T01:47:17.329Z"
   },
   {
    "duration": 32,
    "start_time": "2023-09-23T01:47:17.348Z"
   },
   {
    "duration": 10,
    "start_time": "2023-09-23T01:47:17.381Z"
   },
   {
    "duration": 44,
    "start_time": "2023-09-23T01:47:17.392Z"
   },
   {
    "duration": 4,
    "start_time": "2023-09-23T01:47:17.438Z"
   },
   {
    "duration": 25,
    "start_time": "2023-09-23T01:47:17.443Z"
   },
   {
    "duration": 4,
    "start_time": "2023-09-23T01:47:17.469Z"
   },
   {
    "duration": 8,
    "start_time": "2023-09-23T01:47:17.474Z"
   },
   {
    "duration": 22,
    "start_time": "2023-09-23T01:47:17.484Z"
   },
   {
    "duration": 6,
    "start_time": "2023-09-23T01:47:17.508Z"
   },
   {
    "duration": 12,
    "start_time": "2023-09-23T01:47:17.516Z"
   },
   {
    "duration": 26,
    "start_time": "2023-09-23T01:47:17.529Z"
   },
   {
    "duration": 20400,
    "start_time": "2023-09-23T01:47:17.558Z"
   },
   {
    "duration": 2,
    "start_time": "2023-09-23T01:47:37.960Z"
   },
   {
    "duration": 6,
    "start_time": "2023-09-23T01:47:37.963Z"
   },
   {
    "duration": 1411,
    "start_time": "2023-09-23T01:48:04.093Z"
   },
   {
    "duration": 181,
    "start_time": "2023-09-23T01:48:05.506Z"
   },
   {
    "duration": 55,
    "start_time": "2023-09-23T01:48:05.689Z"
   },
   {
    "duration": 16,
    "start_time": "2023-09-23T01:48:05.746Z"
   },
   {
    "duration": 17,
    "start_time": "2023-09-23T01:48:05.765Z"
   },
   {
    "duration": 35,
    "start_time": "2023-09-23T01:48:05.784Z"
   },
   {
    "duration": 31,
    "start_time": "2023-09-23T01:48:05.821Z"
   },
   {
    "duration": 46,
    "start_time": "2023-09-23T01:48:05.854Z"
   },
   {
    "duration": 51,
    "start_time": "2023-09-23T01:48:05.902Z"
   },
   {
    "duration": 19,
    "start_time": "2023-09-23T01:48:05.954Z"
   },
   {
    "duration": 32,
    "start_time": "2023-09-23T01:48:05.975Z"
   },
   {
    "duration": 9,
    "start_time": "2023-09-23T01:48:06.009Z"
   },
   {
    "duration": 55,
    "start_time": "2023-09-23T01:48:06.020Z"
   },
   {
    "duration": 5,
    "start_time": "2023-09-23T01:48:06.077Z"
   },
   {
    "duration": 27,
    "start_time": "2023-09-23T01:48:06.083Z"
   },
   {
    "duration": 4,
    "start_time": "2023-09-23T01:48:06.112Z"
   },
   {
    "duration": 27,
    "start_time": "2023-09-23T01:48:06.117Z"
   },
   {
    "duration": 11,
    "start_time": "2023-09-23T01:48:06.145Z"
   },
   {
    "duration": 17,
    "start_time": "2023-09-23T01:48:06.158Z"
   },
   {
    "duration": 18,
    "start_time": "2023-09-23T01:48:06.177Z"
   },
   {
    "duration": 45,
    "start_time": "2023-09-23T01:48:06.196Z"
   },
   {
    "duration": 20320,
    "start_time": "2023-09-23T01:48:06.243Z"
   },
   {
    "duration": 2,
    "start_time": "2023-09-23T01:48:26.564Z"
   },
   {
    "duration": 19,
    "start_time": "2023-09-23T01:48:26.568Z"
   },
   {
    "duration": 1373,
    "start_time": "2023-09-23T01:49:16.202Z"
   },
   {
    "duration": 183,
    "start_time": "2023-09-23T01:49:17.577Z"
   },
   {
    "duration": 51,
    "start_time": "2023-09-23T01:49:17.762Z"
   },
   {
    "duration": 12,
    "start_time": "2023-09-23T01:49:17.815Z"
   },
   {
    "duration": 25,
    "start_time": "2023-09-23T01:49:17.829Z"
   },
   {
    "duration": 35,
    "start_time": "2023-09-23T01:49:17.855Z"
   },
   {
    "duration": 28,
    "start_time": "2023-09-23T01:49:17.892Z"
   },
   {
    "duration": 40,
    "start_time": "2023-09-23T01:49:17.922Z"
   },
   {
    "duration": 89,
    "start_time": "2023-09-23T01:49:17.964Z"
   },
   {
    "duration": 28,
    "start_time": "2023-09-23T01:49:18.055Z"
   },
   {
    "duration": 43,
    "start_time": "2023-09-23T01:49:18.084Z"
   },
   {
    "duration": 30,
    "start_time": "2023-09-23T01:49:18.129Z"
   },
   {
    "duration": 67,
    "start_time": "2023-09-23T01:49:18.160Z"
   },
   {
    "duration": 4,
    "start_time": "2023-09-23T01:49:18.230Z"
   },
   {
    "duration": 45,
    "start_time": "2023-09-23T01:49:18.236Z"
   },
   {
    "duration": 28,
    "start_time": "2023-09-23T01:49:18.283Z"
   },
   {
    "duration": 30,
    "start_time": "2023-09-23T01:49:18.313Z"
   },
   {
    "duration": 37,
    "start_time": "2023-09-23T01:49:18.345Z"
   },
   {
    "duration": 26,
    "start_time": "2023-09-23T01:49:18.384Z"
   },
   {
    "duration": 28,
    "start_time": "2023-09-23T01:49:18.411Z"
   },
   {
    "duration": 55,
    "start_time": "2023-09-23T01:49:18.440Z"
   },
   {
    "duration": 19724,
    "start_time": "2023-09-23T01:49:18.524Z"
   },
   {
    "duration": 2,
    "start_time": "2023-09-23T01:49:38.250Z"
   },
   {
    "duration": 33,
    "start_time": "2023-09-23T01:49:38.254Z"
   },
   {
    "duration": 1351,
    "start_time": "2023-09-23T01:55:22.525Z"
   },
   {
    "duration": 182,
    "start_time": "2023-09-23T01:55:23.878Z"
   },
   {
    "duration": 48,
    "start_time": "2023-09-23T01:55:24.061Z"
   },
   {
    "duration": 13,
    "start_time": "2023-09-23T01:55:24.111Z"
   },
   {
    "duration": 19,
    "start_time": "2023-09-23T01:55:24.126Z"
   },
   {
    "duration": 30,
    "start_time": "2023-09-23T01:55:24.146Z"
   },
   {
    "duration": 21,
    "start_time": "2023-09-23T01:55:24.177Z"
   },
   {
    "duration": 59,
    "start_time": "2023-09-23T01:55:24.200Z"
   },
   {
    "duration": 57,
    "start_time": "2023-09-23T01:55:24.261Z"
   },
   {
    "duration": 17,
    "start_time": "2023-09-23T01:55:24.320Z"
   },
   {
    "duration": 37,
    "start_time": "2023-09-23T01:55:24.339Z"
   },
   {
    "duration": 16,
    "start_time": "2023-09-23T01:55:24.378Z"
   },
   {
    "duration": 61,
    "start_time": "2023-09-23T01:55:24.396Z"
   },
   {
    "duration": 4,
    "start_time": "2023-09-23T01:55:24.461Z"
   },
   {
    "duration": 49,
    "start_time": "2023-09-23T01:55:24.467Z"
   },
   {
    "duration": 9,
    "start_time": "2023-09-23T01:55:24.518Z"
   },
   {
    "duration": 23,
    "start_time": "2023-09-23T01:55:24.528Z"
   },
   {
    "duration": 36,
    "start_time": "2023-09-23T01:55:24.553Z"
   },
   {
    "duration": 32,
    "start_time": "2023-09-23T01:55:24.590Z"
   },
   {
    "duration": 32,
    "start_time": "2023-09-23T01:55:24.624Z"
   },
   {
    "duration": 66,
    "start_time": "2023-09-23T01:55:24.658Z"
   },
   {
    "duration": 23679,
    "start_time": "2023-09-23T01:55:24.726Z"
   },
   {
    "duration": 3,
    "start_time": "2023-09-23T01:55:48.406Z"
   },
   {
    "duration": 15,
    "start_time": "2023-09-23T01:55:48.410Z"
   },
   {
    "duration": 6,
    "start_time": "2023-09-23T01:56:41.875Z"
   },
   {
    "duration": 2,
    "start_time": "2023-09-23T01:56:48.867Z"
   },
   {
    "duration": 22,
    "start_time": "2023-09-23T01:56:49.798Z"
   },
   {
    "duration": 26317,
    "start_time": "2023-09-23T01:57:01.028Z"
   },
   {
    "duration": 6,
    "start_time": "2023-09-23T01:57:40.091Z"
   },
   {
    "duration": 1405,
    "start_time": "2023-09-23T01:58:09.039Z"
   },
   {
    "duration": 183,
    "start_time": "2023-09-23T01:58:10.446Z"
   },
   {
    "duration": 51,
    "start_time": "2023-09-23T01:58:10.631Z"
   },
   {
    "duration": 41,
    "start_time": "2023-09-23T01:58:10.683Z"
   },
   {
    "duration": 5,
    "start_time": "2023-09-23T01:58:10.726Z"
   },
   {
    "duration": 77,
    "start_time": "2023-09-23T01:58:10.732Z"
   },
   {
    "duration": 24,
    "start_time": "2023-09-23T01:58:10.811Z"
   },
   {
    "duration": 24,
    "start_time": "2023-09-23T01:58:10.837Z"
   },
   {
    "duration": 48,
    "start_time": "2023-09-23T01:58:10.863Z"
   },
   {
    "duration": 19,
    "start_time": "2023-09-23T01:58:10.913Z"
   },
   {
    "duration": 24,
    "start_time": "2023-09-23T01:58:10.934Z"
   },
   {
    "duration": 32,
    "start_time": "2023-09-23T01:58:10.959Z"
   },
   {
    "duration": 68,
    "start_time": "2023-09-23T01:58:10.993Z"
   },
   {
    "duration": 4,
    "start_time": "2023-09-23T01:58:11.063Z"
   },
   {
    "duration": 44,
    "start_time": "2023-09-23T01:58:11.069Z"
   },
   {
    "duration": 14,
    "start_time": "2023-09-23T01:58:11.114Z"
   },
   {
    "duration": 48,
    "start_time": "2023-09-23T01:58:11.129Z"
   },
   {
    "duration": 41,
    "start_time": "2023-09-23T01:58:11.179Z"
   },
   {
    "duration": 65,
    "start_time": "2023-09-23T01:58:11.222Z"
   },
   {
    "duration": 53,
    "start_time": "2023-09-23T01:58:11.288Z"
   },
   {
    "duration": 56,
    "start_time": "2023-09-23T01:58:11.342Z"
   },
   {
    "duration": 25546,
    "start_time": "2023-09-23T01:58:11.399Z"
   },
   {
    "duration": 3,
    "start_time": "2023-09-23T01:58:36.946Z"
   },
   {
    "duration": 26,
    "start_time": "2023-09-23T01:58:36.950Z"
   },
   {
    "duration": 1446,
    "start_time": "2023-09-23T02:01:10.635Z"
   },
   {
    "duration": 9,
    "start_time": "2023-09-23T02:09:37.469Z"
   },
   {
    "duration": 1634,
    "start_time": "2023-09-23T02:12:36.420Z"
   },
   {
    "duration": 1689,
    "start_time": "2023-09-23T02:16:11.374Z"
   },
   {
    "duration": 1657,
    "start_time": "2023-09-23T02:18:27.662Z"
   },
   {
    "duration": 1666,
    "start_time": "2023-09-23T02:18:55.023Z"
   },
   {
    "duration": 1302,
    "start_time": "2023-09-23T02:20:27.557Z"
   },
   {
    "duration": 1393,
    "start_time": "2023-09-23T02:22:03.211Z"
   },
   {
    "duration": 186,
    "start_time": "2023-09-23T02:22:04.606Z"
   },
   {
    "duration": 53,
    "start_time": "2023-09-23T02:22:04.794Z"
   },
   {
    "duration": 12,
    "start_time": "2023-09-23T02:22:04.848Z"
   },
   {
    "duration": 5,
    "start_time": "2023-09-23T02:22:04.862Z"
   },
   {
    "duration": 17,
    "start_time": "2023-09-23T02:22:04.868Z"
   },
   {
    "duration": 5,
    "start_time": "2023-09-23T02:22:04.887Z"
   },
   {
    "duration": 30,
    "start_time": "2023-09-23T02:22:04.893Z"
   },
   {
    "duration": 41,
    "start_time": "2023-09-23T02:22:04.925Z"
   },
   {
    "duration": 18,
    "start_time": "2023-09-23T02:22:04.968Z"
   },
   {
    "duration": 18,
    "start_time": "2023-09-23T02:22:04.987Z"
   },
   {
    "duration": 7,
    "start_time": "2023-09-23T02:22:05.023Z"
   },
   {
    "duration": 1744,
    "start_time": "2023-09-23T02:22:05.032Z"
   },
   {
    "duration": 0,
    "start_time": "2023-09-23T02:22:06.778Z"
   },
   {
    "duration": 0,
    "start_time": "2023-09-23T02:22:06.779Z"
   },
   {
    "duration": 0,
    "start_time": "2023-09-23T02:22:06.780Z"
   },
   {
    "duration": 0,
    "start_time": "2023-09-23T02:22:06.781Z"
   },
   {
    "duration": 0,
    "start_time": "2023-09-23T02:22:06.782Z"
   },
   {
    "duration": 0,
    "start_time": "2023-09-23T02:22:06.784Z"
   },
   {
    "duration": 0,
    "start_time": "2023-09-23T02:22:06.784Z"
   },
   {
    "duration": 0,
    "start_time": "2023-09-23T02:22:06.786Z"
   },
   {
    "duration": 0,
    "start_time": "2023-09-23T02:22:06.786Z"
   },
   {
    "duration": 0,
    "start_time": "2023-09-23T02:22:06.787Z"
   },
   {
    "duration": 0,
    "start_time": "2023-09-23T02:22:06.788Z"
   },
   {
    "duration": 0,
    "start_time": "2023-09-23T02:22:06.789Z"
   },
   {
    "duration": 1423,
    "start_time": "2023-09-23T02:22:52.468Z"
   },
   {
    "duration": 1374,
    "start_time": "2023-09-23T02:23:01.958Z"
   },
   {
    "duration": 215,
    "start_time": "2023-09-23T02:23:03.333Z"
   },
   {
    "duration": 49,
    "start_time": "2023-09-23T02:23:03.549Z"
   },
   {
    "duration": 11,
    "start_time": "2023-09-23T02:23:03.600Z"
   },
   {
    "duration": 4,
    "start_time": "2023-09-23T02:23:03.612Z"
   },
   {
    "duration": 26,
    "start_time": "2023-09-23T02:23:03.617Z"
   },
   {
    "duration": 15,
    "start_time": "2023-09-23T02:23:03.645Z"
   },
   {
    "duration": 23,
    "start_time": "2023-09-23T02:23:03.662Z"
   },
   {
    "duration": 40,
    "start_time": "2023-09-23T02:23:03.687Z"
   },
   {
    "duration": 19,
    "start_time": "2023-09-23T02:23:03.730Z"
   },
   {
    "duration": 30,
    "start_time": "2023-09-23T02:23:03.751Z"
   },
   {
    "duration": 4,
    "start_time": "2023-09-23T02:23:03.782Z"
   },
   {
    "duration": 12,
    "start_time": "2023-09-23T02:23:03.788Z"
   },
   {
    "duration": 43,
    "start_time": "2023-09-23T02:23:03.802Z"
   },
   {
    "duration": 4,
    "start_time": "2023-09-23T02:23:03.846Z"
   },
   {
    "duration": 27,
    "start_time": "2023-09-23T02:23:03.852Z"
   },
   {
    "duration": 4,
    "start_time": "2023-09-23T02:23:03.880Z"
   },
   {
    "duration": 10,
    "start_time": "2023-09-23T02:23:03.886Z"
   },
   {
    "duration": 12,
    "start_time": "2023-09-23T02:23:03.898Z"
   },
   {
    "duration": 6,
    "start_time": "2023-09-23T02:23:03.911Z"
   },
   {
    "duration": 2,
    "start_time": "2023-09-23T02:23:03.919Z"
   },
   {
    "duration": 22,
    "start_time": "2023-09-23T02:23:03.923Z"
   },
   {
    "duration": 26345,
    "start_time": "2023-09-23T02:23:03.947Z"
   },
   {
    "duration": 1466,
    "start_time": "2023-09-23T02:23:30.294Z"
   },
   {
    "duration": 0,
    "start_time": "2023-09-23T02:23:31.762Z"
   },
   {
    "duration": 14,
    "start_time": "2023-09-23T02:24:15.718Z"
   },
   {
    "duration": 1419,
    "start_time": "2023-09-23T02:24:36.533Z"
   },
   {
    "duration": 184,
    "start_time": "2023-09-23T02:24:37.954Z"
   },
   {
    "duration": 53,
    "start_time": "2023-09-23T02:24:38.140Z"
   },
   {
    "duration": 11,
    "start_time": "2023-09-23T02:24:38.195Z"
   },
   {
    "duration": 5,
    "start_time": "2023-09-23T02:24:38.224Z"
   },
   {
    "duration": 39,
    "start_time": "2023-09-23T02:24:38.230Z"
   },
   {
    "duration": 25,
    "start_time": "2023-09-23T02:24:38.270Z"
   },
   {
    "duration": 62,
    "start_time": "2023-09-23T02:24:38.296Z"
   },
   {
    "duration": 99,
    "start_time": "2023-09-23T02:24:38.359Z"
   },
   {
    "duration": 21,
    "start_time": "2023-09-23T02:24:38.462Z"
   },
   {
    "duration": 26,
    "start_time": "2023-09-23T02:24:38.484Z"
   },
   {
    "duration": 19,
    "start_time": "2023-09-23T02:24:38.512Z"
   },
   {
    "duration": 22,
    "start_time": "2023-09-23T02:24:38.533Z"
   },
   {
    "duration": 51,
    "start_time": "2023-09-23T02:24:38.557Z"
   },
   {
    "duration": 5,
    "start_time": "2023-09-23T02:24:38.611Z"
   },
   {
    "duration": 21,
    "start_time": "2023-09-23T02:24:38.623Z"
   },
   {
    "duration": 5,
    "start_time": "2023-09-23T02:24:38.647Z"
   },
   {
    "duration": 12,
    "start_time": "2023-09-23T02:24:38.654Z"
   },
   {
    "duration": 23,
    "start_time": "2023-09-23T02:24:38.668Z"
   },
   {
    "duration": 10,
    "start_time": "2023-09-23T02:24:38.693Z"
   },
   {
    "duration": 7,
    "start_time": "2023-09-23T02:24:38.705Z"
   },
   {
    "duration": 29,
    "start_time": "2023-09-23T02:24:38.713Z"
   },
   {
    "duration": 28238,
    "start_time": "2023-09-23T02:24:38.744Z"
   },
   {
    "duration": 1426,
    "start_time": "2023-09-23T02:25:06.984Z"
   },
   {
    "duration": 0,
    "start_time": "2023-09-23T02:25:08.412Z"
   },
   {
    "duration": 1426,
    "start_time": "2023-09-23T02:25:58.000Z"
   },
   {
    "duration": 7,
    "start_time": "2023-09-23T02:27:14.299Z"
   },
   {
    "duration": 1389,
    "start_time": "2023-09-23T02:27:21.962Z"
   },
   {
    "duration": 182,
    "start_time": "2023-09-23T02:27:23.353Z"
   },
   {
    "duration": 47,
    "start_time": "2023-09-23T02:27:23.536Z"
   },
   {
    "duration": 10,
    "start_time": "2023-09-23T02:27:23.585Z"
   },
   {
    "duration": 9,
    "start_time": "2023-09-23T02:27:23.596Z"
   },
   {
    "duration": 11,
    "start_time": "2023-09-23T02:27:23.623Z"
   },
   {
    "duration": 28,
    "start_time": "2023-09-23T02:27:23.636Z"
   },
   {
    "duration": 35,
    "start_time": "2023-09-23T02:27:23.666Z"
   },
   {
    "duration": 72,
    "start_time": "2023-09-23T02:27:23.703Z"
   },
   {
    "duration": 18,
    "start_time": "2023-09-23T02:27:23.777Z"
   },
   {
    "duration": 38,
    "start_time": "2023-09-23T02:27:23.796Z"
   },
   {
    "duration": 15,
    "start_time": "2023-09-23T02:27:23.836Z"
   },
   {
    "duration": 49,
    "start_time": "2023-09-23T02:27:23.852Z"
   },
   {
    "duration": 56,
    "start_time": "2023-09-23T02:27:23.902Z"
   },
   {
    "duration": 4,
    "start_time": "2023-09-23T02:27:23.960Z"
   },
   {
    "duration": 23,
    "start_time": "2023-09-23T02:27:23.965Z"
   },
   {
    "duration": 9,
    "start_time": "2023-09-23T02:27:23.989Z"
   },
   {
    "duration": 24,
    "start_time": "2023-09-23T02:27:24.000Z"
   },
   {
    "duration": 37,
    "start_time": "2023-09-23T02:27:24.026Z"
   },
   {
    "duration": 26,
    "start_time": "2023-09-23T02:27:24.065Z"
   },
   {
    "duration": 25,
    "start_time": "2023-09-23T02:27:24.093Z"
   },
   {
    "duration": 205,
    "start_time": "2023-09-23T02:27:24.119Z"
   },
   {
    "duration": 24169,
    "start_time": "2023-09-23T02:27:24.327Z"
   },
   {
    "duration": 18432,
    "start_time": "2023-09-23T02:27:48.498Z"
   },
   {
    "duration": 91,
    "start_time": "2023-09-23T02:28:06.935Z"
   },
   {
    "duration": 1363,
    "start_time": "2023-09-23T02:28:57.719Z"
   },
   {
    "duration": 183,
    "start_time": "2023-09-23T02:28:59.083Z"
   },
   {
    "duration": 48,
    "start_time": "2023-09-23T02:28:59.268Z"
   },
   {
    "duration": 12,
    "start_time": "2023-09-23T02:28:59.318Z"
   },
   {
    "duration": 4,
    "start_time": "2023-09-23T02:28:59.331Z"
   },
   {
    "duration": 7,
    "start_time": "2023-09-23T02:28:59.336Z"
   },
   {
    "duration": 5,
    "start_time": "2023-09-23T02:28:59.344Z"
   },
   {
    "duration": 7,
    "start_time": "2023-09-23T02:28:59.350Z"
   },
   {
    "duration": 42,
    "start_time": "2023-09-23T02:28:59.358Z"
   },
   {
    "duration": 38,
    "start_time": "2023-09-23T02:28:59.403Z"
   },
   {
    "duration": 17,
    "start_time": "2023-09-23T02:28:59.442Z"
   },
   {
    "duration": 5,
    "start_time": "2023-09-23T02:28:59.461Z"
   },
   {
    "duration": 6,
    "start_time": "2023-09-23T02:28:59.467Z"
   },
   {
    "duration": 62,
    "start_time": "2023-09-23T02:28:59.475Z"
   },
   {
    "duration": 4,
    "start_time": "2023-09-23T02:28:59.538Z"
   },
   {
    "duration": 15,
    "start_time": "2023-09-23T02:28:59.543Z"
   },
   {
    "duration": 3,
    "start_time": "2023-09-23T02:28:59.560Z"
   },
   {
    "duration": 8,
    "start_time": "2023-09-23T02:28:59.564Z"
   },
   {
    "duration": 10,
    "start_time": "2023-09-23T02:28:59.573Z"
   },
   {
    "duration": 8,
    "start_time": "2023-09-23T02:28:59.585Z"
   },
   {
    "duration": 29,
    "start_time": "2023-09-23T02:28:59.595Z"
   },
   {
    "duration": 23,
    "start_time": "2023-09-23T02:28:59.626Z"
   },
   {
    "duration": 24288,
    "start_time": "2023-09-23T02:28:59.651Z"
   },
   {
    "duration": 15583,
    "start_time": "2023-09-23T02:29:23.941Z"
   },
   {
    "duration": 3,
    "start_time": "2023-09-23T02:29:39.527Z"
   },
   {
    "duration": 1332,
    "start_time": "2023-09-23T02:30:20.085Z"
   },
   {
    "duration": 184,
    "start_time": "2023-09-23T02:30:21.419Z"
   },
   {
    "duration": 98,
    "start_time": "2023-09-23T02:30:21.604Z"
   },
   {
    "duration": 56,
    "start_time": "2023-09-23T02:30:21.704Z"
   },
   {
    "duration": 24,
    "start_time": "2023-09-23T02:30:21.762Z"
   },
   {
    "duration": 15,
    "start_time": "2023-09-23T02:30:21.788Z"
   },
   {
    "duration": 17,
    "start_time": "2023-09-23T02:30:21.805Z"
   },
   {
    "duration": 47,
    "start_time": "2023-09-23T02:30:21.824Z"
   },
   {
    "duration": 55,
    "start_time": "2023-09-23T02:30:21.873Z"
   },
   {
    "duration": 17,
    "start_time": "2023-09-23T02:30:21.931Z"
   },
   {
    "duration": 90,
    "start_time": "2023-09-23T02:30:21.950Z"
   },
   {
    "duration": 27,
    "start_time": "2023-09-23T02:30:22.042Z"
   },
   {
    "duration": 14,
    "start_time": "2023-09-23T02:30:22.071Z"
   },
   {
    "duration": 56,
    "start_time": "2023-09-23T02:30:22.087Z"
   },
   {
    "duration": 4,
    "start_time": "2023-09-23T02:30:22.144Z"
   },
   {
    "duration": 32,
    "start_time": "2023-09-23T02:30:22.150Z"
   },
   {
    "duration": 22,
    "start_time": "2023-09-23T02:30:22.184Z"
   },
   {
    "duration": 42,
    "start_time": "2023-09-23T02:30:22.207Z"
   },
   {
    "duration": 22,
    "start_time": "2023-09-23T02:30:22.251Z"
   },
   {
    "duration": 18,
    "start_time": "2023-09-23T02:30:22.275Z"
   },
   {
    "duration": 211,
    "start_time": "2023-09-23T02:30:22.294Z"
   },
   {
    "duration": 0,
    "start_time": "2023-09-23T02:30:22.507Z"
   },
   {
    "duration": 0,
    "start_time": "2023-09-23T02:30:22.508Z"
   },
   {
    "duration": 0,
    "start_time": "2023-09-23T02:30:22.509Z"
   },
   {
    "duration": 0,
    "start_time": "2023-09-23T02:30:22.510Z"
   },
   {
    "duration": 1318,
    "start_time": "2023-09-23T02:30:51.669Z"
   },
   {
    "duration": 184,
    "start_time": "2023-09-23T02:30:52.989Z"
   },
   {
    "duration": 53,
    "start_time": "2023-09-23T02:30:53.175Z"
   },
   {
    "duration": 12,
    "start_time": "2023-09-23T02:30:53.230Z"
   },
   {
    "duration": 16,
    "start_time": "2023-09-23T02:30:53.244Z"
   },
   {
    "duration": 12,
    "start_time": "2023-09-23T02:30:53.261Z"
   },
   {
    "duration": 15,
    "start_time": "2023-09-23T02:30:53.274Z"
   },
   {
    "duration": 11,
    "start_time": "2023-09-23T02:30:53.291Z"
   },
   {
    "duration": 45,
    "start_time": "2023-09-23T02:30:53.303Z"
   },
   {
    "duration": 17,
    "start_time": "2023-09-23T02:30:53.351Z"
   },
   {
    "duration": 24,
    "start_time": "2023-09-23T02:30:53.370Z"
   },
   {
    "duration": 5,
    "start_time": "2023-09-23T02:30:53.396Z"
   },
   {
    "duration": 22,
    "start_time": "2023-09-23T02:30:53.403Z"
   },
   {
    "duration": 45,
    "start_time": "2023-09-23T02:30:53.427Z"
   },
   {
    "duration": 6,
    "start_time": "2023-09-23T02:30:53.474Z"
   },
   {
    "duration": 43,
    "start_time": "2023-09-23T02:30:53.482Z"
   },
   {
    "duration": 5,
    "start_time": "2023-09-23T02:30:53.527Z"
   },
   {
    "duration": 4,
    "start_time": "2023-09-23T02:30:53.534Z"
   },
   {
    "duration": 15,
    "start_time": "2023-09-23T02:30:53.539Z"
   },
   {
    "duration": 9,
    "start_time": "2023-09-23T02:30:53.556Z"
   },
   {
    "duration": 7,
    "start_time": "2023-09-23T02:30:53.567Z"
   },
   {
    "duration": 23,
    "start_time": "2023-09-23T02:30:53.576Z"
   },
   {
    "duration": 28620,
    "start_time": "2023-09-23T02:30:53.624Z"
   },
   {
    "duration": 1512,
    "start_time": "2023-09-23T02:31:22.245Z"
   },
   {
    "duration": 0,
    "start_time": "2023-09-23T02:31:23.759Z"
   },
   {
    "duration": 10,
    "start_time": "2023-09-23T02:46:40.422Z"
   },
   {
    "duration": 4563,
    "start_time": "2023-09-23T02:47:10.933Z"
   },
   {
    "duration": 4702,
    "start_time": "2023-09-23T02:47:17.070Z"
   },
   {
    "duration": 3,
    "start_time": "2023-09-23T02:48:10.234Z"
   },
   {
    "duration": 4867,
    "start_time": "2023-09-23T02:48:18.361Z"
   },
   {
    "duration": 5424,
    "start_time": "2023-09-23T03:18:08.810Z"
   },
   {
    "duration": 248,
    "start_time": "2023-09-23T03:18:14.238Z"
   },
   {
    "duration": 81,
    "start_time": "2023-09-23T03:18:14.488Z"
   },
   {
    "duration": 40,
    "start_time": "2023-09-23T03:18:14.573Z"
   },
   {
    "duration": 7,
    "start_time": "2023-09-23T03:18:14.615Z"
   },
   {
    "duration": 32,
    "start_time": "2023-09-23T03:18:14.624Z"
   },
   {
    "duration": 99,
    "start_time": "2023-09-23T03:18:14.659Z"
   },
   {
    "duration": 6,
    "start_time": "2023-09-23T03:18:14.883Z"
   },
   {
    "duration": 57,
    "start_time": "2023-09-23T03:18:27.327Z"
   },
   {
    "duration": 30,
    "start_time": "2023-09-23T03:18:32.545Z"
   },
   {
    "duration": 22,
    "start_time": "2023-09-23T03:18:34.016Z"
   },
   {
    "duration": 6,
    "start_time": "2023-09-23T03:18:34.629Z"
   },
   {
    "duration": 9,
    "start_time": "2023-09-23T03:18:35.917Z"
   },
   {
    "duration": 66,
    "start_time": "2023-09-23T03:18:37.350Z"
   },
   {
    "duration": 6,
    "start_time": "2023-09-23T03:18:38.015Z"
   },
   {
    "duration": 20,
    "start_time": "2023-09-23T03:18:40.836Z"
   },
   {
    "duration": 6,
    "start_time": "2023-09-23T03:18:41.407Z"
   },
   {
    "duration": 3,
    "start_time": "2023-09-23T03:18:44.759Z"
   },
   {
    "duration": 14,
    "start_time": "2023-09-23T03:18:45.627Z"
   },
   {
    "duration": 9,
    "start_time": "2023-09-23T03:18:46.151Z"
   },
   {
    "duration": 3,
    "start_time": "2023-09-23T03:18:47.153Z"
   },
   {
    "duration": 30,
    "start_time": "2023-09-23T03:18:47.811Z"
   },
   {
    "duration": 87,
    "start_time": "2023-09-23T15:03:51.919Z"
   },
   {
    "duration": 1729,
    "start_time": "2023-09-23T15:04:00.326Z"
   },
   {
    "duration": 964,
    "start_time": "2023-09-23T15:04:02.059Z"
   },
   {
    "duration": 77,
    "start_time": "2023-09-23T15:04:03.026Z"
   },
   {
    "duration": 17,
    "start_time": "2023-09-23T15:04:03.106Z"
   },
   {
    "duration": 6,
    "start_time": "2023-09-23T15:04:03.126Z"
   },
   {
    "duration": 44,
    "start_time": "2023-09-23T15:04:03.133Z"
   },
   {
    "duration": 20,
    "start_time": "2023-09-23T15:04:03.179Z"
   },
   {
    "duration": 17,
    "start_time": "2023-09-23T15:04:03.201Z"
   },
   {
    "duration": 89,
    "start_time": "2023-09-23T15:04:03.220Z"
   },
   {
    "duration": 31,
    "start_time": "2023-09-23T15:04:03.311Z"
   },
   {
    "duration": 42,
    "start_time": "2023-09-23T15:04:03.344Z"
   },
   {
    "duration": 10,
    "start_time": "2023-09-23T15:04:03.396Z"
   },
   {
    "duration": 30,
    "start_time": "2023-09-23T15:04:03.408Z"
   },
   {
    "duration": 83,
    "start_time": "2023-09-23T15:04:03.441Z"
   },
   {
    "duration": 6,
    "start_time": "2023-09-23T15:04:03.527Z"
   },
   {
    "duration": 15,
    "start_time": "2023-09-23T15:04:03.534Z"
   },
   {
    "duration": 11,
    "start_time": "2023-09-23T15:04:03.559Z"
   },
   {
    "duration": 15,
    "start_time": "2023-09-23T15:04:03.573Z"
   },
   {
    "duration": 16,
    "start_time": "2023-09-23T15:04:03.591Z"
   },
   {
    "duration": 8,
    "start_time": "2023-09-23T15:04:03.610Z"
   },
   {
    "duration": 9,
    "start_time": "2023-09-23T15:04:03.620Z"
   },
   {
    "duration": 81,
    "start_time": "2023-09-23T15:04:03.632Z"
   },
   {
    "duration": 42412,
    "start_time": "2023-09-23T15:04:03.715Z"
   },
   {
    "duration": 2200,
    "start_time": "2023-09-23T15:04:46.130Z"
   },
   {
    "duration": 0,
    "start_time": "2023-09-23T15:04:48.333Z"
   },
   {
    "duration": 0,
    "start_time": "2023-09-23T15:04:48.335Z"
   },
   {
    "duration": 0,
    "start_time": "2023-09-23T15:04:48.337Z"
   },
   {
    "duration": 2248,
    "start_time": "2023-09-23T15:07:13.199Z"
   },
   {
    "duration": 311,
    "start_time": "2023-09-23T15:07:15.450Z"
   },
   {
    "duration": 121,
    "start_time": "2023-09-23T15:07:15.763Z"
   },
   {
    "duration": 40,
    "start_time": "2023-09-23T15:07:15.892Z"
   },
   {
    "duration": 5,
    "start_time": "2023-09-23T15:07:15.935Z"
   },
   {
    "duration": 12,
    "start_time": "2023-09-23T15:07:15.943Z"
   },
   {
    "duration": 8,
    "start_time": "2023-09-23T15:07:15.958Z"
   },
   {
    "duration": 6,
    "start_time": "2023-09-23T15:07:15.969Z"
   },
   {
    "duration": 114,
    "start_time": "2023-09-23T15:07:15.978Z"
   },
   {
    "duration": 37,
    "start_time": "2023-09-23T15:07:16.098Z"
   },
   {
    "duration": 31,
    "start_time": "2023-09-23T15:07:16.138Z"
   },
   {
    "duration": 6,
    "start_time": "2023-09-23T15:07:16.172Z"
   },
   {
    "duration": 23,
    "start_time": "2023-09-23T15:07:16.181Z"
   },
   {
    "duration": 92,
    "start_time": "2023-09-23T15:07:16.207Z"
   },
   {
    "duration": 5,
    "start_time": "2023-09-23T15:07:16.301Z"
   },
   {
    "duration": 19,
    "start_time": "2023-09-23T15:07:16.308Z"
   },
   {
    "duration": 6,
    "start_time": "2023-09-23T15:07:16.329Z"
   },
   {
    "duration": 9,
    "start_time": "2023-09-23T15:07:16.337Z"
   },
   {
    "duration": 26,
    "start_time": "2023-09-23T15:07:16.361Z"
   },
   {
    "duration": 18,
    "start_time": "2023-09-23T15:07:16.399Z"
   },
   {
    "duration": 4,
    "start_time": "2023-09-23T15:07:16.427Z"
   },
   {
    "duration": 31,
    "start_time": "2023-09-23T15:07:16.433Z"
   },
   {
    "duration": 46530,
    "start_time": "2023-09-23T15:07:16.466Z"
   },
   {
    "duration": 8,
    "start_time": "2023-09-23T15:08:02.999Z"
   },
   {
    "duration": 11,
    "start_time": "2023-09-23T15:08:03.009Z"
   },
   {
    "duration": 8757,
    "start_time": "2023-09-23T15:08:03.023Z"
   },
   {
    "duration": 9115,
    "start_time": "2023-09-23T15:08:11.787Z"
   },
   {
    "duration": 1925,
    "start_time": "2023-09-23T15:10:10.404Z"
   },
   {
    "duration": 2011,
    "start_time": "2023-09-23T15:10:21.185Z"
   },
   {
    "duration": 294,
    "start_time": "2023-09-23T15:10:23.198Z"
   },
   {
    "duration": 111,
    "start_time": "2023-09-23T15:10:23.496Z"
   },
   {
    "duration": 19,
    "start_time": "2023-09-23T15:10:23.609Z"
   },
   {
    "duration": 7,
    "start_time": "2023-09-23T15:10:23.633Z"
   },
   {
    "duration": 10,
    "start_time": "2023-09-23T15:10:23.642Z"
   },
   {
    "duration": 10,
    "start_time": "2023-09-23T15:10:23.658Z"
   },
   {
    "duration": 12,
    "start_time": "2023-09-23T15:10:23.671Z"
   },
   {
    "duration": 70,
    "start_time": "2023-09-23T15:10:23.686Z"
   },
   {
    "duration": 35,
    "start_time": "2023-09-23T15:10:23.761Z"
   },
   {
    "duration": 23,
    "start_time": "2023-09-23T15:10:23.798Z"
   },
   {
    "duration": 5,
    "start_time": "2023-09-23T15:10:23.823Z"
   },
   {
    "duration": 39,
    "start_time": "2023-09-23T15:10:23.829Z"
   },
   {
    "duration": 73,
    "start_time": "2023-09-23T15:10:23.872Z"
   },
   {
    "duration": 15,
    "start_time": "2023-09-23T15:10:23.947Z"
   },
   {
    "duration": 33,
    "start_time": "2023-09-23T15:10:23.965Z"
   },
   {
    "duration": 14,
    "start_time": "2023-09-23T15:10:24.000Z"
   },
   {
    "duration": 10,
    "start_time": "2023-09-23T15:10:24.018Z"
   },
   {
    "duration": 14,
    "start_time": "2023-09-23T15:10:24.031Z"
   },
   {
    "duration": 15,
    "start_time": "2023-09-23T15:10:24.047Z"
   },
   {
    "duration": 24,
    "start_time": "2023-09-23T15:10:24.064Z"
   },
   {
    "duration": 33,
    "start_time": "2023-09-23T15:10:24.093Z"
   },
   {
    "duration": 52537,
    "start_time": "2023-09-23T15:10:24.128Z"
   },
   {
    "duration": 2,
    "start_time": "2023-09-23T15:11:16.668Z"
   },
   {
    "duration": 30,
    "start_time": "2023-09-23T15:11:16.672Z"
   },
   {
    "duration": 7988,
    "start_time": "2023-09-23T15:11:16.704Z"
   },
   {
    "duration": 7633,
    "start_time": "2023-09-23T15:11:24.694Z"
   },
   {
    "duration": 1954,
    "start_time": "2023-09-23T15:11:36.376Z"
   },
   {
    "duration": 2124,
    "start_time": "2023-09-23T15:12:01.427Z"
   },
   {
    "duration": 319,
    "start_time": "2023-09-23T15:12:03.554Z"
   },
   {
    "duration": 118,
    "start_time": "2023-09-23T15:12:03.875Z"
   },
   {
    "duration": 23,
    "start_time": "2023-09-23T15:12:03.997Z"
   },
   {
    "duration": 7,
    "start_time": "2023-09-23T15:12:04.022Z"
   },
   {
    "duration": 29,
    "start_time": "2023-09-23T15:12:04.032Z"
   },
   {
    "duration": 7,
    "start_time": "2023-09-23T15:12:04.064Z"
   },
   {
    "duration": 14,
    "start_time": "2023-09-23T15:12:04.073Z"
   },
   {
    "duration": 85,
    "start_time": "2023-09-23T15:12:04.090Z"
   },
   {
    "duration": 18,
    "start_time": "2023-09-23T15:12:04.189Z"
   },
   {
    "duration": 29,
    "start_time": "2023-09-23T15:12:04.210Z"
   },
   {
    "duration": 63,
    "start_time": "2023-09-23T15:12:04.241Z"
   },
   {
    "duration": 5,
    "start_time": "2023-09-23T15:12:04.306Z"
   },
   {
    "duration": 39,
    "start_time": "2023-09-23T15:12:04.314Z"
   },
   {
    "duration": 83,
    "start_time": "2023-09-23T15:12:04.356Z"
   },
   {
    "duration": 6,
    "start_time": "2023-09-23T15:12:04.441Z"
   },
   {
    "duration": 110,
    "start_time": "2023-09-23T15:12:04.450Z"
   },
   {
    "duration": 20,
    "start_time": "2023-09-23T15:12:04.564Z"
   },
   {
    "duration": 22,
    "start_time": "2023-09-23T15:12:04.587Z"
   },
   {
    "duration": 48,
    "start_time": "2023-09-23T15:12:04.611Z"
   },
   {
    "duration": 18,
    "start_time": "2023-09-23T15:12:04.663Z"
   },
   {
    "duration": 7,
    "start_time": "2023-09-23T15:12:04.685Z"
   },
   {
    "duration": 43,
    "start_time": "2023-09-23T15:12:04.694Z"
   },
   {
    "duration": 48127,
    "start_time": "2023-09-23T15:12:04.740Z"
   },
   {
    "duration": 6,
    "start_time": "2023-09-23T15:12:52.874Z"
   },
   {
    "duration": 9,
    "start_time": "2023-09-23T15:12:52.888Z"
   },
   {
    "duration": 8493,
    "start_time": "2023-09-23T15:12:52.904Z"
   },
   {
    "duration": 8987,
    "start_time": "2023-09-23T15:13:01.402Z"
   },
   {
    "duration": 27,
    "start_time": "2023-09-23T15:13:10.397Z"
   },
   {
    "duration": 30,
    "start_time": "2023-09-23T15:13:43.672Z"
   },
   {
    "duration": 1953,
    "start_time": "2023-09-23T15:13:44.300Z"
   },
   {
    "duration": 0,
    "start_time": "2023-09-23T15:13:46.256Z"
   },
   {
    "duration": 1875,
    "start_time": "2023-09-23T15:14:11.725Z"
   },
   {
    "duration": 293,
    "start_time": "2023-09-23T15:14:13.604Z"
   },
   {
    "duration": 97,
    "start_time": "2023-09-23T15:14:13.900Z"
   },
   {
    "duration": 25,
    "start_time": "2023-09-23T15:14:14.000Z"
   },
   {
    "duration": 6,
    "start_time": "2023-09-23T15:14:14.028Z"
   },
   {
    "duration": 8,
    "start_time": "2023-09-23T15:14:14.036Z"
   },
   {
    "duration": 22,
    "start_time": "2023-09-23T15:14:14.046Z"
   },
   {
    "duration": 10,
    "start_time": "2023-09-23T15:14:14.071Z"
   },
   {
    "duration": 89,
    "start_time": "2023-09-23T15:14:14.083Z"
   },
   {
    "duration": 15,
    "start_time": "2023-09-23T15:14:14.174Z"
   },
   {
    "duration": 22,
    "start_time": "2023-09-23T15:14:14.192Z"
   },
   {
    "duration": 25,
    "start_time": "2023-09-23T15:14:14.217Z"
   },
   {
    "duration": 37,
    "start_time": "2023-09-23T15:14:14.244Z"
   },
   {
    "duration": 8,
    "start_time": "2023-09-23T15:14:14.285Z"
   },
   {
    "duration": 9,
    "start_time": "2023-09-23T15:14:14.296Z"
   },
   {
    "duration": 81,
    "start_time": "2023-09-23T15:14:14.307Z"
   },
   {
    "duration": 7,
    "start_time": "2023-09-23T15:14:14.390Z"
   },
   {
    "duration": 14,
    "start_time": "2023-09-23T15:14:14.399Z"
   },
   {
    "duration": 5,
    "start_time": "2023-09-23T15:14:14.416Z"
   },
   {
    "duration": 5,
    "start_time": "2023-09-23T15:14:14.423Z"
   },
   {
    "duration": 20,
    "start_time": "2023-09-23T15:14:14.460Z"
   },
   {
    "duration": 11,
    "start_time": "2023-09-23T15:14:14.482Z"
   },
   {
    "duration": 16,
    "start_time": "2023-09-23T15:14:14.496Z"
   },
   {
    "duration": 54,
    "start_time": "2023-09-23T15:14:14.515Z"
   },
   {
    "duration": 41338,
    "start_time": "2023-09-23T15:14:14.571Z"
   },
   {
    "duration": 3,
    "start_time": "2023-09-23T15:14:55.912Z"
   },
   {
    "duration": 8,
    "start_time": "2023-09-23T15:14:55.917Z"
   },
   {
    "duration": 7290,
    "start_time": "2023-09-23T15:14:55.927Z"
   },
   {
    "duration": 6779,
    "start_time": "2023-09-23T15:15:03.218Z"
   },
   {
    "duration": 16,
    "start_time": "2023-09-23T15:15:52.681Z"
   },
   {
    "duration": 9,
    "start_time": "2023-09-23T15:16:17.637Z"
   },
   {
    "duration": 13,
    "start_time": "2023-09-23T15:16:46.140Z"
   },
   {
    "duration": 150,
    "start_time": "2023-09-23T15:16:58.516Z"
   },
   {
    "duration": 16,
    "start_time": "2023-09-23T15:17:07.405Z"
   },
   {
    "duration": 1913,
    "start_time": "2023-09-23T15:17:42.314Z"
   },
   {
    "duration": 8,
    "start_time": "2023-09-23T15:17:57.472Z"
   },
   {
    "duration": 21,
    "start_time": "2023-09-23T15:18:56.784Z"
   },
   {
    "duration": 13,
    "start_time": "2023-09-23T15:19:05.328Z"
   },
   {
    "duration": 15,
    "start_time": "2023-09-23T15:19:17.846Z"
   },
   {
    "duration": 22,
    "start_time": "2023-09-23T15:20:01.150Z"
   },
   {
    "duration": 5,
    "start_time": "2023-09-23T15:20:04.323Z"
   },
   {
    "duration": 129,
    "start_time": "2023-09-23T15:20:05.736Z"
   },
   {
    "duration": 43172,
    "start_time": "2023-09-23T15:20:08.027Z"
   },
   {
    "duration": 5,
    "start_time": "2023-09-23T15:21:07.692Z"
   },
   {
    "duration": 7,
    "start_time": "2023-09-23T15:21:08.024Z"
   },
   {
    "duration": 7449,
    "start_time": "2023-09-23T15:21:09.081Z"
   },
   {
    "duration": 7208,
    "start_time": "2023-09-23T15:21:16.533Z"
   },
   {
    "duration": 47,
    "start_time": "2023-09-23T15:23:39.893Z"
   },
   {
    "duration": 14,
    "start_time": "2023-09-23T15:23:48.494Z"
   },
   {
    "duration": 9,
    "start_time": "2023-09-23T15:24:11.533Z"
   },
   {
    "duration": 29,
    "start_time": "2023-09-23T15:24:14.986Z"
   },
   {
    "duration": 20,
    "start_time": "2023-09-23T15:27:18.096Z"
   },
   {
    "duration": 17,
    "start_time": "2023-09-23T15:29:17.286Z"
   },
   {
    "duration": 17,
    "start_time": "2023-09-23T15:30:54.023Z"
   },
   {
    "duration": 15,
    "start_time": "2023-09-23T15:32:33.440Z"
   },
   {
    "duration": 610,
    "start_time": "2023-09-23T15:33:03.318Z"
   },
   {
    "duration": 47,
    "start_time": "2023-09-23T15:33:12.284Z"
   },
   {
    "duration": 188,
    "start_time": "2023-09-23T15:33:34.324Z"
   },
   {
    "duration": 656,
    "start_time": "2023-09-23T15:33:47.227Z"
   },
   {
    "duration": 8,
    "start_time": "2023-09-23T15:36:30.530Z"
   },
   {
    "duration": 6,
    "start_time": "2023-09-23T15:36:35.883Z"
   },
   {
    "duration": 16,
    "start_time": "2023-09-23T15:37:15.573Z"
   },
   {
    "duration": 118,
    "start_time": "2023-09-23T15:38:06.320Z"
   },
   {
    "duration": 140,
    "start_time": "2023-09-23T15:38:59.219Z"
   },
   {
    "duration": 17,
    "start_time": "2023-09-23T15:39:05.857Z"
   },
   {
    "duration": 2647,
    "start_time": "2023-09-23T15:41:40.398Z"
   },
   {
    "duration": 8,
    "start_time": "2023-09-23T15:45:00.605Z"
   },
   {
    "duration": 2759,
    "start_time": "2023-09-23T15:45:07.479Z"
   },
   {
    "duration": 391,
    "start_time": "2023-09-23T15:45:10.241Z"
   },
   {
    "duration": 125,
    "start_time": "2023-09-23T15:45:10.639Z"
   },
   {
    "duration": 47,
    "start_time": "2023-09-23T15:45:10.768Z"
   },
   {
    "duration": 16,
    "start_time": "2023-09-23T15:45:10.832Z"
   },
   {
    "duration": 11,
    "start_time": "2023-09-23T15:45:10.855Z"
   },
   {
    "duration": 29,
    "start_time": "2023-09-23T15:45:10.873Z"
   },
   {
    "duration": 22,
    "start_time": "2023-09-23T15:45:10.911Z"
   },
   {
    "duration": 97,
    "start_time": "2023-09-23T15:45:10.943Z"
   },
   {
    "duration": 8,
    "start_time": "2023-09-23T15:45:11.052Z"
   },
   {
    "duration": 19,
    "start_time": "2023-09-23T15:45:11.069Z"
   },
   {
    "duration": 21,
    "start_time": "2023-09-23T15:45:11.095Z"
   },
   {
    "duration": 41,
    "start_time": "2023-09-23T15:45:11.122Z"
   },
   {
    "duration": 31,
    "start_time": "2023-09-23T15:45:11.172Z"
   },
   {
    "duration": 9,
    "start_time": "2023-09-23T15:45:11.211Z"
   },
   {
    "duration": 11,
    "start_time": "2023-09-23T15:45:11.227Z"
   },
   {
    "duration": 90,
    "start_time": "2023-09-23T15:45:11.245Z"
   },
   {
    "duration": 6,
    "start_time": "2023-09-23T15:45:11.342Z"
   },
   {
    "duration": 28,
    "start_time": "2023-09-23T15:45:11.356Z"
   },
   {
    "duration": 17,
    "start_time": "2023-09-23T15:45:11.390Z"
   },
   {
    "duration": 17,
    "start_time": "2023-09-23T15:45:11.418Z"
   },
   {
    "duration": 22,
    "start_time": "2023-09-23T15:45:11.443Z"
   },
   {
    "duration": 10,
    "start_time": "2023-09-23T15:45:11.471Z"
   },
   {
    "duration": 6,
    "start_time": "2023-09-23T15:45:11.488Z"
   },
   {
    "duration": 106,
    "start_time": "2023-09-23T15:45:11.500Z"
   },
   {
    "duration": 42081,
    "start_time": "2023-09-23T15:45:11.614Z"
   },
   {
    "duration": 6,
    "start_time": "2023-09-23T15:45:53.697Z"
   },
   {
    "duration": 34,
    "start_time": "2023-09-23T15:45:53.705Z"
   },
   {
    "duration": 7384,
    "start_time": "2023-09-23T15:45:53.742Z"
   },
   {
    "duration": 7457,
    "start_time": "2023-09-23T15:46:01.129Z"
   },
   {
    "duration": 21,
    "start_time": "2023-09-23T15:46:08.597Z"
   },
   {
    "duration": 250,
    "start_time": "2023-09-23T15:46:08.621Z"
   },
   {
    "duration": 0,
    "start_time": "2023-09-23T15:46:08.885Z"
   },
   {
    "duration": 0,
    "start_time": "2023-09-23T15:46:08.888Z"
   },
   {
    "duration": 0,
    "start_time": "2023-09-23T15:46:08.889Z"
   },
   {
    "duration": 0,
    "start_time": "2023-09-23T15:46:08.890Z"
   },
   {
    "duration": 2586,
    "start_time": "2023-09-23T15:54:25.975Z"
   },
   {
    "duration": 359,
    "start_time": "2023-09-23T15:54:28.572Z"
   },
   {
    "duration": 97,
    "start_time": "2023-09-23T15:54:28.933Z"
   },
   {
    "duration": 21,
    "start_time": "2023-09-23T15:54:29.037Z"
   },
   {
    "duration": 7,
    "start_time": "2023-09-23T15:54:29.065Z"
   },
   {
    "duration": 11,
    "start_time": "2023-09-23T15:54:29.079Z"
   },
   {
    "duration": 9,
    "start_time": "2023-09-23T15:54:29.097Z"
   },
   {
    "duration": 6,
    "start_time": "2023-09-23T15:54:29.113Z"
   },
   {
    "duration": 70,
    "start_time": "2023-09-23T15:54:29.126Z"
   },
   {
    "duration": 7,
    "start_time": "2023-09-23T15:54:29.203Z"
   },
   {
    "duration": 16,
    "start_time": "2023-09-23T15:54:29.218Z"
   },
   {
    "duration": 22,
    "start_time": "2023-09-23T15:54:29.241Z"
   },
   {
    "duration": 39,
    "start_time": "2023-09-23T15:54:29.269Z"
   },
   {
    "duration": 32,
    "start_time": "2023-09-23T15:54:29.313Z"
   },
   {
    "duration": 6,
    "start_time": "2023-09-23T15:54:29.348Z"
   },
   {
    "duration": 34,
    "start_time": "2023-09-23T15:54:29.356Z"
   },
   {
    "duration": 105,
    "start_time": "2023-09-23T15:54:29.397Z"
   },
   {
    "duration": 11,
    "start_time": "2023-09-23T15:54:29.510Z"
   },
   {
    "duration": 34,
    "start_time": "2023-09-23T15:54:29.528Z"
   },
   {
    "duration": 9,
    "start_time": "2023-09-23T15:54:29.569Z"
   },
   {
    "duration": 12,
    "start_time": "2023-09-23T15:54:29.584Z"
   },
   {
    "duration": 26,
    "start_time": "2023-09-23T15:54:29.605Z"
   },
   {
    "duration": 15,
    "start_time": "2023-09-23T15:54:29.636Z"
   },
   {
    "duration": 12,
    "start_time": "2023-09-23T15:54:29.655Z"
   },
   {
    "duration": 194,
    "start_time": "2023-09-23T15:54:29.669Z"
   },
   {
    "duration": 41563,
    "start_time": "2023-09-23T15:54:29.876Z"
   },
   {
    "duration": 3,
    "start_time": "2023-09-23T15:55:11.442Z"
   },
   {
    "duration": 18,
    "start_time": "2023-09-23T15:55:11.448Z"
   },
   {
    "duration": 7039,
    "start_time": "2023-09-23T15:55:11.474Z"
   },
   {
    "duration": 6275,
    "start_time": "2023-09-23T15:55:18.515Z"
   },
   {
    "duration": 16,
    "start_time": "2023-09-23T15:55:24.792Z"
   },
   {
    "duration": 216,
    "start_time": "2023-09-23T15:55:24.812Z"
   },
   {
    "duration": 0,
    "start_time": "2023-09-23T15:55:25.031Z"
   },
   {
    "duration": 0,
    "start_time": "2023-09-23T15:55:25.033Z"
   },
   {
    "duration": 0,
    "start_time": "2023-09-23T15:55:25.034Z"
   },
   {
    "duration": 0,
    "start_time": "2023-09-23T15:55:25.036Z"
   },
   {
    "duration": 84,
    "start_time": "2023-09-28T12:08:55.401Z"
   },
   {
    "duration": 2044,
    "start_time": "2023-09-28T12:09:06.692Z"
   },
   {
    "duration": 957,
    "start_time": "2023-09-28T12:09:08.738Z"
   },
   {
    "duration": 79,
    "start_time": "2023-09-28T12:09:09.696Z"
   },
   {
    "duration": 45,
    "start_time": "2023-09-28T12:09:09.781Z"
   },
   {
    "duration": 19,
    "start_time": "2023-09-28T12:09:09.828Z"
   },
   {
    "duration": 42,
    "start_time": "2023-09-28T12:09:09.849Z"
   },
   {
    "duration": 6,
    "start_time": "2023-09-28T12:09:09.894Z"
   },
   {
    "duration": 15,
    "start_time": "2023-09-28T12:09:09.903Z"
   },
   {
    "duration": 65,
    "start_time": "2023-09-28T12:09:09.920Z"
   },
   {
    "duration": 6,
    "start_time": "2023-09-28T12:09:09.989Z"
   },
   {
    "duration": 25,
    "start_time": "2023-09-28T12:09:09.997Z"
   },
   {
    "duration": 43,
    "start_time": "2023-09-28T12:09:10.024Z"
   },
   {
    "duration": 30,
    "start_time": "2023-09-28T12:09:10.069Z"
   },
   {
    "duration": 38,
    "start_time": "2023-09-28T12:09:10.102Z"
   },
   {
    "duration": 46,
    "start_time": "2023-09-28T12:09:10.142Z"
   },
   {
    "duration": 42,
    "start_time": "2023-09-28T12:09:10.190Z"
   },
   {
    "duration": 81,
    "start_time": "2023-09-28T12:09:10.234Z"
   },
   {
    "duration": 6,
    "start_time": "2023-09-28T12:09:10.317Z"
   },
   {
    "duration": 47,
    "start_time": "2023-09-28T12:09:10.324Z"
   },
   {
    "duration": 19,
    "start_time": "2023-09-28T12:09:10.373Z"
   },
   {
    "duration": 28,
    "start_time": "2023-09-28T12:09:10.395Z"
   },
   {
    "duration": 51,
    "start_time": "2023-09-28T12:09:10.425Z"
   },
   {
    "duration": 54,
    "start_time": "2023-09-28T12:09:10.478Z"
   },
   {
    "duration": 202,
    "start_time": "2023-09-28T12:09:10.535Z"
   },
   {
    "duration": 0,
    "start_time": "2023-09-28T12:09:10.740Z"
   },
   {
    "duration": 0,
    "start_time": "2023-09-28T12:09:10.742Z"
   },
   {
    "duration": 0,
    "start_time": "2023-09-28T12:09:10.760Z"
   },
   {
    "duration": 0,
    "start_time": "2023-09-28T12:09:10.762Z"
   },
   {
    "duration": 0,
    "start_time": "2023-09-28T12:09:10.762Z"
   },
   {
    "duration": 0,
    "start_time": "2023-09-28T12:09:10.763Z"
   },
   {
    "duration": 0,
    "start_time": "2023-09-28T12:09:10.764Z"
   },
   {
    "duration": 0,
    "start_time": "2023-09-28T12:09:10.765Z"
   },
   {
    "duration": 0,
    "start_time": "2023-09-28T12:09:10.766Z"
   },
   {
    "duration": 0,
    "start_time": "2023-09-28T12:09:10.768Z"
   },
   {
    "duration": 0,
    "start_time": "2023-09-28T12:09:10.770Z"
   },
   {
    "duration": 0,
    "start_time": "2023-09-28T12:09:10.771Z"
   },
   {
    "duration": 0,
    "start_time": "2023-09-28T12:09:10.772Z"
   },
   {
    "duration": 13,
    "start_time": "2023-09-28T12:09:55.634Z"
   },
   {
    "duration": 1670,
    "start_time": "2023-09-28T12:10:03.925Z"
   },
   {
    "duration": 208,
    "start_time": "2023-09-28T12:10:05.597Z"
   },
   {
    "duration": 63,
    "start_time": "2023-09-28T12:10:05.806Z"
   },
   {
    "duration": 13,
    "start_time": "2023-09-28T12:10:05.871Z"
   },
   {
    "duration": 40,
    "start_time": "2023-09-28T12:10:05.888Z"
   },
   {
    "duration": 51,
    "start_time": "2023-09-28T12:10:05.929Z"
   },
   {
    "duration": 34,
    "start_time": "2023-09-28T12:10:05.983Z"
   },
   {
    "duration": 29,
    "start_time": "2023-09-28T12:10:06.019Z"
   },
   {
    "duration": 75,
    "start_time": "2023-09-28T12:10:06.054Z"
   },
   {
    "duration": 8,
    "start_time": "2023-09-28T12:10:06.133Z"
   },
   {
    "duration": 30,
    "start_time": "2023-09-28T12:10:06.143Z"
   },
   {
    "duration": 40,
    "start_time": "2023-09-28T12:10:06.175Z"
   },
   {
    "duration": 45,
    "start_time": "2023-09-28T12:10:06.217Z"
   },
   {
    "duration": 37,
    "start_time": "2023-09-28T12:10:06.265Z"
   },
   {
    "duration": 7,
    "start_time": "2023-09-28T12:10:06.304Z"
   },
   {
    "duration": 11,
    "start_time": "2023-09-28T12:10:06.313Z"
   },
   {
    "duration": 70,
    "start_time": "2023-09-28T12:10:06.326Z"
   },
   {
    "duration": 5,
    "start_time": "2023-09-28T12:10:06.399Z"
   },
   {
    "duration": 42,
    "start_time": "2023-09-28T12:10:06.406Z"
   },
   {
    "duration": 25,
    "start_time": "2023-09-28T12:10:06.450Z"
   },
   {
    "duration": 512,
    "start_time": "2023-09-28T12:10:06.477Z"
   },
   {
    "duration": 6,
    "start_time": "2023-09-28T12:10:06.991Z"
   },
   {
    "duration": 55,
    "start_time": "2023-09-28T12:10:06.999Z"
   },
   {
    "duration": 70,
    "start_time": "2023-09-28T12:10:07.056Z"
   },
   {
    "duration": 48,
    "start_time": "2023-09-28T12:10:07.127Z"
   },
   {
    "duration": 4,
    "start_time": "2023-09-28T12:10:07.176Z"
   },
   {
    "duration": 154,
    "start_time": "2023-09-28T12:10:07.182Z"
   },
   {
    "duration": 0,
    "start_time": "2023-09-28T12:10:07.338Z"
   },
   {
    "duration": 0,
    "start_time": "2023-09-28T12:10:07.339Z"
   },
   {
    "duration": 0,
    "start_time": "2023-09-28T12:10:07.340Z"
   },
   {
    "duration": 0,
    "start_time": "2023-09-28T12:10:07.341Z"
   },
   {
    "duration": 0,
    "start_time": "2023-09-28T12:10:07.342Z"
   },
   {
    "duration": 0,
    "start_time": "2023-09-28T12:10:07.343Z"
   },
   {
    "duration": 0,
    "start_time": "2023-09-28T12:10:07.344Z"
   },
   {
    "duration": 0,
    "start_time": "2023-09-28T12:10:07.345Z"
   },
   {
    "duration": 0,
    "start_time": "2023-09-28T12:10:07.346Z"
   },
   {
    "duration": 0,
    "start_time": "2023-09-28T12:10:07.347Z"
   },
   {
    "duration": 74,
    "start_time": "2023-09-28T12:10:31.506Z"
   },
   {
    "duration": 29620,
    "start_time": "2023-09-28T12:10:35.802Z"
   },
   {
    "duration": 1477,
    "start_time": "2023-09-28T12:11:32.195Z"
   },
   {
    "duration": 103,
    "start_time": "2023-09-28T12:11:54.762Z"
   },
   {
    "duration": 5,
    "start_time": "2023-09-28T12:11:59.631Z"
   },
   {
    "duration": 6,
    "start_time": "2023-09-28T12:12:12.423Z"
   },
   {
    "duration": 10,
    "start_time": "2023-09-28T12:12:20.395Z"
   },
   {
    "duration": 9,
    "start_time": "2023-09-28T12:12:26.617Z"
   },
   {
    "duration": 8,
    "start_time": "2023-09-28T12:12:33.321Z"
   },
   {
    "duration": 14,
    "start_time": "2023-09-28T12:12:38.098Z"
   },
   {
    "duration": 20,
    "start_time": "2023-09-28T12:12:50.047Z"
   },
   {
    "duration": 11,
    "start_time": "2023-09-28T12:12:55.994Z"
   },
   {
    "duration": 34,
    "start_time": "2023-09-28T12:13:03.029Z"
   },
   {
    "duration": 39,
    "start_time": "2023-09-28T12:13:28.301Z"
   },
   {
    "duration": 11,
    "start_time": "2023-09-28T12:14:26.182Z"
   },
   {
    "duration": 9,
    "start_time": "2023-09-28T12:14:41.288Z"
   },
   {
    "duration": 4,
    "start_time": "2023-09-28T12:14:48.405Z"
   },
   {
    "duration": 4,
    "start_time": "2023-09-28T12:14:52.032Z"
   },
   {
    "duration": 12,
    "start_time": "2023-09-28T12:15:01.761Z"
   },
   {
    "duration": 8,
    "start_time": "2023-09-28T12:15:05.261Z"
   },
   {
    "duration": 6,
    "start_time": "2023-09-28T12:15:10.371Z"
   },
   {
    "duration": 14,
    "start_time": "2023-09-28T12:15:26.982Z"
   },
   {
    "duration": 1524,
    "start_time": "2023-09-28T12:15:36.390Z"
   },
   {
    "duration": 193,
    "start_time": "2023-09-28T12:15:37.916Z"
   },
   {
    "duration": 54,
    "start_time": "2023-09-28T12:15:38.110Z"
   },
   {
    "duration": 12,
    "start_time": "2023-09-28T12:15:38.166Z"
   },
   {
    "duration": 41,
    "start_time": "2023-09-28T12:15:38.179Z"
   },
   {
    "duration": 41,
    "start_time": "2023-09-28T12:15:38.222Z"
   },
   {
    "duration": 22,
    "start_time": "2023-09-28T12:15:38.265Z"
   },
   {
    "duration": 20,
    "start_time": "2023-09-28T12:15:38.288Z"
   },
   {
    "duration": 61,
    "start_time": "2023-09-28T12:15:38.309Z"
   },
   {
    "duration": 9,
    "start_time": "2023-09-28T12:15:38.373Z"
   },
   {
    "duration": 28,
    "start_time": "2023-09-28T12:15:38.384Z"
   },
   {
    "duration": 34,
    "start_time": "2023-09-28T12:15:38.413Z"
   },
   {
    "duration": 35,
    "start_time": "2023-09-28T12:15:38.449Z"
   },
   {
    "duration": 37,
    "start_time": "2023-09-28T12:15:38.486Z"
   },
   {
    "duration": 48,
    "start_time": "2023-09-28T12:15:38.525Z"
   },
   {
    "duration": 24,
    "start_time": "2023-09-28T12:15:38.575Z"
   },
   {
    "duration": 72,
    "start_time": "2023-09-28T12:15:38.601Z"
   },
   {
    "duration": 4,
    "start_time": "2023-09-28T12:15:38.675Z"
   },
   {
    "duration": 31,
    "start_time": "2023-09-28T12:15:38.681Z"
   },
   {
    "duration": 11,
    "start_time": "2023-09-28T12:15:38.714Z"
   },
   {
    "duration": 508,
    "start_time": "2023-09-28T12:15:38.726Z"
   },
   {
    "duration": 7,
    "start_time": "2023-09-28T12:15:39.236Z"
   },
   {
    "duration": 37,
    "start_time": "2023-09-28T12:15:39.245Z"
   },
   {
    "duration": 18,
    "start_time": "2023-09-28T12:15:39.284Z"
   },
   {
    "duration": 41,
    "start_time": "2023-09-28T12:15:39.304Z"
   },
   {
    "duration": 117,
    "start_time": "2023-09-28T12:15:39.347Z"
   },
   {
    "duration": 25211,
    "start_time": "2023-09-28T12:15:39.465Z"
   },
   {
    "duration": 2,
    "start_time": "2023-09-28T12:16:04.680Z"
   },
   {
    "duration": 24,
    "start_time": "2023-09-28T12:16:04.684Z"
   },
   {
    "duration": 4658,
    "start_time": "2023-09-28T12:16:04.709Z"
   },
   {
    "duration": 4858,
    "start_time": "2023-09-28T12:16:09.369Z"
   },
   {
    "duration": 8,
    "start_time": "2023-09-28T12:16:14.228Z"
   },
   {
    "duration": 1311,
    "start_time": "2023-09-28T12:16:14.238Z"
   },
   {
    "duration": 11,
    "start_time": "2023-09-28T12:16:15.555Z"
   },
   {
    "duration": 30,
    "start_time": "2023-09-28T12:16:15.568Z"
   },
   {
    "duration": 22,
    "start_time": "2023-09-28T12:16:15.599Z"
   },
   {
    "duration": 139,
    "start_time": "2023-09-28T12:16:51.540Z"
   },
   {
    "duration": 1741,
    "start_time": "2023-09-28T12:17:04.733Z"
   },
   {
    "duration": 195,
    "start_time": "2023-09-28T12:17:06.476Z"
   },
   {
    "duration": 45,
    "start_time": "2023-09-28T12:17:06.672Z"
   },
   {
    "duration": 72,
    "start_time": "2023-09-28T12:17:06.719Z"
   },
   {
    "duration": 24,
    "start_time": "2023-09-28T12:17:06.793Z"
   },
   {
    "duration": 27,
    "start_time": "2023-09-28T12:17:06.818Z"
   },
   {
    "duration": 26,
    "start_time": "2023-09-28T12:17:06.847Z"
   },
   {
    "duration": 42,
    "start_time": "2023-09-28T12:17:06.874Z"
   },
   {
    "duration": 79,
    "start_time": "2023-09-28T12:17:06.918Z"
   },
   {
    "duration": 45,
    "start_time": "2023-09-28T12:17:07.000Z"
   },
   {
    "duration": 48,
    "start_time": "2023-09-28T12:17:07.046Z"
   },
   {
    "duration": 24,
    "start_time": "2023-09-28T12:17:07.096Z"
   },
   {
    "duration": 59,
    "start_time": "2023-09-28T12:17:07.122Z"
   },
   {
    "duration": 46,
    "start_time": "2023-09-28T12:17:07.183Z"
   },
   {
    "duration": 63,
    "start_time": "2023-09-28T12:17:07.231Z"
   },
   {
    "duration": 72,
    "start_time": "2023-09-28T12:17:07.296Z"
   },
   {
    "duration": 139,
    "start_time": "2023-09-28T12:17:07.371Z"
   },
   {
    "duration": 4,
    "start_time": "2023-09-28T12:17:07.512Z"
   },
   {
    "duration": 184,
    "start_time": "2023-09-28T12:17:07.518Z"
   },
   {
    "duration": 39,
    "start_time": "2023-09-28T12:17:07.704Z"
   },
   {
    "duration": 492,
    "start_time": "2023-09-28T12:17:07.745Z"
   },
   {
    "duration": 5,
    "start_time": "2023-09-28T12:17:08.239Z"
   },
   {
    "duration": 87,
    "start_time": "2023-09-28T12:17:08.249Z"
   },
   {
    "duration": 6,
    "start_time": "2023-09-28T12:17:08.338Z"
   },
   {
    "duration": 26,
    "start_time": "2023-09-28T12:17:08.345Z"
   },
   {
    "duration": 116,
    "start_time": "2023-09-28T12:17:08.372Z"
   },
   {
    "duration": 26808,
    "start_time": "2023-09-28T12:17:08.491Z"
   },
   {
    "duration": 3,
    "start_time": "2023-09-28T12:17:35.302Z"
   },
   {
    "duration": 24,
    "start_time": "2023-09-28T12:17:35.306Z"
   },
   {
    "duration": 4735,
    "start_time": "2023-09-28T12:17:35.331Z"
   },
   {
    "duration": 4245,
    "start_time": "2023-09-28T12:17:40.068Z"
   },
   {
    "duration": 10,
    "start_time": "2023-09-28T12:17:44.315Z"
   },
   {
    "duration": 1378,
    "start_time": "2023-09-28T12:17:44.327Z"
   },
   {
    "duration": 5,
    "start_time": "2023-09-28T12:17:45.706Z"
   },
   {
    "duration": 64,
    "start_time": "2023-09-28T12:17:45.713Z"
   },
   {
    "duration": 25,
    "start_time": "2023-09-28T12:17:45.779Z"
   },
   {
    "duration": 30,
    "start_time": "2023-09-28T12:20:14.647Z"
   },
   {
    "duration": 4,
    "start_time": "2023-09-28T12:20:33.405Z"
   },
   {
    "duration": 9,
    "start_time": "2023-09-28T12:20:35.636Z"
   },
   {
    "duration": 324,
    "start_time": "2023-09-28T12:21:12.709Z"
   },
   {
    "duration": 3869,
    "start_time": "2023-09-28T12:21:32.602Z"
   },
   {
    "duration": 3723,
    "start_time": "2023-09-28T12:21:40.340Z"
   },
   {
    "duration": 4,
    "start_time": "2023-09-28T12:24:29.708Z"
   },
   {
    "duration": 1608,
    "start_time": "2023-09-28T12:24:41.285Z"
   },
   {
    "duration": 23,
    "start_time": "2023-09-28T12:25:02.148Z"
   },
   {
    "duration": 482,
    "start_time": "2023-09-28T12:25:43.932Z"
   },
   {
    "duration": 1589,
    "start_time": "2023-09-28T12:25:54.046Z"
   },
   {
    "duration": 202,
    "start_time": "2023-09-28T12:25:55.637Z"
   },
   {
    "duration": 59,
    "start_time": "2023-09-28T12:25:55.840Z"
   },
   {
    "duration": 12,
    "start_time": "2023-09-28T12:25:55.901Z"
   },
   {
    "duration": 18,
    "start_time": "2023-09-28T12:25:55.915Z"
   },
   {
    "duration": 49,
    "start_time": "2023-09-28T12:25:55.935Z"
   },
   {
    "duration": 44,
    "start_time": "2023-09-28T12:25:55.987Z"
   },
   {
    "duration": 57,
    "start_time": "2023-09-28T12:25:56.035Z"
   },
   {
    "duration": 50,
    "start_time": "2023-09-28T12:25:56.094Z"
   },
   {
    "duration": 6462,
    "start_time": "2023-09-28T12:25:56.146Z"
   },
   {
    "duration": 15,
    "start_time": "2023-09-28T12:26:02.610Z"
   },
   {
    "duration": 62,
    "start_time": "2023-09-28T12:26:02.627Z"
   },
   {
    "duration": 193,
    "start_time": "2023-09-28T12:26:02.691Z"
   },
   {
    "duration": 0,
    "start_time": "2023-09-28T12:26:02.886Z"
   },
   {
    "duration": 0,
    "start_time": "2023-09-28T12:26:02.887Z"
   },
   {
    "duration": 0,
    "start_time": "2023-09-28T12:26:02.888Z"
   },
   {
    "duration": 0,
    "start_time": "2023-09-28T12:26:02.889Z"
   },
   {
    "duration": 0,
    "start_time": "2023-09-28T12:26:02.890Z"
   },
   {
    "duration": 0,
    "start_time": "2023-09-28T12:26:02.891Z"
   },
   {
    "duration": 0,
    "start_time": "2023-09-28T12:26:02.892Z"
   },
   {
    "duration": 0,
    "start_time": "2023-09-28T12:26:02.893Z"
   },
   {
    "duration": 0,
    "start_time": "2023-09-28T12:26:02.894Z"
   },
   {
    "duration": 0,
    "start_time": "2023-09-28T12:26:02.895Z"
   },
   {
    "duration": 0,
    "start_time": "2023-09-28T12:26:02.896Z"
   },
   {
    "duration": 0,
    "start_time": "2023-09-28T12:26:02.897Z"
   },
   {
    "duration": 0,
    "start_time": "2023-09-28T12:26:02.898Z"
   },
   {
    "duration": 0,
    "start_time": "2023-09-28T12:26:02.898Z"
   },
   {
    "duration": 0,
    "start_time": "2023-09-28T12:26:02.900Z"
   },
   {
    "duration": 0,
    "start_time": "2023-09-28T12:26:02.900Z"
   },
   {
    "duration": 0,
    "start_time": "2023-09-28T12:26:02.901Z"
   },
   {
    "duration": 0,
    "start_time": "2023-09-28T12:26:02.902Z"
   },
   {
    "duration": 0,
    "start_time": "2023-09-28T12:26:02.903Z"
   },
   {
    "duration": 0,
    "start_time": "2023-09-28T12:26:02.904Z"
   },
   {
    "duration": 0,
    "start_time": "2023-09-28T12:26:02.905Z"
   },
   {
    "duration": 0,
    "start_time": "2023-09-28T12:26:02.906Z"
   },
   {
    "duration": 0,
    "start_time": "2023-09-28T12:26:02.907Z"
   },
   {
    "duration": 0,
    "start_time": "2023-09-28T12:26:02.909Z"
   },
   {
    "duration": 0,
    "start_time": "2023-09-28T12:26:02.910Z"
   },
   {
    "duration": 1,
    "start_time": "2023-09-28T12:26:02.963Z"
   },
   {
    "duration": 0,
    "start_time": "2023-09-28T12:26:02.965Z"
   },
   {
    "duration": 54,
    "start_time": "2023-09-28T12:27:51.221Z"
   },
   {
    "duration": 4,
    "start_time": "2023-09-28T12:28:19.241Z"
   },
   {
    "duration": 8,
    "start_time": "2023-09-28T12:28:21.078Z"
   },
   {
    "duration": 20,
    "start_time": "2023-09-28T12:28:24.449Z"
   },
   {
    "duration": 1610,
    "start_time": "2023-09-28T12:28:25.805Z"
   },
   {
    "duration": 0,
    "start_time": "2023-09-28T12:28:27.417Z"
   },
   {
    "duration": 0,
    "start_time": "2023-09-28T12:28:27.418Z"
   },
   {
    "duration": 25,
    "start_time": "2023-09-28T12:28:33.244Z"
   },
   {
    "duration": 63,
    "start_time": "2023-09-28T12:28:36.125Z"
   },
   {
    "duration": 6,
    "start_time": "2023-09-28T12:28:42.209Z"
   },
   {
    "duration": 12,
    "start_time": "2023-09-28T12:28:45.389Z"
   },
   {
    "duration": 1707,
    "start_time": "2023-09-28T12:28:51.837Z"
   },
   {
    "duration": 0,
    "start_time": "2023-09-28T12:28:53.546Z"
   },
   {
    "duration": 15,
    "start_time": "2023-09-28T12:28:55.889Z"
   },
   {
    "duration": 10,
    "start_time": "2023-09-28T12:28:58.900Z"
   },
   {
    "duration": 3446,
    "start_time": "2023-09-28T12:29:02.223Z"
   },
   {
    "duration": 10,
    "start_time": "2023-09-28T12:29:05.670Z"
   },
   {
    "duration": 9,
    "start_time": "2023-09-28T12:29:14.768Z"
   },
   {
    "duration": 2,
    "start_time": "2023-09-28T12:29:17.492Z"
   },
   {
    "duration": 72,
    "start_time": "2023-09-28T12:29:18.515Z"
   },
   {
    "duration": 2788,
    "start_time": "2023-09-28T12:29:25.271Z"
   },
   {
    "duration": 1594,
    "start_time": "2023-09-28T12:30:42.634Z"
   },
   {
    "duration": 194,
    "start_time": "2023-09-28T12:30:44.230Z"
   },
   {
    "duration": 73,
    "start_time": "2023-09-28T12:30:44.426Z"
   },
   {
    "duration": 11,
    "start_time": "2023-09-28T12:30:44.502Z"
   },
   {
    "duration": 49,
    "start_time": "2023-09-28T12:30:44.514Z"
   },
   {
    "duration": 21,
    "start_time": "2023-09-28T12:30:44.564Z"
   },
   {
    "duration": 19,
    "start_time": "2023-09-28T12:30:44.587Z"
   },
   {
    "duration": 56,
    "start_time": "2023-09-28T12:30:44.608Z"
   },
   {
    "duration": 68,
    "start_time": "2023-09-28T12:30:44.665Z"
   },
   {
    "duration": 13,
    "start_time": "2023-09-28T12:30:44.735Z"
   },
   {
    "duration": 22,
    "start_time": "2023-09-28T12:30:44.756Z"
   },
   {
    "duration": 61,
    "start_time": "2023-09-28T12:30:44.780Z"
   },
   {
    "duration": 44,
    "start_time": "2023-09-28T12:30:44.842Z"
   },
   {
    "duration": 15,
    "start_time": "2023-09-28T12:30:44.887Z"
   },
   {
    "duration": 15,
    "start_time": "2023-09-28T12:30:44.903Z"
   },
   {
    "duration": 7,
    "start_time": "2023-09-28T12:30:44.920Z"
   },
   {
    "duration": 60,
    "start_time": "2023-09-28T12:30:44.928Z"
   },
   {
    "duration": 5,
    "start_time": "2023-09-28T12:30:44.990Z"
   },
   {
    "duration": 78,
    "start_time": "2023-09-28T12:30:44.996Z"
   },
   {
    "duration": 59,
    "start_time": "2023-09-28T12:30:45.075Z"
   },
   {
    "duration": 483,
    "start_time": "2023-09-28T12:30:45.136Z"
   },
   {
    "duration": 5,
    "start_time": "2023-09-28T12:30:45.621Z"
   },
   {
    "duration": 32,
    "start_time": "2023-09-28T12:30:45.627Z"
   },
   {
    "duration": 7,
    "start_time": "2023-09-28T12:30:45.664Z"
   },
   {
    "duration": 10,
    "start_time": "2023-09-28T12:30:45.672Z"
   },
   {
    "duration": 93,
    "start_time": "2023-09-28T12:30:45.684Z"
   },
   {
    "duration": 27621,
    "start_time": "2023-09-28T12:30:45.779Z"
   },
   {
    "duration": 2,
    "start_time": "2023-09-28T12:31:13.403Z"
   },
   {
    "duration": 26,
    "start_time": "2023-09-28T12:31:13.406Z"
   },
   {
    "duration": 4233,
    "start_time": "2023-09-28T12:31:13.434Z"
   },
   {
    "duration": 4418,
    "start_time": "2023-09-28T12:31:17.669Z"
   },
   {
    "duration": 8,
    "start_time": "2023-09-28T12:31:22.089Z"
   },
   {
    "duration": 1346,
    "start_time": "2023-09-28T12:31:22.098Z"
   },
   {
    "duration": 17,
    "start_time": "2023-09-28T12:31:23.446Z"
   },
   {
    "duration": 54,
    "start_time": "2023-09-28T12:31:23.465Z"
   },
   {
    "duration": 48,
    "start_time": "2023-09-28T12:31:23.521Z"
   },
   {
    "duration": 1489,
    "start_time": "2023-09-28T12:31:54.913Z"
   },
   {
    "duration": 16,
    "start_time": "2023-09-28T12:32:11.305Z"
   },
   {
    "duration": 1727,
    "start_time": "2023-09-28T12:32:20.979Z"
   },
   {
    "duration": 203,
    "start_time": "2023-09-28T12:32:22.708Z"
   },
   {
    "duration": 58,
    "start_time": "2023-09-28T12:32:22.912Z"
   },
   {
    "duration": 14,
    "start_time": "2023-09-28T12:32:22.972Z"
   },
   {
    "duration": 24,
    "start_time": "2023-09-28T12:32:22.988Z"
   },
   {
    "duration": 12,
    "start_time": "2023-09-28T12:32:23.013Z"
   },
   {
    "duration": 51,
    "start_time": "2023-09-28T12:32:23.027Z"
   },
   {
    "duration": 23,
    "start_time": "2023-09-28T12:32:23.080Z"
   },
   {
    "duration": 3098,
    "start_time": "2023-09-28T12:32:23.105Z"
   },
   {
    "duration": 14,
    "start_time": "2023-09-28T12:32:26.204Z"
   },
   {
    "duration": 141,
    "start_time": "2023-09-28T12:32:26.220Z"
   },
   {
    "duration": 27,
    "start_time": "2023-09-28T12:32:26.362Z"
   },
   {
    "duration": 36,
    "start_time": "2023-09-28T12:32:26.391Z"
   },
   {
    "duration": 32,
    "start_time": "2023-09-28T12:32:26.431Z"
   },
   {
    "duration": 25,
    "start_time": "2023-09-28T12:32:26.465Z"
   },
   {
    "duration": 48,
    "start_time": "2023-09-28T12:32:26.492Z"
   },
   {
    "duration": 22,
    "start_time": "2023-09-28T12:32:26.542Z"
   },
   {
    "duration": 32,
    "start_time": "2023-09-28T12:32:26.566Z"
   },
   {
    "duration": 48,
    "start_time": "2023-09-28T12:32:26.600Z"
   },
   {
    "duration": 4,
    "start_time": "2023-09-28T12:32:26.660Z"
   },
   {
    "duration": 20,
    "start_time": "2023-09-28T12:32:26.666Z"
   },
   {
    "duration": 25,
    "start_time": "2023-09-28T12:32:26.688Z"
   },
   {
    "duration": 392,
    "start_time": "2023-09-28T12:32:26.715Z"
   },
   {
    "duration": 5,
    "start_time": "2023-09-28T12:32:27.108Z"
   },
   {
    "duration": 41,
    "start_time": "2023-09-28T12:32:27.114Z"
   },
   {
    "duration": 125,
    "start_time": "2023-09-28T12:32:27.158Z"
   },
   {
    "duration": 0,
    "start_time": "2023-09-28T12:32:27.285Z"
   },
   {
    "duration": 0,
    "start_time": "2023-09-28T12:32:27.286Z"
   },
   {
    "duration": 0,
    "start_time": "2023-09-28T12:32:27.288Z"
   },
   {
    "duration": 0,
    "start_time": "2023-09-28T12:32:27.289Z"
   },
   {
    "duration": 0,
    "start_time": "2023-09-28T12:32:27.290Z"
   },
   {
    "duration": 0,
    "start_time": "2023-09-28T12:32:27.292Z"
   },
   {
    "duration": 0,
    "start_time": "2023-09-28T12:32:27.293Z"
   },
   {
    "duration": 0,
    "start_time": "2023-09-28T12:32:27.294Z"
   },
   {
    "duration": 0,
    "start_time": "2023-09-28T12:32:27.295Z"
   },
   {
    "duration": 0,
    "start_time": "2023-09-28T12:32:27.296Z"
   },
   {
    "duration": 0,
    "start_time": "2023-09-28T12:32:27.297Z"
   },
   {
    "duration": 0,
    "start_time": "2023-09-28T12:32:27.298Z"
   },
   {
    "duration": 404,
    "start_time": "2023-09-28T12:33:22.731Z"
   },
   {
    "duration": 1743,
    "start_time": "2023-09-28T12:33:30.771Z"
   },
   {
    "duration": 221,
    "start_time": "2023-09-28T12:33:32.517Z"
   },
   {
    "duration": 64,
    "start_time": "2023-09-28T12:33:32.739Z"
   },
   {
    "duration": 11,
    "start_time": "2023-09-28T12:33:32.805Z"
   },
   {
    "duration": 60,
    "start_time": "2023-09-28T12:33:32.818Z"
   },
   {
    "duration": 27,
    "start_time": "2023-09-28T12:33:32.880Z"
   },
   {
    "duration": 5,
    "start_time": "2023-09-28T12:33:32.909Z"
   },
   {
    "duration": 11,
    "start_time": "2023-09-28T12:33:32.916Z"
   },
   {
    "duration": 51,
    "start_time": "2023-09-28T12:33:32.929Z"
   },
   {
    "duration": 6650,
    "start_time": "2023-09-28T12:33:32.984Z"
   },
   {
    "duration": 35,
    "start_time": "2023-09-28T12:33:39.636Z"
   },
   {
    "duration": 36,
    "start_time": "2023-09-28T12:33:39.673Z"
   },
   {
    "duration": 5,
    "start_time": "2023-09-28T12:33:39.710Z"
   },
   {
    "duration": 39,
    "start_time": "2023-09-28T12:33:39.716Z"
   },
   {
    "duration": 36,
    "start_time": "2023-09-28T12:33:39.766Z"
   },
   {
    "duration": 2284,
    "start_time": "2023-09-28T12:33:39.805Z"
   },
   {
    "duration": 0,
    "start_time": "2023-09-28T12:33:42.091Z"
   },
   {
    "duration": 0,
    "start_time": "2023-09-28T12:33:42.092Z"
   },
   {
    "duration": 0,
    "start_time": "2023-09-28T12:33:42.093Z"
   },
   {
    "duration": 0,
    "start_time": "2023-09-28T12:33:42.095Z"
   },
   {
    "duration": 0,
    "start_time": "2023-09-28T12:33:42.096Z"
   },
   {
    "duration": 0,
    "start_time": "2023-09-28T12:33:42.097Z"
   },
   {
    "duration": 0,
    "start_time": "2023-09-28T12:33:42.099Z"
   },
   {
    "duration": 0,
    "start_time": "2023-09-28T12:33:42.100Z"
   },
   {
    "duration": 0,
    "start_time": "2023-09-28T12:33:42.103Z"
   },
   {
    "duration": 0,
    "start_time": "2023-09-28T12:33:42.104Z"
   },
   {
    "duration": 0,
    "start_time": "2023-09-28T12:33:42.106Z"
   },
   {
    "duration": 0,
    "start_time": "2023-09-28T12:33:42.108Z"
   },
   {
    "duration": 0,
    "start_time": "2023-09-28T12:33:42.109Z"
   },
   {
    "duration": 0,
    "start_time": "2023-09-28T12:33:42.110Z"
   },
   {
    "duration": 0,
    "start_time": "2023-09-28T12:33:42.111Z"
   },
   {
    "duration": 0,
    "start_time": "2023-09-28T12:33:42.112Z"
   },
   {
    "duration": 0,
    "start_time": "2023-09-28T12:33:42.114Z"
   },
   {
    "duration": 0,
    "start_time": "2023-09-28T12:33:42.115Z"
   },
   {
    "duration": 0,
    "start_time": "2023-09-28T12:33:42.116Z"
   },
   {
    "duration": 0,
    "start_time": "2023-09-28T12:33:42.118Z"
   },
   {
    "duration": 0,
    "start_time": "2023-09-28T12:33:42.119Z"
   },
   {
    "duration": 0,
    "start_time": "2023-09-28T12:33:42.121Z"
   },
   {
    "duration": 0,
    "start_time": "2023-09-28T12:33:42.123Z"
   },
   {
    "duration": 21,
    "start_time": "2023-09-28T12:35:11.465Z"
   },
   {
    "duration": 11,
    "start_time": "2023-09-28T12:36:45.269Z"
   },
   {
    "duration": 20,
    "start_time": "2023-09-28T12:37:02.575Z"
   },
   {
    "duration": 5,
    "start_time": "2023-09-28T12:37:51.643Z"
   },
   {
    "duration": 8,
    "start_time": "2023-09-28T12:38:33.593Z"
   },
   {
    "duration": 59,
    "start_time": "2023-09-28T12:38:35.171Z"
   },
   {
    "duration": 5,
    "start_time": "2023-09-28T12:38:52.802Z"
   },
   {
    "duration": 14,
    "start_time": "2023-09-28T12:38:55.928Z"
   },
   {
    "duration": 1952,
    "start_time": "2023-09-28T12:39:10.470Z"
   },
   {
    "duration": 6,
    "start_time": "2023-09-28T12:40:42.231Z"
   },
   {
    "duration": 18,
    "start_time": "2023-09-28T12:40:50.291Z"
   },
   {
    "duration": 14,
    "start_time": "2023-09-28T12:41:03.418Z"
   },
   {
    "duration": 435,
    "start_time": "2023-09-28T12:41:38.741Z"
   },
   {
    "duration": 7,
    "start_time": "2023-09-28T12:42:20.076Z"
   },
   {
    "duration": 17,
    "start_time": "2023-09-28T12:42:23.370Z"
   },
   {
    "duration": 9,
    "start_time": "2023-09-28T12:42:38.017Z"
   },
   {
    "duration": 4,
    "start_time": "2023-09-28T12:42:40.473Z"
   },
   {
    "duration": 326,
    "start_time": "2023-09-28T12:42:43.645Z"
   },
   {
    "duration": 29263,
    "start_time": "2023-09-28T12:42:47.100Z"
   },
   {
    "duration": 10,
    "start_time": "2023-09-28T12:43:34.370Z"
   },
   {
    "duration": 34,
    "start_time": "2023-09-28T12:43:36.509Z"
   },
   {
    "duration": 30206,
    "start_time": "2023-09-28T12:43:38.627Z"
   },
   {
    "duration": 1718,
    "start_time": "2023-09-28T12:44:29.483Z"
   },
   {
    "duration": 212,
    "start_time": "2023-09-28T12:44:31.203Z"
   },
   {
    "duration": 67,
    "start_time": "2023-09-28T12:44:31.417Z"
   },
   {
    "duration": 28,
    "start_time": "2023-09-28T12:44:31.487Z"
   },
   {
    "duration": 47,
    "start_time": "2023-09-28T12:44:31.517Z"
   },
   {
    "duration": 63,
    "start_time": "2023-09-28T12:44:31.566Z"
   },
   {
    "duration": 38,
    "start_time": "2023-09-28T12:44:31.631Z"
   },
   {
    "duration": 40,
    "start_time": "2023-09-28T12:44:31.671Z"
   },
   {
    "duration": 69,
    "start_time": "2023-09-28T12:44:31.713Z"
   },
   {
    "duration": 6996,
    "start_time": "2023-09-28T12:44:31.786Z"
   },
   {
    "duration": 16,
    "start_time": "2023-09-28T12:44:38.784Z"
   },
   {
    "duration": 54,
    "start_time": "2023-09-28T12:44:38.802Z"
   },
   {
    "duration": 12,
    "start_time": "2023-09-28T12:44:38.865Z"
   },
   {
    "duration": 97,
    "start_time": "2023-09-28T12:44:38.879Z"
   },
   {
    "duration": 197,
    "start_time": "2023-09-28T12:44:38.978Z"
   },
   {
    "duration": 159,
    "start_time": "2023-09-28T12:44:39.178Z"
   },
   {
    "duration": 33,
    "start_time": "2023-09-28T12:44:39.339Z"
   },
   {
    "duration": 15,
    "start_time": "2023-09-28T12:44:39.374Z"
   },
   {
    "duration": 48,
    "start_time": "2023-09-28T12:44:39.392Z"
   },
   {
    "duration": 296,
    "start_time": "2023-09-28T12:44:39.442Z"
   },
   {
    "duration": 7,
    "start_time": "2023-09-28T12:44:39.740Z"
   },
   {
    "duration": 35,
    "start_time": "2023-09-28T12:44:39.750Z"
   },
   {
    "duration": 6,
    "start_time": "2023-09-28T12:44:39.787Z"
   },
   {
    "duration": 33,
    "start_time": "2023-09-28T12:44:39.795Z"
   },
   {
    "duration": 477,
    "start_time": "2023-09-28T12:44:39.834Z"
   },
   {
    "duration": 6,
    "start_time": "2023-09-28T12:44:40.315Z"
   },
   {
    "duration": 36,
    "start_time": "2023-09-28T12:44:40.323Z"
   },
   {
    "duration": 20,
    "start_time": "2023-09-28T12:44:40.365Z"
   },
   {
    "duration": 14,
    "start_time": "2023-09-28T12:44:40.388Z"
   },
   {
    "duration": 159,
    "start_time": "2023-09-28T12:44:40.404Z"
   },
   {
    "duration": 27511,
    "start_time": "2023-09-28T12:44:40.565Z"
   },
   {
    "duration": 2,
    "start_time": "2023-09-28T12:45:08.078Z"
   },
   {
    "duration": 11,
    "start_time": "2023-09-28T12:45:08.082Z"
   },
   {
    "duration": 4260,
    "start_time": "2023-09-28T12:45:08.095Z"
   },
   {
    "duration": 4283,
    "start_time": "2023-09-28T12:45:12.363Z"
   },
   {
    "duration": 10,
    "start_time": "2023-09-28T12:45:16.648Z"
   },
   {
    "duration": 1376,
    "start_time": "2023-09-28T12:45:16.660Z"
   },
   {
    "duration": 5,
    "start_time": "2023-09-28T12:45:18.038Z"
   },
   {
    "duration": 28,
    "start_time": "2023-09-28T12:45:18.044Z"
   },
   {
    "duration": 127,
    "start_time": "2023-09-28T12:45:18.073Z"
   },
   {
    "duration": 3909,
    "start_time": "2023-09-28T12:45:25.380Z"
   },
   {
    "duration": 21835,
    "start_time": "2023-09-28T12:47:58.344Z"
   },
   {
    "duration": 529059,
    "start_time": "2023-09-28T12:51:07.335Z"
   },
   {
    "duration": 1886,
    "start_time": "2023-09-28T13:37:13.297Z"
   },
   {
    "duration": 246,
    "start_time": "2023-09-28T13:37:15.194Z"
   },
   {
    "duration": 79,
    "start_time": "2023-09-28T13:37:15.441Z"
   },
   {
    "duration": 12,
    "start_time": "2023-09-28T13:37:15.521Z"
   },
   {
    "duration": 44,
    "start_time": "2023-09-28T13:37:15.535Z"
   },
   {
    "duration": 34,
    "start_time": "2023-09-28T13:37:15.582Z"
   },
   {
    "duration": 41,
    "start_time": "2023-09-28T13:37:15.618Z"
   },
   {
    "duration": 14,
    "start_time": "2023-09-28T13:37:15.660Z"
   },
   {
    "duration": 3817,
    "start_time": "2023-09-28T13:37:15.676Z"
   },
   {
    "duration": 14,
    "start_time": "2023-09-28T13:37:19.495Z"
   },
   {
    "duration": 36,
    "start_time": "2023-09-28T13:37:19.511Z"
   },
   {
    "duration": 37,
    "start_time": "2023-09-28T13:37:19.550Z"
   },
   {
    "duration": 33,
    "start_time": "2023-09-28T13:37:19.589Z"
   },
   {
    "duration": 30,
    "start_time": "2023-09-28T13:37:19.625Z"
   },
   {
    "duration": 47,
    "start_time": "2023-09-28T13:37:19.658Z"
   },
   {
    "duration": 2071,
    "start_time": "2023-09-28T13:37:19.707Z"
   },
   {
    "duration": 0,
    "start_time": "2023-09-28T13:37:21.779Z"
   },
   {
    "duration": 0,
    "start_time": "2023-09-28T13:37:21.781Z"
   },
   {
    "duration": 0,
    "start_time": "2023-09-28T13:37:21.782Z"
   },
   {
    "duration": 0,
    "start_time": "2023-09-28T13:37:21.784Z"
   },
   {
    "duration": 0,
    "start_time": "2023-09-28T13:37:21.785Z"
   },
   {
    "duration": 0,
    "start_time": "2023-09-28T13:37:21.787Z"
   },
   {
    "duration": 0,
    "start_time": "2023-09-28T13:37:21.788Z"
   },
   {
    "duration": 0,
    "start_time": "2023-09-28T13:37:21.790Z"
   },
   {
    "duration": 0,
    "start_time": "2023-09-28T13:37:21.790Z"
   },
   {
    "duration": 0,
    "start_time": "2023-09-28T13:37:21.792Z"
   },
   {
    "duration": 0,
    "start_time": "2023-09-28T13:37:21.795Z"
   },
   {
    "duration": 0,
    "start_time": "2023-09-28T13:37:21.796Z"
   },
   {
    "duration": 0,
    "start_time": "2023-09-28T13:37:21.796Z"
   },
   {
    "duration": 0,
    "start_time": "2023-09-28T13:37:21.797Z"
   },
   {
    "duration": 0,
    "start_time": "2023-09-28T13:37:21.798Z"
   },
   {
    "duration": 0,
    "start_time": "2023-09-28T13:37:21.800Z"
   },
   {
    "duration": 0,
    "start_time": "2023-09-28T13:37:21.802Z"
   },
   {
    "duration": 0,
    "start_time": "2023-09-28T13:37:21.803Z"
   },
   {
    "duration": 0,
    "start_time": "2023-09-28T13:37:21.805Z"
   },
   {
    "duration": 0,
    "start_time": "2023-09-28T13:37:21.806Z"
   },
   {
    "duration": 0,
    "start_time": "2023-09-28T13:37:21.807Z"
   },
   {
    "duration": 0,
    "start_time": "2023-09-28T13:37:21.809Z"
   },
   {
    "duration": 2031,
    "start_time": "2023-09-28T13:38:35.350Z"
   },
   {
    "duration": 246,
    "start_time": "2023-09-28T13:38:37.384Z"
   },
   {
    "duration": 73,
    "start_time": "2023-09-28T13:38:37.632Z"
   },
   {
    "duration": 10,
    "start_time": "2023-09-28T13:38:37.707Z"
   },
   {
    "duration": 33,
    "start_time": "2023-09-28T13:38:37.719Z"
   },
   {
    "duration": 52,
    "start_time": "2023-09-28T13:38:37.754Z"
   },
   {
    "duration": 50,
    "start_time": "2023-09-28T13:38:37.809Z"
   },
   {
    "duration": 21,
    "start_time": "2023-09-28T13:38:37.861Z"
   },
   {
    "duration": 34,
    "start_time": "2023-09-28T13:38:37.885Z"
   },
   {
    "duration": 7106,
    "start_time": "2023-09-28T13:38:37.922Z"
   },
   {
    "duration": 33,
    "start_time": "2023-09-28T13:38:45.030Z"
   },
   {
    "duration": 46,
    "start_time": "2023-09-28T13:38:45.065Z"
   },
   {
    "duration": 34,
    "start_time": "2023-09-28T13:38:45.112Z"
   },
   {
    "duration": 26,
    "start_time": "2023-09-28T13:38:45.148Z"
   },
   {
    "duration": 27,
    "start_time": "2023-09-28T13:38:45.176Z"
   },
   {
    "duration": 24,
    "start_time": "2023-09-28T13:38:45.205Z"
   },
   {
    "duration": 11,
    "start_time": "2023-09-28T13:38:45.230Z"
   },
   {
    "duration": 36,
    "start_time": "2023-09-28T13:38:45.243Z"
   },
   {
    "duration": 19,
    "start_time": "2023-09-28T13:38:45.282Z"
   },
   {
    "duration": 60,
    "start_time": "2023-09-28T13:38:45.304Z"
   },
   {
    "duration": 6,
    "start_time": "2023-09-28T13:38:45.366Z"
   },
   {
    "duration": 31,
    "start_time": "2023-09-28T13:38:45.374Z"
   },
   {
    "duration": 52,
    "start_time": "2023-09-28T13:38:45.410Z"
   },
   {
    "duration": 35,
    "start_time": "2023-09-28T13:38:45.464Z"
   },
   {
    "duration": 484,
    "start_time": "2023-09-28T13:38:45.501Z"
   },
   {
    "duration": 6,
    "start_time": "2023-09-28T13:38:45.987Z"
   },
   {
    "duration": 35,
    "start_time": "2023-09-28T13:38:45.996Z"
   },
   {
    "duration": 7,
    "start_time": "2023-09-28T13:38:46.036Z"
   },
   {
    "duration": 23,
    "start_time": "2023-09-28T13:38:46.045Z"
   },
   {
    "duration": 93,
    "start_time": "2023-09-28T13:38:46.070Z"
   },
   {
    "duration": 29706,
    "start_time": "2023-09-28T13:38:46.165Z"
   },
   {
    "duration": 22641,
    "start_time": "2023-09-28T13:39:15.876Z"
   },
   {
    "duration": 1804,
    "start_time": "2023-09-28T13:41:20.980Z"
   },
   {
    "duration": 228,
    "start_time": "2023-09-28T13:41:22.788Z"
   },
   {
    "duration": 66,
    "start_time": "2023-09-28T13:41:23.018Z"
   },
   {
    "duration": 17,
    "start_time": "2023-09-28T13:41:23.086Z"
   },
   {
    "duration": 13,
    "start_time": "2023-09-28T13:41:23.105Z"
   },
   {
    "duration": 37,
    "start_time": "2023-09-28T13:41:23.120Z"
   },
   {
    "duration": 26,
    "start_time": "2023-09-28T13:41:23.162Z"
   },
   {
    "duration": 15,
    "start_time": "2023-09-28T13:41:23.190Z"
   },
   {
    "duration": 35,
    "start_time": "2023-09-28T13:41:23.207Z"
   },
   {
    "duration": 6631,
    "start_time": "2023-09-28T13:41:23.244Z"
   },
   {
    "duration": 20,
    "start_time": "2023-09-28T13:41:29.878Z"
   },
   {
    "duration": 66,
    "start_time": "2023-09-28T13:41:29.901Z"
   },
   {
    "duration": 13,
    "start_time": "2023-09-28T13:41:29.971Z"
   },
   {
    "duration": 36,
    "start_time": "2023-09-28T13:41:29.987Z"
   },
   {
    "duration": 60,
    "start_time": "2023-09-28T13:41:30.025Z"
   },
   {
    "duration": 58,
    "start_time": "2023-09-28T13:41:30.087Z"
   },
   {
    "duration": 43,
    "start_time": "2023-09-28T13:41:30.147Z"
   },
   {
    "duration": 130,
    "start_time": "2023-09-28T13:41:30.192Z"
   },
   {
    "duration": 115,
    "start_time": "2023-09-28T13:41:30.324Z"
   },
   {
    "duration": 49,
    "start_time": "2023-09-28T13:41:30.442Z"
   },
   {
    "duration": 30,
    "start_time": "2023-09-28T13:41:30.493Z"
   },
   {
    "duration": 59,
    "start_time": "2023-09-28T13:41:30.525Z"
   },
   {
    "duration": 503,
    "start_time": "2023-09-28T13:41:30.589Z"
   },
   {
    "duration": 6,
    "start_time": "2023-09-28T13:41:31.094Z"
   },
   {
    "duration": 69,
    "start_time": "2023-09-28T13:41:31.102Z"
   },
   {
    "duration": 41,
    "start_time": "2023-09-28T13:41:31.173Z"
   },
   {
    "duration": 26,
    "start_time": "2023-09-28T13:41:31.218Z"
   },
   {
    "duration": 174,
    "start_time": "2023-09-28T13:41:31.247Z"
   },
   {
    "duration": 1681,
    "start_time": "2023-09-28T13:41:50.246Z"
   },
   {
    "duration": 218,
    "start_time": "2023-09-28T13:41:51.929Z"
   },
   {
    "duration": 70,
    "start_time": "2023-09-28T13:41:52.149Z"
   },
   {
    "duration": 15,
    "start_time": "2023-09-28T13:41:52.221Z"
   },
   {
    "duration": 17,
    "start_time": "2023-09-28T13:41:52.257Z"
   },
   {
    "duration": 11,
    "start_time": "2023-09-28T13:41:52.278Z"
   },
   {
    "duration": 22,
    "start_time": "2023-09-28T13:41:52.291Z"
   },
   {
    "duration": 28,
    "start_time": "2023-09-28T13:41:52.315Z"
   },
   {
    "duration": 51,
    "start_time": "2023-09-28T13:41:52.345Z"
   },
   {
    "duration": 6867,
    "start_time": "2023-09-28T13:41:52.405Z"
   },
   {
    "duration": 22,
    "start_time": "2023-09-28T13:41:59.276Z"
   },
   {
    "duration": 67,
    "start_time": "2023-09-28T13:41:59.300Z"
   },
   {
    "duration": 6,
    "start_time": "2023-09-28T13:41:59.370Z"
   },
   {
    "duration": 27,
    "start_time": "2023-09-28T13:41:59.377Z"
   },
   {
    "duration": 30,
    "start_time": "2023-09-28T13:41:59.406Z"
   },
   {
    "duration": 40,
    "start_time": "2023-09-28T13:41:59.438Z"
   },
   {
    "duration": 17,
    "start_time": "2023-09-28T13:41:59.480Z"
   },
   {
    "duration": 41,
    "start_time": "2023-09-28T13:41:59.499Z"
   },
   {
    "duration": 87,
    "start_time": "2023-09-28T13:41:59.542Z"
   },
   {
    "duration": 5,
    "start_time": "2023-09-28T13:41:59.630Z"
   },
   {
    "duration": 48,
    "start_time": "2023-09-28T13:41:59.636Z"
   },
   {
    "duration": 11,
    "start_time": "2023-09-28T13:41:59.686Z"
   },
   {
    "duration": 67,
    "start_time": "2023-09-28T13:41:59.700Z"
   },
   {
    "duration": 418,
    "start_time": "2023-09-28T13:41:59.776Z"
   },
   {
    "duration": 6,
    "start_time": "2023-09-28T13:42:00.197Z"
   },
   {
    "duration": 53,
    "start_time": "2023-09-28T13:42:00.204Z"
   },
   {
    "duration": 24,
    "start_time": "2023-09-28T13:42:00.272Z"
   },
   {
    "duration": 41,
    "start_time": "2023-09-28T13:42:00.300Z"
   },
   {
    "duration": 134,
    "start_time": "2023-09-28T13:42:00.344Z"
   },
   {
    "duration": 29028,
    "start_time": "2023-09-28T13:42:00.480Z"
   },
   {
    "duration": 22284,
    "start_time": "2023-09-28T13:42:29.510Z"
   },
   {
    "duration": 2857,
    "start_time": "2023-09-28T13:43:52.489Z"
   },
   {
    "duration": 253,
    "start_time": "2023-09-28T13:43:55.348Z"
   },
   {
    "duration": 83,
    "start_time": "2023-09-28T13:43:55.603Z"
   },
   {
    "duration": 14,
    "start_time": "2023-09-28T13:43:55.689Z"
   },
   {
    "duration": 10,
    "start_time": "2023-09-28T13:43:55.705Z"
   },
   {
    "duration": 9,
    "start_time": "2023-09-28T13:43:55.716Z"
   },
   {
    "duration": 15,
    "start_time": "2023-09-28T13:43:55.727Z"
   },
   {
    "duration": 27,
    "start_time": "2023-09-28T13:43:55.743Z"
   },
   {
    "duration": 26,
    "start_time": "2023-09-28T13:43:55.772Z"
   },
   {
    "duration": 6893,
    "start_time": "2023-09-28T13:43:55.802Z"
   },
   {
    "duration": 15,
    "start_time": "2023-09-28T13:44:02.699Z"
   },
   {
    "duration": 60,
    "start_time": "2023-09-28T13:44:02.716Z"
   },
   {
    "duration": 7,
    "start_time": "2023-09-28T13:44:02.782Z"
   },
   {
    "duration": 25,
    "start_time": "2023-09-28T13:44:02.791Z"
   },
   {
    "duration": 18,
    "start_time": "2023-09-28T13:44:02.818Z"
   },
   {
    "duration": 18,
    "start_time": "2023-09-28T13:44:02.837Z"
   },
   {
    "duration": 10,
    "start_time": "2023-09-28T13:44:02.868Z"
   },
   {
    "duration": 14,
    "start_time": "2023-09-28T13:44:02.880Z"
   },
   {
    "duration": 50,
    "start_time": "2023-09-28T13:44:02.896Z"
   },
   {
    "duration": 23,
    "start_time": "2023-09-28T13:44:02.948Z"
   },
   {
    "duration": 18,
    "start_time": "2023-09-28T13:44:02.979Z"
   },
   {
    "duration": 4,
    "start_time": "2023-09-28T13:44:02.998Z"
   },
   {
    "duration": 31,
    "start_time": "2023-09-28T13:44:03.004Z"
   },
   {
    "duration": 409,
    "start_time": "2023-09-28T13:44:03.036Z"
   },
   {
    "duration": 26,
    "start_time": "2023-09-28T13:44:03.447Z"
   },
   {
    "duration": 26,
    "start_time": "2023-09-28T13:44:03.475Z"
   },
   {
    "duration": 32,
    "start_time": "2023-09-28T13:44:03.502Z"
   },
   {
    "duration": 56,
    "start_time": "2023-09-28T13:44:03.537Z"
   },
   {
    "duration": 94,
    "start_time": "2023-09-28T13:44:03.594Z"
   },
   {
    "duration": 29975,
    "start_time": "2023-09-28T13:44:03.690Z"
   },
   {
    "duration": 21891,
    "start_time": "2023-09-28T13:44:33.667Z"
   },
   {
    "duration": 1769,
    "start_time": "2023-09-28T13:46:04.398Z"
   },
   {
    "duration": 242,
    "start_time": "2023-09-28T13:46:06.175Z"
   },
   {
    "duration": 71,
    "start_time": "2023-09-28T13:46:06.419Z"
   },
   {
    "duration": 13,
    "start_time": "2023-09-28T13:46:06.492Z"
   },
   {
    "duration": 13,
    "start_time": "2023-09-28T13:46:06.508Z"
   },
   {
    "duration": 21,
    "start_time": "2023-09-28T13:46:06.522Z"
   },
   {
    "duration": 24,
    "start_time": "2023-09-28T13:46:06.544Z"
   },
   {
    "duration": 20,
    "start_time": "2023-09-28T13:46:06.569Z"
   },
   {
    "duration": 153,
    "start_time": "2023-09-28T13:46:06.591Z"
   },
   {
    "duration": 0,
    "start_time": "2023-09-28T13:46:06.747Z"
   },
   {
    "duration": 0,
    "start_time": "2023-09-28T13:46:06.748Z"
   },
   {
    "duration": 0,
    "start_time": "2023-09-28T13:46:06.753Z"
   },
   {
    "duration": 0,
    "start_time": "2023-09-28T13:46:06.754Z"
   },
   {
    "duration": 1,
    "start_time": "2023-09-28T13:46:06.754Z"
   },
   {
    "duration": 0,
    "start_time": "2023-09-28T13:46:06.756Z"
   },
   {
    "duration": 0,
    "start_time": "2023-09-28T13:46:06.757Z"
   },
   {
    "duration": 0,
    "start_time": "2023-09-28T13:46:06.757Z"
   },
   {
    "duration": 0,
    "start_time": "2023-09-28T13:46:06.758Z"
   },
   {
    "duration": 0,
    "start_time": "2023-09-28T13:46:06.759Z"
   },
   {
    "duration": 0,
    "start_time": "2023-09-28T13:46:06.760Z"
   },
   {
    "duration": 0,
    "start_time": "2023-09-28T13:46:06.761Z"
   },
   {
    "duration": 0,
    "start_time": "2023-09-28T13:46:06.762Z"
   },
   {
    "duration": 0,
    "start_time": "2023-09-28T13:46:06.762Z"
   },
   {
    "duration": 0,
    "start_time": "2023-09-28T13:46:06.763Z"
   },
   {
    "duration": 0,
    "start_time": "2023-09-28T13:46:06.764Z"
   },
   {
    "duration": 0,
    "start_time": "2023-09-28T13:46:06.765Z"
   },
   {
    "duration": 0,
    "start_time": "2023-09-28T13:46:06.766Z"
   },
   {
    "duration": 0,
    "start_time": "2023-09-28T13:46:06.767Z"
   },
   {
    "duration": 0,
    "start_time": "2023-09-28T13:46:06.768Z"
   },
   {
    "duration": 0,
    "start_time": "2023-09-28T13:46:06.768Z"
   },
   {
    "duration": 0,
    "start_time": "2023-09-28T13:46:06.769Z"
   },
   {
    "duration": 0,
    "start_time": "2023-09-28T13:46:06.770Z"
   },
   {
    "duration": 0,
    "start_time": "2023-09-28T13:46:06.772Z"
   },
   {
    "duration": 0,
    "start_time": "2023-09-28T13:46:06.773Z"
   },
   {
    "duration": 0,
    "start_time": "2023-09-28T13:46:06.774Z"
   },
   {
    "duration": 0,
    "start_time": "2023-09-28T13:46:06.775Z"
   },
   {
    "duration": 0,
    "start_time": "2023-09-28T13:46:06.776Z"
   },
   {
    "duration": 0,
    "start_time": "2023-09-28T13:46:06.777Z"
   },
   {
    "duration": 72,
    "start_time": "2023-09-28T13:46:34.824Z"
   },
   {
    "duration": 14,
    "start_time": "2023-09-28T13:46:54.974Z"
   },
   {
    "duration": 39,
    "start_time": "2023-09-28T13:47:05.297Z"
   },
   {
    "duration": 47,
    "start_time": "2023-09-28T13:47:22.593Z"
   },
   {
    "duration": 5,
    "start_time": "2023-09-28T13:48:00.513Z"
   },
   {
    "duration": 170,
    "start_time": "2023-09-28T13:48:12.831Z"
   },
   {
    "duration": 3304,
    "start_time": "2023-09-28T13:48:40.843Z"
   },
   {
    "duration": 1637,
    "start_time": "2023-09-28T13:48:53.883Z"
   },
   {
    "duration": 222,
    "start_time": "2023-09-28T13:48:55.522Z"
   },
   {
    "duration": 64,
    "start_time": "2023-09-28T13:48:55.746Z"
   },
   {
    "duration": 12,
    "start_time": "2023-09-28T13:48:55.812Z"
   },
   {
    "duration": 49,
    "start_time": "2023-09-28T13:48:55.827Z"
   },
   {
    "duration": 11,
    "start_time": "2023-09-28T13:48:55.880Z"
   },
   {
    "duration": 32,
    "start_time": "2023-09-28T13:48:55.894Z"
   },
   {
    "duration": 44,
    "start_time": "2023-09-28T13:48:55.927Z"
   },
   {
    "duration": 17,
    "start_time": "2023-09-28T13:48:55.974Z"
   },
   {
    "duration": 204,
    "start_time": "2023-09-28T13:48:55.994Z"
   },
   {
    "duration": 3,
    "start_time": "2023-09-28T13:48:56.200Z"
   },
   {
    "duration": 3374,
    "start_time": "2023-09-28T13:48:56.205Z"
   },
   {
    "duration": 14,
    "start_time": "2023-09-28T13:48:59.580Z"
   },
   {
    "duration": 36,
    "start_time": "2023-09-28T13:48:59.597Z"
   },
   {
    "duration": 68,
    "start_time": "2023-09-28T13:48:59.634Z"
   },
   {
    "duration": 35,
    "start_time": "2023-09-28T13:48:59.703Z"
   },
   {
    "duration": 38,
    "start_time": "2023-09-28T13:48:59.739Z"
   },
   {
    "duration": 1867,
    "start_time": "2023-09-28T13:48:59.779Z"
   },
   {
    "duration": 0,
    "start_time": "2023-09-28T13:49:01.648Z"
   },
   {
    "duration": 0,
    "start_time": "2023-09-28T13:49:01.656Z"
   },
   {
    "duration": 0,
    "start_time": "2023-09-28T13:49:01.657Z"
   },
   {
    "duration": 0,
    "start_time": "2023-09-28T13:49:01.657Z"
   },
   {
    "duration": 0,
    "start_time": "2023-09-28T13:49:01.658Z"
   },
   {
    "duration": 0,
    "start_time": "2023-09-28T13:49:01.663Z"
   },
   {
    "duration": 0,
    "start_time": "2023-09-28T13:49:01.664Z"
   },
   {
    "duration": 0,
    "start_time": "2023-09-28T13:49:01.664Z"
   },
   {
    "duration": 0,
    "start_time": "2023-09-28T13:49:01.665Z"
   },
   {
    "duration": 0,
    "start_time": "2023-09-28T13:49:01.665Z"
   },
   {
    "duration": 0,
    "start_time": "2023-09-28T13:49:01.666Z"
   },
   {
    "duration": 0,
    "start_time": "2023-09-28T13:49:01.667Z"
   },
   {
    "duration": 1,
    "start_time": "2023-09-28T13:49:01.667Z"
   },
   {
    "duration": 0,
    "start_time": "2023-09-28T13:49:01.669Z"
   },
   {
    "duration": 0,
    "start_time": "2023-09-28T13:49:01.670Z"
   },
   {
    "duration": 0,
    "start_time": "2023-09-28T13:49:01.673Z"
   },
   {
    "duration": 0,
    "start_time": "2023-09-28T13:49:01.679Z"
   },
   {
    "duration": 0,
    "start_time": "2023-09-28T13:49:01.680Z"
   },
   {
    "duration": 0,
    "start_time": "2023-09-28T13:49:01.681Z"
   },
   {
    "duration": 0,
    "start_time": "2023-09-28T13:49:01.683Z"
   },
   {
    "duration": 0,
    "start_time": "2023-09-28T13:49:01.684Z"
   },
   {
    "duration": 0,
    "start_time": "2023-09-28T13:49:01.685Z"
   },
   {
    "duration": 5,
    "start_time": "2023-09-28T13:49:40.022Z"
   },
   {
    "duration": 14,
    "start_time": "2023-09-28T13:49:43.384Z"
   },
   {
    "duration": 1912,
    "start_time": "2023-09-28T13:50:00.256Z"
   },
   {
    "duration": 206,
    "start_time": "2023-09-28T13:50:02.170Z"
   },
   {
    "duration": 52,
    "start_time": "2023-09-28T13:50:02.379Z"
   },
   {
    "duration": 61,
    "start_time": "2023-09-28T13:50:02.434Z"
   },
   {
    "duration": 262,
    "start_time": "2023-09-28T13:50:02.497Z"
   },
   {
    "duration": 182,
    "start_time": "2023-09-28T13:50:02.762Z"
   },
   {
    "duration": 38,
    "start_time": "2023-09-28T13:50:02.946Z"
   },
   {
    "duration": 26,
    "start_time": "2023-09-28T13:50:02.989Z"
   },
   {
    "duration": 74,
    "start_time": "2023-09-28T13:50:03.016Z"
   },
   {
    "duration": 173,
    "start_time": "2023-09-28T13:50:03.092Z"
   },
   {
    "duration": 3,
    "start_time": "2023-09-28T13:50:03.266Z"
   },
   {
    "duration": 6669,
    "start_time": "2023-09-28T13:50:03.270Z"
   },
   {
    "duration": 31,
    "start_time": "2023-09-28T13:50:09.941Z"
   },
   {
    "duration": 36,
    "start_time": "2023-09-28T13:50:09.974Z"
   },
   {
    "duration": 10,
    "start_time": "2023-09-28T13:50:10.012Z"
   },
   {
    "duration": 47,
    "start_time": "2023-09-28T13:50:10.024Z"
   },
   {
    "duration": 38,
    "start_time": "2023-09-28T13:50:10.073Z"
   },
   {
    "duration": 2014,
    "start_time": "2023-09-28T13:50:10.112Z"
   },
   {
    "duration": 0,
    "start_time": "2023-09-28T13:50:12.128Z"
   },
   {
    "duration": 0,
    "start_time": "2023-09-28T13:50:12.130Z"
   },
   {
    "duration": 0,
    "start_time": "2023-09-28T13:50:12.131Z"
   },
   {
    "duration": 0,
    "start_time": "2023-09-28T13:50:12.132Z"
   },
   {
    "duration": 0,
    "start_time": "2023-09-28T13:50:12.134Z"
   },
   {
    "duration": 0,
    "start_time": "2023-09-28T13:50:12.135Z"
   },
   {
    "duration": 0,
    "start_time": "2023-09-28T13:50:12.137Z"
   },
   {
    "duration": 0,
    "start_time": "2023-09-28T13:50:12.138Z"
   },
   {
    "duration": 0,
    "start_time": "2023-09-28T13:50:12.139Z"
   },
   {
    "duration": 0,
    "start_time": "2023-09-28T13:50:12.140Z"
   },
   {
    "duration": 0,
    "start_time": "2023-09-28T13:50:12.141Z"
   },
   {
    "duration": 0,
    "start_time": "2023-09-28T13:50:12.142Z"
   },
   {
    "duration": 0,
    "start_time": "2023-09-28T13:50:12.144Z"
   },
   {
    "duration": 0,
    "start_time": "2023-09-28T13:50:12.145Z"
   },
   {
    "duration": 0,
    "start_time": "2023-09-28T13:50:12.147Z"
   },
   {
    "duration": 0,
    "start_time": "2023-09-28T13:50:12.150Z"
   },
   {
    "duration": 0,
    "start_time": "2023-09-28T13:50:12.151Z"
   },
   {
    "duration": 0,
    "start_time": "2023-09-28T13:50:12.152Z"
   },
   {
    "duration": 0,
    "start_time": "2023-09-28T13:50:12.153Z"
   },
   {
    "duration": 0,
    "start_time": "2023-09-28T13:50:12.153Z"
   },
   {
    "duration": 0,
    "start_time": "2023-09-28T13:50:12.154Z"
   },
   {
    "duration": 0,
    "start_time": "2023-09-28T13:50:12.155Z"
   },
   {
    "duration": 13,
    "start_time": "2023-09-28T13:51:33.225Z"
   },
   {
    "duration": 38,
    "start_time": "2023-09-28T13:52:09.842Z"
   },
   {
    "duration": 6,
    "start_time": "2023-09-28T13:52:35.299Z"
   },
   {
    "duration": 16,
    "start_time": "2023-09-28T13:52:48.409Z"
   },
   {
    "duration": 17,
    "start_time": "2023-09-28T13:53:20.557Z"
   },
   {
    "duration": 56,
    "start_time": "2023-09-28T13:53:22.839Z"
   },
   {
    "duration": 4,
    "start_time": "2023-09-28T13:53:37.006Z"
   },
   {
    "duration": 12,
    "start_time": "2023-09-28T13:53:38.974Z"
   },
   {
    "duration": 5,
    "start_time": "2023-09-28T13:54:03.173Z"
   },
   {
    "duration": 14,
    "start_time": "2023-09-28T13:54:07.986Z"
   },
   {
    "duration": 13,
    "start_time": "2023-09-28T13:54:14.416Z"
   },
   {
    "duration": 402,
    "start_time": "2023-09-28T13:55:13.177Z"
   },
   {
    "duration": 20,
    "start_time": "2023-09-28T13:55:21.410Z"
   },
   {
    "duration": 5,
    "start_time": "2023-09-28T13:55:39.982Z"
   },
   {
    "duration": 11,
    "start_time": "2023-09-28T13:55:41.985Z"
   },
   {
    "duration": 6,
    "start_time": "2023-09-28T13:56:06.991Z"
   },
   {
    "duration": 2,
    "start_time": "2023-09-28T13:56:18.716Z"
   },
   {
    "duration": 32,
    "start_time": "2023-09-28T13:56:19.682Z"
   },
   {
    "duration": 1653,
    "start_time": "2023-09-28T13:56:30.377Z"
   },
   {
    "duration": 242,
    "start_time": "2023-09-28T13:56:32.031Z"
   },
   {
    "duration": 53,
    "start_time": "2023-09-28T13:56:32.280Z"
   },
   {
    "duration": 12,
    "start_time": "2023-09-28T13:56:32.334Z"
   },
   {
    "duration": 18,
    "start_time": "2023-09-28T13:56:32.356Z"
   },
   {
    "duration": 30,
    "start_time": "2023-09-28T13:56:32.376Z"
   },
   {
    "duration": 51,
    "start_time": "2023-09-28T13:56:32.408Z"
   },
   {
    "duration": 28,
    "start_time": "2023-09-28T13:56:32.460Z"
   },
   {
    "duration": 27,
    "start_time": "2023-09-28T13:56:32.489Z"
   },
   {
    "duration": 6706,
    "start_time": "2023-09-28T13:56:32.518Z"
   },
   {
    "duration": 14,
    "start_time": "2023-09-28T13:56:39.225Z"
   },
   {
    "duration": 49,
    "start_time": "2023-09-28T13:56:39.241Z"
   },
   {
    "duration": 4,
    "start_time": "2023-09-28T13:56:39.291Z"
   },
   {
    "duration": 13,
    "start_time": "2023-09-28T13:56:39.298Z"
   },
   {
    "duration": 14,
    "start_time": "2023-09-28T13:56:39.312Z"
   },
   {
    "duration": 44,
    "start_time": "2023-09-28T13:56:39.327Z"
   },
   {
    "duration": 17,
    "start_time": "2023-09-28T13:56:39.373Z"
   },
   {
    "duration": 12,
    "start_time": "2023-09-28T13:56:39.392Z"
   },
   {
    "duration": 16,
    "start_time": "2023-09-28T13:56:39.406Z"
   },
   {
    "duration": 65,
    "start_time": "2023-09-28T13:56:39.424Z"
   },
   {
    "duration": 5,
    "start_time": "2023-09-28T13:56:39.491Z"
   },
   {
    "duration": 21,
    "start_time": "2023-09-28T13:56:39.498Z"
   },
   {
    "duration": 5,
    "start_time": "2023-09-28T13:56:39.520Z"
   },
   {
    "duration": 406,
    "start_time": "2023-09-28T13:56:39.527Z"
   },
   {
    "duration": 23,
    "start_time": "2023-09-28T13:56:39.935Z"
   },
   {
    "duration": 34,
    "start_time": "2023-09-28T13:56:39.959Z"
   },
   {
    "duration": 23,
    "start_time": "2023-09-28T13:56:39.994Z"
   },
   {
    "duration": 239,
    "start_time": "2023-09-28T13:56:40.019Z"
   },
   {
    "duration": 24258,
    "start_time": "2023-09-28T13:56:40.264Z"
   },
   {
    "duration": 20477,
    "start_time": "2023-09-28T13:57:04.523Z"
   },
   {
    "duration": 552923,
    "start_time": "2023-09-28T13:57:25.003Z"
   },
   {
    "duration": 4684,
    "start_time": "2023-09-28T14:06:37.928Z"
   },
   {
    "duration": 4667,
    "start_time": "2023-09-28T14:06:42.614Z"
   },
   {
    "duration": 8,
    "start_time": "2023-09-28T14:06:47.282Z"
   },
   {
    "duration": 1417,
    "start_time": "2023-09-28T14:06:47.292Z"
   },
   {
    "duration": 7,
    "start_time": "2023-09-28T14:06:48.711Z"
   },
   {
    "duration": 56,
    "start_time": "2023-09-28T14:06:48.719Z"
   },
   {
    "duration": 4607,
    "start_time": "2023-09-28T17:22:15.429Z"
   },
   {
    "duration": 544,
    "start_time": "2023-09-28T17:22:20.038Z"
   },
   {
    "duration": 62,
    "start_time": "2023-09-28T17:22:20.584Z"
   },
   {
    "duration": 16,
    "start_time": "2023-09-28T17:22:20.648Z"
   },
   {
    "duration": 5,
    "start_time": "2023-09-28T17:22:20.666Z"
   },
   {
    "duration": 26,
    "start_time": "2023-09-28T17:22:20.673Z"
   },
   {
    "duration": 24,
    "start_time": "2023-09-28T17:22:20.701Z"
   },
   {
    "duration": 19,
    "start_time": "2023-09-28T17:22:20.727Z"
   },
   {
    "duration": 6999,
    "start_time": "2023-09-28T17:22:24.077Z"
   },
   {
    "duration": 16,
    "start_time": "2023-09-28T17:22:31.078Z"
   },
   {
    "duration": 81,
    "start_time": "2023-09-28T17:22:31.096Z"
   },
   {
    "duration": 21,
    "start_time": "2023-09-28T17:22:31.180Z"
   },
   {
    "duration": 46,
    "start_time": "2023-09-28T17:22:31.203Z"
   },
   {
    "duration": 62,
    "start_time": "2023-09-28T17:22:31.252Z"
   },
   {
    "duration": 12,
    "start_time": "2023-09-28T17:22:32.208Z"
   },
   {
    "duration": 5,
    "start_time": "2023-09-28T17:22:33.298Z"
   },
   {
    "duration": 7,
    "start_time": "2023-09-28T17:22:34.173Z"
   },
   {
    "duration": 52,
    "start_time": "2023-09-28T17:22:34.581Z"
   },
   {
    "duration": 5,
    "start_time": "2023-09-28T17:22:36.477Z"
   },
   {
    "duration": 18,
    "start_time": "2023-09-28T17:22:40.944Z"
   },
   {
    "duration": 7,
    "start_time": "2023-09-28T17:22:41.567Z"
   },
   {
    "duration": 472,
    "start_time": "2023-09-28T17:22:52.454Z"
   },
   {
    "duration": 18,
    "start_time": "2023-09-28T17:22:53.581Z"
   },
   {
    "duration": 8,
    "start_time": "2023-09-28T17:22:57.054Z"
   },
   {
    "duration": 3,
    "start_time": "2023-09-28T17:22:57.653Z"
   },
   {
    "duration": 336,
    "start_time": "2023-09-28T17:22:59.032Z"
   },
   {
    "duration": 24294,
    "start_time": "2023-09-28T17:23:06.471Z"
   },
   {
    "duration": 96127,
    "start_time": "2023-09-28T17:25:18.902Z"
   },
   {
    "duration": 4647,
    "start_time": "2023-09-28T17:27:02.386Z"
   },
   {
    "duration": 4532,
    "start_time": "2023-09-28T17:27:09.860Z"
   },
   {
    "duration": 23,
    "start_time": "2023-09-28T17:27:29.453Z"
   },
   {
    "duration": 28,
    "start_time": "2023-09-28T17:27:51.033Z"
   },
   {
    "duration": 22,
    "start_time": "2023-09-28T17:28:09.206Z"
   },
   {
    "duration": 9,
    "start_time": "2023-09-28T17:28:55.425Z"
   },
   {
    "duration": 1441,
    "start_time": "2023-09-28T17:28:56.685Z"
   },
   {
    "duration": 7,
    "start_time": "2023-09-28T17:32:22.355Z"
   },
   {
    "duration": 21,
    "start_time": "2023-09-28T17:35:29.742Z"
   },
   {
    "duration": 9245,
    "start_time": "2023-10-02T16:54:09.183Z"
   },
   {
    "duration": 601,
    "start_time": "2023-10-02T16:54:22.169Z"
   },
   {
    "duration": 64,
    "start_time": "2023-10-02T16:54:22.808Z"
   },
   {
    "duration": 226,
    "start_time": "2023-10-02T16:54:23.627Z"
   },
   {
    "duration": 10,
    "start_time": "2023-10-02T16:54:24.469Z"
   },
   {
    "duration": 5,
    "start_time": "2023-10-02T16:54:24.649Z"
   },
   {
    "duration": 9,
    "start_time": "2023-10-02T16:54:26.517Z"
   },
   {
    "duration": 5,
    "start_time": "2023-10-02T16:54:26.992Z"
   },
   {
    "duration": 4,
    "start_time": "2023-10-02T16:54:27.159Z"
   },
   {
    "duration": 6842,
    "start_time": "2023-10-02T16:54:29.062Z"
   },
   {
    "duration": 27,
    "start_time": "2023-10-02T16:54:35.906Z"
   },
   {
    "duration": 46,
    "start_time": "2023-10-02T16:54:35.936Z"
   },
   {
    "duration": 34,
    "start_time": "2023-10-02T16:54:35.984Z"
   },
   {
    "duration": 64,
    "start_time": "2023-10-02T16:54:36.020Z"
   },
   {
    "duration": 74,
    "start_time": "2023-10-02T16:54:36.086Z"
   },
   {
    "duration": 100,
    "start_time": "2023-10-02T16:54:36.162Z"
   },
   {
    "duration": 54,
    "start_time": "2023-10-02T16:54:36.264Z"
   },
   {
    "duration": 35,
    "start_time": "2023-10-02T16:54:36.320Z"
   },
   {
    "duration": 43,
    "start_time": "2023-10-02T16:54:36.357Z"
   },
   {
    "duration": 4,
    "start_time": "2023-10-02T16:54:36.402Z"
   },
   {
    "duration": 23,
    "start_time": "2023-10-02T16:54:36.408Z"
   },
   {
    "duration": 14,
    "start_time": "2023-10-02T16:54:36.433Z"
   },
   {
    "duration": 467,
    "start_time": "2023-10-02T16:54:38.219Z"
   },
   {
    "duration": 22,
    "start_time": "2023-10-02T16:54:38.688Z"
   },
   {
    "duration": 118,
    "start_time": "2023-10-02T16:54:38.712Z"
   },
   {
    "duration": 7,
    "start_time": "2023-10-02T16:54:39.897Z"
   },
   {
    "duration": 28,
    "start_time": "2023-10-02T16:54:40.099Z"
   },
   {
    "duration": 21,
    "start_time": "2023-10-02T16:54:40.683Z"
   },
   {
    "duration": 2,
    "start_time": "2023-10-02T16:54:41.555Z"
   },
   {
    "duration": 292,
    "start_time": "2023-10-02T16:54:46.729Z"
   },
   {
    "duration": 26869,
    "start_time": "2023-10-02T16:54:54.648Z"
   },
   {
    "duration": 4561,
    "start_time": "2023-10-02T16:55:33.992Z"
   },
   {
    "duration": 5,
    "start_time": "2023-10-02T16:55:41.140Z"
   },
   {
    "duration": 21,
    "start_time": "2023-10-02T16:55:47.673Z"
   },
   {
    "duration": 4939,
    "start_time": "2023-10-02T16:55:52.778Z"
   },
   {
    "duration": 9,
    "start_time": "2023-10-02T16:56:00.661Z"
   }
  ],
  "kernelspec": {
   "display_name": "Python 3 (ipykernel)",
   "language": "python",
   "name": "python3"
  },
  "language_info": {
   "codemirror_mode": {
    "name": "ipython",
    "version": 3
   },
   "file_extension": ".py",
   "mimetype": "text/x-python",
   "name": "python",
   "nbconvert_exporter": "python",
   "pygments_lexer": "ipython3",
   "version": "3.9.5"
  },
  "toc": {
   "base_numbering": 1,
   "nav_menu": {},
   "number_sections": true,
   "sideBar": true,
   "skip_h1_title": true,
   "title_cell": "Table of Contents",
   "title_sidebar": "Contents",
   "toc_cell": false,
   "toc_position": {},
   "toc_section_display": true,
   "toc_window_display": false
  }
 },
 "nbformat": 4,
 "nbformat_minor": 2
}
