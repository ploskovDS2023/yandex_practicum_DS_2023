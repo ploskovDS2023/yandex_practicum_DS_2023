{
 "cells": [
  {
   "cell_type": "markdown",
   "metadata": {},
   "source": [
    "Привет, меня зовут Артем. Сегодня я проверю твой проект.\n",
    "<br> Дальнейшее общение будет происходить на \"ты\" если это не вызывает никаких проблем.\n",
    "<br> Желательно реагировать на каждый мой комментарий ('исправил', 'не понятно как исправить ошибку', ...)\n",
    "<br> Пожалуйста, не удаляй комментарии ревьюера, так как они повышают качество повторного ревью.\n",
    "\n",
    "Комментарии будут в <font color='green'>зеленой</font>, <font color='blue'>синей</font> или <font color='red'>красной</font> рамках:\n",
    "\n",
    "<div class=\"alert alert-block alert-success\">\n",
    "<b>Успех:</b> Если все сделано отлично\n",
    "</div>\n",
    "\n",
    "<div class=\"alert alert-block alert-info\">\n",
    "<b>Совет: </b> Если можно немного улучшить\n",
    "</div>\n",
    "\n",
    "<div class=\"alert alert-block alert-danger\">\n",
    "<b>Ошибка:</b> Если требуются исправления. Работа не может быть принята с красными комментариями.\n",
    "</div>\n",
    "\n",
    "-------------------\n",
    "\n",
    "Будет очень хорошо, если ты будешь помечать свои действия следующим образом:\n",
    "<div class=\"alert alert-block alert-warning\">\n",
    "<b>Комментарий студента:</b> ...\n",
    "</div>\n",
    "\n",
    "<div class=\"alert alert-block alert-warning\">\n",
    "<b>Изменения:</b> Были внесены следующие изменения ...\n",
    "</div>\n",
    "\n",
    "### <font color='orange'>Общее впечатление</font>\n",
    "* Большое спасибо за проделанную работу. Видно, что приложено много усилий.\n",
    "* Выводы и рассуждения получились содержательными, их было интересно читать.\n",
    "* Радует, что тебе удалось разобраться с техникой бутстрапа.\n",
    "* Отлично, что доверительный интервал и риск убытков посчитаны верно.\n",
    "* Я оставил несколько советов, надеюсь, что они будут учтены в будущих проектах.\n",
    "* Редко, кто сдает эту работу с первого раза, молодец!\n",
    "* Проект может быть зачтен, но я его отправлю назад, чтобы у тебя была возможность задать вопросы и внести правки, при желании. Однако, ты можешь просто вернуть проект в таком же виде и я его зачту."
   ]
  },
  {
   "cell_type": "markdown",
   "metadata": {},
   "source": [
    "### <font color='orange'>Общее впечатление (ревью 2)</font>\n",
    "* Проект зачтен!\n",
    "* Удачи в дальнейшем обучении и следующих работах!"
   ]
  },
  {
   "cell_type": "markdown",
   "metadata": {},
   "source": [
    "# Выбор локации для скважины"
   ]
  },
  {
   "cell_type": "markdown",
   "metadata": {},
   "source": [
    "Допустим, вы работаете в добывающей компании «ГлавРосГосНефть». Нужно решить, где бурить новую скважину.\n",
    "\n",
    "Вам предоставлены пробы нефти в трёх регионах: в каждом 10 000 месторождений, где измерили качество нефти и объём её запасов. Постройте модель машинного обучения, которая поможет определить регион, где добыча принесёт наибольшую прибыль. Проанализируйте возможную прибыль и риски техникой *Bootstrap.*\n",
    "\n",
    "Шаги для выбора локации:\n",
    "\n",
    "- В избранном регионе ищут месторождения, для каждого определяют значения признаков;\n",
    "- Строят модель и оценивают объём запасов;\n",
    "- Выбирают месторождения с самым высокими оценками значений. Количество месторождений зависит от бюджета компании и стоимости разработки одной скважины;\n",
    "- Прибыль равна суммарной прибыли отобранных месторождений."
   ]
  },
  {
   "cell_type": "markdown",
   "metadata": {},
   "source": [
    "## Загрузка и подготовка данных"
   ]
  },
  {
   "cell_type": "code",
   "execution_count": 1,
   "metadata": {},
   "outputs": [],
   "source": [
    "import pandas as pd\n",
    "import numpy as np\n",
    "from sklearn.model_selection import train_test_split, GridSearchCV\n",
    "from sklearn.linear_model import LinearRegression\n",
    "from sklearn.preprocessing import StandardScaler\n",
    "from sklearn.metrics import mean_squared_error"
   ]
  },
  {
   "cell_type": "markdown",
   "metadata": {},
   "source": [
    "<div class=\"alert alert-block alert-success\">\n",
    "<b>Успех:</b> Отлично, что все импорты собраны в первой ячейке ноутбука! Если у того, кто будет запускать твой ноутбук будут отсутствовать некоторые библиотеки, то он это увидит сразу, а не в процессе!\n",
    "</div>"
   ]
  },
  {
   "cell_type": "code",
   "execution_count": 2,
   "metadata": {},
   "outputs": [],
   "source": [
    "df_0 = pd.read_csv('/datasets/geo_data_0.csv')\n",
    "df_1 = pd.read_csv('/datasets/geo_data_1.csv')\n",
    "df_2 = pd.read_csv('/datasets/geo_data_2.csv')"
   ]
  },
  {
   "cell_type": "code",
   "execution_count": 3,
   "metadata": {},
   "outputs": [
    {
     "data": {
      "text/html": [
       "<div>\n",
       "<style scoped>\n",
       "    .dataframe tbody tr th:only-of-type {\n",
       "        vertical-align: middle;\n",
       "    }\n",
       "\n",
       "    .dataframe tbody tr th {\n",
       "        vertical-align: top;\n",
       "    }\n",
       "\n",
       "    .dataframe thead th {\n",
       "        text-align: right;\n",
       "    }\n",
       "</style>\n",
       "<table border=\"1\" class=\"dataframe\">\n",
       "  <thead>\n",
       "    <tr style=\"text-align: right;\">\n",
       "      <th></th>\n",
       "      <th>id</th>\n",
       "      <th>f0</th>\n",
       "      <th>f1</th>\n",
       "      <th>f2</th>\n",
       "      <th>product</th>\n",
       "    </tr>\n",
       "  </thead>\n",
       "  <tbody>\n",
       "    <tr>\n",
       "      <th>0</th>\n",
       "      <td>txEyH</td>\n",
       "      <td>0.705745</td>\n",
       "      <td>-0.497823</td>\n",
       "      <td>1.221170</td>\n",
       "      <td>105.280062</td>\n",
       "    </tr>\n",
       "    <tr>\n",
       "      <th>1</th>\n",
       "      <td>2acmU</td>\n",
       "      <td>1.334711</td>\n",
       "      <td>-0.340164</td>\n",
       "      <td>4.365080</td>\n",
       "      <td>73.037750</td>\n",
       "    </tr>\n",
       "    <tr>\n",
       "      <th>2</th>\n",
       "      <td>409Wp</td>\n",
       "      <td>1.022732</td>\n",
       "      <td>0.151990</td>\n",
       "      <td>1.419926</td>\n",
       "      <td>85.265647</td>\n",
       "    </tr>\n",
       "    <tr>\n",
       "      <th>3</th>\n",
       "      <td>iJLyR</td>\n",
       "      <td>-0.032172</td>\n",
       "      <td>0.139033</td>\n",
       "      <td>2.978566</td>\n",
       "      <td>168.620776</td>\n",
       "    </tr>\n",
       "    <tr>\n",
       "      <th>4</th>\n",
       "      <td>Xdl7t</td>\n",
       "      <td>1.988431</td>\n",
       "      <td>0.155413</td>\n",
       "      <td>4.751769</td>\n",
       "      <td>154.036647</td>\n",
       "    </tr>\n",
       "  </tbody>\n",
       "</table>\n",
       "</div>"
      ],
      "text/plain": [
       "      id        f0        f1        f2     product\n",
       "0  txEyH  0.705745 -0.497823  1.221170  105.280062\n",
       "1  2acmU  1.334711 -0.340164  4.365080   73.037750\n",
       "2  409Wp  1.022732  0.151990  1.419926   85.265647\n",
       "3  iJLyR -0.032172  0.139033  2.978566  168.620776\n",
       "4  Xdl7t  1.988431  0.155413  4.751769  154.036647"
      ]
     },
     "metadata": {},
     "output_type": "display_data"
    },
    {
     "data": {
      "text/html": [
       "<div>\n",
       "<style scoped>\n",
       "    .dataframe tbody tr th:only-of-type {\n",
       "        vertical-align: middle;\n",
       "    }\n",
       "\n",
       "    .dataframe tbody tr th {\n",
       "        vertical-align: top;\n",
       "    }\n",
       "\n",
       "    .dataframe thead th {\n",
       "        text-align: right;\n",
       "    }\n",
       "</style>\n",
       "<table border=\"1\" class=\"dataframe\">\n",
       "  <thead>\n",
       "    <tr style=\"text-align: right;\">\n",
       "      <th></th>\n",
       "      <th>id</th>\n",
       "      <th>f0</th>\n",
       "      <th>f1</th>\n",
       "      <th>f2</th>\n",
       "      <th>product</th>\n",
       "    </tr>\n",
       "  </thead>\n",
       "  <tbody>\n",
       "    <tr>\n",
       "      <th>0</th>\n",
       "      <td>kBEdx</td>\n",
       "      <td>-15.001348</td>\n",
       "      <td>-8.276000</td>\n",
       "      <td>-0.005876</td>\n",
       "      <td>3.179103</td>\n",
       "    </tr>\n",
       "    <tr>\n",
       "      <th>1</th>\n",
       "      <td>62mP7</td>\n",
       "      <td>14.272088</td>\n",
       "      <td>-3.475083</td>\n",
       "      <td>0.999183</td>\n",
       "      <td>26.953261</td>\n",
       "    </tr>\n",
       "    <tr>\n",
       "      <th>2</th>\n",
       "      <td>vyE1P</td>\n",
       "      <td>6.263187</td>\n",
       "      <td>-5.948386</td>\n",
       "      <td>5.001160</td>\n",
       "      <td>134.766305</td>\n",
       "    </tr>\n",
       "    <tr>\n",
       "      <th>3</th>\n",
       "      <td>KcrkZ</td>\n",
       "      <td>-13.081196</td>\n",
       "      <td>-11.506057</td>\n",
       "      <td>4.999415</td>\n",
       "      <td>137.945408</td>\n",
       "    </tr>\n",
       "    <tr>\n",
       "      <th>4</th>\n",
       "      <td>AHL4O</td>\n",
       "      <td>12.702195</td>\n",
       "      <td>-8.147433</td>\n",
       "      <td>5.004363</td>\n",
       "      <td>134.766305</td>\n",
       "    </tr>\n",
       "  </tbody>\n",
       "</table>\n",
       "</div>"
      ],
      "text/plain": [
       "      id         f0         f1        f2     product\n",
       "0  kBEdx -15.001348  -8.276000 -0.005876    3.179103\n",
       "1  62mP7  14.272088  -3.475083  0.999183   26.953261\n",
       "2  vyE1P   6.263187  -5.948386  5.001160  134.766305\n",
       "3  KcrkZ -13.081196 -11.506057  4.999415  137.945408\n",
       "4  AHL4O  12.702195  -8.147433  5.004363  134.766305"
      ]
     },
     "metadata": {},
     "output_type": "display_data"
    },
    {
     "data": {
      "text/html": [
       "<div>\n",
       "<style scoped>\n",
       "    .dataframe tbody tr th:only-of-type {\n",
       "        vertical-align: middle;\n",
       "    }\n",
       "\n",
       "    .dataframe tbody tr th {\n",
       "        vertical-align: top;\n",
       "    }\n",
       "\n",
       "    .dataframe thead th {\n",
       "        text-align: right;\n",
       "    }\n",
       "</style>\n",
       "<table border=\"1\" class=\"dataframe\">\n",
       "  <thead>\n",
       "    <tr style=\"text-align: right;\">\n",
       "      <th></th>\n",
       "      <th>id</th>\n",
       "      <th>f0</th>\n",
       "      <th>f1</th>\n",
       "      <th>f2</th>\n",
       "      <th>product</th>\n",
       "    </tr>\n",
       "  </thead>\n",
       "  <tbody>\n",
       "    <tr>\n",
       "      <th>0</th>\n",
       "      <td>fwXo0</td>\n",
       "      <td>-1.146987</td>\n",
       "      <td>0.963328</td>\n",
       "      <td>-0.828965</td>\n",
       "      <td>27.758673</td>\n",
       "    </tr>\n",
       "    <tr>\n",
       "      <th>1</th>\n",
       "      <td>WJtFt</td>\n",
       "      <td>0.262778</td>\n",
       "      <td>0.269839</td>\n",
       "      <td>-2.530187</td>\n",
       "      <td>56.069697</td>\n",
       "    </tr>\n",
       "    <tr>\n",
       "      <th>2</th>\n",
       "      <td>ovLUW</td>\n",
       "      <td>0.194587</td>\n",
       "      <td>0.289035</td>\n",
       "      <td>-5.586433</td>\n",
       "      <td>62.871910</td>\n",
       "    </tr>\n",
       "    <tr>\n",
       "      <th>3</th>\n",
       "      <td>q6cA6</td>\n",
       "      <td>2.236060</td>\n",
       "      <td>-0.553760</td>\n",
       "      <td>0.930038</td>\n",
       "      <td>114.572842</td>\n",
       "    </tr>\n",
       "    <tr>\n",
       "      <th>4</th>\n",
       "      <td>WPMUX</td>\n",
       "      <td>-0.515993</td>\n",
       "      <td>1.716266</td>\n",
       "      <td>5.899011</td>\n",
       "      <td>149.600746</td>\n",
       "    </tr>\n",
       "  </tbody>\n",
       "</table>\n",
       "</div>"
      ],
      "text/plain": [
       "      id        f0        f1        f2     product\n",
       "0  fwXo0 -1.146987  0.963328 -0.828965   27.758673\n",
       "1  WJtFt  0.262778  0.269839 -2.530187   56.069697\n",
       "2  ovLUW  0.194587  0.289035 -5.586433   62.871910\n",
       "3  q6cA6  2.236060 -0.553760  0.930038  114.572842\n",
       "4  WPMUX -0.515993  1.716266  5.899011  149.600746"
      ]
     },
     "execution_count": 3,
     "metadata": {},
     "output_type": "execute_result"
    }
   ],
   "source": [
    "display(df_0.head())\n",
    "display(df_1.head())\n",
    "df_2.head()"
   ]
  },
  {
   "cell_type": "code",
   "execution_count": 4,
   "metadata": {},
   "outputs": [
    {
     "name": "stdout",
     "output_type": "stream",
     "text": [
      "<class 'pandas.core.frame.DataFrame'>\n",
      "RangeIndex: 100000 entries, 0 to 99999\n",
      "Data columns (total 5 columns):\n",
      " #   Column   Non-Null Count   Dtype  \n",
      "---  ------   --------------   -----  \n",
      " 0   id       100000 non-null  object \n",
      " 1   f0       100000 non-null  float64\n",
      " 2   f1       100000 non-null  float64\n",
      " 3   f2       100000 non-null  float64\n",
      " 4   product  100000 non-null  float64\n",
      "dtypes: float64(4), object(1)\n",
      "memory usage: 3.8+ MB\n"
     ]
    },
    {
     "data": {
      "text/plain": [
       "None"
      ]
     },
     "metadata": {},
     "output_type": "display_data"
    },
    {
     "name": "stdout",
     "output_type": "stream",
     "text": [
      "<class 'pandas.core.frame.DataFrame'>\n",
      "RangeIndex: 100000 entries, 0 to 99999\n",
      "Data columns (total 5 columns):\n",
      " #   Column   Non-Null Count   Dtype  \n",
      "---  ------   --------------   -----  \n",
      " 0   id       100000 non-null  object \n",
      " 1   f0       100000 non-null  float64\n",
      " 2   f1       100000 non-null  float64\n",
      " 3   f2       100000 non-null  float64\n",
      " 4   product  100000 non-null  float64\n",
      "dtypes: float64(4), object(1)\n",
      "memory usage: 3.8+ MB\n"
     ]
    },
    {
     "data": {
      "text/plain": [
       "None"
      ]
     },
     "metadata": {},
     "output_type": "display_data"
    },
    {
     "name": "stdout",
     "output_type": "stream",
     "text": [
      "<class 'pandas.core.frame.DataFrame'>\n",
      "RangeIndex: 100000 entries, 0 to 99999\n",
      "Data columns (total 5 columns):\n",
      " #   Column   Non-Null Count   Dtype  \n",
      "---  ------   --------------   -----  \n",
      " 0   id       100000 non-null  object \n",
      " 1   f0       100000 non-null  float64\n",
      " 2   f1       100000 non-null  float64\n",
      " 3   f2       100000 non-null  float64\n",
      " 4   product  100000 non-null  float64\n",
      "dtypes: float64(4), object(1)\n",
      "memory usage: 3.8+ MB\n"
     ]
    }
   ],
   "source": [
    "display(df_0.info())\n",
    "display(df_1.info())\n",
    "df_2.info()"
   ]
  },
  {
   "cell_type": "code",
   "execution_count": 5,
   "metadata": {},
   "outputs": [
    {
     "data": {
      "image/png": "[encoded data removed]",
      "text/plain": [
       "<Figure size 360x360 with 4 Axes>"
      ]
     },
     "metadata": {
      "needs_background": "light"
     },
     "output_type": "display_data"
    },
    {
     "data": {
      "image/png": "[encoded data removed]",
      "text/plain": [
       "<Figure size 360x360 with 4 Axes>"
      ]
     },
     "metadata": {
      "needs_background": "light"
     },
     "output_type": "display_data"
    },
    {
     "data": {
      "image/png": "[encoded data removed]",
      "text/plain": [
       "<Figure size 360x360 with 4 Axes>"
      ]
     },
     "metadata": {
      "needs_background": "light"
     },
     "output_type": "display_data"
    }
   ],
   "source": [
    "df_0.hist(figsize=(5, 5));\n",
    "df_1.hist(figsize=(5, 5));\n",
    "df_2.hist(figsize=(5, 5));"
   ]
  },
  {
   "cell_type": "markdown",
   "metadata": {},
   "source": [
    "<div class=\"alert alert-block alert-success\">\n",
    "<b>Успех:</b> Данные загружены и осмотрены корректно. Радует, что распределения были визуализированы!\n",
    "</div>"
   ]
  },
  {
   "cell_type": "markdown",
   "metadata": {},
   "source": [
    "## Обучение и проверка модели"
   ]
  },
  {
   "cell_type": "code",
   "execution_count": 6,
   "metadata": {},
   "outputs": [
    {
     "data": {
      "text/plain": [
       "(75000, 3)"
      ]
     },
     "metadata": {},
     "output_type": "display_data"
    },
    {
     "data": {
      "text/plain": [
       "(25000, 3)"
      ]
     },
     "metadata": {},
     "output_type": "display_data"
    },
    {
     "data": {
      "text/plain": [
       "(75000,)"
      ]
     },
     "metadata": {},
     "output_type": "display_data"
    },
    {
     "data": {
      "text/plain": [
       "(25000,)"
      ]
     },
     "metadata": {},
     "output_type": "display_data"
    },
    {
     "data": {
      "text/plain": [
       "(75000, 3)"
      ]
     },
     "metadata": {},
     "output_type": "display_data"
    },
    {
     "data": {
      "text/plain": [
       "(25000, 3)"
      ]
     },
     "metadata": {},
     "output_type": "display_data"
    },
    {
     "data": {
      "text/plain": [
       "(75000,)"
      ]
     },
     "metadata": {},
     "output_type": "display_data"
    },
    {
     "data": {
      "text/plain": [
       "(25000,)"
      ]
     },
     "metadata": {},
     "output_type": "display_data"
    },
    {
     "data": {
      "text/plain": [
       "(75000, 3)"
      ]
     },
     "metadata": {},
     "output_type": "display_data"
    },
    {
     "data": {
      "text/plain": [
       "(25000, 3)"
      ]
     },
     "metadata": {},
     "output_type": "display_data"
    },
    {
     "data": {
      "text/plain": [
       "(75000,)"
      ]
     },
     "metadata": {},
     "output_type": "display_data"
    },
    {
     "data": {
      "text/plain": [
       "(25000,)"
      ]
     },
     "execution_count": 6,
     "metadata": {},
     "output_type": "execute_result"
    }
   ],
   "source": [
    "# 2.1.Разобьем данные на обучающую и валидационную выборки в соотношении 75:25.\n",
    "features_0 = df_0.drop(['id', 'product'], axis=1)\n",
    "target_0 = df_0['product']\n",
    "features_1 = df_1.drop(['id', 'product'], axis=1)\n",
    "target_1 = df_1['product']\n",
    "features_2 = df_2.drop(['id', 'product'], axis=1)\n",
    "target_2 = df_2['product']\n",
    "features_train_0, features_valid_0, target_train_0, target_valid_0 = train_test_split(features_0, target_0, test_size=0.25, \n",
    "                                                                                      random_state=12345)\n",
    "features_train_1, features_valid_1, target_train_1, target_valid_1 = train_test_split(features_1, target_1, test_size=0.25, \n",
    "                                                                                      random_state=12345)\n",
    "features_train_2, features_valid_2, target_train_2, target_valid_2 = train_test_split(features_2, target_2, test_size=0.25, \n",
    "                                                                                      random_state=12345)\n",
    "# Посмотрим на результат.\n",
    "display(features_train_0.shape) \n",
    "display(features_valid_0.shape) \n",
    "display(target_train_0.shape) \n",
    "display(target_valid_0.shape) \n",
    "display(features_train_1.shape) \n",
    "display(features_valid_1.shape) \n",
    "display(target_train_1.shape) \n",
    "display(target_valid_1.shape) \n",
    "display(features_train_2.shape) \n",
    "display(features_valid_2.shape) \n",
    "display(target_train_2.shape) \n",
    "target_valid_2.shape "
   ]
  },
  {
   "cell_type": "code",
   "execution_count": 7,
   "metadata": {},
   "outputs": [],
   "source": [
    "# Проведем масштабирование.\n",
    "pd.options.mode.chained_assignment = None\n",
    "scaler_0 = StandardScaler()\n",
    "scaler_1 = StandardScaler()\n",
    "scaler_2 = StandardScaler()\n",
    "scaler_0.fit(features_train_0) \n",
    "scaler_1.fit(features_train_1)\n",
    "scaler_2.fit(features_train_2)\n",
    "features_train_0 = scaler_0.transform(features_train_0) \n",
    "features_train_1 = scaler_1.transform(features_train_1)\n",
    "features_train_2 = scaler_2.transform(features_train_2)\n",
    "features_valid_0 = scaler_0.transform(features_valid_0)\n",
    "features_valid_1 = scaler_1.transform(features_valid_1)\n",
    "features_valid_2 = scaler_2.transform(features_valid_2)"
   ]
  },
  {
   "cell_type": "markdown",
   "metadata": {},
   "source": [
    "<div class=\"alert alert-block alert-success\">\n",
    "<b>Успех:</b> Хорошо, что scaler был обучен только на треине.\n",
    "</div>"
   ]
  },
  {
   "cell_type": "code",
   "execution_count": 8,
   "metadata": {},
   "outputs": [
    {
     "data": {
      "text/plain": [
       "{'copy_X': True, 'fit_intercept': True, 'normalize': True}"
      ]
     },
     "metadata": {},
     "output_type": "display_data"
    },
    {
     "data": {
      "text/plain": [
       "{'copy_X': True, 'fit_intercept': True, 'normalize': True}"
      ]
     },
     "metadata": {},
     "output_type": "display_data"
    },
    {
     "data": {
      "text/plain": [
       "{'copy_X': True, 'fit_intercept': True, 'normalize': True}"
      ]
     },
     "execution_count": 8,
     "metadata": {},
     "output_type": "execute_result"
    }
   ],
   "source": [
    "# Подберем гиперпараметры для модели линейной регрессии.\n",
    "parameters = {'fit_intercept':[True,False], 'normalize':[True,False], 'copy_X':[True, False]}\n",
    "model_0 = LinearRegression()\n",
    "model_1 = LinearRegression()\n",
    "model_2 = LinearRegression()\n",
    "grid_0 = GridSearchCV(model_0, parameters, cv=10)\n",
    "grid_1 = GridSearchCV(model_1, parameters, cv=10)\n",
    "grid_2 = GridSearchCV(model_2, parameters, cv=10)\n",
    "grid_0.fit(features_train_0, target_train_0)\n",
    "grid_1.fit(features_train_1, target_train_1)\n",
    "grid_2.fit(features_train_2, target_train_2)\n",
    "# # Выводим результат:\n",
    "display(grid_0.best_params_)\n",
    "display(grid_1.best_params_)\n",
    "grid_1.best_params_"
   ]
  },
  {
   "cell_type": "code",
   "execution_count": 9,
   "metadata": {},
   "outputs": [],
   "source": [
    "# 2.2. Обучим модель и сделаем предсказания на валидационной выборке.\n",
    "model_0 = LinearRegression(fit_intercept=True, normalize=True, copy_X=True)\n",
    "model_1 = LinearRegression(fit_intercept=True, normalize=True, copy_X=True)\n",
    "model_2 = LinearRegression(fit_intercept=True, normalize=True, copy_X=True)\n",
    "model_0.fit(features_train_0, target_train_0) \n",
    "model_1.fit(features_train_1, target_train_1)\n",
    "model_2.fit(features_train_2, target_train_2)\n",
    "\n",
    "predictions_valid_0 = model_0.predict(features_valid_0)\n",
    "predictions_valid_1 = model_1.predict(features_valid_1)\n",
    "predictions_valid_2 = model_2.predict(features_valid_2)"
   ]
  },
  {
   "cell_type": "code",
   "execution_count": 10,
   "metadata": {},
   "outputs": [
    {
     "name": "stdout",
     "output_type": "stream",
     "text": [
      "Средний запас предсказанного сырья в первом регионе: 92.50000000000001 RMSE первой модели: 37.5794217150813\n",
      "Средний запас предсказанного сырья во втором регионе: 68.82500000000002 RMSE второй модели: 0.8930992867756169\n",
      "Средний запас предсказанного сырья в третьем регионе: 95.00000000000004 RMSE третьей модели: 40.02970873393434\n"
     ]
    }
   ],
   "source": [
    "# 2.4. Напечатаем на экране средний запас предсказанного сырья и RMSE модели.\n",
    "result_0 = mean_squared_error(target_valid_0, predictions_valid_0) ** 0.5\n",
    "result_1 = mean_squared_error(target_valid_1, predictions_valid_1) ** 0.5\n",
    "result_2 = mean_squared_error(target_valid_2, predictions_valid_2) ** 0.5\n",
    "print('Средний запас предсказанного сырья в первом регионе:', df_0['product'].mean(), 'RMSE первой модели:', result_0)\n",
    "print('Средний запас предсказанного сырья во втором регионе:', df_1['product'].mean(), 'RMSE второй модели:', result_1)\n",
    "print('Средний запас предсказанного сырья в третьем регионе:', df_2['product'].mean(), 'RMSE третьей модели:', result_2)\n"
   ]
  },
  {
   "cell_type": "markdown",
   "metadata": {},
   "source": [
    "<div class=\"alert alert-block alert-success\">\n",
    "<b>Успех:</b> Модели обучены корректно.\n",
    "</div>\n",
    "\n",
    "<div class=\"alert alert-block alert-info\">\n",
    "<b>Совет: </b> На протяжении всего проекта происходит работа с 3мя одинаковыми таблицами. В связи с этим можно было использовать функции и/или циклы, чтобы избежать копирования кода.\n",
    "<br> Зачем его нужно избегать? Потому что очень часто оно приводит к ошибкам (например, забыл поменять одну из переменных). Впоследствии такие ошибки очень трудно найти.\n",
    "</div>"
   ]
  },
  {
   "cell_type": "markdown",
   "metadata": {},
   "source": [
    "## Подготовка к расчёту прибыли"
   ]
  },
  {
   "cell_type": "code",
   "execution_count": 11,
   "metadata": {},
   "outputs": [],
   "source": [
    "# 3.1. Все ключевые значения для расчётов сохраним в отдельных переменных.\n",
    "budget = 10000000000\n",
    "#исследуем 500 точек\n",
    "chosen_dots = 500 \n",
    "#200 лучших\n",
    "best_dots = 200 \n",
    "#за 1000 баррель\n",
    "income = 450000 "
   ]
  },
  {
   "cell_type": "code",
   "execution_count": 12,
   "metadata": {},
   "outputs": [
    {
     "name": "stdout",
     "output_type": "stream",
     "text": [
      "Средний объем нефти на точку - 111.11111111111111 тыс. баррелей\n",
      "Средний запас фактичекой нефти на скважину в первом регионе 92.50000000000001\n",
      "Средний запас фактичекой нефти на скважину во втором регионе 68.82500000000002\n",
      "Средний запас фактичекой нефти на скважину в третьем регионе 95.00000000000004\n"
     ]
    }
   ],
   "source": [
    "# 3.2. Рассчитаем достаточный объём сырья для безубыточной разработки новой скважины.\n",
    "suffice_volume = budget / 200 / income\n",
    "print('Средний объем нефти на точку -', suffice_volume, 'тыс. баррелей')\n",
    "# Сравним полученный объём сырья со средним запасом в каждом регионе.\n",
    "print('Средний запас фактичекой нефти на скважину в первом регионе', df_0['product'].mean())\n",
    "print('Средний запас фактичекой нефти на скважину во втором регионе', df_1['product'].mean())\n",
    "print('Средний запас фактичекой нефти на скважину в третьем регионе', df_2['product'].mean())"
   ]
  },
  {
   "cell_type": "markdown",
   "metadata": {},
   "source": [
    "Вывод Анализ средних объемов на скважину для каждого региона следующий.\n",
    "\n",
    "    Средний запас фактичекой нефти на скважину в 1 92.50000000000001\n",
    "    Средний запас фактичекой нефти на скважину в 2 68.82500000000002\n",
    "    Средний запас фактичекой нефти на скважину в 3 95.00000000000004\n",
    "\n",
    "Изучены средние фактические запасы. Для первого и третьего - высокая вероятность окупить затраты.\n"
   ]
  },
  {
   "cell_type": "markdown",
   "metadata": {},
   "source": [
    "<div class=\"alert alert-block alert-info\">\n",
    "\n",
    "<b>Совет: </b> В названиях константных переменных лучше использовать только БОЛЬШИЕ буквы. Это соглашение между программистами: https://pythonworld.ru/osnovy/pep-8-rukovodstvo-po-napisaniyu-koda-na-python.html#id29 .\n",
    "</div>\n",
    "\n",
    "<div class=\"alert alert-block alert-success\">\n",
    "<b>Успех:</b> Точка безубыточности найдена верно, сравнение проведено!\n",
    "</div>"
   ]
  },
  {
   "cell_type": "markdown",
   "metadata": {},
   "source": [
    "## Расчёт прибыли и рисков "
   ]
  },
  {
   "cell_type": "markdown",
   "metadata": {},
   "source": [
    "Напишим функцию для расчёта прибыли по выбранным скважинам и предсказаниям модели:"
   ]
  },
  {
   "cell_type": "code",
   "execution_count": 122,
   "metadata": {},
   "outputs": [],
   "source": [
    "def oil_profit(target, probs, count):\n",
    "    probs_sorted = probs.sort_values(ascending=False)\n",
    "    selected = target[probs_sorted.index][:count]\n",
    "    return income * selected.sum() - budget"
   ]
  },
  {
   "cell_type": "markdown",
   "metadata": {},
   "source": [
    "<div class=\"alert alert-block alert-success\">\n",
    "<b>Успех:</b> Верно.\n",
    "</div>"
   ]
  },
  {
   "cell_type": "markdown",
   "metadata": {},
   "source": [
    "Посчитаем риски и прибыль для каждого региона:"
   ]
  },
  {
   "cell_type": "code",
   "execution_count": 123,
   "metadata": {},
   "outputs": [],
   "source": [
    "# 5.1. Примените технику Bootstrap с 1000 выборок, чтобы найти распределение прибыли."
   ]
  },
  {
   "cell_type": "code",
   "execution_count": 124,
   "metadata": {},
   "outputs": [],
   "source": [
    "state = np.random.RandomState(12345)\n",
    "def bootstrap_1000(target, probs):\n",
    "    values=[]\n",
    "    lost = 0\n",
    "    probs = pd.Series(probs).reset_index(drop=True)\n",
    "    target = target.reset_index(drop=True)\n",
    "    for i in range(1000):\n",
    "        target_sample = target.sample(replace=True, random_state=state, n=chosen_dots)\n",
    "        probs_sample = probs[target_sample.index]\n",
    "        profit = oil_profit(target, probs_sample, best_dots)\n",
    "        if profit < 0:\n",
    "            lost +=1\n",
    "        values.append(profit)\n",
    "    \n",
    "    values = pd.Series(values)\n",
    "    lower = values.quantile(0.025)\n",
    "    upper = values.quantile(0.975)\n",
    "    average = values.mean()\n",
    "    risk = lost / 1000\n",
    "    return average, lower, upper, risk"
   ]
  },
  {
   "cell_type": "markdown",
   "metadata": {},
   "source": [
    "<div class=\"alert alert-block alert-success\">\n",
    "<b>Успех:</b> Отлично, что для подсчета доверительного интервала использовался именно метод квантилей!\n",
    "</div>\n",
    "\n",
    "\n",
    "<div class=\"alert alert-block alert-info\">\n",
    "\n",
    "<b>Совет: </b> Риск можно было найти чуть проще: `(values < 0).mean()`, если объект типа pandas Series или numpy array.\n",
    "</div>"
   ]
  },
  {
   "cell_type": "code",
   "execution_count": 126,
   "metadata": {},
   "outputs": [
    {
     "name": "stdout",
     "output_type": "stream",
     "text": [
      "Средняя прибыль по региону = 391783677.38 тыс.руб.\n",
      "95% доверительный интервал от -142969648.77 до 888569480.35 тыс.руб.\n",
      "Процент риска 7.00%\n"
     ]
    }
   ],
   "source": [
    "average_0, lower_0, upper_0, risk_0 = bootstrap_1000(target_valid_0, \n",
    "                                                     predictions_valid_0)\n",
    "print('Средняя прибыль по региону = {:.2f} тыс.руб.'.format(average_0))\n",
    "print('95% доверительный интервал от {:.2f} до {:.2f} тыс.руб.'.format(lower_0, upper_0))\n",
    "print('Процент риска {:.2%}'.format(risk_0))"
   ]
  },
  {
   "cell_type": "code",
   "execution_count": 127,
   "metadata": {},
   "outputs": [
    {
     "name": "stdout",
     "output_type": "stream",
     "text": [
      "Средняя прибыль по региону = 447095482.79 тыс.руб.\n",
      "95% доверительный интервал от 81579096.29 до 836000872.56 тыс.руб.\n",
      "Процент риска 1.20%\n"
     ]
    }
   ],
   "source": [
    "average_1, lower_1, upper_1, risk_1 = bootstrap_1000(target_valid_1, \n",
    "                                                     predictions_valid_1)\n",
    "print('Средняя прибыль по региону = {:.2f} тыс.руб.'.format(average_1))\n",
    "print('95% доверительный интервал от {:.2f} до {:.2f} тыс.руб.'.format(lower_1, upper_1))\n",
    "print('Процент риска {:.2%}'.format(risk_1))"
   ]
  },
  {
   "cell_type": "code",
   "execution_count": 128,
   "metadata": {},
   "outputs": [
    {
     "name": "stdout",
     "output_type": "stream",
     "text": [
      "Средняя прибыль по региону = 395329259.55 тыс.руб.\n",
      "95% доверительный интервал от -89418725.54 до 887227452.26 тыс.руб.\n",
      "Процент риска 5.70%\n"
     ]
    }
   ],
   "source": [
    "average_2, lower_2, upper_2, risk_2 = bootstrap_1000(target_valid_2, \n",
    "                                                     predictions_valid_2)\n",
    "print('Средняя прибыль по региону = {:.2f} тыс.руб.'.format(average_2))\n",
    "print('95% доверительный интервал от {:.2f} до {:.2f} тыс.руб.'.format(lower_2, upper_2))\n",
    "print('Процент риска {:.2%}'.format(risk_2))"
   ]
  },
  {
   "cell_type": "markdown",
   "metadata": {},
   "source": [
    "После оценки рисков нужно оставить лишь те регионы, в которых вероятность убытков меньше 2.5%. Среди них выбирают регион с наибольшей средней прибылью."
   ]
  },
  {
   "cell_type": "markdown",
   "metadata": {},
   "source": [
    "ВЫВОД: Только второй регион отвечает необходимому условию по вероятности убытков меньше 2.5%. Его мы и рекомендуем для разработки."
   ]
  },
  {
   "cell_type": "markdown",
   "metadata": {},
   "source": [
    "<div class=\"alert alert-block alert-success\">\n",
    "<b>Успех:</b> С выбором региона согласен.\n",
    "</div>"
   ]
  },
  {
   "cell_type": "markdown",
   "metadata": {},
   "source": [
    "## Чек-лист готовности проекта"
   ]
  },
  {
   "cell_type": "markdown",
   "metadata": {},
   "source": [
    "Поставьте 'x' в выполненных пунктах. Далее нажмите Shift+Enter."
   ]
  },
  {
   "cell_type": "markdown",
   "metadata": {},
   "source": [
    "- [x]  Jupyter Notebook открыт\n",
    "- [ ]  Весь код выполняется без ошибок\n",
    "- [ ]  Ячейки с кодом расположены в порядке исполнения\n",
    "- [ ]  Выполнен шаг 1: данные подготовлены\n",
    "- [ ]  Выполнен шаг 2: модели обучены и проверены\n",
    "    - [ ]  Данные корректно разбиты на обучающую и валидационную выборки\n",
    "    - [ ]  Модели обучены, предсказания сделаны\n",
    "    - [ ]  Предсказания и правильные ответы на валидационной выборке сохранены\n",
    "    - [ ]  На экране напечатаны результаты\n",
    "    - [ ]  Сделаны выводы\n",
    "- [ ]  Выполнен шаг 3: проведена подготовка к расчёту прибыли\n",
    "    - [ ]  Для всех ключевых значений созданы константы Python\n",
    "    - [ ]  Посчитано минимальное среднее количество продукта в месторождениях региона, достаточное для разработки\n",
    "    - [ ]  По предыдущему пункту сделаны выводы\n",
    "    - [ ]  Написана функция расчёта прибыли\n",
    "- [ ]  Выполнен шаг 4: посчитаны риски и прибыль\n",
    "    - [ ]  Проведена процедура *Bootstrap*\n",
    "    - [ ]  Все параметры бутстрепа соответствуют условию\n",
    "    - [ ]  Найдены все нужные величины\n",
    "    - [ ]  Предложен регион для разработки месторождения\n",
    "    - [ ]  Выбор региона обоснован"
   ]
  },
  {
   "cell_type": "code",
   "execution_count": null,
   "metadata": {},
   "outputs": [],
   "source": []
  }
 ],
 "metadata": {
  "ExecuteTimeLog": [
   {
    "duration": 441,
    "start_time": "2023-05-16T12:17:31.110Z"
   },
   {
    "duration": 2587,
    "start_time": "2023-05-16T12:18:35.033Z"
   },
   {
    "duration": 31,
    "start_time": "2023-05-16T12:19:25.037Z"
   },
   {
    "duration": 25,
    "start_time": "2023-05-16T12:22:46.718Z"
   },
   {
    "duration": 57,
    "start_time": "2023-05-16T12:23:19.921Z"
   },
   {
    "duration": 2462,
    "start_time": "2023-05-16T12:24:16.605Z"
   },
   {
    "duration": 1772,
    "start_time": "2023-05-16T12:24:32.135Z"
   },
   {
    "duration": 1338,
    "start_time": "2023-05-16T12:24:47.104Z"
   },
   {
    "duration": 3,
    "start_time": "2023-05-16T12:30:43.651Z"
   },
   {
    "duration": 1480,
    "start_time": "2023-05-16T12:31:03.154Z"
   },
   {
    "duration": 1552,
    "start_time": "2023-05-16T12:31:19.410Z"
   },
   {
    "duration": 1358,
    "start_time": "2023-05-16T12:32:06.790Z"
   },
   {
    "duration": 1494,
    "start_time": "2023-05-16T12:32:40.521Z"
   },
   {
    "duration": 1164,
    "start_time": "2023-05-16T12:32:47.309Z"
   },
   {
    "duration": 89,
    "start_time": "2023-05-16T12:33:31.955Z"
   },
   {
    "duration": 1471,
    "start_time": "2023-05-16T12:33:58.121Z"
   },
   {
    "duration": 12,
    "start_time": "2023-05-16T12:34:08.003Z"
   },
   {
    "duration": 78,
    "start_time": "2023-05-16T12:35:17.468Z"
   },
   {
    "duration": 43,
    "start_time": "2023-05-16T12:35:28.913Z"
   },
   {
    "duration": 61,
    "start_time": "2023-05-16T12:35:38.749Z"
   },
   {
    "duration": 811,
    "start_time": "2023-05-16T12:38:16.204Z"
   },
   {
    "duration": 118,
    "start_time": "2023-05-16T12:47:02.800Z"
   },
   {
    "duration": 46,
    "start_time": "2023-05-16T12:47:29.704Z"
   },
   {
    "duration": 40,
    "start_time": "2023-05-16T12:49:25.251Z"
   },
   {
    "duration": 75,
    "start_time": "2023-05-16T12:50:36.303Z"
   },
   {
    "duration": 59,
    "start_time": "2023-05-16T12:51:23.797Z"
   },
   {
    "duration": 1575,
    "start_time": "2023-05-18T13:06:27.370Z"
   },
   {
    "duration": 138,
    "start_time": "2023-05-18T13:07:00.914Z"
   },
   {
    "duration": 1302,
    "start_time": "2023-05-18T13:07:15.907Z"
   },
   {
    "duration": 1113,
    "start_time": "2023-05-18T13:07:17.211Z"
   },
   {
    "duration": 35,
    "start_time": "2023-05-18T13:07:18.327Z"
   },
   {
    "duration": 66,
    "start_time": "2023-05-18T13:07:18.364Z"
   },
   {
    "duration": 1954,
    "start_time": "2023-05-18T13:07:18.433Z"
   },
   {
    "duration": 212,
    "start_time": "2023-05-18T13:07:20.391Z"
   },
   {
    "duration": 3,
    "start_time": "2023-05-18T13:08:03.462Z"
   },
   {
    "duration": 127,
    "start_time": "2023-05-18T13:09:16.807Z"
   },
   {
    "duration": 103,
    "start_time": "2023-05-18T13:09:41.589Z"
   },
   {
    "duration": 81,
    "start_time": "2023-05-18T13:30:20.621Z"
   },
   {
    "duration": 15,
    "start_time": "2023-05-18T13:42:42.654Z"
   },
   {
    "duration": 5,
    "start_time": "2023-05-18T13:43:11.612Z"
   },
   {
    "duration": 61,
    "start_time": "2023-05-18T13:43:17.465Z"
   },
   {
    "duration": 56,
    "start_time": "2023-05-18T13:43:46.557Z"
   },
   {
    "duration": 40,
    "start_time": "2023-05-18T13:44:31.345Z"
   },
   {
    "duration": 109,
    "start_time": "2023-05-18T13:44:48.270Z"
   },
   {
    "duration": 51,
    "start_time": "2023-05-18T13:44:53.849Z"
   },
   {
    "duration": 40,
    "start_time": "2023-05-18T13:46:29.498Z"
   },
   {
    "duration": 77,
    "start_time": "2023-05-18T13:46:38.705Z"
   },
   {
    "duration": 102,
    "start_time": "2023-05-18T13:46:50.412Z"
   },
   {
    "duration": 38,
    "start_time": "2023-05-18T13:47:03.449Z"
   },
   {
    "duration": 6,
    "start_time": "2023-05-18T13:47:09.908Z"
   },
   {
    "duration": 540,
    "start_time": "2023-05-18T13:47:10.588Z"
   },
   {
    "duration": 34,
    "start_time": "2023-05-18T13:47:11.757Z"
   },
   {
    "duration": 69,
    "start_time": "2023-05-18T13:47:12.452Z"
   },
   {
    "duration": 1389,
    "start_time": "2023-05-18T13:47:13.341Z"
   },
   {
    "duration": 102,
    "start_time": "2023-05-18T13:47:18.444Z"
   },
   {
    "duration": 37,
    "start_time": "2023-05-18T13:47:23.414Z"
   },
   {
    "duration": 41,
    "start_time": "2023-05-18T13:47:28.042Z"
   },
   {
    "duration": 11,
    "start_time": "2023-05-18T13:49:33.849Z"
   },
   {
    "duration": 4,
    "start_time": "2023-05-18T13:50:01.241Z"
   },
   {
    "duration": 6,
    "start_time": "2023-05-18T13:50:10.841Z"
   },
   {
    "duration": 8,
    "start_time": "2023-05-18T13:50:20.914Z"
   },
   {
    "duration": 41,
    "start_time": "2023-05-18T13:54:51.800Z"
   },
   {
    "duration": 11,
    "start_time": "2023-05-18T13:56:11.448Z"
   },
   {
    "duration": 22,
    "start_time": "2023-05-18T13:57:18.798Z"
   },
   {
    "duration": 14,
    "start_time": "2023-05-18T13:57:33.548Z"
   },
   {
    "duration": 1104,
    "start_time": "2023-05-20T19:25:02.774Z"
   },
   {
    "duration": 113,
    "start_time": "2023-05-20T19:30:27.751Z"
   },
   {
    "duration": 10,
    "start_time": "2023-05-20T19:35:54.462Z"
   },
   {
    "duration": 12,
    "start_time": "2023-05-20T19:36:05.078Z"
   },
   {
    "duration": 3,
    "start_time": "2023-05-20T19:36:12.370Z"
   },
   {
    "duration": 2258,
    "start_time": "2023-05-20T19:36:13.570Z"
   },
   {
    "duration": 25,
    "start_time": "2023-05-20T19:36:16.370Z"
   },
   {
    "duration": 36,
    "start_time": "2023-05-20T19:36:17.124Z"
   },
   {
    "duration": 1411,
    "start_time": "2023-05-20T19:36:17.614Z"
   },
   {
    "duration": 62,
    "start_time": "2023-05-20T19:36:19.027Z"
   },
   {
    "duration": 28,
    "start_time": "2023-05-20T19:36:19.090Z"
   },
   {
    "duration": 11175,
    "start_time": "2023-05-20T19:36:23.108Z"
   },
   {
    "duration": 10178,
    "start_time": "2023-05-20T19:37:18.097Z"
   },
   {
    "duration": 11093,
    "start_time": "2023-05-20T19:37:52.189Z"
   },
   {
    "duration": 46,
    "start_time": "2023-05-23T17:30:55.023Z"
   },
   {
    "duration": 983,
    "start_time": "2023-05-23T17:31:01.226Z"
   },
   {
    "duration": 676,
    "start_time": "2023-05-23T17:31:02.612Z"
   },
   {
    "duration": 24,
    "start_time": "2023-05-23T17:31:03.668Z"
   },
   {
    "duration": 32,
    "start_time": "2023-05-23T17:31:07.194Z"
   },
   {
    "duration": 1196,
    "start_time": "2023-05-23T17:31:07.721Z"
   },
   {
    "duration": 115,
    "start_time": "2023-05-23T17:31:08.919Z"
   },
   {
    "duration": 50,
    "start_time": "2023-05-23T17:31:09.035Z"
   },
   {
    "duration": 7607,
    "start_time": "2023-05-23T17:31:09.087Z"
   },
   {
    "duration": 110,
    "start_time": "2023-05-23T17:31:16.697Z"
   },
   {
    "duration": 81,
    "start_time": "2023-05-23T17:31:16.809Z"
   },
   {
    "duration": 19,
    "start_time": "2023-05-23T17:32:41.259Z"
   },
   {
    "duration": 7,
    "start_time": "2023-05-23T17:32:43.139Z"
   },
   {
    "duration": 6,
    "start_time": "2023-05-23T17:32:47.071Z"
   },
   {
    "duration": 5,
    "start_time": "2023-05-23T17:33:07.036Z"
   },
   {
    "duration": 7,
    "start_time": "2023-05-23T17:33:25.379Z"
   },
   {
    "duration": 10,
    "start_time": "2023-05-23T17:46:36.136Z"
   },
   {
    "duration": 10,
    "start_time": "2023-05-23T17:54:22.393Z"
   },
   {
    "duration": 9,
    "start_time": "2023-05-23T17:54:31.026Z"
   },
   {
    "duration": 7,
    "start_time": "2023-05-23T17:54:39.870Z"
   },
   {
    "duration": 17,
    "start_time": "2023-05-23T17:54:54.253Z"
   },
   {
    "duration": 19,
    "start_time": "2023-05-23T17:55:06.722Z"
   },
   {
    "duration": 7,
    "start_time": "2023-05-23T17:55:32.630Z"
   },
   {
    "duration": 18518,
    "start_time": "2023-05-23T18:03:00.871Z"
   },
   {
    "duration": 4,
    "start_time": "2023-05-23T18:13:44.900Z"
   },
   {
    "duration": 17,
    "start_time": "2023-05-23T18:14:38.458Z"
   },
   {
    "duration": 16454,
    "start_time": "2023-05-23T18:14:54.113Z"
   },
   {
    "duration": 18710,
    "start_time": "2023-05-23T18:15:36.977Z"
   },
   {
    "duration": 20,
    "start_time": "2023-05-23T18:16:09.528Z"
   },
   {
    "duration": 9,
    "start_time": "2023-05-23T18:16:10.342Z"
   },
   {
    "duration": 9,
    "start_time": "2023-05-23T18:20:03.055Z"
   },
   {
    "duration": 8,
    "start_time": "2023-05-23T18:20:24.124Z"
   },
   {
    "duration": 7,
    "start_time": "2023-05-23T18:20:29.623Z"
   },
   {
    "duration": 7,
    "start_time": "2023-05-23T18:20:35.277Z"
   },
   {
    "duration": 4,
    "start_time": "2023-05-23T19:00:27.061Z"
   },
   {
    "duration": 47,
    "start_time": "2023-05-25T14:18:03.240Z"
   },
   {
    "duration": 1051,
    "start_time": "2023-05-25T14:18:12.403Z"
   },
   {
    "duration": 1558,
    "start_time": "2023-05-25T14:18:13.456Z"
   },
   {
    "duration": 31,
    "start_time": "2023-05-25T14:18:15.015Z"
   },
   {
    "duration": 50,
    "start_time": "2023-05-25T14:18:15.048Z"
   },
   {
    "duration": 1530,
    "start_time": "2023-05-25T14:18:15.100Z"
   },
   {
    "duration": 65,
    "start_time": "2023-05-25T14:18:16.632Z"
   },
   {
    "duration": 29,
    "start_time": "2023-05-25T14:18:16.699Z"
   },
   {
    "duration": 25946,
    "start_time": "2023-05-25T14:18:16.729Z"
   },
   {
    "duration": 27,
    "start_time": "2023-05-25T14:18:42.676Z"
   },
   {
    "duration": 80,
    "start_time": "2023-05-25T14:18:42.706Z"
   },
   {
    "duration": 94,
    "start_time": "2023-05-25T14:18:42.788Z"
   },
   {
    "duration": 118,
    "start_time": "2023-05-25T14:18:42.884Z"
   },
   {
    "duration": 1134,
    "start_time": "2023-05-25T15:35:09.756Z"
   },
   {
    "duration": 400,
    "start_time": "2023-05-25T15:35:10.892Z"
   },
   {
    "duration": 29,
    "start_time": "2023-05-25T15:35:11.294Z"
   },
   {
    "duration": 62,
    "start_time": "2023-05-25T15:35:11.325Z"
   },
   {
    "duration": 1356,
    "start_time": "2023-05-25T15:35:11.389Z"
   },
   {
    "duration": 155,
    "start_time": "2023-05-25T15:35:12.747Z"
   },
   {
    "duration": 30,
    "start_time": "2023-05-25T15:35:12.904Z"
   },
   {
    "duration": 23147,
    "start_time": "2023-05-25T15:35:12.936Z"
   },
   {
    "duration": 95,
    "start_time": "2023-05-25T15:35:36.085Z"
   },
   {
    "duration": 95,
    "start_time": "2023-05-25T15:35:36.183Z"
   },
   {
    "duration": 109,
    "start_time": "2023-05-25T15:35:36.282Z"
   },
   {
    "duration": 108,
    "start_time": "2023-05-25T15:35:36.393Z"
   },
   {
    "duration": 9,
    "start_time": "2023-05-25T15:40:08.168Z"
   },
   {
    "duration": 9,
    "start_time": "2023-05-25T15:40:15.939Z"
   },
   {
    "duration": 4,
    "start_time": "2023-05-25T15:40:17.064Z"
   },
   {
    "duration": 6,
    "start_time": "2023-05-25T15:41:26.472Z"
   },
   {
    "duration": 4,
    "start_time": "2023-05-25T15:42:33.027Z"
   },
   {
    "duration": 9,
    "start_time": "2023-05-25T15:42:33.490Z"
   },
   {
    "duration": 12,
    "start_time": "2023-05-25T17:32:08.595Z"
   },
   {
    "duration": 3,
    "start_time": "2023-05-25T17:33:58.639Z"
   },
   {
    "duration": 1204,
    "start_time": "2023-05-25T18:00:30.424Z"
   },
   {
    "duration": 1136,
    "start_time": "2023-05-25T18:00:38.173Z"
   },
   {
    "duration": 1075,
    "start_time": "2023-05-25T18:00:39.311Z"
   },
   {
    "duration": 28,
    "start_time": "2023-05-25T18:00:40.388Z"
   },
   {
    "duration": 62,
    "start_time": "2023-05-25T18:00:40.418Z"
   },
   {
    "duration": 1709,
    "start_time": "2023-05-25T18:00:40.482Z"
   },
   {
    "duration": 69,
    "start_time": "2023-05-25T18:00:42.193Z"
   },
   {
    "duration": 33,
    "start_time": "2023-05-25T18:00:42.266Z"
   },
   {
    "duration": 19483,
    "start_time": "2023-05-25T18:00:42.301Z"
   },
   {
    "duration": 101,
    "start_time": "2023-05-25T18:01:01.850Z"
   },
   {
    "duration": 99,
    "start_time": "2023-05-25T18:01:01.953Z"
   },
   {
    "duration": 52,
    "start_time": "2023-05-25T18:01:02.056Z"
   },
   {
    "duration": 57,
    "start_time": "2023-05-25T18:01:02.110Z"
   },
   {
    "duration": 38,
    "start_time": "2023-05-25T18:01:02.172Z"
   },
   {
    "duration": 204,
    "start_time": "2023-05-25T18:01:02.212Z"
   },
   {
    "duration": 0,
    "start_time": "2023-05-25T18:01:02.418Z"
   },
   {
    "duration": 0,
    "start_time": "2023-05-25T18:01:02.420Z"
   },
   {
    "duration": 11,
    "start_time": "2023-05-25T18:16:28.671Z"
   },
   {
    "duration": 7,
    "start_time": "2023-05-25T18:21:00.367Z"
   },
   {
    "duration": 5,
    "start_time": "2023-05-25T18:24:59.629Z"
   },
   {
    "duration": 53,
    "start_time": "2023-05-26T16:08:07.908Z"
   },
   {
    "duration": 7,
    "start_time": "2023-05-26T16:12:46.511Z"
   },
   {
    "duration": 1052,
    "start_time": "2023-05-26T16:12:55.072Z"
   },
   {
    "duration": 1827,
    "start_time": "2023-05-26T16:12:56.132Z"
   },
   {
    "duration": 30,
    "start_time": "2023-05-26T16:12:57.961Z"
   },
   {
    "duration": 51,
    "start_time": "2023-05-26T16:12:57.993Z"
   },
   {
    "duration": 1624,
    "start_time": "2023-05-26T16:12:58.046Z"
   },
   {
    "duration": 95,
    "start_time": "2023-05-26T16:12:59.673Z"
   },
   {
    "duration": 33,
    "start_time": "2023-05-26T16:12:59.770Z"
   },
   {
    "duration": 18628,
    "start_time": "2023-05-26T16:12:59.805Z"
   },
   {
    "duration": 120,
    "start_time": "2023-05-26T16:13:18.437Z"
   },
   {
    "duration": 90,
    "start_time": "2023-05-26T16:13:18.559Z"
   },
   {
    "duration": 6,
    "start_time": "2023-05-26T16:13:18.732Z"
   },
   {
    "duration": 12,
    "start_time": "2023-05-26T16:13:18.740Z"
   },
   {
    "duration": 27,
    "start_time": "2023-05-26T16:13:18.754Z"
   },
   {
    "duration": 20,
    "start_time": "2023-05-26T16:13:18.783Z"
   },
   {
    "duration": 14,
    "start_time": "2023-05-26T16:13:18.805Z"
   },
   {
    "duration": 37,
    "start_time": "2023-05-26T16:13:18.821Z"
   },
   {
    "duration": 13,
    "start_time": "2023-05-26T16:13:18.860Z"
   },
   {
    "duration": 113,
    "start_time": "2023-05-26T16:15:47.553Z"
   },
   {
    "duration": 18,
    "start_time": "2023-05-26T16:16:34.905Z"
   },
   {
    "duration": 4,
    "start_time": "2023-05-26T16:18:00.808Z"
   },
   {
    "duration": 4,
    "start_time": "2023-05-26T16:18:16.436Z"
   },
   {
    "duration": 5,
    "start_time": "2023-05-26T16:18:20.337Z"
   },
   {
    "duration": 14,
    "start_time": "2023-05-26T16:18:25.797Z"
   },
   {
    "duration": 14,
    "start_time": "2023-05-26T16:21:59.959Z"
   },
   {
    "duration": 5,
    "start_time": "2023-05-26T16:23:41.636Z"
   },
   {
    "duration": 9,
    "start_time": "2023-05-26T16:23:44.722Z"
   },
   {
    "duration": 17,
    "start_time": "2023-05-26T16:23:45.151Z"
   },
   {
    "duration": 3,
    "start_time": "2023-05-26T16:24:17.744Z"
   },
   {
    "duration": 2,
    "start_time": "2023-05-26T16:24:19.089Z"
   },
   {
    "duration": 10,
    "start_time": "2023-05-26T16:24:19.636Z"
   },
   {
    "duration": 4,
    "start_time": "2023-05-26T16:24:20.344Z"
   },
   {
    "duration": 15,
    "start_time": "2023-05-26T16:24:20.748Z"
   },
   {
    "duration": 5,
    "start_time": "2023-05-26T16:32:07.162Z"
   },
   {
    "duration": 17,
    "start_time": "2023-05-26T16:32:08.502Z"
   },
   {
    "duration": 5,
    "start_time": "2023-05-26T16:33:11.403Z"
   },
   {
    "duration": 19,
    "start_time": "2023-05-26T16:33:12.494Z"
   },
   {
    "duration": 7,
    "start_time": "2023-05-26T16:35:09.060Z"
   },
   {
    "duration": 12,
    "start_time": "2023-05-26T16:35:10.343Z"
   },
   {
    "duration": 5,
    "start_time": "2023-05-26T16:38:21.855Z"
   },
   {
    "duration": 22,
    "start_time": "2023-05-26T16:38:22.415Z"
   },
   {
    "duration": 4,
    "start_time": "2023-05-26T16:39:09.087Z"
   },
   {
    "duration": 2,
    "start_time": "2023-05-26T16:39:10.241Z"
   },
   {
    "duration": 6,
    "start_time": "2023-05-26T16:39:10.632Z"
   },
   {
    "duration": 15,
    "start_time": "2023-05-26T16:39:12.173Z"
   },
   {
    "duration": 5,
    "start_time": "2023-05-26T16:39:21.734Z"
   },
   {
    "duration": 3,
    "start_time": "2023-05-26T16:39:22.588Z"
   },
   {
    "duration": 5,
    "start_time": "2023-05-26T16:39:22.893Z"
   },
   {
    "duration": 21,
    "start_time": "2023-05-26T16:39:23.423Z"
   },
   {
    "duration": 4,
    "start_time": "2023-05-26T16:39:41.488Z"
   },
   {
    "duration": 3,
    "start_time": "2023-05-26T16:39:42.146Z"
   },
   {
    "duration": 5,
    "start_time": "2023-05-26T16:39:42.411Z"
   },
   {
    "duration": 17,
    "start_time": "2023-05-26T16:39:42.937Z"
   },
   {
    "duration": 3,
    "start_time": "2023-05-26T16:40:13.860Z"
   },
   {
    "duration": 3,
    "start_time": "2023-05-26T16:40:14.739Z"
   },
   {
    "duration": 5,
    "start_time": "2023-05-26T16:40:15.046Z"
   },
   {
    "duration": 18,
    "start_time": "2023-05-26T16:40:15.439Z"
   },
   {
    "duration": 2,
    "start_time": "2023-05-26T16:40:16.010Z"
   },
   {
    "duration": 6,
    "start_time": "2023-05-26T16:41:30.445Z"
   },
   {
    "duration": 2,
    "start_time": "2023-05-26T16:41:31.460Z"
   },
   {
    "duration": 12,
    "start_time": "2023-05-26T16:41:31.823Z"
   },
   {
    "duration": 21,
    "start_time": "2023-05-26T16:41:32.351Z"
   },
   {
    "duration": 3,
    "start_time": "2023-05-26T16:43:49.274Z"
   },
   {
    "duration": 7,
    "start_time": "2023-05-26T16:43:50.136Z"
   },
   {
    "duration": 5,
    "start_time": "2023-05-26T16:43:50.687Z"
   },
   {
    "duration": 14,
    "start_time": "2023-05-26T16:43:51.351Z"
   },
   {
    "duration": 8,
    "start_time": "2023-05-26T16:44:58.632Z"
   },
   {
    "duration": 17,
    "start_time": "2023-05-26T16:44:59.245Z"
   },
   {
    "duration": 5,
    "start_time": "2023-05-26T16:45:07.795Z"
   },
   {
    "duration": 15,
    "start_time": "2023-05-26T16:45:08.263Z"
   },
   {
    "duration": 13,
    "start_time": "2023-05-26T16:46:23.323Z"
   },
   {
    "duration": 14,
    "start_time": "2023-05-26T16:46:23.803Z"
   },
   {
    "duration": 5,
    "start_time": "2023-05-26T16:47:58.207Z"
   },
   {
    "duration": 18,
    "start_time": "2023-05-26T16:47:59.545Z"
   },
   {
    "duration": 5,
    "start_time": "2023-05-26T16:48:04.682Z"
   },
   {
    "duration": 21,
    "start_time": "2023-05-26T16:48:05.288Z"
   },
   {
    "duration": 3,
    "start_time": "2023-05-26T16:48:46.757Z"
   },
   {
    "duration": 3,
    "start_time": "2023-05-26T16:48:47.655Z"
   },
   {
    "duration": 5,
    "start_time": "2023-05-26T16:48:48.100Z"
   },
   {
    "duration": 24,
    "start_time": "2023-05-26T16:48:49.008Z"
   },
   {
    "duration": 7,
    "start_time": "2023-05-26T16:49:42.154Z"
   },
   {
    "duration": 5,
    "start_time": "2023-05-26T16:49:43.021Z"
   },
   {
    "duration": 7,
    "start_time": "2023-05-26T16:49:43.605Z"
   },
   {
    "duration": 21,
    "start_time": "2023-05-26T16:49:44.152Z"
   },
   {
    "duration": 6,
    "start_time": "2023-05-26T16:51:45.654Z"
   },
   {
    "duration": 21,
    "start_time": "2023-05-26T16:51:46.332Z"
   },
   {
    "duration": 7,
    "start_time": "2023-05-26T16:52:07.645Z"
   },
   {
    "duration": 13,
    "start_time": "2023-05-26T16:52:08.558Z"
   },
   {
    "duration": 4,
    "start_time": "2023-05-26T16:52:13.774Z"
   },
   {
    "duration": 2,
    "start_time": "2023-05-26T16:52:15.083Z"
   },
   {
    "duration": 4,
    "start_time": "2023-05-26T16:52:15.603Z"
   },
   {
    "duration": 12,
    "start_time": "2023-05-26T16:52:16.276Z"
   },
   {
    "duration": 5,
    "start_time": "2023-05-26T16:52:53.178Z"
   },
   {
    "duration": 16,
    "start_time": "2023-05-26T16:52:53.706Z"
   },
   {
    "duration": 4,
    "start_time": "2023-05-26T16:53:20.483Z"
   },
   {
    "duration": 2,
    "start_time": "2023-05-26T16:53:21.383Z"
   },
   {
    "duration": 7,
    "start_time": "2023-05-26T16:53:21.955Z"
   },
   {
    "duration": 17,
    "start_time": "2023-05-26T16:53:22.483Z"
   },
   {
    "duration": 5,
    "start_time": "2023-05-26T16:53:48.857Z"
   },
   {
    "duration": 2,
    "start_time": "2023-05-26T16:53:49.664Z"
   },
   {
    "duration": 5,
    "start_time": "2023-05-26T16:53:50.101Z"
   },
   {
    "duration": 35,
    "start_time": "2023-05-26T16:53:50.639Z"
   },
   {
    "duration": 7,
    "start_time": "2023-05-26T16:55:30.516Z"
   },
   {
    "duration": 24,
    "start_time": "2023-05-26T16:55:31.000Z"
   },
   {
    "duration": 4,
    "start_time": "2023-05-26T16:55:46.331Z"
   },
   {
    "duration": 3,
    "start_time": "2023-05-26T16:55:46.802Z"
   },
   {
    "duration": 6,
    "start_time": "2023-05-26T16:55:47.542Z"
   },
   {
    "duration": 22,
    "start_time": "2023-05-26T16:55:48.161Z"
   },
   {
    "duration": 3,
    "start_time": "2023-05-26T16:58:06.606Z"
   },
   {
    "duration": 2,
    "start_time": "2023-05-26T16:58:07.640Z"
   },
   {
    "duration": 7,
    "start_time": "2023-05-26T16:58:08.222Z"
   },
   {
    "duration": 16,
    "start_time": "2023-05-26T16:58:09.207Z"
   },
   {
    "duration": 5,
    "start_time": "2023-05-26T17:00:02.452Z"
   },
   {
    "duration": 22,
    "start_time": "2023-05-26T17:00:03.117Z"
   },
   {
    "duration": 6,
    "start_time": "2023-05-26T17:00:34.095Z"
   },
   {
    "duration": 12,
    "start_time": "2023-05-26T17:00:34.779Z"
   },
   {
    "duration": 6,
    "start_time": "2023-05-26T17:00:44.316Z"
   },
   {
    "duration": 15,
    "start_time": "2023-05-26T17:00:44.951Z"
   },
   {
    "duration": 7,
    "start_time": "2023-05-26T17:02:15.020Z"
   },
   {
    "duration": 12,
    "start_time": "2023-05-26T17:02:15.757Z"
   },
   {
    "duration": 5,
    "start_time": "2023-05-26T17:02:24.288Z"
   },
   {
    "duration": 16,
    "start_time": "2023-05-26T17:02:24.876Z"
   },
   {
    "duration": 3,
    "start_time": "2023-05-26T17:02:40.288Z"
   },
   {
    "duration": 3,
    "start_time": "2023-05-26T17:02:41.156Z"
   },
   {
    "duration": 5,
    "start_time": "2023-05-26T17:02:41.586Z"
   },
   {
    "duration": 922,
    "start_time": "2023-05-26T17:02:42.086Z"
   },
   {
    "duration": 956,
    "start_time": "2023-05-26T17:06:00.724Z"
   },
   {
    "duration": 1007,
    "start_time": "2023-05-26T17:06:56.949Z"
   },
   {
    "duration": 1003,
    "start_time": "2023-05-26T17:09:08.895Z"
   }
  ],
  "kernelspec": {
   "display_name": "Python 3 (ipykernel)",
   "language": "python",
   "name": "python3"
  },
  "language_info": {
   "codemirror_mode": {
    "name": "ipython",
    "version": 3
   },
   "file_extension": ".py",
   "mimetype": "text/x-python",
   "name": "python",
   "nbconvert_exporter": "python",
   "pygments_lexer": "ipython3",
   "version": "3.9.5"
  },
  "toc": {
   "base_numbering": 1,
   "nav_menu": {},
   "number_sections": true,
   "sideBar": true,
   "skip_h1_title": true,
   "title_cell": "Table of Contents",
   "title_sidebar": "Contents",
   "toc_cell": false,
   "toc_position": {},
   "toc_section_display": true,
   "toc_window_display": false
  }
 },
 "nbformat": 4,
 "nbformat_minor": 2
}
