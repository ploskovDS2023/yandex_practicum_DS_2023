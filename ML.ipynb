{
 "cells": [
  {
   "cell_type": "markdown",
   "metadata": {},
   "source": [
    "Привет! Меня зовут Исмаил, я буду проверять твой проект :) Можешь обращаться ко мне на «ты». Если тебе комфортно, то и я буду к тебе так обращаться, если нет, то обязательно скажи об этом.\n",
    "\n",
    "Пожалуйста, не удаляй мои комментарии, которые я буду оставлять в работе. Это особенно поможет, если твои проекты будут отправлены на повторную проверку. При повторных проверках у комментариев будут приписки: \"Вторая итерация\", \"Третья итерация\" и т.д. \n",
    "\n",
    "Ты тоже можешь реагировать на мои комментарии, но в таком случае постарайся, чтобы твои комментарии отличались от моих: например, выделяй их своим любимым цветом — так у нас не возникнет путаницы :)\n",
    "\n",
    "Кстати, про цвета! Мои комментарии будут в следующей цветовой гамме: зелеными, желтыми и красными. Например:\n",
    "\n",
    "<div class=\"alert-success\"> \n",
    "<b>Комментарий ревьюера 👍 </b>\n",
    "    \n",
    "В случае, если решение на отдельном шаге является полностью правильным. </div>\n",
    "\n",
    "<div class=\"alert-warning\"> \n",
    "<b>Комментарий ревьюера 💡</b> \n",
    "    \n",
    "В случае, если решение может стать еще лучше с некоторыми корректировками </div>\n",
    " \n",
    "<div class=\"alert-danger\"> \n",
    "<b>Комментарий ревьюера ❌</b> \n",
    "    \n",
    "В случае, если решение какого-то шага требует значительных изменений. Проект не может быть принят с первого раза, если ревью содержит комментарии, помеченные этим цветом </div>"
   ]
  },
  {
   "cell_type": "markdown",
   "metadata": {},
   "source": [
    "# Рекомендация тарифов"
   ]
  },
  {
   "cell_type": "markdown",
   "metadata": {},
   "source": [
    "В вашем распоряжении данные о поведении клиентов, которые уже перешли на эти тарифы (из проекта курса «Статистический анализ данных»). Нужно построить модель для задачи классификации, которая выберет подходящий тариф. Предобработка данных не понадобится — вы её уже сделали.\n",
    "\n",
    "Постройте модель с максимально большим значением *accuracy*. Чтобы сдать проект успешно, нужно довести долю правильных ответов по крайней мере до 0.75. Проверьте *accuracy* на тестовой выборке самостоятельно."
   ]
  },
  {
   "cell_type": "markdown",
   "metadata": {},
   "source": [
    "## Откройте и изучите файл"
   ]
  },
  {
   "cell_type": "code",
   "execution_count": 1,
   "metadata": {},
   "outputs": [],
   "source": [
    "import pandas as pd\n",
    "from sklearn.model_selection import train_test_split \n",
    "from sklearn.tree import DecisionTreeClassifier\n",
    "from sklearn.ensemble import RandomForestClassifier\n",
    "from sklearn.linear_model import LogisticRegression\n",
    "from sklearn.metrics import accuracy_score"
   ]
  },
  {
   "cell_type": "code",
   "execution_count": 2,
   "metadata": {},
   "outputs": [],
   "source": [
    "df = pd.read_csv('/datasets/users_behavior.csv')"
   ]
  },
  {
   "cell_type": "code",
   "execution_count": 3,
   "metadata": {},
   "outputs": [
    {
     "data": {
      "text/html": [
       "<div>\n",
       "<style scoped>\n",
       "    .dataframe tbody tr th:only-of-type {\n",
       "        vertical-align: middle;\n",
       "    }\n",
       "\n",
       "    .dataframe tbody tr th {\n",
       "        vertical-align: top;\n",
       "    }\n",
       "\n",
       "    .dataframe thead th {\n",
       "        text-align: right;\n",
       "    }\n",
       "</style>\n",
       "<table border=\"1\" class=\"dataframe\">\n",
       "  <thead>\n",
       "    <tr style=\"text-align: right;\">\n",
       "      <th></th>\n",
       "      <th>calls</th>\n",
       "      <th>minutes</th>\n",
       "      <th>messages</th>\n",
       "      <th>mb_used</th>\n",
       "      <th>is_ultra</th>\n",
       "    </tr>\n",
       "  </thead>\n",
       "  <tbody>\n",
       "    <tr>\n",
       "      <th>0</th>\n",
       "      <td>40.0</td>\n",
       "      <td>311.90</td>\n",
       "      <td>83.0</td>\n",
       "      <td>19915.42</td>\n",
       "      <td>0</td>\n",
       "    </tr>\n",
       "    <tr>\n",
       "      <th>1</th>\n",
       "      <td>85.0</td>\n",
       "      <td>516.75</td>\n",
       "      <td>56.0</td>\n",
       "      <td>22696.96</td>\n",
       "      <td>0</td>\n",
       "    </tr>\n",
       "    <tr>\n",
       "      <th>2</th>\n",
       "      <td>77.0</td>\n",
       "      <td>467.66</td>\n",
       "      <td>86.0</td>\n",
       "      <td>21060.45</td>\n",
       "      <td>0</td>\n",
       "    </tr>\n",
       "    <tr>\n",
       "      <th>3</th>\n",
       "      <td>106.0</td>\n",
       "      <td>745.53</td>\n",
       "      <td>81.0</td>\n",
       "      <td>8437.39</td>\n",
       "      <td>1</td>\n",
       "    </tr>\n",
       "    <tr>\n",
       "      <th>4</th>\n",
       "      <td>66.0</td>\n",
       "      <td>418.74</td>\n",
       "      <td>1.0</td>\n",
       "      <td>14502.75</td>\n",
       "      <td>0</td>\n",
       "    </tr>\n",
       "  </tbody>\n",
       "</table>\n",
       "</div>"
      ],
      "text/plain": [
       "   calls  minutes  messages   mb_used  is_ultra\n",
       "0   40.0   311.90      83.0  19915.42         0\n",
       "1   85.0   516.75      56.0  22696.96         0\n",
       "2   77.0   467.66      86.0  21060.45         0\n",
       "3  106.0   745.53      81.0   8437.39         1\n",
       "4   66.0   418.74       1.0  14502.75         0"
      ]
     },
     "execution_count": 3,
     "metadata": {},
     "output_type": "execute_result"
    }
   ],
   "source": [
    "df.head()"
   ]
  },
  {
   "cell_type": "code",
   "execution_count": 4,
   "metadata": {},
   "outputs": [
    {
     "name": "stdout",
     "output_type": "stream",
     "text": [
      "<class 'pandas.core.frame.DataFrame'>\n",
      "RangeIndex: 3214 entries, 0 to 3213\n",
      "Data columns (total 5 columns):\n",
      " #   Column    Non-Null Count  Dtype  \n",
      "---  ------    --------------  -----  \n",
      " 0   calls     3214 non-null   float64\n",
      " 1   minutes   3214 non-null   float64\n",
      " 2   messages  3214 non-null   float64\n",
      " 3   mb_used   3214 non-null   float64\n",
      " 4   is_ultra  3214 non-null   int64  \n",
      "dtypes: float64(4), int64(1)\n",
      "memory usage: 125.7 KB\n"
     ]
    }
   ],
   "source": [
    "df.info()"
   ]
  },
  {
   "cell_type": "code",
   "execution_count": 5,
   "metadata": {},
   "outputs": [
    {
     "data": {
      "image/png": "[encoded data removed]",
      "text/plain": [
       "<Figure size 720x720 with 6 Axes>"
      ]
     },
     "metadata": {
      "needs_background": "light"
     },
     "output_type": "display_data"
    }
   ],
   "source": [
    "df.hist(figsize=(10, 10));"
   ]
  },
  {
   "cell_type": "markdown",
   "metadata": {},
   "source": [
    "<div class=\"alert-success\"> \n",
    "<b>Комментарий ревьюера 👍</b>\n",
    "\n",
    "Хороший первичный анализ данных"
   ]
  },
  {
   "cell_type": "markdown",
   "metadata": {},
   "source": [
    "## Разбейте данные на выборки"
   ]
  },
  {
   "cell_type": "markdown",
   "metadata": {},
   "source": [
    "Разделим исходные данные на обучающую, валидационную и тестовую выборки. Применим соотношение 3:1:1, валидационную и тестовую выборку сделаем равными."
   ]
  },
  {
   "cell_type": "code",
   "execution_count": 6,
   "metadata": {},
   "outputs": [],
   "source": [
    "df_train, df_test = train_test_split(df, test_size=0.20, random_state=12345)"
   ]
  },
  {
   "cell_type": "code",
   "execution_count": 7,
   "metadata": {},
   "outputs": [],
   "source": [
    "df_train, df_valid = train_test_split(df_train, test_size=0.25, random_state=12345)"
   ]
  },
  {
   "cell_type": "code",
   "execution_count": 8,
   "metadata": {},
   "outputs": [
    {
     "data": {
      "text/plain": [
       "(1928, 5)"
      ]
     },
     "metadata": {},
     "output_type": "display_data"
    },
    {
     "data": {
      "text/plain": [
       "(643, 5)"
      ]
     },
     "metadata": {},
     "output_type": "display_data"
    },
    {
     "data": {
      "text/plain": [
       "(643, 5)"
      ]
     },
     "execution_count": 8,
     "metadata": {},
     "output_type": "execute_result"
    }
   ],
   "source": [
    "# Посмотрим итоговый результат\n",
    "display(df_train.shape)\n",
    "display(df_valid.shape)\n",
    "df_test.shape"
   ]
  },
  {
   "cell_type": "markdown",
   "metadata": {},
   "source": [
    "<div class=\"alert-success\"> \n",
    "<b>Комментарий ревьюера 👍</b>\n",
    "\n",
    "Выборки разделены верно, здорово, что проверены их размеры"
   ]
  },
  {
   "cell_type": "markdown",
   "metadata": {},
   "source": [
    "## Исследуйте модели"
   ]
  },
  {
   "cell_type": "markdown",
   "metadata": {},
   "source": [
    "Исследуем качество разных моделей, меняя гиперпараметры. "
   ]
  },
  {
   "cell_type": "code",
   "execution_count": 9,
   "metadata": {},
   "outputs": [],
   "source": [
    "features = df_train.drop('is_ultra', axis=1)\n",
    "target = df_train['is_ultra']\n",
    "valid_features = df_valid.drop('is_ultra', axis=1)\n",
    "valid_target = df_valid['is_ultra']"
   ]
  },
  {
   "cell_type": "code",
   "execution_count": 17,
   "metadata": {},
   "outputs": [
    {
     "name": "stdout",
     "output_type": "stream",
     "text": [
      "max_depth = 1 : 0.7387247278382582\n",
      "max_depth = 2 : 0.7573872472783826\n",
      "max_depth = 3 : 0.7651632970451011\n",
      "max_depth = 4 : 0.7636080870917574\n",
      "max_depth = 5 : 0.7589424572317263\n"
     ]
    }
   ],
   "source": [
    "# Создадим модель дерева решений c перебором гиперпараметра max_depth.\n",
    "for depth in range(1, 6):\n",
    "    model = DecisionTreeClassifier(random_state=12345, max_depth=depth)\n",
    "    model.fit(features, target)\n",
    "    predictions_valid = model.predict(valid_features)\n",
    "    print('max_depth =', depth, ': ', end='')\n",
    "    print(accuracy_score(valid_target, predictions_valid))"
   ]
  },
  {
   "cell_type": "markdown",
   "metadata": {},
   "source": [
    "<font color='Blue'><b>Лучший показатель max_depth - 3.</b></font><br><br>\n"
   ]
  },
  {
   "cell_type": "markdown",
   "metadata": {},
   "source": [
    "<div class=\"alert-danger\"> \n",
    "<b>Комментарий ревьюера ❌ Вторая итерация </b> \n",
    "\n",
    "Рассмотрен только один гиперпараметр. Хотелось бы видеть перебор значений и у других гиперпараметров"
   ]
  },
  {
   "cell_type": "code",
   "execution_count": 25,
   "metadata": {},
   "outputs": [
    {
     "name": "stdout",
     "output_type": "stream",
     "text": [
      "max_leaf_nodes =  2 : 0.7387247278382582\n",
      "max_leaf_nodes =  3 : 0.7573872472783826\n",
      "max_leaf_nodes =  4 : 0.7651632970451011\n",
      "max_leaf_nodes =  5 : 0.7651632970451011\n",
      "max_leaf_nodes =  6 : 0.7651632970451011\n",
      "max_leaf_nodes =  7 : 0.7651632970451011\n",
      "max_leaf_nodes =  8 : 0.7651632970451011\n",
      "max_leaf_nodes =  9 : 0.7651632970451011\n"
     ]
    }
   ],
   "source": [
    "for nodes in range(2, 10):\n",
    "    model = DecisionTreeClassifier(random_state=12345, max_depth=3, max_leaf_nodes=nodes)\n",
    "    model.fit(features, target)\n",
    "    predictions_valid = model.predict(valid_features)\n",
    "    print('max_leaf_nodes = ', nodes, ': ', end='')\n",
    "    print(accuracy_score(valid_target, predictions_valid))"
   ]
  },
  {
   "cell_type": "markdown",
   "metadata": {},
   "source": [
    "<font color='Blue'><b>Лучший показатель max_leaf_nodes - 9.</b></font><br><br>"
   ]
  },
  {
   "cell_type": "code",
   "execution_count": 38,
   "metadata": {},
   "outputs": [
    {
     "name": "stdout",
     "output_type": "stream",
     "text": [
      "min_samples_leaf = 1 : 0.7776049766718507\n",
      "min_samples_leaf = 2 : 0.7776049766718507\n",
      "min_samples_leaf = 3 : 0.7776049766718507\n",
      "min_samples_leaf = 4 : 0.7776049766718507\n",
      "min_samples_leaf = 5 : 0.7776049766718507\n",
      "min_samples_leaf = 6 : 0.7776049766718507\n",
      "min_samples_leaf = 7 : 0.7776049766718507\n",
      "min_samples_leaf = 8 : 0.7776049766718507\n",
      "min_samples_leaf = 9 : 0.7776049766718507\n"
     ]
    }
   ],
   "source": [
    "for samples in range(1, 10):\n",
    "    model = DecisionTreeClassifier(random_state=12345, max_leaf_nodes=9, min_samples_leaf=samples)\n",
    "    model.fit(features, target)\n",
    "    predictions_valid = model.predict(valid_features)\n",
    "    print('min_samples_leaf =', samples, ': ', end='')\n",
    "    print(accuracy_score(valid_target, predictions_valid))"
   ]
  },
  {
   "cell_type": "markdown",
   "metadata": {},
   "source": [
    "<font color='Blue'><b>Параметр min_samples_leaf примем за значение по умолчанию - 1.</b></font><br><br>\n"
   ]
  },
  {
   "cell_type": "code",
   "execution_count": 41,
   "metadata": {},
   "outputs": [
    {
     "data": {
      "text/plain": [
       "DecisionTreeClassifier(max_depth=3, max_leaf_nodes=9, random_state=12345)"
      ]
     },
     "execution_count": 41,
     "metadata": {},
     "output_type": "execute_result"
    }
   ],
   "source": [
    "model = DecisionTreeClassifier(random_state=12345, max_depth=3, max_leaf_nodes=9, criterion='gini', min_samples_leaf=1)\n",
    "model.fit(features, target)"
   ]
  },
  {
   "cell_type": "code",
   "execution_count": 42,
   "metadata": {},
   "outputs": [
    {
     "name": "stdout",
     "output_type": "stream",
     "text": [
      "Точность первой модели: 0.7651632970451011\n"
     ]
    }
   ],
   "source": [
    "predictions_valid = model.predict(valid_features)\n",
    "result_accuracy = accuracy_score(valid_target, predictions_valid)\n",
    "print('Точность первой модели:', result_accuracy)"
   ]
  },
  {
   "cell_type": "code",
   "execution_count": null,
   "metadata": {},
   "outputs": [],
   "source": [
    "# Создадим модель случайного леса c перебором гиперпараметра n_estimators.\n",
    "for est in range(1, 50):\n",
    "    model2 = RandomForestClassifier(random_state=12345, n_estimators=est)\n",
    "    model2.fit(features, target)\n",
    "    predictions_valid = model2.predict(valid_features)\n",
    "    print('n_estimators =', est, ': ', end='')\n",
    "    print(accuracy_score(valid_target, predictions_valid))"
   ]
  },
  {
   "cell_type": "markdown",
   "metadata": {},
   "source": [
    "<font color='Blue'><b>Лучший показатель n_estimators - 44.</b></font><br><br>\n"
   ]
  },
  {
   "cell_type": "markdown",
   "metadata": {},
   "source": [
    "<div class=\"alert-danger\"> \n",
    "<b>Комментарий ревьюера ❌ Вторая итерация </b> \n",
    "\n",
    "Аналогично с прошлым комментарием, у леса можно много чего глянуть"
   ]
  },
  {
   "cell_type": "code",
   "execution_count": 47,
   "metadata": {},
   "outputs": [
    {
     "name": "stdout",
     "output_type": "stream",
     "text": [
      "max_depth = 1 : 0.7402799377916018\n",
      "max_depth = 2 : 0.7620528771384136\n",
      "max_depth = 3 : 0.776049766718507\n",
      "max_depth = 4 : 0.7744945567651633\n",
      "max_depth = 5 : 0.7791601866251944\n",
      "max_depth = 6 : 0.7822706065318819\n",
      "max_depth = 7 : 0.7869362363919129\n",
      "max_depth = 8 : 0.7869362363919129\n",
      "max_depth = 9 : 0.7900466562986003\n"
     ]
    }
   ],
   "source": [
    "for depth in range(1, 10):\n",
    "    model = RandomForestClassifier(random_state=12345, n_estimators=44, max_depth=depth)\n",
    "    model.fit(features, target)\n",
    "    predictions_valid = model.predict(valid_features)\n",
    "    print('max_depth =', depth, ': ', end='')\n",
    "    print(accuracy_score(valid_target, predictions_valid))"
   ]
  },
  {
   "cell_type": "markdown",
   "metadata": {},
   "source": [
    "<font color='Blue'><b>Лучший показатель max_depth - 9.</b></font><br><br>"
   ]
  },
  {
   "cell_type": "code",
   "execution_count": 55,
   "metadata": {},
   "outputs": [
    {
     "name": "stdout",
     "output_type": "stream",
     "text": [
      "max_leaf_nodes =  2 : 0.7402799377916018\n",
      "max_leaf_nodes =  3 : 0.7636080870917574\n",
      "max_leaf_nodes =  4 : 0.7698289269051322\n",
      "max_leaf_nodes =  5 : 0.7744945567651633\n",
      "max_leaf_nodes =  6 : 0.776049766718507\n",
      "max_leaf_nodes =  7 : 0.7807153965785381\n",
      "max_leaf_nodes =  8 : 0.7791601866251944\n",
      "max_leaf_nodes =  9 : 0.7807153965785381\n",
      "max_leaf_nodes =  10 : 0.7822706065318819\n",
      "max_leaf_nodes =  11 : 0.7807153965785381\n",
      "max_leaf_nodes =  12 : 0.7807153965785381\n",
      "max_leaf_nodes =  13 : 0.7822706065318819\n",
      "max_leaf_nodes =  14 : 0.7838258164852255\n",
      "max_leaf_nodes =  15 : 0.7853810264385692\n",
      "max_leaf_nodes =  16 : 0.7838258164852255\n",
      "max_leaf_nodes =  17 : 0.7838258164852255\n",
      "max_leaf_nodes =  18 : 0.7853810264385692\n",
      "max_leaf_nodes =  19 : 0.7884914463452566\n",
      "max_leaf_nodes =  20 : 0.7884914463452566\n",
      "max_leaf_nodes =  21 : 0.7900466562986003\n",
      "max_leaf_nodes =  22 : 0.7900466562986003\n",
      "max_leaf_nodes =  23 : 0.7900466562986003\n",
      "max_leaf_nodes =  24 : 0.7916018662519441\n",
      "max_leaf_nodes =  25 : 0.7916018662519441\n",
      "max_leaf_nodes =  26 : 0.7916018662519441\n",
      "max_leaf_nodes =  27 : 0.7931570762052877\n",
      "max_leaf_nodes =  28 : 0.7931570762052877\n",
      "max_leaf_nodes =  29 : 0.7884914463452566\n"
     ]
    }
   ],
   "source": [
    "for nodes in range(2, 30):\n",
    "    model = RandomForestClassifier(random_state=12345, n_estimators=44, max_depth=9, max_leaf_nodes=nodes)\n",
    "    model.fit(features, target)\n",
    "    predictions_valid = model.predict(valid_features)\n",
    "    print('max_leaf_nodes = ', nodes, ': ', end='')\n",
    "    print(accuracy_score(valid_target, predictions_valid))"
   ]
  },
  {
   "cell_type": "markdown",
   "metadata": {},
   "source": [
    "<font color='Blue'><b>Лучше оставим параметр max_leaf_nodes по умалчанию - None</b></font><br><br>"
   ]
  },
  {
   "cell_type": "code",
   "execution_count": 48,
   "metadata": {},
   "outputs": [
    {
     "data": {
      "text/plain": [
       "RandomForestClassifier(max_depth=9, n_estimators=44, random_state=12345)"
      ]
     },
     "execution_count": 48,
     "metadata": {},
     "output_type": "execute_result"
    }
   ],
   "source": [
    "model2 = RandomForestClassifier(random_state=12345, n_estimators=44, max_depth=9)\n",
    "model2.fit(features, target)"
   ]
  },
  {
   "cell_type": "code",
   "execution_count": 49,
   "metadata": {},
   "outputs": [
    {
     "name": "stdout",
     "output_type": "stream",
     "text": [
      "Точность второй модели: 0.7900466562986003\n"
     ]
    }
   ],
   "source": [
    "predictions_valid2 = model2.predict(valid_features)\n",
    "result_accuracy2 = accuracy_score(valid_target, predictions_valid2)\n",
    "print('Точность второй модели:', result_accuracy2)"
   ]
  },
  {
   "cell_type": "code",
   "execution_count": null,
   "metadata": {},
   "outputs": [],
   "source": [
    "model3 = LogisticRegression(random_state=12345, solver='lbfgs', max_iter=1000)\n",
    "model3.fit(features, target)"
   ]
  },
  {
   "cell_type": "code",
   "execution_count": null,
   "metadata": {},
   "outputs": [],
   "source": [
    "predictions_valid3 = model3.predict(valid_features)"
   ]
  },
  {
   "cell_type": "code",
   "execution_count": null,
   "metadata": {},
   "outputs": [],
   "source": [
    "result_accuracy3 = accuracy_score(valid_target, predictions_valid3)\n",
    "print('Точность третьей модели:', result_accuracy3)"
   ]
  },
  {
   "cell_type": "markdown",
   "metadata": {},
   "source": [
    "<div class=\"alert-warning\"> \n",
    "<b>Комментарий ревьюера 💡 Вторая итерация  </b>\n",
    "\n",
    "Тут тоже хотелось бы видеть перебор значений "
   ]
  },
  {
   "cell_type": "markdown",
   "metadata": {},
   "source": [
    "Обученная модель дерева решений с максимальной глубиной 3 дает качество 0.76. Модель случайного леса с колличеством деревьев 44  дает качество 0.79. Модель логистической регрессии показала худший результат - 0.72."
   ]
  },
  {
   "cell_type": "markdown",
   "metadata": {},
   "source": [
    "<div class=\"alert-danger\"> \n",
    "<b>Комментарий ревьюера ❌ Ко всему пункту </b> \n",
    "\n",
    "Недостаточно просто безосновательно подставить какие-то значения гиперпараметров и все. Нужен перебор - например, с помощью циклов"
   ]
  },
  {
   "cell_type": "markdown",
   "metadata": {},
   "source": [
    "<div class=\"alert-warning\"> \n",
    "<b>Комментарий ревьюера 💡 Ко всему пукнту </b> \n",
    "    \n",
    "accuracy - это не точность, а доля правильных ответов. Точность - другая метрика классификации, precision"
   ]
  },
  {
   "cell_type": "markdown",
   "metadata": {},
   "source": [
    "<div class=\"alert-warning\"> \n",
    "<b>Комментарий ревьюера 💡 Вторая итерация. Ко всему пукнту </b> \n",
    "    \n",
    "Лучше не выводить промежуточные результаты, это громоздко. Если хочешь посмотреть изменение метрики в зависимости от значения перебираемого параметра, то лучше построить график"
   ]
  },
  {
   "cell_type": "markdown",
   "metadata": {},
   "source": [
    "<div class=\"alert-warning\"> \n",
    "<b>Комментарий ревьюера 💡 Вторая итерация. Ко всему пукнту </b> \n",
    "    \n",
    "Для более красивого оформления кода можно использовать f-strings. Подробнее про них почитать можешь здесь или на любом другом сайте: https://python-scripts.com/f-strings"
   ]
  },
  {
   "cell_type": "markdown",
   "metadata": {},
   "source": [
    "<font color='Blue'><b>При подборе гиперпараметров с помощью циклов лучшая модель случайного леса хорошо справилась и с тестовой выборкой (0.79), поэтому остановимся на ней. </b></font><br><br>"
   ]
  },
  {
   "cell_type": "markdown",
   "metadata": {},
   "source": [
    "<div class=\"alert-success\"> \n",
    "<b>Комментарий ревьюера 👍 Третья итерация </b>\n",
    "\n",
    "Ага, уже здорово, только необязательно для каждого гиперпараметра создавать отдельную ячейку - можно сделать в одной (для каждой модели) с помощью подциклов. Или с GridSearch"
   ]
  },
  {
   "cell_type": "markdown",
   "metadata": {},
   "source": [
    "## Проверьте модель на тестовой выборке"
   ]
  },
  {
   "cell_type": "code",
   "execution_count": null,
   "metadata": {},
   "outputs": [],
   "source": [
    "test_features = df_test.drop('is_ultra', axis=1)\n",
    "test_target = df_test['is_ultra']"
   ]
  },
  {
   "cell_type": "code",
   "execution_count": null,
   "metadata": {},
   "outputs": [],
   "source": [
    "test_predictions = model.predict(test_features)"
   ]
  },
  {
   "cell_type": "code",
   "execution_count": null,
   "metadata": {},
   "outputs": [],
   "source": [
    "test_accuracy = accuracy_score(test_target, test_predictions)\n",
    "print('Точность первой модели:', test_accuracy)"
   ]
  },
  {
   "cell_type": "code",
   "execution_count": null,
   "metadata": {},
   "outputs": [],
   "source": [
    "test_predictions2 = model2.predict(test_features)"
   ]
  },
  {
   "cell_type": "code",
   "execution_count": null,
   "metadata": {},
   "outputs": [],
   "source": [
    "test_accuracy2 = accuracy_score(test_target, test_predictions2)\n",
    "print('Точность второй модели:', test_accuracy2)"
   ]
  },
  {
   "cell_type": "markdown",
   "metadata": {},
   "source": [
    "Качество на тестовой выборке получилась 0.78 при использовании модели дерева решений и 0.79 при использовании модели случайного леса."
   ]
  },
  {
   "cell_type": "markdown",
   "metadata": {},
   "source": [
    "Выводы: Мы обучили 3 модели и протестировали 2 успешных модели, из них модель случайного леса показывает худшие результаты на тестировании, а модель дерева решений наоборот лучшую, на ней мы и остановимся. "
   ]
  },
  {
   "cell_type": "markdown",
   "metadata": {},
   "source": [
    "<font color='Blue'><b>При подборе гиперпараметров с помощью цикла лучшая модель случайного леса хорошо справилась и с тестовой выборкой (0.79), поэтому остановимся на ней. </b></font><br><br>"
   ]
  },
  {
   "cell_type": "markdown",
   "metadata": {},
   "source": [
    "<div class=\"alert-success\"> \n",
    "<b>Комментарий ревьюера 👍 </b>\n",
    "\n",
    "Модели проверены на тесте\n"
   ]
  },
  {
   "cell_type": "markdown",
   "metadata": {},
   "source": [
    "## (бонус) Проверьте модели на адекватность"
   ]
  },
  {
   "cell_type": "markdown",
   "metadata": {},
   "source": [
    "Сравним метрики модели с метрикой полученной с помощью простейшей модели. Для классифиации обычно в качестве такой \"игрушечной\" модели используют константное предсказание наиболее часто встречаемым классом (для регрессии обычно предсказание медианой целевого признака). Можно либо вручную составить вектор предсказаний с одинаковыми значениями, либо использовать DummyClassifier из sklearn."
   ]
  },
  {
   "cell_type": "code",
   "execution_count": null,
   "metadata": {},
   "outputs": [],
   "source": [
    "from sklearn.dummy import DummyClassifier"
   ]
  },
  {
   "cell_type": "code",
   "execution_count": null,
   "metadata": {},
   "outputs": [],
   "source": [
    "model2 = DummyClassifier()"
   ]
  },
  {
   "cell_type": "code",
   "execution_count": null,
   "metadata": {},
   "outputs": [],
   "source": [
    "model2.fit(features, target)"
   ]
  },
  {
   "cell_type": "code",
   "execution_count": null,
   "metadata": {},
   "outputs": [],
   "source": [
    "predictions_valid2 = model2.predict(valid_features)"
   ]
  },
  {
   "cell_type": "code",
   "execution_count": null,
   "metadata": {},
   "outputs": [],
   "source": [
    "result_accuracy2 = accuracy_score(valid_target, predictions_valid2)\n",
    "result_accuracy2"
   ]
  },
  {
   "cell_type": "markdown",
   "metadata": {},
   "source": [
    "<div class=\"alert-success\"> \n",
    "<b>Комментарий ревьюера 👍 </b>\n",
    "\n",
    "Можно проще, посмотреть на баланс классов: например, если у нас 90 процентов таргета это \"1\", а остальные \"10\" - 0, то мы можем тупо выдавать каждый раз цифру 1 и получать метрику 90 %. Любая модель, которая будет выдавать качество ниже этого - плохая/неадекватная\n",
    "\n",
    "dummy classifier с strategy='most_frequent' работает так же: смотрит на самый часто встречающийся класс и выдает только его (только одно значение - константу, поэтому это константная модель)"
   ]
  },
  {
   "cell_type": "markdown",
   "metadata": {},
   "source": [
    "<div class=\"alert-danger\"> \n",
    "<b>Комментарий ревьюера ❌</b>\n",
    "\n",
    "Сперва похвалю за наличие везде промежуточных выводов, комментариев. Хороший код, показываешь навыки владения sklearn. Все требуемые пункты в задании в целом выполнены. \n",
    "\n",
    "В этом проекте большое внимание уделяется подбору гиперпараметров, но это можно автоматизировать! Советую почитать на досуге про GridsearchCV и Optuna, будет полезно. Также можно добавить визуализацию в проект: посмотреть на графиках, как влияет перебор параметров на результат нашей метрики\n",
    "    \n",
    "Также отправляю ссылки на документации некоторых моделей для классификации: https://scikit-learn.org/stable/modules/generated/sklearn.tree.DecisionTreeClassifier.html, https://scikit-learn.org/stable/modules/generated/sklearn.ensemble.RandomForestClassifier.html, https://scikit-learn.org/stable/modules/generated/sklearn.linear_model.LogisticRegression.html\n",
    "    \n",
    "Что обязательно стоит доработать: добавить перебор значений гиперпараметров\n",
    "    \n",
    "Из курсов и дополнительной информации советую Yandex ML Handbook (https://academy.yandex.ru/handbook/ml) и курсы Евгения Соколова на ФКН (Машинное обучение - 1 с математикой https://github.com/esokolov/ml-course-hse и Основы машинного обучения без глубокой математики https://github.com/hse-ds/iad-intro-ds) - там можешь получить дополнительную информацию, более глубокую, возможно. http://wiki.cs.hse.ru/Заглавная_страница - тут можешь глянуть записи семинаров и лекций и другие материалы соответствующих курсов. \n",
    "    \n",
    "Буду ждать доработок, удачи!"
   ]
  },
  {
   "cell_type": "markdown",
   "metadata": {},
   "source": [
    "<div class=\"alert-danger\"> \n",
    "<b>Комментарий ревьюера ❌ Вторая итерация </b>\n",
    "\n",
    "Оставил еще несколько комментариев, в том числе красные. Стоит расширить кол-во иследуемых гиперпараметров"
   ]
  },
  {
   "cell_type": "markdown",
   "metadata": {},
   "source": [
    "<div class=\"alert-success\"> \n",
    "<b>Комментарий ревьюера 👍 Третья итерация </b>\n",
    "\n",
    "Все критические ошибки исправлены, проект стал еще лучше, принимаю. Успехов в дальнейшей учебе!"
   ]
  },
  {
   "cell_type": "markdown",
   "metadata": {},
   "source": [
    "## Чек-лист готовности проекта"
   ]
  },
  {
   "cell_type": "markdown",
   "metadata": {},
   "source": [
    "Поставьте 'x' в выполненных пунктах. Далее нажмите Shift+Enter."
   ]
  },
  {
   "cell_type": "markdown",
   "metadata": {},
   "source": [
    "- [x] Jupyter Notebook открыт\n",
    "- [ ] Весь код исполняется без ошибок\n",
    "- [ ] Ячейки с кодом расположены в порядке исполнения\n",
    "- [ ] Выполнено задание 1: данные загружены и изучены\n",
    "- [ ] Выполнено задание 2: данные разбиты на три выборки\n",
    "- [ ] Выполнено задание 3: проведено исследование моделей\n",
    "    - [ ] Рассмотрено больше одной модели\n",
    "    - [ ] Рассмотрено хотя бы 3 значения гипепараметров для какой-нибудь модели\n",
    "    - [ ] Написаны выводы по результатам исследования\n",
    "- [ ] Выполнено задание 3: Проведено тестирование\n",
    "- [ ] Удалось достичь accuracy не меньше 0.75\n"
   ]
  }
 ],
 "metadata": {
  "ExecuteTimeLog": [
   {
    "duration": 82,
    "start_time": "2023-04-16T18:03:04.103Z"
   },
   {
    "duration": 427,
    "start_time": "2023-04-16T18:03:09.824Z"
   },
   {
    "duration": 75,
    "start_time": "2023-04-16T18:04:00.903Z"
   },
   {
    "duration": 17,
    "start_time": "2023-04-16T18:04:12.023Z"
   },
   {
    "duration": 16,
    "start_time": "2023-04-16T18:04:58.529Z"
   },
   {
    "duration": 1178,
    "start_time": "2023-04-16T18:05:15.300Z"
   },
   {
    "duration": 514,
    "start_time": "2023-04-16T18:05:29.502Z"
   },
   {
    "duration": 641,
    "start_time": "2023-04-16T18:06:05.435Z"
   },
   {
    "duration": 1238,
    "start_time": "2023-04-20T17:02:21.651Z"
   },
   {
    "duration": 189,
    "start_time": "2023-04-20T17:02:22.892Z"
   },
   {
    "duration": 33,
    "start_time": "2023-04-20T17:02:23.518Z"
   },
   {
    "duration": 21,
    "start_time": "2023-04-20T17:02:24.068Z"
   },
   {
    "duration": 1187,
    "start_time": "2023-04-20T17:02:24.485Z"
   },
   {
    "duration": 6,
    "start_time": "2023-04-20T17:07:21.289Z"
   },
   {
    "duration": 5,
    "start_time": "2023-04-20T17:07:26.429Z"
   },
   {
    "duration": 12,
    "start_time": "2023-04-20T17:08:02.369Z"
   },
   {
    "duration": 108,
    "start_time": "2023-04-20T17:27:24.450Z"
   },
   {
    "duration": 16,
    "start_time": "2023-04-20T17:27:44.315Z"
   },
   {
    "duration": 5,
    "start_time": "2023-04-20T17:27:55.221Z"
   },
   {
    "duration": 11,
    "start_time": "2023-04-20T17:28:03.652Z"
   },
   {
    "duration": 10,
    "start_time": "2023-04-20T17:28:26.171Z"
   },
   {
    "duration": 11,
    "start_time": "2023-04-20T17:28:44.395Z"
   },
   {
    "duration": 8,
    "start_time": "2023-04-20T17:29:16.744Z"
   },
   {
    "duration": 31,
    "start_time": "2023-04-20T17:29:17.449Z"
   },
   {
    "duration": 26,
    "start_time": "2023-04-20T17:29:18.332Z"
   },
   {
    "duration": 16,
    "start_time": "2023-04-20T17:29:18.931Z"
   },
   {
    "duration": 665,
    "start_time": "2023-04-20T17:29:19.490Z"
   },
   {
    "duration": 10,
    "start_time": "2023-04-20T17:29:22.123Z"
   },
   {
    "duration": 6,
    "start_time": "2023-04-20T17:29:27.456Z"
   },
   {
    "duration": 12,
    "start_time": "2023-04-20T17:29:28.202Z"
   },
   {
    "duration": 18,
    "start_time": "2023-04-20T17:29:30.331Z"
   },
   {
    "duration": 4,
    "start_time": "2023-04-20T17:30:06.654Z"
   },
   {
    "duration": 4,
    "start_time": "2023-04-20T17:30:17.110Z"
   },
   {
    "duration": 4,
    "start_time": "2023-04-20T17:30:27.182Z"
   },
   {
    "duration": 5,
    "start_time": "2023-04-20T17:30:34.354Z"
   },
   {
    "duration": 5,
    "start_time": "2023-04-20T17:37:27.240Z"
   },
   {
    "duration": 4,
    "start_time": "2023-04-20T17:37:44.504Z"
   },
   {
    "duration": 5,
    "start_time": "2023-04-20T17:37:51.891Z"
   },
   {
    "duration": 4,
    "start_time": "2023-04-20T17:37:52.623Z"
   },
   {
    "duration": 4,
    "start_time": "2023-04-20T17:37:53.397Z"
   },
   {
    "duration": 5,
    "start_time": "2023-04-20T17:37:53.939Z"
   },
   {
    "duration": 5,
    "start_time": "2023-04-20T17:38:12.449Z"
   },
   {
    "duration": 4,
    "start_time": "2023-04-20T17:38:12.949Z"
   },
   {
    "duration": 5,
    "start_time": "2023-04-20T17:38:13.925Z"
   },
   {
    "duration": 4,
    "start_time": "2023-04-20T17:38:14.500Z"
   },
   {
    "duration": 6,
    "start_time": "2023-04-20T17:38:32.347Z"
   },
   {
    "duration": 5,
    "start_time": "2023-04-20T17:38:32.941Z"
   },
   {
    "duration": 5,
    "start_time": "2023-04-20T17:38:33.809Z"
   },
   {
    "duration": 5,
    "start_time": "2023-04-20T17:38:34.559Z"
   },
   {
    "duration": 8,
    "start_time": "2023-04-20T17:38:41.309Z"
   },
   {
    "duration": 4,
    "start_time": "2023-04-20T17:38:41.831Z"
   },
   {
    "duration": 4,
    "start_time": "2023-04-20T17:38:42.681Z"
   },
   {
    "duration": 4,
    "start_time": "2023-04-20T17:38:43.418Z"
   },
   {
    "duration": 5,
    "start_time": "2023-04-20T17:39:04.437Z"
   },
   {
    "duration": 6,
    "start_time": "2023-04-20T17:39:05.038Z"
   },
   {
    "duration": 5,
    "start_time": "2023-04-20T17:39:05.619Z"
   },
   {
    "duration": 4,
    "start_time": "2023-04-20T17:39:06.229Z"
   },
   {
    "duration": 4,
    "start_time": "2023-04-20T17:39:08.693Z"
   },
   {
    "duration": 6,
    "start_time": "2023-04-20T17:39:09.402Z"
   },
   {
    "duration": 5,
    "start_time": "2023-04-20T17:39:10.626Z"
   },
   {
    "duration": 4,
    "start_time": "2023-04-20T17:39:11.327Z"
   },
   {
    "duration": 5,
    "start_time": "2023-04-20T17:39:12.024Z"
   },
   {
    "duration": 4,
    "start_time": "2023-04-20T17:39:12.679Z"
   },
   {
    "duration": 8,
    "start_time": "2023-04-20T17:39:31.432Z"
   },
   {
    "duration": 6,
    "start_time": "2023-04-20T17:39:32.133Z"
   },
   {
    "duration": 5,
    "start_time": "2023-04-20T17:39:32.772Z"
   },
   {
    "duration": 5,
    "start_time": "2023-04-20T17:39:33.700Z"
   },
   {
    "duration": 4,
    "start_time": "2023-04-20T17:39:34.310Z"
   },
   {
    "duration": 5,
    "start_time": "2023-04-20T17:39:43.050Z"
   },
   {
    "duration": 5,
    "start_time": "2023-04-20T17:39:43.500Z"
   },
   {
    "duration": 4,
    "start_time": "2023-04-20T17:39:43.952Z"
   },
   {
    "duration": 5,
    "start_time": "2023-04-20T17:39:44.391Z"
   },
   {
    "duration": 4,
    "start_time": "2023-04-20T17:39:44.878Z"
   },
   {
    "duration": 5,
    "start_time": "2023-04-20T17:39:53.216Z"
   },
   {
    "duration": 11,
    "start_time": "2023-04-20T17:39:53.643Z"
   },
   {
    "duration": 4,
    "start_time": "2023-04-20T17:39:54.151Z"
   },
   {
    "duration": 5,
    "start_time": "2023-04-20T17:39:54.633Z"
   },
   {
    "duration": 3,
    "start_time": "2023-04-20T17:39:55.130Z"
   },
   {
    "duration": 5,
    "start_time": "2023-04-20T17:42:19.314Z"
   },
   {
    "duration": 45,
    "start_time": "2023-04-20T17:50:24.870Z"
   },
   {
    "duration": 39,
    "start_time": "2023-04-20T17:50:28.222Z"
   },
   {
    "duration": 12,
    "start_time": "2023-04-20T17:50:28.441Z"
   },
   {
    "duration": 11,
    "start_time": "2023-04-20T17:50:28.654Z"
   },
   {
    "duration": 576,
    "start_time": "2023-04-20T17:50:28.851Z"
   },
   {
    "duration": 6,
    "start_time": "2023-04-20T17:50:30.016Z"
   },
   {
    "duration": 5,
    "start_time": "2023-04-20T17:50:30.734Z"
   },
   {
    "duration": 6,
    "start_time": "2023-04-20T17:50:31.357Z"
   },
   {
    "duration": 3,
    "start_time": "2023-04-20T17:52:09.278Z"
   },
   {
    "duration": 4,
    "start_time": "2023-04-20T17:55:38.159Z"
   },
   {
    "duration": 21,
    "start_time": "2023-04-20T17:56:34.138Z"
   },
   {
    "duration": 5,
    "start_time": "2023-04-20T17:56:40.179Z"
   },
   {
    "duration": 15,
    "start_time": "2023-04-20T17:56:40.671Z"
   },
   {
    "duration": 4,
    "start_time": "2023-04-20T17:58:51.706Z"
   },
   {
    "duration": 15,
    "start_time": "2023-04-20T17:59:50.532Z"
   },
   {
    "duration": 3,
    "start_time": "2023-04-20T18:01:20.802Z"
   },
   {
    "duration": 4,
    "start_time": "2023-04-20T18:01:21.302Z"
   },
   {
    "duration": 14,
    "start_time": "2023-04-20T18:01:21.807Z"
   },
   {
    "duration": 4,
    "start_time": "2023-04-20T18:01:22.314Z"
   },
   {
    "duration": 17,
    "start_time": "2023-04-20T18:01:22.830Z"
   },
   {
    "duration": 3,
    "start_time": "2023-04-20T18:03:00.994Z"
   },
   {
    "duration": 29,
    "start_time": "2023-04-20T18:03:01.484Z"
   },
   {
    "duration": 11,
    "start_time": "2023-04-20T18:03:01.815Z"
   },
   {
    "duration": 15,
    "start_time": "2023-04-20T18:03:02.013Z"
   },
   {
    "duration": 618,
    "start_time": "2023-04-20T18:03:02.190Z"
   },
   {
    "duration": 5,
    "start_time": "2023-04-20T18:03:02.810Z"
   },
   {
    "duration": 5,
    "start_time": "2023-04-20T18:03:02.884Z"
   },
   {
    "duration": 6,
    "start_time": "2023-04-20T18:03:03.367Z"
   },
   {
    "duration": 4,
    "start_time": "2023-04-20T18:03:05.574Z"
   },
   {
    "duration": 5,
    "start_time": "2023-04-20T18:03:06.068Z"
   },
   {
    "duration": 19,
    "start_time": "2023-04-20T18:03:06.629Z"
   },
   {
    "duration": 6,
    "start_time": "2023-04-20T18:03:06.858Z"
   },
   {
    "duration": 7,
    "start_time": "2023-04-20T18:03:07.059Z"
   },
   {
    "duration": 5,
    "start_time": "2023-04-20T18:04:09.474Z"
   },
   {
    "duration": 6,
    "start_time": "2023-04-20T18:04:22.617Z"
   },
   {
    "duration": 15,
    "start_time": "2023-04-20T18:06:02.724Z"
   },
   {
    "duration": 6,
    "start_time": "2023-04-20T18:06:26.415Z"
   },
   {
    "duration": 5,
    "start_time": "2023-04-20T18:07:27.111Z"
   },
   {
    "duration": 5,
    "start_time": "2023-04-20T18:07:36.482Z"
   },
   {
    "duration": 61,
    "start_time": "2023-04-21T11:36:12.834Z"
   },
   {
    "duration": 1435,
    "start_time": "2023-04-21T11:36:18.114Z"
   },
   {
    "duration": 144,
    "start_time": "2023-04-21T11:36:20.803Z"
   },
   {
    "duration": 24,
    "start_time": "2023-04-21T11:36:21.211Z"
   },
   {
    "duration": 14,
    "start_time": "2023-04-21T11:36:21.501Z"
   },
   {
    "duration": 1194,
    "start_time": "2023-04-21T11:36:21.699Z"
   },
   {
    "duration": 7,
    "start_time": "2023-04-21T11:36:22.895Z"
   },
   {
    "duration": 41,
    "start_time": "2023-04-21T11:36:22.904Z"
   },
   {
    "duration": 39,
    "start_time": "2023-04-21T11:36:22.947Z"
   },
   {
    "duration": 4,
    "start_time": "2023-04-21T11:36:23.324Z"
   },
   {
    "duration": 6,
    "start_time": "2023-04-21T11:36:23.543Z"
   },
   {
    "duration": 18,
    "start_time": "2023-04-21T11:36:23.752Z"
   },
   {
    "duration": 5,
    "start_time": "2023-04-21T11:36:24.410Z"
   },
   {
    "duration": 7,
    "start_time": "2023-04-21T11:36:25.113Z"
   },
   {
    "duration": 7,
    "start_time": "2023-04-21T11:36:25.987Z"
   },
   {
    "duration": 5,
    "start_time": "2023-04-21T11:36:27.835Z"
   },
   {
    "duration": 29,
    "start_time": "2023-04-21T11:36:27.842Z"
   },
   {
    "duration": 6,
    "start_time": "2023-04-21T11:36:28.238Z"
   },
   {
    "duration": 6,
    "start_time": "2023-04-21T12:04:18.625Z"
   },
   {
    "duration": 4,
    "start_time": "2023-04-21T12:05:02.472Z"
   },
   {
    "duration": 6,
    "start_time": "2023-04-21T12:05:17.566Z"
   },
   {
    "duration": 4,
    "start_time": "2023-04-21T12:05:37.353Z"
   },
   {
    "duration": 5,
    "start_time": "2023-04-21T12:05:37.938Z"
   },
   {
    "duration": 6,
    "start_time": "2023-04-21T12:05:38.510Z"
   },
   {
    "duration": 3,
    "start_time": "2023-04-21T12:10:04.732Z"
   },
   {
    "duration": 4,
    "start_time": "2023-04-21T12:10:05.390Z"
   },
   {
    "duration": 10,
    "start_time": "2023-04-21T12:10:06.144Z"
   },
   {
    "duration": 5,
    "start_time": "2023-04-21T12:10:08.959Z"
   },
   {
    "duration": 5,
    "start_time": "2023-04-21T12:10:10.149Z"
   },
   {
    "duration": 6,
    "start_time": "2023-04-21T12:10:11.050Z"
   },
   {
    "duration": 4,
    "start_time": "2023-04-21T12:11:38.745Z"
   },
   {
    "duration": 6,
    "start_time": "2023-04-21T12:11:39.948Z"
   },
   {
    "duration": 5,
    "start_time": "2023-04-21T12:11:40.796Z"
   },
   {
    "duration": 4,
    "start_time": "2023-04-21T12:14:49.294Z"
   },
   {
    "duration": 6,
    "start_time": "2023-04-21T12:14:49.968Z"
   },
   {
    "duration": 6,
    "start_time": "2023-04-21T12:14:50.501Z"
   },
   {
    "duration": 6,
    "start_time": "2023-04-21T12:21:37.386Z"
   },
   {
    "duration": 12,
    "start_time": "2023-04-21T12:22:43.839Z"
   },
   {
    "duration": 7,
    "start_time": "2023-04-21T12:23:26.211Z"
   },
   {
    "duration": 7,
    "start_time": "2023-04-21T12:23:53.499Z"
   },
   {
    "duration": 11,
    "start_time": "2023-04-21T12:24:25.329Z"
   },
   {
    "duration": 7,
    "start_time": "2023-04-21T12:24:25.763Z"
   },
   {
    "duration": 8,
    "start_time": "2023-04-21T12:24:26.267Z"
   },
   {
    "duration": 3,
    "start_time": "2023-04-21T12:24:55.343Z"
   },
   {
    "duration": 7,
    "start_time": "2023-04-21T12:24:55.698Z"
   },
   {
    "duration": 7,
    "start_time": "2023-04-21T12:24:56.418Z"
   },
   {
    "duration": 7,
    "start_time": "2023-04-21T12:24:57.617Z"
   },
   {
    "duration": 4,
    "start_time": "2023-04-21T12:25:05.384Z"
   },
   {
    "duration": 8,
    "start_time": "2023-04-21T12:25:06.235Z"
   },
   {
    "duration": 8,
    "start_time": "2023-04-21T12:25:17.736Z"
   },
   {
    "duration": 1282,
    "start_time": "2023-04-21T15:55:44.789Z"
   },
   {
    "duration": 83,
    "start_time": "2023-04-21T15:55:46.073Z"
   },
   {
    "duration": 21,
    "start_time": "2023-04-21T15:55:46.722Z"
   },
   {
    "duration": 30,
    "start_time": "2023-04-21T15:55:46.892Z"
   },
   {
    "duration": 1262,
    "start_time": "2023-04-21T15:55:47.059Z"
   },
   {
    "duration": 8,
    "start_time": "2023-04-21T15:55:48.327Z"
   },
   {
    "duration": 28,
    "start_time": "2023-04-21T15:55:48.337Z"
   },
   {
    "duration": 9,
    "start_time": "2023-04-21T15:55:48.367Z"
   },
   {
    "duration": 6,
    "start_time": "2023-04-21T15:55:48.593Z"
   },
   {
    "duration": 4,
    "start_time": "2023-04-21T15:55:48.828Z"
   },
   {
    "duration": 29,
    "start_time": "2023-04-21T15:55:49.093Z"
   },
   {
    "duration": 5,
    "start_time": "2023-04-21T15:55:50.330Z"
   },
   {
    "duration": 5,
    "start_time": "2023-04-21T15:55:51.131Z"
   },
   {
    "duration": 17,
    "start_time": "2023-04-21T15:55:53.215Z"
   },
   {
    "duration": 3,
    "start_time": "2023-04-21T15:57:20.948Z"
   },
   {
    "duration": 132,
    "start_time": "2023-04-21T15:57:58.845Z"
   },
   {
    "duration": 478,
    "start_time": "2023-04-21T15:58:07.121Z"
   },
   {
    "duration": 30,
    "start_time": "2023-04-21T15:58:39.425Z"
   },
   {
    "duration": 6,
    "start_time": "2023-04-21T15:59:11.121Z"
   },
   {
    "duration": 3,
    "start_time": "2023-04-21T16:00:16.720Z"
   },
   {
    "duration": 475,
    "start_time": "2023-04-21T16:00:20.595Z"
   },
   {
    "duration": 28,
    "start_time": "2023-04-21T16:00:30.420Z"
   },
   {
    "duration": 6,
    "start_time": "2023-04-21T16:00:44.187Z"
   },
   {
    "duration": 5,
    "start_time": "2023-04-21T16:01:01.515Z"
   },
   {
    "duration": 496,
    "start_time": "2023-04-21T16:01:02.255Z"
   },
   {
    "duration": 34,
    "start_time": "2023-04-21T16:01:03.183Z"
   },
   {
    "duration": 7,
    "start_time": "2023-04-21T16:01:04.017Z"
   },
   {
    "duration": 2,
    "start_time": "2023-04-21T16:01:16.725Z"
   },
   {
    "duration": 473,
    "start_time": "2023-04-21T16:01:17.263Z"
   },
   {
    "duration": 30,
    "start_time": "2023-04-21T16:01:17.824Z"
   },
   {
    "duration": 5,
    "start_time": "2023-04-21T16:01:18.354Z"
   },
   {
    "duration": 3,
    "start_time": "2023-04-21T16:01:25.921Z"
   },
   {
    "duration": 490,
    "start_time": "2023-04-21T16:01:26.455Z"
   },
   {
    "duration": 28,
    "start_time": "2023-04-21T16:01:27.423Z"
   },
   {
    "duration": 5,
    "start_time": "2023-04-21T16:01:28.636Z"
   },
   {
    "duration": 5,
    "start_time": "2023-04-21T16:01:52.369Z"
   },
   {
    "duration": 31,
    "start_time": "2023-04-21T16:01:53.013Z"
   },
   {
    "duration": 12,
    "start_time": "2023-04-21T16:01:54.551Z"
   },
   {
    "duration": 10,
    "start_time": "2023-04-21T16:02:17.423Z"
   },
   {
    "duration": 7,
    "start_time": "2023-04-21T16:07:18.509Z"
   },
   {
    "duration": 14,
    "start_time": "2023-04-21T16:07:19.229Z"
   },
   {
    "duration": 6,
    "start_time": "2023-04-21T16:07:23.391Z"
   },
   {
    "duration": 3,
    "start_time": "2023-04-21T16:10:38.660Z"
   },
   {
    "duration": 25,
    "start_time": "2023-04-21T16:10:39.564Z"
   },
   {
    "duration": 9,
    "start_time": "2023-04-21T16:10:40.323Z"
   },
   {
    "duration": 13,
    "start_time": "2023-04-21T16:10:41.917Z"
   },
   {
    "duration": 4,
    "start_time": "2023-04-21T16:10:49.012Z"
   },
   {
    "duration": 28,
    "start_time": "2023-04-21T16:10:49.864Z"
   },
   {
    "duration": 10,
    "start_time": "2023-04-21T16:10:50.520Z"
   },
   {
    "duration": 9,
    "start_time": "2023-04-21T16:10:51.118Z"
   },
   {
    "duration": 3,
    "start_time": "2023-04-21T16:10:56.079Z"
   },
   {
    "duration": 50,
    "start_time": "2023-04-21T16:10:56.538Z"
   },
   {
    "duration": 10,
    "start_time": "2023-04-21T16:10:57.075Z"
   },
   {
    "duration": 6,
    "start_time": "2023-04-21T16:10:57.593Z"
   },
   {
    "duration": 3,
    "start_time": "2023-04-21T16:11:01.428Z"
   },
   {
    "duration": 47,
    "start_time": "2023-04-21T16:11:02.436Z"
   },
   {
    "duration": 21,
    "start_time": "2023-04-21T16:11:03.309Z"
   },
   {
    "duration": 5,
    "start_time": "2023-04-21T16:11:04.183Z"
   },
   {
    "duration": 4,
    "start_time": "2023-04-21T16:11:08.662Z"
   },
   {
    "duration": 83,
    "start_time": "2023-04-21T16:11:09.462Z"
   },
   {
    "duration": 11,
    "start_time": "2023-04-21T16:11:10.656Z"
   },
   {
    "duration": 6,
    "start_time": "2023-04-21T16:11:11.336Z"
   },
   {
    "duration": 3,
    "start_time": "2023-04-21T16:11:17.222Z"
   },
   {
    "duration": 102,
    "start_time": "2023-04-21T16:11:17.823Z"
   },
   {
    "duration": 18,
    "start_time": "2023-04-21T16:11:18.412Z"
   },
   {
    "duration": 12,
    "start_time": "2023-04-21T16:11:19.214Z"
   },
   {
    "duration": 4,
    "start_time": "2023-04-21T16:13:41.572Z"
   },
   {
    "duration": 3,
    "start_time": "2023-04-21T16:14:14.562Z"
   },
   {
    "duration": 8,
    "start_time": "2023-04-21T16:14:42.701Z"
   },
   {
    "duration": 9,
    "start_time": "2023-04-21T16:15:03.043Z"
   },
   {
    "duration": 10,
    "start_time": "2023-04-21T16:15:21.524Z"
   },
   {
    "duration": 5,
    "start_time": "2023-04-21T16:15:22.055Z"
   },
   {
    "duration": 13,
    "start_time": "2023-04-21T16:15:28.628Z"
   },
   {
    "duration": 4,
    "start_time": "2023-04-21T16:15:29.078Z"
   },
   {
    "duration": 10,
    "start_time": "2023-04-21T16:15:33.376Z"
   },
   {
    "duration": 15,
    "start_time": "2023-04-21T16:15:33.788Z"
   },
   {
    "duration": 3,
    "start_time": "2023-04-21T16:15:40.885Z"
   },
   {
    "duration": 5,
    "start_time": "2023-04-21T16:15:41.347Z"
   },
   {
    "duration": 21,
    "start_time": "2023-04-21T16:15:41.791Z"
   },
   {
    "duration": 4,
    "start_time": "2023-04-21T16:15:42.660Z"
   },
   {
    "duration": 5,
    "start_time": "2023-04-21T16:15:43.172Z"
   },
   {
    "duration": 5,
    "start_time": "2023-04-21T16:15:43.682Z"
   },
   {
    "duration": 3,
    "start_time": "2023-04-21T16:15:46.673Z"
   },
   {
    "duration": 95,
    "start_time": "2023-04-21T16:15:47.100Z"
   },
   {
    "duration": 11,
    "start_time": "2023-04-21T16:15:49.066Z"
   },
   {
    "duration": 5,
    "start_time": "2023-04-21T16:15:49.857Z"
   },
   {
    "duration": 3,
    "start_time": "2023-04-21T16:15:52.733Z"
   },
   {
    "duration": 5,
    "start_time": "2023-04-21T16:15:54.778Z"
   },
   {
    "duration": 5,
    "start_time": "2023-04-21T16:15:55.236Z"
   },
   {
    "duration": 10,
    "start_time": "2023-04-21T16:15:55.875Z"
   },
   {
    "duration": 4,
    "start_time": "2023-04-21T16:15:56.321Z"
   },
   {
    "duration": 11,
    "start_time": "2023-04-21T16:16:17.125Z"
   },
   {
    "duration": 5,
    "start_time": "2023-04-21T16:16:17.562Z"
   },
   {
    "duration": 5,
    "start_time": "2023-04-21T16:16:30.169Z"
   },
   {
    "duration": 3,
    "start_time": "2023-04-21T16:17:13.354Z"
   },
   {
    "duration": 6,
    "start_time": "2023-04-21T16:17:13.919Z"
   },
   {
    "duration": 11,
    "start_time": "2023-04-21T16:17:15.656Z"
   },
   {
    "duration": 4,
    "start_time": "2023-04-21T16:17:18.242Z"
   },
   {
    "duration": 7,
    "start_time": "2023-04-21T16:17:18.884Z"
   },
   {
    "duration": 5,
    "start_time": "2023-04-21T16:17:19.476Z"
   },
   {
    "duration": 3,
    "start_time": "2023-04-21T16:17:24.986Z"
   },
   {
    "duration": 3,
    "start_time": "2023-04-21T16:17:25.336Z"
   },
   {
    "duration": 9,
    "start_time": "2023-04-21T16:17:25.573Z"
   },
   {
    "duration": 7,
    "start_time": "2023-04-21T16:17:25.814Z"
   },
   {
    "duration": 5,
    "start_time": "2023-04-21T16:17:26.252Z"
   },
   {
    "duration": 5,
    "start_time": "2023-04-21T16:17:26.772Z"
   },
   {
    "duration": 3,
    "start_time": "2023-04-21T16:17:33.558Z"
   },
   {
    "duration": 105,
    "start_time": "2023-04-21T16:17:33.826Z"
   },
   {
    "duration": 15,
    "start_time": "2023-04-21T16:17:34.104Z"
   },
   {
    "duration": 4,
    "start_time": "2023-04-21T16:17:36.038Z"
   },
   {
    "duration": 9,
    "start_time": "2023-04-21T16:17:37.207Z"
   },
   {
    "duration": 4,
    "start_time": "2023-04-21T16:17:37.853Z"
   },
   {
    "duration": 4,
    "start_time": "2023-04-21T16:17:38.823Z"
   },
   {
    "duration": 13,
    "start_time": "2023-04-21T16:17:40.782Z"
   },
   {
    "duration": 10,
    "start_time": "2023-04-21T16:17:42.104Z"
   },
   {
    "duration": 2,
    "start_time": "2023-04-21T16:17:56.960Z"
   },
   {
    "duration": 4,
    "start_time": "2023-04-21T16:17:57.287Z"
   },
   {
    "duration": 10,
    "start_time": "2023-04-21T16:17:57.580Z"
   },
   {
    "duration": 9,
    "start_time": "2023-04-21T16:17:57.818Z"
   },
   {
    "duration": 5,
    "start_time": "2023-04-21T16:17:58.087Z"
   },
   {
    "duration": 5,
    "start_time": "2023-04-21T16:17:58.546Z"
   },
   {
    "duration": 4,
    "start_time": "2023-04-21T16:18:02.717Z"
   },
   {
    "duration": 4,
    "start_time": "2023-04-21T16:18:03.053Z"
   },
   {
    "duration": 10,
    "start_time": "2023-04-21T16:18:03.244Z"
   },
   {
    "duration": 4,
    "start_time": "2023-04-21T16:18:03.430Z"
   },
   {
    "duration": 4,
    "start_time": "2023-04-21T16:18:03.641Z"
   },
   {
    "duration": 5,
    "start_time": "2023-04-21T16:18:03.876Z"
   },
   {
    "duration": 2,
    "start_time": "2023-04-21T16:18:08.850Z"
   },
   {
    "duration": 4,
    "start_time": "2023-04-21T16:18:09.058Z"
   },
   {
    "duration": 12,
    "start_time": "2023-04-21T16:18:09.242Z"
   },
   {
    "duration": 4,
    "start_time": "2023-04-21T16:18:09.421Z"
   },
   {
    "duration": 5,
    "start_time": "2023-04-21T16:18:09.941Z"
   },
   {
    "duration": 7,
    "start_time": "2023-04-21T16:18:10.517Z"
   },
   {
    "duration": 3,
    "start_time": "2023-04-21T16:18:17.175Z"
   },
   {
    "duration": 4,
    "start_time": "2023-04-21T16:18:17.388Z"
   },
   {
    "duration": 9,
    "start_time": "2023-04-21T16:18:17.549Z"
   },
   {
    "duration": 5,
    "start_time": "2023-04-21T16:18:17.720Z"
   },
   {
    "duration": 5,
    "start_time": "2023-04-21T16:18:18.179Z"
   },
   {
    "duration": 7,
    "start_time": "2023-04-21T16:18:19.096Z"
   },
   {
    "duration": 4,
    "start_time": "2023-04-21T16:18:27.709Z"
   },
   {
    "duration": 100,
    "start_time": "2023-04-21T16:18:27.891Z"
   },
   {
    "duration": 10,
    "start_time": "2023-04-21T16:18:28.073Z"
   },
   {
    "duration": 5,
    "start_time": "2023-04-21T16:18:28.244Z"
   },
   {
    "duration": 5,
    "start_time": "2023-04-21T16:18:31.863Z"
   },
   {
    "duration": 5,
    "start_time": "2023-04-21T16:18:32.224Z"
   },
   {
    "duration": 5,
    "start_time": "2023-04-21T16:18:32.477Z"
   },
   {
    "duration": 10,
    "start_time": "2023-04-21T16:18:32.756Z"
   },
   {
    "duration": 5,
    "start_time": "2023-04-21T16:18:32.979Z"
   },
   {
    "duration": 3,
    "start_time": "2023-04-21T16:21:42.638Z"
   },
   {
    "duration": 11,
    "start_time": "2023-04-21T16:22:28.279Z"
   },
   {
    "duration": 43,
    "start_time": "2023-04-21T16:22:33.521Z"
   },
   {
    "duration": 99,
    "start_time": "2023-04-21T16:22:56.884Z"
   },
   {
    "duration": 5,
    "start_time": "2023-04-21T16:23:22.479Z"
   },
   {
    "duration": 4,
    "start_time": "2023-04-21T16:24:39.568Z"
   },
   {
    "duration": 4,
    "start_time": "2023-04-21T16:25:47.576Z"
   },
   {
    "duration": 11,
    "start_time": "2023-04-21T16:25:59.920Z"
   },
   {
    "duration": 10,
    "start_time": "2023-04-21T16:26:29.631Z"
   },
   {
    "duration": 4,
    "start_time": "2023-04-21T16:26:34.028Z"
   },
   {
    "duration": 56,
    "start_time": "2023-04-21T16:27:05.574Z"
   },
   {
    "duration": 4,
    "start_time": "2023-04-21T16:27:06.380Z"
   },
   {
    "duration": 5,
    "start_time": "2023-04-21T16:27:06.922Z"
   },
   {
    "duration": 7,
    "start_time": "2023-04-21T16:30:58.029Z"
   },
   {
    "duration": 7,
    "start_time": "2023-04-21T16:30:58.276Z"
   },
   {
    "duration": 7,
    "start_time": "2023-04-21T16:30:58.531Z"
   },
   {
    "duration": 12,
    "start_time": "2023-04-21T16:30:58.815Z"
   },
   {
    "duration": 5,
    "start_time": "2023-04-21T16:31:00.354Z"
   },
   {
    "duration": 53,
    "start_time": "2023-04-23T12:43:07.838Z"
   },
   {
    "duration": 1115,
    "start_time": "2023-04-23T12:43:18.222Z"
   },
   {
    "duration": 68,
    "start_time": "2023-04-23T12:43:19.955Z"
   },
   {
    "duration": 15,
    "start_time": "2023-04-23T12:43:20.523Z"
   },
   {
    "duration": 11,
    "start_time": "2023-04-23T12:43:20.724Z"
   },
   {
    "duration": 943,
    "start_time": "2023-04-23T12:43:20.915Z"
   },
   {
    "duration": 5,
    "start_time": "2023-04-23T12:43:21.860Z"
   },
   {
    "duration": 18,
    "start_time": "2023-04-23T12:43:21.867Z"
   },
   {
    "duration": 6,
    "start_time": "2023-04-23T12:43:21.919Z"
   },
   {
    "duration": 70,
    "start_time": "2023-04-23T12:43:22.821Z"
   },
   {
    "duration": 4,
    "start_time": "2023-04-23T12:43:23.024Z"
   },
   {
    "duration": 4,
    "start_time": "2023-04-23T12:43:52.827Z"
   },
   {
    "duration": 12,
    "start_time": "2023-04-23T12:43:53.644Z"
   },
   {
    "duration": 13,
    "start_time": "2023-04-23T12:44:05.461Z"
   },
   {
    "duration": 13,
    "start_time": "2023-04-23T12:44:44.476Z"
   },
   {
    "duration": 5,
    "start_time": "2023-04-23T12:44:49.266Z"
   },
   {
    "duration": 16,
    "start_time": "2023-04-23T12:44:49.656Z"
   },
   {
    "duration": 30,
    "start_time": "2023-04-23T12:45:06.071Z"
   },
   {
    "duration": 42,
    "start_time": "2023-04-23T12:46:54.958Z"
   },
   {
    "duration": 6,
    "start_time": "2023-04-23T12:49:34.260Z"
   },
   {
    "duration": 5,
    "start_time": "2023-04-23T12:49:52.618Z"
   },
   {
    "duration": 44,
    "start_time": "2023-04-23T12:49:53.047Z"
   },
   {
    "duration": 11,
    "start_time": "2023-04-23T12:49:54.235Z"
   },
   {
    "duration": 6,
    "start_time": "2023-04-23T12:49:55.341Z"
   },
   {
    "duration": 31,
    "start_time": "2023-04-23T12:50:28.722Z"
   },
   {
    "duration": 9,
    "start_time": "2023-04-23T12:50:29.761Z"
   },
   {
    "duration": 6,
    "start_time": "2023-04-23T12:50:30.519Z"
   },
   {
    "duration": 5,
    "start_time": "2023-04-23T12:50:42.177Z"
   },
   {
    "duration": 31,
    "start_time": "2023-04-23T12:50:42.563Z"
   },
   {
    "duration": 2,
    "start_time": "2023-04-23T12:50:43.436Z"
   },
   {
    "duration": 6,
    "start_time": "2023-04-23T12:50:45.506Z"
   },
   {
    "duration": 37,
    "start_time": "2023-04-23T12:50:55.538Z"
   },
   {
    "duration": 3,
    "start_time": "2023-04-23T12:50:56.456Z"
   },
   {
    "duration": 6,
    "start_time": "2023-04-23T12:50:56.873Z"
   },
   {
    "duration": 4,
    "start_time": "2023-04-23T12:50:59.113Z"
   },
   {
    "duration": 30,
    "start_time": "2023-04-23T12:50:59.552Z"
   },
   {
    "duration": 2,
    "start_time": "2023-04-23T12:51:00.360Z"
   },
   {
    "duration": 5,
    "start_time": "2023-04-23T12:51:00.923Z"
   },
   {
    "duration": 9,
    "start_time": "2023-04-23T12:51:33.530Z"
   },
   {
    "duration": 7,
    "start_time": "2023-04-23T12:51:34.075Z"
   },
   {
    "duration": 83,
    "start_time": "2023-04-23T12:53:14.899Z"
   },
   {
    "duration": 19538,
    "start_time": "2023-04-23T12:53:41.823Z"
   },
   {
    "duration": 4827,
    "start_time": "2023-04-23T12:55:02.801Z"
   },
   {
    "duration": 164,
    "start_time": "2023-04-23T12:57:17.011Z"
   },
   {
    "duration": 16,
    "start_time": "2023-04-23T12:57:34.016Z"
   },
   {
    "duration": 3,
    "start_time": "2023-04-23T12:58:54.750Z"
   },
   {
    "duration": 5,
    "start_time": "2023-04-23T12:58:55.510Z"
   },
   {
    "duration": 5,
    "start_time": "2023-04-23T12:58:56.063Z"
   },
   {
    "duration": 14,
    "start_time": "2023-04-23T12:58:57.718Z"
   },
   {
    "duration": 5,
    "start_time": "2023-04-23T12:58:58.182Z"
   },
   {
    "duration": 84552,
    "start_time": "2023-04-23T13:06:15.507Z"
   },
   {
    "duration": 50,
    "start_time": "2023-04-24T17:59:17.311Z"
   },
   {
    "duration": 1154,
    "start_time": "2023-04-24T17:59:34.789Z"
   },
   {
    "duration": 121,
    "start_time": "2023-04-24T17:59:35.945Z"
   },
   {
    "duration": 19,
    "start_time": "2023-04-24T17:59:36.068Z"
   },
   {
    "duration": 40,
    "start_time": "2023-04-24T17:59:36.089Z"
   },
   {
    "duration": 1042,
    "start_time": "2023-04-24T17:59:36.131Z"
   },
   {
    "duration": 6,
    "start_time": "2023-04-24T17:59:37.175Z"
   },
   {
    "duration": 34,
    "start_time": "2023-04-24T17:59:37.183Z"
   },
   {
    "duration": 13,
    "start_time": "2023-04-24T17:59:37.218Z"
   },
   {
    "duration": 15,
    "start_time": "2023-04-24T17:59:37.233Z"
   },
   {
    "duration": 41,
    "start_time": "2023-04-24T17:59:37.250Z"
   },
   {
    "duration": 132,
    "start_time": "2023-04-24T17:59:37.293Z"
   },
   {
    "duration": 0,
    "start_time": "2023-04-24T17:59:37.427Z"
   },
   {
    "duration": 0,
    "start_time": "2023-04-24T17:59:37.428Z"
   },
   {
    "duration": 0,
    "start_time": "2023-04-24T17:59:37.429Z"
   },
   {
    "duration": 0,
    "start_time": "2023-04-24T17:59:37.430Z"
   },
   {
    "duration": 0,
    "start_time": "2023-04-24T17:59:37.432Z"
   },
   {
    "duration": 0,
    "start_time": "2023-04-24T17:59:37.433Z"
   },
   {
    "duration": 0,
    "start_time": "2023-04-24T17:59:37.434Z"
   },
   {
    "duration": 0,
    "start_time": "2023-04-24T17:59:37.435Z"
   },
   {
    "duration": 0,
    "start_time": "2023-04-24T17:59:37.436Z"
   },
   {
    "duration": 0,
    "start_time": "2023-04-24T17:59:37.437Z"
   },
   {
    "duration": 0,
    "start_time": "2023-04-24T17:59:37.438Z"
   },
   {
    "duration": 0,
    "start_time": "2023-04-24T17:59:37.439Z"
   },
   {
    "duration": 0,
    "start_time": "2023-04-24T17:59:37.440Z"
   },
   {
    "duration": 0,
    "start_time": "2023-04-24T17:59:37.441Z"
   },
   {
    "duration": 0,
    "start_time": "2023-04-24T17:59:37.443Z"
   },
   {
    "duration": 0,
    "start_time": "2023-04-24T17:59:37.444Z"
   },
   {
    "duration": 0,
    "start_time": "2023-04-24T17:59:37.445Z"
   },
   {
    "duration": 0,
    "start_time": "2023-04-24T17:59:37.446Z"
   },
   {
    "duration": 35,
    "start_time": "2023-04-24T18:00:24.747Z"
   },
   {
    "duration": 16,
    "start_time": "2023-04-24T18:00:29.235Z"
   },
   {
    "duration": 14,
    "start_time": "2023-04-24T18:01:09.305Z"
   },
   {
    "duration": 62,
    "start_time": "2023-04-24T18:01:21.040Z"
   },
   {
    "duration": 62,
    "start_time": "2023-04-24T18:01:37.220Z"
   },
   {
    "duration": 34,
    "start_time": "2023-04-24T18:01:41.484Z"
   },
   {
    "duration": 15,
    "start_time": "2023-04-24T18:02:21.056Z"
   },
   {
    "duration": 53,
    "start_time": "2023-04-24T18:02:29.587Z"
   },
   {
    "duration": 14,
    "start_time": "2023-04-24T18:02:34.312Z"
   },
   {
    "duration": 60,
    "start_time": "2023-04-24T18:02:42.732Z"
   },
   {
    "duration": 143,
    "start_time": "2023-04-24T18:02:54.126Z"
   },
   {
    "duration": 60,
    "start_time": "2023-04-24T18:03:09.679Z"
   },
   {
    "duration": 50,
    "start_time": "2023-04-24T18:03:57.519Z"
   },
   {
    "duration": 49,
    "start_time": "2023-04-24T18:06:26.058Z"
   },
   {
    "duration": 9,
    "start_time": "2023-04-24T18:07:05.176Z"
   },
   {
    "duration": 7,
    "start_time": "2023-04-24T18:07:07.923Z"
   },
   {
    "duration": 64,
    "start_time": "2023-04-24T18:08:07.433Z"
   },
   {
    "duration": 69,
    "start_time": "2023-04-24T18:08:19.629Z"
   },
   {
    "duration": 76,
    "start_time": "2023-04-24T18:08:25.456Z"
   },
   {
    "duration": 155,
    "start_time": "2023-04-24T18:08:36.293Z"
   },
   {
    "duration": 145,
    "start_time": "2023-04-24T18:08:45.243Z"
   },
   {
    "duration": 151,
    "start_time": "2023-04-24T18:10:05.260Z"
   },
   {
    "duration": 9,
    "start_time": "2023-04-24T18:12:03.065Z"
   },
   {
    "duration": 5,
    "start_time": "2023-04-24T18:12:04.446Z"
   },
   {
    "duration": 9,
    "start_time": "2023-04-24T18:12:22.198Z"
   },
   {
    "duration": 7,
    "start_time": "2023-04-24T18:12:23.308Z"
   },
   {
    "duration": 79,
    "start_time": "2023-04-24T18:12:37.130Z"
   },
   {
    "duration": 9,
    "start_time": "2023-04-24T18:12:46.380Z"
   },
   {
    "duration": 7,
    "start_time": "2023-04-24T18:12:48.707Z"
   },
   {
    "duration": 9,
    "start_time": "2023-04-24T18:14:57.856Z"
   },
   {
    "duration": 5,
    "start_time": "2023-04-24T18:14:58.302Z"
   },
   {
    "duration": 476,
    "start_time": "2023-04-24T18:18:24.435Z"
   },
   {
    "duration": 1061,
    "start_time": "2023-04-24T18:18:31.345Z"
   },
   {
    "duration": 1860,
    "start_time": "2023-04-24T18:18:43.238Z"
   },
   {
    "duration": 2833,
    "start_time": "2023-04-24T18:18:51.484Z"
   },
   {
    "duration": 981,
    "start_time": "2023-04-24T18:19:04.173Z"
   },
   {
    "duration": 144,
    "start_time": "2023-04-24T18:20:39.554Z"
   },
   {
    "duration": 15,
    "start_time": "2023-04-24T18:20:40.707Z"
   },
   {
    "duration": 55,
    "start_time": "2023-04-24T20:50:59.857Z"
   },
   {
    "duration": 1238,
    "start_time": "2023-04-24T20:52:42.700Z"
   },
   {
    "duration": 909,
    "start_time": "2023-04-24T20:53:25.405Z"
   },
   {
    "duration": 2296,
    "start_time": "2023-04-24T20:53:39.724Z"
   },
   {
    "duration": 37,
    "start_time": "2023-04-24T20:53:59.033Z"
   },
   {
    "duration": 3746,
    "start_time": "2023-04-24T20:54:06.519Z"
   }
  ],
  "kernelspec": {
   "display_name": "Python 3 (ipykernel)",
   "language": "python",
   "name": "python3"
  },
  "language_info": {
   "codemirror_mode": {
    "name": "ipython",
    "version": 3
   },
   "file_extension": ".py",
   "mimetype": "text/x-python",
   "name": "python",
   "nbconvert_exporter": "python",
   "pygments_lexer": "ipython3",
   "version": "3.9.5"
  },
  "toc": {
   "base_numbering": 1,
   "nav_menu": {},
   "number_sections": true,
   "sideBar": true,
   "skip_h1_title": true,
   "title_cell": "Table of Contents",
   "title_sidebar": "Contents",
   "toc_cell": false,
   "toc_position": {},
   "toc_section_display": true,
   "toc_window_display": false
  }
 },
 "nbformat": 4,
 "nbformat_minor": 2
}
