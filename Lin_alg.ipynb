{
 "cells": [
  {
   "cell_type": "markdown",
   "metadata": {},
   "source": [
    "<div style=\"border:solid Chocolate 2px; padding: 40px\">\n",
    "\n",
    "Привет Андрей, меня зовут Саша Атаков. Сегодня я проверю твой проект.\n",
    "<br> Дальнейшее общение будет происходить на \"ты\" если это не вызывает никаких проблем. Можем работать и на \"вы\", вдруг тебе неудобно)\n",
    "<br> Желательно реагировать на каждый мой комментарий ('исправлено', 'не понятно как исправить ошибку', ...)\n",
    "<br> Пожалуйста, не удаляй комментарии ревьюера, так как они повышают качество повторного ревью.\n",
    "\n",
    "Комментарии будут в следующих рамках:\n",
    "\n",
    "<div class=\"alert alert-block alert-success\">\n",
    "<b>Успех👍:</b> Если все сделано отлично\n",
    "</div>\n",
    "\n",
    "<div class=\"alert alert-block alert-warning\">\n",
    "<b>Совет🤔: </b> Если можно немного улучшить\n",
    "</div>\n",
    "\n",
    "<div class=\"alert alert-block alert-danger\">\n",
    "<b>Ошибка❌:</b> Если требуются исправления. Работа не может быть принята с красными комментариями.\n",
    "</div>\n",
    "\n",
    "-------------------\n",
    "\n",
    "Будет очень хорошо, если ты будешь помечать свои действия следующим образом:\n",
    "<div class=\"alert alert-block alert-info\">\n",
    "<b>Комментарий студента:</b> ...\n",
    "</div>\n",
    "\n",
    "    \n",
    "<div class=\"alert alert-block alert-info\">\n",
    "<b>Изменения:</b> Были внесены следующие изменения ...\n",
    "</div>\n",
    "\n",
    "<b><font color='orange'>Вот тебе полезная ссылка, вдруг подчерпнешь что-то новое для себя):</font></b>\n",
    "* Обзоры по применению криптографии в машинном обучении: https://arxiv.org/pdf/1902.04109.pdf\n",
    "* Подробнее про аналогичный алгоритм: https://www.cs.cmu.edu/~rjhall/JOS_revised_May_31a.pdf\n",
    "* Про корреляцию качественных признаков: https://www.statology.org/pearson-correlation-assumptions/\n",
    "\n",
    "<b> <font color='orange'>Общее впечатление</font></b>\n",
    "* Большое спасибо за проделанную работу. Видно, что были отлично проработаны знания по матрицам, прекрасно сделано)\n",
    "* Отлично, что ноутбук хорошо структурирован. Приятно проверять такие работы.\n",
    "* Над этим проектом нужно будет еще немного поработать, ведь критические ошибки требуют внимания. Однако, изменения не должны занять много времени.\n",
    "* В работе я оставил несколько советов. Буду рад, если они будут учтены.\n",
    "* В конце прописал свой комментарий по всему проекту, ознакомься с ним, пожалуйста)\n",
    "* С радостью отвечу на твои вопросы, касательно выданной тебе темы, если они есть. Жду новую версию проекта.)"
   ]
  },
  {
   "cell_type": "markdown",
   "metadata": {
    "toc": true
   },
   "source": [
    "<h1>Содержание<span class=\"tocSkip\"></span></h1>\n",
    "<div class=\"toc\"><ul class=\"toc-item\"><li><span><a href=\"#Загрузка-данных\" data-toc-modified-id=\"Загрузка-данных-1\"><span class=\"toc-item-num\">1&nbsp;&nbsp;</span>Загрузка данных</a></span></li><li><span><a href=\"#Умножение-матриц\" data-toc-modified-id=\"Умножение-матриц-2\"><span class=\"toc-item-num\">2&nbsp;&nbsp;</span>Умножение матриц</a></span></li><li><span><a href=\"#Алгоритм-преобразования\" data-toc-modified-id=\"Алгоритм-преобразования-3\"><span class=\"toc-item-num\">3&nbsp;&nbsp;</span>Алгоритм преобразования</a></span></li><li><span><a href=\"#Проверка-алгоритма\" data-toc-modified-id=\"Проверка-алгоритма-4\"><span class=\"toc-item-num\">4&nbsp;&nbsp;</span>Проверка алгоритма</a></span></li><li><span><a href=\"#Чек-лист-проверки\" data-toc-modified-id=\"Чек-лист-проверки-5\"><span class=\"toc-item-num\">5&nbsp;&nbsp;</span>Чек-лист проверки</a></span></li><li><span><a href=\"#Общий-вывод-по-проекту\" data-toc-modified-id=\"Общий-вывод-по-проекту-6\"><span class=\"toc-item-num\">6&nbsp;&nbsp;</span><b>Общий вывод по проекту</b></a></span></li><li><span><a href=\"#Общий-вывод-по-проекту-В2\" data-toc-modified-id=\"Общий-вывод-по-проекту-В2-7\"><span class=\"toc-item-num\">7&nbsp;&nbsp;</span><b>Общий вывод по проекту В2</b></a></span></li></ul></div>"
   ]
  },
  {
   "cell_type": "markdown",
   "metadata": {},
   "source": [
    "# Защита персональных данных клиентов"
   ]
  },
  {
   "cell_type": "markdown",
   "metadata": {},
   "source": [
    "Нам нужно защитить данные клиентов страховой компании «Хоть потоп». Разработайте такой метод преобразования данных, чтобы по ним было сложно восстановить персональную информацию. Обоснуйте корректность его работы.\n",
    "\n",
    "Нужно защитить данные, чтобы при преобразовании качество моделей машинного обучения не ухудшилось. Подбирать наилучшую модель не требуется.\n",
    "\n",
    "Ход выполнению проекта:\n",
    "1. Загрузим и изучим данные.\n",
    "2. Ответим на вопрос и обоснуйте решение. Признаки умножают на обратимую матрицу. Изменится ли качество линейной регрессии? (Её можно обучить заново.)\\\n",
    "     a. Изменится. Приведите примеры матриц.\\\n",
    "     b. Не изменится. Укажите, как связаны параметры линейной регрессии в исходной задаче и в преобразованной.\n",
    "3. Предложим алгоритм преобразования данных для решения задачи. Обоснуем, почему качество линейной регрессии не поменяется.\n",
    "4. Запрограммируем этот алгоритм, применив матричные операции. Проверем, что качество линейной регрессии из sklearn не отличается до и после преобразования. Применим метрику R2.\n",
    "\n",
    "Описание данных:\\\n",
    "Признаки: пол, возраст и зарплата застрахованного, количество членов его семьи.\\\n",
    "Целевой признак: количество страховых выплат клиенту за последние 5 лет."
   ]
  },
  {
   "cell_type": "markdown",
   "metadata": {},
   "source": [
    "<div class=\"alert alert-block alert-success\">\n",
    "<b>Успех👍:</b> \n",
    "\n",
    "Крайне полезно то, что ты написал описание к работе, потому что так можно точно понять, о чем идет речь в данном проекте - молодец). Копи пас работает)\n",
    "</div>"
   ]
  },
  {
   "cell_type": "markdown",
   "metadata": {},
   "source": [
    "## Загрузка данных"
   ]
  },
  {
   "cell_type": "code",
   "execution_count": 1,
   "metadata": {},
   "outputs": [],
   "source": [
    "import pandas as pd\n",
    "import numpy as np\n",
    "from sklearn.linear_model import LinearRegression \n",
    "from sklearn.metrics import r2_score\n",
    "from sklearn.model_selection import train_test_split"
   ]
  },
  {
   "cell_type": "markdown",
   "metadata": {},
   "source": [
    "<div class=\"alert alert-block alert-success\">\n",
    "<b>Успех👍:</b> \n",
    "\n",
    "Крайне удобно, когда программист указывает все библиотеки с которыми он работал в самом начале проекта. Молодец!\n",
    "</div>"
   ]
  },
  {
   "cell_type": "code",
   "execution_count": 2,
   "metadata": {},
   "outputs": [],
   "source": [
    "df = pd.read_csv('/datasets/insurance.csv')"
   ]
  },
  {
   "cell_type": "code",
   "execution_count": 3,
   "metadata": {},
   "outputs": [
    {
     "data": {
      "text/html": [
       "<div>\n",
       "<style scoped>\n",
       "    .dataframe tbody tr th:only-of-type {\n",
       "        vertical-align: middle;\n",
       "    }\n",
       "\n",
       "    .dataframe tbody tr th {\n",
       "        vertical-align: top;\n",
       "    }\n",
       "\n",
       "    .dataframe thead th {\n",
       "        text-align: right;\n",
       "    }\n",
       "</style>\n",
       "<table border=\"1\" class=\"dataframe\">\n",
       "  <thead>\n",
       "    <tr style=\"text-align: right;\">\n",
       "      <th></th>\n",
       "      <th>Пол</th>\n",
       "      <th>Возраст</th>\n",
       "      <th>Зарплата</th>\n",
       "      <th>Члены семьи</th>\n",
       "      <th>Страховые выплаты</th>\n",
       "    </tr>\n",
       "  </thead>\n",
       "  <tbody>\n",
       "    <tr>\n",
       "      <th>0</th>\n",
       "      <td>1</td>\n",
       "      <td>41.0</td>\n",
       "      <td>49600.0</td>\n",
       "      <td>1</td>\n",
       "      <td>0</td>\n",
       "    </tr>\n",
       "    <tr>\n",
       "      <th>1</th>\n",
       "      <td>0</td>\n",
       "      <td>46.0</td>\n",
       "      <td>38000.0</td>\n",
       "      <td>1</td>\n",
       "      <td>1</td>\n",
       "    </tr>\n",
       "    <tr>\n",
       "      <th>2</th>\n",
       "      <td>0</td>\n",
       "      <td>29.0</td>\n",
       "      <td>21000.0</td>\n",
       "      <td>0</td>\n",
       "      <td>0</td>\n",
       "    </tr>\n",
       "    <tr>\n",
       "      <th>3</th>\n",
       "      <td>0</td>\n",
       "      <td>21.0</td>\n",
       "      <td>41700.0</td>\n",
       "      <td>2</td>\n",
       "      <td>0</td>\n",
       "    </tr>\n",
       "    <tr>\n",
       "      <th>4</th>\n",
       "      <td>1</td>\n",
       "      <td>28.0</td>\n",
       "      <td>26100.0</td>\n",
       "      <td>0</td>\n",
       "      <td>0</td>\n",
       "    </tr>\n",
       "  </tbody>\n",
       "</table>\n",
       "</div>"
      ],
      "text/plain": [
       "   Пол  Возраст  Зарплата  Члены семьи  Страховые выплаты\n",
       "0    1     41.0   49600.0            1                  0\n",
       "1    0     46.0   38000.0            1                  1\n",
       "2    0     29.0   21000.0            0                  0\n",
       "3    0     21.0   41700.0            2                  0\n",
       "4    1     28.0   26100.0            0                  0"
      ]
     },
     "execution_count": 3,
     "metadata": {},
     "output_type": "execute_result"
    }
   ],
   "source": [
    "df.head()"
   ]
  },
  {
   "cell_type": "code",
   "execution_count": 4,
   "metadata": {},
   "outputs": [
    {
     "name": "stdout",
     "output_type": "stream",
     "text": [
      "<class 'pandas.core.frame.DataFrame'>\n",
      "RangeIndex: 5000 entries, 0 to 4999\n",
      "Data columns (total 5 columns):\n",
      " #   Column             Non-Null Count  Dtype  \n",
      "---  ------             --------------  -----  \n",
      " 0   Пол                5000 non-null   int64  \n",
      " 1   Возраст            5000 non-null   float64\n",
      " 2   Зарплата           5000 non-null   float64\n",
      " 3   Члены семьи        5000 non-null   int64  \n",
      " 4   Страховые выплаты  5000 non-null   int64  \n",
      "dtypes: float64(2), int64(3)\n",
      "memory usage: 195.4 KB\n"
     ]
    }
   ],
   "source": [
    "df.info()"
   ]
  },
  {
   "cell_type": "code",
   "execution_count": 5,
   "metadata": {},
   "outputs": [
    {
     "data": {
      "image/png": "[encoded data removed]",
      "text/plain": [
       "<Figure size 576x576 with 6 Axes>"
      ]
     },
     "metadata": {
      "needs_background": "light"
     },
     "output_type": "display_data"
    }
   ],
   "source": [
    "df.hist(figsize=(8, 8));"
   ]
  },
  {
   "cell_type": "code",
   "execution_count": 6,
   "metadata": {},
   "outputs": [
    {
     "data": {
      "text/plain": [
       "Пол                  0\n",
       "Возраст              0\n",
       "Зарплата             0\n",
       "Члены семьи          0\n",
       "Страховые выплаты    0\n",
       "dtype: int64"
      ]
     },
     "execution_count": 6,
     "metadata": {},
     "output_type": "execute_result"
    }
   ],
   "source": [
    "# Проверим, есть ли пропуски\n",
    "df.isna().sum()"
   ]
  },
  {
   "cell_type": "code",
   "execution_count": 7,
   "metadata": {},
   "outputs": [
    {
     "data": {
      "text/plain": [
       "153"
      ]
     },
     "execution_count": 7,
     "metadata": {},
     "output_type": "execute_result"
    }
   ],
   "source": [
    "# Посмотрим, сколько дубликатов\n",
    "df.duplicated().sum()"
   ]
  },
  {
   "cell_type": "code",
   "execution_count": 8,
   "metadata": {},
   "outputs": [
    {
     "data": {
      "text/plain": [
       "0"
      ]
     },
     "execution_count": 8,
     "metadata": {},
     "output_type": "execute_result"
    }
   ],
   "source": [
    "# Избавимся от дубликатов\n",
    "df = df.drop_duplicates()\n",
    "df.duplicated().sum()"
   ]
  },
  {
   "cell_type": "markdown",
   "metadata": {},
   "source": [
    "<div class=\"alert alert-block alert-info\">\n",
    "<b>Комментарий студента:</b> Пропусков в данных нет, но есть дубликаты, которые были удалены. Пол клиентов распределен поровну, возрост в основном до 40 лет, больше всего до 30ти, зарплата нормально распределена вокруг 40000, детей в основном 1-2 или нету,\n",
    "</div>"
   ]
  },
  {
   "cell_type": "markdown",
   "metadata": {},
   "source": [
    "<div class=\"alert alert-block alert-success\">\n",
    "<b>Успех👍:</b> \n",
    "\n",
    "Данные загружены, просмотрены и совершен первичный анализ проекта с помощью методов МО. \n",
    "</div>\n",
    "\n",
    "<div class=\"alert alert-block alert-danger\">\n",
    "<b>Ошибка❌:</b> \n",
    "    \n",
    "Но ты не расписываешь комментарии и выводы к анализу, а это важная часть проекта, тебе нужно расписать это.\n",
    "</div>\n",
    "\n"
   ]
  },
  {
   "cell_type": "markdown",
   "metadata": {},
   "source": [
    "<div class=\"alert alert-block alert-success\">\n",
    "<b>Успех👍 В2:</b> \n",
    "\n",
    "Да, такой вывод нам подойдет - молодец)\n",
    "</div>"
   ]
  },
  {
   "cell_type": "markdown",
   "metadata": {},
   "source": [
    "## Умножение матриц"
   ]
  },
  {
   "cell_type": "markdown",
   "metadata": {},
   "source": [
    "В этом задании вы можете записывать формулы в *Jupyter Notebook.*\n",
    "\n",
    "Чтобы записать формулу внутри текста, окружите её символами доллара \\\\$; если снаружи —  двойными символами \\\\$\\\\$. Эти формулы записываются на языке вёрстки *LaTeX.* \n",
    "\n",
    "Для примера мы записали формулы линейной регрессии. Можете их скопировать и отредактировать, чтобы решить задачу.\n",
    "\n",
    "Работать в *LaTeX* необязательно."
   ]
  },
  {
   "cell_type": "markdown",
   "metadata": {},
   "source": [
    "Обозначения:\n",
    "\n",
    "- $X$ — матрица признаков (нулевой столбец состоит из единиц)\n",
    "\n",
    "- $y$ — вектор целевого признака\n",
    "\n",
    "- $P$ — матрица, на которую умножаются признаки\n",
    "\n",
    "- $w$ — вектор весов линейной регрессии (нулевой элемент равен сдвигу)"
   ]
  },
  {
   "cell_type": "markdown",
   "metadata": {},
   "source": [
    "Предсказания:\n",
    "\n",
    "$$\n",
    "a = Xw\n",
    "$$\n",
    "\n",
    "Задача обучения:\n",
    "\n",
    "$$\n",
    "w = \\arg\\min_w MSE(Xw, y)\n",
    "$$\n",
    "\n",
    "Формула обучения:\n",
    "\n",
    "$$\n",
    "w = (X^T X)^{-1} X^T y\n",
    "$$"
   ]
  },
  {
   "cell_type": "markdown",
   "metadata": {},
   "source": [
    "Признаки умножают на обратимую матрицу. Изменится ли качество линейной регрессии? (Её можно обучить заново.)\\\n",
    "**Ответ:** Не изменится.\n",
    "\n",
    "**Обоснование:** "
   ]
  },
  {
   "cell_type": "markdown",
   "metadata": {},
   "source": [
    "Представим нашу новую матрицу признаков как результат умножения исходной матрицы признаков на некую обратимую матрицу: $$X_1 = XP$$ Тогда наша формула обучения примет вид: $w_1 = (X_1^TX_1)^{-1}X_1^Ty$ \\\n",
    "Подставив в нее значения $X_1$, получим: $w_1 = ((XP)^TXP)^{-1}(XP)^Ty$ \\\n",
    "Воспользуемся следующими свойствами матриц, а именно: $$A(BC) = (AB)C$$ $$(AB)^{-1} = A^{-1}B^{-1}$$ $$(AB)^T = A^TB^T$$ $$(A^T)^{-1} = (A^{-1})^T$$ $$AA^{-1} = E$$ $$AE = EA = A$$ \n",
    "Тогда нашу формулу для расчета вектора весов можно переписать: \n",
    "$$w_1 = ((XP)^T XP)^{-1}(XP)^Ty$$\n",
    "$$w_1 = (P^T(X^TX)P)^{-1} (XP)^T y$$\n",
    "$$w_1= (P^T (X^T X) P)^{-1} P^T X^T y$$\n",
    "$$w_1= P^{-1} (X^T X)^{-1}(P^T)^{-1} P^T X^T y$$\n",
    "$$w_1= P^{-1} (X^T X)^{-1} E X^Ty$$\n",
    "$$w_1 = P^{-1} w$$ \n",
    "Тоже самое, для формулы предсказаний: $a_1 = X_1w_1$, подставив получившиеся значения $X_1 = XP$ и $w_1 = P^{-1}w$, получим:\n",
    "$$a_1 = XPP^{-1}w$$\n",
    "$$a_1 = Xw$$\n",
    "Тем самым получаем, что наши предсказания никоем образом не изменятся.\n"
   ]
  },
  {
   "cell_type": "markdown",
   "metadata": {},
   "source": [
    "<div class=\"alert alert-block alert-success\">\n",
    "<b>Успех👍:</b> \n",
    "\n",
    "Абсолютно верное доказательство, ты вспомнил все основные правила и свойства, особенно мне понравилось то, что ты вспомнил о том, что матрица X не квадратная матрица, а следовательно не может иметь обратной матрицы - многие попадают в эту ловушку, но ты справился, молодец)\n",
    "</div>"
   ]
  },
  {
   "cell_type": "markdown",
   "metadata": {},
   "source": [
    "## Алгоритм преобразования"
   ]
  },
  {
   "cell_type": "markdown",
   "metadata": {},
   "source": [
    "**Алгоритм**\n",
    "\n",
    "сгенерируем обратимую матрицу, квадратную, размерностью соответствующую количеству столбцов признаков, а это 4х4.\n",
    "\n",
    "умножим матрицу исходных признаков на сгенерированную матрицу.\n",
    "\n",
    "посчитаем качество модели на полученной матрице и сравним с качеством модели на матрице исходных данных.\n"
   ]
  },
  {
   "cell_type": "markdown",
   "metadata": {},
   "source": [
    "**Обоснование**\n",
    "\n",
    "Так как предсказания на измененной и изначальной матрице не должны отличаться, поэтому результаты метрики R2 должны оказаться равны. Так мы докажем, что правильно защитили наши данные."
   ]
  },
  {
   "cell_type": "markdown",
   "metadata": {},
   "source": [
    "<div class=\"alert alert-block alert-success\">\n",
    "<b>Успех👍:</b> \n",
    "\n",
    "Довольно интересный алгоритм, мне нравится идея, давай применять \n",
    "</div>"
   ]
  },
  {
   "cell_type": "markdown",
   "metadata": {},
   "source": [
    "## Проверка алгоритма"
   ]
  },
  {
   "cell_type": "code",
   "execution_count": 9,
   "metadata": {},
   "outputs": [],
   "source": [
    "# создадим исходные признаки\n",
    "features = df.drop('Страховые выплаты', axis=1)\n",
    "target = df['Страховые выплаты']"
   ]
  },
  {
   "cell_type": "code",
   "execution_count": 18,
   "metadata": {},
   "outputs": [],
   "source": [
    "# Разобьем на трейн и тест выборки для обычной модели\n",
    "features_train, features_test, target_train, target_test = train_test_split(\n",
    "features, target, test_size=0.25, random_state=12345) "
   ]
  },
  {
   "cell_type": "markdown",
   "metadata": {},
   "source": [
    "<div class=\"alert alert-block alert-danger\">\n",
    "<b>Ошибка❌:</b> \n",
    "    \n",
    "Лучше воспользоваться делением на трейн и тест выборки, чтобы модели обучались на одной выборке, а качество предсказывали на другой - так будет соблюдена слепая проверка, которая не создаст переобучение модели и утечки данных:\n",
    "    \n",
    "    \n",
    "    features_train, features_test, target_train, target_test = train_test_split(\n",
    "    features, target, test_size=0.25, random_state=12345) \n",
    "    # для обычной модели\n",
    "    \n",
    "    features_train_new, features_test_new, target_train, target_test = train_test_split(\n",
    "    features_new, target, test_size=0.25, random_state=12345)\n",
    "    # для преобразованной\n",
    "    \n",
    "</div>"
   ]
  },
  {
   "cell_type": "markdown",
   "metadata": {},
   "source": [
    "<div class=\"alert alert-block alert-success\">\n",
    "<b>Успех👍 В2:</b> \n",
    "\n",
    "Супер, деление выборок есть, ты отлично справляешься)\n",
    "</div>"
   ]
  },
  {
   "cell_type": "code",
   "execution_count": 16,
   "metadata": {},
   "outputs": [
    {
     "name": "stdout",
     "output_type": "stream",
     "text": [
      "Метрика R2 для признаков в исходном состоянии: 0.42307727492147584\n"
     ]
    }
   ],
   "source": [
    "# Проведем моделирование до преобразования\n",
    "model = LinearRegression()\n",
    "model.fit(features_train, target_train)\n",
    "predictions = model.predict(features_test)\n",
    "r2 = r2_score(target_test, predictions)\n",
    "print('Метрика R2 для признаков в исходном состоянии:', r2)"
   ]
  },
  {
   "cell_type": "markdown",
   "metadata": {},
   "source": [
    "<div class=\"alert alert-block alert-info\">\n",
    "<b>Изменения:</b> Сделано разбиение на трейн и тест выборку, проведено обучение на трейне и предсказание на тесте для обычной модели.\n",
    "</div>"
   ]
  },
  {
   "cell_type": "markdown",
   "metadata": {},
   "source": [
    "<div class=\"alert alert-block alert-success\">\n",
    "<b>Успех👍:</b> \n",
    "\n",
    "Качество на метрике получено, теперь нам нужно его сравнить с моделью, что обучится и предскажет преобразованные данные)\n",
    "</div>"
   ]
  },
  {
   "cell_type": "code",
   "execution_count": 12,
   "metadata": {},
   "outputs": [
    {
     "data": {
      "text/plain": [
       "array([[-1.04660468, -1.7374307 ,  0.67944468,  0.41174214],\n",
       "       [-1.07067626, -0.48563318, -0.93654852, -0.7549391 ],\n",
       "       [-0.61997693, -0.46656358,  0.91576401, -0.28314376],\n",
       "       [-0.54368838,  0.34221358, -0.9036193 , -0.05448665]])"
      ]
     },
     "execution_count": 12,
     "metadata": {},
     "output_type": "execute_result"
    }
   ],
   "source": [
    "# Сгенерируем матрицу 4x4\n",
    "matrix = np.random.normal(size=(4, 4))\n",
    "matrix"
   ]
  },
  {
   "cell_type": "markdown",
   "metadata": {},
   "source": [
    "<div class=\"alert alert-block alert-warning\">\n",
    "<b>Совет🤔: </b>\n",
    "\n",
    "Лучше создать матрицу не по константе, а по реальным значениям величин матрицы $X$ - вдруг в будущем добавится новый признак или что-нибудь еще, тогда константа равная 4 не прокатит\n",
    "</div>"
   ]
  },
  {
   "cell_type": "code",
   "execution_count": 13,
   "metadata": {},
   "outputs": [
    {
     "data": {
      "text/plain": [
       "array([[-0.1261435 ,  0.34269453, -0.84563502, -1.3070324 ],\n",
       "       [-0.40621579, -0.58242645,  0.75715142,  1.06553888],\n",
       "       [-0.11293355, -0.36768283,  0.81344607,  0.01388344],\n",
       "       [ 0.58030968, -0.97983597, -0.29688253,  1.15101338]])"
      ]
     },
     "execution_count": 13,
     "metadata": {},
     "output_type": "execute_result"
    }
   ],
   "source": [
    "# Сделаем обратную матрицу\n",
    "matrix_inv = np.linalg.inv(matrix)\n",
    "matrix_inv"
   ]
  },
  {
   "cell_type": "markdown",
   "metadata": {},
   "source": [
    "Отлично! матрица обратима."
   ]
  },
  {
   "cell_type": "code",
   "execution_count": 14,
   "metadata": {},
   "outputs": [
    {
     "data": {
      "text/html": [
       "<div>\n",
       "<style scoped>\n",
       "    .dataframe tbody tr th:only-of-type {\n",
       "        vertical-align: middle;\n",
       "    }\n",
       "\n",
       "    .dataframe tbody tr th {\n",
       "        vertical-align: top;\n",
       "    }\n",
       "\n",
       "    .dataframe thead th {\n",
       "        text-align: right;\n",
       "    }\n",
       "</style>\n",
       "<table border=\"1\" class=\"dataframe\">\n",
       "  <thead>\n",
       "    <tr style=\"text-align: right;\">\n",
       "      <th></th>\n",
       "      <th>Пол</th>\n",
       "      <th>Возраст</th>\n",
       "      <th>Зарплата</th>\n",
       "      <th>Члены семьи</th>\n",
       "    </tr>\n",
       "  </thead>\n",
       "  <tbody>\n",
       "    <tr>\n",
       "      <th>0</th>\n",
       "      <td>-30796.343660</td>\n",
       "      <td>-23162.859543</td>\n",
       "      <td>45383.272417</td>\n",
       "      <td>-14074.525583</td>\n",
       "    </tr>\n",
       "    <tr>\n",
       "      <th>1</th>\n",
       "      <td>-23608.918069</td>\n",
       "      <td>-17751.412798</td>\n",
       "      <td>34755.047670</td>\n",
       "      <td>-10794.244442</td>\n",
       "    </tr>\n",
       "    <tr>\n",
       "      <th>2</th>\n",
       "      <td>-13050.565104</td>\n",
       "      <td>-9811.918456</td>\n",
       "      <td>19203.884381</td>\n",
       "      <td>-5967.912126</td>\n",
       "    </tr>\n",
       "    <tr>\n",
       "      <th>3</th>\n",
       "      <td>-25876.609485</td>\n",
       "      <td>-19465.214985</td>\n",
       "      <td>38165.884615</td>\n",
       "      <td>-11823.057351</td>\n",
       "    </tr>\n",
       "    <tr>\n",
       "      <th>4</th>\n",
       "      <td>-16212.423367</td>\n",
       "      <td>-12192.644491</td>\n",
       "      <td>23875.896844</td>\n",
       "      <td>-7410.778604</td>\n",
       "    </tr>\n",
       "    <tr>\n",
       "      <th>...</th>\n",
       "      <td>...</td>\n",
       "      <td>...</td>\n",
       "      <td>...</td>\n",
       "      <td>...</td>\n",
       "    </tr>\n",
       "    <tr>\n",
       "      <th>4842</th>\n",
       "      <td>-22164.242650</td>\n",
       "      <td>-16669.232962</td>\n",
       "      <td>32664.744693</td>\n",
       "      <td>-10129.479384</td>\n",
       "    </tr>\n",
       "    <tr>\n",
       "      <th>4843</th>\n",
       "      <td>-32523.737720</td>\n",
       "      <td>-24464.100693</td>\n",
       "      <td>47953.288050</td>\n",
       "      <td>-14862.455270</td>\n",
       "    </tr>\n",
       "    <tr>\n",
       "      <th>4844</th>\n",
       "      <td>-21039.718769</td>\n",
       "      <td>-15825.533460</td>\n",
       "      <td>31023.861856</td>\n",
       "      <td>-9613.781109</td>\n",
       "    </tr>\n",
       "    <tr>\n",
       "      <th>4845</th>\n",
       "      <td>-20299.478101</td>\n",
       "      <td>-15268.023652</td>\n",
       "      <td>29922.847768</td>\n",
       "      <td>-9275.161224</td>\n",
       "    </tr>\n",
       "    <tr>\n",
       "      <th>4846</th>\n",
       "      <td>-25202.632514</td>\n",
       "      <td>-18957.474128</td>\n",
       "      <td>37153.571424</td>\n",
       "      <td>-11516.417564</td>\n",
       "    </tr>\n",
       "  </tbody>\n",
       "</table>\n",
       "<p>4847 rows × 4 columns</p>\n",
       "</div>"
      ],
      "text/plain": [
       "               Пол       Возраст      Зарплата   Члены семьи\n",
       "0    -30796.343660 -23162.859543  45383.272417 -14074.525583\n",
       "1    -23608.918069 -17751.412798  34755.047670 -10794.244442\n",
       "2    -13050.565104  -9811.918456  19203.884381  -5967.912126\n",
       "3    -25876.609485 -19465.214985  38165.884615 -11823.057351\n",
       "4    -16212.423367 -12192.644491  23875.896844  -7410.778604\n",
       "...            ...           ...           ...           ...\n",
       "4842 -22164.242650 -16669.232962  32664.744693 -10129.479384\n",
       "4843 -32523.737720 -24464.100693  47953.288050 -14862.455270\n",
       "4844 -21039.718769 -15825.533460  31023.861856  -9613.781109\n",
       "4845 -20299.478101 -15268.023652  29922.847768  -9275.161224\n",
       "4846 -25202.632514 -18957.474128  37153.571424 -11516.417564\n",
       "\n",
       "[4847 rows x 4 columns]"
      ]
     },
     "execution_count": 14,
     "metadata": {},
     "output_type": "execute_result"
    }
   ],
   "source": [
    "# Преобразуем наши признаки в новый набор с помощью матрицы\n",
    "features_arr = features.values\n",
    "matrix_new = features_arr@matrix\n",
    "features_new = pd.DataFrame(matrix_new, columns = features.columns)\n",
    "features_new"
   ]
  },
  {
   "cell_type": "code",
   "execution_count": 20,
   "metadata": {},
   "outputs": [],
   "source": [
    "# Проведем разбиение на трейн и тест выбоку для для преобразованных данных\n",
    "features_train_new, features_test_new, target_train, target_test = train_test_split(\n",
    "features_new, target, test_size=0.25, random_state=12345)"
   ]
  },
  {
   "cell_type": "code",
   "execution_count": 21,
   "metadata": {},
   "outputs": [
    {
     "name": "stdout",
     "output_type": "stream",
     "text": [
      "Метрика R2 для признаков в преобразованном состоянии: 0.4230772749217785\n"
     ]
    }
   ],
   "source": [
    "# Протестируем модель на новых признаках\n",
    "model_new = LinearRegression()\n",
    "model_new.fit(features_train_new, target_train)\n",
    "predictions = model_new.predict(features_test_new)\n",
    "r2_new = r2_score(target_test, predictions)\n",
    "print(f'Метрика R2 для признаков в преобразованном состоянии:', r2_new)"
   ]
  },
  {
   "cell_type": "markdown",
   "metadata": {},
   "source": [
    "<div class=\"alert alert-block alert-info\">\n",
    "<b>Изменения:</b> Сделано разбиение на трейн и тест выборку для преобразованных данных, проведено обучение на трейне и предсказание на тесте.\n",
    "</div>"
   ]
  },
  {
   "cell_type": "markdown",
   "metadata": {},
   "source": [
    "<div class=\"alert alert-block alert-success\">\n",
    "<b>Успех👍:</b> \n",
    "\n",
    "Прекрасно, разницы почти что нет вообще - это замечательный результат, основная цель проекта реализована - молодец\n",
    "</div>"
   ]
  },
  {
   "cell_type": "markdown",
   "metadata": {},
   "source": [
    "R2 у моделей одиннаковые, а значит преобразование исходных данных умножением на случайную обратимую матрицу может быть применено для их шифрования. "
   ]
  },
  {
   "cell_type": "markdown",
   "metadata": {},
   "source": [
    "<div class=\"alert alert-block alert-danger\">\n",
    "<b>Ошибка❌:</b> \n",
    "    \n",
    "А вот итогового вывода ко всему проекту я не увидел(. В нем нужно расписать все то, что ты реализуешь по проекту, каких целей достигаешь и общую оценку проекта. Добавь пожалуйста\n",
    "</div>   "
   ]
  },
  {
   "cell_type": "markdown",
   "metadata": {},
   "source": [
    "<div class=\"alert alert-block alert-info\">\n",
    "<b>Итоговые выводы:</b>Нам нужно было защитить данные клиентов страховой компании «Хоть потоп». Разработать такой метод преобразования данных, чтобы по ним было сложно восстановить персональную информацию. Обосновать корректность его работы.\n",
    "\n",
    "Нужно защитить данные, чтобы при преобразовании качество моделей машинного обучения не ухудшилось. Подбирать наилучшую модель не требуется.\n",
    "\n",
    "Ход выполнения проекта:\n",
    "\n",
    "    Были загружены и изучены данные.\n",
    "    Отвечено на вопрос ''Признаки умножают на обратимую матрицу. Изменится ли качество линейной регрессии?'' (Её можно обучить заново.) - Изменится. Приведены примеры матриц.\n",
    "    Предложен алгоритм преобразования данных для решения задачи. Обосновано, почему качество линейной регрессии не поменяется.\n",
    "    Был запрограммирован алгоритм, применины матричные операции. Проверено, что качество линейной регрессии из sklearn не отличается до и после преобразования. Была применина метрика R2.\n",
    "</div>"
   ]
  },
  {
   "cell_type": "markdown",
   "metadata": {},
   "source": [
    "<div class=\"alert alert-block alert-success\">\n",
    "<b>Успех👍 В2:</b> \n",
    "\n",
    "Браво, все расписано верно, весь проект смог поместиться в твой итоговый вывод - молодец)\n",
    "</div>"
   ]
  },
  {
   "cell_type": "markdown",
   "metadata": {},
   "source": [
    "## Чек-лист проверки"
   ]
  },
  {
   "cell_type": "markdown",
   "metadata": {},
   "source": [
    "Поставьте 'x' в выполненных пунктах. Далее нажмите Shift+Enter."
   ]
  },
  {
   "cell_type": "markdown",
   "metadata": {},
   "source": [
    "- [x]  Jupyter Notebook открыт\n",
    "- [ ]  Весь код выполняется без ошибок\n",
    "- [ ]  Ячейки с кодом расположены в порядке исполнения\n",
    "- [ ]  Выполнен шаг 1: данные загружены\n",
    "- [ ]  Выполнен шаг 2: получен ответ на вопрос об умножении матриц\n",
    "    - [ ]  Указан правильный вариант ответа\n",
    "    - [ ]  Вариант обоснован\n",
    "- [ ]  Выполнен шаг 3: предложен алгоритм преобразования\n",
    "    - [ ]  Алгоритм описан\n",
    "    - [ ]  Алгоритм обоснован\n",
    "- [ ]  Выполнен шаг 4: алгоритм проверен\n",
    "    - [ ]  Алгоритм реализован\n",
    "    - [ ]  Проведено сравнение качества моделей до и после преобразования"
   ]
  },
  {
   "cell_type": "markdown",
   "metadata": {},
   "source": [
    "<div style=\"border:solid Chocolate 2px; padding: 40px\">\n",
    "\n",
    "<h2><b>Общий вывод по проекту</b></h2>\n",
    "\n",
    "Ты очень постарался, спасибо тебе за такую работу!)\n",
    "\n",
    "В ходе проекта были выполнены все этапы проекта, главная цель достигнута. Конечно присутствует ряд моментов, которые необходимо рассмотреть, но ничего страшного, для это я здесь). Давай пройдемся по всему что ты сделал, чтобы понять что надо сделать для того, чтобы проект был засчитан:\n",
    "\n",
    "- У тебя отсутствует вывод по первичному анализу - сделай его и все будет хорошо) \n",
    "- лучше реализовать деление на выборки, так будет лучше для данных\n",
    "- итогового вывода нет, а он нам нужен для полной картины проекта - добавь\n",
    "- Есть советы по проекту, если хочешь и есть время - реализуй их. Если нет, то запомни на будущее)\n",
    "\n",
    "Работа классная, но нужно доработать! Удачи)"
   ]
  },
  {
   "cell_type": "markdown",
   "metadata": {},
   "source": [
    "<div style=\"border:solid Chocolate 2px; padding: 40px\">\n",
    "\n",
    "<h2><b>Общий вывод по проекту В2</b></h2>\n",
    "\n",
    "Все, проект можно принять - ты хорошо справился, так держать)"
   ]
  },
  {
   "cell_type": "code",
   "execution_count": null,
   "metadata": {},
   "outputs": [],
   "source": []
  }
 ],
 "metadata": {
  "ExecuteTimeLog": [
   {
    "duration": 88,
    "start_time": "2023-06-17T21:04:25.060Z"
   },
   {
    "duration": 400,
    "start_time": "2023-06-17T21:04:30.069Z"
   },
   {
    "duration": 2,
    "start_time": "2023-06-17T21:04:40.209Z"
   },
   {
    "duration": 2,
    "start_time": "2023-06-17T21:04:46.857Z"
   },
   {
    "duration": 85,
    "start_time": "2023-06-17T21:05:55.195Z"
   },
   {
    "duration": 15,
    "start_time": "2023-06-17T21:06:04.649Z"
   },
   {
    "duration": 8,
    "start_time": "2023-06-17T21:06:12.765Z"
   },
   {
    "duration": 13,
    "start_time": "2023-06-17T21:06:18.119Z"
   },
   {
    "duration": 759,
    "start_time": "2023-06-17T21:06:27.585Z"
   },
   {
    "duration": 551,
    "start_time": "2023-06-17T21:06:47.345Z"
   },
   {
    "duration": 488,
    "start_time": "2023-06-17T21:07:37.425Z"
   },
   {
    "duration": 7,
    "start_time": "2023-06-17T21:18:23.295Z"
   },
   {
    "duration": 5,
    "start_time": "2023-06-17T21:18:30.228Z"
   },
   {
    "duration": 45,
    "start_time": "2023-06-18T18:32:29.603Z"
   },
   {
    "duration": 396,
    "start_time": "2023-06-18T18:32:38.181Z"
   },
   {
    "duration": 87,
    "start_time": "2023-06-18T18:32:38.578Z"
   },
   {
    "duration": 21,
    "start_time": "2023-06-18T18:32:38.667Z"
   },
   {
    "duration": 11,
    "start_time": "2023-06-18T18:32:38.690Z"
   },
   {
    "duration": 1278,
    "start_time": "2023-06-18T18:32:38.703Z"
   },
   {
    "duration": 8,
    "start_time": "2023-06-18T18:32:39.983Z"
   },
   {
    "duration": 96,
    "start_time": "2023-06-18T18:32:39.992Z"
   },
   {
    "duration": 14,
    "start_time": "2023-06-18T18:32:52.842Z"
   },
   {
    "duration": 6,
    "start_time": "2023-06-18T18:33:13.656Z"
   },
   {
    "duration": 5,
    "start_time": "2023-06-18T18:33:21.506Z"
   },
   {
    "duration": 6,
    "start_time": "2023-06-18T18:33:22.607Z"
   },
   {
    "duration": 9,
    "start_time": "2023-06-18T18:34:28.636Z"
   },
   {
    "duration": 6,
    "start_time": "2023-06-18T18:34:31.358Z"
   },
   {
    "duration": 9,
    "start_time": "2023-06-18T18:34:31.996Z"
   },
   {
    "duration": 5,
    "start_time": "2023-06-18T18:34:48.245Z"
   },
   {
    "duration": 443,
    "start_time": "2023-06-18T18:35:01.341Z"
   },
   {
    "duration": 31,
    "start_time": "2023-06-18T18:35:01.786Z"
   },
   {
    "duration": 86,
    "start_time": "2023-06-18T18:35:01.818Z"
   },
   {
    "duration": 38,
    "start_time": "2023-06-18T18:35:01.906Z"
   },
   {
    "duration": 833,
    "start_time": "2023-06-18T18:35:01.946Z"
   },
   {
    "duration": 7,
    "start_time": "2023-06-18T18:35:02.782Z"
   },
   {
    "duration": 7,
    "start_time": "2023-06-18T18:35:02.792Z"
   },
   {
    "duration": 7,
    "start_time": "2023-06-18T18:35:27.213Z"
   },
   {
    "duration": 10,
    "start_time": "2023-06-18T18:37:02.196Z"
   },
   {
    "duration": 526,
    "start_time": "2023-06-18T18:37:18.217Z"
   },
   {
    "duration": 3,
    "start_time": "2023-06-18T18:37:45.336Z"
   },
   {
    "duration": 28,
    "start_time": "2023-06-18T18:37:46.298Z"
   },
   {
    "duration": 9,
    "start_time": "2023-06-18T18:37:47.036Z"
   },
   {
    "duration": 11,
    "start_time": "2023-06-18T18:37:48.008Z"
   },
   {
    "duration": 567,
    "start_time": "2023-06-18T18:37:50.355Z"
   },
   {
    "duration": 6,
    "start_time": "2023-06-18T18:37:52.602Z"
   },
   {
    "duration": 7,
    "start_time": "2023-06-18T18:37:54.754Z"
   },
   {
    "duration": 8,
    "start_time": "2023-06-18T18:37:56.755Z"
   },
   {
    "duration": 27,
    "start_time": "2023-06-18T18:48:42.512Z"
   },
   {
    "duration": 76,
    "start_time": "2023-06-18T18:50:39.798Z"
   },
   {
    "duration": 2,
    "start_time": "2023-06-18T18:50:55.560Z"
   },
   {
    "duration": 29,
    "start_time": "2023-06-18T18:50:55.997Z"
   },
   {
    "duration": 8,
    "start_time": "2023-06-18T18:50:56.341Z"
   },
   {
    "duration": 10,
    "start_time": "2023-06-18T18:50:56.748Z"
   },
   {
    "duration": 495,
    "start_time": "2023-06-18T18:50:57.135Z"
   },
   {
    "duration": 6,
    "start_time": "2023-06-18T18:50:57.632Z"
   },
   {
    "duration": 6,
    "start_time": "2023-06-18T18:50:57.835Z"
   },
   {
    "duration": 10,
    "start_time": "2023-06-18T18:50:59.632Z"
   },
   {
    "duration": 8,
    "start_time": "2023-06-18T18:51:32.706Z"
   },
   {
    "duration": 8,
    "start_time": "2023-06-18T18:53:03.198Z"
   },
   {
    "duration": 2,
    "start_time": "2023-06-18T18:53:12.006Z"
   },
   {
    "duration": 8,
    "start_time": "2023-06-18T18:53:12.702Z"
   },
   {
    "duration": 2,
    "start_time": "2023-06-18T18:53:18.931Z"
   },
   {
    "duration": 29,
    "start_time": "2023-06-18T18:53:19.537Z"
   },
   {
    "duration": 11,
    "start_time": "2023-06-18T18:53:20.124Z"
   },
   {
    "duration": 21,
    "start_time": "2023-06-18T18:53:20.957Z"
   },
   {
    "duration": 526,
    "start_time": "2023-06-18T18:53:21.631Z"
   },
   {
    "duration": 2,
    "start_time": "2023-06-18T18:53:22.328Z"
   },
   {
    "duration": 6,
    "start_time": "2023-06-18T18:53:25.154Z"
   },
   {
    "duration": 5,
    "start_time": "2023-06-18T18:53:26.514Z"
   },
   {
    "duration": 5,
    "start_time": "2023-06-18T18:53:39.796Z"
   },
   {
    "duration": 8,
    "start_time": "2023-06-18T18:54:01.132Z"
   },
   {
    "duration": 3,
    "start_time": "2023-06-18T18:54:15.813Z"
   },
   {
    "duration": 27,
    "start_time": "2023-06-18T18:54:16.688Z"
   },
   {
    "duration": 8,
    "start_time": "2023-06-18T18:54:17.311Z"
   },
   {
    "duration": 10,
    "start_time": "2023-06-18T18:54:18.054Z"
   },
   {
    "duration": 583,
    "start_time": "2023-06-18T18:54:18.730Z"
   },
   {
    "duration": 3,
    "start_time": "2023-06-18T18:54:20.292Z"
   },
   {
    "duration": 6,
    "start_time": "2023-06-18T18:54:21.726Z"
   },
   {
    "duration": 10,
    "start_time": "2023-06-18T18:54:22.750Z"
   },
   {
    "duration": 368,
    "start_time": "2023-06-18T18:54:36.430Z"
   },
   {
    "duration": 27,
    "start_time": "2023-06-18T18:54:36.800Z"
   },
   {
    "duration": 14,
    "start_time": "2023-06-18T18:54:36.828Z"
   },
   {
    "duration": 9,
    "start_time": "2023-06-18T18:54:36.844Z"
   },
   {
    "duration": 764,
    "start_time": "2023-06-18T18:54:36.855Z"
   },
   {
    "duration": 2,
    "start_time": "2023-06-18T18:54:37.621Z"
   },
   {
    "duration": 7,
    "start_time": "2023-06-18T18:54:37.625Z"
   },
   {
    "duration": 85,
    "start_time": "2023-06-18T18:54:37.633Z"
   },
   {
    "duration": 7,
    "start_time": "2023-06-18T18:55:30.144Z"
   },
   {
    "duration": 403,
    "start_time": "2023-06-18T18:55:36.453Z"
   },
   {
    "duration": 34,
    "start_time": "2023-06-18T18:55:36.858Z"
   },
   {
    "duration": 13,
    "start_time": "2023-06-18T18:55:36.894Z"
   },
   {
    "duration": 9,
    "start_time": "2023-06-18T18:55:36.909Z"
   },
   {
    "duration": 739,
    "start_time": "2023-06-18T18:55:36.920Z"
   },
   {
    "duration": 2,
    "start_time": "2023-06-18T18:55:37.660Z"
   },
   {
    "duration": 11,
    "start_time": "2023-06-18T18:55:37.668Z"
   },
   {
    "duration": 8,
    "start_time": "2023-06-18T18:55:37.685Z"
   },
   {
    "duration": 7,
    "start_time": "2023-06-18T18:55:48.595Z"
   },
   {
    "duration": 6,
    "start_time": "2023-06-18T18:55:50.643Z"
   },
   {
    "duration": 10,
    "start_time": "2023-06-18T18:55:54.109Z"
   },
   {
    "duration": 429,
    "start_time": "2023-06-18T18:56:01.748Z"
   },
   {
    "duration": 29,
    "start_time": "2023-06-18T18:56:02.181Z"
   },
   {
    "duration": 17,
    "start_time": "2023-06-18T18:56:02.212Z"
   },
   {
    "duration": 21,
    "start_time": "2023-06-18T18:56:02.231Z"
   },
   {
    "duration": 793,
    "start_time": "2023-06-18T18:56:02.254Z"
   },
   {
    "duration": 6,
    "start_time": "2023-06-18T18:56:03.048Z"
   },
   {
    "duration": 19,
    "start_time": "2023-06-18T18:56:03.056Z"
   },
   {
    "duration": 15,
    "start_time": "2023-06-18T18:56:03.076Z"
   },
   {
    "duration": 58,
    "start_time": "2023-06-19T15:53:40.096Z"
   },
   {
    "duration": 349,
    "start_time": "2023-06-19T15:53:46.488Z"
   },
   {
    "duration": 106,
    "start_time": "2023-06-19T15:53:46.847Z"
   },
   {
    "duration": 15,
    "start_time": "2023-06-19T15:53:46.954Z"
   },
   {
    "duration": 12,
    "start_time": "2023-06-19T15:53:46.970Z"
   },
   {
    "duration": 861,
    "start_time": "2023-06-19T15:53:46.984Z"
   },
   {
    "duration": 6,
    "start_time": "2023-06-19T15:53:47.848Z"
   },
   {
    "duration": 17,
    "start_time": "2023-06-19T15:53:47.856Z"
   },
   {
    "duration": 9,
    "start_time": "2023-06-19T15:53:47.874Z"
   },
   {
    "duration": 9,
    "start_time": "2023-06-19T15:53:47.884Z"
   },
   {
    "duration": 81,
    "start_time": "2023-06-19T15:56:03.501Z"
   },
   {
    "duration": 720,
    "start_time": "2023-06-19T15:56:36.647Z"
   },
   {
    "duration": 190,
    "start_time": "2023-06-19T15:56:42.051Z"
   },
   {
    "duration": 3,
    "start_time": "2023-06-19T15:57:08.988Z"
   },
   {
    "duration": 20,
    "start_time": "2023-06-19T15:57:23.143Z"
   },
   {
    "duration": 8,
    "start_time": "2023-06-19T15:59:45.579Z"
   },
   {
    "duration": 5,
    "start_time": "2023-06-19T16:00:02.720Z"
   },
   {
    "duration": 7,
    "start_time": "2023-06-19T16:00:07.938Z"
   },
   {
    "duration": 4,
    "start_time": "2023-06-19T16:00:21.163Z"
   },
   {
    "duration": 8,
    "start_time": "2023-06-19T16:00:26.735Z"
   },
   {
    "duration": 8,
    "start_time": "2023-06-19T16:01:09.843Z"
   },
   {
    "duration": 4,
    "start_time": "2023-06-19T16:01:17.812Z"
   },
   {
    "duration": 4,
    "start_time": "2023-06-19T19:13:12.271Z"
   },
   {
    "duration": 16,
    "start_time": "2023-06-19T19:15:19.187Z"
   },
   {
    "duration": 9,
    "start_time": "2023-06-19T19:16:31.939Z"
   },
   {
    "duration": 13,
    "start_time": "2023-06-19T19:19:12.117Z"
   },
   {
    "duration": 13,
    "start_time": "2023-06-19T19:21:37.148Z"
   },
   {
    "duration": 5,
    "start_time": "2023-06-19T19:21:45.463Z"
   },
   {
    "duration": 34,
    "start_time": "2023-06-19T19:22:03.718Z"
   },
   {
    "duration": 11,
    "start_time": "2023-06-19T19:27:23.887Z"
   },
   {
    "duration": 10,
    "start_time": "2023-06-19T19:28:42.903Z"
   },
   {
    "duration": 9,
    "start_time": "2023-06-19T19:28:45.965Z"
   },
   {
    "duration": 10,
    "start_time": "2023-06-19T19:30:15.783Z"
   },
   {
    "duration": 1186,
    "start_time": "2023-06-22T13:04:35.112Z"
   },
   {
    "duration": 107,
    "start_time": "2023-06-22T13:05:13.641Z"
   },
   {
    "duration": 11,
    "start_time": "2023-06-22T13:05:22.513Z"
   },
   {
    "duration": 1253,
    "start_time": "2023-06-22T13:05:30.224Z"
   },
   {
    "duration": 99,
    "start_time": "2023-06-22T13:05:31.480Z"
   },
   {
    "duration": 44,
    "start_time": "2023-06-22T13:05:31.581Z"
   },
   {
    "duration": 221,
    "start_time": "2023-06-22T13:05:31.628Z"
   },
   {
    "duration": 1385,
    "start_time": "2023-06-22T13:05:31.852Z"
   },
   {
    "duration": 14,
    "start_time": "2023-06-22T13:05:33.240Z"
   },
   {
    "duration": 119,
    "start_time": "2023-06-22T13:05:33.256Z"
   },
   {
    "duration": 213,
    "start_time": "2023-06-22T13:05:33.377Z"
   },
   {
    "duration": 148,
    "start_time": "2023-06-22T13:05:33.592Z"
   },
   {
    "duration": 68,
    "start_time": "2023-06-22T13:05:33.743Z"
   },
   {
    "duration": 240,
    "start_time": "2023-06-22T13:05:33.813Z"
   },
   {
    "duration": 93,
    "start_time": "2023-06-22T13:05:34.056Z"
   },
   {
    "duration": 80,
    "start_time": "2023-06-22T13:05:34.151Z"
   },
   {
    "duration": 129,
    "start_time": "2023-06-22T13:05:34.234Z"
   },
   {
    "duration": 50,
    "start_time": "2023-06-22T13:05:34.365Z"
   },
   {
    "duration": 11,
    "start_time": "2023-06-22T13:06:50.558Z"
   },
   {
    "duration": 7,
    "start_time": "2023-06-22T13:07:27.749Z"
   },
   {
    "duration": 7,
    "start_time": "2023-06-22T13:11:34.348Z"
   },
   {
    "duration": 6,
    "start_time": "2023-06-22T13:12:49.646Z"
   },
   {
    "duration": 6,
    "start_time": "2023-06-22T13:13:43.752Z"
   },
   {
    "duration": 10,
    "start_time": "2023-06-22T13:14:43.624Z"
   }
  ],
  "kernelspec": {
   "display_name": "Python 3 (ipykernel)",
   "language": "python",
   "name": "python3"
  },
  "language_info": {
   "codemirror_mode": {
    "name": "ipython",
    "version": 3
   },
   "file_extension": ".py",
   "mimetype": "text/x-python",
   "name": "python",
   "nbconvert_exporter": "python",
   "pygments_lexer": "ipython3",
   "version": "3.9.5"
  },
  "toc": {
   "base_numbering": 1,
   "nav_menu": {},
   "number_sections": true,
   "sideBar": true,
   "skip_h1_title": true,
   "title_cell": "Содержание",
   "title_sidebar": "Contents",
   "toc_cell": true,
   "toc_position": {},
   "toc_section_display": true,
   "toc_window_display": false
  }
 },
 "nbformat": 4,
 "nbformat_minor": 2
}
