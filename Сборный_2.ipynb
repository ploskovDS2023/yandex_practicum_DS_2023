{
 "cells": [
  {
   "cell_type": "markdown",
   "metadata": {},
   "source": [
    "<div style=\"border:solid Chocolate 2px; padding: 40px\">\n",
    "\n",
    "Привет, меня зовут Александр Куимов. Я буду ревьюером твоего проекта. Ты можешь обращаться ко мне на \"ты\"😏 Надеюсь, тебя также не смутит, если я буду обращаться к тебе на \"ты\", но если это неудобно, обязательно скажи об этом! \n",
    "\n",
    "Пожалуйста, не удаляй мои комментарии, они будут особенно полезны для нашей работы в случае повторной проверки проекта. \n",
    "\n",
    "Ты также можешь реагировать на мои комментарии своими по шаблону, показанному чуть ниже. Это нужно, чтобы не создавалась путаница😉\n",
    "\n",
    "Ты можешь найти мои комментарии, обозначенные <font color='green'>зеленым</font>, <font color='gold'>желтым</font> и <font color='red'>красным</font> цветами, например:\n",
    "\n",
    "<br/>\n",
    "\n",
    "<div class=\"alert alert-success\">\n",
    "<h2> Комментарий ревьюера <a class=\"tocSkip\"> </h2>\n",
    "\n",
    "<b>Все отлично!👍:</b> В случае, если решение на отдельном шаге является полностью правильным.\n",
    "</div>\n",
    "\n",
    "<br/>\n",
    "\n",
    "<div class=\"alert alert-warning\">\n",
    "    <h2> Комментарий ревьюера <a class=\"tocSkip\"> </h2>\n",
    "    \n",
    "<b>Некоторые замечания и рекомендации💡:</b> В случае, когда решение на отдельном шаге станет еще лучше, если внести небольшие коррективы.\n",
    "</div>\n",
    "\n",
    "\n",
    "<br/>\n",
    "<div class=\"alert alert-block alert-danger\">\n",
    "<h2> Комментарий ревьюера <a class=\"tocSkip\"></h2>\n",
    "\n",
    "    \n",
    "<b>На доработку🤔:</b>\n",
    " В случае, когда решение на отдельном шаге требует существенной переработки и внесения правок. Напоминаю, что проект не может быть принят с первого раза, если ревью содержит комментарии, рекомендующие доработать шаги.\n",
    "</div>\n",
    "    \n",
    "    \n",
    "<br/>    \n",
    "<div class=\"alert alert-info\">\n",
    "<h2> Комментарий студента: <a class=\"tocSkip\"> </h2>\n",
    "\n",
    "<b>👋:</b> В такой цветовой ячейке я прошу тебя оставлять свои комментарии. Если исправляешь проект на второй итерации и выше, не забывай пожалуйста указывать номер итерации, например, \"Комментарий студента v.2\".\n",
    "</div> \n",
    "\n",
    "<br/>    \n",
    "    \n",
    "Увидев у тебя неточность, в первый раз я лишь укажу на ее наличие и дам тебе возможность самому найти и исправить ее. На реальной работе твой руководитель будет поступать также, и я пытаюсь подготовить тебя именно к работе датасаентистом. Но если ты пока не справишься с такой задачей - при следующей проверке я дам более точную подсказку!🤓"
   ]
  },
  {
   "cell_type": "markdown",
   "metadata": {
    "toc": true
   },
   "source": [
    "<h1>Содержание<span class=\"tocSkip\"></span></h1>\n",
    "<div class=\"toc\"><ul class=\"toc-item\"><li><span><a href=\"#Подготовка-данных\" data-toc-modified-id=\"Подготовка-данных-1\"><span class=\"toc-item-num\">1&nbsp;&nbsp;</span>Подготовка данных</a></span></li><li><span><a href=\"#Анализ-данных\" data-toc-modified-id=\"Анализ-данных-2\"><span class=\"toc-item-num\">2&nbsp;&nbsp;</span>Анализ данных</a></span></li><li><span><a href=\"#Модель\" data-toc-modified-id=\"Модель-3\"><span class=\"toc-item-num\">3&nbsp;&nbsp;</span>Модель</a></span></li><li><span><a href=\"#Чек-лист-готовности-проекта\" data-toc-modified-id=\"Чек-лист-готовности-проекта-4\"><span class=\"toc-item-num\">4&nbsp;&nbsp;</span>Чек-лист готовности проекта</a></span></li></ul></div>"
   ]
  },
  {
   "cell_type": "markdown",
   "metadata": {},
   "source": [
    "# Восстановление золота из руды"
   ]
  },
  {
   "cell_type": "markdown",
   "metadata": {},
   "source": [
    "Подготовьте прототип модели машинного обучения для «Цифры». Компания разрабатывает решения для эффективной работы промышленных предприятий.\n",
    "\n",
    "Модель должна предсказать коэффициент восстановления золота из золотосодержащей руды. Используйте данные с параметрами добычи и очистки. \n",
    "\n",
    "Модель поможет оптимизировать производство, чтобы не запускать предприятие с убыточными характеристиками.\n",
    "\n",
    "Вам нужно:\n",
    "\n",
    "1. Подготовить данные;\n",
    "2. Провести исследовательский анализ данных;\n",
    "3. Построить и обучить модель.\n",
    "\n",
    "Чтобы выполнить проект, обращайтесь к библиотекам *pandas*, *matplotlib* и *sklearn.* Вам поможет их документация."
   ]
  },
  {
   "cell_type": "markdown",
   "metadata": {},
   "source": [
    " <div class=\"alert alert-success\">\n",
    "<h2> Комментарий ревьюера <a class=\"tocSkip\"> </h2>\n",
    "\n",
    "<b>Все отлично!👍:</b> \n",
    "    \n",
    "Вижу твое добавленное описание проекта. Молодец! Это поможет тебе расставлять акценты в выводах"
   ]
  },
  {
   "cell_type": "markdown",
   "metadata": {},
   "source": [
    "## Подготовка данных"
   ]
  },
  {
   "cell_type": "code",
   "execution_count": 1,
   "metadata": {},
   "outputs": [],
   "source": [
    "import pandas as pd\n",
    "import numpy as np\n",
    "import seaborn as sns\n",
    "from matplotlib import pyplot as plt\n",
    "from sklearn.metrics import mean_absolute_error, make_scorer\n",
    "from sklearn.linear_model import LinearRegression\n",
    "from sklearn.tree import DecisionTreeRegressor\n",
    "from sklearn.ensemble import RandomForestRegressor\n",
    "from sklearn.model_selection import GridSearchCV, cross_val_score, cross_val_predict\n",
    "from sklearn.dummy import DummyRegressor"
   ]
  },
  {
   "cell_type": "code",
   "execution_count": 2,
   "metadata": {},
   "outputs": [],
   "source": [
    "df_train = pd.read_csv('/datasets/gold_industry_train.csv')\n",
    "df_test = pd.read_csv('/datasets/gold_industry_test.csv')\n",
    "df_full = pd.read_csv('/datasets/gold_industry_full.csv')"
   ]
  },
  {
   "cell_type": "code",
   "execution_count": 3,
   "metadata": {},
   "outputs": [],
   "source": [
    "# display(df_train.head())\n",
    "# display(df_test.head())\n",
    "# df_full.head()"
   ]
  },
  {
   "cell_type": "code",
   "execution_count": 4,
   "metadata": {},
   "outputs": [
    {
     "data": {
      "text/plain": [
       "(14579, 87)"
      ]
     },
     "metadata": {},
     "output_type": "display_data"
    },
    {
     "data": {
      "text/plain": [
       "(4860, 53)"
      ]
     },
     "metadata": {},
     "output_type": "display_data"
    },
    {
     "data": {
      "text/plain": [
       "(19439, 87)"
      ]
     },
     "execution_count": 4,
     "metadata": {},
     "output_type": "execute_result"
    }
   ],
   "source": [
    "display(df_train.shape)\n",
    "display(df_test.shape)\n",
    "df_full.shape"
   ]
  },
  {
   "cell_type": "code",
   "execution_count": 5,
   "metadata": {},
   "outputs": [],
   "source": [
    "# display(df_train.info())\n",
    "# display(df_test.info())\n",
    "# df_full.info()"
   ]
  },
  {
   "cell_type": "code",
   "execution_count": 6,
   "metadata": {},
   "outputs": [],
   "source": [
    "# df_train.hist(figsize=(30, 30));\n",
    "# df_test.hist(figsize=(20, 20));\n",
    "# df_full.hist(figsize=(30, 30));"
   ]
  },
  {
   "cell_type": "code",
   "execution_count": 7,
   "metadata": {},
   "outputs": [
    {
     "name": "stdout",
     "output_type": "stream",
     "text": [
      "82.52119968211336\n",
      "82.52119968211336\n",
      "9.83758577644259e-15\n"
     ]
    }
   ],
   "source": [
    "# 1.2. Проверим, что эффективность обогащения рассчитана правильно. \n",
    "# Вычислим её на обучающей выборке для признака rougher.output.recovery по формуле из описания технологического процесса.\n",
    "rec_eff = ((df_train['rougher.output.concentrate_au']*(df_train['rougher.input.feed_au']-\n",
    "                                                       df_train['rougher.output.tail_au']))/\n",
    "          (df_train['rougher.input.feed_au']*(df_train['rougher.output.concentrate_au']-\n",
    "                                              df_train['rougher.output.tail_au'])))*100\n",
    "print(rec_eff.mean())\n",
    "print(df_train['rougher.output.recovery'].mean())\n",
    "# Найдем MAE между нашими расчётами и значением признака.\n",
    "print(mean_absolute_error(rec_eff, df_train['rougher.output.recovery']))"
   ]
  },
  {
   "cell_type": "markdown",
   "metadata": {},
   "source": [
    "Значения средних наших расчетов и столбца rougher.output.recovery совпадают, а значение МАЕ довольно маленькое, значит эффективность рассчитана правильно."
   ]
  },
  {
   "cell_type": "markdown",
   "metadata": {},
   "source": [
    "<div class=\"alert alert-success\">\n",
    "<h2> Комментарий ревьюера <a class=\"tocSkip\"> </h2>\n",
    "\n",
    "<b>Все отлично!👍:</b> \n",
    "    \n",
    "Твое расссчитанное значение `MAE` верно)"
   ]
  },
  {
   "cell_type": "code",
   "execution_count": 8,
   "metadata": {
    "scrolled": true
   },
   "outputs": [
    {
     "data": {
      "text/plain": [
       "{'final.output.concentrate_ag',\n",
       " 'final.output.concentrate_au',\n",
       " 'final.output.concentrate_pb',\n",
       " 'final.output.concentrate_sol',\n",
       " 'final.output.recovery',\n",
       " 'final.output.tail_ag',\n",
       " 'final.output.tail_au',\n",
       " 'final.output.tail_pb',\n",
       " 'final.output.tail_sol',\n",
       " 'primary_cleaner.output.concentrate_ag',\n",
       " 'primary_cleaner.output.concentrate_au',\n",
       " 'primary_cleaner.output.concentrate_pb',\n",
       " 'primary_cleaner.output.concentrate_sol',\n",
       " 'primary_cleaner.output.tail_ag',\n",
       " 'primary_cleaner.output.tail_au',\n",
       " 'primary_cleaner.output.tail_pb',\n",
       " 'primary_cleaner.output.tail_sol',\n",
       " 'rougher.calculation.au_pb_ratio',\n",
       " 'rougher.calculation.floatbank10_sulfate_to_au_feed',\n",
       " 'rougher.calculation.floatbank11_sulfate_to_au_feed',\n",
       " 'rougher.calculation.sulfate_to_au_concentrate',\n",
       " 'rougher.output.concentrate_ag',\n",
       " 'rougher.output.concentrate_au',\n",
       " 'rougher.output.concentrate_pb',\n",
       " 'rougher.output.concentrate_sol',\n",
       " 'rougher.output.recovery',\n",
       " 'rougher.output.tail_ag',\n",
       " 'rougher.output.tail_au',\n",
       " 'rougher.output.tail_pb',\n",
       " 'rougher.output.tail_sol',\n",
       " 'secondary_cleaner.output.tail_ag',\n",
       " 'secondary_cleaner.output.tail_au',\n",
       " 'secondary_cleaner.output.tail_pb',\n",
       " 'secondary_cleaner.output.tail_sol'}"
      ]
     },
     "execution_count": 8,
     "metadata": {},
     "output_type": "execute_result"
    }
   ],
   "source": [
    "# 1.3. Проанализируем признаки, недоступные в тестовой выборке. Что это за параметры? К какому типу относятся?\n",
    "missed_signs = set(df_train.columns) - set(df_test.columns)\n",
    "missed_signs"
   ]
  },
  {
   "cell_type": "markdown",
   "metadata": {},
   "source": [
    " Некоторые параметры в тестовой выборке недоступны, потому что замеряются и/или рассчитываются значительно позже. Из-за этого в тестовой выборке отсутствуют некоторые признаки, которые могут быть в обучающей. Также в тестовом наборе нет целевых признаков.\n",
    " К отсутствующим в тестовой выборке параметрам относятся параметры типа output(параметры продукта(а не сырья)) и calculation(расчётные характеристики). "
   ]
  },
  {
   "cell_type": "markdown",
   "metadata": {},
   "source": [
    "<div class=\"alert alert-success\">\n",
    "<h2> Комментарий ревьюера <a class=\"tocSkip\"> </h2>\n",
    "\n",
    "<b>Все отлично!👍:</b> \n",
    "    \n",
    "В тестовой выборке недоступны некоторые расчетные (calculation) и выходные (output) характеристики процесса, ведь их невозможно получить либо замерить во время выполнения технологического процесса"
   ]
  },
  {
   "cell_type": "markdown",
   "metadata": {},
   "source": [
    "1.4. Проведем предобработку данных."
   ]
  },
  {
   "cell_type": "code",
   "execution_count": 9,
   "metadata": {
    "scrolled": true
   },
   "outputs": [
    {
     "data": {
      "text/plain": [
       "date                       0\n",
       "rougher.input.feed_au      0\n",
       "rougher.input.feed_ag      0\n",
       "rougher.input.feed_pb     72\n",
       "rougher.input.feed_sol    77\n",
       "                          ..\n",
       "final.output.recovery      0\n",
       "final.output.tail_au       0\n",
       "final.output.tail_ag       1\n",
       "final.output.tail_pb      75\n",
       "final.output.tail_sol      5\n",
       "Length: 87, dtype: int64"
      ]
     },
     "metadata": {},
     "output_type": "display_data"
    },
    {
     "data": {
      "text/plain": [
       "date                                            0\n",
       "rougher.input.feed_au                           0\n",
       "rougher.input.feed_ag                           0\n",
       "rougher.input.feed_pb                          28\n",
       "rougher.input.feed_sol                         22\n",
       "rougher.input.feed_rate                         4\n",
       "rougher.input.feed_size                        44\n",
       "rougher.input.floatbank10_sulfate               3\n",
       "rougher.input.floatbank10_xanthate              1\n",
       "rougher.state.floatbank10_a_air                 1\n",
       "rougher.state.floatbank10_a_level               1\n",
       "rougher.state.floatbank10_b_air                 1\n",
       "rougher.state.floatbank10_b_level               1\n",
       "rougher.state.floatbank10_c_air                 1\n",
       "rougher.state.floatbank10_c_level               1\n",
       "rougher.state.floatbank10_d_air                 0\n",
       "rougher.state.floatbank10_d_level               0\n",
       "rougher.state.floatbank10_e_air                 7\n",
       "rougher.state.floatbank10_e_level               0\n",
       "rougher.state.floatbank10_f_air                 0\n",
       "rougher.state.floatbank10_f_level               0\n",
       "rougher.input.floatbank11_sulfate               8\n",
       "rougher.input.floatbank11_xanthate             46\n",
       "primary_cleaner.input.sulfate                   1\n",
       "primary_cleaner.input.depressant                9\n",
       "primary_cleaner.input.feed_size                 0\n",
       "primary_cleaner.input.xanthate                 43\n",
       "primary_cleaner.state.floatbank8_a_air          1\n",
       "primary_cleaner.state.floatbank8_a_level        1\n",
       "primary_cleaner.state.floatbank8_b_air          1\n",
       "primary_cleaner.state.floatbank8_b_level        1\n",
       "primary_cleaner.state.floatbank8_c_air          2\n",
       "primary_cleaner.state.floatbank8_c_level        1\n",
       "primary_cleaner.state.floatbank8_d_air          2\n",
       "primary_cleaner.state.floatbank8_d_level        1\n",
       "secondary_cleaner.state.floatbank2_a_air      126\n",
       "secondary_cleaner.state.floatbank2_a_level      1\n",
       "secondary_cleaner.state.floatbank2_b_air        1\n",
       "secondary_cleaner.state.floatbank2_b_level      1\n",
       "secondary_cleaner.state.floatbank3_a_air        1\n",
       "secondary_cleaner.state.floatbank3_a_level      1\n",
       "secondary_cleaner.state.floatbank3_b_air        1\n",
       "secondary_cleaner.state.floatbank3_b_level      1\n",
       "secondary_cleaner.state.floatbank4_a_air        1\n",
       "secondary_cleaner.state.floatbank4_a_level      1\n",
       "secondary_cleaner.state.floatbank4_b_air        1\n",
       "secondary_cleaner.state.floatbank4_b_level      1\n",
       "secondary_cleaner.state.floatbank5_a_air        1\n",
       "secondary_cleaner.state.floatbank5_a_level      1\n",
       "secondary_cleaner.state.floatbank5_b_air        1\n",
       "secondary_cleaner.state.floatbank5_b_level      1\n",
       "secondary_cleaner.state.floatbank6_a_air        1\n",
       "secondary_cleaner.state.floatbank6_a_level      1\n",
       "dtype: int64"
      ]
     },
     "metadata": {},
     "output_type": "display_data"
    },
    {
     "data": {
      "text/plain": [
       "date                        0\n",
       "rougher.input.feed_au       0\n",
       "rougher.input.feed_ag       0\n",
       "rougher.input.feed_pb     100\n",
       "rougher.input.feed_sol     99\n",
       "                         ... \n",
       "final.output.recovery       0\n",
       "final.output.tail_au        0\n",
       "final.output.tail_ag        1\n",
       "final.output.tail_pb      101\n",
       "final.output.tail_sol       6\n",
       "Length: 87, dtype: int64"
      ]
     },
     "execution_count": 9,
     "metadata": {},
     "output_type": "execute_result"
    }
   ],
   "source": [
    "# Проверим пропуски.\n",
    "display(df_train.isna().sum())\n",
    "display(df_test.isna().sum())\n",
    "df_full.isna().sum()"
   ]
  },
  {
   "cell_type": "code",
   "execution_count": 10,
   "metadata": {
    "scrolled": true
   },
   "outputs": [
    {
     "data": {
      "text/plain": [
       "date                      0\n",
       "rougher.input.feed_au     0\n",
       "rougher.input.feed_ag     0\n",
       "rougher.input.feed_pb     0\n",
       "rougher.input.feed_sol    0\n",
       "                         ..\n",
       "final.output.recovery     0\n",
       "final.output.tail_au      0\n",
       "final.output.tail_ag      0\n",
       "final.output.tail_pb      0\n",
       "final.output.tail_sol     0\n",
       "Length: 87, dtype: int64"
      ]
     },
     "metadata": {},
     "output_type": "display_data"
    },
    {
     "data": {
      "text/plain": [
       "date                                          0\n",
       "rougher.input.feed_au                         0\n",
       "rougher.input.feed_ag                         0\n",
       "rougher.input.feed_pb                         0\n",
       "rougher.input.feed_sol                        0\n",
       "rougher.input.feed_rate                       0\n",
       "rougher.input.feed_size                       0\n",
       "rougher.input.floatbank10_sulfate             0\n",
       "rougher.input.floatbank10_xanthate            0\n",
       "rougher.state.floatbank10_a_air               0\n",
       "rougher.state.floatbank10_a_level             0\n",
       "rougher.state.floatbank10_b_air               0\n",
       "rougher.state.floatbank10_b_level             0\n",
       "rougher.state.floatbank10_c_air               0\n",
       "rougher.state.floatbank10_c_level             0\n",
       "rougher.state.floatbank10_d_air               0\n",
       "rougher.state.floatbank10_d_level             0\n",
       "rougher.state.floatbank10_e_air               0\n",
       "rougher.state.floatbank10_e_level             0\n",
       "rougher.state.floatbank10_f_air               0\n",
       "rougher.state.floatbank10_f_level             0\n",
       "rougher.input.floatbank11_sulfate             0\n",
       "rougher.input.floatbank11_xanthate            0\n",
       "primary_cleaner.input.sulfate                 0\n",
       "primary_cleaner.input.depressant              0\n",
       "primary_cleaner.input.feed_size               0\n",
       "primary_cleaner.input.xanthate                0\n",
       "primary_cleaner.state.floatbank8_a_air        0\n",
       "primary_cleaner.state.floatbank8_a_level      0\n",
       "primary_cleaner.state.floatbank8_b_air        0\n",
       "primary_cleaner.state.floatbank8_b_level      0\n",
       "primary_cleaner.state.floatbank8_c_air        0\n",
       "primary_cleaner.state.floatbank8_c_level      0\n",
       "primary_cleaner.state.floatbank8_d_air        0\n",
       "primary_cleaner.state.floatbank8_d_level      0\n",
       "secondary_cleaner.state.floatbank2_a_air      0\n",
       "secondary_cleaner.state.floatbank2_a_level    0\n",
       "secondary_cleaner.state.floatbank2_b_air      0\n",
       "secondary_cleaner.state.floatbank2_b_level    0\n",
       "secondary_cleaner.state.floatbank3_a_air      0\n",
       "secondary_cleaner.state.floatbank3_a_level    0\n",
       "secondary_cleaner.state.floatbank3_b_air      0\n",
       "secondary_cleaner.state.floatbank3_b_level    0\n",
       "secondary_cleaner.state.floatbank4_a_air      0\n",
       "secondary_cleaner.state.floatbank4_a_level    0\n",
       "secondary_cleaner.state.floatbank4_b_air      0\n",
       "secondary_cleaner.state.floatbank4_b_level    0\n",
       "secondary_cleaner.state.floatbank5_a_air      0\n",
       "secondary_cleaner.state.floatbank5_a_level    0\n",
       "secondary_cleaner.state.floatbank5_b_air      0\n",
       "secondary_cleaner.state.floatbank5_b_level    0\n",
       "secondary_cleaner.state.floatbank6_a_air      0\n",
       "secondary_cleaner.state.floatbank6_a_level    0\n",
       "dtype: int64"
      ]
     },
     "metadata": {},
     "output_type": "display_data"
    },
    {
     "data": {
      "text/plain": [
       "date                      0\n",
       "rougher.input.feed_au     0\n",
       "rougher.input.feed_ag     0\n",
       "rougher.input.feed_pb     0\n",
       "rougher.input.feed_sol    0\n",
       "                         ..\n",
       "final.output.recovery     0\n",
       "final.output.tail_au      0\n",
       "final.output.tail_ag      0\n",
       "final.output.tail_pb      0\n",
       "final.output.tail_sol     0\n",
       "Length: 87, dtype: int64"
      ]
     },
     "execution_count": 10,
     "metadata": {},
     "output_type": "execute_result"
    }
   ],
   "source": [
    "# Заполним пропуски предыдущим значением, так как в соседние дни вряд ли сильно отличается результаты работы предприятия.\n",
    "df_train.fillna(method='ffill', axis='rows', inplace=True)\n",
    "df_test.fillna(method='ffill', axis='rows', inplace=True)\n",
    "df_full.fillna(method='ffill', axis='rows', inplace=True)\n",
    "# Проверяем.\n",
    "display(df_train.isna().sum())\n",
    "display(df_test.isna().sum())\n",
    "df_full.isna().sum()"
   ]
  },
  {
   "cell_type": "code",
   "execution_count": 11,
   "metadata": {
    "scrolled": true
   },
   "outputs": [
    {
     "data": {
      "text/plain": [
       "0        False\n",
       "1        False\n",
       "2        False\n",
       "3        False\n",
       "4        False\n",
       "         ...  \n",
       "14574    False\n",
       "14575    False\n",
       "14576    False\n",
       "14577    False\n",
       "14578    False\n",
       "Length: 14579, dtype: bool"
      ]
     },
     "metadata": {},
     "output_type": "display_data"
    },
    {
     "data": {
      "text/plain": [
       "0        False\n",
       "1        False\n",
       "2        False\n",
       "3        False\n",
       "4        False\n",
       "         ...  \n",
       "14574    False\n",
       "14575    False\n",
       "14576    False\n",
       "14577    False\n",
       "14578    False\n",
       "Length: 14579, dtype: bool"
      ]
     },
     "metadata": {},
     "output_type": "display_data"
    },
    {
     "data": {
      "text/plain": [
       "0        False\n",
       "1        False\n",
       "2        False\n",
       "3        False\n",
       "4        False\n",
       "         ...  \n",
       "14574    False\n",
       "14575    False\n",
       "14576    False\n",
       "14577    False\n",
       "14578    False\n",
       "Length: 14579, dtype: bool"
      ]
     },
     "execution_count": 11,
     "metadata": {},
     "output_type": "execute_result"
    }
   ],
   "source": [
    "#проверим наши датасеты на дубликаты\n",
    "display(df_train.duplicated())\n",
    "display(df_train.duplicated())\n",
    "df_train.duplicated()"
   ]
  },
  {
   "cell_type": "markdown",
   "metadata": {},
   "source": [
    "Отлично! Можно приступать к анализу."
   ]
  },
  {
   "cell_type": "markdown",
   "metadata": {},
   "source": [
    "<div class=\"alert  alert-success\">\n",
    "<h2> Комментарий ревьюера <a class=\"tocSkip\"> </h2>\n",
    "\n",
    "<b>Верно!👍:\\\n",
    "</b> Верное решение по обработке пропусков, в признаках их не много. Все наблюдения представляют собой последовательные измерения, заполнить пропуски можно методами `pandas`: `ffill`/ `bfill`/ `interpolate` , это вполне уместно.\\\n",
    "Хочу посоветовать тебе статью, которая рассматривает разные способы обработки пропусков, выделяет их плюсы и минусы, думаю, тебе может быть интересно: https://loginom.ru/blog/missing   "
   ]
  },
  {
   "cell_type": "markdown",
   "metadata": {},
   "source": [
    "## Анализ данных"
   ]
  },
  {
   "cell_type": "markdown",
   "metadata": {},
   "source": [
    "2.1. Посмотрим, как меняется концентрация металлов (Au, Ag, Pb) на различных этапах: в сырье, в черновом концентрате, в концентрате после первой очистки и в финальном концентрате. Какие особенности имеют распределения?"
   ]
  },
  {
   "cell_type": "code",
   "execution_count": 12,
   "metadata": {},
   "outputs": [
    {
     "data": {
      "image/png": "[encoded data removed]",
      "text/plain": [
       "<Figure size 720x432 with 1 Axes>"
      ]
     },
     "metadata": {
      "needs_background": "light"
     },
     "output_type": "display_data"
    }
   ],
   "source": [
    "# Золото (Au):\n",
    "df_full[['rougher.input.feed_au',\n",
    "         'rougher.output.concentrate_au', \n",
    "              'primary_cleaner.output.concentrate_au', \n",
    "              'final.output.concentrate_au']].mean().plot(subplots=True, fontsize=10, figsize=(10, 6));\n",
    "plt.title('Изменение концентрации золота на различных этапах очистки', fontsize=20);\n",
    "plt.ylabel('Концентрация металла', fontsize=15)\n",
    "plt.xlabel('Стадии очистки: 0.Сырьё 1.Флотация  2.Первичная очистка  3.Финальная очистка', fontsize=15);"
   ]
  },
  {
   "cell_type": "markdown",
   "metadata": {},
   "source": [
    "Концентрация золота равномерно повышается в процессе очистки."
   ]
  },
  {
   "cell_type": "code",
   "execution_count": 13,
   "metadata": {},
   "outputs": [
    {
     "data": {
      "image/png": "[encoded data removed]",
      "text/plain": [
       "<Figure size 720x432 with 1 Axes>"
      ]
     },
     "metadata": {
      "needs_background": "light"
     },
     "output_type": "display_data"
    }
   ],
   "source": [
    "# Серебро (Ag):\n",
    "df_full[['rougher.input.feed_ag',\n",
    "         'rougher.output.concentrate_ag', \n",
    "              'primary_cleaner.output.concentrate_ag', \n",
    "              'final.output.concentrate_ag']].mean().plot(subplots=True, fontsize=10, figsize=(10, 6));\n",
    "plt.title('Изменение концентрации серебра на различных этапах очистки', fontsize=20);\n",
    "plt.ylabel('Концентрация металла', fontsize=15)\n",
    "plt.xlabel('Стадии очистки: 0.Сырьё 1.Флотация  2.Первичная очистка  3.Финальная очистка', fontsize=15);"
   ]
  },
  {
   "cell_type": "markdown",
   "metadata": {},
   "source": [
    "Концентрация серебра повышается после флотации и затем понижается в процессе очистки."
   ]
  },
  {
   "cell_type": "code",
   "execution_count": 14,
   "metadata": {},
   "outputs": [
    {
     "data": {
      "image/png": "[encoded data removed]",
      "text/plain": [
       "<Figure size 720x432 with 1 Axes>"
      ]
     },
     "metadata": {
      "needs_background": "light"
     },
     "output_type": "display_data"
    }
   ],
   "source": [
    "# Золото (Pb):\n",
    "df_full[['rougher.input.feed_pb',\n",
    "         'rougher.output.concentrate_pb', \n",
    "              'primary_cleaner.output.concentrate_pb', \n",
    "              'final.output.concentrate_pb']].mean().plot(subplots=True, fontsize=10, figsize=(10, 6));\n",
    "plt.title('Изменение концентрации свинца на различных этапах очистки', fontsize=20);\n",
    "plt.ylabel('Концентрация металла', fontsize=15)\n",
    "plt.xlabel('Стадии очистки: 0.Сырьё  1.Флотация  2.Первичная очистка  3.Финальная очистка', fontsize=15);"
   ]
  },
  {
   "cell_type": "markdown",
   "metadata": {},
   "source": [
    "Концентрация свинца равномерно повышается от сырья к первичной очистке, и незначительно повышается к финальной очистке."
   ]
  },
  {
   "cell_type": "markdown",
   "metadata": {},
   "source": [
    "<div class=\"alert alert-success\">\n",
    "<h2> Комментарий ревьюера <a class=\"tocSkip\"> </h2>\n",
    "\n",
    "<b>Верно!👍:\\\n",
    "</b> Видно, что золото растёт в концентрации - это здорово!) А серебро падает - ведь наша цель -  золото, верно?)\n",
    "А свинец - это побочный элемент химических реакций, по этой причине немного и увеличивается его концентрация"
   ]
  },
  {
   "cell_type": "markdown",
   "metadata": {},
   "source": [
    "2.2.  Сравним распределения размеров гранул исходного сырья на обучающей и тестовой выборках. Если распределения сильно отличаются друг от друга, оценка модели будет неправильной."
   ]
  },
  {
   "cell_type": "code",
   "execution_count": 15,
   "metadata": {},
   "outputs": [
    {
     "data": {
      "image/png": "[encoded data removed]",
      "text/plain": [
       "<Figure size 720x360 with 1 Axes>"
      ]
     },
     "metadata": {
      "needs_background": "light"
     },
     "output_type": "display_data"
    }
   ],
   "source": [
    "df_train['rougher.input.feed_size'].hist(bins=200, alpha=0.5, label='train', figsize=(10, 5))\n",
    "df_test['rougher.input.feed_size'].hist(bins=200, alpha=0.5, label='test', figsize=(10, 5))\n",
    "plt.xlabel('Размер частиц, мк', fontsize=15)\n",
    "plt.ylabel('Количество наблюдений', fontsize=15)\n",
    "plt.legend()\n",
    "plt.title('Распределения размеров гранул исходного сырья на обучающей и тестовой выборках.', fontsize=20)\n",
    "plt.show()"
   ]
  },
  {
   "cell_type": "code",
   "execution_count": 16,
   "metadata": {},
   "outputs": [
    {
     "data": {
      "text/plain": [
       "count    14579.000000\n",
       "mean        59.070865\n",
       "std         22.903811\n",
       "min          0.049194\n",
       "25%         47.322462\n",
       "50%         54.464259\n",
       "75%         64.469177\n",
       "max        484.967466\n",
       "Name: rougher.input.feed_size, dtype: float64"
      ]
     },
     "metadata": {},
     "output_type": "display_data"
    },
    {
     "data": {
      "text/plain": [
       "count    4860.000000\n",
       "mean       59.136150\n",
       "std        19.512497\n",
       "min         0.046369\n",
       "25%        47.610795\n",
       "50%        55.461058\n",
       "75%        66.538910\n",
       "max       363.989699\n",
       "Name: rougher.input.feed_size, dtype: float64"
      ]
     },
     "execution_count": 16,
     "metadata": {},
     "output_type": "execute_result"
    }
   ],
   "source": [
    "# Посмотрим описание.\n",
    "display(df_train['rougher.input.feed_size'].describe())\n",
    "df_test['rougher.input.feed_size'].describe()"
   ]
  },
  {
   "cell_type": "code",
   "execution_count": 17,
   "metadata": {},
   "outputs": [
    {
     "data": {
      "text/plain": [
       "524.5485754742793"
      ]
     },
     "metadata": {},
     "output_type": "display_data"
    },
    {
     "data": {
      "text/plain": [
       "380.65918575448467"
      ]
     },
     "execution_count": 17,
     "metadata": {},
     "output_type": "execute_result"
    }
   ],
   "source": [
    "# Посмотрим на дисперсии.\n",
    "display(np.var(df_train['rougher.input.feed_size']))\n",
    "np.var(df_test['rougher.input.feed_size'])"
   ]
  },
  {
   "cell_type": "markdown",
   "metadata": {},
   "source": [
    "Что ж, на гистограмме видно, что распределения не сильно отличаются, учитывая большее количество наблюдений для обучающей выборки. Дисперсия для обучающей выборки равна 524, для тестовой -- 380. Разница не маленькая, но как видно по гистограмме в обучающих данных довольно много выбросов. Метод describe показал, что средний размер гранул сырья на обучающей выборке 59 микрон, и на тестовой также - 59, так что будем считать, что распределения примерно равны."
   ]
  },
  {
   "cell_type": "markdown",
   "metadata": {},
   "source": [
    "<div class=\"alert alert-success\">\n",
    "<h2> Комментарий ревьюера <a class=\"tocSkip\"> </h2>\n",
    "\n",
    "<b>Все отлично!👍:</b> \n",
    "\n",
    "Распределения примерно одинаковы. Отлично, что использованы графики плотности, вместо гистограмм частотности)"
   ]
  },
  {
   "cell_type": "markdown",
   "metadata": {},
   "source": [
    "2.3. Исследуем суммарную концентрацию металлов на разных стадиях: в сырье, в черновом концентрате, в концентрате после первой очистки и в финальном концентрате."
   ]
  },
  {
   "cell_type": "code",
   "execution_count": 18,
   "metadata": {},
   "outputs": [
    {
     "data": {
      "image/png": "[encoded data removed]",
      "text/plain": [
       "<Figure size 1152x576 with 1 Axes>"
      ]
     },
     "metadata": {
      "needs_background": "light"
     },
     "output_type": "display_data"
    }
   ],
   "source": [
    "# Найдем суммарную концентрацию металлов (ag, pb, sol, au) в сырье\n",
    "sum_r_feed = df_full[['rougher.input.feed_ag', \n",
    "                   'rougher.input.feed_pb', \n",
    "                   'rougher.input.feed_sol', \n",
    "                   'rougher.input.feed_au']].sum(axis=1)\n",
    "# Построим гистограмму для суммарной концентрации металлов в сырье\n",
    "plt.subplots(figsize = (16,8))\n",
    "sns.histplot(sum_r_feed, bins=300)\n",
    "plt.title('Суммарная концентрация металлов в сырье', fontsize=20);"
   ]
  },
  {
   "cell_type": "code",
   "execution_count": 19,
   "metadata": {},
   "outputs": [
    {
     "data": {
      "image/png": "[encoded data removed]",
      "text/plain": [
       "<Figure size 1152x576 with 1 Axes>"
      ]
     },
     "metadata": {
      "needs_background": "light"
     },
     "output_type": "display_data"
    }
   ],
   "source": [
    "# Найдем суммарную концентрацию металлов (ag, pb, sol, au) в черновом концентрате\n",
    "sum_r_conc = df_full[['rougher.output.concentrate_pb', \n",
    "                   'rougher.output.concentrate_ag', \n",
    "                   'rougher.output.concentrate_sol', \n",
    "                   'rougher.output.concentrate_au']].sum(axis=1)\n",
    "sum_r_conc = sum_r_conc[sum_r_conc > 0]\n",
    "# Построим гистограмму для суммарной концентрации металлов в черновом концентрате\n",
    "plt.subplots(figsize = (16, 8))\n",
    "sns.histplot(sum_r_conc, bins=300)\n",
    "plt.title('Суммарная концентрация металлов в черновом концентрате', fontsize=20);"
   ]
  },
  {
   "cell_type": "markdown",
   "metadata": {},
   "source": [
    "<br/>    \n",
    "<div class=\"alert alert-info\">\n",
    "<h2><a class=\"tocSkip\"> </h2>\n",
    "\n",
    "<b></b>Добавил код, убирающий аномалии\n",
    "</div> \n",
    "\n",
    "<br/> "
   ]
  },
  {
   "cell_type": "markdown",
   "metadata": {},
   "source": [
    "<div class=\"alert alert-success\">\n",
    "<h2> Комментарий ревьюера 2 <a class=\"tocSkip\"> </h2>\n",
    "\n",
    "<b>Все отлично!👍:</b>"
   ]
  },
  {
   "cell_type": "code",
   "execution_count": 20,
   "metadata": {},
   "outputs": [
    {
     "data": {
      "image/png": "[encoded data removed]",
      "text/plain": [
       "<Figure size 1152x576 with 1 Axes>"
      ]
     },
     "metadata": {
      "needs_background": "light"
     },
     "output_type": "display_data"
    }
   ],
   "source": [
    "# Найдем суммарную концентрацию металлов (ag, pb, sol, au) в концентрате после первой очистки.\n",
    "sum_r_conc = df_full[['primary_cleaner.output.concentrate_pb', \n",
    "                   'primary_cleaner.output.concentrate_ag', \n",
    "                   'primary_cleaner.output.concentrate_sol', \n",
    "                   'primary_cleaner.output.concentrate_au']].sum(axis=1)\n",
    "sum_r_conc = sum_r_conc[sum_r_conc > 1]\n",
    "# Построим гистограмму для суммарной концентрации металлов в черновом концентрате\n",
    "plt.subplots(figsize = (16, 8))\n",
    "sns.histplot(sum_r_conc, bins=300)\n",
    "plt.title('Суммарная концентрация металлов в концентрате после первой очистки', fontsize=20);"
   ]
  },
  {
   "cell_type": "code",
   "execution_count": 21,
   "metadata": {},
   "outputs": [
    {
     "data": {
      "image/png": "[encoded data removed]",
      "text/plain": [
       "<Figure size 1152x576 with 1 Axes>"
      ]
     },
     "metadata": {
      "needs_background": "light"
     },
     "output_type": "display_data"
    }
   ],
   "source": [
    "# Найдем суммарную концентрацию металлов (ag, pb, sol, au) в финальном концентрате\n",
    "sum_fin_conc = df_full[['final.output.concentrate_pb', \n",
    "                   'final.output.concentrate_ag', \n",
    "                   'final.output.concentrate_sol', \n",
    "                   'final.output.concentrate_au']].sum(axis=1)\n",
    "sum_fin_conc = sum_fin_conc[sum_fin_conc > 0]\n",
    "# Построим гистограмму для суммарной концентрации металлов в финальном концентрате\n",
    "plt.subplots(figsize = (16,8))\n",
    "sns.histplot(sum_fin_conc, bins=300)\n",
    "plt.title('Суммарная концентрация металлов в финальном концентрате', fontsize=20);"
   ]
  },
  {
   "cell_type": "markdown",
   "metadata": {},
   "source": [
    "Мы видим, что аномалии в основном присутствуют на черновом этапе очистке и уменьшаются после первой очистки, особенном много значений в районе нуля. На этапе сырья их почти нет, в финальном концентрате есть, но не так много как на черновом. Эти аномалии могут влиять на конечные рассчетные характеристики. Мы могли бы их удалить, но поскольку в тестовой выборке содержатся только признаки для сырья, а в них почти нет аномалий, это не имеет большого смысла."
   ]
  },
  {
   "cell_type": "markdown",
   "metadata": {},
   "source": [
    "<br/>\n",
    "<div class=\"alert alert-block alert-danger\">\n",
    "<h2> Комментарий ревьюера <a class=\"tocSkip\"></h2>\n",
    "    \n",
    "<b>На доработку🤔:</b>\n",
    "    \n",
    "Итак, суммарную концентрацию всех веществ на разных стадиях исследовали. Есть такой момент, что на гистограммах распределений суммарных концентраций имеются аномалии, и эти аномалии важно удалить по всем типам суммарных концентраций на обучающей выборке. Ведь отдельно по каждому веществу они могут быть (не всегда же есть крупинки золота в руде), а вот суммарно - вряд ли (в руде хоть что-то но будет) А если мы имеем аномалии, значит большая вероятность неточности в измерениях. Исправь, пожалуйста "
   ]
  },
  {
   "cell_type": "markdown",
   "metadata": {},
   "source": [
    "<div class=\"alert alert-success\">\n",
    "<h2> Комментарий ревьюера 2 <a class=\"tocSkip\"> </h2>\n",
    "\n",
    "<b>Все отлично!👍:</b>"
   ]
  },
  {
   "cell_type": "markdown",
   "metadata": {},
   "source": [
    "## Модель"
   ]
  },
  {
   "cell_type": "code",
   "execution_count": 22,
   "metadata": {},
   "outputs": [],
   "source": [
    "# 3.1. Напишим функцию для вычисления итоговой sMAPE.\n",
    "def smape_total(target_rougher, predicted_rougher, target_final, predicted_final):\n",
    "    smape_rough = 1/len(target_rougher) * np.sum(2 * np.abs(\n",
    "    target_rougher - predicted_rougher) / (np.abs(target_rougher) + np.abs(predicted_rougher))*100)\n",
    "    smape_fin = 1/len(target_final) * np.sum(2 * np.abs(\n",
    "    target_final - predicted_final) / (np.abs(target_final) + np.abs(predicted_final))*100)\n",
    "    return (0.25*smape_rough) + (0.75*smape_fin)\n",
    "\n",
    "def smape(target, predicted):\n",
    "    return 1/len(target) * np.sum(2 * np.abs(\n",
    "       target - predicted) / (np.abs(target) + np.abs(predicted))*100)\n",
    "def smape_final(rougher, final):\n",
    "    return 0.25*rougher + 0.75*final"
   ]
  },
  {
   "cell_type": "markdown",
   "metadata": {},
   "source": [
    "<div class=\"alert alert-success\">\n",
    "<h2> Комментарий ревьюера <a class=\"tocSkip\"> </h2>\n",
    "\n",
    "<b>Все отлично!👍:</b> \n",
    "\n",
    "Функция правильная)"
   ]
  },
  {
   "cell_type": "code",
   "execution_count": 23,
   "metadata": {},
   "outputs": [
    {
     "data": {
      "text/html": [
       "<div>\n",
       "<style scoped>\n",
       "    .dataframe tbody tr th:only-of-type {\n",
       "        vertical-align: middle;\n",
       "    }\n",
       "\n",
       "    .dataframe tbody tr th {\n",
       "        vertical-align: top;\n",
       "    }\n",
       "\n",
       "    .dataframe thead th {\n",
       "        text-align: right;\n",
       "    }\n",
       "</style>\n",
       "<table border=\"1\" class=\"dataframe\">\n",
       "  <thead>\n",
       "    <tr style=\"text-align: right;\">\n",
       "      <th></th>\n",
       "      <th>date</th>\n",
       "      <th>rougher.output.recovery</th>\n",
       "      <th>final.output.recovery</th>\n",
       "    </tr>\n",
       "  </thead>\n",
       "  <tbody>\n",
       "    <tr>\n",
       "      <th>0</th>\n",
       "      <td>2016-01-15 00:00:00</td>\n",
       "      <td>87.107763</td>\n",
       "      <td>70.541216</td>\n",
       "    </tr>\n",
       "    <tr>\n",
       "      <th>1</th>\n",
       "      <td>2016-01-15 01:00:00</td>\n",
       "      <td>86.843261</td>\n",
       "      <td>69.266198</td>\n",
       "    </tr>\n",
       "    <tr>\n",
       "      <th>2</th>\n",
       "      <td>2016-01-15 02:00:00</td>\n",
       "      <td>86.842308</td>\n",
       "      <td>68.116445</td>\n",
       "    </tr>\n",
       "    <tr>\n",
       "      <th>3</th>\n",
       "      <td>2016-01-15 03:00:00</td>\n",
       "      <td>87.226430</td>\n",
       "      <td>68.347543</td>\n",
       "    </tr>\n",
       "    <tr>\n",
       "      <th>4</th>\n",
       "      <td>2016-01-15 04:00:00</td>\n",
       "      <td>86.688794</td>\n",
       "      <td>66.927016</td>\n",
       "    </tr>\n",
       "  </tbody>\n",
       "</table>\n",
       "</div>"
      ],
      "text/plain": [
       "                  date  rougher.output.recovery  final.output.recovery\n",
       "0  2016-01-15 00:00:00                87.107763              70.541216\n",
       "1  2016-01-15 01:00:00                86.843261              69.266198\n",
       "2  2016-01-15 02:00:00                86.842308              68.116445\n",
       "3  2016-01-15 03:00:00                87.226430              68.347543\n",
       "4  2016-01-15 04:00:00                86.688794              66.927016"
      ]
     },
     "execution_count": 23,
     "metadata": {},
     "output_type": "execute_result"
    }
   ],
   "source": [
    "df_target = df_full[['date', 'rougher.output.recovery', 'final.output.recovery']]\n",
    "df_target.head()"
   ]
  },
  {
   "cell_type": "code",
   "execution_count": 24,
   "metadata": {},
   "outputs": [],
   "source": [
    "#и добавим эти признаки в тестовую выборку из полной\n",
    "df_test = df_test.merge(df_target, how = 'left', on = 'date')"
   ]
  },
  {
   "cell_type": "code",
   "execution_count": 25,
   "metadata": {},
   "outputs": [],
   "source": [
    "# удалим столбец с датой\n",
    "df_test.drop(['date'], axis=1, inplace=True)"
   ]
  },
  {
   "cell_type": "code",
   "execution_count": 26,
   "metadata": {},
   "outputs": [],
   "source": [
    "#удалим из тренировочной выборки те признаки, которых нет в тестовой\n",
    "df_train = df_train.drop(set(df_train.columns)-set(df_test.columns), axis=1)"
   ]
  },
  {
   "cell_type": "code",
   "execution_count": 27,
   "metadata": {},
   "outputs": [],
   "source": [
    "# выделим признаки на тренировочной выборке для чернового концентрата (rougher)\n",
    "features_train_r = df_train.filter(regex='^rougher',axis=1)\n",
    "features_train_r = features_train_r.drop(['rougher.output.recovery'], axis=1)\n",
    "target_train_r = df_train['rougher.output.recovery']\n",
    "# и для финального концентрата (final)\n",
    "features_train_f = df_train.drop(['rougher.output.recovery', 'final.output.recovery'], axis=1)\n",
    "target_train_f = df_train['final.output.recovery']\n",
    "# #выделим признаки на тестовой выборке для чернового концентрата (rougher)\n",
    "features_test_r = df_test.filter(regex='^rougher',axis=1)\n",
    "features_test_r = features_test_r.drop(['rougher.output.recovery'], axis=1)\n",
    "target_test_r = df_test['rougher.output.recovery']\n",
    "# и для финального концентрата (final)\n",
    "features_test_f = df_test.drop(['rougher.output.recovery', 'final.output.recovery'], axis=1)\n",
    "target_test_f = df_test['final.output.recovery']"
   ]
  },
  {
   "cell_type": "code",
   "execution_count": 28,
   "metadata": {},
   "outputs": [
    {
     "data": {
      "text/plain": [
       "(14579, 22)"
      ]
     },
     "metadata": {},
     "output_type": "display_data"
    },
    {
     "data": {
      "text/plain": [
       "(14579,)"
      ]
     },
     "metadata": {},
     "output_type": "display_data"
    },
    {
     "data": {
      "text/plain": [
       "(14579, 52)"
      ]
     },
     "metadata": {},
     "output_type": "display_data"
    },
    {
     "data": {
      "text/plain": [
       "(14579,)"
      ]
     },
     "metadata": {},
     "output_type": "display_data"
    },
    {
     "data": {
      "text/plain": [
       "(4860, 22)"
      ]
     },
     "metadata": {},
     "output_type": "display_data"
    },
    {
     "data": {
      "text/plain": [
       "(4860,)"
      ]
     },
     "metadata": {},
     "output_type": "display_data"
    },
    {
     "data": {
      "text/plain": [
       "(4860, 52)"
      ]
     },
     "metadata": {},
     "output_type": "display_data"
    },
    {
     "data": {
      "text/plain": [
       "(4860,)"
      ]
     },
     "metadata": {},
     "output_type": "display_data"
    }
   ],
   "source": [
    "# проверим размер признаков\n",
    "display(features_train_r.shape)\n",
    "display(target_train_r.shape)\n",
    "\n",
    "display(features_train_f.shape)\n",
    "display(target_train_f.shape)\n",
    "\n",
    "display(features_test_r.shape)\n",
    "display(target_test_r.shape)\n",
    "\n",
    "display(features_test_f.shape)\n",
    "display(target_test_f.shape)"
   ]
  },
  {
   "cell_type": "code",
   "execution_count": 29,
   "metadata": {},
   "outputs": [
    {
     "name": "stdout",
     "output_type": "stream",
     "text": [
      "-11.575661607489604\n",
      "-23.553415900957788\n",
      "-12.849033562680212\n",
      "                 Модель:  cross_val_score_r  cross_val_score_f\n",
      "0       LinearRegression         -12.795377         -11.169090\n",
      "1  DecisionTreeRegressor         -20.879640         -24.444675\n",
      "2  RandomForestRegressor         -15.121181         -12.091651\n",
      "\n"
     ]
    }
   ],
   "source": [
    "random_state = 12345\n",
    "cv = 5\n",
    "models = [LinearRegression(),\n",
    "          DecisionTreeRegressor(random_state=random_state),\n",
    "          RandomForestRegressor(random_state=random_state)]\n",
    "results_cross_val = []\n",
    "\n",
    "for model in models:\n",
    "    scorer = make_scorer(smape, greater_is_better=False)\n",
    "    cross_val_score_r = cross_val_score(model, features_train_r, target_train_r,\n",
    "                                      cv=cv, scoring = scorer).mean()\n",
    "    cross_val_score_f = cross_val_score(model, features_train_f, target_train_f,\n",
    "                                      cv=cv, scoring = scorer).mean()\n",
    "    results_cross_val.append({'Модель:': model.__class__.__name__,\n",
    "                            'cross_val_score_r':cross_val_score_r,\n",
    "                            'cross_val_score_f':cross_val_score_f})\n",
    "    print(smape_final(cross_val_score_r, cross_val_score_f))\n",
    "print(pd.DataFrame(results_cross_val))\n",
    "print()"
   ]
  },
  {
   "cell_type": "code",
   "execution_count": 30,
   "metadata": {},
   "outputs": [
    {
     "name": "stdout",
     "output_type": "stream",
     "text": [
      "Итоговое sMape для линейной регрессии: -11.575661607489604\n"
     ]
    }
   ],
   "source": [
    "# построим модель для линейной регрессии и сделаем кросс-валидацию методом cross_val_score\n",
    "model = LinearRegression()\n",
    "scorer = make_scorer(smape, greater_is_better=False)\n",
    "rougher_lin = cross_val_score(model, features_train_r, target_train_r, scoring=scorer, cv=5)\n",
    "final_lin =  cross_val_score(model, features_train_f, target_train_f, scoring=scorer, cv=5)\n",
    "print('Итоговое sMape для линейной регрессии:', smape_final(rougher_lin, final_lin).mean())"
   ]
  },
  {
   "cell_type": "code",
   "execution_count": 31,
   "metadata": {},
   "outputs": [
    {
     "name": "stdout",
     "output_type": "stream",
     "text": [
      "Глубина: 1\n",
      "Итоговое sMAPE для решающего дерева: -11.968213994291878\n",
      "\n",
      "Глубина: 3\n",
      "Итоговое sMAPE для решающего дерева: -11.653951049054271\n",
      "\n",
      "Глубина: 5\n",
      "Итоговое sMAPE для решающего дерева: -12.154784769952121\n",
      "\n",
      "Глубина: 7\n",
      "Итоговое sMAPE для решающего дерева: -13.57152673563995\n",
      "\n",
      "Глубина: 9\n",
      "Итоговое sMAPE для решающего дерева: -15.86239673426579\n",
      "\n",
      "Глубина: 11\n",
      "Итоговое sMAPE для решающего дерева: -18.29155243956015\n",
      "\n",
      "\n"
     ]
    }
   ],
   "source": [
    "# построим модель для решающего дерева и найдем наилучшие гиперпараметры\n",
    "for depth in range(1, 12, 2):\n",
    "    model2 = DecisionTreeRegressor(random_state=12345, max_depth = depth)\n",
    "    scorer = make_scorer(smape, greater_is_better=False)\n",
    "    rougher_tree = cross_val_score(model2, features_train_r, target_train_r, scoring=scorer, cv=5)\n",
    "    final_tree = cross_val_score(model2, features_train_f, target_train_f, scoring=scorer, cv=5)\n",
    "    print('Глубина:',depth)\n",
    "    print('Итоговое sMAPE для решающего дерева:',smape_final(rougher_tree, final_tree).mean())\n",
    "    print('')\n",
    "print()"
   ]
  },
  {
   "cell_type": "code",
   "execution_count": 42,
   "metadata": {},
   "outputs": [
    {
     "name": "stdout",
     "output_type": "stream",
     "text": [
      "min_samples_leaf 1\n",
      "depth 1\n",
      "Итоговое sMAPE для решающего дерева: -11.968213994291878\n",
      "\n",
      "min_samples_leaf 1\n",
      "depth 3\n",
      "Итоговое sMAPE для решающего дерева: -11.653951049054271\n",
      "\n",
      "min_samples_leaf 1\n",
      "depth 5\n",
      "Итоговое sMAPE для решающего дерева: -12.154784769952121\n",
      "\n",
      "min_samples_leaf 1\n",
      "depth 7\n",
      "Итоговое sMAPE для решающего дерева: -13.57152673563995\n",
      "\n",
      "min_samples_leaf 1\n",
      "depth 9\n",
      "Итоговое sMAPE для решающего дерева: -15.86239673426579\n",
      "\n",
      "min_samples_leaf 1\n",
      "depth 11\n",
      "Итоговое sMAPE для решающего дерева: -18.29155243956015\n",
      "\n",
      "min_samples_leaf 3\n",
      "depth 1\n",
      "Итоговое sMAPE для решающего дерева: -11.968213994291878\n",
      "\n",
      "min_samples_leaf 3\n",
      "depth 3\n",
      "Итоговое sMAPE для решающего дерева: -11.653951049054271\n",
      "\n",
      "min_samples_leaf 3\n",
      "depth 5\n",
      "Итоговое sMAPE для решающего дерева: -12.11913202642387\n",
      "\n",
      "min_samples_leaf 3\n",
      "depth 7\n",
      "Итоговое sMAPE для решающего дерева: -13.151975404390722\n",
      "\n",
      "min_samples_leaf 3\n",
      "depth 9\n",
      "Итоговое sMAPE для решающего дерева: -14.883257167162673\n",
      "\n",
      "min_samples_leaf 3\n",
      "depth 11\n",
      "Итоговое sMAPE для решающего дерева: -16.587333837213663\n",
      "\n",
      "min_samples_leaf 5\n",
      "depth 1\n",
      "Итоговое sMAPE для решающего дерева: -11.968213994291878\n",
      "\n",
      "min_samples_leaf 5\n",
      "depth 3\n",
      "Итоговое sMAPE для решающего дерева: -11.65358365134725\n",
      "\n",
      "min_samples_leaf 5\n",
      "depth 5\n",
      "Итоговое sMAPE для решающего дерева: -12.166967017178575\n",
      "\n",
      "min_samples_leaf 5\n",
      "depth 7\n",
      "Итоговое sMAPE для решающего дерева: -12.820535664772729\n",
      "\n",
      "min_samples_leaf 5\n",
      "depth 9\n",
      "Итоговое sMAPE для решающего дерева: -13.844202682613986\n",
      "\n",
      "min_samples_leaf 5\n",
      "depth 11\n",
      "Итоговое sMAPE для решающего дерева: -15.321302218237165\n",
      "\n",
      "min_samples_leaf 7\n",
      "depth 1\n",
      "Итоговое sMAPE для решающего дерева: -11.968213994291878\n",
      "\n",
      "min_samples_leaf 7\n",
      "depth 3\n",
      "Итоговое sMAPE для решающего дерева: -11.657069707513035\n",
      "\n",
      "min_samples_leaf 7\n",
      "depth 5\n",
      "Итоговое sMAPE для решающего дерева: -12.159562136790559\n",
      "\n",
      "min_samples_leaf 7\n",
      "depth 7\n",
      "Итоговое sMAPE для решающего дерева: -12.675529558886433\n",
      "\n",
      "min_samples_leaf 7\n",
      "depth 9\n",
      "Итоговое sMAPE для решающего дерева: -13.738085190584773\n",
      "\n",
      "min_samples_leaf 7\n",
      "depth 11\n",
      "Итоговое sMAPE для решающего дерева: -14.980624981815282\n",
      "\n",
      "min_samples_leaf 9\n",
      "depth 1\n",
      "Итоговое sMAPE для решающего дерева: -11.968213994291878\n",
      "\n",
      "min_samples_leaf 9\n",
      "depth 3\n",
      "Итоговое sMAPE для решающего дерева: -11.718074408901199\n",
      "\n",
      "min_samples_leaf 9\n",
      "depth 5\n",
      "Итоговое sMAPE для решающего дерева: -12.201751496724915\n",
      "\n",
      "min_samples_leaf 9\n",
      "depth 7\n",
      "Итоговое sMAPE для решающего дерева: -12.72575721141153\n",
      "\n",
      "min_samples_leaf 9\n",
      "depth 9\n",
      "Итоговое sMAPE для решающего дерева: -13.484175106257178\n",
      "\n",
      "min_samples_leaf 9\n",
      "depth 11\n",
      "Итоговое sMAPE для решающего дерева: -14.38385408403306\n",
      "\n",
      "min_samples_leaf 11\n",
      "depth 1\n",
      "Итоговое sMAPE для решающего дерева: -11.968213994291878\n",
      "\n",
      "min_samples_leaf 11\n",
      "depth 3\n",
      "Итоговое sMAPE для решающего дерева: -11.756917457639693\n",
      "\n",
      "min_samples_leaf 11\n",
      "depth 5\n",
      "Итоговое sMAPE для решающего дерева: -12.204749350538895\n",
      "\n",
      "min_samples_leaf 11\n",
      "depth 7\n",
      "Итоговое sMAPE для решающего дерева: -12.796728343731264\n",
      "\n",
      "min_samples_leaf 11\n",
      "depth 9\n",
      "Итоговое sMAPE для решающего дерева: -13.777820008663928\n",
      "\n",
      "min_samples_leaf 11\n",
      "depth 11\n",
      "Итоговое sMAPE для решающего дерева: -14.690180229069068\n",
      "\n",
      "min_samples_leaf 13\n",
      "depth 1\n",
      "Итоговое sMAPE для решающего дерева: -11.968213994291878\n",
      "\n",
      "min_samples_leaf 13\n",
      "depth 3\n",
      "Итоговое sMAPE для решающего дерева: -11.739506941971278\n",
      "\n",
      "min_samples_leaf 13\n",
      "depth 5\n",
      "Итоговое sMAPE для решающего дерева: -12.193068020017884\n",
      "\n",
      "min_samples_leaf 13\n",
      "depth 7\n",
      "Итоговое sMAPE для решающего дерева: -12.448085169981166\n",
      "\n",
      "min_samples_leaf 13\n",
      "depth 9\n",
      "Итоговое sMAPE для решающего дерева: -13.145405670201598\n",
      "\n",
      "min_samples_leaf 13\n",
      "depth 11\n",
      "Итоговое sMAPE для решающего дерева: -14.020580715630945\n",
      "\n",
      "min_samples_leaf 15\n",
      "depth 1\n",
      "Итоговое sMAPE для решающего дерева: -11.968213994291878\n",
      "\n",
      "min_samples_leaf 15\n",
      "depth 3\n",
      "Итоговое sMAPE для решающего дерева: -11.711499149073259\n",
      "\n",
      "min_samples_leaf 15\n",
      "depth 5\n",
      "Итоговое sMAPE для решающего дерева: -12.153292967669394\n",
      "\n",
      "min_samples_leaf 15\n",
      "depth 7\n",
      "Итоговое sMAPE для решающего дерева: -12.711211577006946\n",
      "\n",
      "min_samples_leaf 15\n",
      "depth 9\n",
      "Итоговое sMAPE для решающего дерева: -13.080717442563895\n",
      "\n",
      "min_samples_leaf 15\n",
      "depth 11\n",
      "Итоговое sMAPE для решающего дерева: -14.031115560071333\n",
      "\n",
      "min_samples_leaf 17\n",
      "depth 1\n",
      "Итоговое sMAPE для решающего дерева: -11.968213994291878\n",
      "\n",
      "min_samples_leaf 17\n",
      "depth 3\n",
      "Итоговое sMAPE для решающего дерева: -11.711336641599763\n",
      "\n",
      "min_samples_leaf 17\n",
      "depth 5\n",
      "Итоговое sMAPE для решающего дерева: -12.203917741072193\n",
      "\n",
      "min_samples_leaf 17\n",
      "depth 7\n",
      "Итоговое sMAPE для решающего дерева: -12.85814853956993\n",
      "\n",
      "min_samples_leaf 17\n",
      "depth 9\n",
      "Итоговое sMAPE для решающего дерева: -13.290634334108754\n",
      "\n",
      "min_samples_leaf 17\n",
      "depth 11\n",
      "Итоговое sMAPE для решающего дерева: -14.191470286252088\n",
      "\n",
      "min_samples_leaf 19\n",
      "depth 1\n",
      "Итоговое sMAPE для решающего дерева: -11.968213994291878\n",
      "\n",
      "min_samples_leaf 19\n",
      "depth 3\n",
      "Итоговое sMAPE для решающего дерева: -11.805228291716464\n",
      "\n",
      "min_samples_leaf 19\n",
      "depth 5\n",
      "Итоговое sMAPE для решающего дерева: -12.319574142545315\n",
      "\n",
      "min_samples_leaf 19\n",
      "depth 7\n",
      "Итоговое sMAPE для решающего дерева: -12.872347802829822\n",
      "\n",
      "min_samples_leaf 19\n",
      "depth 9\n",
      "Итоговое sMAPE для решающего дерева: -13.71882111750474\n",
      "\n",
      "min_samples_leaf 19\n",
      "depth 11\n",
      "Итоговое sMAPE для решающего дерева: -14.518943508638912\n",
      "\n",
      "min_samples_leaf 21\n",
      "depth 1\n",
      "Итоговое sMAPE для решающего дерева: -11.968213994291878\n",
      "\n",
      "min_samples_leaf 21\n",
      "depth 3\n",
      "Итоговое sMAPE для решающего дерева: -11.811574359440277\n",
      "\n",
      "min_samples_leaf 21\n",
      "depth 5\n",
      "Итоговое sMAPE для решающего дерева: -12.349606963673974\n",
      "\n",
      "min_samples_leaf 21\n",
      "depth 7\n",
      "Итоговое sMAPE для решающего дерева: -12.913330187482819\n",
      "\n",
      "min_samples_leaf 21\n",
      "depth 9\n",
      "Итоговое sMAPE для решающего дерева: -13.58103725170228\n",
      "\n",
      "min_samples_leaf 21\n",
      "depth 11\n",
      "Итоговое sMAPE для решающего дерева: -14.316677481000728\n",
      "\n",
      "min_samples_leaf 23\n",
      "depth 1\n",
      "Итоговое sMAPE для решающего дерева: -11.968213994291878\n",
      "\n",
      "min_samples_leaf 23\n",
      "depth 3\n",
      "Итоговое sMAPE для решающего дерева: -11.809486814817308\n",
      "\n",
      "min_samples_leaf 23\n",
      "depth 5\n",
      "Итоговое sMAPE для решающего дерева: -12.316865830257791\n",
      "\n",
      "min_samples_leaf 23\n",
      "depth 7\n",
      "Итоговое sMAPE для решающего дерева: -12.687883843275293\n",
      "\n",
      "min_samples_leaf 23\n",
      "depth 9\n",
      "Итоговое sMAPE для решающего дерева: -13.513192535172877\n",
      "\n",
      "min_samples_leaf 23\n",
      "depth 11\n",
      "Итоговое sMAPE для решающего дерева: -14.008463081039002\n",
      "\n",
      "min_samples_leaf 25\n",
      "depth 1\n",
      "Итоговое sMAPE для решающего дерева: -11.968213994291878\n",
      "\n",
      "min_samples_leaf 25\n",
      "depth 3\n",
      "Итоговое sMAPE для решающего дерева: -11.810820862027152\n",
      "\n",
      "min_samples_leaf 25\n",
      "depth 5\n",
      "Итоговое sMAPE для решающего дерева: -12.296140291644141\n",
      "\n",
      "min_samples_leaf 25\n",
      "depth 7\n",
      "Итоговое sMAPE для решающего дерева: -12.793307293633305\n",
      "\n",
      "min_samples_leaf 25\n",
      "depth 9\n",
      "Итоговое sMAPE для решающего дерева: -13.569117763275107\n",
      "\n",
      "min_samples_leaf 25\n",
      "depth 11\n",
      "Итоговое sMAPE для решающего дерева: -13.99425939897992\n",
      "\n",
      "min_samples_leaf 27\n",
      "depth 1\n",
      "Итоговое sMAPE для решающего дерева: -11.968213994291878\n",
      "\n",
      "min_samples_leaf 27\n",
      "depth 3\n",
      "Итоговое sMAPE для решающего дерева: -11.807413107483402\n",
      "\n",
      "min_samples_leaf 27\n",
      "depth 5\n",
      "Итоговое sMAPE для решающего дерева: -12.254959069221268\n",
      "\n",
      "min_samples_leaf 27\n",
      "depth 7\n",
      "Итоговое sMAPE для решающего дерева: -12.687798399854364\n",
      "\n",
      "min_samples_leaf 27\n",
      "depth 9\n",
      "Итоговое sMAPE для решающего дерева: -13.352447540237524\n",
      "\n",
      "min_samples_leaf 27\n",
      "depth 11\n",
      "Итоговое sMAPE для решающего дерева: -13.80505657007421\n",
      "\n",
      "min_samples_leaf 29\n",
      "depth 1\n",
      "Итоговое sMAPE для решающего дерева: -11.968213994291878\n",
      "\n",
      "min_samples_leaf 29\n",
      "depth 3\n",
      "Итоговое sMAPE для решающего дерева: -11.791487425448073\n",
      "\n",
      "min_samples_leaf 29\n",
      "depth 5\n",
      "Итоговое sMAPE для решающего дерева: -12.204864077884633\n",
      "\n",
      "min_samples_leaf 29\n",
      "depth 7\n",
      "Итоговое sMAPE для решающего дерева: -12.626709541093476\n",
      "\n",
      "min_samples_leaf 29\n",
      "depth 9\n",
      "Итоговое sMAPE для решающего дерева: -13.274693720537377\n",
      "\n",
      "min_samples_leaf 29\n",
      "depth 11\n",
      "Итоговое sMAPE для решающего дерева: -13.55924376483748\n",
      "\n",
      "min_samples_leaf 31\n",
      "depth 1\n",
      "Итоговое sMAPE для решающего дерева: -11.968213994291878\n",
      "\n",
      "min_samples_leaf 31\n",
      "depth 3\n",
      "Итоговое sMAPE для решающего дерева: -11.777682833935774\n",
      "\n",
      "min_samples_leaf 31\n",
      "depth 5\n",
      "Итоговое sMAPE для решающего дерева: -12.018890687242862\n",
      "\n",
      "min_samples_leaf 31\n",
      "depth 7\n",
      "Итоговое sMAPE для решающего дерева: -12.441796503528005\n",
      "\n",
      "min_samples_leaf 31\n",
      "depth 9\n",
      "Итоговое sMAPE для решающего дерева: -12.954155966869559\n",
      "\n",
      "min_samples_leaf 31\n",
      "depth 11\n",
      "Итоговое sMAPE для решающего дерева: -13.201683123123592\n",
      "\n",
      "\n"
     ]
    }
   ],
   "source": [
    "for leaf in range(1, 32, 2):\n",
    "    for depth in range(1, 12, 2):\n",
    "        model3 = DecisionTreeRegressor(random_state=12345, max_depth = depth, min_samples_leaf=leaf)\n",
    "        scorer = make_scorer(smape, greater_is_better=False)\n",
    "        rougher_tree = cross_val_score(model3, features_train_r, target_train_r, scoring=scorer, cv=5)\n",
    "        final_tree = cross_val_score(model3, features_train_f, target_train_f, scoring=scorer, cv=5)\n",
    "        print('min_samples_leaf', leaf)\n",
    "        print('depth', depth)\n",
    "        print('Итоговое sMAPE для решающего дерева:',smape_final(rougher_tree, final_tree).mean())\n",
    "        print('')\n",
    "print()"
   ]
  },
  {
   "cell_type": "markdown",
   "metadata": {},
   "source": [
    "<br/>    \n",
    "<div class=\"alert alert-info\">\n",
    "<h2><a class=\"tocSkip\"> </h2>\n",
    "\n",
    "<b></b> Перебор по гиперпораметрам показал, что лучший smare у глубины 3 и min_samples_leaf 3, и лучше чем у линейной регрессии\n",
    "</div> \n",
    "\n",
    "<br/> "
   ]
  },
  {
   "cell_type": "markdown",
   "metadata": {},
   "source": [
    "<div class=\"alert alert-success\">\n",
    "<h2> Комментарий ревьюера 2 <a class=\"tocSkip\"> </h2>\n",
    "\n",
    "<b>Все отлично!👍:</b>"
   ]
  },
  {
   "cell_type": "markdown",
   "metadata": {},
   "source": [
    "<br/>\n",
    "<div class=\"alert alert-block alert-danger\">\n",
    "<h2> Комментарий ревьюера <a class=\"tocSkip\"></h2>\n",
    "    \n",
    "<b>На доработку🤔:</b>\n",
    "    \n",
    "Следует использовать больше одного набора гиперпараметров хотя бы для одной модели, к примеру, перебирать как `max_depth`, так и `min_samples_leaf`. Напомню, что эти наборы следует еще и перебирать (с гридсерчем или вручную с циклами). Исправь, пожалуйста"
   ]
  },
  {
   "cell_type": "code",
   "execution_count": 32,
   "metadata": {},
   "outputs": [
    {
     "name": "stdout",
     "output_type": "stream",
     "text": [
      "Итоговое sMAPE на тестовой выборке: 7.824796586192598\n"
     ]
    }
   ],
   "source": [
    "# проверим лучшую модель на тестовой выборке\n",
    "model_r = DecisionTreeRegressor(random_state=12345, max_depth = 3)\n",
    "model_f = DecisionTreeRegressor(random_state=12345, max_depth = 3)\n",
    "model_r.fit(features_train_r, target_train_r)\n",
    "model_f.fit(features_train_f, target_train_f)\n",
    "test_predictions_r = model_r.predict(features_test_r)\n",
    "test_predictions_f = model_f.predict(features_test_f)\n",
    "print('Итоговое sMAPE на тестовой выборке:',smape_total(\n",
    "    target_test_r, test_predictions_r, target_test_f, test_predictions_f).mean())"
   ]
  },
  {
   "cell_type": "markdown",
   "metadata": {},
   "source": [
    "<div class=\"alert alert-success\">\n",
    "<h2> Комментарий ревьюера <a class=\"tocSkip\"> </h2>\n",
    "\n",
    "<b>Все отлично!👍:</b> \n",
    "        \n",
    "Тестирование лучшей модели проведено правильно"
   ]
  },
  {
   "cell_type": "markdown",
   "metadata": {},
   "source": [
    "<br/>    \n",
    "<div class=\"alert alert-info\">\n",
    "<h2><a class=\"tocSkip\"> </h2>\n",
    "\n",
    "<b></b> Сравним с константной моделью\n",
    "</div> \n",
    "\n",
    "<br/> "
   ]
  },
  {
   "cell_type": "markdown",
   "metadata": {},
   "source": [
    "<div class=\"alert alert-success\">\n",
    "<h2> Комментарий ревьюера 2 <a class=\"tocSkip\"> </h2>\n",
    "\n",
    "<b>Все отлично!👍:</b>"
   ]
  },
  {
   "cell_type": "code",
   "execution_count": 33,
   "metadata": {},
   "outputs": [
    {
     "name": "stdout",
     "output_type": "stream",
     "text": [
      "Итоговое sMAPE для DummyRegressor: 8.843396027364125\n"
     ]
    }
   ],
   "source": [
    "dummy_model_r = DummyRegressor(strategy=\"mean\")\n",
    "dummy_model_f = DummyRegressor(strategy=\"mean\")\n",
    "dummy_model_r.fit(features_train_r, target_train_r)\n",
    "dummy_model_f.fit(features_train_f, target_train_f)\n",
    "test_predictions_r = dummy_model_r.predict(features_test_r)\n",
    "test_predictions_f = dummy_model_f.predict(features_test_f)\n",
    "\n",
    "print('Итоговое sMAPE для DummyRegressor:',smape_total(\n",
    "    target_test_r, test_predictions_r, target_test_f, test_predictions_f).mean())"
   ]
  },
  {
   "cell_type": "markdown",
   "metadata": {},
   "source": [
    "<br/>    \n",
    "<div class=\"alert alert-info\">\n",
    "<h2>Итог: <a class=\"tocSkip\"> </h2>\n",
    "\n",
    "<b></b>Подготовлен прототип модели машинного обучения для «Цифры». Компания разрабатывает решения для эффективной работы промышленных предприятий.\n",
    "\n",
    "Модель должна предсказать коэффициент восстановления золота из золотосодержащей руды. Использованы данные с параметрами добычи и очистки.\n",
    "\n",
    "Было сделано:\n",
    "\n",
    "    - Подготовлены данные.\n",
    "    - Проверено, что эффективность обогащения рассчитана правильно.\n",
    "    - Проведен исследовательский анализ данных;\n",
    "    - Изучено, как меняется концентрация металлов (Au, Ag, Pb) на различных этапах обработки.\n",
    "    - Сравнены распределения размеров гранул исходного сырья на обучающей и тестовой выборках.\n",
    "    - Исследована суммарная концентрация металлов на разных стадиях.\n",
    "    - Написана функция для вычисления итоговой sMAPE для оценки эффективности модели.\n",
    "    - Построена и обучена модель.\n",
    "    - Модель проверена на адекватность.\n",
    "\n",
    "</div> \n",
    "\n",
    "<br/> "
   ]
  },
  {
   "cell_type": "markdown",
   "metadata": {},
   "source": [
    "<div class=\"alert alert-success\">\n",
    "<h2> Комментарий ревьюера 2 <a class=\"tocSkip\"> </h2>\n",
    "\n",
    "<b>Все отлично!👍:</b>"
   ]
  },
  {
   "cell_type": "markdown",
   "metadata": {},
   "source": [
    "<br/>\n",
    "<div class=\"alert alert-block alert-danger\">\n",
    "<h2> Комментарий ревьюера <a class=\"tocSkip\"></h2>\n",
    "    \n",
    "<b>На доработку🤔:</b>\n",
    "    \n",
    "В каждом проекте при оценке качества модели, имеет смысл сравнивать ее с константной моделью (к примеру, которая предсказывает медиану по таргету). И в наш проект важно добавить это сравнение.  Создавать константные модели можно либо вручную, либо воспользоваться готовым алгоритмом <a href='https://scikit-learn.org/stable/modules/generated/sklearn.dummy.DummyRegressor.html'>DummyRegressor</a> из пакета `sklearn`. "
   ]
  },
  {
   "cell_type": "markdown",
   "metadata": {},
   "source": [
    "<div class=\"alert alert-block alert-danger\">\n",
    "<h2> Комментарий ревьюера <a class=\"tocSkip\"></h2>\n",
    "\n",
    "<b>На доработку🤔:</b>\n",
    "    \n",
    "В конце выполнения каждой работы важно оставлять итоговый вывод, делиться какими-то рассуждениями, умозаключениями: какая задача перед тобой стояла, что было предпринято для ее выполнения и почему/для чего, с какими трудностями (особенностями данных) пришлось столкнуться, каким образом удалось с ними справиться, каких результатов удалось достичь, получилось ли у тебя реализовать задачу, поставленную в проекте. Это поможет тебе осмыслять проделанную работу полноценно, а не отдельными заданиями, список которых предоставили. В будущих проектах тебе нужно будет учиться все большей и большей самостоятельности при планировании своей работы. Осмысленное написание вывода должно помочь тебе проследить взаимосвязи между этапами, запомнить их логику."
   ]
  },
  {
   "cell_type": "markdown",
   "metadata": {},
   "source": [
    "<div style=\"border:solid Chocolate 2px; padding: 40px\">\n",
    "\n",
    "\n",
    "<h2> Итоговый комментарий ревьюера <a class=\"tocSkip\"> </h2>    \n",
    "    \n",
    "  \n",
    "У меня сложилось хорошее общее впечатление о проекте, тебе удалось неплохо справиться с таким объемным и сложным проектом. Молодец! Подготовлены данные для анализа, изучен каждый параметр. Все красиво визуализировано, построено несколько моделей регрессии и оценено их качество. Осмысленная аналитика и дельная модельная работа - многое удалось как надо)\n",
    "    \n",
    "Отмечу отдельные положительные моменты проекта🙂:\n",
    "    \n",
    "- в ходе проекта встречались функции, помогающие избавиться от дублирования кода;\n",
    "- много красивых визуализаций в проекте и хорошая интерпретация;\n",
    "- при обучении моделей использована кросс-валидация и поиск гиперпараметров.\n",
    "    \n",
    "Есть несколько моментов всего, на которые стоит ещё раз взглянуть, их я обзначил тебе в комментариях по ходу проекта. Предлагаю тебе доработать проект по моим комментариям, чтобы довести его до совершенства.\n",
    "\n",
    " \n",
    "</div>"
   ]
  },
  {
   "cell_type": "markdown",
   "metadata": {},
   "source": [
    "<div style=\"border:solid Chocolate 2px; padding: 40px\">\n",
    "\n",
    "\n",
    "<h2> Итоговый комментарий ревьюера v.2 <a class=\"tocSkip\"> </h2>    \n",
    "    \n",
    "     \n",
    "  \n",
    "Теперь почти идеально. Принимаю работу)\n",
    "    \n",
    "Если хочешь лучше разобраться в ML, то могу посоветовать тебе: \n",
    "    \n",
    "- Открытый курс машинного обучения: https://habr.com/ru/company/ods/blog/322626/   \n",
    "    \n",
    "- Книжка от ШАД: https://academy.yandex.ru/handbook/ml/\n",
    "    \n",
    "- Также рекомендую лекции от Andrew Ng: https://www.youtube.com/watch?v=PPLop4L2eGk&list=PLLssT5z_DsK-h9vYZkQkYNWcItqhlRJLN\n",
    "- Избежать утечки данных при кросс-валидации тебе поможет <a href=\"https://towardsdatascience.com/pipeline-columntransformer-and-featureunion-explained-f5491f815f\">конвеерная обработка данных</a>.     \n",
    "    \n",
    "- Не все признаки приносят пользу при моделировании. Инструмент <a href=\"https://proglib.io/p/feature-selector\">FeatureSelector</a> поможет тебе отобрать важные признаки и избавит от ручной обработки.  Также можешь посмотреть статью на <a href=\"https://www.kaggle.com/code/prashant111/comprehensive-guide-on-feature-selection/notebook\">Kaggle</a> (она сложнее).    \n",
    "    \n",
    "    \n",
    "В этом проекте были отработаны несколько моментов. А самый очевидный: заметно, что разность метрик качества (константной и нашей модели) -  не слишком большая. Такое расхождение метрик допустимо в этом проекте. Что тогда  для дальнейшего улучшения качества моделирования возможно тут пересмотреть?\n",
    "Попробую описать для тебя:\n",
    "1. Качество данных на входе модели машинного обучения: повторно оценить аномалии, пропуски, соответствие законам химии и физики, все ли правдоподобно?\n",
    "2. Работа с моделями машинного обучения:\n",
    "- Создание новых признаков для моделей, Features Engineering: возможно стоит обратиться к технологу производства и ещё раз пробежаться по бизнес-цепочке процесса.\n",
    "- Отбор самих моделей машинного обучения и гиперпараметров.\n",
    "    \n",
    "3. Параметры производственного процесса, к примеру: температура сырья, скорость ленточного конвейера, и.т.п.\n",
    "    \n",
    "\n",
    "Если провести Анализ измерительных систем, или MSA, то можно разобраться в причинах неточности полученных с производства данных. Статистический анализ данных, или SPC, - тоже будет являться незаменимым помощником в решении нашей задачи.\n",
    "    \n",
    "Добавлю здесь, что цель нашего проекта достигнута, а именно пройдены важные этапы подготовки данных и построения модели для производства золота.\n",
    "    \n",
    "Успехов тебе в следующем спринте!\n",
    "    \n",
    "Рад был помочь тебе)\n",
    "    \n",
    "</div>"
   ]
  },
  {
   "cell_type": "markdown",
   "metadata": {},
   "source": [
    "## Чек-лист готовности проекта"
   ]
  },
  {
   "cell_type": "markdown",
   "metadata": {},
   "source": [
    "- [x]  Jupyter Notebook открыт\n",
    "- [ ]  Весь код выполняется без ошибок\n",
    "- [ ]  Ячейки с кодом расположены в порядке выполнения\n",
    "- [ ]  Выполнен шаг 1: данные подготовлены\n",
    "    - [ ]  Проверена формула вычисления эффективности обогащения\n",
    "    - [ ]  Проанализированы признаки, недоступные в тестовой выборке\n",
    "    - [ ]  Проведена предобработка данных\n",
    "- [ ]  Выполнен шаг 2: данные проанализированы\n",
    "    - [ ]  Исследовано изменение концентрации элементов на каждом этапе\n",
    "    - [ ]  Проанализированы распределения размеров гранул на обучающей и тестовой выборках\n",
    "    - [ ]  Исследованы суммарные концентрации\n",
    "- [ ]  Выполнен шаг 3: построена модель прогнозирования\n",
    "    - [ ]  Написана функция для вычисления итогового *sMAPE*\n",
    "    - [ ]  Обучено и проверено несколько моделей\n",
    "    - [ ]  Выбрана лучшая модель, её качество проверено на тестовой выборке"
   ]
  }
 ],
 "metadata": {
  "ExecuteTimeLog": [
   {
    "duration": 354,
    "start_time": "2023-05-28T12:47:17.750Z"
   },
   {
    "duration": 92,
    "start_time": "2023-05-28T12:49:42.816Z"
   },
   {
    "duration": 11,
    "start_time": "2023-05-28T12:49:58.352Z"
   },
   {
    "duration": 2237,
    "start_time": "2023-05-28T12:50:42.318Z"
   },
   {
    "duration": 55,
    "start_time": "2023-05-28T12:51:49.302Z"
   },
   {
    "duration": 50,
    "start_time": "2023-05-28T12:52:57.412Z"
   },
   {
    "duration": 15854,
    "start_time": "2023-05-28T12:55:54.312Z"
   },
   {
    "duration": 15733,
    "start_time": "2023-05-28T12:56:34.459Z"
   },
   {
    "duration": 15873,
    "start_time": "2023-05-28T12:57:10.961Z"
   },
   {
    "duration": 18182,
    "start_time": "2023-05-28T12:58:24.406Z"
   },
   {
    "duration": 18098,
    "start_time": "2023-05-28T12:59:07.088Z"
   },
   {
    "duration": 20019,
    "start_time": "2023-05-28T12:59:49.354Z"
   },
   {
    "duration": 7,
    "start_time": "2023-05-28T13:01:31.864Z"
   },
   {
    "duration": 13,
    "start_time": "2023-05-28T13:02:16.148Z"
   },
   {
    "duration": 51,
    "start_time": "2023-05-30T15:50:56.945Z"
   },
   {
    "duration": 395,
    "start_time": "2023-05-30T15:51:04.196Z"
   },
   {
    "duration": 2403,
    "start_time": "2023-05-30T15:51:05.076Z"
   },
   {
    "duration": 81,
    "start_time": "2023-05-30T15:51:08.108Z"
   },
   {
    "duration": 7,
    "start_time": "2023-05-30T15:51:12.368Z"
   },
   {
    "duration": 48,
    "start_time": "2023-05-30T15:51:14.910Z"
   },
   {
    "duration": 685,
    "start_time": "2023-05-30T15:51:17.565Z"
   },
   {
    "duration": 119,
    "start_time": "2023-05-31T14:07:04.599Z"
   },
   {
    "duration": 44,
    "start_time": "2023-05-31T14:08:11.178Z"
   },
   {
    "duration": 413,
    "start_time": "2023-05-31T14:08:20.992Z"
   },
   {
    "duration": 2169,
    "start_time": "2023-05-31T14:08:21.407Z"
   },
   {
    "duration": 61,
    "start_time": "2023-05-31T14:08:23.577Z"
   },
   {
    "duration": 6,
    "start_time": "2023-05-31T14:08:23.640Z"
   },
   {
    "duration": 53,
    "start_time": "2023-05-31T14:08:23.647Z"
   },
   {
    "duration": 21099,
    "start_time": "2023-05-31T14:08:23.701Z"
   },
   {
    "duration": 23,
    "start_time": "2023-05-31T14:08:44.802Z"
   },
   {
    "duration": 5,
    "start_time": "2023-05-31T14:11:12.322Z"
   },
   {
    "duration": 9,
    "start_time": "2023-05-31T14:11:29.094Z"
   },
   {
    "duration": 9,
    "start_time": "2023-05-31T14:12:10.019Z"
   },
   {
    "duration": 7,
    "start_time": "2023-05-31T14:12:28.260Z"
   },
   {
    "duration": 7,
    "start_time": "2023-05-31T14:18:25.365Z"
   },
   {
    "duration": 67,
    "start_time": "2023-05-31T14:20:26.623Z"
   },
   {
    "duration": 1521,
    "start_time": "2023-05-31T14:21:09.065Z"
   },
   {
    "duration": 2,
    "start_time": "2023-05-31T14:21:45.084Z"
   },
   {
    "duration": 6,
    "start_time": "2023-05-31T14:21:47.325Z"
   },
   {
    "duration": 2,
    "start_time": "2023-05-31T14:21:47.918Z"
   },
   {
    "duration": 2,
    "start_time": "2023-05-31T14:21:48.528Z"
   },
   {
    "duration": 51,
    "start_time": "2023-05-31T14:21:51.705Z"
   },
   {
    "duration": 8,
    "start_time": "2023-05-31T14:22:13.974Z"
   },
   {
    "duration": 8,
    "start_time": "2023-05-31T14:22:33.089Z"
   },
   {
    "duration": 9,
    "start_time": "2023-05-31T14:27:31.934Z"
   },
   {
    "duration": 9,
    "start_time": "2023-05-31T14:27:35.947Z"
   },
   {
    "duration": 4,
    "start_time": "2023-05-31T14:27:47.046Z"
   },
   {
    "duration": 21,
    "start_time": "2023-05-31T15:34:21.802Z"
   },
   {
    "duration": 13,
    "start_time": "2023-05-31T15:42:43.796Z"
   },
   {
    "duration": 11,
    "start_time": "2023-05-31T15:45:53.978Z"
   },
   {
    "duration": 30,
    "start_time": "2023-05-31T15:47:27.124Z"
   },
   {
    "duration": 13,
    "start_time": "2023-05-31T15:47:49.138Z"
   },
   {
    "duration": 3,
    "start_time": "2023-05-31T15:47:54.619Z"
   },
   {
    "duration": 350,
    "start_time": "2023-05-31T15:50:01.117Z"
   },
   {
    "duration": 3,
    "start_time": "2023-05-31T16:05:37.972Z"
   },
   {
    "duration": 299,
    "start_time": "2023-05-31T16:07:29.745Z"
   },
   {
    "duration": 272,
    "start_time": "2023-05-31T16:07:41.492Z"
   },
   {
    "duration": 688,
    "start_time": "2023-05-31T16:08:03.113Z"
   },
   {
    "duration": 843,
    "start_time": "2023-05-31T16:08:27.981Z"
   },
   {
    "duration": 569,
    "start_time": "2023-05-31T16:08:46.302Z"
   },
   {
    "duration": 340,
    "start_time": "2023-05-31T16:09:14.032Z"
   },
   {
    "duration": 201,
    "start_time": "2023-05-31T16:09:25.219Z"
   },
   {
    "duration": 134,
    "start_time": "2023-05-31T16:09:38.723Z"
   },
   {
    "duration": 126,
    "start_time": "2023-05-31T16:09:58.059Z"
   },
   {
    "duration": 13,
    "start_time": "2023-05-31T16:10:41.963Z"
   },
   {
    "duration": 121,
    "start_time": "2023-05-31T16:10:50.611Z"
   },
   {
    "duration": 145,
    "start_time": "2023-05-31T16:12:04.873Z"
   },
   {
    "duration": 220,
    "start_time": "2023-05-31T16:12:20.188Z"
   },
   {
    "duration": 134,
    "start_time": "2023-05-31T16:12:56.251Z"
   },
   {
    "duration": 123,
    "start_time": "2023-05-31T16:13:07.512Z"
   },
   {
    "duration": 129,
    "start_time": "2023-05-31T16:14:40.298Z"
   },
   {
    "duration": 130,
    "start_time": "2023-05-31T16:14:52.654Z"
   },
   {
    "duration": 153,
    "start_time": "2023-05-31T16:18:45.791Z"
   },
   {
    "duration": 146,
    "start_time": "2023-05-31T16:19:22.020Z"
   },
   {
    "duration": 146,
    "start_time": "2023-05-31T16:21:33.237Z"
   },
   {
    "duration": 136,
    "start_time": "2023-05-31T16:21:50.702Z"
   },
   {
    "duration": 121,
    "start_time": "2023-05-31T16:22:59.268Z"
   },
   {
    "duration": 128,
    "start_time": "2023-05-31T16:23:22.238Z"
   },
   {
    "duration": 121,
    "start_time": "2023-05-31T16:23:28.135Z"
   },
   {
    "duration": 183,
    "start_time": "2023-05-31T16:23:54.127Z"
   },
   {
    "duration": 248,
    "start_time": "2023-05-31T16:24:02.794Z"
   },
   {
    "duration": 144,
    "start_time": "2023-05-31T16:24:16.879Z"
   },
   {
    "duration": 162,
    "start_time": "2023-05-31T16:24:30.342Z"
   },
   {
    "duration": 142,
    "start_time": "2023-05-31T16:25:20.207Z"
   },
   {
    "duration": 156,
    "start_time": "2023-05-31T16:25:40.692Z"
   },
   {
    "duration": 130,
    "start_time": "2023-05-31T16:25:55.488Z"
   },
   {
    "duration": 140,
    "start_time": "2023-05-31T16:26:12.490Z"
   },
   {
    "duration": 147,
    "start_time": "2023-05-31T16:26:26.710Z"
   },
   {
    "duration": 153,
    "start_time": "2023-05-31T16:27:35.963Z"
   },
   {
    "duration": 168,
    "start_time": "2023-05-31T16:27:48.380Z"
   },
   {
    "duration": 140,
    "start_time": "2023-05-31T16:28:26.905Z"
   },
   {
    "duration": 149,
    "start_time": "2023-05-31T16:28:47.712Z"
   },
   {
    "duration": 162,
    "start_time": "2023-05-31T16:30:09.347Z"
   },
   {
    "duration": 154,
    "start_time": "2023-05-31T16:30:33.705Z"
   },
   {
    "duration": 247,
    "start_time": "2023-05-31T16:30:45.564Z"
   },
   {
    "duration": 139,
    "start_time": "2023-05-31T16:30:55.572Z"
   },
   {
    "duration": 46,
    "start_time": "2023-06-01T15:21:17.512Z"
   },
   {
    "duration": 1568,
    "start_time": "2023-06-01T15:21:25.092Z"
   },
   {
    "duration": 2183,
    "start_time": "2023-06-01T15:21:26.662Z"
   },
   {
    "duration": 103,
    "start_time": "2023-06-01T15:21:28.848Z"
   },
   {
    "duration": 9,
    "start_time": "2023-06-01T15:21:28.954Z"
   },
   {
    "duration": 81,
    "start_time": "2023-06-01T15:21:28.965Z"
   },
   {
    "duration": 24180,
    "start_time": "2023-06-01T15:21:29.048Z"
   },
   {
    "duration": 21,
    "start_time": "2023-06-01T15:21:53.230Z"
   },
   {
    "duration": 5,
    "start_time": "2023-06-01T15:21:53.253Z"
   },
   {
    "duration": 34,
    "start_time": "2023-06-01T15:21:53.260Z"
   },
   {
    "duration": 56,
    "start_time": "2023-06-01T15:21:53.296Z"
   },
   {
    "duration": 416,
    "start_time": "2023-06-01T15:21:53.354Z"
   },
   {
    "duration": 211,
    "start_time": "2023-06-01T15:21:53.772Z"
   },
   {
    "duration": 202,
    "start_time": "2023-06-01T15:21:53.986Z"
   },
   {
    "duration": 194,
    "start_time": "2023-06-01T15:21:54.190Z"
   },
   {
    "duration": 903,
    "start_time": "2023-06-01T15:21:54.386Z"
   },
   {
    "duration": 1796,
    "start_time": "2023-06-01T15:22:35.773Z"
   },
   {
    "duration": 851,
    "start_time": "2023-06-01T15:22:53.824Z"
   },
   {
    "duration": 1029,
    "start_time": "2023-06-01T15:23:17.867Z"
   },
   {
    "duration": 807,
    "start_time": "2023-06-01T15:23:39.717Z"
   },
   {
    "duration": 962,
    "start_time": "2023-06-01T15:24:14.765Z"
   },
   {
    "duration": 810,
    "start_time": "2023-06-01T15:24:23.969Z"
   },
   {
    "duration": 1016,
    "start_time": "2023-06-01T15:24:31.865Z"
   },
   {
    "duration": 932,
    "start_time": "2023-06-01T15:24:50.614Z"
   },
   {
    "duration": 824,
    "start_time": "2023-06-01T15:25:25.869Z"
   },
   {
    "duration": 993,
    "start_time": "2023-06-01T15:25:46.524Z"
   },
   {
    "duration": 15,
    "start_time": "2023-06-01T15:27:53.693Z"
   },
   {
    "duration": 3,
    "start_time": "2023-06-01T15:29:47.765Z"
   },
   {
    "duration": 16,
    "start_time": "2023-06-01T15:30:20.743Z"
   },
   {
    "duration": 7,
    "start_time": "2023-06-01T15:31:24.679Z"
   },
   {
    "duration": 7,
    "start_time": "2023-06-01T15:32:04.281Z"
   },
   {
    "duration": 7,
    "start_time": "2023-06-01T15:32:34.924Z"
   },
   {
    "duration": 8,
    "start_time": "2023-06-01T15:34:47.209Z"
   },
   {
    "duration": 3,
    "start_time": "2023-06-01T15:34:57.777Z"
   },
   {
    "duration": 8,
    "start_time": "2023-06-01T15:35:10.974Z"
   },
   {
    "duration": 123,
    "start_time": "2023-06-01T15:43:57.619Z"
   },
   {
    "duration": 6,
    "start_time": "2023-06-01T15:44:07.857Z"
   },
   {
    "duration": 150,
    "start_time": "2023-06-01T15:44:53.292Z"
   },
   {
    "duration": 61,
    "start_time": "2023-06-01T15:45:24.384Z"
   },
   {
    "duration": 597,
    "start_time": "2023-06-01T15:45:35.762Z"
   },
   {
    "duration": 694,
    "start_time": "2023-06-01T15:45:54.321Z"
   },
   {
    "duration": 570,
    "start_time": "2023-06-01T15:46:15.678Z"
   },
   {
    "duration": 584,
    "start_time": "2023-06-01T15:46:43.174Z"
   },
   {
    "duration": 5,
    "start_time": "2023-06-01T16:04:35.019Z"
   },
   {
    "duration": 737,
    "start_time": "2023-06-01T16:05:43.112Z"
   },
   {
    "duration": 640,
    "start_time": "2023-06-01T16:05:57.008Z"
   },
   {
    "duration": 733,
    "start_time": "2023-06-01T16:06:02.393Z"
   },
   {
    "duration": 755,
    "start_time": "2023-06-01T16:06:26.657Z"
   },
   {
    "duration": 550,
    "start_time": "2023-06-01T16:06:46.989Z"
   },
   {
    "duration": 599,
    "start_time": "2023-06-01T16:07:08.350Z"
   },
   {
    "duration": 60,
    "start_time": "2023-06-01T16:08:40.484Z"
   },
   {
    "duration": 801,
    "start_time": "2023-06-01T16:09:06.850Z"
   },
   {
    "duration": 603,
    "start_time": "2023-06-01T16:09:11.054Z"
   },
   {
    "duration": 783,
    "start_time": "2023-06-01T16:14:38.887Z"
   },
   {
    "duration": 20,
    "start_time": "2023-06-01T16:18:56.058Z"
   },
   {
    "duration": 192,
    "start_time": "2023-06-01T16:19:51.962Z"
   },
   {
    "duration": 177,
    "start_time": "2023-06-01T16:20:34.661Z"
   },
   {
    "duration": 172,
    "start_time": "2023-06-01T16:20:45.766Z"
   },
   {
    "duration": 253,
    "start_time": "2023-06-01T16:22:42.487Z"
   },
   {
    "duration": 176,
    "start_time": "2023-06-01T16:23:01.254Z"
   },
   {
    "duration": 192,
    "start_time": "2023-06-01T16:23:42.683Z"
   },
   {
    "duration": 170,
    "start_time": "2023-06-01T16:26:53.109Z"
   },
   {
    "duration": 194,
    "start_time": "2023-06-01T16:28:24.579Z"
   },
   {
    "duration": 5,
    "start_time": "2023-06-01T17:33:28.288Z"
   },
   {
    "duration": 29,
    "start_time": "2023-06-01T17:38:38.875Z"
   },
   {
    "duration": 44,
    "start_time": "2023-06-01T17:38:59.115Z"
   },
   {
    "duration": 3,
    "start_time": "2023-06-01T17:39:14.564Z"
   },
   {
    "duration": 10,
    "start_time": "2023-06-01T17:46:37.673Z"
   },
   {
    "duration": 22,
    "start_time": "2023-06-01T17:49:19.497Z"
   },
   {
    "duration": 17,
    "start_time": "2023-06-01T17:51:26.779Z"
   },
   {
    "duration": 30,
    "start_time": "2023-06-01T17:52:01.246Z"
   },
   {
    "duration": 18,
    "start_time": "2023-06-01T17:52:19.270Z"
   },
   {
    "duration": 16,
    "start_time": "2023-06-01T17:53:15.657Z"
   },
   {
    "duration": 17,
    "start_time": "2023-06-01T17:54:28.726Z"
   },
   {
    "duration": 16,
    "start_time": "2023-06-01T17:56:24.920Z"
   },
   {
    "duration": 18,
    "start_time": "2023-06-01T17:58:13.168Z"
   },
   {
    "duration": 17,
    "start_time": "2023-06-01T18:16:37.506Z"
   },
   {
    "duration": 47,
    "start_time": "2023-06-01T20:41:54.825Z"
   },
   {
    "duration": 1496,
    "start_time": "2023-06-01T20:42:03.117Z"
   },
   {
    "duration": 2230,
    "start_time": "2023-06-01T20:42:04.615Z"
   },
   {
    "duration": 52,
    "start_time": "2023-06-01T20:42:06.847Z"
   },
   {
    "duration": 6,
    "start_time": "2023-06-01T20:42:06.900Z"
   },
   {
    "duration": 38,
    "start_time": "2023-06-01T20:42:06.908Z"
   },
   {
    "duration": 18495,
    "start_time": "2023-06-01T20:42:06.948Z"
   },
   {
    "duration": 7,
    "start_time": "2023-06-01T20:42:25.445Z"
   },
   {
    "duration": 15,
    "start_time": "2023-06-01T20:42:25.454Z"
   },
   {
    "duration": 62,
    "start_time": "2023-06-01T20:42:25.470Z"
   },
   {
    "duration": 27,
    "start_time": "2023-06-01T20:42:25.534Z"
   },
   {
    "duration": 345,
    "start_time": "2023-06-01T20:42:25.563Z"
   },
   {
    "duration": 175,
    "start_time": "2023-06-01T20:42:25.910Z"
   },
   {
    "duration": 185,
    "start_time": "2023-06-01T20:42:26.086Z"
   },
   {
    "duration": 180,
    "start_time": "2023-06-01T20:42:26.275Z"
   },
   {
    "duration": 669,
    "start_time": "2023-06-01T20:42:26.457Z"
   },
   {
    "duration": 11,
    "start_time": "2023-06-01T20:42:27.128Z"
   },
   {
    "duration": 19,
    "start_time": "2023-06-01T20:42:27.140Z"
   },
   {
    "duration": 1238,
    "start_time": "2023-06-01T20:42:27.160Z"
   },
   {
    "duration": 453,
    "start_time": "2023-06-01T20:42:28.399Z"
   },
   {
    "duration": 460,
    "start_time": "2023-06-01T20:42:28.853Z"
   },
   {
    "duration": 530,
    "start_time": "2023-06-01T20:42:29.314Z"
   },
   {
    "duration": 5,
    "start_time": "2023-06-01T20:42:29.846Z"
   },
   {
    "duration": 18,
    "start_time": "2023-06-01T20:42:29.852Z"
   },
   {
    "duration": 6,
    "start_time": "2023-06-01T20:42:29.872Z"
   },
   {
    "duration": 131,
    "start_time": "2023-06-01T20:42:29.885Z"
   },
   {
    "duration": 11,
    "start_time": "2023-06-01T20:55:43.450Z"
   },
   {
    "duration": 10,
    "start_time": "2023-06-01T20:56:53.115Z"
   },
   {
    "duration": 15,
    "start_time": "2023-06-01T20:57:47.435Z"
   },
   {
    "duration": 12,
    "start_time": "2023-06-01T20:58:21.302Z"
   },
   {
    "duration": 13,
    "start_time": "2023-06-01T21:00:09.213Z"
   },
   {
    "duration": 14,
    "start_time": "2023-06-01T21:00:49.355Z"
   },
   {
    "duration": 1031,
    "start_time": "2023-06-01T21:01:25.745Z"
   },
   {
    "duration": 16,
    "start_time": "2023-06-01T21:01:46.054Z"
   },
   {
    "duration": 767,
    "start_time": "2023-06-01T21:02:01.413Z"
   },
   {
    "duration": 52,
    "start_time": "2023-06-01T21:02:04.108Z"
   },
   {
    "duration": 5,
    "start_time": "2023-06-01T21:02:08.643Z"
   },
   {
    "duration": 40,
    "start_time": "2023-06-01T21:02:11.239Z"
   },
   {
    "duration": 20557,
    "start_time": "2023-06-01T21:02:15.245Z"
   },
   {
    "duration": 11,
    "start_time": "2023-06-01T21:02:46.108Z"
   },
   {
    "duration": 6,
    "start_time": "2023-06-01T21:03:11.906Z"
   },
   {
    "duration": 4,
    "start_time": "2023-06-01T21:03:21.628Z"
   },
   {
    "duration": 35,
    "start_time": "2023-06-01T21:03:46.581Z"
   },
   {
    "duration": 19,
    "start_time": "2023-06-01T21:03:55.312Z"
   },
   {
    "duration": 28,
    "start_time": "2023-06-01T21:04:03.124Z"
   },
   {
    "duration": 378,
    "start_time": "2023-06-01T21:04:07.255Z"
   },
   {
    "duration": 192,
    "start_time": "2023-06-01T21:04:18.229Z"
   },
   {
    "duration": 198,
    "start_time": "2023-06-01T21:04:36.320Z"
   },
   {
    "duration": 164,
    "start_time": "2023-06-01T21:04:39.374Z"
   },
   {
    "duration": 896,
    "start_time": "2023-06-01T21:04:46.086Z"
   },
   {
    "duration": 14,
    "start_time": "2023-06-01T21:04:49.022Z"
   },
   {
    "duration": 9,
    "start_time": "2023-06-01T21:04:56.338Z"
   },
   {
    "duration": 462,
    "start_time": "2023-06-01T21:04:59.818Z"
   },
   {
    "duration": 1274,
    "start_time": "2023-06-01T21:05:02.601Z"
   },
   {
    "duration": 451,
    "start_time": "2023-06-01T21:05:08.515Z"
   },
   {
    "duration": 514,
    "start_time": "2023-06-01T21:05:11.011Z"
   },
   {
    "duration": 4,
    "start_time": "2023-06-01T21:05:24.479Z"
   },
   {
    "duration": 17,
    "start_time": "2023-06-01T21:05:29.925Z"
   },
   {
    "duration": 31,
    "start_time": "2023-06-01T21:05:49.674Z"
   },
   {
    "duration": 17,
    "start_time": "2023-06-01T21:06:51.149Z"
   },
   {
    "duration": 4,
    "start_time": "2023-06-01T21:15:02.161Z"
   },
   {
    "duration": 36,
    "start_time": "2023-06-01T21:27:58.715Z"
   },
   {
    "duration": 15,
    "start_time": "2023-06-01T21:32:19.800Z"
   },
   {
    "duration": 12,
    "start_time": "2023-06-01T21:32:47.149Z"
   },
   {
    "duration": 17,
    "start_time": "2023-06-01T21:33:41.360Z"
   },
   {
    "duration": 15,
    "start_time": "2023-06-01T21:34:44.917Z"
   },
   {
    "duration": 17,
    "start_time": "2023-06-01T21:35:03.899Z"
   },
   {
    "duration": 16,
    "start_time": "2023-06-01T21:35:22.805Z"
   },
   {
    "duration": 18,
    "start_time": "2023-06-01T21:35:46.987Z"
   },
   {
    "duration": 22,
    "start_time": "2023-06-01T21:36:08.195Z"
   },
   {
    "duration": 27,
    "start_time": "2023-06-01T21:36:35.315Z"
   },
   {
    "duration": 17,
    "start_time": "2023-06-01T21:36:42.670Z"
   },
   {
    "duration": 3,
    "start_time": "2023-06-01T21:36:52.488Z"
   },
   {
    "duration": 680,
    "start_time": "2023-06-01T21:36:53.245Z"
   },
   {
    "duration": 44,
    "start_time": "2023-06-01T21:36:54.715Z"
   },
   {
    "duration": 6,
    "start_time": "2023-06-01T21:36:59.207Z"
   },
   {
    "duration": 44,
    "start_time": "2023-06-01T21:37:03.868Z"
   },
   {
    "duration": 6,
    "start_time": "2023-06-01T21:37:25.337Z"
   },
   {
    "duration": 29,
    "start_time": "2023-06-01T21:38:12.889Z"
   },
   {
    "duration": 34,
    "start_time": "2023-06-01T21:39:15.726Z"
   },
   {
    "duration": 15,
    "start_time": "2023-06-01T21:40:35.105Z"
   },
   {
    "duration": 1263,
    "start_time": "2023-06-01T21:40:57.393Z"
   },
   {
    "duration": 689,
    "start_time": "2023-06-01T21:40:58.658Z"
   },
   {
    "duration": 61,
    "start_time": "2023-06-01T21:40:59.349Z"
   },
   {
    "duration": 6,
    "start_time": "2023-06-01T21:40:59.411Z"
   },
   {
    "duration": 39,
    "start_time": "2023-06-01T21:40:59.419Z"
   },
   {
    "duration": 18897,
    "start_time": "2023-06-01T21:40:59.460Z"
   },
   {
    "duration": 8,
    "start_time": "2023-06-01T21:41:18.359Z"
   },
   {
    "duration": 18,
    "start_time": "2023-06-01T21:41:18.368Z"
   },
   {
    "duration": 32,
    "start_time": "2023-06-01T21:41:18.388Z"
   },
   {
    "duration": 31,
    "start_time": "2023-06-01T21:41:18.422Z"
   },
   {
    "duration": 386,
    "start_time": "2023-06-01T21:41:18.455Z"
   },
   {
    "duration": 176,
    "start_time": "2023-06-01T21:41:18.843Z"
   },
   {
    "duration": 163,
    "start_time": "2023-06-01T21:41:19.021Z"
   },
   {
    "duration": 162,
    "start_time": "2023-06-01T21:41:19.188Z"
   },
   {
    "duration": 698,
    "start_time": "2023-06-01T21:41:19.352Z"
   },
   {
    "duration": 10,
    "start_time": "2023-06-01T21:41:20.052Z"
   },
   {
    "duration": 33,
    "start_time": "2023-06-01T21:41:20.064Z"
   },
   {
    "duration": 1310,
    "start_time": "2023-06-01T21:41:20.100Z"
   },
   {
    "duration": 478,
    "start_time": "2023-06-01T21:41:21.412Z"
   },
   {
    "duration": 462,
    "start_time": "2023-06-01T21:41:21.893Z"
   },
   {
    "duration": 568,
    "start_time": "2023-06-01T21:41:22.357Z"
   },
   {
    "duration": 3,
    "start_time": "2023-06-01T21:41:22.926Z"
   },
   {
    "duration": 14,
    "start_time": "2023-06-01T21:41:22.931Z"
   },
   {
    "duration": 28,
    "start_time": "2023-06-01T21:41:22.947Z"
   },
   {
    "duration": 135,
    "start_time": "2023-06-01T21:41:22.976Z"
   },
   {
    "duration": 0,
    "start_time": "2023-06-01T21:41:23.112Z"
   },
   {
    "duration": 1279,
    "start_time": "2023-06-01T21:41:44.334Z"
   },
   {
    "duration": 692,
    "start_time": "2023-06-01T21:41:45.615Z"
   },
   {
    "duration": 58,
    "start_time": "2023-06-01T21:41:46.310Z"
   },
   {
    "duration": 6,
    "start_time": "2023-06-01T21:41:46.384Z"
   },
   {
    "duration": 71,
    "start_time": "2023-06-01T21:41:46.391Z"
   },
   {
    "duration": 18839,
    "start_time": "2023-06-01T21:41:46.464Z"
   },
   {
    "duration": 8,
    "start_time": "2023-06-01T21:42:05.305Z"
   },
   {
    "duration": 7,
    "start_time": "2023-06-01T21:42:05.314Z"
   },
   {
    "duration": 25,
    "start_time": "2023-06-01T21:42:05.323Z"
   },
   {
    "duration": 46,
    "start_time": "2023-06-01T21:42:05.350Z"
   },
   {
    "duration": 373,
    "start_time": "2023-06-01T21:42:05.397Z"
   },
   {
    "duration": 177,
    "start_time": "2023-06-01T21:42:05.771Z"
   },
   {
    "duration": 191,
    "start_time": "2023-06-01T21:42:05.950Z"
   },
   {
    "duration": 181,
    "start_time": "2023-06-01T21:42:06.143Z"
   },
   {
    "duration": 697,
    "start_time": "2023-06-01T21:42:06.325Z"
   },
   {
    "duration": 12,
    "start_time": "2023-06-01T21:42:07.024Z"
   },
   {
    "duration": 6,
    "start_time": "2023-06-01T21:42:07.037Z"
   },
   {
    "duration": 1316,
    "start_time": "2023-06-01T21:42:07.044Z"
   },
   {
    "duration": 469,
    "start_time": "2023-06-01T21:42:08.361Z"
   },
   {
    "duration": 444,
    "start_time": "2023-06-01T21:42:08.831Z"
   },
   {
    "duration": 535,
    "start_time": "2023-06-01T21:42:09.276Z"
   },
   {
    "duration": 4,
    "start_time": "2023-06-01T21:42:09.812Z"
   },
   {
    "duration": 8,
    "start_time": "2023-06-01T21:42:09.817Z"
   },
   {
    "duration": 24,
    "start_time": "2023-06-01T21:42:09.826Z"
   },
   {
    "duration": 2,
    "start_time": "2023-06-01T21:42:09.851Z"
   },
   {
    "duration": 119,
    "start_time": "2023-06-01T21:42:09.854Z"
   },
   {
    "duration": 18,
    "start_time": "2023-06-01T21:47:21.764Z"
   },
   {
    "duration": 1296,
    "start_time": "2023-06-01T21:47:35.335Z"
   },
   {
    "duration": 669,
    "start_time": "2023-06-01T21:47:36.633Z"
   },
   {
    "duration": 48,
    "start_time": "2023-06-01T21:47:37.303Z"
   },
   {
    "duration": 6,
    "start_time": "2023-06-01T21:47:37.352Z"
   },
   {
    "duration": 59,
    "start_time": "2023-06-01T21:47:37.359Z"
   },
   {
    "duration": 18894,
    "start_time": "2023-06-01T21:47:37.420Z"
   },
   {
    "duration": 7,
    "start_time": "2023-06-01T21:47:56.315Z"
   },
   {
    "duration": 4,
    "start_time": "2023-06-01T21:47:56.323Z"
   },
   {
    "duration": 19,
    "start_time": "2023-06-01T21:47:56.329Z"
   },
   {
    "duration": 66,
    "start_time": "2023-06-01T21:47:56.350Z"
   },
   {
    "duration": 353,
    "start_time": "2023-06-01T21:47:56.417Z"
   },
   {
    "duration": 169,
    "start_time": "2023-06-01T21:47:56.771Z"
   },
   {
    "duration": 175,
    "start_time": "2023-06-01T21:47:56.941Z"
   },
   {
    "duration": 149,
    "start_time": "2023-06-01T21:47:57.117Z"
   },
   {
    "duration": 628,
    "start_time": "2023-06-01T21:47:57.267Z"
   },
   {
    "duration": 16,
    "start_time": "2023-06-01T21:47:57.896Z"
   },
   {
    "duration": 6,
    "start_time": "2023-06-01T21:47:57.913Z"
   },
   {
    "duration": 1340,
    "start_time": "2023-06-01T21:47:57.921Z"
   },
   {
    "duration": 481,
    "start_time": "2023-06-01T21:47:59.263Z"
   },
   {
    "duration": 487,
    "start_time": "2023-06-01T21:47:59.745Z"
   },
   {
    "duration": 540,
    "start_time": "2023-06-01T21:48:00.234Z"
   },
   {
    "duration": 9,
    "start_time": "2023-06-01T21:48:00.776Z"
   },
   {
    "duration": 58,
    "start_time": "2023-06-01T21:48:00.786Z"
   },
   {
    "duration": 22,
    "start_time": "2023-06-01T21:48:00.846Z"
   },
   {
    "duration": 30,
    "start_time": "2023-06-01T21:48:00.869Z"
   },
   {
    "duration": 42,
    "start_time": "2023-06-01T21:48:00.902Z"
   },
   {
    "duration": 171,
    "start_time": "2023-06-01T21:48:00.945Z"
   },
   {
    "duration": 30,
    "start_time": "2023-06-01T21:48:37.548Z"
   },
   {
    "duration": 17,
    "start_time": "2023-06-01T21:48:59.151Z"
   },
   {
    "duration": 15,
    "start_time": "2023-06-01T21:49:10.434Z"
   },
   {
    "duration": 15,
    "start_time": "2023-06-01T21:49:29.725Z"
   },
   {
    "duration": 1274,
    "start_time": "2023-06-01T21:49:34.263Z"
   },
   {
    "duration": 742,
    "start_time": "2023-06-01T21:49:35.539Z"
   },
   {
    "duration": 58,
    "start_time": "2023-06-01T21:49:36.282Z"
   },
   {
    "duration": 4,
    "start_time": "2023-06-01T21:49:36.342Z"
   },
   {
    "duration": 84,
    "start_time": "2023-06-01T21:49:36.347Z"
   },
   {
    "duration": 19270,
    "start_time": "2023-06-01T21:49:36.433Z"
   },
   {
    "duration": 8,
    "start_time": "2023-06-01T21:49:55.705Z"
   },
   {
    "duration": 15,
    "start_time": "2023-06-01T21:49:55.715Z"
   },
   {
    "duration": 24,
    "start_time": "2023-06-01T21:49:55.732Z"
   },
   {
    "duration": 40,
    "start_time": "2023-06-01T21:49:55.758Z"
   },
   {
    "duration": 400,
    "start_time": "2023-06-01T21:49:55.799Z"
   },
   {
    "duration": 166,
    "start_time": "2023-06-01T21:49:56.202Z"
   },
   {
    "duration": 157,
    "start_time": "2023-06-01T21:49:56.369Z"
   },
   {
    "duration": 153,
    "start_time": "2023-06-01T21:49:56.527Z"
   },
   {
    "duration": 689,
    "start_time": "2023-06-01T21:49:56.684Z"
   },
   {
    "duration": 37,
    "start_time": "2023-06-01T21:49:57.375Z"
   },
   {
    "duration": 6,
    "start_time": "2023-06-01T21:49:57.414Z"
   },
   {
    "duration": 1297,
    "start_time": "2023-06-01T21:49:57.421Z"
   },
   {
    "duration": 449,
    "start_time": "2023-06-01T21:49:58.719Z"
   },
   {
    "duration": 455,
    "start_time": "2023-06-01T21:49:59.170Z"
   },
   {
    "duration": 534,
    "start_time": "2023-06-01T21:49:59.626Z"
   },
   {
    "duration": 3,
    "start_time": "2023-06-01T21:50:00.162Z"
   },
   {
    "duration": 69,
    "start_time": "2023-06-01T21:50:00.166Z"
   },
   {
    "duration": 2,
    "start_time": "2023-06-01T21:50:00.237Z"
   },
   {
    "duration": 16,
    "start_time": "2023-06-01T21:50:00.241Z"
   },
   {
    "duration": 56,
    "start_time": "2023-06-01T21:50:00.258Z"
   },
   {
    "duration": 179,
    "start_time": "2023-06-01T21:50:00.316Z"
   },
   {
    "duration": 17,
    "start_time": "2023-06-01T21:50:13.326Z"
   },
   {
    "duration": 17,
    "start_time": "2023-06-01T21:50:33.373Z"
   },
   {
    "duration": 1278,
    "start_time": "2023-06-01T21:51:14.013Z"
   },
   {
    "duration": 685,
    "start_time": "2023-06-01T21:51:15.293Z"
   },
   {
    "duration": 2,
    "start_time": "2023-06-01T21:51:15.980Z"
   },
   {
    "duration": 23,
    "start_time": "2023-06-01T21:51:15.985Z"
   },
   {
    "duration": 12,
    "start_time": "2023-06-01T21:51:16.009Z"
   },
   {
    "duration": 15,
    "start_time": "2023-06-01T21:51:16.022Z"
   },
   {
    "duration": 16,
    "start_time": "2023-06-01T21:51:16.038Z"
   },
   {
    "duration": 10,
    "start_time": "2023-06-01T21:51:16.056Z"
   },
   {
    "duration": 34,
    "start_time": "2023-06-01T21:51:16.068Z"
   },
   {
    "duration": 33,
    "start_time": "2023-06-01T21:51:16.106Z"
   },
   {
    "duration": 376,
    "start_time": "2023-06-01T21:51:16.141Z"
   },
   {
    "duration": 167,
    "start_time": "2023-06-01T21:51:16.519Z"
   },
   {
    "duration": 162,
    "start_time": "2023-06-01T21:51:16.688Z"
   },
   {
    "duration": 158,
    "start_time": "2023-06-01T21:51:16.852Z"
   },
   {
    "duration": 716,
    "start_time": "2023-06-01T21:51:17.012Z"
   },
   {
    "duration": 11,
    "start_time": "2023-06-01T21:51:17.729Z"
   },
   {
    "duration": 10,
    "start_time": "2023-06-01T21:51:17.741Z"
   },
   {
    "duration": 458,
    "start_time": "2023-06-01T21:51:17.752Z"
   },
   {
    "duration": 644,
    "start_time": "2023-06-01T21:51:18.212Z"
   },
   {
    "duration": 583,
    "start_time": "2023-06-01T21:51:18.857Z"
   },
   {
    "duration": 568,
    "start_time": "2023-06-01T21:51:19.441Z"
   },
   {
    "duration": 4,
    "start_time": "2023-06-01T21:51:20.011Z"
   },
   {
    "duration": 45,
    "start_time": "2023-06-01T21:51:20.016Z"
   },
   {
    "duration": 2,
    "start_time": "2023-06-01T21:51:20.063Z"
   },
   {
    "duration": 5,
    "start_time": "2023-06-01T21:51:20.090Z"
   },
   {
    "duration": 10,
    "start_time": "2023-06-01T21:51:20.097Z"
   },
   {
    "duration": 135,
    "start_time": "2023-06-01T21:51:20.109Z"
   },
   {
    "duration": 18,
    "start_time": "2023-06-01T21:51:27.530Z"
   },
   {
    "duration": 1270,
    "start_time": "2023-06-01T21:52:47.740Z"
   },
   {
    "duration": 703,
    "start_time": "2023-06-01T21:52:49.012Z"
   },
   {
    "duration": 2,
    "start_time": "2023-06-01T21:52:49.716Z"
   },
   {
    "duration": 9,
    "start_time": "2023-06-01T21:52:49.720Z"
   },
   {
    "duration": 2,
    "start_time": "2023-06-01T21:52:49.730Z"
   },
   {
    "duration": 4,
    "start_time": "2023-06-01T21:52:49.733Z"
   },
   {
    "duration": 9,
    "start_time": "2023-06-01T21:52:49.738Z"
   },
   {
    "duration": 3,
    "start_time": "2023-06-01T21:52:49.749Z"
   },
   {
    "duration": 51,
    "start_time": "2023-06-01T21:52:49.754Z"
   },
   {
    "duration": 31,
    "start_time": "2023-06-01T21:52:49.808Z"
   },
   {
    "duration": 360,
    "start_time": "2023-06-01T21:52:49.841Z"
   },
   {
    "duration": 171,
    "start_time": "2023-06-01T21:52:50.203Z"
   },
   {
    "duration": 171,
    "start_time": "2023-06-01T21:52:50.375Z"
   },
   {
    "duration": 152,
    "start_time": "2023-06-01T21:52:50.548Z"
   },
   {
    "duration": 692,
    "start_time": "2023-06-01T21:52:50.702Z"
   },
   {
    "duration": 13,
    "start_time": "2023-06-01T21:52:51.396Z"
   },
   {
    "duration": 6,
    "start_time": "2023-06-01T21:52:51.411Z"
   },
   {
    "duration": 512,
    "start_time": "2023-06-01T21:52:51.418Z"
   },
   {
    "duration": 556,
    "start_time": "2023-06-01T21:52:51.931Z"
   },
   {
    "duration": 477,
    "start_time": "2023-06-01T21:52:52.489Z"
   },
   {
    "duration": 468,
    "start_time": "2023-06-01T21:52:52.968Z"
   },
   {
    "duration": 3,
    "start_time": "2023-06-01T21:52:53.438Z"
   },
   {
    "duration": 13,
    "start_time": "2023-06-01T21:52:53.443Z"
   },
   {
    "duration": 6,
    "start_time": "2023-06-01T21:52:53.457Z"
   },
   {
    "duration": 34,
    "start_time": "2023-06-01T21:52:53.464Z"
   },
   {
    "duration": 3,
    "start_time": "2023-06-01T21:52:53.501Z"
   },
   {
    "duration": 7,
    "start_time": "2023-06-01T21:52:53.506Z"
   },
   {
    "duration": 22,
    "start_time": "2023-06-01T21:52:53.516Z"
   },
   {
    "duration": 131,
    "start_time": "2023-06-01T21:52:53.540Z"
   },
   {
    "duration": 17,
    "start_time": "2023-06-01T21:52:58.749Z"
   },
   {
    "duration": 1293,
    "start_time": "2023-06-01T21:53:30.949Z"
   },
   {
    "duration": 672,
    "start_time": "2023-06-01T21:53:32.244Z"
   },
   {
    "duration": 2,
    "start_time": "2023-06-01T21:53:32.918Z"
   },
   {
    "duration": 17,
    "start_time": "2023-06-01T21:53:32.922Z"
   },
   {
    "duration": 26,
    "start_time": "2023-06-01T21:53:32.940Z"
   },
   {
    "duration": 21,
    "start_time": "2023-06-01T21:53:32.967Z"
   },
   {
    "duration": 13,
    "start_time": "2023-06-01T21:53:32.990Z"
   },
   {
    "duration": 6,
    "start_time": "2023-06-01T21:53:33.005Z"
   },
   {
    "duration": 31,
    "start_time": "2023-06-01T21:53:33.013Z"
   },
   {
    "duration": 27,
    "start_time": "2023-06-01T21:53:33.046Z"
   },
   {
    "duration": 336,
    "start_time": "2023-06-01T21:53:33.085Z"
   },
   {
    "duration": 163,
    "start_time": "2023-06-01T21:53:33.423Z"
   },
   {
    "duration": 155,
    "start_time": "2023-06-01T21:53:33.588Z"
   },
   {
    "duration": 151,
    "start_time": "2023-06-01T21:53:33.745Z"
   },
   {
    "duration": 740,
    "start_time": "2023-06-01T21:53:33.898Z"
   },
   {
    "duration": 12,
    "start_time": "2023-06-01T21:53:34.639Z"
   },
   {
    "duration": 7,
    "start_time": "2023-06-01T21:53:34.652Z"
   },
   {
    "duration": 461,
    "start_time": "2023-06-01T21:53:34.660Z"
   },
   {
    "duration": 529,
    "start_time": "2023-06-01T21:53:35.122Z"
   },
   {
    "duration": 504,
    "start_time": "2023-06-01T21:53:35.653Z"
   },
   {
    "duration": 466,
    "start_time": "2023-06-01T21:53:36.159Z"
   },
   {
    "duration": 4,
    "start_time": "2023-06-01T21:53:36.626Z"
   },
   {
    "duration": 16,
    "start_time": "2023-06-01T21:53:36.631Z"
   },
   {
    "duration": 6,
    "start_time": "2023-06-01T21:53:36.648Z"
   },
   {
    "duration": 36,
    "start_time": "2023-06-01T21:53:36.655Z"
   },
   {
    "duration": 3,
    "start_time": "2023-06-01T21:53:36.692Z"
   },
   {
    "duration": 9,
    "start_time": "2023-06-01T21:53:36.696Z"
   },
   {
    "duration": 15,
    "start_time": "2023-06-01T21:53:36.707Z"
   },
   {
    "duration": 108,
    "start_time": "2023-06-01T21:53:36.724Z"
   },
   {
    "duration": 18,
    "start_time": "2023-06-01T21:54:03.646Z"
   },
   {
    "duration": 19,
    "start_time": "2023-06-01T21:54:09.908Z"
   },
   {
    "duration": 16,
    "start_time": "2023-06-01T21:54:47.055Z"
   },
   {
    "duration": 1443,
    "start_time": "2023-06-01T21:55:00.965Z"
   },
   {
    "duration": 676,
    "start_time": "2023-06-01T21:55:02.411Z"
   },
   {
    "duration": 2,
    "start_time": "2023-06-01T21:55:03.089Z"
   },
   {
    "duration": 70,
    "start_time": "2023-06-01T21:55:03.093Z"
   },
   {
    "duration": 35,
    "start_time": "2023-06-01T21:55:03.165Z"
   },
   {
    "duration": 49,
    "start_time": "2023-06-01T21:55:03.202Z"
   },
   {
    "duration": 61,
    "start_time": "2023-06-01T21:55:03.253Z"
   },
   {
    "duration": 36,
    "start_time": "2023-06-01T21:55:03.315Z"
   },
   {
    "duration": 20,
    "start_time": "2023-06-01T21:55:03.352Z"
   },
   {
    "duration": 33,
    "start_time": "2023-06-01T21:55:03.374Z"
   },
   {
    "duration": 355,
    "start_time": "2023-06-01T21:55:03.409Z"
   },
   {
    "duration": 168,
    "start_time": "2023-06-01T21:55:03.766Z"
   },
   {
    "duration": 157,
    "start_time": "2023-06-01T21:55:03.935Z"
   },
   {
    "duration": 162,
    "start_time": "2023-06-01T21:55:04.094Z"
   },
   {
    "duration": 734,
    "start_time": "2023-06-01T21:55:04.258Z"
   },
   {
    "duration": 12,
    "start_time": "2023-06-01T21:55:04.994Z"
   },
   {
    "duration": 8,
    "start_time": "2023-06-01T21:55:05.008Z"
   },
   {
    "duration": 486,
    "start_time": "2023-06-01T21:55:05.017Z"
   },
   {
    "duration": 632,
    "start_time": "2023-06-01T21:55:05.506Z"
   },
   {
    "duration": 514,
    "start_time": "2023-06-01T21:55:06.140Z"
   },
   {
    "duration": 493,
    "start_time": "2023-06-01T21:55:06.656Z"
   },
   {
    "duration": 4,
    "start_time": "2023-06-01T21:55:07.150Z"
   },
   {
    "duration": 19,
    "start_time": "2023-06-01T21:55:07.155Z"
   },
   {
    "duration": 14,
    "start_time": "2023-06-01T21:55:07.175Z"
   },
   {
    "duration": 129,
    "start_time": "2023-06-01T21:55:07.191Z"
   },
   {
    "duration": 0,
    "start_time": "2023-06-01T21:55:07.321Z"
   },
   {
    "duration": 0,
    "start_time": "2023-06-01T21:55:07.322Z"
   },
   {
    "duration": 0,
    "start_time": "2023-06-01T21:55:07.323Z"
   },
   {
    "duration": 0,
    "start_time": "2023-06-01T21:55:07.324Z"
   },
   {
    "duration": 9,
    "start_time": "2023-06-01T22:04:22.161Z"
   },
   {
    "duration": 1315,
    "start_time": "2023-06-01T22:04:38.110Z"
   },
   {
    "duration": 719,
    "start_time": "2023-06-01T22:04:39.427Z"
   },
   {
    "duration": 2,
    "start_time": "2023-06-01T22:04:40.147Z"
   },
   {
    "duration": 24,
    "start_time": "2023-06-01T22:04:40.151Z"
   },
   {
    "duration": 20,
    "start_time": "2023-06-01T22:04:40.176Z"
   },
   {
    "duration": 19,
    "start_time": "2023-06-01T22:04:40.198Z"
   },
   {
    "duration": 27,
    "start_time": "2023-06-01T22:04:40.218Z"
   },
   {
    "duration": 22,
    "start_time": "2023-06-01T22:04:40.246Z"
   },
   {
    "duration": 22,
    "start_time": "2023-06-01T22:04:40.269Z"
   },
   {
    "duration": 32,
    "start_time": "2023-06-01T22:04:40.293Z"
   },
   {
    "duration": 362,
    "start_time": "2023-06-01T22:04:40.326Z"
   },
   {
    "duration": 180,
    "start_time": "2023-06-01T22:04:40.690Z"
   },
   {
    "duration": 173,
    "start_time": "2023-06-01T22:04:40.871Z"
   },
   {
    "duration": 156,
    "start_time": "2023-06-01T22:04:41.047Z"
   },
   {
    "duration": 817,
    "start_time": "2023-06-01T22:04:41.205Z"
   },
   {
    "duration": 11,
    "start_time": "2023-06-01T22:04:42.023Z"
   },
   {
    "duration": 4,
    "start_time": "2023-06-01T22:04:42.036Z"
   },
   {
    "duration": 550,
    "start_time": "2023-06-01T22:04:42.042Z"
   },
   {
    "duration": 578,
    "start_time": "2023-06-01T22:04:42.594Z"
   },
   {
    "duration": 482,
    "start_time": "2023-06-01T22:04:43.174Z"
   },
   {
    "duration": 468,
    "start_time": "2023-06-01T22:04:43.657Z"
   },
   {
    "duration": 3,
    "start_time": "2023-06-01T22:04:44.127Z"
   },
   {
    "duration": 15,
    "start_time": "2023-06-01T22:04:44.131Z"
   },
   {
    "duration": 9,
    "start_time": "2023-06-01T22:04:44.147Z"
   },
   {
    "duration": 133,
    "start_time": "2023-06-01T22:04:44.157Z"
   },
   {
    "duration": 0,
    "start_time": "2023-06-01T22:04:44.292Z"
   },
   {
    "duration": 1,
    "start_time": "2023-06-01T22:04:44.293Z"
   },
   {
    "duration": 0,
    "start_time": "2023-06-01T22:04:44.295Z"
   },
   {
    "duration": 0,
    "start_time": "2023-06-01T22:04:44.296Z"
   },
   {
    "duration": 11,
    "start_time": "2023-06-01T22:05:22.120Z"
   },
   {
    "duration": 12,
    "start_time": "2023-06-01T22:06:31.037Z"
   },
   {
    "duration": 1384,
    "start_time": "2023-06-01T22:06:37.930Z"
   },
   {
    "duration": 791,
    "start_time": "2023-06-01T22:06:39.316Z"
   },
   {
    "duration": 3,
    "start_time": "2023-06-01T22:06:40.108Z"
   },
   {
    "duration": 27,
    "start_time": "2023-06-01T22:06:40.113Z"
   },
   {
    "duration": 9,
    "start_time": "2023-06-01T22:06:40.142Z"
   },
   {
    "duration": 4,
    "start_time": "2023-06-01T22:06:40.152Z"
   },
   {
    "duration": 10,
    "start_time": "2023-06-01T22:06:40.158Z"
   },
   {
    "duration": 5,
    "start_time": "2023-06-01T22:06:40.169Z"
   },
   {
    "duration": 62,
    "start_time": "2023-06-01T22:06:40.175Z"
   },
   {
    "duration": 28,
    "start_time": "2023-06-01T22:06:40.238Z"
   },
   {
    "duration": 396,
    "start_time": "2023-06-01T22:06:40.268Z"
   },
   {
    "duration": 184,
    "start_time": "2023-06-01T22:06:40.665Z"
   },
   {
    "duration": 171,
    "start_time": "2023-06-01T22:06:40.850Z"
   },
   {
    "duration": 153,
    "start_time": "2023-06-01T22:06:41.024Z"
   },
   {
    "duration": 788,
    "start_time": "2023-06-01T22:06:41.178Z"
   },
   {
    "duration": 23,
    "start_time": "2023-06-01T22:06:41.967Z"
   },
   {
    "duration": 11,
    "start_time": "2023-06-01T22:06:41.999Z"
   },
   {
    "duration": 562,
    "start_time": "2023-06-01T22:06:42.012Z"
   },
   {
    "duration": 643,
    "start_time": "2023-06-01T22:06:42.576Z"
   },
   {
    "duration": 539,
    "start_time": "2023-06-01T22:06:43.221Z"
   },
   {
    "duration": 558,
    "start_time": "2023-06-01T22:06:43.761Z"
   },
   {
    "duration": 4,
    "start_time": "2023-06-01T22:06:44.321Z"
   },
   {
    "duration": 6,
    "start_time": "2023-06-01T22:06:44.326Z"
   },
   {
    "duration": 28,
    "start_time": "2023-06-01T22:06:44.333Z"
   },
   {
    "duration": 2,
    "start_time": "2023-06-01T22:06:44.362Z"
   },
   {
    "duration": 162,
    "start_time": "2023-06-01T22:06:44.366Z"
   },
   {
    "duration": 14,
    "start_time": "2023-06-01T22:10:10.367Z"
   },
   {
    "duration": 18,
    "start_time": "2023-06-01T22:10:18.506Z"
   },
   {
    "duration": 12,
    "start_time": "2023-06-01T22:10:22.936Z"
   },
   {
    "duration": 14,
    "start_time": "2023-06-01T22:10:43.907Z"
   },
   {
    "duration": 6,
    "start_time": "2023-06-01T22:16:19.309Z"
   },
   {
    "duration": 317549,
    "start_time": "2023-06-01T22:17:24.925Z"
   },
   {
    "duration": 79,
    "start_time": "2023-06-05T14:14:14.435Z"
   },
   {
    "duration": 1960,
    "start_time": "2023-06-05T14:14:26.826Z"
   },
   {
    "duration": 4180,
    "start_time": "2023-06-05T14:14:28.788Z"
   },
   {
    "duration": 3,
    "start_time": "2023-06-05T14:14:32.970Z"
   },
   {
    "duration": 17,
    "start_time": "2023-06-05T14:14:32.977Z"
   },
   {
    "duration": 3,
    "start_time": "2023-06-05T14:14:32.996Z"
   },
   {
    "duration": 8,
    "start_time": "2023-06-05T14:14:33.000Z"
   },
   {
    "duration": 15,
    "start_time": "2023-06-05T14:14:33.009Z"
   },
   {
    "duration": 6,
    "start_time": "2023-06-05T14:14:33.026Z"
   },
   {
    "duration": 31,
    "start_time": "2023-06-05T14:14:33.034Z"
   },
   {
    "duration": 97,
    "start_time": "2023-06-05T14:14:33.069Z"
   },
   {
    "duration": 436,
    "start_time": "2023-06-05T14:14:33.168Z"
   },
   {
    "duration": 217,
    "start_time": "2023-06-05T14:14:33.606Z"
   },
   {
    "duration": 193,
    "start_time": "2023-06-05T14:14:33.825Z"
   },
   {
    "duration": 246,
    "start_time": "2023-06-05T14:14:34.019Z"
   },
   {
    "duration": 1057,
    "start_time": "2023-06-05T14:14:34.278Z"
   },
   {
    "duration": 35,
    "start_time": "2023-06-05T14:14:35.336Z"
   },
   {
    "duration": 7,
    "start_time": "2023-06-05T14:14:35.374Z"
   },
   {
    "duration": 707,
    "start_time": "2023-06-05T14:14:35.382Z"
   },
   {
    "duration": 764,
    "start_time": "2023-06-05T14:14:36.090Z"
   },
   {
    "duration": 684,
    "start_time": "2023-06-05T14:14:36.856Z"
   },
   {
    "duration": 632,
    "start_time": "2023-06-05T14:14:37.542Z"
   },
   {
    "duration": 4,
    "start_time": "2023-06-05T14:14:38.176Z"
   },
   {
    "duration": 40,
    "start_time": "2023-06-05T14:14:38.182Z"
   },
   {
    "duration": 46,
    "start_time": "2023-06-05T14:14:38.224Z"
   },
   {
    "duration": 14,
    "start_time": "2023-06-05T14:14:38.272Z"
   },
   {
    "duration": 7,
    "start_time": "2023-06-05T14:14:38.288Z"
   },
   {
    "duration": 12,
    "start_time": "2023-06-05T14:14:38.297Z"
   },
   {
    "duration": 13,
    "start_time": "2023-06-05T14:14:38.312Z"
   },
   {
    "duration": 146,
    "start_time": "2023-06-05T14:14:38.326Z"
   },
   {
    "duration": 11,
    "start_time": "2023-06-05T14:15:19.372Z"
   },
   {
    "duration": 11,
    "start_time": "2023-06-05T14:16:51.618Z"
   },
   {
    "duration": 1444,
    "start_time": "2023-06-05T14:24:38.483Z"
   },
   {
    "duration": 845,
    "start_time": "2023-06-05T14:24:39.929Z"
   },
   {
    "duration": 2,
    "start_time": "2023-06-05T14:24:40.776Z"
   },
   {
    "duration": 17,
    "start_time": "2023-06-05T14:24:40.780Z"
   },
   {
    "duration": 2,
    "start_time": "2023-06-05T14:24:40.798Z"
   },
   {
    "duration": 8,
    "start_time": "2023-06-05T14:24:40.802Z"
   },
   {
    "duration": 12,
    "start_time": "2023-06-05T14:24:40.812Z"
   },
   {
    "duration": 12,
    "start_time": "2023-06-05T14:24:40.825Z"
   },
   {
    "duration": 30,
    "start_time": "2023-06-05T14:24:40.850Z"
   },
   {
    "duration": 32,
    "start_time": "2023-06-05T14:24:40.882Z"
   },
   {
    "duration": 426,
    "start_time": "2023-06-05T14:24:40.916Z"
   },
   {
    "duration": 222,
    "start_time": "2023-06-05T14:24:41.344Z"
   },
   {
    "duration": 179,
    "start_time": "2023-06-05T14:24:41.568Z"
   },
   {
    "duration": 178,
    "start_time": "2023-06-05T14:24:41.749Z"
   },
   {
    "duration": 950,
    "start_time": "2023-06-05T14:24:41.929Z"
   },
   {
    "duration": 13,
    "start_time": "2023-06-05T14:24:42.880Z"
   },
   {
    "duration": 37,
    "start_time": "2023-06-05T14:24:42.895Z"
   },
   {
    "duration": 609,
    "start_time": "2023-06-05T14:24:42.934Z"
   },
   {
    "duration": 752,
    "start_time": "2023-06-05T14:24:43.545Z"
   },
   {
    "duration": 636,
    "start_time": "2023-06-05T14:24:44.299Z"
   },
   {
    "duration": 604,
    "start_time": "2023-06-05T14:24:44.937Z"
   },
   {
    "duration": 8,
    "start_time": "2023-06-05T14:24:45.543Z"
   },
   {
    "duration": 35,
    "start_time": "2023-06-05T14:24:45.553Z"
   },
   {
    "duration": 8,
    "start_time": "2023-06-05T14:24:45.590Z"
   },
   {
    "duration": 1486,
    "start_time": "2023-06-05T14:45:17.409Z"
   },
   {
    "duration": 774,
    "start_time": "2023-06-05T14:45:18.897Z"
   },
   {
    "duration": 2,
    "start_time": "2023-06-05T14:45:19.673Z"
   },
   {
    "duration": 10,
    "start_time": "2023-06-05T14:45:19.677Z"
   },
   {
    "duration": 5,
    "start_time": "2023-06-05T14:45:19.688Z"
   },
   {
    "duration": 17,
    "start_time": "2023-06-05T14:45:19.694Z"
   },
   {
    "duration": 15,
    "start_time": "2023-06-05T14:45:19.712Z"
   },
   {
    "duration": 20,
    "start_time": "2023-06-05T14:45:19.729Z"
   },
   {
    "duration": 23,
    "start_time": "2023-06-05T14:45:19.755Z"
   },
   {
    "duration": 28,
    "start_time": "2023-06-05T14:45:19.780Z"
   },
   {
    "duration": 391,
    "start_time": "2023-06-05T14:45:19.810Z"
   },
   {
    "duration": 197,
    "start_time": "2023-06-05T14:45:20.202Z"
   },
   {
    "duration": 192,
    "start_time": "2023-06-05T14:45:20.400Z"
   },
   {
    "duration": 184,
    "start_time": "2023-06-05T14:45:20.594Z"
   },
   {
    "duration": 912,
    "start_time": "2023-06-05T14:45:20.780Z"
   },
   {
    "duration": 13,
    "start_time": "2023-06-05T14:45:21.694Z"
   },
   {
    "duration": 6,
    "start_time": "2023-06-05T14:45:21.708Z"
   },
   {
    "duration": 597,
    "start_time": "2023-06-05T14:45:21.715Z"
   },
   {
    "duration": 715,
    "start_time": "2023-06-05T14:45:22.314Z"
   },
   {
    "duration": 567,
    "start_time": "2023-06-05T14:45:23.031Z"
   },
   {
    "duration": 596,
    "start_time": "2023-06-05T14:45:23.600Z"
   },
   {
    "duration": 7,
    "start_time": "2023-06-05T14:45:24.198Z"
   },
   {
    "duration": 158,
    "start_time": "2023-06-05T14:45:24.207Z"
   },
   {
    "duration": 0,
    "start_time": "2023-06-05T14:45:24.367Z"
   },
   {
    "duration": 0,
    "start_time": "2023-06-05T14:45:24.369Z"
   },
   {
    "duration": 14,
    "start_time": "2023-06-05T14:45:31.909Z"
   },
   {
    "duration": 10,
    "start_time": "2023-06-05T14:45:56.029Z"
   },
   {
    "duration": 13,
    "start_time": "2023-06-05T14:46:09.982Z"
   },
   {
    "duration": 16,
    "start_time": "2023-06-05T14:46:42.648Z"
   },
   {
    "duration": 8,
    "start_time": "2023-06-05T14:46:50.997Z"
   },
   {
    "duration": 9,
    "start_time": "2023-06-05T14:47:17.168Z"
   },
   {
    "duration": 8,
    "start_time": "2023-06-05T14:47:28.933Z"
   },
   {
    "duration": 16,
    "start_time": "2023-06-05T14:48:57.585Z"
   },
   {
    "duration": 17,
    "start_time": "2023-06-05T14:49:11.846Z"
   },
   {
    "duration": 16,
    "start_time": "2023-06-05T14:49:26.845Z"
   },
   {
    "duration": 4,
    "start_time": "2023-06-05T14:51:32.037Z"
   },
   {
    "duration": 4,
    "start_time": "2023-06-05T14:53:11.563Z"
   },
   {
    "duration": 437552,
    "start_time": "2023-06-05T14:53:20.851Z"
   },
   {
    "duration": 112,
    "start_time": "2023-06-05T15:00:57.062Z"
   },
   {
    "duration": 3690,
    "start_time": "2023-06-05T15:01:03.680Z"
   },
   {
    "duration": 2946,
    "start_time": "2023-06-05T15:01:42.012Z"
   },
   {
    "duration": 42469,
    "start_time": "2023-06-05T15:02:23.376Z"
   },
   {
    "duration": 14942,
    "start_time": "2023-06-05T15:03:59.192Z"
   },
   {
    "duration": 1425,
    "start_time": "2023-06-05T15:32:10.996Z"
   },
   {
    "duration": 818,
    "start_time": "2023-06-05T15:32:12.423Z"
   },
   {
    "duration": 2,
    "start_time": "2023-06-05T15:32:13.243Z"
   },
   {
    "duration": 24,
    "start_time": "2023-06-05T15:32:13.250Z"
   },
   {
    "duration": 3,
    "start_time": "2023-06-05T15:32:13.276Z"
   },
   {
    "duration": 9,
    "start_time": "2023-06-05T15:32:13.281Z"
   },
   {
    "duration": 11,
    "start_time": "2023-06-05T15:32:13.292Z"
   },
   {
    "duration": 6,
    "start_time": "2023-06-05T15:32:13.304Z"
   },
   {
    "duration": 44,
    "start_time": "2023-06-05T15:32:13.311Z"
   },
   {
    "duration": 35,
    "start_time": "2023-06-05T15:32:13.358Z"
   },
   {
    "duration": 402,
    "start_time": "2023-06-05T15:32:13.395Z"
   },
   {
    "duration": 240,
    "start_time": "2023-06-05T15:32:13.798Z"
   },
   {
    "duration": 253,
    "start_time": "2023-06-05T15:32:14.043Z"
   },
   {
    "duration": 252,
    "start_time": "2023-06-05T15:32:14.298Z"
   },
   {
    "duration": 1030,
    "start_time": "2023-06-05T15:32:14.552Z"
   },
   {
    "duration": 14,
    "start_time": "2023-06-05T15:32:15.583Z"
   },
   {
    "duration": 19,
    "start_time": "2023-06-05T15:32:15.599Z"
   },
   {
    "duration": 644,
    "start_time": "2023-06-05T15:32:15.620Z"
   },
   {
    "duration": 735,
    "start_time": "2023-06-05T15:32:16.267Z"
   },
   {
    "duration": 594,
    "start_time": "2023-06-05T15:32:17.004Z"
   },
   {
    "duration": 600,
    "start_time": "2023-06-05T15:32:17.600Z"
   },
   {
    "duration": 5,
    "start_time": "2023-06-05T15:32:18.202Z"
   },
   {
    "duration": 16,
    "start_time": "2023-06-05T15:32:18.209Z"
   },
   {
    "duration": 38,
    "start_time": "2023-06-05T15:32:18.227Z"
   },
   {
    "duration": 9,
    "start_time": "2023-06-05T15:32:18.268Z"
   },
   {
    "duration": 13,
    "start_time": "2023-06-05T15:32:18.279Z"
   },
   {
    "duration": 20,
    "start_time": "2023-06-05T15:32:18.294Z"
   },
   {
    "duration": 37,
    "start_time": "2023-06-05T15:32:18.319Z"
   },
   {
    "duration": 430354,
    "start_time": "2023-06-05T15:32:18.358Z"
   },
   {
    "duration": 3055,
    "start_time": "2023-06-05T15:39:28.714Z"
   },
   {
    "duration": 3191,
    "start_time": "2023-06-05T15:39:31.771Z"
   },
   {
    "duration": 14963,
    "start_time": "2023-06-05T15:39:34.963Z"
   },
   {
    "duration": 3,
    "start_time": "2023-06-05T15:39:49.928Z"
   },
   {
    "duration": 364,
    "start_time": "2023-06-05T15:39:49.933Z"
   },
   {
    "duration": 66,
    "start_time": "2023-06-08T13:32:19.209Z"
   },
   {
    "duration": 46,
    "start_time": "2023-06-08T13:36:55.893Z"
   },
   {
    "duration": 8,
    "start_time": "2023-06-08T13:37:20.116Z"
   },
   {
    "duration": 1644,
    "start_time": "2023-06-08T13:37:27.537Z"
   },
   {
    "duration": 2166,
    "start_time": "2023-06-08T13:37:29.183Z"
   },
   {
    "duration": 3,
    "start_time": "2023-06-08T13:37:31.353Z"
   },
   {
    "duration": 38,
    "start_time": "2023-06-08T13:37:31.357Z"
   },
   {
    "duration": 20,
    "start_time": "2023-06-08T13:37:31.396Z"
   },
   {
    "duration": 29,
    "start_time": "2023-06-08T13:37:31.418Z"
   },
   {
    "duration": 56,
    "start_time": "2023-06-08T13:37:31.449Z"
   },
   {
    "duration": 28,
    "start_time": "2023-06-08T13:37:31.507Z"
   },
   {
    "duration": 43,
    "start_time": "2023-06-08T13:37:31.538Z"
   },
   {
    "duration": 51,
    "start_time": "2023-06-08T13:37:31.583Z"
   },
   {
    "duration": 381,
    "start_time": "2023-06-08T13:37:31.635Z"
   },
   {
    "duration": 197,
    "start_time": "2023-06-08T13:37:32.018Z"
   },
   {
    "duration": 180,
    "start_time": "2023-06-08T13:37:32.217Z"
   },
   {
    "duration": 175,
    "start_time": "2023-06-08T13:37:32.399Z"
   },
   {
    "duration": 876,
    "start_time": "2023-06-08T13:37:32.577Z"
   },
   {
    "duration": 23,
    "start_time": "2023-06-08T13:37:33.456Z"
   },
   {
    "duration": 8,
    "start_time": "2023-06-08T13:37:33.481Z"
   },
   {
    "duration": 564,
    "start_time": "2023-06-08T13:37:33.491Z"
   },
   {
    "duration": 657,
    "start_time": "2023-06-08T13:37:34.057Z"
   },
   {
    "duration": 556,
    "start_time": "2023-06-08T13:37:34.716Z"
   },
   {
    "duration": 567,
    "start_time": "2023-06-08T13:37:35.274Z"
   },
   {
    "duration": 719,
    "start_time": "2023-06-08T13:37:35.843Z"
   },
   {
    "duration": 9,
    "start_time": "2023-06-08T13:37:36.564Z"
   },
   {
    "duration": 22,
    "start_time": "2023-06-08T13:37:36.575Z"
   },
   {
    "duration": 14,
    "start_time": "2023-06-08T13:37:36.599Z"
   },
   {
    "duration": 12,
    "start_time": "2023-06-08T13:37:36.615Z"
   },
   {
    "duration": 11,
    "start_time": "2023-06-08T13:37:36.631Z"
   },
   {
    "duration": 38,
    "start_time": "2023-06-08T13:37:36.644Z"
   },
   {
    "duration": 19,
    "start_time": "2023-06-08T13:37:36.684Z"
   },
   {
    "duration": 142351,
    "start_time": "2023-06-08T13:37:36.705Z"
   },
   {
    "duration": 0,
    "start_time": "2023-06-08T13:39:59.058Z"
   },
   {
    "duration": 0,
    "start_time": "2023-06-08T13:39:59.059Z"
   },
   {
    "duration": 0,
    "start_time": "2023-06-08T13:39:59.072Z"
   },
   {
    "duration": 0,
    "start_time": "2023-06-08T13:39:59.074Z"
   },
   {
    "duration": 16,
    "start_time": "2023-06-08T13:41:21.287Z"
   },
   {
    "duration": 13,
    "start_time": "2023-06-08T13:41:58.124Z"
   },
   {
    "duration": 14,
    "start_time": "2023-06-08T13:42:10.852Z"
   },
   {
    "duration": 14,
    "start_time": "2023-06-08T13:42:38.222Z"
   },
   {
    "duration": 13,
    "start_time": "2023-06-08T13:42:49.687Z"
   },
   {
    "duration": 10,
    "start_time": "2023-06-08T13:43:08.522Z"
   },
   {
    "duration": 8,
    "start_time": "2023-06-08T13:43:42.690Z"
   },
   {
    "duration": 9,
    "start_time": "2023-06-08T13:44:05.691Z"
   },
   {
    "duration": 9,
    "start_time": "2023-06-08T13:44:24.297Z"
   },
   {
    "duration": 14,
    "start_time": "2023-06-08T13:45:06.532Z"
   },
   {
    "duration": 9,
    "start_time": "2023-06-08T13:45:15.121Z"
   },
   {
    "duration": 54,
    "start_time": "2023-06-08T13:45:43.287Z"
   },
   {
    "duration": 8,
    "start_time": "2023-06-08T13:45:50.486Z"
   },
   {
    "duration": 9,
    "start_time": "2023-06-08T13:46:06.485Z"
   },
   {
    "duration": 10,
    "start_time": "2023-06-08T13:47:01.531Z"
   },
   {
    "duration": 8,
    "start_time": "2023-06-08T13:47:25.225Z"
   },
   {
    "duration": 151,
    "start_time": "2023-06-08T13:47:53.096Z"
   },
   {
    "duration": 143,
    "start_time": "2023-06-08T13:48:08.494Z"
   },
   {
    "duration": 14,
    "start_time": "2023-06-08T13:48:23.356Z"
   },
   {
    "duration": 150,
    "start_time": "2023-06-08T13:48:38.623Z"
   },
   {
    "duration": 49,
    "start_time": "2023-06-08T13:48:45.942Z"
   },
   {
    "duration": 16,
    "start_time": "2023-06-08T13:48:52.060Z"
   },
   {
    "duration": 543,
    "start_time": "2023-06-08T13:49:03.184Z"
   },
   {
    "duration": 667,
    "start_time": "2023-06-08T13:49:43.728Z"
   },
   {
    "duration": 16,
    "start_time": "2023-06-08T13:51:08.954Z"
   },
   {
    "duration": 147,
    "start_time": "2023-06-08T13:51:23.626Z"
   },
   {
    "duration": 162,
    "start_time": "2023-06-08T13:52:18.432Z"
   },
   {
    "duration": 532,
    "start_time": "2023-06-08T13:52:50.481Z"
   },
   {
    "duration": 1475,
    "start_time": "2023-06-08T13:53:19.122Z"
   },
   {
    "duration": 698,
    "start_time": "2023-06-08T13:53:20.599Z"
   },
   {
    "duration": 2,
    "start_time": "2023-06-08T13:53:21.299Z"
   },
   {
    "duration": 28,
    "start_time": "2023-06-08T13:53:21.303Z"
   },
   {
    "duration": 10,
    "start_time": "2023-06-08T13:53:21.333Z"
   },
   {
    "duration": 34,
    "start_time": "2023-06-08T13:53:21.345Z"
   },
   {
    "duration": 35,
    "start_time": "2023-06-08T13:53:21.381Z"
   },
   {
    "duration": 4,
    "start_time": "2023-06-08T13:53:21.418Z"
   },
   {
    "duration": 24,
    "start_time": "2023-06-08T13:53:21.423Z"
   },
   {
    "duration": 32,
    "start_time": "2023-06-08T13:53:21.449Z"
   },
   {
    "duration": 364,
    "start_time": "2023-06-08T13:53:21.483Z"
   },
   {
    "duration": 193,
    "start_time": "2023-06-08T13:53:21.849Z"
   },
   {
    "duration": 184,
    "start_time": "2023-06-08T13:53:22.044Z"
   },
   {
    "duration": 176,
    "start_time": "2023-06-08T13:53:22.232Z"
   },
   {
    "duration": 895,
    "start_time": "2023-06-08T13:53:22.410Z"
   },
   {
    "duration": 14,
    "start_time": "2023-06-08T13:53:23.307Z"
   },
   {
    "duration": 6,
    "start_time": "2023-06-08T13:53:23.322Z"
   },
   {
    "duration": 574,
    "start_time": "2023-06-08T13:53:23.330Z"
   },
   {
    "duration": 668,
    "start_time": "2023-06-08T13:53:23.906Z"
   },
   {
    "duration": 550,
    "start_time": "2023-06-08T13:53:24.576Z"
   },
   {
    "duration": 576,
    "start_time": "2023-06-08T13:53:25.128Z"
   },
   {
    "duration": 712,
    "start_time": "2023-06-08T13:53:25.706Z"
   },
   {
    "duration": 5,
    "start_time": "2023-06-08T13:53:26.420Z"
   },
   {
    "duration": 23,
    "start_time": "2023-06-08T13:53:26.427Z"
   },
   {
    "duration": 26,
    "start_time": "2023-06-08T13:53:26.452Z"
   },
   {
    "duration": 7,
    "start_time": "2023-06-08T13:53:26.481Z"
   },
   {
    "duration": 8,
    "start_time": "2023-06-08T13:53:26.490Z"
   },
   {
    "duration": 16,
    "start_time": "2023-06-08T13:53:26.500Z"
   },
   {
    "duration": 21,
    "start_time": "2023-06-08T13:53:26.518Z"
   },
   {
    "duration": 2233,
    "start_time": "2023-06-08T13:54:38.438Z"
   },
   {
    "duration": 711,
    "start_time": "2023-06-08T13:54:40.673Z"
   },
   {
    "duration": 3,
    "start_time": "2023-06-08T13:54:41.386Z"
   },
   {
    "duration": 14,
    "start_time": "2023-06-08T13:54:41.391Z"
   },
   {
    "duration": 6,
    "start_time": "2023-06-08T13:54:41.407Z"
   },
   {
    "duration": 16,
    "start_time": "2023-06-08T13:54:41.415Z"
   },
   {
    "duration": 31,
    "start_time": "2023-06-08T13:54:41.433Z"
   },
   {
    "duration": 12,
    "start_time": "2023-06-08T13:54:41.466Z"
   },
   {
    "duration": 40,
    "start_time": "2023-06-08T13:54:41.480Z"
   },
   {
    "duration": 33,
    "start_time": "2023-06-08T13:54:41.522Z"
   },
   {
    "duration": 382,
    "start_time": "2023-06-08T13:54:41.556Z"
   },
   {
    "duration": 199,
    "start_time": "2023-06-08T13:54:41.940Z"
   },
   {
    "duration": 184,
    "start_time": "2023-06-08T13:54:42.140Z"
   },
   {
    "duration": 172,
    "start_time": "2023-06-08T13:54:42.326Z"
   },
   {
    "duration": 880,
    "start_time": "2023-06-08T13:54:42.499Z"
   },
   {
    "duration": 13,
    "start_time": "2023-06-08T13:54:43.381Z"
   },
   {
    "duration": 7,
    "start_time": "2023-06-08T13:54:43.396Z"
   },
   {
    "duration": 601,
    "start_time": "2023-06-08T13:54:43.405Z"
   },
   {
    "duration": 675,
    "start_time": "2023-06-08T13:54:44.008Z"
   },
   {
    "duration": 560,
    "start_time": "2023-06-08T13:54:44.685Z"
   },
   {
    "duration": 545,
    "start_time": "2023-06-08T13:54:45.248Z"
   },
   {
    "duration": 713,
    "start_time": "2023-06-08T13:54:45.795Z"
   },
   {
    "duration": 5,
    "start_time": "2023-06-08T13:54:46.510Z"
   },
   {
    "duration": 22,
    "start_time": "2023-06-08T13:54:46.517Z"
   },
   {
    "duration": 15,
    "start_time": "2023-06-08T13:54:46.541Z"
   },
   {
    "duration": 20,
    "start_time": "2023-06-08T13:54:46.557Z"
   },
   {
    "duration": 9,
    "start_time": "2023-06-08T13:54:46.579Z"
   },
   {
    "duration": 15,
    "start_time": "2023-06-08T13:54:46.592Z"
   },
   {
    "duration": 22,
    "start_time": "2023-06-08T13:54:46.608Z"
   },
   {
    "duration": 1476,
    "start_time": "2023-06-08T13:55:55.016Z"
   },
   {
    "duration": 711,
    "start_time": "2023-06-08T13:55:56.493Z"
   },
   {
    "duration": 3,
    "start_time": "2023-06-08T13:55:57.205Z"
   },
   {
    "duration": 14,
    "start_time": "2023-06-08T13:55:57.211Z"
   },
   {
    "duration": 4,
    "start_time": "2023-06-08T13:55:57.227Z"
   },
   {
    "duration": 7,
    "start_time": "2023-06-08T13:55:57.233Z"
   },
   {
    "duration": 31,
    "start_time": "2023-06-08T13:55:57.241Z"
   },
   {
    "duration": 5,
    "start_time": "2023-06-08T13:55:57.274Z"
   },
   {
    "duration": 30,
    "start_time": "2023-06-08T13:55:57.281Z"
   },
   {
    "duration": 59,
    "start_time": "2023-06-08T13:55:57.314Z"
   },
   {
    "duration": 372,
    "start_time": "2023-06-08T13:55:57.375Z"
   },
   {
    "duration": 194,
    "start_time": "2023-06-08T13:55:57.749Z"
   },
   {
    "duration": 191,
    "start_time": "2023-06-08T13:55:57.945Z"
   },
   {
    "duration": 178,
    "start_time": "2023-06-08T13:55:58.138Z"
   },
   {
    "duration": 861,
    "start_time": "2023-06-08T13:55:58.318Z"
   },
   {
    "duration": 14,
    "start_time": "2023-06-08T13:55:59.181Z"
   },
   {
    "duration": 9,
    "start_time": "2023-06-08T13:55:59.196Z"
   },
   {
    "duration": 577,
    "start_time": "2023-06-08T13:55:59.207Z"
   },
   {
    "duration": 677,
    "start_time": "2023-06-08T13:55:59.786Z"
   },
   {
    "duration": 589,
    "start_time": "2023-06-08T13:56:00.465Z"
   },
   {
    "duration": 559,
    "start_time": "2023-06-08T13:56:01.056Z"
   },
   {
    "duration": 697,
    "start_time": "2023-06-08T13:56:01.616Z"
   },
   {
    "duration": 5,
    "start_time": "2023-06-08T13:56:02.315Z"
   },
   {
    "duration": 42,
    "start_time": "2023-06-08T13:56:02.321Z"
   },
   {
    "duration": 44,
    "start_time": "2023-06-08T13:56:02.365Z"
   },
   {
    "duration": 10,
    "start_time": "2023-06-08T13:56:02.412Z"
   },
   {
    "duration": 19,
    "start_time": "2023-06-08T13:56:02.424Z"
   },
   {
    "duration": 34,
    "start_time": "2023-06-08T13:56:02.447Z"
   },
   {
    "duration": 52,
    "start_time": "2023-06-08T13:56:02.483Z"
   },
   {
    "duration": 46,
    "start_time": "2023-06-08T14:03:14.859Z"
   },
   {
    "duration": 5,
    "start_time": "2023-06-08T14:03:45.793Z"
   },
   {
    "duration": 5,
    "start_time": "2023-06-08T14:03:52.858Z"
   },
   {
    "duration": 5,
    "start_time": "2023-06-08T14:04:08.486Z"
   },
   {
    "duration": 143,
    "start_time": "2023-06-08T14:04:50.177Z"
   },
   {
    "duration": 539,
    "start_time": "2023-06-08T14:04:59.137Z"
   },
   {
    "duration": 148,
    "start_time": "2023-06-08T14:05:36.516Z"
   },
   {
    "duration": 145,
    "start_time": "2023-06-08T14:05:46.373Z"
   },
   {
    "duration": 675,
    "start_time": "2023-06-08T14:06:04.559Z"
   },
   {
    "duration": 9,
    "start_time": "2023-06-08T14:06:16.860Z"
   },
   {
    "duration": 115,
    "start_time": "2023-06-08T14:06:29.229Z"
   },
   {
    "duration": 8,
    "start_time": "2023-06-08T14:06:58.209Z"
   },
   {
    "duration": 8,
    "start_time": "2023-06-08T14:07:14.783Z"
   },
   {
    "duration": 8,
    "start_time": "2023-06-08T14:07:37.296Z"
   },
   {
    "duration": 8,
    "start_time": "2023-06-08T14:08:06.451Z"
   },
   {
    "duration": 9,
    "start_time": "2023-06-08T14:08:18.001Z"
   },
   {
    "duration": 8,
    "start_time": "2023-06-08T14:08:55.959Z"
   },
   {
    "duration": 552,
    "start_time": "2023-06-08T14:10:19.115Z"
   },
   {
    "duration": 550,
    "start_time": "2023-06-08T14:10:42.796Z"
   },
   {
    "duration": 716,
    "start_time": "2023-06-08T14:10:55.993Z"
   },
   {
    "duration": 542,
    "start_time": "2023-06-08T14:11:06.247Z"
   },
   {
    "duration": 531,
    "start_time": "2023-06-08T14:11:17.310Z"
   },
   {
    "duration": 689,
    "start_time": "2023-06-08T14:12:01.507Z"
   },
   {
    "duration": 579,
    "start_time": "2023-06-08T14:12:20.861Z"
   },
   {
    "duration": 16,
    "start_time": "2023-06-08T14:13:00.295Z"
   },
   {
    "duration": 588,
    "start_time": "2023-06-08T14:13:06.895Z"
   },
   {
    "duration": 675,
    "start_time": "2023-06-08T14:13:43.370Z"
   },
   {
    "duration": 565,
    "start_time": "2023-06-08T14:13:57.946Z"
   },
   {
    "duration": 662,
    "start_time": "2023-06-08T14:14:31.939Z"
   },
   {
    "duration": 557,
    "start_time": "2023-06-08T14:14:46.262Z"
   },
   {
    "duration": 544,
    "start_time": "2023-06-08T14:14:57.689Z"
   },
   {
    "duration": 685,
    "start_time": "2023-06-08T14:15:17.404Z"
   },
   {
    "duration": 553,
    "start_time": "2023-06-08T14:15:27.040Z"
   },
   {
    "duration": 549,
    "start_time": "2023-06-08T14:15:34.295Z"
   },
   {
    "duration": 721,
    "start_time": "2023-06-08T14:15:40.046Z"
   },
   {
    "duration": 553,
    "start_time": "2023-06-08T14:15:48.530Z"
   },
   {
    "duration": 545,
    "start_time": "2023-06-08T14:15:53.561Z"
   },
   {
    "duration": 697,
    "start_time": "2023-06-08T14:15:59.021Z"
   },
   {
    "duration": 526,
    "start_time": "2023-06-08T14:16:03.671Z"
   },
   {
    "duration": 664,
    "start_time": "2023-06-08T14:16:10.243Z"
   },
   {
    "duration": 547,
    "start_time": "2023-06-08T14:16:23.406Z"
   },
   {
    "duration": 536,
    "start_time": "2023-06-08T14:16:29.193Z"
   },
   {
    "duration": 9,
    "start_time": "2023-06-08T14:17:09.178Z"
   },
   {
    "duration": 17,
    "start_time": "2023-06-08T14:17:43.720Z"
   },
   {
    "duration": 678,
    "start_time": "2023-06-08T14:18:28.125Z"
   },
   {
    "duration": 548,
    "start_time": "2023-06-08T14:19:31.951Z"
   },
   {
    "duration": 570,
    "start_time": "2023-06-08T14:19:35.739Z"
   },
   {
    "duration": 15,
    "start_time": "2023-06-08T14:19:45.097Z"
   },
   {
    "duration": 671,
    "start_time": "2023-06-08T14:19:55.478Z"
   },
   {
    "duration": 15,
    "start_time": "2023-06-08T14:21:47.526Z"
   },
   {
    "duration": 547,
    "start_time": "2023-06-08T14:21:54.739Z"
   },
   {
    "duration": 518,
    "start_time": "2023-06-08T14:22:29.492Z"
   },
   {
    "duration": 704,
    "start_time": "2023-06-08T14:23:13.391Z"
   },
   {
    "duration": 30,
    "start_time": "2023-06-08T14:23:57.124Z"
   },
   {
    "duration": 566,
    "start_time": "2023-06-08T14:24:08.960Z"
   },
   {
    "duration": 681,
    "start_time": "2023-06-08T14:27:30.886Z"
   },
   {
    "duration": 563,
    "start_time": "2023-06-08T14:27:38.409Z"
   },
   {
    "duration": 545,
    "start_time": "2023-06-08T14:27:53.798Z"
   },
   {
    "duration": 703,
    "start_time": "2023-06-08T14:27:59.837Z"
   },
   {
    "duration": 517,
    "start_time": "2023-06-08T14:28:32.808Z"
   },
   {
    "duration": 16,
    "start_time": "2023-06-08T14:30:53.014Z"
   },
   {
    "duration": 22,
    "start_time": "2023-06-08T14:31:42.877Z"
   },
   {
    "duration": 1165,
    "start_time": "2023-06-08T14:32:14.803Z"
   },
   {
    "duration": 21,
    "start_time": "2023-06-08T14:33:01.072Z"
   },
   {
    "duration": 990,
    "start_time": "2023-06-08T14:33:35.482Z"
   },
   {
    "duration": 904,
    "start_time": "2023-06-08T14:34:10.724Z"
   },
   {
    "duration": 1193,
    "start_time": "2023-06-08T14:34:27.370Z"
   },
   {
    "duration": 1459,
    "start_time": "2023-06-08T14:34:42.403Z"
   },
   {
    "duration": 3,
    "start_time": "2023-06-08T14:35:11.058Z"
   },
   {
    "duration": 1007,
    "start_time": "2023-06-08T14:38:01.183Z"
   },
   {
    "duration": 9,
    "start_time": "2023-06-08T14:38:45.971Z"
   },
   {
    "duration": 6,
    "start_time": "2023-06-08T14:39:02.039Z"
   },
   {
    "duration": 131,
    "start_time": "2023-06-08T14:39:19.011Z"
   },
   {
    "duration": 14,
    "start_time": "2023-06-08T14:39:33.936Z"
   },
   {
    "duration": 224,
    "start_time": "2023-06-08T14:39:53.279Z"
   },
   {
    "duration": 17,
    "start_time": "2023-06-08T14:40:42.078Z"
   },
   {
    "duration": 7,
    "start_time": "2023-06-08T14:40:54.995Z"
   },
   {
    "duration": 5,
    "start_time": "2023-06-08T14:41:58.342Z"
   },
   {
    "duration": 4,
    "start_time": "2023-06-08T14:43:44.254Z"
   },
   {
    "duration": 31,
    "start_time": "2023-06-08T14:45:03.215Z"
   },
   {
    "duration": 8,
    "start_time": "2023-06-08T14:45:17.725Z"
   },
   {
    "duration": 41,
    "start_time": "2023-06-08T19:02:13.146Z"
   },
   {
    "duration": 1500,
    "start_time": "2023-06-08T19:02:47.287Z"
   },
   {
    "duration": 66,
    "start_time": "2023-06-08T19:02:56.895Z"
   },
   {
    "duration": 1232,
    "start_time": "2023-06-08T19:03:10.644Z"
   },
   {
    "duration": 3222,
    "start_time": "2023-06-08T19:03:11.878Z"
   },
   {
    "duration": 2,
    "start_time": "2023-06-08T19:03:15.103Z"
   },
   {
    "duration": 48,
    "start_time": "2023-06-08T19:03:15.106Z"
   },
   {
    "duration": 17,
    "start_time": "2023-06-08T19:03:15.155Z"
   },
   {
    "duration": 16,
    "start_time": "2023-06-08T19:03:15.173Z"
   },
   {
    "duration": 11,
    "start_time": "2023-06-08T19:03:15.191Z"
   },
   {
    "duration": 19,
    "start_time": "2023-06-08T19:03:15.203Z"
   },
   {
    "duration": 23,
    "start_time": "2023-06-08T19:03:15.224Z"
   },
   {
    "duration": 25,
    "start_time": "2023-06-08T19:03:15.249Z"
   },
   {
    "duration": 314,
    "start_time": "2023-06-08T19:03:15.275Z"
   },
   {
    "duration": 164,
    "start_time": "2023-06-08T19:03:15.590Z"
   },
   {
    "duration": 155,
    "start_time": "2023-06-08T19:03:15.756Z"
   },
   {
    "duration": 149,
    "start_time": "2023-06-08T19:03:15.913Z"
   },
   {
    "duration": 714,
    "start_time": "2023-06-08T19:03:16.064Z"
   },
   {
    "duration": 11,
    "start_time": "2023-06-08T19:03:16.780Z"
   },
   {
    "duration": 15,
    "start_time": "2023-06-08T19:03:16.792Z"
   },
   {
    "duration": 476,
    "start_time": "2023-06-08T19:03:16.809Z"
   },
   {
    "duration": 535,
    "start_time": "2023-06-08T19:03:17.287Z"
   },
   {
    "duration": 450,
    "start_time": "2023-06-08T19:03:17.823Z"
   },
   {
    "duration": 451,
    "start_time": "2023-06-08T19:03:18.274Z"
   },
   {
    "duration": 5,
    "start_time": "2023-06-08T19:03:18.727Z"
   },
   {
    "duration": 24,
    "start_time": "2023-06-08T19:03:18.733Z"
   },
   {
    "duration": 19,
    "start_time": "2023-06-08T19:03:18.758Z"
   },
   {
    "duration": 7,
    "start_time": "2023-06-08T19:03:18.778Z"
   },
   {
    "duration": 8,
    "start_time": "2023-06-08T19:03:18.786Z"
   },
   {
    "duration": 18,
    "start_time": "2023-06-08T19:03:18.796Z"
   },
   {
    "duration": 18,
    "start_time": "2023-06-08T19:03:18.815Z"
   },
   {
    "duration": 360605,
    "start_time": "2023-06-08T19:03:18.834Z"
   },
   {
    "duration": 2168,
    "start_time": "2023-06-08T19:09:19.441Z"
   },
   {
    "duration": 12176,
    "start_time": "2023-06-08T19:09:21.611Z"
   },
   {
    "duration": 297,
    "start_time": "2023-06-08T19:09:33.789Z"
   },
   {
    "duration": 8,
    "start_time": "2023-06-08T19:09:34.087Z"
   },
   {
    "duration": 6852,
    "start_time": "2023-06-08T19:26:11.772Z"
   },
   {
    "duration": 7145,
    "start_time": "2023-06-08T19:26:45.212Z"
   },
   {
    "duration": 11426,
    "start_time": "2023-06-08T19:27:26.739Z"
   },
   {
    "duration": 18428,
    "start_time": "2023-06-08T19:27:49.793Z"
   },
   {
    "duration": 18431,
    "start_time": "2023-06-08T19:28:51.011Z"
   },
   {
    "duration": 116,
    "start_time": "2023-06-08T19:30:00.440Z"
   },
   {
    "duration": 196724,
    "start_time": "2023-06-08T19:35:24.562Z"
   },
   {
    "duration": 117,
    "start_time": "2023-06-09T16:18:35.786Z"
   },
   {
    "duration": 405,
    "start_time": "2023-06-09T16:20:03.152Z"
   }
  ],
  "kernelspec": {
   "display_name": "Python 3 (ipykernel)",
   "language": "python",
   "name": "python3"
  },
  "language_info": {
   "codemirror_mode": {
    "name": "ipython",
    "version": 3
   },
   "file_extension": ".py",
   "mimetype": "text/x-python",
   "name": "python",
   "nbconvert_exporter": "python",
   "pygments_lexer": "ipython3",
   "version": "3.9.5"
  },
  "toc": {
   "base_numbering": 1,
   "nav_menu": {},
   "number_sections": true,
   "sideBar": true,
   "skip_h1_title": true,
   "title_cell": "Содержание",
   "title_sidebar": "Contents",
   "toc_cell": true,
   "toc_position": {
    "height": "calc(100% - 180px)",
    "left": "10px",
    "top": "150px",
    "width": "165px"
   },
   "toc_section_display": true,
   "toc_window_display": true
  }
 },
 "nbformat": 4,
 "nbformat_minor": 2
}
